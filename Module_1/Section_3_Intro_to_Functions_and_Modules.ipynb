{
 "cells": [
  {
   "cell_type": "markdown",
   "metadata": {},
   "source": [
    "# 1.3 | Functions, Modules, and Packages\n",
    "\n",
    "__Why Should You Care?__<br>\n",
    "Before we get into what functions, modules, and packages are, lets talk about why you should care in the first place. Functions allow you to write a block of code that does something useful for you and then allows you to use it whenever you need it. When you create that block of code you can even improve on it when you learn new coding techniques, you can share it, and more! Modules and packages are examples of blocks of codes other people have written and shared. We will explore some common modules and packages in this notebook and later on in this course.\n",
    "\n",
    "__Technical Description__:<br>\n",
    "One of the key selling points of using Python is its versatility. Python comes pre-packaged with many built-in modules and functions that are handy when doing computational research. These include tools for handling file input and output, performing operations on strings, performing standard mathematical operations and doing many other common things. One module you'll use frequently is the math module, which makes it possible for you to compute trigonometric functions, factorials and logarithms, as well as accessing special numbers, like pi and infinity. With Python, you've got just about everything you need at your fingertips!\n",
    "\n",
    "So what exactly is the difference between a function, a module and a package?\n",
    "\n",
    "> - A function is a block of code that can be referenced and run from anywhere in your program<br>\n",
    "\n",
    "You can think of a function as a machine that is built for a specific task or tasks. In Python, you build one of these machines with code. In Python, you can think of \"keyword arguments\" (also known as \"kwargs\") and \"arguments\" as the gears that compose our machines. We will explain these further when we look at an example of a function. Note: kwargs are a type of argument, but not all arguments are keyword arguments.\n",
    "\n",
    "> - A module is a text file that contains a number of functions and other items<br>\n",
    "\n",
    "You can think of a module as a special type of machine that is already made for specific tasks.\n",
    "\n",
    "> - A package is a group of related modules<br>\n",
    "\n",
    "As you go through the course, you'll learn many more useful built-in functions, modules and packages. You'll also find that sometimes you need to define your own functions and modules to suit your specific needs, so we'll show you how to do that, too. To explore all the included functions in Python 3, check out the documentation __[here](https://docs.python.org/3/library/functions.html)__.\n",
    "\n"
   ]
  },
  {
   "cell_type": "markdown",
   "metadata": {},
   "source": [
    "## Some Built-in Functions\n",
    "Many useful functions are built into Python and can be used right away. Some common examples include,\n",
    "\n",
    "> range(max_number) : returns an object consisting of numbers from 0 up to number \"max_number\" minus one<br>\n",
    "> pow(x,y) : returns the value of the number base to the power exponent the result is equivalent to x**y\n",
    "                         \n",
    "Perhaps the most helpful function of all for a new programmer is the help function, which is available in an interactive Python session. You can request help on a specific module, keyword or topic using the following syntax:\n",
    "\n",
    "> help(FUNCTION_NAME)\n",
    "\n",
    "As an example, see the built-in help function to learn the full capabilities of the pow function  in the cell below\n"
   ]
  },
  {
   "cell_type": "code",
   "execution_count": 4,
   "metadata": {
    "ExecuteTime": {
     "end_time": "2021-05-27T17:36:16.001131Z",
     "start_time": "2021-05-27T17:36:15.996953Z"
    }
   },
   "outputs": [
    {
     "name": "stdout",
     "output_type": "stream",
     "text": [
      "Help on built-in function pow in module builtins:\n",
      "\n",
      "pow(base, exp, mod=None)\n",
      "    Equivalent to base**exp with 2 arguments or base**exp % mod with 3 arguments\n",
      "    \n",
      "    Some types, such as ints, are able to use a more efficient algorithm when\n",
      "    invoked using the three argument form.\n",
      "\n"
     ]
    }
   ],
   "source": [
    "# run this cell\n",
    "help(pow)"
   ]
  },
  {
   "cell_type": "markdown",
   "metadata": {},
   "source": [
    "### Getting detailed help - If you are using jupyter notebook\n",
    "if you are using jupyter notebooks, you can press the shift and then tab keys together to get the same information as help. \n",
    "\n",
    "Pressing shift + tab twice will show you the following:\n",
    "> format (or \"syntax\") of the function <br>\n",
    "> some language on how it works <br> \n",
    "> the type of function it is\n",
    "\n",
    "__Note:__ you must use this method of getting information with your cursor clicked next to the function.\n",
    "\n",
    "Try using this method on the pow function below!"
   ]
  },
  {
   "cell_type": "code",
   "execution_count": 6,
   "metadata": {
    "ExecuteTime": {
     "end_time": "2021-05-27T17:38:21.368698Z",
     "start_time": "2021-05-27T17:38:21.358028Z"
    }
   },
   "outputs": [
    {
     "data": {
      "text/plain": [
       "9"
      ]
     },
     "execution_count": 6,
     "metadata": {},
     "output_type": "execute_result"
    }
   ],
   "source": [
    "# press shift and then tab, then press them again with your cursor clicked next to the function\n",
    "pow(3,2)"
   ]
  },
  {
   "cell_type": "markdown",
   "metadata": {},
   "source": [
    "# Examples & Walkthroughs "
   ]
  },
  {
   "cell_type": "markdown",
   "metadata": {},
   "source": [
    "## Functions: Built-in Functions"
   ]
  },
  {
   "cell_type": "markdown",
   "metadata": {},
   "source": [
    "### The pow( ) function "
   ]
  },
  {
   "cell_type": "markdown",
   "metadata": {},
   "source": [
    "We're going to revisit the pow( ) function. Here is a quick reminder of what it is:\n",
    "\n",
    "> pow(x,y) : returns the value of the number x to the power y the result is equivalent to x**y (x raised to the y power)\n",
    "\n",
    "Let's discuss this function in terms of machines, tasks, and gears - the language we used earlier. The machine here is the pow() function. The task is raising the number x to the number y power. The gears here are x and y - they are the arguments necessary to make the machine work! Try running the next 2 cells below to see what happens if you dont use the machine with the right gear set up. <br>\n"
   ]
  },
  {
   "cell_type": "code",
   "execution_count": null,
   "metadata": {},
   "outputs": [],
   "source": [
    "# what do you think will happen if the pow() function doesn't have the arguements properly set up? Write below\n",
    "\n",
    "#Fill in here"
   ]
  },
  {
   "cell_type": "code",
   "execution_count": null,
   "metadata": {},
   "outputs": [],
   "source": [
    "pow()"
   ]
  },
  {
   "cell_type": "code",
   "execution_count": 7,
   "metadata": {
    "ExecuteTime": {
     "end_time": "2021-03-18T18:22:49.039169Z",
     "start_time": "2021-03-18T18:22:49.006739Z"
    }
   },
   "outputs": [
    {
     "ename": "TypeError",
     "evalue": "pow() takes no keyword arguments",
     "output_type": "error",
     "traceback": [
      "\u001b[0;31m---------------------------------------------------------------------------\u001b[0m",
      "\u001b[0;31mTypeError\u001b[0m                                 Traceback (most recent call last)",
      "\u001b[0;32m<ipython-input-7-bd0d1f11ae31>\u001b[0m in \u001b[0;36m<module>\u001b[0;34m\u001b[0m\n\u001b[0;32m----> 1\u001b[0;31m \u001b[0mpow\u001b[0m\u001b[0;34m(\u001b[0m\u001b[0mx\u001b[0m\u001b[0;34m=\u001b[0m\u001b[0;36m4\u001b[0m\u001b[0;34m)\u001b[0m\u001b[0;34m\u001b[0m\u001b[0;34m\u001b[0m\u001b[0m\n\u001b[0m",
      "\u001b[0;31mTypeError\u001b[0m: pow() takes no keyword arguments"
     ]
    }
   ],
   "source": [
    "pow(4)"
   ]
  },
  {
   "cell_type": "code",
   "execution_count": 1,
   "metadata": {
    "ExecuteTime": {
     "end_time": "2021-05-27T17:27:20.417313Z",
     "start_time": "2021-05-27T17:27:20.413275Z"
    }
   },
   "outputs": [
    {
     "name": "stdout",
     "output_type": "stream",
     "text": [
      "Help on built-in function pow in module builtins:\n",
      "\n",
      "pow(base, exp, mod=None)\n",
      "    Equivalent to base**exp with 2 arguments or base**exp % mod with 3 arguments\n",
      "    \n",
      "    Some types, such as ints, are able to use a more efficient algorithm when\n",
      "    invoked using the three argument form.\n",
      "\n"
     ]
    }
   ],
   "source": [
    "#Try the help function on pow() to see why exactly we got the errors we did!\n",
    "\n",
    "help(pow)"
   ]
  },
  {
   "cell_type": "markdown",
   "metadata": {},
   "source": [
    "### Pow( ) function recap "
   ]
  },
  {
   "cell_type": "markdown",
   "metadata": {},
   "source": [
    "In this built-in function example we established the following:\n",
    "\n",
    "> 1) The arguments must be properly set up for a given built-in function.<br>\n",
    "> 2) We can use the help fuction on built-in functions to see exactly what arguments are necessary.\n",
    "\n"
   ]
  },
  {
   "cell_type": "markdown",
   "metadata": {},
   "source": [
    "##  Your turn: the range( ) function"
   ]
  },
  {
   "cell_type": "markdown",
   "metadata": {},
   "source": [
    "We're going to revisit the range( ) function. Here is a quick reminder of what it is:\n",
    "\n",
    "> range(max_number) : returns a list of numbers from 0 up to max_number -1 <br>\n",
    "\n",
    "Let's discuss this function in terms of machines, tasks, and gears - the language we used earlier. You'll be in charge this time though :).<br>\n",
    "\n",
    "\n",
    "Answer the following questions in the markdown cell below (click into it to edit)<br>\n",
    "\n",
    "What do you think is the \"machine\"?<br>\n",
    "> **your answer here**:\n",
    "\n",
    "What do you think is the \"task\"?<br>\n",
    "> **your answer here**:\n",
    "\n",
    "What do you think is the gears? (hint: \"gears\" = the \"keyword arguements\" or \"arguments\")<br>\n",
    "> **your answer here**:"
   ]
  },
  {
   "cell_type": "markdown",
   "metadata": {},
   "source": [
    "## Writing your own function"
   ]
  },
  {
   "cell_type": "markdown",
   "metadata": {},
   "source": [
    "### Writing our equivalent to the pow( ) function"
   ]
  },
  {
   "cell_type": "markdown",
   "metadata": {},
   "source": [
    "We are going to walkthrough writing your own function by using the pow( ) function as an example. Remember, this is the pow( ) function:<br>\n",
    "\n",
    "> pow(x,y) : returns the value of the number x to the power y the result is equivalent to x**y (x raised to the y power)\n",
    "\n",
    "Now check out the function in the cell below that does something very similar. <br>\n",
    "Note 1: To start defining a function you must use \"def\" followed by the function name and keyword arguments. Look below to see this in action. <br>\n",
    "Note 2: Usage of colons and indents are important to writing functions, as you will see in the example below\n"
   ]
  },
  {
   "cell_type": "code",
   "execution_count": null,
   "metadata": {},
   "outputs": [],
   "source": [
    "def power_function_TEACH(keyword_argument_ONE, keyword_argument_TWO): # note the presence of a colon here!\n",
    "    base = keyword_argument_ONE      # assigning the variable \"base\" to whatever is assigned to the \n",
    "    # keyword argument \"keyword_argument_ONE\"\n",
    "    \n",
    "    exponent = keyword_argument_TWO     # Similarly, assigning the variable \"exponent\" to whatever is \n",
    "    # assigned to the keyword argument \"keyword_argument_TWO\"\n",
    "   \n",
    "    do_the_math = base ** exponent # this variable stores the operation we want - \"base\" to the power\n",
    "    # of \"exponent\"  \n",
    "    \n",
    "    return do_the_math # this line controls what this function, or machine, outputs - do_the_math\n",
    "\n",
    "# Connection to note 2: everything that is part of this function is indented "
   ]
  },
  {
   "cell_type": "markdown",
   "metadata": {},
   "source": [
    "Above you will see that we are very explicit in naming our keyword arguments (\"keyword_argument_ONE\" & \"keyword_argument_TWO\"). We did this in the function example above so you can see where keyword arguments are set when you define a function. Practically speaking, most people will choose names for keyword arguments that are more intuitive. See below for a function very similar to the one above, but written to be more practical than for teaching purposes"
   ]
  },
  {
   "cell_type": "code",
   "execution_count": null,
   "metadata": {},
   "outputs": [],
   "source": [
    "def power_function_PRACTICAL(x, y): \n",
    "    do_the_math = x ** y \n",
    "    return do_the_math \n"
   ]
  },
  {
   "cell_type": "markdown",
   "metadata": {},
   "source": [
    "### Your turn: what are the keyword arguments for \"power_function_PRACTICAL\"?\n",
    "> **your answer here**:"
   ]
  },
  {
   "cell_type": "markdown",
   "metadata": {},
   "source": [
    "### Functions and variables - using a built-in function"
   ]
  },
  {
   "cell_type": "markdown",
   "metadata": {},
   "source": [
    "You can store the outputs of a function to a variable by doing the following\n",
    "> variable_name = function_name(keyword_arguments...) <br>\n",
    "\n",
    "Here is a more concrete example, using a built-in function:\n",
    "> answer = pow(4,2)<br>\n",
    "\n",
    "What number do you think is saved in the variable \"answer\"?\n",
    "> **your answer here**:\n",
    "\n",
    "run the cell below to check!<br>\n",
    "\n",
    "Note: the most common way to say \"use a function\" is to say \"call a function\" we will adopt this language going forward "
   ]
  },
  {
   "cell_type": "code",
   "execution_count": null,
   "metadata": {},
   "outputs": [],
   "source": [
    "answer = pow(4,2)\n",
    "print(answer)"
   ]
  },
  {
   "cell_type": "markdown",
   "metadata": {},
   "source": [
    "### Functions and variables - using \"power_function_TEACH\""
   ]
  },
  {
   "cell_type": "markdown",
   "metadata": {},
   "source": [
    "You can store the outputs of a function you wrote as well\n",
    "> variable_name = your_written_function_name(keyword_arguments...) <br>\n",
    "\n",
    "Here is a concrete example, using \"power_function_TEACH\":\n",
    "> answer_two = power_function_TEACH(keyword_argument_ONE= 4,keyword_argument_TWO= 2)<br>\n",
    "\n",
    "What number do you think is saved in the variable \"answer\"?\n",
    "> **your answer here**:\n",
    "\n",
    "run the cell below to check!<br>"
   ]
  },
  {
   "cell_type": "code",
   "execution_count": null,
   "metadata": {},
   "outputs": [],
   "source": [
    "answer_two = power_function_TEACH(keyword_argument_ONE= 4,keyword_argument_TWO= 2)\n",
    "print (answer_two)"
   ]
  },
  {
   "cell_type": "markdown",
   "metadata": {},
   "source": [
    "### Your turn: save a variable while calling the \"power_function_PRACTICAL\" function below"
   ]
  },
  {
   "cell_type": "markdown",
   "metadata": {},
   "source": [
    "Save a variable in the cell below called \"answer_three\" that uses the \"power_function_PRACTICAL\" to save the number 25 to answer_three <br>\n",
    "print the output of this variable as well to confirm your function is working properly!<br>\n",
    "Note: refer to the example in 2.3.4 if you get stuck :)"
   ]
  },
  {
   "cell_type": "code",
   "execution_count": null,
   "metadata": {},
   "outputs": [],
   "source": [
    "# your code below\n",
    "\n"
   ]
  },
  {
   "cell_type": "markdown",
   "metadata": {},
   "source": [
    "## Built-In Function Practice:\n",
    "\n",
    "Use the following cell to practice working with two functions shown above, and be sure you understand how each statement works before you move on. Some things you can try:\n",
    "\n",
    "> - Use the range function to list out all numbers between 0-10\n",
    "> - Use the range function to list out all even numbers from 0 to -20 (i.e., 0, -2, -4, etc.)\n",
    "> - Pick some numbers to use with the pow( ) function. Just to refresh, can you remember the other way to compute a number A to the power of B? Compare and make sure they produce the same values.\n",
    "\n",
    "If you get stuck, try using the help() function!\n"
   ]
  },
  {
   "cell_type": "code",
   "execution_count": null,
   "metadata": {},
   "outputs": [],
   "source": []
  },
  {
   "cell_type": "markdown",
   "metadata": {},
   "source": [
    "## Function writing Practice\n",
    "__Situation__: You have a massive data set. In this data set, you have the temperatures for a thousand stars.<br>\n",
    "\n",
    "__Problem__: All the temperatures are in celsius! Since Kelvin is the standard unit used in most astronomy units you now have to convert all 1000 of those temperatures into Kelvin. You dont want to spend hours writing the same block of code for each data point in your data set!<br>\n",
    "\n",
    "__Task__: Take a small subset of these temperatures, just 1 of them, and save that temperature to a variable. Next, write a function that takes one of these temperatures (in celsius) as an argument and returns a temperature in Kelvin.\n",
    "\n",
    "Here is an equation you will need: \n",
    "\n",
    "A.&emsp;celsius to Kelvin Conversion $$C + 273.15 = K$$\n"
   ]
  },
  {
   "cell_type": "code",
   "execution_count": null,
   "metadata": {},
   "outputs": [],
   "source": [
    "## choose a random temperature \n",
    "## for reference, the temperature of the sun in celsius is 5505\n",
    "stellar_temp = "
   ]
  },
  {
   "cell_type": "code",
   "execution_count": null,
   "metadata": {},
   "outputs": [],
   "source": [
    "# write your function here\n",
    "\n"
   ]
  },
  {
   "cell_type": "code",
   "execution_count": null,
   "metadata": {},
   "outputs": [],
   "source": [
    "# Call your function here and print out the conversion of your stellar temp in kelvin\n"
   ]
  },
  {
   "cell_type": "markdown",
   "metadata": {},
   "source": [
    "### Closing notes for Functions:\n",
    "Doing a small test with your code is often very helpful in making sure it works the way you want it to! In this case we ran a calculation once. We can check our answer indepedently (via googling, using a calculator, etc). If we find out that our number is wrong, we could more easily find the bug in this small piece of code before potentially using it with another function. \n"
   ]
  },
  {
   "cell_type": "markdown",
   "metadata": {},
   "source": [
    "## Built-in Modules\n",
    "\n",
    "While python comes with many useful pre-packaged modules, they are not automatically imported into your program - this must be done manually with each python program or each interactive python session. So, with every new interactive session, or every new program you create, the modules you need must be imported first, using a simple command of import MODULE_NAME \n",
    "\n",
    "As you begin writing your own code to solve specific research problems, you'll find that sometimes your research will call for very specialized functions that only you (and maybe a handful of other people) will need. In these instances, you can build your own modules as separate Python programs and import them into other programs, just like you can with the built-in modules. Later in the course, you'll learn how creating your own modules can help you keep your growing collection of codes modular and organized.\n",
    "\n",
    "Some commonly use modules for astronomers are astropy, scipy, numpy, and mathplotlib. These are powerful and useful modules we will see in later in this course, so this is a heads up on that :). \n",
    "\n",
    "### Math Module\n",
    "\n",
    "Let's say we want to calculate the circumference of the earth. You may remember the formula: $C=2\\pi R\n",
    "$. How many digits of $\\pi$ can you rattle off by memory? $3.14159$... When it comes to $\\pi$ , Python's math module makes things easy for us. Try the following:"
   ]
  },
  {
   "cell_type": "code",
   "execution_count": null,
   "metadata": {},
   "outputs": [],
   "source": [
    "import math\n",
    "print(math.pi)"
   ]
  },
  {
   "cell_type": "markdown",
   "metadata": {},
   "source": [
    "In this case, we had to refer to the math module to access the number $\\pi$. There are variations on how you can import and refer to modules. Now try the following:"
   ]
  },
  {
   "cell_type": "code",
   "execution_count": null,
   "metadata": {},
   "outputs": [],
   "source": [
    "import math as m\n",
    "print(m.pi)"
   ]
  },
  {
   "cell_type": "code",
   "execution_count": null,
   "metadata": {},
   "outputs": [],
   "source": []
  },
  {
   "cell_type": "markdown",
   "metadata": {},
   "source": [
    "## Takeaways:\n",
    "\n",
    ">- Functions are a powerful way to write, reuse, and share your computer tools \n",
    "\n",
    "> - When learning Python, make use of available modules as much as possible. This will help you save time, and keep your collection of codes organized. Just remember - you have to import them into your script or interactive session, or you'll get an error.\n",
    "\n",
    "> - Take time to learn about the various built-in modules and functions available, and don't be afraid to ask around. It'll save you time in the end. When you need help learning about specific modules of functions, use Python's built-in help function."
   ]
  },
  {
   "cell_type": "code",
   "execution_count": null,
   "metadata": {},
   "outputs": [],
   "source": []
  }
 ],
 "metadata": {
  "kernelspec": {
   "display_name": "Python 3",
   "language": "python",
   "name": "python3"
  },
  "language_info": {
   "codemirror_mode": {
    "name": "ipython",
    "version": 3
   },
   "file_extension": ".py",
   "mimetype": "text/x-python",
   "name": "python",
   "nbconvert_exporter": "python",
   "pygments_lexer": "ipython3",
   "version": "3.8.8"
  },
  "toc": {
   "base_numbering": 1,
   "nav_menu": {},
   "number_sections": true,
   "sideBar": true,
   "skip_h1_title": false,
   "title_cell": "Table of Contents",
   "title_sidebar": "Contents",
   "toc_cell": false,
   "toc_position": {},
   "toc_section_display": true,
   "toc_window_display": false
  },
  "varInspector": {
   "cols": {
    "lenName": 16,
    "lenType": 16,
    "lenVar": 40
   },
   "kernels_config": {
    "python": {
     "delete_cmd_postfix": "",
     "delete_cmd_prefix": "del ",
     "library": "var_list.py",
     "varRefreshCmd": "print(var_dic_list())"
    },
    "r": {
     "delete_cmd_postfix": ") ",
     "delete_cmd_prefix": "rm(",
     "library": "var_list.r",
     "varRefreshCmd": "cat(var_dic_list()) "
    }
   },
   "types_to_exclude": [
    "module",
    "function",
    "builtin_function_or_method",
    "instance",
    "_Feature"
   ],
   "window_display": false
  }
 },
 "nbformat": 4,
 "nbformat_minor": 2
}
