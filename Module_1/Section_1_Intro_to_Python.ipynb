{
  "cells": [
    {
      "cell_type": "markdown",
      "metadata": {
        "id": "9pNtLXPWNBFY"
      },
      "source": [
        "# 1.1 | Getting Started with Python\n",
        "\n",
        "## 1.1.1 Why Python?\n",
        "\n",
        "Python is a computer programming language which allows you to perform mathematical calculations and visualize data. It was created by Guido van Rossum and released in 1991. It is easy to learn, easy to read, and can accomplish complicated tasks with very few lines of code. Python has quickly become one of the most popular coding languages when computing in scientific and many other industries. Perhaps most importantly, there are many libraries (sets of pre-written functions) that have been developed for Python. Often, the best way to accomplish a coding task is to find a library that has already solved the task for you.\n",
        "\n",
        "But to be able to leverage all that Python offers, you must start with the basics. As you go through this course, you will be provided with many exercises to complete. Two very important points we want to make at the outset:\n",
        "\n",
        "1. When learning to code, it's important to actually do it! It's easy to simply look at code and say to yourself, \"yeah, that makes sense, I think I've got it!\" But seeing it and doing it are two very different things. Trust us!\n",
        "\n",
        "2. We obviously cannot cover everything in this course, so if there's ever something that you don't completely understand, or that you're interested in learning more about, look it up! Google things liberally and shamelessly, because there are tons of excellent Python resources out there. Reviewing different tutorials, examples, and forums will help you become familiar with the language more quickly.\n",
        "\n",
        "## 1.1.2 The Makings of a Program\n",
        "\n",
        "The details look different in every language, but most programs include these basic elements\n",
        "- __Input:__ Read in data from the keyboard, a file, or some other device\n",
        "- __Output:__ Display information on the screen, send it to a file or other device\n",
        "- __Math:__ Perform mathematical operations (i.e. addition, multiplication, or trigonometric functions)\n",
        "\n",
        "As we go through this course, we'll cover all of these basic elements of a computer program. We'll work with Colab notebooks where you can develop your code.\n",
        "\n",
        "The easiest way to start learning is by jumping right into an interactive session, where you get to see the results of the code you enter immediately."
      ]
    },
    {
      "cell_type": "markdown",
      "metadata": {
        "id": "BvfAaDkmNBFY"
      },
      "source": [
        "## 1.1.3 Using Python as a Calculator\n",
        "We cannot emphasize enough the importance of actually performing these coding examples yourself, so make sure you *do each exercise* to the best of your abilities, and don't move on until you get it. \n",
        "\n",
        "The basic mathematical operations are written as follows: \n",
        "    \n",
        "| operation          | syntax   |\n",
        "| :----------------- | :------- |\n",
        "| __addition__       | `x + y`  |\n",
        "| __subtraction__    | `x - y`  |\n",
        "| __multiplication__ | `x * y`  |\n",
        "| __division__       | `x / y`  |\n",
        "| __modulo__         | `x % y`  |\n",
        "    \n",
        "Try using code cells as a calculator by performing a few simple arithmetic operations as shown below. \n",
        "\n",
        "```python\n",
        "2 + 2\n",
        "99 - 1\n",
        "24 * 7\n",
        "4 / 2\n",
        "```"
      ]
    },
    {
      "cell_type": "markdown",
      "source": [
        "Copy the above operations. We have included the first one for you."
      ],
      "metadata": {
        "id": "riIkt98IiuAA"
      }
    },
    {
      "cell_type": "code",
      "execution_count": null,
      "metadata": {
        "id": "CcMFN0hQNBFY"
      },
      "outputs": [],
      "source": [
        "2 + 2"
      ]
    },
    {
      "cell_type": "markdown",
      "metadata": {
        "id": "JbjkkxwuNBFY"
      },
      "source": [
        "Python is fairly intuitive in comparison to some other languages, so most basic arithmetic operations will work as you'd expect. Now try out the following:\n",
        "\n",
        "```python\n",
        "3**2\n",
        "```"
      ]
    },
    {
      "cell_type": "code",
      "execution_count": null,
      "metadata": {
        "id": "hZPpaEj7NBFY"
      },
      "outputs": [],
      "source": [
        ""
      ]
    },
    {
      "cell_type": "markdown",
      "metadata": {
        "id": "h0hLtk2iNBFY"
      },
      "source": [
        "Python uses `**` for exponentiation (not the `^` symbol, which is used in some other languages).\n"
      ]
    },
    {
      "cell_type": "markdown",
      "metadata": {
        "id": "65whNeTXNBFY"
      },
      "source": [
        "What can we do with the numbers we're working with? One of the most useful things we can do is display them using the print statement. Let's print out some numbers:\n",
        "\n",
        "```python\n",
        "print(1)\n",
        "print(1,2,3)\n",
        "print(13+26)\n",
        "print(10**2)\n",
        "```"
      ]
    },
    {
      "cell_type": "code",
      "execution_count": null,
      "metadata": {
        "id": "ziw93e_PNBFY"
      },
      "outputs": [],
      "source": [
        ""
      ]
    },
    {
      "cell_type": "markdown",
      "metadata": {
        "id": "Dh9Kl9TGNBFY"
      },
      "source": [
        "## 1.1.4 Comments\n",
        "\n",
        "It's often helpful to yourself, and others who may look at your code, to include explanations of what your code is doing. This will particularly helpful as you continue your coding journey and inevitably look back at code you haven't touched in a long time! To initiate a comment in a line of Python code you must use the hashtag symbol `#`. Everything after a hashtag is a comment, which means your computer will ignore it - so comments are just for us humans.\n",
        "\n",
        "Now that we have a few example of running code with our python calculator, let's look at a few examples involving comments to further cement our understanding of them. "
      ]
    },
    {
      "cell_type": "markdown",
      "metadata": {
        "id": "MMQ8g77QNBFY"
      },
      "source": [
        "#### Walkthrough: Comments are ignored by computer  \n",
        "Let's run the cell below. Note that the first line is a comment and is ignored by the computer."
      ]
    },
    {
      "cell_type": "code",
      "execution_count": null,
      "metadata": {
        "id": "KfTCX_I7NBFY"
      },
      "outputs": [],
      "source": [
        "# this is my comment\n",
        "2 + 2"
      ]
    },
    {
      "cell_type": "markdown",
      "metadata": {
        "id": "p_2s1K3XNBFY"
      },
      "source": [
        "Look at the example below, <span style=\"color: red\">but don't run</span> the cell below just yet. What do you think will be the output of this cell?"
      ]
    },
    {
      "cell_type": "code",
      "execution_count": null,
      "metadata": {
        "id": "aTwesacyNBFY"
      },
      "outputs": [],
      "source": [
        "# this is my comment\n",
        "# 2+2"
      ]
    },
    {
      "cell_type": "markdown",
      "metadata": {
        "id": "HJT1f_3wNBFY"
      },
      "source": [
        "## 1.1.5 Data types and precision\n",
        "\n",
        "Precision is a measure of the detail in which a quantity is expressed. In math or science, it's usually measured in decimal digits. An example that would necessitate more precision would be the numbers that a Global Positioning System (GPS) tracks. If the system the GPS is being used in is not precise enough, there could be bad consequences! For example, consider a siutation where you had a bad GPS tracker that only kept track of distances rounded to the nearest 1000 meters to save on memory **and** you wanted to go to a movie theater that was 1500 meters away. Since your bad GPS tracker can only return a distance of 1000 or 2000 meters given its limitations, you can only get a location that is 500 meters away from where you actually want to be!\n",
        "\n",
        "Python also distinguishes between different types of numbers. As a scientist doing computational work, it's critical to pay attention to both the precision and types of numbers you're working with, or you may end up with incorrect results. The most commonly used data types are strings, integers, and floats.\n",
        "\n",
        "### 1.1.5.1 Strings\n",
        "\n",
        "Strings are a sequence of characters or symbols and indicated using quotation marks. For example,\n"
      ]
    },
    {
      "cell_type": "code",
      "execution_count": null,
      "metadata": {
        "id": "Xoa-JUWqNBFY"
      },
      "outputs": [],
      "source": [
        "print(\"There are 8 planets in the solar system.\")\n",
        "print()\n",
        "print(\"Jupyter is the largest planet in the solar system.\")\n",
        "print()\n",
        "print(\"Jupyter has 79 moons.\")"
      ]
    },
    {
      "cell_type": "markdown",
      "metadata": {
        "id": "JImX-VU6NBFY"
      },
      "source": [
        "### 1.1.5.2 Integers\n",
        "\n",
        "Integers are either positive or negative whole numbers with no decimal points. \n",
        "- Example of integers: `0`, `-13`, `879`\n",
        "- Example of not integers: `1.43`, `3/4`, `-3.4`, `0.9`, `1.00`\n",
        "\n",
        "You can print the data type of a number (e.g., `79`) using the `type()` function in python. Try executing the following:\n",
        "\n",
        "```python\n",
        "print(79)\n",
        "print(type(79))\n",
        "print(\"The number of Jupyter's moons is \", 79)\n",
        "```"
      ]
    },
    {
      "cell_type": "code",
      "execution_count": null,
      "metadata": {
        "id": "L0jgPWv7NBFY"
      },
      "outputs": [],
      "source": [
        ""
      ]
    },
    {
      "cell_type": "markdown",
      "metadata": {
        "id": "iz1pGQVFNBFY"
      },
      "source": [
        "The output `<class 'int'>` indicates that the data type of your number is integer or `int`."
      ]
    },
    {
      "cell_type": "markdown",
      "metadata": {
        "id": "aNWnxeslNBFY"
      },
      "source": [
        "### 1.1.5.3 Floats\n",
        "\n",
        "Float-point numbers, or _floats_, are numbers that are _not_ integers, i.e., they have decimal points. It may be a little confusing at first, but `1` is an integer, and `1.0` is a float. The number `1.` (with the dot, but without the zero) is also a float. Floats can also implement the scientific notation with an upper or lower case `E`, representing the power of 10. For example, `4.6E17` would be interpreted as $4.6\\times10^{17}$.\n",
        "\n",
        "- Examples: `45.0`, `2.19`, `3.14159265358979`\n",
        "\n",
        "Run the following cell:\n",
        "\n",
        "```python\n",
        "print(\"Surface temperature of the Sun is \", 5778.0, \"K\")\n",
        "print(\"Radius of the Sun is \", 6.957e8, \"m\")\n",
        "print(\"Mass of the Sun is \", 1.989e30,\"kg\")\n",
        "```"
      ]
    },
    {
      "cell_type": "code",
      "execution_count": null,
      "metadata": {
        "id": "yQ0CjWfyNBFY"
      },
      "outputs": [],
      "source": [
        "\n"
      ]
    },
    {
      "cell_type": "markdown",
      "metadata": {
        "id": "xrasm8CBNBFY"
      },
      "source": [
        "### 1.1.5.4 Changing Data Types\n",
        "Sometimes you may find it necessary to convert a number or variable from one data type to another. Most commonly, you'd do conversions such as these:\n",
        "\n",
        "```python\n",
        "float(5)     # Converts integer 5 to a float, resulting in 5.0\n",
        "int(10.7)    # Converts float 10.7 to an integer, resulting in 10\n",
        "```\n",
        "\n",
        "Run the following in the cell below to see more examples!\n",
        "\n",
        "<span style=\"font-variant:small-caps;\">__Note__</span>: When converting to an int, unless otherwise prompted, Python will always round down.\n",
        "\n",
        "```python\n",
        "print(10, \"which is intially of type\", type(10))\n",
        "print(\"now let's change this to a float\")\n",
        "print(float(10), \"which is of type\", type(float(10)))\n",
        "print(5.0, \"which is initially of type\", type(5.0))\n",
        "print(\"now let's change this to an integer\")\n",
        "print(int(5.0), \"which is of type\", type(int(5.0)))\n",
        "```"
      ]
    },
    {
      "cell_type": "code",
      "execution_count": null,
      "metadata": {
        "id": "vizeRsPONBFY"
      },
      "outputs": [],
      "source": [
        ""
      ]
    },
    {
      "cell_type": "markdown",
      "metadata": {
        "id": "ZynvMOjnNBFY"
      },
      "source": [
        "Play around with these calculations until you understand how Python will behave when performing calculations using different combinations of floats and integers. While you're at it, try some variations of these calculations. As a general principle for learning Python, or any other programming language, trial and error can go a long way!"
      ]
    },
    {
      "cell_type": "markdown",
      "metadata": {
        "id": "qUKONZQbNBFY"
      },
      "source": [
        "## 1.1.6 Variables and Assignments\n",
        "\n",
        "##### What are variables?\n",
        "\n",
        "We represent quantities of interest like position, velocity, temperature, time, etc. in a code by means of variables. To assign a number to a variable, we use the assignment command = with your chosen variable name on the left, and the \"object\" you'd like to assign to that variable name on the right side. For example, we want to represent the position of an object with variable $x$ and assign it the value 1. Then, we write\n",
        "\n",
        "```python\n",
        "x = 1\n",
        "```"
      ]
    },
    {
      "cell_type": "code",
      "execution_count": null,
      "metadata": {
        "id": "ykgbELQ5NBFY"
      },
      "outputs": [],
      "source": [
        "x = 1"
      ]
    },
    {
      "cell_type": "markdown",
      "metadata": {
        "id": "LM8II4zENBFY"
      },
      "source": [
        "### 1.1.6.1 How can I check what is in a variable?\n",
        " \n",
        "You can use functions like `print()` and `type()`. If you use the `print()` function on a variable, this is equivalent to opening the box, turning it upside down so that everything falls out. In your Colab notebook, using the `print()` function on a variable will print out whatever has been assigned to it. Using the function `type()` on a variable will give you information about *what* is assigned in the variable. What do you think will the output of the code below be? \n",
        "\n",
        "```python\n",
        "print(x)\n",
        "print(\"The value of x is\", x)\n",
        "print(type(x))\n",
        "```"
      ]
    },
    {
      "cell_type": "code",
      "execution_count": null,
      "metadata": {
        "id": "T9FvaDxDNBFY"
      },
      "outputs": [],
      "source": [
        ""
      ]
    },
    {
      "cell_type": "markdown",
      "metadata": {
        "id": "7ZG0nKqTNBFY"
      },
      "source": [
        "### 1.1.6.2 When should I use variables?\n",
        "\n",
        "When you know that you'll be using a number or other object more than once, it is wise to assign it to a variable. The assigned value will be stored throughout a given program or an interactive Python session until the session ends or the variable is reassigned. \n",
        "\n",
        "Note that the object can be a number `x = 1` or a string `x = 'position'` . The sample code below demonstrates variable assignments. Note the use of the quotes around the string in the second example. Without the quotes, the string `Sun` would be interpreted as a variable, which would return an error, subce no such variable has been previously assigned. \n",
        "\n",
        "If you have a variable that represents, say, the radius of the Sun, you may call it `R`. You may sometimes use longer variable names to describe what they represents, which make it more meaningful and easy to recall. For example, you can use the underscore symbol \"\\_\" to combine words, e.g., `R_sun`.\n",
        "\n",
        "```python\n",
        "star  =  \"Sun\"\n",
        "R_sun =  6.957e8    # meters\n",
        "M_sun =  1.989e30   # kg\n",
        "T_sun =  5778.0     # Kelvin\n",
        "```\n",
        "\n",
        "Let's try out some examples:\n",
        "\n",
        "```python\n",
        "print(\"Surface temperature of the Sun is \", T_sun, \"K\")\n",
        "print(\"Radius of the Sun is \", R_sun, \"m\")\n",
        "print(\"Mass of the Sun is \", M_sun,\"kg\")\n",
        "```\n"
      ]
    },
    {
      "cell_type": "code",
      "execution_count": null,
      "metadata": {
        "id": "7kI8cAnaNBFY"
      },
      "outputs": [],
      "source": [
        ""
      ]
    },
    {
      "cell_type": "markdown",
      "metadata": {
        "id": "i0ezxSdwNBFY"
      },
      "source": [
        "**Recall that we did the examples above in section Floats. Discuss differences between them.**"
      ]
    },
    {
      "cell_type": "markdown",
      "metadata": {
        "id": "EBN79Il1NBFY"
      },
      "source": [
        "### 1.1.6.3 Rules for Selecting Variable Names\n",
        "\n",
        "- Cannot start with a numeric digit (1var is not allowed)\n",
        "- Cannot contain spaces, quotation marks, or other punctuation (my variable, \"my_var\", my_var!# are not allowed)\n",
        " - my variable has a space, \"my_var\" has quotes, and my_var!# has punctuation\n",
        "- Can contain underscores, which are typically used to separate words in long variable names (my_var and student_grades are allowed))\n"
      ]
    },
    {
      "cell_type": "markdown",
      "metadata": {
        "id": "sfM15lohNBFY"
      },
      "source": [
        "#### More Variable Examples\n",
        "```python\n",
        "PI_int = 3                  # saves the integer 3 to the variable `PI_int`\n",
        "PI_float = 3.14159265358979 # saves the float 3.14159265358979 to the variable `PI_float`\n",
        "PI_string = \"pi number\"     # saves the string \"pi number\" to the variable `PI_string`\n",
        "```\n",
        "Try using the Python cell below to save three variables. Try making a variable that stores one of each: an integer, a float, and a string. Try including some comments that are explicit about what you're saving to these variables<br> \n",
        "Hint: you can  check that they are the right type using \"print (type(your_variable))\"! \n",
        "- Example: \n",
        "```python \n",
        "type(PI_string) # this would print out a string that says \"str\", confirming that the data stored to `PI_string` is a string\n",
        "```\n"
      ]
    },
    {
      "cell_type": "code",
      "execution_count": null,
      "metadata": {
        "ExecuteTime": {
          "end_time": "2021-05-27T17:22:23.859127Z",
          "start_time": "2021-05-27T17:22:23.857234Z"
        },
        "id": "QUYOFwVyNBFY"
      },
      "outputs": [],
      "source": [
        "# save an integer below here\n",
        "\n",
        "\n",
        "\n",
        "# save a float below here\n",
        "\n",
        "\n",
        "\n",
        "# save a string below here\n",
        "\n",
        "\n"
      ]
    },
    {
      "cell_type": "markdown",
      "metadata": {
        "id": "2JDXDPhVNBFY"
      },
      "source": [
        " ### Practice \n",
        " - Use the assignment operator `=` to create a variable that stores your name\n",
        " - Create another variable to store your birth year\n",
        " - Print out your name and birth year on separate lines\n",
        "\n",
        " - Create output in the form of a sentence that looks like the following using the variables you made for your name and birth year:<br>\n",
        " My name is \"your name\" and my birth year is \"your birth year\""
      ]
    },
    {
      "cell_type": "code",
      "execution_count": null,
      "metadata": {
        "id": "2VKo8yCwNBFY"
      },
      "outputs": [],
      "source": [
        "# your code here!"
      ]
    },
    {
      "cell_type": "markdown",
      "metadata": {
        "id": "nyxvJlE9NBFY"
      },
      "source": [
        "#### Python Calculator with Variables\n",
        "\n",
        "It is often very helpful to do arithmetic with variables! Let's use an example where we calculate the escape speed from the surface of the Sun.\n",
        "\n",
        "Imagine that you throw a ball vertically up from the surface of the Sun. If the ball does not have enough energy, it falls back down due to the gravitational attraction of the Sun. If you throw the ball with a higher speed, giving more energy, the ball may escape the surface of the Sun. We can find the minimum required speed using the following formula:<br>\n",
        "\n",
        "$v_{\\rm escape} = \\sqrt{\\frac{2G M_{\\rm sun}}{R_{\\rm sun}}}$,\n",
        "\n",
        "where $G$ is the gravitational constant, $M_{\\rm sun}$ and $R_{\\rm sun}$ are the mass and radius of the Sun. Let's define variables that corresponding these parameters:\n",
        "\n",
        "```python\n",
        "G = 6.67408e-11     # N m^2 kg^-2\n",
        "R_sun =  6.957e8    # meters\n",
        "M_sun =  1.989e30   # kg\n",
        "```\n",
        "\n",
        "Now, define the escape speed `v_escape` using the variables above:\n",
        "```python\n",
        "v_escape = (2* G * M_sun / R_sun)**0.5\n",
        "print('The escape speed from the surface of the Sun is ', v_escape, 'km/s'.)\n",
        "```\n",
        "\n",
        "Try out this example in below cell. What is the escape speed?"
      ]
    },
    {
      "cell_type": "code",
      "execution_count": null,
      "metadata": {
        "id": "JiHEfi6YNBFY"
      },
      "outputs": [],
      "source": [
        ""
      ]
    },
    {
      "cell_type": "markdown",
      "metadata": {
        "id": "AIfylnfSNBFY"
      },
      "source": [
        "# Mini Challenge 1: Kinematics"
      ]
    },
    {
      "cell_type": "markdown",
      "metadata": {
        "id": "rVmp_YczNBFY"
      },
      "source": [
        "## Calculating acceleration in one dimensional motion \n"
      ]
    },
    {
      "cell_type": "markdown",
      "metadata": {
        "id": "BUH4x0qUNBFY"
      },
      "source": [
        "<b>Situation:</b> An ice skater starts at the left end of the rink and moves with the velocity shown in the plot below.\n",
        "\n",
        "![Ice Skating image](https://github.com/mcstroh/REACHpy/blob/ideaspy_updates/Module_1/images/ice_skater_plot.png?raw=1)\n",
        "\n",
        "An equation you may find helpful:\n",
        "\n",
        "A.&emsp;Acceleration is the slope of the velocity graph $$a_{x} = \\frac{\\Delta v_{x}}{\\Delta t} = \\frac{v_{f}-v_{i}}{t_{f}-t_{i}}$$\n",
        "\n",
        "<b>Qualitative questions</b>\n",
        "1. During what times is the ice skater's velocity positive?\n",
        "2. During what times is the ice skater's velocity negative?\n",
        "3. At which point(s) is the ice skater momentarily still?\n",
        "4. Does the ice skater turn around? if so, when?\n",
        "\n",
        "<b>Quantitative questions:</b><br/>\n",
        "Hint: For the following two questions, define the variables you need (e.g., `v_f`, `v_i`, `t_f` and `t_i`) so that you can use the acceleration equation given above.\n",
        "\n",
        "1. What is ice skater's acceleration during the first 6 seconds?<br>\n",
        "    __Show your work in the coding cell below__<br>\n",
        "    __State your answer here__:\n",
        "    \n"
      ]
    },
    {
      "cell_type": "code",
      "execution_count": null,
      "metadata": {
        "id": "_4LQbdASNBFY"
      },
      "outputs": [],
      "source": [
        "# Question 1\n",
        "\n",
        "\n"
      ]
    },
    {
      "cell_type": "markdown",
      "metadata": {
        "id": "lt_7kXwvaLhA"
      },
      "source": [
        "2. What is ice skater's acceleration during the last 3 seconds?<br>\n",
        "    __Show your work in the coding cell below__<br>\n",
        "    __State your answer here__:\n",
        "    \n"
      ]
    },
    {
      "cell_type": "code",
      "execution_count": null,
      "metadata": {
        "id": "NM3dovsfNBFY"
      },
      "outputs": [],
      "source": [
        "# Question 2\n",
        "\n"
      ]
    },
    {
      "cell_type": "markdown",
      "metadata": {
        "id": "LGXTNgaWNBFY"
      },
      "source": [
        "## Mini Challenge 2: Freefall"
      ]
    },
    {
      "cell_type": "markdown",
      "metadata": {
        "id": "DN3dyrTCNBFY"
      },
      "source": [
        "<b>Situation:</b> You and a friend just parted ways after hanging out at your place. Before you friend gets too far, they realized they left their keys at your place. They're in a rush so they ask you to just drop the keys down from your window onto the grass below.\n",
        "\n",
        "Height you will be dropping the keys from: 100 meters<br>\n",
        "\n",
        "Useful kinematic equations:\n",
        "\n",
        "A.&emsp; Equation 1: $$v_{f} = \\mathrm{v_{i} +\\ a\\ \\cdot t }$$\n",
        "B.&emsp; Equation 2: $$v_{f}^2 = \\mathrm{v_{i}^2 +\\ 2\\cdot a\\ \\cdot d }$$\n",
        "where d is the vertical distance.<br>\n",
        "\n",
        "<b>Quantitative questions to answer:</b>\n",
        "\n",
        "1. How long will it take for the keys to drop the ground?<br>\n",
        "    __Show your work in the cell below__<br>\n",
        "    __State your answer here__:"
      ]
    },
    {
      "cell_type": "code",
      "execution_count": null,
      "metadata": {
        "id": "cPOHRuRTNBFY"
      },
      "outputs": [],
      "source": [
        "# Quantitative Question 1\n",
        "\n"
      ]
    },
    {
      "cell_type": "markdown",
      "metadata": {
        "id": "cYqdGMVlgNy4"
      },
      "source": [
        "  2. How fast will the keys be traveling when they hit the ground?<br>\n",
        "    __Show your work in the coding cell below__<br>\n",
        "    __State your answer here__:"
      ]
    },
    {
      "cell_type": "code",
      "execution_count": null,
      "metadata": {
        "id": "LuydUZnDNBFY"
      },
      "outputs": [],
      "source": [
        "# Quantitative Question 2\n",
        "\n"
      ]
    },
    {
      "cell_type": "markdown",
      "metadata": {
        "id": "FqkPqT1dNBFY"
      },
      "source": [
        "## Takeaways: \n",
        "\n",
        "- Python is a powerful mathematical tool. You can now use python to perform basic mathematical calculations.\n",
        "- When working with data, it's critical to pay attention to the precision of numbers.\n",
        "- It's important to explicitly designate the data types for variables.\n",
        "- Variables can be thought of as storage containers for various types of things, such as integers, floats, and strings.\n",
        "- It's important for us to be aware of variable types because Python treats each type (e.g. integer, float, and string) in unique ways!"
      ]
    }
  ],
  "metadata": {
    "kernelspec": {
      "display_name": "Python 3",
      "language": "python",
      "name": "python3"
    },
    "language_info": {
      "codemirror_mode": {
        "name": "ipython",
        "version": 3
      },
      "file_extension": ".py",
      "mimetype": "text/x-python",
      "name": "python",
      "nbconvert_exporter": "python",
      "pygments_lexer": "ipython3",
      "version": "3.8.5"
    },
    "toc": {
      "base_numbering": 1,
      "nav_menu": {},
      "number_sections": true,
      "sideBar": true,
      "skip_h1_title": false,
      "title_cell": "Table of Contents",
      "title_sidebar": "Contents",
      "toc_cell": false,
      "toc_position": {},
      "toc_section_display": true,
      "toc_window_display": false
    },
    "varInspector": {
      "cols": {
        "lenName": 16,
        "lenType": 16,
        "lenVar": 40
      },
      "kernels_config": {
        "python": {
          "delete_cmd_postfix": "",
          "delete_cmd_prefix": "del ",
          "library": "var_list.py",
          "varRefreshCmd": "print(var_dic_list())"
        },
        "r": {
          "delete_cmd_postfix": ") ",
          "delete_cmd_prefix": "rm(",
          "library": "var_list.r",
          "varRefreshCmd": "cat(var_dic_list()) "
        }
      },
      "types_to_exclude": [
        "module",
        "function",
        "builtin_function_or_method",
        "instance",
        "_Feature"
      ],
      "window_display": false
    },
    "colab": {
      "name": "Section_1_Intro_to_Python.ipynb",
      "provenance": []
    }
  },
  "nbformat": 4,
  "nbformat_minor": 0
}