{
 "cells": [
  {
   "cell_type": "markdown",
   "metadata": {},
   "source": [
    "# Challenge 1 | Using Python to Analyze Seismic Data On Mars\n",
    "\n",
    "Imagine you are a planetary scientist, trying to get some rest after a long day of potato farming on Mars. Your alarm starts buzzing, and you check your email to find that a meteorite has just impacted, causing the equivalent shaking of a magnitude 5.7 earthquake. Your main research interest involves using data collected from instruments all over Mars to determine whether the crust of the northern hemisphere is as thick as that of the southern hemisphere.  You jump out of bed, ready to begin processing the new data, and be the first to map structural differences within Mars' interior. \n",
    "\n",
    "In this module, you'll be working toward calculating the theoretical travel times of seismic waves radiating away from a hypothetical meteorite impact on Mars. We'll focus on _surface waves_, known as Rayleigh waves, which represent seismic energy trapped primarily in the surface layer of the planet. These waves are the strongest, but the slowest traveling, among the various seismic waves that are released from the impact (such as P- and S-waves). The diagram below illustrates the different strengths, speeds, and paths of these three different types of seismic waves.\n",
    "\n",
    "![title](waves.jpg)\n",
    "\n",
    "The speeds at which these waves travel depends on the composition of the planet they're passing through. Therefore, the arrival time differences between P, S, and Rayleigh waves, hold critical information on the state of the subsurface of the planet.\n",
    "\n",
    "While you won't yet be analyzing real data in this challenge, you'll be building a starter code that has the basic elements that would be needed to analyze data from this meteorite impact. Specifically, in this challenge you'll do the following:\n",
    "\n",
    "> - Use Python interactively<br>\n",
    "> - Perform basic mathematical operations<br>\n",
    "> - Define and use variables and equations<br>\n",
    "> - Use different data types<br>\n",
    "> - Print and format output<br>\n",
    "> - Create while loops<br>\n",
    "> - Create and execute your first standalone Python program<br>\n",
    "\n",
    "\n",
    "Since we're trying to calculate the theoretical travel times of the surface waves radiating away from the impact, we'll need to write a code that can compute the travel time for a wave that has traveled for any arbitrary distance, based on the properties of these surface waves. Then, we'll want our code to be able to loop over a series of provided distances, finally printing out a list of the theoretical travel times. And now, you've got the skills to do just that! \n",
    "\n"
   ]
  },
  {
   "cell_type": "markdown",
   "metadata": {},
   "source": [
    "## The Physics\n",
    "\n",
    "To compute the theoretical travel time, you just need this simple equation: \n",
    "\n",
    "$t=(d\\times kpd)v t = ( d × k p d ) v$\n",
    "\n",
    "Let's define each of these variables:\n",
    "\n",
    "> - $t$ is the theoretical travel time of the wave in seconds<br>\n",
    "><br>\n",
    "> - $d$ is the angular distance in degrees from the origin of the impact to the detector<br>\n",
    "><br>\n",
    "> - $kpd$ is a conversion factor from (km per degree): $kpd=\\frac{\\pi R}{180} k p d = π R 180$<br>\n",
    "><br>\n",
    "> - $R$ (above) is the average radius of the Mars:  $R = 3390 km$<br>\n",
    "><br>\n",
    "> - $v$ is the average velocity of the surface waves through the Mars in km/sec<br>\n",
    "><br>\n",
    "\n",
    "\n",
    "If you think about the units of these quantities, the equation should make sense.\n",
    "\n",
    "## Build Your Code"
   ]
  },
  {
   "cell_type": "code",
   "execution_count": 1,
   "metadata": {},
   "outputs": [],
   "source": [
    "# Insert any of that obligatory code you need at the top of your program \n",
    "# to tell your computer to interpret this as a Python script. \n",
    "# Import any modules you might want to use.\n",
    "\n",
    "\n",
    "\n"
   ]
  },
  {
   "cell_type": "markdown",
   "metadata": {},
   "source": [
    "Set the variables needed (the constants in this problem) in the cell below:\n",
    "> - Assume the average radius of Mars, R,  3390.0 (km)<br>\n",
    "> - Assume average surface-wave velocity v = 4 (km/s)<br>\n",
    "> - Set the conversion factor kpd<br>\n",
    "> - Convert angular distances between degrees to kilometers<br>"
   ]
  },
  {
   "cell_type": "code",
   "execution_count": null,
   "metadata": {},
   "outputs": [],
   "source": []
  },
  {
   "cell_type": "markdown",
   "metadata": {},
   "source": [
    "Write an equation to calculate the travel time of a surface wave travel time, t, in seconds in the cell below:"
   ]
  },
  {
   "cell_type": "code",
   "execution_count": null,
   "metadata": {},
   "outputs": [],
   "source": []
  },
  {
   "cell_type": "markdown",
   "metadata": {},
   "source": [
    "Print both the distance d, and the travel time t, on the same line, for all distances 0 through 100 degrees."
   ]
  },
  {
   "cell_type": "code",
   "execution_count": null,
   "metadata": {},
   "outputs": [],
   "source": []
  },
  {
   "cell_type": "markdown",
   "metadata": {},
   "source": [
    "## Check Your Code\n",
    "\n",
    "To make sure your code is producing the right values:\n",
    "> - Set your variable used to represent the degrees between the impact and seismic station to 65 degrees<br>\n",
    "> - Your code should produce a surface-wave travel time of about 961 seconds <br>\n"
   ]
  }
 ],
 "metadata": {
  "kernelspec": {
   "display_name": "Python 3",
   "language": "python",
   "name": "python3"
  },
  "language_info": {
   "codemirror_mode": {
    "name": "ipython",
    "version": 3
   },
   "file_extension": ".py",
   "mimetype": "text/x-python",
   "name": "python",
   "nbconvert_exporter": "python",
   "pygments_lexer": "ipython3",
   "version": "3.6.5"
  }
 },
 "nbformat": 4,
 "nbformat_minor": 2
}
