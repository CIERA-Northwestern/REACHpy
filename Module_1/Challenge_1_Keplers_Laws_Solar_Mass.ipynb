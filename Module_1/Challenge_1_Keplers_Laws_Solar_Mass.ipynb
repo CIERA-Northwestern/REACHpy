{
  "cells": [
    {
      "cell_type": "markdown",
      "metadata": {
        "id": "B_G4eNaH7eek"
      },
      "source": [
        "# Challenge 1: Calculating the Mass of The Sun\n",
        "\n",
        "## Section 2.0: Background\n",
        "One of the most important relationships in astronomy is Kepler's laws of planetary motion. These relationships allow us to calculate the masses of astronomical objects. Kepler's third law relates the period, orbital distance, and masses of two objects:\n",
        "\n",
        "\\begin{equation}\n",
        "P^2 = \\frac{4 \\pi^2}{G (m_1 + m_2)} a^3\n",
        "\\end{equation}\n",
        "\n",
        "\n",
        "- $G$ is Newton's constant of gravitation, \n",
        "- $m_1$ and $m_2$ are the masses of the two bodies orbiting eachother, \n",
        "- $P$ is the period of their orbit, and \n",
        "- $a$ is the distance between the two objects. \n",
        "\n",
        "In the case of our Solar System, the mass of the Sun is significantly greater than the mass of any of the planets (i.e. $m_1 + m_2 \\approx m_1$), thus we can reduce the equation to:\n",
        "\n",
        "\\begin{equation}\n",
        "P^2 = \\frac{4 \\pi^2}{G \\, M} a^3,\n",
        "\\end{equation}\n",
        "\n",
        "where $M$ is the mass of the larger object.\n",
        "\n",
        "Since we know the periods and orbital separations for all of the planets, we use can calculate the mass of the object being orbited, i.e. the Sun."
      ]
    },
    {
      "cell_type": "markdown",
      "source": [
        "## Section 2.1.0: Calculating the Mass of the Sun"
      ],
      "metadata": {
        "id": "PejRM2ORfzoQ"
      }
    },
    {
      "cell_type": "markdown",
      "metadata": {
        "id": "DJE2zLO-7eek"
      },
      "source": [
        "First, pick your favorite planet. Look up its:\n",
        " - orbital period, \n",
        " - distance from the Sun (i.e. their \"semi-major axis\"), and \n",
        " - the Newtonian constant of gravitation, $G$. \n",
        "\n",
        "In the next cell, define variables using the values you looked-up. If any values are not already using SI units, perform unit conversions until all values are in SI."
      ]
    },
    {
      "cell_type": "code",
      "execution_count": null,
      "metadata": {
        "id": "Dm_gg8Ha7eek"
      },
      "outputs": [],
      "source": [
        "# Fundamental constants\n",
        "#\n",
        "G = 6.6743e-11 # m^3 / kg / s / s\n",
        "pi = 3.14159\n",
        "\n",
        "#\n",
        "# Create our period list using seconds\n",
        "#\n",
        "p = [7.603e6, # Mercury\n",
        "     1.941e7, # Venus\n",
        "     3.155e7, # Earth\n",
        "     5.936e7, # Mars\n",
        "     3.742e8, # Jupiter\n",
        "     9.285e8, # Saturn\n",
        "     2.643e9, # Uranus\n",
        "     5.167e9] # Neptune\n",
        "\n",
        "#\n",
        "# Create our semimajor axis list\n",
        "#\n",
        "a = [5.79e10,  # Mercury\n",
        "     1.082e11, # Venus\n",
        "     1.496e11, # Earth\n",
        "     2.280e11, # Mars\n",
        "     7.785e11, # Jupiter\n",
        "     1.432e12, # Saturn\n",
        "     2.867e12, # Uranus\n",
        "     4.515e12] # Neptune\n",
        "\n",
        "name = ['Mercury',\n",
        "        'Venus',\n",
        "        'Earth',\n",
        "        'Mars',\n",
        "        'Jupiter',\n",
        "        'Saturn',\n",
        "        'Uranus',\n",
        "        'Neptune']"
      ]
    },
    {
      "cell_type": "markdown",
      "metadata": {
        "id": "bWz4S9vr7eek"
      },
      "source": [
        "Calculate the mass of the Sun."
      ]
    },
    {
      "cell_type": "code",
      "execution_count": null,
      "metadata": {
        "id": "3cKbYPey7eek",
        "outputId": "9cd6d115-f15b-4d6b-a94c-3e695b713b6d",
        "colab": {
          "base_uri": "https://localhost:8080/"
        }
      },
      "outputs": [
        {
          "output_type": "stream",
          "name": "stdout",
          "text": [
            "Mercury yields a mass of the Sun of 1.9862e+30 kg.\n",
            "Venus   yields a mass of the Sun of 1.9888e+30 kg.\n",
            "Earth   yields a mass of the Sun of 1.9895e+30 kg.\n",
            "Mars    yields a mass of the Sun of 1.9896e+30 kg.\n",
            "Jupiter yields a mass of the Sun of 1.9931e+30 kg.\n",
            "Saturn  yields a mass of the Sun of 2.0147e+30 kg.\n",
            "Uranus  yields a mass of the Sun of 1.9955e+30 kg.\n",
            "Neptune yields a mass of the Sun of 2.0392e+30 kg.\n"
          ]
        }
      ],
      "source": [
        "for index in range(len(p)):\n",
        "    mass = 4 * pi **2 / G / p[index]**2 * a[index]**3\n",
        "    print(f\"{name[index]:<7s} yields a mass of the Sun of {mass:.4e} kg.\")"
      ]
    },
    {
      "cell_type": "markdown",
      "metadata": {
        "id": "s42_TUt87eek"
      },
      "source": [
        "Print out the mass you calculated with units:"
      ]
    },
    {
      "cell_type": "code",
      "execution_count": null,
      "metadata": {
        "id": "-js5wqxl7eek"
      },
      "outputs": [],
      "source": []
    },
    {
      "cell_type": "markdown",
      "source": [
        "## Section 2.1.1: Choosing Another Planet"
      ],
      "metadata": {
        "id": "wtcnYu9uf7S4"
      }
    },
    {
      "cell_type": "markdown",
      "metadata": {
        "id": "s-3RMU2l7eek"
      },
      "source": [
        "Choose another planet in the Solar System, and repeat the calculation."
      ]
    },
    {
      "cell_type": "code",
      "execution_count": null,
      "metadata": {
        "id": "uxx0IvPM7eek"
      },
      "outputs": [],
      "source": []
    },
    {
      "cell_type": "markdown",
      "source": [
        "Do you get the same answer?"
      ],
      "metadata": {
        "id": "OikKvt5bfEPc"
      }
    },
    {
      "cell_type": "code",
      "source": [],
      "metadata": {
        "id": "q237Cq4RfIAE"
      },
      "execution_count": null,
      "outputs": []
    },
    {
      "cell_type": "markdown",
      "source": [
        "## Section 2.2: Calculating the Mass of Jupiter"
      ],
      "metadata": {
        "id": "5sOLMY5jfr3Y"
      }
    },
    {
      "cell_type": "markdown",
      "metadata": {
        "id": "PyvLQlJk7eek"
      },
      "source": [
        "Kepler's laws are universal, and thus can be measure the mass of any object being orbited by something else. \n",
        "\n",
        "Measuring the mass of Jupiter. Look up the separation and period of one of Jupiter's moons and use Kepler's third law to calculate the mass of Jupiter."
      ]
    },
    {
      "cell_type": "code",
      "execution_count": null,
      "metadata": {
        "id": "nYd6gf697eek",
        "outputId": "199bff04-f336-43a7-cb68-3acaa7cb4a87",
        "colab": {
          "base_uri": "https://localhost:8080/"
        }
      },
      "outputs": [
        {
          "output_type": "stream",
          "name": "stdout",
          "text": [
            "Io       yields a mass of the Jupiter of 1.91370e+27 kg.\n",
            "Europa   yields a mass of the Jupiter of 1.92688e+27 kg.\n",
            "Ganymede yields a mass of the Jupiter of 1.89604e+27 kg.\n",
            "Callisto yields a mass of the Jupiter of 1.89921e+27 kg.\n"
          ]
        }
      ],
      "source": [
        "#\n",
        "# Period list\n",
        "#\n",
        "p_moon = [1.523e5, # Io\n",
        "          3.046e5, # Europa\n",
        "          6.182e5, # Ganymede\n",
        "          1.442e6] # Callisto\n",
        "\n",
        "#\n",
        "# Semimajor axis list\n",
        "#\n",
        "a_moon = [4.218e8, # Io\n",
        "          6.711e8, # Europa\n",
        "          1.070e9, # Ganymede\n",
        "          1.883e9] # Callisto\n",
        "\n",
        "#\n",
        "# Names list\n",
        "#\n",
        "moon_name = ['Io', 'Europa', 'Ganymede', 'Callisto']\n",
        "\n",
        "for index in range(len(p_moon)):\n",
        "    mass = 4 * pi **2 / G / p_moon[index]**2 * a_moon[index]**3\n",
        "    print(f\"{moon_name[index]:<8s} yields a mass of the Jupiter of {mass:.5e} kg.\")"
      ]
    },
    {
      "cell_type": "markdown",
      "source": [
        "## Section 2.3 Calculating the Mass of a Supermassive Black Hole"
      ],
      "metadata": {
        "id": "lH60Fc_zgUDQ"
      }
    },
    {
      "cell_type": "markdown",
      "metadata": {
        "id": "ILbfugNp7eek"
      },
      "source": [
        "Orbits of stars in the center of the Milky Way point to the existance of a supermassive black hole.\n",
        "\n",
        "![Galactic center orbits](https://github.com/CIERA-Northwestern/REACHpy/blob/main/Module_1/images/1280px-Galactic_centre_orbits.png?raw=1)\n",
        "\n",
        "How massive is the object that they are orbiting? \n",
        "\n",
        "Look-up the period and distance (i.e. semi-major axis) of the star S2, and calculate the mass of that object. [Here is the Wikipedia page for S2](https://en.wikipedia.org/wiki/S2_(star)).\n",
        "\n",
        "Convert the semi-major axis from arcseconds (\") to radians. There are 3600 arcseconds in a degree and 180 degrees in $\\pi$ radians.\n",
        "\n",
        "We can convert the semi-major axis from radians to parsecs. Multiply the angle between the S2 and the object it orbits (in radians) by the distance to the source from us (in parsecs). This is referred to as the small angle approximation, but we will not cover the details in this Challenge problem. You should then convert from parsecs to SI units.\n",
        "\n",
        "Finally, calculate the mass of object being orbited in SI units."
      ]
    },
    {
      "cell_type": "code",
      "execution_count": null,
      "metadata": {
        "id": "vV1-Djx47eek",
        "outputId": "d38b6326-a27b-4292-ddb8-2279fc2cdb22",
        "colab": {
          "base_uri": "https://localhost:8080/"
        }
      },
      "outputs": [
        {
          "output_type": "stream",
          "name": "stdout",
          "text": [
            "Mass of the black hole is 7.689e+36 kg.\n"
          ]
        }
      ],
      "source": [
        "a_s2_arcseconds = 0.1254\n",
        "# 60 arcminutes -> 1 degree\n",
        "# 60 arcseconds -> 1 arcminute\n",
        "a_s2_radians = a_s2_arcseconds / 3600. * pi / 180.\n",
        "\n",
        "distance_to_s2_pc = 7940.\n",
        "distance_to_s2_meters = distance_to_s2_pc * 3.086e16 # 3.086 x 10^(16)\n",
        "\n",
        "# Small angle approximation\n",
        "a_s2_meters = a_s2_radians * distance_to_s2_meters # a_in_meters\n",
        "\n",
        "p_s2_years = 16.0518\n",
        "p_s2_seconds = p_s2_years * pi * 1e7\n",
        "\n",
        "mass_bh = 4 * pi**2 / G / p_s2_seconds**2 * a_s2_meters**3\n",
        "\n",
        "print(f\"Mass of the black hole is {mass_bh:.3e} kg.\")"
      ]
    },
    {
      "cell_type": "markdown",
      "metadata": {
        "id": "33sPfsAE7eek"
      },
      "source": [
        "How many Suns does the black hole weigh?"
      ]
    },
    {
      "cell_type": "code",
      "execution_count": null,
      "metadata": {
        "id": "CExG8Hv37eek",
        "outputId": "7c22c80a-30d0-48e5-e31b-2d8af9e329f5",
        "colab": {
          "base_uri": "https://localhost:8080/"
        }
      },
      "outputs": [
        {
          "output_type": "stream",
          "name": "stdout",
          "text": [
            "The mass of the black hole is 3.866e+06 solar units.\n"
          ]
        }
      ],
      "source": [
        "mass_bh_solar_units = mass_bh / 1.989e30\n",
        "print(f\"The mass of the black hole is {mass_bh_solar_units:.3e} solar units.\")"
      ]
    },
    {
      "cell_type": "markdown",
      "metadata": {
        "id": "FtGhw_HU7eek"
      },
      "source": [
        "Astronomers often measure masses in terms of the mass of the Sun, because units of grams or kilograms are not easy to interpret with such large numbers. Display the mass of the object at the center of the Milky Way in units of \"Solar masses.\""
      ]
    },
    {
      "cell_type": "code",
      "execution_count": null,
      "metadata": {
        "id": "Di9nn2f97eek"
      },
      "outputs": [],
      "source": []
    }
  ],
  "metadata": {
    "kernelspec": {
      "display_name": "Python 3",
      "language": "python",
      "name": "python3"
    },
    "language_info": {
      "codemirror_mode": {
        "name": "ipython",
        "version": 3
      },
      "file_extension": ".py",
      "mimetype": "text/x-python",
      "name": "python",
      "nbconvert_exporter": "python",
      "pygments_lexer": "ipython3",
      "version": "3.8.5"
    },
    "colab": {
      "provenance": []
    }
  },
  "nbformat": 4,
  "nbformat_minor": 0
}