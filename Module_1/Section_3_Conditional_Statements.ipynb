{
 "cells": [
  {
   "cell_type": "markdown",
   "metadata": {},
   "source": [
    "# 1.3 | Decision making in Coding\n",
    "\n",
    "Up to now, the programs we have seen execute all the lines of the code from beginning to the end and then stop.  However, we often need to run some lines but not others through decision making. Computers can jump around the program lines based on given criteria using  an `if` statement.\n",
    "\n",
    "## 1.3.1 Decision Statements\n",
    "\n",
    "You can think of `if` statements as asking your computer whether something is True of False (these being the two \"Boolean operators\"). The basic comparison and logical operators in Python are written as follows: \n",
    "\n",
    "\n",
    "| operation            | syntax   |\n",
    "| :-----------------   | :------- |\n",
    "| __greater__          | `>`  |\n",
    "| __less__             | `<`  |\n",
    "| __equal__            | `==`  |\n",
    "| __not equal__        | `!=`  |\n",
    "| __greater and equal__| `>=`  |\n",
    "| __less and equal__| `<=`  |\n",
    "| __and__              | `and`  |\n",
    "| __or__               | `or`  |\n",
    "\n",
    "\n",
    "Comparison operators refer to mathematical comparisons such as greater than, less than, not equal to etc. Logical operators perform `and`, `or`, not (`!`) operators. The logical `or` operator returns True if either of the operands is true. The logical `and` operator, on the other hand, returns True if all of the operands are true. \n",
    "\n",
    "Note that checking for equality in Python uses `==`. Using a single `=` is reserved for assigning value(s) to variables. See the difference below:\n",
    "\n",
    "```python\n",
    "T_sun =  5778.0 # here we assing the temperature of the Sun to 5778.0\n",
    "\n",
    "T_sun == 5778.0 # here we check if the temperature of the Sun is 5778.0\n",
    " \n",
    "```\n",
    "Let's perform some conditional operators below:"
   ]
  },
  {
   "cell_type": "code",
   "execution_count": null,
   "metadata": {},
   "outputs": [],
   "source": [
    "T_sun =  5778.0\n",
    "print(T_sun)"
   ]
  },
  {
   "cell_type": "code",
   "execution_count": null,
   "metadata": {},
   "outputs": [],
   "source": [
    "print(T_sun ==  5778.0)"
   ]
  },
  {
   "cell_type": "code",
   "execution_count": null,
   "metadata": {},
   "outputs": [],
   "source": [
    "print(T_sun ==  6778.0)"
   ]
  },
  {
   "cell_type": "code",
   "execution_count": null,
   "metadata": {},
   "outputs": [],
   "source": [
    "print(T_sun !=  6778.0)"
   ]
  },
  {
   "cell_type": "code",
   "execution_count": null,
   "metadata": {},
   "outputs": [],
   "source": [
    "print(T_sun <  6778.0)"
   ]
  },
  {
   "cell_type": "code",
   "execution_count": null,
   "metadata": {},
   "outputs": [],
   "source": [
    "print(T_sun >= 5778.0)"
   ]
  },
  {
   "cell_type": "markdown",
   "metadata": {},
   "source": [
    "Now, try out the following examples with logical operators:\n",
    "\n",
    "```python\n",
    "print(T_sun > 4778.0  and T_sun < 6778.0)\n",
    "print(T_sun > 4778.0  or T_sun < 6778.0)\n",
    "print(T_sun == 4778.0 and T_sun < 6778.0)\n",
    "print(T_sun != 4778.0 and T_sun <= 6778.0)\n",
    "print(T_sun == 6778.0 or T_sun < 5778.0)\n",
    "print(T_sun == 6778.0 or T_sun <= 5778.0)\n",
    "```"
   ]
  },
  {
   "cell_type": "code",
   "execution_count": null,
   "metadata": {},
   "outputs": [],
   "source": [
    "## your code starts here"
   ]
  },
  {
   "cell_type": "markdown",
   "metadata": {},
   "source": [
    "### 1.3.1.1 Components of an If statement\n",
    "\n",
    "An `if` statement typically has two parts: the condition (what is being checked each time) and the action (what is being performed if the condition is met). In general, an if statement will look something like this:\n",
    "\n",
    "```python\n",
    "if <condition>: \n",
    "    do something   \n",
    "```\n",
    "\n",
    "There are two important rules while using an `if` statement in Python. First, you need to put `:` after the condition. Second, each action after the `if` statement is written on an indented line similar to `for` loops. \n",
    "\n",
    "In the next example, the computer checks if the variable `x` is larger than 1. If the condition is met, it prints out the value of `x`.\n"
   ]
  },
  {
   "cell_type": "code",
   "execution_count": null,
   "metadata": {},
   "outputs": [],
   "source": [
    "x = 5\n",
    "\n",
    "if x > 1:                             # The condition is true\n",
    "    print('x is larger than 1')       # To perform actions, make sure each action is INDENTED\n",
    "    print('x=', x)                    # So x will be printed\n"
   ]
  },
  {
   "cell_type": "markdown",
   "metadata": {},
   "source": [
    "What happens if `x` is smaller than 1? In the cell below, write and execute the above code, by changing the value of `x`"
   ]
  },
  {
   "cell_type": "code",
   "execution_count": null,
   "metadata": {},
   "outputs": [],
   "source": [
    "##  try out the above example, changing the value of x a few times.\n",
    "x = "
   ]
  },
  {
   "cell_type": "markdown",
   "metadata": {},
   "source": [
    "Notice that we did not get any output when x < 1 since we did not tell the computer what to do if the condition is not met. In this case, we use an `else` statement:\n",
    "\n",
    "```python\n",
    "x = 5\n",
    "\n",
    "if x > 1:                             # The condition is true\n",
    "    print('x is larger than 1')      \n",
    "    print('x=', x)  \n",
    "else:                                 # The condition is not true\n",
    "    print('x is smaller than 1')\n",
    "    print('x=', x) \n",
    "```\n",
    "\n"
   ]
  },
  {
   "cell_type": "code",
   "execution_count": null,
   "metadata": {},
   "outputs": [],
   "source": [
    "# try out the above example"
   ]
  },
  {
   "cell_type": "markdown",
   "metadata": {},
   "source": [
    "You can have more than one conditions in a single `if` statement using logical operators:"
   ]
  },
  {
   "cell_type": "code",
   "execution_count": null,
   "metadata": {},
   "outputs": [],
   "source": [
    "x = 5\n",
    "\n",
    "if x>1 and x<10:\n",
    "    print('x is between 1 and 10')\n",
    "    \n",
    "if x>1 or x<10:\n",
    "    print('x is greater than 1 or less than 10')\n"
   ]
  },
  {
   "cell_type": "markdown",
   "metadata": {},
   "source": [
    "If the first statement is not met and we want to test for another condition, we can use an `else if` or `elif` statement.\n",
    "\n",
    "```python\n",
    "x = 0.1\n",
    "\n",
    "if x > 10:\n",
    "    print('x is greater than 10')\n",
    "    \n",
    "elif x > 5:\n",
    "    print('x is greater than 5')\n",
    "    \n",
    "elif x > 1:\n",
    "    print('x is greater than 1')\n",
    "  \n",
    "else:\n",
    "    print('x is less than 1')\n",
    "```"
   ]
  },
  {
   "cell_type": "code",
   "execution_count": null,
   "metadata": {},
   "outputs": [],
   "source": [
    "## try out the above example"
   ]
  },
  {
   "cell_type": "markdown",
   "metadata": {},
   "source": [
    "### 1.3.1.2 For loops & Conditionals: Example \n",
    "It is often useful to have conditions embedded (or nested) within our for loops. This is where indentation\n",
    "is key to making sure your code works the way you want it to!<br>\n",
    "\n",
    "In the below example, we have a list of both positive and negative numbers called `numbers`. We want to store them in separate lists called `negative_numbers` and `positive_numbers`. To do that, we first loop over the elements of the numbers list and check if a number is positive or negative using an if statement. If the number is negative, we append it to `negative_numbers` list, and if the number is positive, we append it to `positive_numbers` list. Note that we need to initialize these empty lists before the for loop."
   ]
  },
  {
   "cell_type": "code",
   "execution_count": null,
   "metadata": {},
   "outputs": [],
   "source": [
    "numbers = [-1,4,8,-2,8,91,-94]\n",
    "\n",
    "# Initialize new lists\n",
    "negative_numbers = []\n",
    "positive_numbers = []\n",
    "\n",
    "# Loop over the numbers list\n",
    "for i in numbers:\n",
    "    if i < 0:\n",
    "        negative_numbers.append(i)\n",
    "    elif i > 0:\n",
    "        positive_numbers.append(i)\n",
    "        \n",
    "print('negative numbers list:', negative_numbers)\n",
    "print('positive numbers list:', positive_numbers)\n",
    " "
   ]
  },
  {
   "cell_type": "markdown",
   "metadata": {},
   "source": [
    "### Your turn: Even or odd \n",
    "\n",
    "In the below cell, try writing a for loop that goes through the `numbers` list. This time, instead of checking if the elements of the number list is positive or negative, find out the even numbers and store them in a new list called `even_numbers`. Hint: You can use the mod operator `%` to test if a given number is even or not."
   ]
  },
  {
   "cell_type": "code",
   "execution_count": null,
   "metadata": {},
   "outputs": [],
   "source": [
    "# your code here\n",
    "\n",
    "numbers = [3,4,14,2,24,88,93,112]\n",
    "even_numbers = []\n"
   ]
  },
  {
   "cell_type": "markdown",
   "metadata": {},
   "source": [
    "### Temperature Converter \n",
    "\n",
    "__Problem__: You are given the surface temperatures for ten stars, which are all in celsius. Since Kelvin is the standard unit used in astronomy, you want to convert all the temperatures into Kelvin. \n",
    "\n",
    "__Task__: Loop over the temperature list and convert each temperature to Kelvin using the following equation:\n",
    "\n",
    " $$K = C + 273.15 $$\n",
    "\n",
    "Store the temperatures in units of Kelvin in a new list called `T_kelvin` and print it in the below cell.\n"
   ]
  },
  {
   "cell_type": "code",
   "execution_count": null,
   "metadata": {},
   "outputs": [],
   "source": [
    "## Your code here!\n",
    "## You are given surface temperatures in celsius:\n",
    "T_celc = [5500,6000,6532,4234,8352,10000,12000,14532,8325,7737] \n",
    "T_kelvin = []\n",
    "\n",
    "## Loop over T_celc list:\n",
    "\n",
    "for t in T_celc:\n",
    "    \n"
   ]
  },
  {
   "cell_type": "markdown",
   "metadata": {},
   "source": [
    "Now, store the temperatures larger than the Sun's temperature (T_sun = 5778.0 K) in a new list called ```T_larger_sun``` below:"
   ]
  },
  {
   "cell_type": "code",
   "execution_count": null,
   "metadata": {},
   "outputs": [],
   "source": [
    "T_larger_sun = []\n",
    "\n",
    "for t in T_kelvin:\n",
    "    if \n",
    "    "
   ]
  },
  {
   "cell_type": "markdown",
   "metadata": {},
   "source": [
    "## Takeaways\n",
    "\n",
    "* Conditional statements, such as if statements, allow you to perform different operations depending on whether certain conditions are met. <br>\n",
    "* By combining loops and conditionals, you can iterate over a sequence and perform the specified operations only when certain conditions are met, rather than on every pass over the loop. <br>"
   ]
  }
 ],
 "metadata": {
  "kernelspec": {
   "display_name": "Python 3",
   "language": "python",
   "name": "python3"
  },
  "language_info": {
   "codemirror_mode": {
    "name": "ipython",
    "version": 3
   },
   "file_extension": ".py",
   "mimetype": "text/x-python",
   "name": "python",
   "nbconvert_exporter": "python",
   "pygments_lexer": "ipython3",
   "version": "3.8.5"
  },
  "toc": {
   "base_numbering": 1,
   "nav_menu": {},
   "number_sections": true,
   "sideBar": true,
   "skip_h1_title": false,
   "title_cell": "Table of Contents",
   "title_sidebar": "Contents",
   "toc_cell": false,
   "toc_position": {},
   "toc_section_display": true,
   "toc_window_display": false
  },
  "varInspector": {
   "cols": {
    "lenName": 16,
    "lenType": 16,
    "lenVar": 40
   },
   "kernels_config": {
    "python": {
     "delete_cmd_postfix": "",
     "delete_cmd_prefix": "del ",
     "library": "var_list.py",
     "varRefreshCmd": "print(var_dic_list())"
    },
    "r": {
     "delete_cmd_postfix": ") ",
     "delete_cmd_prefix": "rm(",
     "library": "var_list.r",
     "varRefreshCmd": "cat(var_dic_list()) "
    }
   },
   "types_to_exclude": [
    "module",
    "function",
    "builtin_function_or_method",
    "instance",
    "_Feature"
   ],
   "window_display": false
  }
 },
 "nbformat": 4,
 "nbformat_minor": 4
}
