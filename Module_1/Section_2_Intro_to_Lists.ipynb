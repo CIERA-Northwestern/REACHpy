{
  "nbformat": 4,
  "nbformat_minor": 0,
  "metadata": {
    "colab": {
      "name": "Section_2_Intro_to_Lists_Solution",
      "provenance": [],
      "collapsed_sections": []
    },
    "kernelspec": {
      "name": "python3",
      "display_name": "Python 3"
    },
    "language_info": {
      "name": "python"
    }
  },
  "cells": [
    {
      "cell_type": "markdown",
      "source": [
        "# Section 2. Lists in Python\n",
        "## 2.1 Getting Started\n",
        "\n",
        "As the name of this data structure suggests, a list in Python is literally a list of stuff. What that stuff is depends on what you're trying to do. Essentially, lists can contain whatever you want, as long as the contents are valid data types in Python.\n",
        "\n",
        "In order to create a list, we enclose a comma-separated list of items with square brackets. If you have a really long list, you can include a line break immediately following a comma, as shown below.\n",
        "\n",
        "\n",
        "\n",
        "```\n",
        "my_list_one = [2, 8, 4]                # list of numbers\n",
        "my_list_two = ['cat', 'dog', 'llama']  # list of strings, must use 'string'\n",
        "my_list_three = [True, False, False]   # list of Booleans\n",
        "\n",
        "my_list_four = [3, 1, 8, 4, # A really\n",
        "                1, 2, 7, 3, # really\n",
        "                2, 2, 6, 9, # really\n",
        "                6, 6, 4, 8, # really\n",
        "                7, 6, 2, 1] # long list\n",
        "```\n",
        "\n"
      ],
      "metadata": {
        "id": "r8Ggvlw1v0X7"
      }
    },
    {
      "cell_type": "code",
      "execution_count": null,
      "metadata": {
        "id": "1rzBKPm3rMCA"
      },
      "outputs": [],
      "source": [
        "my_list_one = [2, 8, 4]                # list of numbers\n",
        "my_list_two = ['cat', 'dog', 'llama']  # list of strings, must use 'string'\n",
        "my_list_three = [True, False, False]   # list of Booleans\n",
        "\n",
        "my_list_four = [3, 1, 8, 4, # A really\n",
        "                1, 2, 7, 3, # really\n",
        "                2, 2, 6, 9, # really\n",
        "                6, 6, 4, 8, # really\n",
        "                7, 6, 2, 1] # long list"
      ]
    },
    {
      "cell_type": "markdown",
      "source": [
        "Note that in the above four examples, we are storing each list in a variable. E.g., the list [2, 8, 4] is being stored to the variable my_list_one.\n",
        "\n",
        "While in the examples above we have shown that you can store numbers (floats and ints) and strings, you can also ___store variables___ in lists. Those variables may contain a number, string, or even another list! In the below example, we're setting the variables right before putting them in the list, but in real applications, the variable values could be set by the result of some function or by user input.\n",
        "\n",
        "\n",
        "```\n",
        "example_variable_one = 48\n",
        "example_variable_two = 12\n",
        "example_variable_three = 10\n",
        "my_list_five = [example_variable_one, \n",
        "                example_variable_two, \n",
        "                example_variable_three]   # list of predefined variables\n",
        "\n",
        "print(my_list_five) # Note the outputs!\n",
        "```\n",
        "\n"
      ],
      "metadata": {
        "id": "7CK-nVRlx0P7"
      }
    },
    {
      "cell_type": "code",
      "source": [
        "example_variable_one = 48\n",
        "example_variable_two = 12\n",
        "example_variable_three = 10\n",
        "my_list_five = [example_variable_one, \n",
        "                example_variable_two, \n",
        "                example_variable_three]   # list of predefined variables\n",
        "\n",
        "print(my_list_five) # Note the outputs!\n"
      ],
      "metadata": {
        "id": "SB5xS9BnxhJn",
        "colab": {
          "base_uri": "https://localhost:8080/"
        },
        "outputId": "63be6fa7-de22-42f8-b0a9-29489a6ef818"
      },
      "execution_count": null,
      "outputs": [
        {
          "output_type": "stream",
          "name": "stdout",
          "text": [
            "[48, 12, 10]\n"
          ]
        }
      ]
    },
    {
      "cell_type": "markdown",
      "source": [
        "### 2.1.1 Checking how long your list is\n",
        "It is often helpful to make sure your code looks the way you want it to. If you are working with lists, one way to do that is to make sure it is composed of as many elements as you need it to be! For example, if I am storing the temperature of 5 stars for later use, I may want to check that the list is 5 elements long. Incorporating checks like this in your code can be very helpful for avoiding (and finding) bugs in your code.\n",
        "\n",
        "\n",
        "\n",
        "```\n",
        "my_list = [2, 8, 6, 4, 10]\n",
        "list_length = len(my_list)  # returns the length, or number of items, in the list (5)\n",
        "print(list_length)\n",
        "```\n",
        "\n"
      ],
      "metadata": {
        "id": "cMtGBz1f0P0f"
      }
    },
    {
      "cell_type": "code",
      "execution_count": null,
      "metadata": {
        "ExecuteTime": {
          "end_time": "2021-05-28T15:01:40.442476Z",
          "start_time": "2021-05-28T15:01:40.439664Z"
        },
        "id": "UMOuor39vWNp",
        "colab": {
          "base_uri": "https://localhost:8080/"
        },
        "outputId": "23fc2537-daae-4319-8c48-72a9a12fe7ae"
      },
      "outputs": [
        {
          "output_type": "stream",
          "name": "stdout",
          "text": [
            "5\n"
          ]
        }
      ],
      "source": [
        "my_list = [2, 8, 6, 4, 10]\n",
        "list_length = len(my_list)  # returns the length, or number of items, in the list (5)\n",
        "print(list_length)"
      ]
    },
    {
      "cell_type": "markdown",
      "metadata": {
        "id": "C5gDFnvmvWNq"
      },
      "source": [
        "### 2.1.2 Sorting your list\n",
        "It can beneficial to order your list from smallest to largest, or vice versa - if your list consists of __only__ numbers (float or int) or __only__ strings!<br>\n",
        "__Note__: When sorting is done as it is shown below, the sorting is done \"in place\". This means that the list __itself__ is sorted, instead of a __sorted__ copy being made.\n",
        "\n",
        "__For example:__\n",
        "\n",
        "\n",
        "\n",
        "```\n",
        "example_list = [17, 8, 29]\n",
        "example_list.sort()  # The list \"example_list\" is now sorted\n",
        "print(example_list)\n",
        "```\n",
        "\n",
        "The output of this list would now be a list with the following elements: [8, 17, 29]. \n",
        "\n",
        "\n",
        "\n",
        "```\n",
        "my_list.sort()  # sorts the list from smallest to largest [2, 4, 6, 8, 10]\n",
        "print(my_list)\n",
        "\n",
        "my_list.sort(reverse=True)  # reverse-sorts the list [10, 8, 6, 4, 2]\n",
        "print(my_list)\n",
        "```\n",
        "\n"
      ]
    },
    {
      "cell_type": "code",
      "execution_count": null,
      "metadata": {
        "ExecuteTime": {
          "end_time": "2021-05-28T15:01:40.446330Z",
          "start_time": "2021-05-28T15:01:40.443908Z"
        },
        "id": "0-evaOJqvWNq",
        "colab": {
          "base_uri": "https://localhost:8080/"
        },
        "outputId": "4acee338-cb2a-483b-b9ef-fc0a05ffd78c"
      },
      "outputs": [
        {
          "output_type": "stream",
          "name": "stdout",
          "text": [
            "[8, 17, 29]\n"
          ]
        }
      ],
      "source": [
        "example_list = [17, 8, 29]\n",
        "example_list.sort()  # The list \"example_list\" is now sorted\n",
        "print(example_list)"
      ]
    },
    {
      "cell_type": "code",
      "execution_count": null,
      "metadata": {
        "ExecuteTime": {
          "end_time": "2021-05-28T15:01:40.450755Z",
          "start_time": "2021-05-28T15:01:40.448197Z"
        },
        "id": "n8yn_nGNvWNr",
        "colab": {
          "base_uri": "https://localhost:8080/"
        },
        "outputId": "f7e26550-d360-44b5-ddcd-1bee14d06b62"
      },
      "outputs": [
        {
          "output_type": "stream",
          "name": "stdout",
          "text": [
            "[2, 4, 6, 8, 10]\n",
            "[10, 8, 6, 4, 2]\n"
          ]
        }
      ],
      "source": [
        "my_list.sort()  # sorts the list from smallest to largest [2, 4, 6, 8, 10]\n",
        "print(my_list)\n",
        "\n",
        "my_list.sort(reverse=True)  # reverse-sorts the list [10, 8, 6, 4, 2]\n",
        "print(my_list)"
      ]
    },
    {
      "cell_type": "markdown",
      "metadata": {
        "id": "i1wJ3D9fvWNr"
      },
      "source": [
        "### 2.1.3 Your turn: Create a list!\n",
        "__Tasks__: <br>\n",
        "> - Create a list for numbers 1-10 (inclusive of both 1 and 10) <br>\n",
        "> -Create a list of with your first, middle, and last name(s) <br>\n",
        "\n",
        "Try making these lists in the cell below!"
      ]
    },
    {
      "cell_type": "code",
      "execution_count": null,
      "metadata": {
        "ExecuteTime": {
          "end_time": "2021-05-28T15:01:40.454052Z",
          "start_time": "2021-05-28T15:01:40.452324Z"
        },
        "id": "8A5B2q8lvWNr",
        "colab": {
          "base_uri": "https://localhost:8080/"
        },
        "outputId": "f651bee6-c49f-4d0c-818f-6f3e65889494"
      },
      "outputs": [
        {
          "output_type": "stream",
          "name": "stdout",
          "text": [
            "[1, 2, 3, 4, 5, 6, 7, 8, 9, 10]\n",
            "['Your', 'Name', 'Here']\n"
          ]
        }
      ],
      "source": [
        "# your code below\n",
        "numbers = list(range(1,11))\n",
        "print(numbers)\n",
        "\n",
        "names = ['Your', 'Name', 'Here']\n",
        "print(names)"
      ]
    },
    {
      "cell_type": "markdown",
      "metadata": {
        "id": "VM1opfLyvWNs"
      },
      "source": [
        "### Your turn: Sort your list!\n",
        "__Tasks__:\n",
        "> - sort your numbered list from __smallest to largest__ \n",
        "> - sort your numbered list from __largest to smallest__ "
      ]
    },
    {
      "cell_type": "code",
      "execution_count": null,
      "metadata": {
        "ExecuteTime": {
          "end_time": "2021-05-28T15:01:40.458405Z",
          "start_time": "2021-05-28T15:01:40.456451Z"
        },
        "id": "2WPtzNeLvWNs",
        "colab": {
          "base_uri": "https://localhost:8080/"
        },
        "outputId": "7a06f019-8545-45c4-c746-e77cdd12ef90"
      },
      "outputs": [
        {
          "output_type": "stream",
          "name": "stdout",
          "text": [
            "[1, 2, 3, 4, 5, 6, 7, 8, 9, 10]\n",
            "[10, 9, 8, 7, 6, 5, 4, 3, 2, 1]\n"
          ]
        }
      ],
      "source": [
        "# your code below\n",
        "\n",
        "numbers.sort()\n",
        "print(numbers) # first task\n",
        "\n",
        "numbers.sort(reverse=True)\n",
        "print(numbers) # second task\n"
      ]
    },
    {
      "cell_type": "markdown",
      "source": [
        "## 2.2 Slicing Lists in Python\n",
        "\n",
        "Sometimes (or oftentimes), when working with lists, it is useful to get one entry or a subset of the list. When we do this in Python, we call it slicing the list and we call the subset we got a slice. Note that the rules for slicing are the same \n",
        "\n",
        "### 2.2.1 One at a Time\n",
        "\n",
        "First, let's start with the simplest example. Let's say we want to access a specific entry in the list. We call the position of an entry of a list its index. We can access an entry by putting its index in square brackets next to the list's name like below.\n",
        "\n",
        "\n",
        "Note: Counting in Python (and in a lot of programming languages in general), we count starting from 0 instead of 1.\n",
        "\n",
        "\n",
        "```\n",
        "dist_list = [0.4, 0.7, 1.0, 1.5,    # distance of planets from the sun \n",
        "             5.2, 9.5, 19.2, 30.1]  # in units of Earth's distance (\"au\")\n",
        "\n",
        "print('The distance of Mercury is', str(dist_list[0]), 'au')\n",
        "\n",
        "print('The distance of Jupiter is', str(dist_list[4]), 'au')\n",
        "```\n",
        "\n"
      ],
      "metadata": {
        "id": "nfD-LYda0xn7"
      }
    },
    {
      "cell_type": "code",
      "source": [
        "dist_list = [0.4, 0.7, 1.0, 1.5,    # distance of planets from the sun \n",
        "             5.2, 9.5, 19.2, 30.1]  # in units of Earth's distance (\"au\")\n",
        "\n",
        "print('The distance of Mercury is', str(dist_list[0]), 'au')\n",
        "\n",
        "print('The distance of Jupiter is', str(dist_list[4]), 'au')"
      ],
      "metadata": {
        "id": "55QkEla0116C",
        "colab": {
          "base_uri": "https://localhost:8080/"
        },
        "outputId": "2eefb259-2ddc-4da5-e792-59465bd9b231"
      },
      "execution_count": null,
      "outputs": [
        {
          "output_type": "stream",
          "name": "stdout",
          "text": [
            "The distance of Mercury is 0.4 au\n",
            "The distance of Jupiter is 5.2 au\n"
          ]
        }
      ]
    },
    {
      "cell_type": "markdown",
      "source": [
        "We can also count backwards! We just need to use negative numbers instead of positive numbers.\n",
        "\n",
        "```\n",
        "print('The distance of the furthest planet is',dist_list[-1],'au')\n",
        "\n",
        "print('The distance of the second furthest planet is',dist_list[-2],'au')\n",
        "```\n"
      ],
      "metadata": {
        "id": "l38OodQ2-3Ca"
      }
    },
    {
      "cell_type": "code",
      "source": [
        "print('The distance of the furthest planet is',dist_list[-1],'au')\n",
        "\n",
        "print('The distance of the second furthest planet is',dist_list[-2],'au')"
      ],
      "metadata": {
        "id": "mm4IpywV9yrL",
        "colab": {
          "base_uri": "https://localhost:8080/"
        },
        "outputId": "f69db316-8529-41ad-a1c0-b1207c395723"
      },
      "execution_count": null,
      "outputs": [
        {
          "output_type": "stream",
          "name": "stdout",
          "text": [
            "The distance of the furthest planet is 30.1 au\n",
            "The distance of the second furthest planet is 19.2 au\n"
          ]
        }
      ]
    },
    {
      "cell_type": "markdown",
      "source": [
        "Keep in mind that you cannot access an index that does not exist. See what happens when you run the two lines of code below (one at a time!)\n",
        "\n",
        "```\n",
        "print(dist_list[10])\n",
        "\n",
        "print(dist_list[-9])\n",
        "```\n"
      ],
      "metadata": {
        "id": "0dX9z4ypDV6P"
      }
    },
    {
      "cell_type": "code",
      "source": [
        "print(dist_list[10])"
      ],
      "metadata": {
        "id": "Owyqe8u4EUaf",
        "colab": {
          "base_uri": "https://localhost:8080/",
          "height": 171
        },
        "outputId": "9c241b20-d7d5-487a-cb3d-da5904fc8482"
      },
      "execution_count": null,
      "outputs": [
        {
          "output_type": "error",
          "ename": "IndexError",
          "evalue": "ignored",
          "traceback": [
            "\u001b[0;31m---------------------------------------------------------------------------\u001b[0m",
            "\u001b[0;31mIndexError\u001b[0m                                Traceback (most recent call last)",
            "\u001b[0;32m<ipython-input-11-dc05d80c2933>\u001b[0m in \u001b[0;36m<module>\u001b[0;34m()\u001b[0m\n\u001b[0;32m----> 1\u001b[0;31m \u001b[0mprint\u001b[0m\u001b[0;34m(\u001b[0m\u001b[0mdist_list\u001b[0m\u001b[0;34m[\u001b[0m\u001b[0;36m10\u001b[0m\u001b[0;34m]\u001b[0m\u001b[0;34m)\u001b[0m\u001b[0;34m\u001b[0m\u001b[0;34m\u001b[0m\u001b[0m\n\u001b[0m",
            "\u001b[0;31mIndexError\u001b[0m: list index out of range"
          ]
        }
      ]
    },
    {
      "cell_type": "code",
      "source": [
        "print(dist_list[-9])"
      ],
      "metadata": {
        "colab": {
          "base_uri": "https://localhost:8080/",
          "height": 171
        },
        "id": "YNiuIizSvM9y",
        "outputId": "66c0c451-fc2c-43a9-91db-9d243a88699c"
      },
      "execution_count": null,
      "outputs": [
        {
          "output_type": "error",
          "ename": "IndexError",
          "evalue": "ignored",
          "traceback": [
            "\u001b[0;31m---------------------------------------------------------------------------\u001b[0m",
            "\u001b[0;31mIndexError\u001b[0m                                Traceback (most recent call last)",
            "\u001b[0;32m<ipython-input-12-33b13d44948a>\u001b[0m in \u001b[0;36m<module>\u001b[0;34m()\u001b[0m\n\u001b[0;32m----> 1\u001b[0;31m \u001b[0mprint\u001b[0m\u001b[0;34m(\u001b[0m\u001b[0mdist_list\u001b[0m\u001b[0;34m[\u001b[0m\u001b[0;34m-\u001b[0m\u001b[0;36m9\u001b[0m\u001b[0;34m]\u001b[0m\u001b[0;34m)\u001b[0m\u001b[0;34m\u001b[0m\u001b[0;34m\u001b[0m\u001b[0m\n\u001b[0m",
            "\u001b[0;31mIndexError\u001b[0m: list index out of range"
          ]
        }
      ]
    },
    {
      "cell_type": "markdown",
      "source": [
        "### 2.2.2 Starting and Stopping\n",
        "\n",
        "So far, we've only tried accessing one item from a list but in a lot of cases we want more than one value. When you take a slice of a list, __you have three options__ you can control: \n",
        "\n",
        "> - The start index\n",
        "> - The end index (which is non-inclusive in the slice)\n",
        "> - Lastly, a \"step value\", which controls how you want to step over the items included in your slice (one by one, every other, etc.).\n",
        "\n",
        "When slicing a list, it's formatted like my_list[start:stop:step].\n",
        "\n",
        "Let's go through each one individually. First, let's make a list with the names of all the planets in order."
      ],
      "metadata": {
        "id": "DC8Q0jMFIB1d"
      }
    },
    {
      "cell_type": "code",
      "source": [
        "name_list = ['mercury','venus','earth','mars',\n",
        "             'jupiter','saturn','uranus','neptune']"
      ],
      "metadata": {
        "id": "LTEtCF_RH268"
      },
      "execution_count": null,
      "outputs": []
    },
    {
      "cell_type": "markdown",
      "source": [
        "Now, let's do some stuff with this list. Let's start by getting the whole list except mercury. In this case, we're excluding the 0th value and starting on the 1st.\n",
        "\n",
        "```\n",
        "print(name_list[1:])\n",
        "print(name_list[1::])\n",
        "print(name_list[-7:])\n",
        "print(name_list[-7::])\n",
        "```"
      ],
      "metadata": {
        "id": "xv3Gb7ZhMH-D"
      }
    },
    {
      "cell_type": "code",
      "source": [
        "print(name_list[1:])\n",
        "print(name_list[1::])\n",
        "print(name_list[-7:])\n",
        "print(name_list[-7::])"
      ],
      "metadata": {
        "id": "1ZadOLKXNOGF",
        "colab": {
          "base_uri": "https://localhost:8080/"
        },
        "outputId": "d639518d-8bae-4148-eb21-a40f63735077"
      },
      "execution_count": null,
      "outputs": [
        {
          "output_type": "stream",
          "name": "stdout",
          "text": [
            "['venus', 'earth', 'mars', 'jupiter', 'saturn', 'uranus', 'neptune']\n",
            "['venus', 'earth', 'mars', 'jupiter', 'saturn', 'uranus', 'neptune']\n",
            "['venus', 'earth', 'mars', 'jupiter', 'saturn', 'uranus', 'neptune']\n",
            "['venus', 'earth', 'mars', 'jupiter', 'saturn', 'uranus', 'neptune']\n"
          ]
        }
      ]
    },
    {
      "cell_type": "markdown",
      "source": [
        "Notice that in the above example we only included a value for start. If the other values aren't filled in, they default to stop=len(my_list) and step=1. Also notice that the first and second lines resulted in the same output. In otherwords, the step parameter and its associated colon are completely optional.\n",
        "\n",
        "Next, notice that the third and fourth lines resulted in exactly the same list as the first and second. When working with lists, we can always count backwards from the last index instead of starting from 0.\n",
        "\n",
        "Next, let's try to get all the planets except the last two. Remember that the value we specify for the end index is exclusive. In other words, we stop BEFORE end.\n",
        "\n",
        "```\n",
        "print(name_list[:6])\n",
        "print(name_list[:6:])\n",
        "print(name_list[:-2])\n",
        "print(name_list[:-2:])\n",
        "```"
      ],
      "metadata": {
        "id": "6h4BeFzhNema"
      }
    },
    {
      "cell_type": "code",
      "source": [
        "print(name_list[:6])\n",
        "print(name_list[:6:])\n",
        "print(name_list[:-2])\n",
        "print(name_list[:-2:])"
      ],
      "metadata": {
        "id": "cJf7KU7ZNcxE",
        "colab": {
          "base_uri": "https://localhost:8080/"
        },
        "outputId": "c2d29324-aa63-4ab5-d78a-81c9f9dc96cb"
      },
      "execution_count": null,
      "outputs": [
        {
          "output_type": "stream",
          "name": "stdout",
          "text": [
            "['mercury', 'venus', 'earth', 'mars', 'jupiter', 'saturn']\n",
            "['mercury', 'venus', 'earth', 'mars', 'jupiter', 'saturn']\n",
            "['mercury', 'venus', 'earth', 'mars', 'jupiter', 'saturn']\n",
            "['mercury', 'venus', 'earth', 'mars', 'jupiter', 'saturn']\n"
          ]
        }
      ]
    },
    {
      "cell_type": "markdown",
      "source": [
        "Now, we can see that if we don't specify start, the default is start=0. Again, we see that it doesn't matter whether or not we include the second colon and it also doesn't matter whether we use an entry's positive or negative index. \n",
        "\n",
        "In practice, it's often simpler to specify start with the positive index and stop with either the positive or the negative index depending on how long the list is. \n",
        "\n",
        "Next, we can combine these two. In the following example, let's get a list with the planets next to the asteroid belt. The first one is mars, at index 3, and the second is jupiter, at index 4. In that case, we want to stop BEFORE Saturn, at index 5 or -3.\n",
        "\n",
        "```\n",
        "print(name_list[3:5])\n",
        "print(name_list[3:-3:])\n",
        "```"
      ],
      "metadata": {
        "id": "Px6LMOvqO2fi"
      }
    },
    {
      "cell_type": "code",
      "source": [
        "print(name_list[3:5])\n",
        "print(name_list[3:-3:])"
      ],
      "metadata": {
        "id": "32faafOsOYoF",
        "colab": {
          "base_uri": "https://localhost:8080/"
        },
        "outputId": "25f65979-e30f-433e-acc5-e9d36097f633"
      },
      "execution_count": null,
      "outputs": [
        {
          "output_type": "stream",
          "name": "stdout",
          "text": [
            "['mars', 'jupiter']\n",
            "['mars', 'jupiter']\n"
          ]
        }
      ]
    },
    {
      "cell_type": "markdown",
      "source": [
        "Now it's your turn! In the cell below, try to get the following lists from name_list by changing the values of start and stop:\n",
        "\n",
        ">- all the inner planets (Mercury to Earth)\n",
        ">- all the outer planets (Jupiter to Neptune)\n"
      ],
      "metadata": {
        "id": "-Tl9S5ghWkky"
      }
    },
    {
      "cell_type": "code",
      "source": [
        "# Uncomment the lines below and change start and stop to the appropriate values\n",
        "print(name_list[:4])\n",
        "print(name_list[4:])"
      ],
      "metadata": {
        "id": "sxkV5XztV7XG",
        "colab": {
          "base_uri": "https://localhost:8080/"
        },
        "outputId": "555cf710-40fc-421d-f2f8-fefdbb0ce6e9"
      },
      "execution_count": null,
      "outputs": [
        {
          "output_type": "stream",
          "name": "stdout",
          "text": [
            "['mercury', 'venus', 'earth', 'mars']\n",
            "['jupiter', 'saturn', 'uranus', 'neptune']\n"
          ]
        }
      ]
    },
    {
      "cell_type": "markdown",
      "source": [
        "### 2.2.2 Changing the Step Size\n",
        "\n",
        "Now, let's talk about the last argument, step. Basically, this argument allows us to take every nth value from a list. \n",
        "\n",
        "In the first example below, we start from Mercury and take every second planet. In the second, we do the same, but starting from Venus instead. In the third, we start from Venus and end before the last planet, Neptune. In the fourth, we start from Venus and stop before the second to last planet, Uranus.\n",
        "\n",
        "Notice that the third and fourth lines produce the same output. The reason why is basically that the planet after Saturn would have been skipped anyway.\n",
        "\n",
        "```\n",
        "print(name_list[::2])\n",
        "print(name_list[1::2])\n",
        "print(name_list[1:-1:2])\n",
        "print(name_list[1:-2:2])\n",
        "```"
      ],
      "metadata": {
        "id": "zAMVLqjvX5gu"
      }
    },
    {
      "cell_type": "code",
      "source": [
        "print(name_list[::2])\n",
        "print(name_list[1::2])\n",
        "print(name_list[1:-1:2])\n",
        "print(name_list[1:-2:2])"
      ],
      "metadata": {
        "id": "tYIdXSi5Z8iV",
        "colab": {
          "base_uri": "https://localhost:8080/"
        },
        "outputId": "bbca4bfa-69aa-4be0-b499-cb7dee0fb2b0"
      },
      "execution_count": null,
      "outputs": [
        {
          "output_type": "stream",
          "name": "stdout",
          "text": [
            "['mercury', 'earth', 'jupiter', 'uranus']\n",
            "['venus', 'mars', 'saturn', 'neptune']\n",
            "['venus', 'mars', 'saturn']\n",
            "['venus', 'mars', 'saturn']\n"
          ]
        }
      ]
    },
    {
      "cell_type": "markdown",
      "source": [
        "But this isn't the only thing we can do with step. We can also count backwards! If we use a negative value, the behavior is the same, but the order is reversed, as you can see in the two examples below.\n",
        "\n",
        "```\n",
        "print(name_list[::-1])\n",
        "print(name_list[::-2])\n",
        "```"
      ],
      "metadata": {
        "id": "STmvSTyTbHKn"
      }
    },
    {
      "cell_type": "code",
      "source": [
        "print(name_list[::-1])\n",
        "print(name_list[::-2])"
      ],
      "metadata": {
        "id": "lvMPuuoFZ_jm",
        "colab": {
          "base_uri": "https://localhost:8080/"
        },
        "outputId": "8c248cb0-6e10-4f1e-e38c-2f627ff7cbf7"
      },
      "execution_count": null,
      "outputs": [
        {
          "output_type": "stream",
          "name": "stdout",
          "text": [
            "['neptune', 'uranus', 'saturn', 'jupiter', 'mars', 'earth', 'venus', 'mercury']\n",
            "['neptune', 'saturn', 'mars', 'venus']\n"
          ]
        }
      ]
    },
    {
      "cell_type": "markdown",
      "source": [
        "Compare the second line in this example to the first line in the previous example. They do not contain the same values! Why? Well, when we specify a negative index, the list basically reverses order FIRST before doing anything else. As a result, we start counting from -1 and then go down to -len(my_list).\n",
        "\n",
        "See the below examples for how this changes what we need to do for start and stop.\n",
        "\n",
        "```\n",
        "print(name_list[1:6:-1])\n",
        "print(name_list[5:0:-1])\n",
        "print(name_list[-3:-8:-1])\n",
        "```"
      ],
      "metadata": {
        "id": "mGOd1rSbdn1Z"
      }
    },
    {
      "cell_type": "code",
      "source": [
        "print(name_list[1:6:-1])\n",
        "print(name_list[5:0:-1])\n",
        "print(name_list[-3:-8:-1])"
      ],
      "metadata": {
        "id": "kRrcBI7whRd1",
        "colab": {
          "base_uri": "https://localhost:8080/"
        },
        "outputId": "3a5cd7a0-577b-4a35-b9ee-5e159da7f8fa"
      },
      "execution_count": null,
      "outputs": [
        {
          "output_type": "stream",
          "name": "stdout",
          "text": [
            "[]\n",
            "['saturn', 'jupiter', 'mars', 'earth', 'venus']\n",
            "['saturn', 'jupiter', 'mars', 'earth', 'venus']\n"
          ]
        }
      ]
    },
    {
      "cell_type": "markdown",
      "source": [
        "In the first line, we tried to get the planets from Venus to Saturn in reverse order, but it returned an empty list. The second and the third lines do this successfully.\n",
        "\n",
        "Now it's your turn!\n",
        "\n",
        "1. Get the outer planets again, but this time in reverse order.\n",
        "\n",
        "```\n",
        "print(name_list[start:stop])\n",
        "```\n",
        "2. Try to predict what the output of these two lines will be BEFORE you run them\n",
        "\n",
        "```\n",
        "print(name_list[2:4:2])\n",
        "print(name_list[6::-2])\n",
        "```"
      ],
      "metadata": {
        "id": "9zKNbKa4h9_N"
      }
    },
    {
      "cell_type": "code",
      "source": [
        "print(name_list[:3:-1])"
      ],
      "metadata": {
        "id": "ULbKJJjYjL03",
        "colab": {
          "base_uri": "https://localhost:8080/"
        },
        "outputId": "821a5ede-9874-48e2-f49f-839e2dcc75b0"
      },
      "execution_count": null,
      "outputs": [
        {
          "output_type": "stream",
          "name": "stdout",
          "text": [
            "['neptune', 'uranus', 'saturn', 'jupiter']\n"
          ]
        }
      ]
    },
    {
      "cell_type": "code",
      "source": [
        "print(name_list[2:4:2])\n",
        "print(name_list[6::-2])"
      ],
      "metadata": {
        "id": "w4vbWAKPjXRM",
        "colab": {
          "base_uri": "https://localhost:8080/"
        },
        "outputId": "90326739-bc0d-4bea-c575-d9ea2eecaaf6"
      },
      "execution_count": null,
      "outputs": [
        {
          "output_type": "stream",
          "name": "stdout",
          "text": [
            "['earth']\n",
            "['uranus', 'jupiter', 'earth', 'mercury']\n"
          ]
        }
      ]
    },
    {
      "cell_type": "markdown",
      "source": [
        "## 2.3 Editing lists\n",
        "\n",
        "Note that all the methods described below change the list in place. In other words, using any one of these methods permanently changes the contents of the list.\n",
        "\n",
        "### 2.3.1 Appending items to the list\n",
        "You can use the append method shown below to expand your lists. The format (or \"syntax\") for using append is as follows:\n",
        "```\n",
        "your_list_here.append(element)\n",
        "```\n",
        "__Note:__ the element you could be appending could be a string, a number, or even a list. The appended item always goes at the end, after all the original values in the list.\n",
        "\n",
        "Lets take a look at this in action below!\n",
        "```\n",
        "empty_list = []\n",
        "print(empty_list)\n",
        "\n",
        "empty_list.append(3)\n",
        "print(empty_list)\n",
        "\n",
        "empty_list.append(6)\n",
        "empty_list.append(9)\n",
        "print(empty_list)\n",
        "```"
      ],
      "metadata": {
        "id": "NSJWA8bZbA9J"
      }
    },
    {
      "cell_type": "code",
      "source": [
        "empty_list = []\n",
        "print(empty_list)\n",
        "\n",
        "empty_list.append(3)\n",
        "print(empty_list)\n",
        "\n",
        "empty_list.append(6)\n",
        "empty_list.append(9)\n",
        "print(empty_list)"
      ],
      "metadata": {
        "id": "u350BfQtkcMm",
        "colab": {
          "base_uri": "https://localhost:8080/"
        },
        "outputId": "51a1d2a6-bac7-40af-b899-6b288bdafda1"
      },
      "execution_count": null,
      "outputs": [
        {
          "output_type": "stream",
          "name": "stdout",
          "text": [
            "[]\n",
            "[3]\n",
            "[3, 6, 9]\n"
          ]
        }
      ]
    },
    {
      "cell_type": "markdown",
      "source": [
        "### 2.3.2 Extending Lists\n",
        "\n",
        "Let's say you have two lists that you want to put together. You can do this using the extend method:\n",
        "```\n",
        "list1.extend(list2)\n",
        "```\n",
        "Let's see an example below\n",
        "```\n",
        "planets = ['mercury','venus','earth','mars']\n",
        "outer_planets = ['jupiter','saturn','uranus','neptune']\n",
        "\n",
        "planets.extend(outer_planets)\n",
        "print(planets)\n",
        "```"
      ],
      "metadata": {
        "id": "lNVGgTHWthL3"
      }
    },
    {
      "cell_type": "code",
      "source": [
        "planets = ['mercury','venus','earth','mars']\n",
        "outer_planets = ['jupiter','saturn','uranus','neptune']\n",
        "\n",
        "planets.extend(outer_planets)\n",
        "print(planets)"
      ],
      "metadata": {
        "id": "AEWIs9MYtxup",
        "colab": {
          "base_uri": "https://localhost:8080/"
        },
        "outputId": "d2b168df-6de3-4321-f205-b66abb4b5390"
      },
      "execution_count": null,
      "outputs": [
        {
          "output_type": "stream",
          "name": "stdout",
          "text": [
            "['mercury', 'venus', 'earth', 'mars', 'jupiter', 'saturn', 'uranus', 'neptune']\n"
          ]
        }
      ]
    },
    {
      "cell_type": "markdown",
      "source": [
        "In the cell below, you can see what happens if you use append instead. As you can see, the behavior is quite different!\n",
        "```\n",
        "planets = ['mercury','venus','earth','mars']\n",
        "outer_planets = ['jupiter','saturn','uranus','neptune']\n",
        "\n",
        "planets.append(outer_planets)\n",
        "print(planets)\n",
        "```"
      ],
      "metadata": {
        "id": "B0nmPniYujZG"
      }
    },
    {
      "cell_type": "code",
      "source": [
        "planets = ['mercury','venus','earth','mars']\n",
        "outer_planets = ['jupiter','saturn','uranus','neptune']\n",
        "\n",
        "planets.append(outer_planets)\n",
        "print(planets)"
      ],
      "metadata": {
        "id": "zWmCsNfkuqSy",
        "colab": {
          "base_uri": "https://localhost:8080/"
        },
        "outputId": "ddaa55ba-db32-424d-fba9-2432c47e9457"
      },
      "execution_count": null,
      "outputs": [
        {
          "output_type": "stream",
          "name": "stdout",
          "text": [
            "['mercury', 'venus', 'earth', 'mars', ['jupiter', 'saturn', 'uranus', 'neptune']]\n"
          ]
        }
      ]
    },
    {
      "cell_type": "markdown",
      "source": [
        "### 2.3.3 Specifying the index \n",
        "\n",
        "Oftentimes, it is useful to *initialize* a list when we know how long the list is going to be and then fill it up with values afterwards for memory reasons. This can provide extremely substatial speed ups to your code.\n",
        "```\n",
        "init_list = [0,0,0,0,0]  # initialize a list with all 0's\n",
        "\n",
        "init_list[0] = 4  # change a couple of the values\n",
        "init_list[3] = 10\n",
        "\n",
        "print(init_list)  # the list is now different from before!\n",
        "```"
      ],
      "metadata": {
        "id": "73XM6jcajqb4"
      }
    },
    {
      "cell_type": "code",
      "source": [
        "init_list = [0,0,0,0,0]  # initialize a list with all 0's\n",
        "\n",
        "init_list[0] = 4  # change a couple of the values\n",
        "init_list[3] = 10\n",
        "\n",
        "print(init_list)  # the list is now different from before!"
      ],
      "metadata": {
        "id": "nu4V4DtybDM3",
        "colab": {
          "base_uri": "https://localhost:8080/"
        },
        "outputId": "910c4fb5-4682-4441-80a2-16162444ce42"
      },
      "execution_count": null,
      "outputs": [
        {
          "output_type": "stream",
          "name": "stdout",
          "text": [
            "[4, 0, 0, 10, 0]\n"
          ]
        }
      ]
    },
    {
      "cell_type": "markdown",
      "source": [
        "### 2.3.4 Multiplying Lists\n",
        "\n",
        "Sometimes, it's nice to not have to write something out a bunch of times. This is especially true when we want to have a list with a bunch of the same values repeated. In the previous section, we initialized a list by writing out a bunch of 0's by hand. Clearly, there must be a better way to do this! Naturally, there is! It turns out by multiplying lists by an integer, we can repeat that list that many times! See what happens when you run the below examples:\n",
        "```\n",
        "init_list = 40*[0]\n",
        "print(init_list)\n",
        "\n",
        "other_list = 20*[1,2]\n",
        "print(other_list)\n",
        "```"
      ],
      "metadata": {
        "id": "mPs5EkLuL5kM"
      }
    },
    {
      "cell_type": "code",
      "source": [
        "init_list = 40*[0]\n",
        "print(init_list)\n",
        "\n",
        "other_list = 20*[1,2]\n",
        "print(other_list)"
      ],
      "metadata": {
        "id": "TwMAvQ7uOM0Q",
        "colab": {
          "base_uri": "https://localhost:8080/"
        },
        "outputId": "ab84f3a3-e452-4a04-9f08-076e4bd77f0f"
      },
      "execution_count": null,
      "outputs": [
        {
          "output_type": "stream",
          "name": "stdout",
          "text": [
            "[0, 0, 0, 0, 0, 0, 0, 0, 0, 0, 0, 0, 0, 0, 0, 0, 0, 0, 0, 0, 0, 0, 0, 0, 0, 0, 0, 0, 0, 0, 0, 0, 0, 0, 0, 0, 0, 0, 0, 0]\n",
            "[1, 2, 1, 2, 1, 2, 1, 2, 1, 2, 1, 2, 1, 2, 1, 2, 1, 2, 1, 2, 1, 2, 1, 2, 1, 2, 1, 2, 1, 2, 1, 2, 1, 2, 1, 2, 1, 2, 1, 2]\n"
          ]
        }
      ]
    },
    {
      "cell_type": "markdown",
      "source": [
        "## 2.4 for loops\n",
        "### 2.4.1 Basics\n",
        "\n",
        "Now that we have a good understanding of how to work with lists, let's look at one of their most powerful and common uses in Python. The structure of a for loop is as follows:\n",
        "```\n",
        "for thing in my_list:\n",
        "    do something with thing # note the indent here\n",
        "\n",
        "now do something else # this isn't indented so it's not in the loop\n",
        "```\n",
        "In plain English, this code block says that for each thing in my_list, do something using thing. Keep in mind when you use a for loop with a list (known as iterating for the list), the order of the list is preserved. \n",
        "\n",
        "Finally, notice the indentation. You MUST have the lines of code after the for statement indented for python to recognize it as part of the for loop. Once you have a single line of code not indented, you're telling the python interpreter that the for loop code is over. It will not advance to the unindented lines until it has finished iterating over the code in the for loop. The general practice in python is to use 4 spaces for each level of indentation.\n",
        "\n",
        "Let's look at example now using one of the lists from previous examples\n",
        "```\n",
        "for name in name_list:\n",
        "    print('There is a planet named', name)\n",
        "```"
      ],
      "metadata": {
        "id": "tAcWW6Y2u00X"
      }
    },
    {
      "cell_type": "code",
      "source": [
        "for name in name_list:\n",
        "    print('There is a planet named', name)"
      ],
      "metadata": {
        "id": "1zXZQdeIyLFz",
        "colab": {
          "base_uri": "https://localhost:8080/"
        },
        "outputId": "37d40159-2f06-4375-f06d-058286ba1506"
      },
      "execution_count": null,
      "outputs": [
        {
          "output_type": "stream",
          "name": "stdout",
          "text": [
            "There is a planet named mercury\n",
            "There is a planet named venus\n",
            "There is a planet named earth\n",
            "There is a planet named mars\n",
            "There is a planet named jupiter\n",
            "There is a planet named saturn\n",
            "There is a planet named uranus\n",
            "There is a planet named neptune\n"
          ]
        }
      ]
    },
    {
      "cell_type": "code",
      "source": [
        ""
      ],
      "metadata": {
        "id": "BTzIVrgF_GOs"
      },
      "execution_count": null,
      "outputs": []
    },
    {
      "cell_type": "markdown",
      "source": [
        "If the list contains numbers, we can also do mathematical operations.\n",
        "```\n",
        "for dist in dist_list:\n",
        "    print(dist**3)\n",
        "```"
      ],
      "metadata": {
        "id": "yOncxJ5K0JYl"
      }
    },
    {
      "cell_type": "code",
      "source": [
        "for dist in dist_list:\n",
        "    print(dist**3)"
      ],
      "metadata": {
        "id": "M6fQHC39yVea",
        "colab": {
          "base_uri": "https://localhost:8080/"
        },
        "outputId": "b7d71954-2588-4f4a-8749-9dcdd71377ee"
      },
      "execution_count": null,
      "outputs": [
        {
          "output_type": "stream",
          "name": "stdout",
          "text": [
            "0.06400000000000002\n",
            "0.3429999999999999\n",
            "1.0\n",
            "3.375\n",
            "140.608\n",
            "857.375\n",
            "7077.887999999999\n",
            "27270.901000000005\n"
          ]
        }
      ]
    },
    {
      "cell_type": "markdown",
      "source": [
        "### 2.4.2 range()\n",
        "\n",
        "In the previous section, we mentioned that it is common to initialize a list and then fill it with values afterwards. We can do this systematically with for loops. One way we can do this is with the range() function.\n",
        "\n",
        "Instead of a list, range() takes an integer and returns an iterable (a cousin of the list) that allows you to loop over integers. Before we repeat the previous example, let's see how this function behaves below.\n",
        "```\n",
        "print(range(10))\n",
        "\n",
        "for i in range(10):\n",
        "    print(i)\n",
        "```"
      ],
      "metadata": {
        "id": "yZLTeDws1S8h"
      }
    },
    {
      "cell_type": "code",
      "source": [
        "print(range(10))\n",
        "\n",
        "for i in range(10):\n",
        "    print(i)"
      ],
      "metadata": {
        "id": "pvikY3Wp2aMk",
        "colab": {
          "base_uri": "https://localhost:8080/"
        },
        "outputId": "738b4415-f37d-40b9-8e7d-5d5a2b3f27db"
      },
      "execution_count": null,
      "outputs": [
        {
          "output_type": "stream",
          "name": "stdout",
          "text": [
            "range(0, 10)\n",
            "0\n",
            "1\n",
            "2\n",
            "3\n",
            "4\n",
            "5\n",
            "6\n",
            "7\n",
            "8\n",
            "9\n"
          ]
        }
      ]
    },
    {
      "cell_type": "markdown",
      "source": [
        "Notice that the inputs of the range function behave similarly to index slicing. The optional start argument defaults to 0. Then we iterate and stop *before* stop, just like in slicing. This is useful because the output of range can be used to directly access the elements of a list without any modification. If you wanted a list containing the numbers from 0 to 9, we could turn the range iterable into a list like so:\n",
        "```\n",
        "list(range(10))\n",
        "```\n",
        "\n"
      ],
      "metadata": {
        "id": "KeCCumUr25hP"
      }
    },
    {
      "cell_type": "code",
      "source": [
        "print(list(range(10)))"
      ],
      "metadata": {
        "id": "-iWNjhceP7oj",
        "colab": {
          "base_uri": "https://localhost:8080/"
        },
        "outputId": "bf839695-9b5a-44c8-b9b8-1e3b6d5536f1"
      },
      "execution_count": null,
      "outputs": [
        {
          "output_type": "stream",
          "name": "stdout",
          "text": [
            "[0, 1, 2, 3, 4, 5, 6, 7, 8, 9]\n"
          ]
        }
      ]
    },
    {
      "cell_type": "markdown",
      "source": [
        "Now, we can redo the previous example using range()\n",
        "```\n",
        "dist3_list = len(dist_list)*[0] # make a list the same length as dist_list but with all 0's\n",
        "for i in range(len(dist_list)):\n",
        "    dist3_list[i] = dist_list[i]**3\n",
        "\n",
        "print(dist3_list)\n",
        "```"
      ],
      "metadata": {
        "id": "z85KwJCXP8Be"
      }
    },
    {
      "cell_type": "code",
      "source": [
        "dist3_list = len(dist_list)*[0] # make a list the same length as dist_list but with all 0's\n",
        "for i in range(len(dist_list)):\n",
        "    dist3_list[i] = dist_list[i]**3\n",
        "\n",
        "print(dist3_list)"
      ],
      "metadata": {
        "id": "MH5IcqcP2ztN",
        "colab": {
          "base_uri": "https://localhost:8080/"
        },
        "outputId": "664c8431-83ea-4270-916f-5067d1bc00e7"
      },
      "execution_count": null,
      "outputs": [
        {
          "output_type": "stream",
          "name": "stdout",
          "text": [
            "[0.06400000000000002, 0.3429999999999999, 1.0, 3.375, 140.608, 857.375, 7077.887999999999, 27270.901000000005]\n"
          ]
        }
      ]
    },
    {
      "cell_type": "markdown",
      "source": [
        "## 2.5 Practice Problem: Kepler's Third Law\n",
        "\n",
        "Kepler's third law relates the distance of a planet from the sun to its orbital period, or the time it takes to complete a full orbit:\n",
        "$$T = 2\\pi\\sqrt{\\frac{a^3}{G(M+m)}}$$\n",
        "\n",
        "Here, G is Newton's gravitational constant, M is the mass of the sun, m is the mass of the planet, and a is the semimajor axis of the planet, which is essentially just the distance. In practice, the masses of the planets are extremely small compared to the mass of the sun, so we can just $M+m\\approx M$ and ignore the mass of the planet in the equation.\n",
        "\n",
        "You have two tasks\n",
        ">- Create a new list that contains the period of each planet in seconds\n",
        ">- Calculate the conversion from seconds to years\n",
        ">- For each planet, print out the following sentence: \"The period of [planet] in years is [period]\"\n",
        "\n",
        "For these tasks, you'll need a few things. You'll need to define variables G (in SI units) and Msun (in kilograms). You can look both of these up. You already have a list of the names of the planets above. You also have a list of the distances, but in units of au, so you'll need to also define a variable to convert from au to meters. If you wish, you can also define a new list with the planet masses in kilograms.\n",
        "\n",
        "You'll also need the value of pi and the square root function. I've defined pi for you below. For the square root function, recall that $sqrt(x)=x^{0.5}$"
      ],
      "metadata": {
        "id": "dSY1xVfuAHDZ"
      }
    },
    {
      "cell_type": "code",
      "source": [
        "pi = 3.141592653589793\n",
        "print(pi)\n",
        "print(4**0.5)"
      ],
      "metadata": {
        "id": "fTm_P5aNYvB1",
        "colab": {
          "base_uri": "https://localhost:8080/"
        },
        "outputId": "78333b0d-16cf-4d69-8925-8b8719e201e6"
      },
      "execution_count": null,
      "outputs": [
        {
          "output_type": "stream",
          "name": "stdout",
          "text": [
            "3.141592653589793\n",
            "2.0\n"
          ]
        }
      ]
    },
    {
      "cell_type": "code",
      "source": [
        "Msun = 2e30 # kg\n",
        "G = 6.67e-11 # SI\n",
        "au_to_m = 1.5e11 # look this up\n",
        "s_to_yr = 1/(60*60*24*365.25) # calculate this\n",
        "# mass_list = # look these up (optional)\n",
        "\n",
        "period_list = [2*pi*((dist*au_to_m)**3/(G*Msun))**0.5 for dist in dist_list] # complete this\n",
        "\n",
        "for i in range(len(period_list)): # complete this\n",
        "    print('The period of ' + str(name_list[i]) + ' in years is ' + str(period_list[i]*s_to_yr))"
      ],
      "metadata": {
        "id": "8H2cP6hg9vGO",
        "colab": {
          "base_uri": "https://localhost:8080/"
        },
        "outputId": "454e1f94-a83b-4ef8-9322-af086e9185a5"
      },
      "execution_count": null,
      "outputs": [
        {
          "output_type": "stream",
          "name": "stdout",
          "text": [
            "The period of mercury in years is 0.2533523062839737\n",
            "The period of venus in years is 0.5865187969480535\n",
            "The period of earth in years is 1.0014629228924337\n",
            "The period of mars in years is 1.8398048680520083\n",
            "The period of jupiter in years is 11.875171503831021\n",
            "The period of saturn in years is 29.323802310328702\n",
            "The period of uranus in years is 84.25326080613009\n",
            "The period of neptune in years is 165.38062103638043\n"
          ]
        }
      ]
    },
    {
      "cell_type": "code",
      "source": [
        ""
      ],
      "metadata": {
        "id": "27ITUEHwzlyW"
      },
      "execution_count": null,
      "outputs": []
    }
  ]
}