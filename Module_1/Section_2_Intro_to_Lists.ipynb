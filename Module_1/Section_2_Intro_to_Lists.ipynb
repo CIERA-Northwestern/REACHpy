{
  "nbformat": 4,
  "nbformat_minor": 0,
  "metadata": {
    "colab": {
      "name": "Section_2_Intro_to_Lists",
      "provenance": []
    },
    "kernelspec": {
      "name": "python3",
      "display_name": "Python 3"
    },
    "language_info": {
      "name": "python"
    }
  },
  "cells": [
    {
      "cell_type": "markdown",
      "source": [
        "# Lists in Python\n",
        "## Getting Started\n",
        "\n",
        "As the name of this data structure suggests, a list in Python is literally a list of stuff. What that stuff is depends on what you're trying to do. Essentially, lists can contain whatever you want, as long as the contents are valid data types in Python.\n",
        "\n",
        "In order to create a list, we enclose a comma-separated list of items with square brackets. If you have a really long list, you can include a line break immediately following a comma, as shown below"
      ],
      "metadata": {
        "id": "r8Ggvlw1v0X7"
      }
    },
    {
      "cell_type": "code",
      "execution_count": null,
      "metadata": {
        "id": "1rzBKPm3rMCA"
      },
      "outputs": [],
      "source": [
        "my_list_one = [2, 8, 4]                # list of numbers\n",
        "my_list_two = ['cat', 'dog', 'llama']  # list of strings, must use 'string'\n",
        "my_list_three = [True, False, False]   # list of Booleans\n",
        "\n",
        "my_list_four = [3, 1, 8, 4, # A really\n",
        "                1, 2, 7, 3, # really\n",
        "                2, 2, 6, 9, # really\n",
        "                6, 6, 4, 8, # really\n",
        "                7, 6, 2, 1] # long list"
      ]
    },
    {
      "cell_type": "markdown",
      "source": [
        "Note that in the above four examples, we are storing each list in a variable. E.g., the list [2, 8, 4] is being stored to the variable my_list_one.\n",
        "\n",
        "While in the examples above we have shown that you can store numbers (floats and ints) and strings, you can also ___store variables___ in lists. Those variables may contain a number, string, or even another list! In the below example, we're setting the variables right before putting them in the list, but in real applications, the variable values could be set by the result of some function or by user input."
      ],
      "metadata": {
        "id": "7CK-nVRlx0P7"
      }
    },
    {
      "cell_type": "code",
      "source": [
        "example_variable_one = 48\n",
        "example_variable_two = 12\n",
        "example_variable_three = 10\n",
        "my_list_five = [example_variable_one, \n",
        "                example_variable_two, \n",
        "                example_variable_three]   # list of predefined variables\n",
        "\n",
        "print(my_list_five) # Note the outputs!"
      ],
      "metadata": {
        "colab": {
          "base_uri": "https://localhost:8080/"
        },
        "id": "SB5xS9BnxhJn",
        "outputId": "ca0e7867-462e-417d-d843-8da697496520"
      },
      "execution_count": null,
      "outputs": [
        {
          "output_type": "stream",
          "name": "stdout",
          "text": [
            "[48, 12, 10]\n"
          ]
        }
      ]
    },
    {
      "cell_type": "markdown",
      "source": [
        "### Checking how long your list is\n",
        "It is often helpful to make sure your code looks the way you want it to. If you are working with lists, one way to do that is to make sure it is composed of as many elements as you need it to be! For example, if I am storing the temperature of 5 stars for later use, I may want to check that the list is 5 elements long. Incorporating checks like this in your code can be very helpful for avoiding (and finding) bugs in your code."
      ],
      "metadata": {
        "id": "cMtGBz1f0P0f"
      }
    },
    {
      "cell_type": "code",
      "execution_count": null,
      "metadata": {
        "ExecuteTime": {
          "end_time": "2021-05-28T15:01:40.442476Z",
          "start_time": "2021-05-28T15:01:40.439664Z"
        },
        "id": "UMOuor39vWNp",
        "colab": {
          "base_uri": "https://localhost:8080/"
        },
        "outputId": "ff6020e7-0a84-45b3-d7a0-4e18fd81be5e"
      },
      "outputs": [
        {
          "output_type": "stream",
          "name": "stdout",
          "text": [
            "5\n"
          ]
        }
      ],
      "source": [
        "my_list = [2, 8, 6, 4, 10]\n",
        "list_length = len(my_list)  # returns the length, or number of items, in the list (5)\n",
        "print(list_length)"
      ]
    },
    {
      "cell_type": "markdown",
      "metadata": {
        "id": "C5gDFnvmvWNq"
      },
      "source": [
        "### Sorting your list\n",
        "It can beneficial to order your list from smallest to largest, or vice versa - if your list consists of __only__ numbers (float or int) or __only__ strings!<br>\n",
        "__Note__: When sorting is done as it is shown below, the sorting is done \"in place\". This means that the list __itself__ is sorted, instead of a __sorted__ copy being made.\n",
        "\n",
        "__For example:__\n",
        "\n",
        "> - example_list = [17, 8, 29]\n",
        "> - example_list.sorted( )          __# The list \"example_list\" is now sorted__\n",
        "> - print(example_list)\n",
        "> - __The output of this list would now be a list with the following elements: [8, 17, 29]__. "
      ]
    },
    {
      "cell_type": "code",
      "execution_count": null,
      "metadata": {
        "ExecuteTime": {
          "end_time": "2021-05-28T15:01:40.446330Z",
          "start_time": "2021-05-28T15:01:40.443908Z"
        },
        "id": "0-evaOJqvWNq",
        "colab": {
          "base_uri": "https://localhost:8080/"
        },
        "outputId": "d45f54ce-9506-4011-8139-003aa923e7c2"
      },
      "outputs": [
        {
          "output_type": "stream",
          "name": "stdout",
          "text": [
            "[2, 4, 6, 8, 10]\n"
          ]
        }
      ],
      "source": [
        "my_list.sort()  # sorts the list from smallest to largest [2, 4, 6, 8, 10]\n",
        "print(my_list)"
      ]
    },
    {
      "cell_type": "code",
      "execution_count": null,
      "metadata": {
        "ExecuteTime": {
          "end_time": "2021-05-28T15:01:40.450755Z",
          "start_time": "2021-05-28T15:01:40.448197Z"
        },
        "id": "n8yn_nGNvWNr",
        "colab": {
          "base_uri": "https://localhost:8080/"
        },
        "outputId": "f67e3de6-c36a-44ab-d1f6-0c0d673250d1"
      },
      "outputs": [
        {
          "output_type": "stream",
          "name": "stdout",
          "text": [
            "[10, 8, 6, 4, 2]\n"
          ]
        }
      ],
      "source": [
        "my_list.sort(reverse=True)  # reverse-sorts the list [10, 8, 6, 4, 2]\n",
        "print(my_list)"
      ]
    },
    {
      "cell_type": "markdown",
      "metadata": {
        "id": "i1wJ3D9fvWNr"
      },
      "source": [
        "### Your turn: Create a list!\n",
        "__Tasks__: <br>\n",
        "> - Create a list for numbers 1-10 (inclusive of both 1 and 10) <br>\n",
        "> -Create a list of with your first, middle, and last name(s) <br>\n",
        "\n",
        "Try making these lists in the cell below!"
      ]
    },
    {
      "cell_type": "code",
      "execution_count": null,
      "metadata": {
        "ExecuteTime": {
          "end_time": "2021-05-28T15:01:40.454052Z",
          "start_time": "2021-05-28T15:01:40.452324Z"
        },
        "id": "8A5B2q8lvWNr"
      },
      "outputs": [],
      "source": [
        "# your code below\n",
        "\n",
        "\n"
      ]
    },
    {
      "cell_type": "markdown",
      "metadata": {
        "id": "VM1opfLyvWNs"
      },
      "source": [
        "### Your turn: Sort your list!\n",
        "__Tasks__:\n",
        "> - sort your numbered list from __smallest to largest__ \n",
        "> - sort your numbered list from __largest to smallest__ "
      ]
    },
    {
      "cell_type": "code",
      "execution_count": null,
      "metadata": {
        "ExecuteTime": {
          "end_time": "2021-05-28T15:01:40.458405Z",
          "start_time": "2021-05-28T15:01:40.456451Z"
        },
        "id": "2WPtzNeLvWNs"
      },
      "outputs": [],
      "source": [
        "# your code below\n",
        "\n",
        "\n"
      ]
    },
    {
      "cell_type": "markdown",
      "source": [
        "STOP\n",
        "\n",
        "## Slicing Lists in Python\n",
        "\n",
        "Sometimes (or oftentimes), when working with lists, it is useful to get one entry or a subset of the list. When we do this in Python, we call it slicing the list and we call the subset we got a slice. Note that the rules for slicing are the same \n",
        "\n",
        "### One at a Time\n",
        "\n",
        "First, let's start with the simplest example. Let's say we want to access a specific entry in the list. We call the position of an entry of a list its index. We can access an entry by putting its index in square brackets next to the list's name like below.\n",
        "\n",
        "\n",
        "Note: Counting in Python (and in a lot of programming languages in general), we count starting from 0 instead of 1."
      ],
      "metadata": {
        "id": "nfD-LYda0xn7"
      }
    },
    {
      "cell_type": "code",
      "source": [
        "dist_list = [0.4, 0.7, 1.0, 1.5,    # distance of planets from the sun \n",
        "             5.2, 9.5, 19.2, 30.1]  # in units of Earth's distance (\"au\")\n",
        "\n",
        "print('The distance of Mercury is {} au'.format(dist_list[0]))\n",
        "\n",
        "print('The distance of Jupiter is {} au'.format(dist_list[4]))"
      ],
      "metadata": {
        "colab": {
          "base_uri": "https://localhost:8080/"
        },
        "id": "55QkEla0116C",
        "outputId": "743c7c64-7170-40c2-a73e-c36e331c65be"
      },
      "execution_count": null,
      "outputs": [
        {
          "output_type": "stream",
          "name": "stdout",
          "text": [
            "The distance of Mercury is 0.4 au\n",
            "The distance of Jupiter is 5.2 au\n"
          ]
        }
      ]
    },
    {
      "cell_type": "markdown",
      "source": [
        "We can also count backwards! We just need to use negative numbers instead of positive numbers."
      ],
      "metadata": {
        "id": "l38OodQ2-3Ca"
      }
    },
    {
      "cell_type": "code",
      "source": [
        "print('The distance of the furthest planet is {} au'.format(dist_list[-1]))\n",
        "\n",
        "print('The distance of the second furthest planet is {} au'.format(dist_list[-2]))"
      ],
      "metadata": {
        "colab": {
          "base_uri": "https://localhost:8080/"
        },
        "id": "mm4IpywV9yrL",
        "outputId": "7e7ffd07-6c2d-4465-a81d-ea12a86dc1d9"
      },
      "execution_count": null,
      "outputs": [
        {
          "output_type": "stream",
          "name": "stdout",
          "text": [
            "The distance of the furthest planet is 30.1 au\n",
            "The distance of the second furthest planet is 19.2 au\n"
          ]
        }
      ]
    },
    {
      "cell_type": "markdown",
      "source": [
        "Keep in mind that you cannot access an index that does not exist. See what happens when you run the two cells below"
      ],
      "metadata": {
        "id": "0dX9z4ypDV6P"
      }
    },
    {
      "cell_type": "code",
      "source": [
        "# Uncomment the below\n",
        "#print(dist_list[10])"
      ],
      "metadata": {
        "id": "GTRJ3tttAr3G"
      },
      "execution_count": null,
      "outputs": []
    },
    {
      "cell_type": "code",
      "source": [
        "# Uncomment the below\n",
        "#print(dist_list[-9])"
      ],
      "metadata": {
        "id": "Owyqe8u4EUaf"
      },
      "execution_count": null,
      "outputs": []
    },
    {
      "cell_type": "markdown",
      "source": [
        "### Slicing Multiple Items\n",
        "\n",
        "So far, we've only tried accessing one item from a list but in a lot of cases we want more than one value. When you take a slice of a list, __you have three options__ you can control: \n",
        "\n",
        "> - The start index\n",
        "> - The end index (which is non-inclusive in the slice)\n",
        "> - Lastly, a \"step value\", which controls how you want to step over the items included in your slice (one by one, every other, etc.).\n",
        "\n",
        "When slicing a list, it's formatted like my_list[start:stop:step].\n",
        "\n",
        "Let's go through each one individually. First, let's make a list with the names of all the planets in order."
      ],
      "metadata": {
        "id": "DC8Q0jMFIB1d"
      }
    },
    {
      "cell_type": "code",
      "source": [
        "name_list = ['mercury','venus','earth','mars',\n",
        "             'jupiter','saturn','uranus','neptune']"
      ],
      "metadata": {
        "id": "LTEtCF_RH268"
      },
      "execution_count": null,
      "outputs": []
    },
    {
      "cell_type": "markdown",
      "source": [
        "Now, let's do some stuff with this list. Let's start by getting the whole list except mercury. In this case, we're excluding the 0th value and starting on the 1st."
      ],
      "metadata": {
        "id": "xv3Gb7ZhMH-D"
      }
    },
    {
      "cell_type": "code",
      "source": [
        "print(name_list[1:])\n",
        "print(name_list[1::])\n",
        "print(name_list[-7:])\n",
        "print(name_list[-7::])"
      ],
      "metadata": {
        "colab": {
          "base_uri": "https://localhost:8080/"
        },
        "id": "1ZadOLKXNOGF",
        "outputId": "6df922b0-5129-4738-d87f-b655cdc25741"
      },
      "execution_count": null,
      "outputs": [
        {
          "output_type": "stream",
          "name": "stdout",
          "text": [
            "['venus', 'earth', 'mars', 'jupiter', 'saturn', 'uranus', 'neptune']\n",
            "['venus', 'earth', 'mars', 'jupiter', 'saturn', 'uranus', 'neptune']\n",
            "['venus', 'earth', 'mars', 'jupiter', 'saturn', 'uranus', 'neptune']\n",
            "['venus', 'earth', 'mars', 'jupiter', 'saturn', 'uranus', 'neptune']\n"
          ]
        }
      ]
    },
    {
      "cell_type": "markdown",
      "source": [
        "Notice that in the above example we only included a value for start. If the other values aren't filled in, they default to stop=len(my_list) and step=1. Also notice that the first and second lines resulted in the same output. In otherwords, the step parameter and its associated colon are completely optional.\n",
        "\n",
        "Next, notice that the third and fourth lines resulted in exactly the same list as the first and second. When working with lists, we can always count backwards from the last index instead of starting from 0.\n",
        "\n",
        "Next, let's try to get all the planets except the last two. Remember that the value we specify for the end index is exclusive. In other words, we stop BEFORE end."
      ],
      "metadata": {
        "id": "6h4BeFzhNema"
      }
    },
    {
      "cell_type": "code",
      "source": [
        "print(name_list[:6])\n",
        "print(name_list[:6:])\n",
        "print(name_list[:-2])\n",
        "print(name_list[:-2:])"
      ],
      "metadata": {
        "colab": {
          "base_uri": "https://localhost:8080/"
        },
        "id": "cJf7KU7ZNcxE",
        "outputId": "c6eb214b-c610-4f95-baf0-dfc6ea1c2170"
      },
      "execution_count": null,
      "outputs": [
        {
          "output_type": "stream",
          "name": "stdout",
          "text": [
            "['mercury', 'venus', 'earth', 'mars', 'jupiter', 'saturn']\n",
            "['mercury', 'venus', 'earth', 'mars', 'jupiter', 'saturn']\n",
            "['mercury', 'venus', 'earth', 'mars', 'jupiter', 'saturn']\n",
            "['mercury', 'venus', 'earth', 'mars', 'jupiter', 'saturn']\n"
          ]
        }
      ]
    },
    {
      "cell_type": "markdown",
      "source": [
        "Now, we can see that if we don't specify start, the default is start=0. Again, we see that it doesn't matter whether or not we include the second colon and it also doesn't matter whether we use an entry's positive or negative index. \n",
        "\n",
        "In practice, it's often simpler to specify start with the positive index and stop with either the positive or the negative index depending on how long the list is. \n",
        "\n",
        "Next, we can combine these two. In the following example, let's get a list with the planets next to the asteroid belt. The first one is mars, at index 3, and the second is jupiter, at index 4. In that case, we want to stop BEFORE Saturn, at index 5 or -3."
      ],
      "metadata": {
        "id": "Px6LMOvqO2fi"
      }
    },
    {
      "cell_type": "code",
      "source": [
        "print(name_list[3:5])\n",
        "print(name_list[3:-3:])"
      ],
      "metadata": {
        "colab": {
          "base_uri": "https://localhost:8080/"
        },
        "id": "32faafOsOYoF",
        "outputId": "ecf61bb6-4172-43bc-871a-6e513974958e"
      },
      "execution_count": null,
      "outputs": [
        {
          "output_type": "stream",
          "name": "stdout",
          "text": [
            "['mars', 'jupiter']\n",
            "['mars', 'jupiter']\n"
          ]
        }
      ]
    },
    {
      "cell_type": "markdown",
      "source": [
        "Now it's your turn! In the cell below, try to get the following lists from name_list by changing the values of start and stop:\n",
        "\n",
        ">- all the inner planets (Mercury to Earth)\n",
        ">- all the outer planets (Jupiter to Neptune)\n"
      ],
      "metadata": {
        "id": "-Tl9S5ghWkky"
      }
    },
    {
      "cell_type": "code",
      "source": [
        "# Uncomment the lines below and change start and stop to the appropriate values\n",
        "#print(name_list[start:stop])\n",
        "#print(name_list[start:stop])"
      ],
      "metadata": {
        "id": "sxkV5XztV7XG"
      },
      "execution_count": null,
      "outputs": []
    },
    {
      "cell_type": "markdown",
      "source": [
        "Now, let's talk about the last argument, step. Basically, this argument allows us to take every nth value from a list. \n",
        "\n",
        "In the first example below, we start from Mercury and take every second planet. In the second, we do the same, but starting from Venus instead. In the third, we start from Venus and end before the last planet, Neptune. In the fourth, we start from Venus and stop before the second to last planet, Uranus.\n",
        "\n",
        "Notice that the third and fourth lines produce the same output. The reason why is basically that the planet after Saturn would have been skipped anyway.\n"
      ],
      "metadata": {
        "id": "zAMVLqjvX5gu"
      }
    },
    {
      "cell_type": "code",
      "source": [
        "print(name_list[::2])\n",
        "print(name_list[1::2])\n",
        "print(name_list[1:-1:2])\n",
        "print(name_list[1:-2:2])"
      ],
      "metadata": {
        "colab": {
          "base_uri": "https://localhost:8080/"
        },
        "id": "tYIdXSi5Z8iV",
        "outputId": "7b121568-7c06-4c4d-eeda-d0083e6dda3f"
      },
      "execution_count": null,
      "outputs": [
        {
          "output_type": "stream",
          "name": "stdout",
          "text": [
            "['mercury', 'earth', 'jupiter', 'uranus']\n",
            "['venus', 'mars', 'saturn', 'neptune']\n",
            "['venus', 'mars', 'saturn']\n",
            "['venus', 'mars', 'saturn']\n"
          ]
        }
      ]
    },
    {
      "cell_type": "markdown",
      "source": [
        "But this isn't the only thing we can do with step. We can also count backwards! If we use a negative value, the behavior is the same, but the order is reversed, as you can see in the two examples below."
      ],
      "metadata": {
        "id": "STmvSTyTbHKn"
      }
    },
    {
      "cell_type": "code",
      "source": [
        "print(name_list[::-1])\n",
        "print(name_list[::-2])"
      ],
      "metadata": {
        "colab": {
          "base_uri": "https://localhost:8080/"
        },
        "id": "lvMPuuoFZ_jm",
        "outputId": "64ff1326-002a-437a-dc22-0b253057f207"
      },
      "execution_count": null,
      "outputs": [
        {
          "output_type": "stream",
          "name": "stdout",
          "text": [
            "['neptune', 'uranus', 'saturn', 'jupiter', 'mars', 'earth', 'venus', 'mercury']\n",
            "['neptune', 'saturn', 'mars', 'venus']\n"
          ]
        }
      ]
    },
    {
      "cell_type": "markdown",
      "source": [
        "Compare the second line in this example to the first line in the previous example. They do not contain the same values! Why? Well, when we specify a negative index, the list basically reverses order FIRST before doing anything else. As a result, we start counting from -1 and then go down to -len(my_list).\n",
        "\n",
        "See the below examples for how this changes what we need to do for start and stop."
      ],
      "metadata": {
        "id": "mGOd1rSbdn1Z"
      }
    },
    {
      "cell_type": "code",
      "source": [
        "print(name_list[1:6:-1])\n",
        "print(name_list[5:0:-1])\n",
        "print(name_list[-3:-8:-1])\n"
      ],
      "metadata": {
        "colab": {
          "base_uri": "https://localhost:8080/"
        },
        "id": "kRrcBI7whRd1",
        "outputId": "91b999b1-ef87-4d59-f80f-1dfe7c709b66"
      },
      "execution_count": null,
      "outputs": [
        {
          "output_type": "stream",
          "name": "stdout",
          "text": [
            "[]\n",
            "['saturn', 'jupiter', 'mars', 'earth', 'venus']\n",
            "['saturn', 'jupiter', 'mars', 'earth', 'venus']\n"
          ]
        }
      ]
    },
    {
      "cell_type": "markdown",
      "source": [
        "In the first line, we tried to get the planets from Venus to Saturn in reverse order, but it returned an empty list. The second and the third lines do this successfully.\n",
        "\n",
        "Now it's your turn!\n",
        ">- Get the outer planets again, but this time in reverse order.\n",
        ">- Try to predict what the output of the second and third line will be when you run the cell"
      ],
      "metadata": {
        "id": "9zKNbKa4h9_N"
      }
    },
    {
      "cell_type": "code",
      "source": [
        "# Uncomment the line below and change start and stop to the appropriate values\n",
        "#print(name_list[start:stop])"
      ],
      "metadata": {
        "id": "ULbKJJjYjL03"
      },
      "execution_count": null,
      "outputs": []
    },
    {
      "cell_type": "code",
      "source": [
        "# Predict the output of the following two lines before you uncomment them\n",
        "#print(name_list[2:4:2])\n",
        "#print(name_list[6::-2])"
      ],
      "metadata": {
        "id": "w4vbWAKPjXRM"
      },
      "execution_count": null,
      "outputs": []
    },
    {
      "cell_type": "markdown",
      "source": [
        "## Editing lists\n",
        "\n",
        "Note that all the methods described below change the list in place. In other words, using any one of these methods permanently changes the contents of the list.\n",
        "\n",
        "### Appending items to the list\n",
        "You can use the append method shown below to expand your lists. The format (or \"syntax\") for using append is as follows:\n",
        "\n",
        "> your_list_here.append(element)\n",
        "\n",
        "__Note:__ the element you could be appending could be a string, a number, or even a list. The appended item always goes at the end, after all the original values in the list.\n",
        "\n",
        "Lets take a look at this in action below!"
      ],
      "metadata": {
        "id": "NSJWA8bZbA9J"
      }
    },
    {
      "cell_type": "code",
      "source": [
        "empty_list = []\n",
        "print(empty_list)\n",
        "\n",
        "empty_list.append(3)\n",
        "print(empty_list)\n",
        "\n",
        "empty_list.append(6)\n",
        "empty_list.append(9)\n",
        "print(empty_list)"
      ],
      "metadata": {
        "colab": {
          "base_uri": "https://localhost:8080/"
        },
        "id": "u350BfQtkcMm",
        "outputId": "92efc2a6-eead-4d87-cf12-92d30645a511"
      },
      "execution_count": null,
      "outputs": [
        {
          "output_type": "stream",
          "name": "stdout",
          "text": [
            "[]\n",
            "[3]\n",
            "[3, 6, 9]\n"
          ]
        }
      ]
    },
    {
      "cell_type": "markdown",
      "source": [
        "### Extending Lists\n",
        "\n",
        "Let's say you have two lists that you want to put together. You can do this using the extend method:\n",
        "> list1.extend(list2)\n",
        "\n",
        "Let's see an example below"
      ],
      "metadata": {
        "id": "lNVGgTHWthL3"
      }
    },
    {
      "cell_type": "code",
      "source": [
        "planets = ['mercury','venus','earth','mars']\n",
        "outer_planets = ['jupiter','saturn','uranus','neptune']\n",
        "\n",
        "planets.extend(outer_planets)\n",
        "print(planets)"
      ],
      "metadata": {
        "colab": {
          "base_uri": "https://localhost:8080/"
        },
        "id": "AEWIs9MYtxup",
        "outputId": "72bb21f3-3d34-4a53-db0f-4e3434d9fd0a"
      },
      "execution_count": null,
      "outputs": [
        {
          "output_type": "stream",
          "name": "stdout",
          "text": [
            "['mercury', 'venus', 'earth', 'mars', 'jupiter', 'saturn', 'uranus', 'neptune']\n"
          ]
        }
      ]
    },
    {
      "cell_type": "markdown",
      "source": [
        "In the cell below, you can see what happens if you use append instead. As you can see, the behavior is quite different!"
      ],
      "metadata": {
        "id": "B0nmPniYujZG"
      }
    },
    {
      "cell_type": "code",
      "source": [
        "planets = ['mercury','venus','earth','mars']\n",
        "outer_planets = ['jupiter','saturn','uranus','neptune']\n",
        "\n",
        "planets.append(outer_planets)\n",
        "print(planets)"
      ],
      "metadata": {
        "colab": {
          "base_uri": "https://localhost:8080/"
        },
        "id": "zWmCsNfkuqSy",
        "outputId": "cd1b1ba8-b633-4cf5-df29-69613eb05568"
      },
      "execution_count": null,
      "outputs": [
        {
          "output_type": "stream",
          "name": "stdout",
          "text": [
            "['mercury', 'venus', 'earth', 'mars', ['jupiter', 'saturn', 'uranus', 'neptune']]\n"
          ]
        }
      ]
    },
    {
      "cell_type": "markdown",
      "source": [
        "### Specifying the index \n",
        "\n",
        "Oftentimes, it is useful to *initialize* a list when we know how long the list is going to be and then fill it up with values afterwards for memory reasons. This can provide extremely substatial speed ups to your code."
      ],
      "metadata": {
        "id": "73XM6jcajqb4"
      }
    },
    {
      "cell_type": "code",
      "source": [
        "init_list = [0,0,0,0,0]  # initialize a list with all 0's\n",
        "\n",
        "init_list[0] = 4  # change a couple of the values\n",
        "init_list[3] = 10\n",
        "\n",
        "print(init_list)  # the list is now different from before!"
      ],
      "metadata": {
        "colab": {
          "base_uri": "https://localhost:8080/"
        },
        "outputId": "8c951bae-ca89-4afb-d18f-128f54da7e38",
        "id": "nu4V4DtybDM3"
      },
      "execution_count": null,
      "outputs": [
        {
          "output_type": "stream",
          "name": "stdout",
          "text": [
            "[4, 0, 0, 10, 0]\n"
          ]
        }
      ]
    },
    {
      "cell_type": "markdown",
      "source": [
        "## for loops\n",
        "\n",
        "Now that we have a good understanding of how to work with lists, let's look at one of their most powerful and common uses in Python. The structure of a for loop is as follows:\n",
        "\n",
        "> for thing in my_list: <br>\n",
        ">> do something with thing\n",
        "\n",
        "In plain English, this code block says that for each thing in my_list, do something using thing. Keep in mind when you use a for loop with a list (known as iterating for the list), the order of the list is preserved. Let's look at example now using one of the lists from previous examples"
      ],
      "metadata": {
        "id": "tAcWW6Y2u00X"
      }
    },
    {
      "cell_type": "code",
      "source": [
        "for name in name_list:\n",
        "  print('There is a planet named', name)"
      ],
      "metadata": {
        "colab": {
          "base_uri": "https://localhost:8080/"
        },
        "id": "1zXZQdeIyLFz",
        "outputId": "8853286c-a126-444c-e84d-42a924842413"
      },
      "execution_count": null,
      "outputs": [
        {
          "output_type": "stream",
          "name": "stdout",
          "text": [
            "There is a planet named mercury\n",
            "There is a planet named venus\n",
            "There is a planet named earth\n",
            "There is a planet named mars\n",
            "There is a planet named jupiter\n",
            "There is a planet named saturn\n",
            "There is a planet named uranus\n",
            "There is a planet named neptune\n"
          ]
        }
      ]
    },
    {
      "cell_type": "markdown",
      "source": [
        "If the list contains numbers, we can also do mathematical operations."
      ],
      "metadata": {
        "id": "yOncxJ5K0JYl"
      }
    },
    {
      "cell_type": "code",
      "source": [
        "for dist in dist_list:\n",
        "  print(dist**3)"
      ],
      "metadata": {
        "colab": {
          "base_uri": "https://localhost:8080/"
        },
        "id": "M6fQHC39yVea",
        "outputId": "464dfcbe-283d-43e9-8c3e-15575c8045dd"
      },
      "execution_count": null,
      "outputs": [
        {
          "output_type": "stream",
          "name": "stdout",
          "text": [
            "0.06400000000000002\n",
            "0.3429999999999999\n",
            "1.0\n",
            "3.375\n",
            "140.608\n",
            "857.375\n",
            "7077.887999999999\n",
            "27270.901000000005\n"
          ]
        }
      ]
    },
    {
      "cell_type": "markdown",
      "source": [
        "### enumerate() and range()\n",
        "\n",
        "In the previous section, we mentioned that it is common to initialize a list and then fill it with values afterwards. We can do this systematically with for loops. Let's adapt the previous example to do this.\n",
        "\n",
        "There are two different functions that can help us here. First, let's talk about enumerate. When we use enumerate(my_list), we get back each element in my_list *and* its index."
      ],
      "metadata": {
        "id": "yZLTeDws1S8h"
      }
    },
    {
      "cell_type": "code",
      "source": [
        "dist3_list = len(dist_list)*[0] # make a list the same length as dist_list but with all 0's\n",
        "for i,dist in enumerate(dist_list):\n",
        "  dist3_list[i] = dist**3\n",
        "\n",
        "print(dist3_list)"
      ],
      "metadata": {
        "colab": {
          "base_uri": "https://localhost:8080/"
        },
        "id": "j2SARsXY0c8W",
        "outputId": "f572eb7d-404a-464c-e60d-aabb7423d8f8"
      },
      "execution_count": null,
      "outputs": [
        {
          "output_type": "stream",
          "name": "stdout",
          "text": [
            "[0.06400000000000002, 0.3429999999999999, 1.0, 3.375, 140.608, 857.375, 7077.887999999999, 27270.901000000005]\n"
          ]
        }
      ]
    },
    {
      "cell_type": "markdown",
      "source": [
        "The other function that helps us do this is range(). Instead of a list, range() takes an integer and returns an iterable (a cousin of the list) that allows you to loop over integers. Before we repeat the previous example, let's see how this function behaves below."
      ],
      "metadata": {
        "id": "bkfQbeKO2ee3"
      }
    },
    {
      "cell_type": "code",
      "source": [
        "print(range(10))\n",
        "\n",
        "for i in range(10):\n",
        "  print(i)"
      ],
      "metadata": {
        "colab": {
          "base_uri": "https://localhost:8080/"
        },
        "id": "pvikY3Wp2aMk",
        "outputId": "cb540446-c8e2-4801-cf52-b4258fbe22d9"
      },
      "execution_count": null,
      "outputs": [
        {
          "output_type": "stream",
          "name": "stdout",
          "text": [
            "range(0, 10)\n",
            "0\n",
            "1\n",
            "2\n",
            "3\n",
            "4\n",
            "5\n",
            "6\n",
            "7\n",
            "8\n",
            "9\n"
          ]
        }
      ]
    },
    {
      "cell_type": "markdown",
      "source": [
        "Notice that the inputs of the range function behave similarly to index slicing. The optional start argument defaults to 0. Then we iterate and stop *before* stop, just like in slicing. This is useful because the output of range can be used to directly access the elements of a list without any modification.\n",
        "\n",
        "Now, we can redo the previous example using range()"
      ],
      "metadata": {
        "id": "KeCCumUr25hP"
      }
    },
    {
      "cell_type": "code",
      "source": [
        "dist3_list = len(dist_list)*[0] # make a list the same length as dist_list but with all 0's\n",
        "for i in range(len(dist_list)):\n",
        "  dist3_list[i] = dist_list[i]**3\n",
        "\n",
        "print(dist3_list)"
      ],
      "metadata": {
        "colab": {
          "base_uri": "https://localhost:8080/"
        },
        "id": "MH5IcqcP2ztN",
        "outputId": "56083f7a-a451-4629-c93b-1a5a3ccfb6ee"
      },
      "execution_count": null,
      "outputs": [
        {
          "output_type": "stream",
          "name": "stdout",
          "text": [
            "[0.06400000000000002, 0.3429999999999999, 1.0, 3.375, 140.608, 857.375, 7077.887999999999, 27270.901000000005]\n"
          ]
        }
      ]
    },
    {
      "cell_type": "markdown",
      "source": [
        "Notice that while these two different examples produce the same output, they work slightly differently. When using range, you need to access the index of each list individually. Let's look at another way of working with two different lists at once.\n",
        "\n",
        "### Manipulating multiple lists with zip()\n",
        "\n",
        "The zip function takes multiple lists and allows you to loop through them simultaneously. The example below uses only two lists, but zip can take any number of lists."
      ],
      "metadata": {
        "id": "HbZOYeio3Ryg"
      }
    },
    {
      "cell_type": "code",
      "source": [
        "for name,dist in zip(name_list,dist_list):\n",
        "  print('{} is {} au away from the sun'.format(name,dist))"
      ],
      "metadata": {
        "colab": {
          "base_uri": "https://localhost:8080/"
        },
        "id": "wXEo-zl-3PmN",
        "outputId": "49354780-c601-4e9d-e38a-edb0ac9efc7e"
      },
      "execution_count": null,
      "outputs": [
        {
          "output_type": "stream",
          "name": "stdout",
          "text": [
            "mercury is 0.4 au away from the sun\n",
            "venus is 0.7 au away from the sun\n",
            "earth is 1.0 au away from the sun\n",
            "mars is 1.5 au away from the sun\n",
            "jupiter is 5.2 au away from the sun\n",
            "saturn is 9.5 au away from the sun\n",
            "uranus is 19.2 au away from the sun\n",
            "neptune is 30.1 au away from the sun\n"
          ]
        }
      ]
    },
    {
      "cell_type": "markdown",
      "source": [
        "## Practice Problem: Kepler's Third Law\n",
        "\n",
        "Kepler's third law relates the distance of a planet from the sun to its orbital period, or the time it takes to complete a full orbit:\n",
        "$$T = 2\\pi\\sqrt{\\frac{a^3}{G(M+m)}}$$\n",
        "\n",
        "Here, G is Newton's gravitational constant, M is the mass of the sun, m is the mass of the planet, and a is the semimajor axis of the planet, which is essentially just the distance. In practice, the masses of the planets are extremely small compared to the mass of the sun, so we can just $M+m\\approx M$ and ignore the mass of the planet in the equation.\n",
        "\n",
        "You have two tasks\n",
        ">- Create a new list that contains the period of each planet in seconds\n",
        ">- Calculate the conversion from seconds to years by hand\n",
        ">- For each planet, print out the following sentence: \"The period of [planet] in years is [period]\"\n",
        "\n",
        "For these tasks, you'll need a few things. You'll need to define variables G (in SI units) and Msun (in kilograms). You can look both of these up. You already have a list of the names of the planets above. You also have a list of the distances, but in units of au, so you'll need to also define a variable to convert from au to kilometers. If you wish, you can also define a new list with the planet masses in kilograms.\n",
        "\n",
        "You'll also need the value of pi and the square root function. To get these you need to import the math module. I've done it for you below."
      ],
      "metadata": {
        "id": "dSY1xVfuAHDZ"
      }
    },
    {
      "cell_type": "code",
      "source": [
        "from math import pi,sqrt\n",
        "\n",
        "print(pi)\n",
        "print(sqrt(4))"
      ],
      "metadata": {
        "colab": {
          "base_uri": "https://localhost:8080/"
        },
        "id": "fTm_P5aNYvB1",
        "outputId": "94150112-dfd7-4e26-fd5f-044b98eb586f"
      },
      "execution_count": null,
      "outputs": [
        {
          "output_type": "stream",
          "name": "stdout",
          "text": [
            "3.141592653589793\n",
            "2.0\n"
          ]
        }
      ]
    },
    {
      "cell_type": "code",
      "source": [
        "Msun = # look this up\n",
        "G = # look this up\n",
        "au_to_km = # look this up\n",
        "s_to_yr = # calculate this\n",
        "# mass_list = # look these up (optional)\n",
        "\n",
        "period_list = # complete this\n",
        "\n",
        "for ... in ...: # complete this\n",
        "  # do something"
      ],
      "metadata": {
        "id": "8H2cP6hg9vGO"
      },
      "execution_count": null,
      "outputs": []
    }
  ]
}