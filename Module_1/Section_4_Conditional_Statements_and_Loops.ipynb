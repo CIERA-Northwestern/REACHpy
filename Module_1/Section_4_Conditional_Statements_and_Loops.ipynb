{
 "cells": [
  {
   "cell_type": "markdown",
   "metadata": {},
   "source": [
    "# 1.4 | Decision making and Repitition in Coding\n",
    "\n",
    "__Motivation:__<br>\n",
    "Decision making and repitition in coding capture some of the most powerful aspects of coding: we can have computers make the decisions we want them to over and over again. Lets use an example to motivate this. Say you have 1000 stellar temperatures that are evenly spread accross all stellar types - so there are roughly the same number of temperatures that correspond to O type stars as B type stars, and so on. Lets say you wanted to just look at the hottest stars - O type stars. Instead of combing through your data set one data point at a time, you can use Pythons decision making and repitition functionality! You can tell Python to take your data set of 1000 stellar temperatures, have it look through each data point, and only return a variable containing steller temperatures greater than 30,000 K (roughly the cut off for a star to be an O type star) in miliseconds! \n",
    "\n",
    "## Decision Statements\n",
    "\n",
    "We've briefly covered input, output, and calculations, but often we need our code to perform some decision making, just like we have to do each day in real life (if it's cold outside, take a coat; if it's warm, leave the coat at home). These statements come in the form of \"if statements\" which can range in complexity (for example, some applications might call for several, or \"nested\", statements).\n",
    "\n",
    "You can think of if statements as asking your computer whether something is True of False (these being the two \"Boolean operators\"). The most common type of numerical questions or checks that you'll be doing are the comparison operators, >, <, and ==, so we'll cover those as well __(note that since the single = is reserved for assignment of variables when checking for equality, Python uses ==)__.\n",
    "\n",
    "__Note__: You will often hear the term \"conditional statement\" used to refer to decision statements in most coding languages, including Python. We will use this terminology for most of the content in this notebook and in this course.\n",
    "\n",
    "__Note__: You will often hear the term \"comparison operators\" used to refer to mathematical comparisons such as greater than, less than, not equal to etc. The corresponding symbols for less than and greater than, respectively, are < and >. The corresponding symbols for \"less than or equal to\" and \"greater than or equal to\", respectively, are =< and >=. The corresponding symbol for equal to and not equal to, respectively, are == and !=.\n",
    "\n",
    "__Note__: At first glance, it might be tempting to assume that the way python checks for equality (\"==\") and the way it assigns a variable (with \"=\") are the same or interchangeable. Here are examples that highlight the difference.\n",
    "\n",
    "> - Example of assignment:<br> \n",
    "> price_of_apples = 1.42                     \n",
    "> Above is a command that tells python to assign the float \"1.42\" to the variable \"price_of_apples\"<br>\n",
    "\n",
    "> - Example of checking for equality: <br> \n",
    "> price_of_apples = 1.42                    \n",
    "> Above is a command that tells python to assign the float \"1.42\" to the variable \"price_of_apples\" <br>\n",
    "> price_of_apples == 72 <br>\n",
    "> Above is a command that tells python to check if the variable \"price_of_apples\" is assigned the integer 72 <br>\n",
    "\n",
    "Lets see the different between assignment and checking for equality with some code below"
   ]
  },
  {
   "cell_type": "code",
   "execution_count": null,
   "metadata": {},
   "outputs": [],
   "source": [
    "## run this cell and play close attention to the outputs!\n",
    "\n",
    "price_of_apples = 1.42   \n",
    "print(price_of_apples)\n",
    "# Above is a command that tells python to assign the float \"1.42\" to the variable \"price_of_apples\"\n",
    "\n",
    "print(price_of_apples == 72)\n",
    "# Above is a command that tells python to check if the variable \"price_of_apples\" is \n",
    "# assigned the integer 72. Note the output! <br>\n",
    "\n"
   ]
  },
  {
   "cell_type": "markdown",
   "metadata": {},
   "source": [
    "### Closing note on assignment vs checking for equality: Your turn!\n",
    "in the above example we saw an example where checking the variable price_of_apples returned \"false\".\n",
    "Try to use a check for equality on the variable price_of_apples that returns \"True\" in the cell below!"
   ]
  },
  {
   "cell_type": "code",
   "execution_count": null,
   "metadata": {},
   "outputs": [],
   "source": [
    "## Your code here!\n",
    "\n",
    "\n"
   ]
  },
  {
   "cell_type": "markdown",
   "metadata": {},
   "source": [
    "### Components of an If statement\n",
    "\n",
    "An if statement typically has two parts: the condition (what is being checked each time) and the action (what is being performed if the condition is met). In general, an if statement will look something like this:\n",
    "\n",
    "> if a_condition_thats_True_or_False:  # This may or may not be True <br>\n",
    ">>    do something_interesting         # So this action may or may not be performed<br>\n",
    "\n",
    "In the next example, the condition is always true (at least in our Universe):\n"
   ]
  },
  {
   "cell_type": "code",
   "execution_count": null,
   "metadata": {},
   "outputs": [],
   "source": [
    "if 2+2:                           # The condition (2+2) is defintely true\n",
    "    print('2+2=', 2+2)             # So this WILL be printed\n",
    "    print('well, that was silly!')  # To perform multiple actions, make sure each action is INDENTED"
   ]
  },
  {
   "cell_type": "markdown",
   "metadata": {},
   "source": [
    "Notice that none of the above examples used any comparison operators (like <,>,etc) - just straight-up True or False checks. Let's look at a few comparison examples, which you may encounter more frequently in your research coding:"
   ]
  },
  {
   "cell_type": "markdown",
   "metadata": {},
   "source": [
    "### Checking for equality between numbers with If Statements"
   ]
  },
  {
   "cell_type": "code",
   "execution_count": null,
   "metadata": {},
   "outputs": [],
   "source": [
    "# Execute and note what happens (or doesnt happen)!\n",
    "a = 1\n",
    "b = 2\n",
    "c = 3\n",
    "\n",
    "if a == b:    # Note the DOUBLE equal sign, ==, which is for checking for equality\n",
    "    print('the two are the same')"
   ]
  },
  {
   "cell_type": "code",
   "execution_count": null,
   "metadata": {},
   "outputs": [],
   "source": [
    "if (a < b) and (b < c):   # Note, your conditional staement can have multi parts\n",
    "    print('the value of b is somewhere between that of a and c')"
   ]
  },
  {
   "cell_type": "markdown",
   "metadata": {},
   "source": [
    "### Your turn: Write an if statement"
   ]
  },
  {
   "cell_type": "markdown",
   "metadata": {},
   "source": [
    "Think for a moment about how you might use a conditional if statement to code up a statement that will return \"The value of a is smaller than either c or b\". Take a stab at writing and executing the code below!<br>\n",
    "if you get stuck, refer to the previous example of a conditional statement above."
   ]
  },
  {
   "cell_type": "code",
   "execution_count": null,
   "metadata": {},
   "outputs": [],
   "source": []
  },
  {
   "cell_type": "markdown",
   "metadata": {},
   "source": [
    "## Loops\n",
    "__Why should I care?__<br>\n",
    "Loops are what make computers powerful and useful machines. Loops allow us to perform repititve calculations with just a few lines of code. Without loops, computers would just be really sophisticated adding machines, and not much else. In just about every difficult computational problem, you're going to have to repeat some combination of calculations over an entire set of interesting data.\n",
    "\n",
    "There are two main types of loops, \"for\" loops and \"while\" loops. For loops iterate over a fixed list of items, performing a certain set of calculations on each item (for example, computing the final grade for every student in a class roster). While loops perform an action while a provided condition is true (for example, you can make a code that add 1 to a variable originally set to zero until that variable is equal to 10). We will focus on for loops in this class. <br>\n",
    "\n",
    "Note: Indentation matters in for loops. See the comments in section 1.2.1 for elaboration"
   ]
  },
  {
   "cell_type": "markdown",
   "metadata": {},
   "source": [
    "### Quick introduction: Lists\n",
    "You may remember the analogy used to discuss variables in [Module 1: section 1](https://github.com/bueno646/CIERA-HS-Program-2021/blob/master/IDEASpy-Mike-Updates/Module_1/Section_1.ipynb). We likened variables to a box with a label. Here is a quick example we will use for this introduction on what lists are:<br>\n",
    "> - apple_price = 1.0<br>\n",
    "here, \"apple_price\" is the label and the computer is the box that stores the information we have assigned to it, \"1.0\"\n",
    "\n",
    "Lists are similar to variables, only instead of storing information in a labeled box, you can think of lists as storing information in a row of lockers ([visual example](https://previews.123rf.com/images/elfachero3/elfachero31803/elfachero3180300002/97960122-row-of-tan-school-lockers.jpg)). Each locker within the row of lockers has a position (e.g the first locker) and the ability to store information. Similarly, __lists__ consist of ordered individual items (\"elements\") that collectively make up the whole list. Lets look at an example below:\n",
    "\n",
    "> - example_list = [1,3,5,8]\n",
    "\n",
    "Using the language of our analogy, the label for this row of lockers is \"example_list\", there are 4 lockers (one for each element), and the items in the lockers are 1,3,5 and 8.\n",
    "\n",
    "Note that lists are created on the __right__ side of the equal sign, as shown above. Brackets to the __left__ of the equal sign mean something different in python. We will explain this further in module 2, section 1.\n",
    "\n",
    "__Why Should I Care?__<br>\n",
    "We can use the fact that lists can hold multiple pieces of information to our advantage! Specifically, we can use for loops to perform an action on every item in a list, as we will see in later examples in this notebook.\n",
    "For now, lets look at an example of how lists can store information in a more efficient way than making a bunch of variables. Instead of creating a bunch of variables for my grocery shopping desires, for example, I can make a list that houses all of my shopping items! See below:\n",
    "\n",
    "> - Example: <br>\n",
    "> grocery_list = [\"apples\",\"oranges\",\"bananas\"]\n",
    "\n",
    "See this example in the next code cell\n"
   ]
  },
  {
   "cell_type": "code",
   "execution_count": null,
   "metadata": {},
   "outputs": [],
   "source": [
    "# run this cell\n",
    "\n",
    "grocery_list = [\"apples\",\"oranges\",\"bananas\"]\n",
    "print (grocery_list)"
   ]
  },
  {
   "cell_type": "markdown",
   "metadata": {},
   "source": [
    "### For loop examples: Example 1"
   ]
  },
  {
   "cell_type": "code",
   "execution_count": null,
   "metadata": {},
   "outputs": [],
   "source": [
    "# execute this cell \n",
    "example_list = [1,3,5,8]\n",
    "\n",
    "for item in example_list:    #### This line tells python both what you want to call the elements (\"item\")\n",
    "    print(item)              #### of your iterable object (the list \"example_list\")\n",
    "                             #### Note: you can call the elements anything, not necessarily just \"item\"\n",
    "                             #### Note: the 5th line in this cell is indented once, which tells python that \n",
    "                             #### the contents of that line are associated with the for loop initiated \n",
    "                             #### in line 4\n",
    "                             #### Note the colon at the end of line 4. A common bug is forgetting a colon when\n",
    "                             #### initiating a for loop :)"
   ]
  },
  {
   "cell_type": "markdown",
   "metadata": {},
   "source": [
    "### For loop examples: Example 2\n",
    "This version is a more common way that folks write for loops."
   ]
  },
  {
   "cell_type": "code",
   "execution_count": null,
   "metadata": {},
   "outputs": [],
   "source": [
    "# Execute this cell\n",
    "\n",
    "favorite_numbers = [7,14,23]\n",
    "\n",
    "for ii in favorite_numbers:\n",
    "    print (\"one of my favorite numbers is\",ii)"
   ]
  },
  {
   "cell_type": "markdown",
   "metadata": {},
   "source": [
    "### For loops & Conditionals: Example \n",
    "It is often useful to have conditions embedded (or nested) within our for loops. This is where indentation\n",
    "is key to making sure your code works the way you want it to!<br>\n",
    "\n",
    "Say that I had a list of numbers and only wanted to print out the negative numbers. Below is an example of one way to do that!"
   ]
  },
  {
   "cell_type": "code",
   "execution_count": null,
   "metadata": {},
   "outputs": [],
   "source": [
    "# Execute this cell\n",
    "\n",
    "random_numbers = [-1,4,8,-2,8,91,-94]\n",
    "\n",
    "for aa in random_numbers:\n",
    "    if aa < 0:\n",
    "        print(aa)"
   ]
  },
  {
   "cell_type": "markdown",
   "metadata": {},
   "source": [
    "### Your turn: Writing a for loop \n",
    "\n",
    "In the cell below, try writing a for loop that goes through (or \"iterates over\") a list of 6 random numbers of your choice. Try having your for loop print every item in this list.<br>"
   ]
  },
  {
   "cell_type": "code",
   "execution_count": null,
   "metadata": {},
   "outputs": [],
   "source": [
    "# your code here"
   ]
  },
  {
   "cell_type": "markdown",
   "metadata": {},
   "source": [
    "### Your turn: For loops and Strings\n",
    "in the cell below, try writing a for loop that iterates over a list of your three favorite fruits, written as strings (with quotations, e.g \"figs\"). Try having your for loop print every item in this list."
   ]
  },
  {
   "cell_type": "code",
   "execution_count": null,
   "metadata": {},
   "outputs": [],
   "source": [
    "# your code here"
   ]
  },
  {
   "cell_type": "markdown",
   "metadata": {},
   "source": [
    "### Your turn: For loops, Strings, and Numbers"
   ]
  },
  {
   "cell_type": "markdown",
   "metadata": {},
   "source": [
    "in the cell below, try writing a for loop that iterates over a list of your three favorite fruits, written as strings (with quotations, e.g \"figs\"), __AND__ three random numbers. Try having your for loop print every item in this list.<br>\n",
    "\n",
    "Do you think the for loop will be able to handle iterating over both numbers and strings that are housed in one list? Why or why not?<br>\n",
    "__Your answer here__: "
   ]
  },
  {
   "cell_type": "code",
   "execution_count": null,
   "metadata": {},
   "outputs": [],
   "source": [
    "# your code here"
   ]
  },
  {
   "cell_type": "markdown",
   "metadata": {},
   "source": [
    "### Challenge loop:\n",
    "Task: In the cell below, try writing a for loop that uses conditionals to only print out numbers that are bigger than 8 AND also less than 60"
   ]
  },
  {
   "cell_type": "code",
   "execution_count": null,
   "metadata": {},
   "outputs": [],
   "source": [
    "# your code here"
   ]
  },
  {
   "cell_type": "code",
   "execution_count": null,
   "metadata": {},
   "outputs": [],
   "source": [
    " "
   ]
  },
  {
   "cell_type": "markdown",
   "metadata": {},
   "source": [
    "### Your turn: Upgrading our Temperature Converter \n",
    "In [Module 1: Section 3](https://github.com/bueno646/CIERA-HS-Program-2021/blob/master/IDEASpy-Mike-Updates/Module_1/Section_3.ipynb) we had the challenge of writing code to convert a massive dataset of stellar temperatures given to us in celcius to kelvin - in section 2.5 of that notebook. Below is slightly modified version of the situation, problem, and task. \n",
    "\n",
    "__Situation__: You have a massive data set. In this data set, you have the temperatures for a thousand stars.<br>\n",
    "\n",
    "__Problem__: All the temperatures are in celcius! Since Kelvin is the standard unit used in most astronomy units you now have to convert all 1000 of those temperatures into Kelvin. You dont want to spend hours writing the same block of code for each data point in your data set!<br>\n",
    "\n",
    "__Task__: Take a small subset of these temperatures, __10 of them__ (note the difference, we only did __1__ for the subset in [Module 1: Section 3](https://github.com/bueno646/CIERA-HS-Program-2021/blob/master/IDEASpy-Mike-Updates/Module_1/Section_3.ipynb)), and save these temperature to a variable. Next, write a function that takes a __list__ of these temperatures (in celcius) and returns a __list__ of temperatures in Kelvin. Print the new list of temperatures.\n",
    "\n",
    "Here is an equation you will need: \n",
    "\n",
    "A.&emsp;Celcius to Kelvin Conversion $$C + 273.15 = K$$\n",
    "\n",
    "__Note:__ The list of 10 temperatures will be provided for you in the cell below\n",
    "\n"
   ]
  },
  {
   "cell_type": "code",
   "execution_count": null,
   "metadata": {},
   "outputs": [],
   "source": [
    "## Your code here!\n",
    "\n",
    "ten_stellar_temps_celc = [5500,6000,6532,4234,8352,10000,12000,14532,8325,7737] #steller temps subset"
   ]
  },
  {
   "cell_type": "markdown",
   "metadata": {},
   "source": [
    "## Takeaways\n",
    "\n",
    "> - Conditional statements, such as if statements, allow you to perform different operations depending on whether certain conditions are met. <br>\n",
    "> - Loops, such as for loops, allow you to iterate over a sequence of objects (numbers, strings, etc.) and perform any operations repeatedly. <br>\n",
    "> - By combining loops and conditionals, you can iterate over a sequence and perform the specified operations only when certain conditions are met, rather than on every pass over the loop. <br>"
   ]
  }
 ],
 "metadata": {
  "kernelspec": {
   "display_name": "Python 3",
   "language": "python",
   "name": "python3"
  },
  "language_info": {
   "codemirror_mode": {
    "name": "ipython",
    "version": 3
   },
   "file_extension": ".py",
   "mimetype": "text/x-python",
   "name": "python",
   "nbconvert_exporter": "python",
   "pygments_lexer": "ipython3",
   "version": "3.8.8"
  },
  "toc": {
   "base_numbering": 1,
   "nav_menu": {},
   "number_sections": true,
   "sideBar": true,
   "skip_h1_title": false,
   "title_cell": "Table of Contents",
   "title_sidebar": "Contents",
   "toc_cell": false,
   "toc_position": {},
   "toc_section_display": true,
   "toc_window_display": false
  },
  "varInspector": {
   "cols": {
    "lenName": 16,
    "lenType": 16,
    "lenVar": 40
   },
   "kernels_config": {
    "python": {
     "delete_cmd_postfix": "",
     "delete_cmd_prefix": "del ",
     "library": "var_list.py",
     "varRefreshCmd": "print(var_dic_list())"
    },
    "r": {
     "delete_cmd_postfix": ") ",
     "delete_cmd_prefix": "rm(",
     "library": "var_list.r",
     "varRefreshCmd": "cat(var_dic_list()) "
    }
   },
   "types_to_exclude": [
    "module",
    "function",
    "builtin_function_or_method",
    "instance",
    "_Feature"
   ],
   "window_display": false
  }
 },
 "nbformat": 4,
 "nbformat_minor": 2
}
