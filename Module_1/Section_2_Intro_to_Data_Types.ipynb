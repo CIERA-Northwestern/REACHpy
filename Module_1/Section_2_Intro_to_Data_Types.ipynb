{
 "cells": [
  {
   "cell_type": "markdown",
   "metadata": {},
   "source": [
    "# 1.2 | Data Types and Precision\n",
    "\n",
    "## The Importance of Precision\n",
    "__Why Should I Care?__ <br>\n",
    "Precision, in computer science or math, is a measure of the detail in which a quantity is expressed. We'll use a baking example to illustrate the importance of precision. You're baking a strawberry tart and the recipe calls for 1.75 ounces of chopped strawberries. However, when you start weighing your strawberries you find that your food scale only reads out ounces in increments of 0.5 ounces - so the scale could read out 0.5, 1.0, 1.5 ounces etc. This scale lacks the precision, or detail, to tell you the information you need. In this example it's not the biggest deal, you can just round up and have more strawberries! However, when measuring some more delicate, like flour, precision with your measurement could be the difference between a baked treat that is just right or too dense (i.e too much flour).\n",
    "\n",
    "__Technical Description:__ <br>\n",
    "Precision is a measure of the detail in which a quantity is expressed. In computer science, precision is typically measured in bits; in math or science, it's usually measured in decimal digits. As a scientist doing computational work, it's critical to pay attention to the types of numbers you're working with, or you may end up with incorrect results, or results that don't have high enough precision to accurately solve your computational problem. \n",
    "\n"
   ]
  },
  {
   "cell_type": "markdown",
   "metadata": {},
   "source": [
    "## Data Types in Python\n",
    "__Why Should I Care?__ <br>\n",
    "Date types dictate the amount of memory your computer is allocating to a give number. Since we are talking about allocating a limited quanitity - computer memory - you may have thought that precision may play a role in deciding what data type to use. You would be right! Precision often factors into a decision about what data type to use because different data types take up different amounts of memory. For example, if you were to use your python calculator from <a href=\"https://github.com/bueno646/CIERA-HS-Program-2021/blob/master/IDEASpy-Mike-Updates/Module_1/Section_1.ipynb\">Module 1: Section 1</a> to calculate your grocery bill you will likely not need numbers with more then 2 decimal points (e.g $3.55 for eggs). <br>\n",
    "\n",
    "An example that would necessitate more precision, and therefore more precise data types, would be the numbers that a Global Positioning System (GPS) tracks. If the system the GPS is being used in is not precise enough, there could be bad consequences! For example, consider a siutation where you had a bad GPS tracker that only kept track of distances rounded to the nearest 1000 meters to save on memory needs AND you wanted to go to a movie theater that was 1500 meters away. Since your bad GPS tracker can only return a distance of 1000 or 2000 meters given its limitations, you can only get a location that is 500 meters away from where you actually want to be! Not ideal at all! \n",
    "\n",
    "__Technical Description:__ <br>\n",
    "Your computer represents all numbers in terms of sets of binary digits, or bits. Your computer hardware determines how many bits are available for and exactly how it represents different types of data. In many cases, you will not need to explicitly state a data type because Python will automatically assign a data type based on how you entered the data or value. Other times you may want to explicitly set the data type, for example, if you know that your value is going to grow with your calculations, and you want to ensure that there's enough storage space reserved to store the value to the required precision. Most real data applications will call for many different data types, from ints to floats, to strings, to lists and arrays (sequences of items - more on these later).\n",
    "\n",
    "### Numbers\n",
    "Different kinds of numbers require different numbers of bits to store them. Also, as we saw in the first lesson, in some cases, the results of your calculations will differ based on the numbers' data types. Below we describe some of the most common data types in Python.\n"
   ]
  },
  {
   "cell_type": "markdown",
   "metadata": {},
   "source": [
    "#### __Integers__\n",
    "\n",
    "As you know, integers are either positive or negative whole numbers with no decimal points. These are commonly referred to as signed integers or ints for short. Your computer likely reserves 64 bits for each integer.\n",
    "\n",
    "> __Example__: int(4)\n",
    "\n",
    "Run the code below to see more examples!"
   ]
  },
  {
   "cell_type": "code",
   "execution_count": null,
   "metadata": {},
   "outputs": [],
   "source": [
    "print (int(6))\n",
    "print ()\n",
    "print (int(38))"
   ]
  },
  {
   "cell_type": "markdown",
   "metadata": {},
   "source": [
    "#### __Floating Point Numbers__\n",
    "\n",
    "Floating point numbers, or _floats_, are numbers that are _not_ integers - i.e. they have decimal points. It may be a little confusing at first, but 1 is an integer, and 1.0 is a float. The number 1. (with the dot, but without the zero) is also a float. Like integers, your computer likely reserves 64 bits for each float. Floats can also implement the scientific notation with an upper or lower case E representing the power of 10. For example, 4.6E17 would be interpreted as $4.6\\times10^17$.\n",
    "\n",
    "> __Example__: 45.8 <br>\n",
    "> __Example__: 2.19 <br>\n",
    "> __Example__: 3.14159265358979 (look familiar?)\n",
    "\n",
    "Run the cell below to see more examples!"
   ]
  },
  {
   "cell_type": "code",
   "execution_count": null,
   "metadata": {},
   "outputs": [],
   "source": [
    "print (1.4, \"which is of type\", type(1.4))\n",
    "print ()\n",
    "print (1.0, \"which is of type\", type(1.0))\n",
    "print ()\n",
    "print (1, \"which is of type\", type(1))\n",
    "print()\n",
    "print (4.6e17, \"which is of type\", type(4.6e7)) # this is an example of scientific notation in python!"
   ]
  },
  {
   "cell_type": "markdown",
   "metadata": {},
   "source": [
    "#### __Complex Numbers__\n",
    "\n",
    "Complex numbers are numbers with a real and an imaginary part. We won't discuss complex numbers much in this course, but if you think you may have to use them in your research, take a moment to review this documentation on __[Complex Numbers](https://docs.python.org/3.3/library/cmath.html)__."
   ]
  },
  {
   "cell_type": "markdown",
   "metadata": {},
   "source": [
    "#### __Changing Data Types__\n",
    "Sometimes you may find it necessary to explicitly changing a number or variable to a specific data type, or to convert it from one type to another. Most commonly, you'd do conversions such as these:\n",
    "\n",
    "> float(5)     # Converts integer 5 to a float, resulting in 5.0<br>\n",
    "> int(10.7)    # Converts float 10.7 to an integer, resulting in 10<br>\n",
    "\n",
    "Run the cell below to see more examples! <br>\n",
    "__Note__: When converting to an int, unless otherwise prompted, Python will always round down.<br>\n",
    "__Note__: You can also use variables within the int() or float() functions."
   ]
  },
  {
   "cell_type": "code",
   "execution_count": null,
   "metadata": {},
   "outputs": [],
   "source": [
    "print (10, \"which is intially of type\", type(10))\n",
    "print (\"now let's change this to a float\")\n",
    "print (float(10), \"which is of type\", type(float(10)))\n",
    "print()\n",
    "print (5.0, \"which is initially of type\", type(5.0))\n",
    "print (\"now let's change this to an integer\")\n",
    "print (int(5.0), \"which is of type\", type(int(5.0)))\n"
   ]
  },
  {
   "cell_type": "markdown",
   "metadata": {},
   "source": [
    "## Formatted Print Options\n",
    "__Why Should I Care?__ <br>\n",
    "You've learned a very simple way to print out numbers or variables to the screen, but sometimes you need a more control over the way things are printed out to make them __easier for humans to read__. There are many ways to format your printing (you can also use the write( ) method instead of print( )).\n",
    "\n",
    "### String Formatting\n",
    "\n",
    "Python’s str.format() method allows you to format your values and substitute variables into designated places. It does this using formatters, which work by putting in one or more placeholders, defined by a pair of curly braces {}, into a string and then calling the str.format() method. You’ll pass into the method the value you want to insert within your string. See the example below:\n",
    "\n",
    "Notes: \n",
    "- the placeholders are {:s}, {:7.5f}, {:d}, {:d}\n"
   ]
  },
  {
   "cell_type": "code",
   "execution_count": null,
   "metadata": {},
   "outputs": [],
   "source": [
    "fave_num=3.14159\n",
    "print('{:s} has an odd favorite number: {:7.5f} has {:d} total digits and {:d} digits after the decimal'.format(\n",
    "    'Jack', fave_num, 7, 5))"
   ]
  },
  {
   "cell_type": "markdown",
   "metadata": {},
   "source": [
    "Try removing all the formatting options inside the curly brackets, and reprint the above statement. You'll see that Python can recognize the types of values and will print them in the most appropriate way."
   ]
  },
  {
   "cell_type": "code",
   "execution_count": null,
   "metadata": {},
   "outputs": [],
   "source": []
  },
  {
   "cell_type": "markdown",
   "metadata": {},
   "source": [
    "What happens when you replace {:7.5f} with {:15.5f}?\n",
    "Write down what you observe below"
   ]
  },
  {
   "cell_type": "markdown",
   "metadata": {},
   "source": []
  },
  {
   "cell_type": "markdown",
   "metadata": {},
   "source": [
    "Try out the statements below— can you figure out what the numbers inside curly brackets do?"
   ]
  },
  {
   "cell_type": "code",
   "execution_count": null,
   "metadata": {},
   "outputs": [],
   "source": [
    "print('{0} and {1}'.format('green eggs', 'ham'))\n",
    "print('{1} and {0}'.format('green eggs', 'ham'))"
   ]
  },
  {
   "cell_type": "markdown",
   "metadata": {},
   "source": [
    "There's much more you can do with formatted printing, including truncating, padding and aligning your output. To learn some ways to do \"fancier\" output, refer to this page from the official Python documentation: __[Input and Output](https://docs.python.org/3.1/tutorial/inputoutput.html)__."
   ]
  },
  {
   "cell_type": "markdown",
   "metadata": {},
   "source": [
    "## Practice\n",
    "Use the code below to explore different types of formatted print. Fill in the missing code as indicated, and be sure you understand how each statement works before you move on. "
   ]
  },
  {
   "cell_type": "code",
   "execution_count": null,
   "metadata": {
    "scrolled": true
   },
   "outputs": [],
   "source": [
    "pi = 3.14159265359\n",
    "\n",
    "# Review the output of each of the next two print statements\n",
    "print('My pi = {:f}'.format(pi))\n",
    "print('My pi, {:2f}, has {:d} decimals'.format(pi,6))\n",
    "\n"
   ]
  },
  {
   "cell_type": "markdown",
   "metadata": {},
   "source": [
    "### How do change the amount of white space using the formatters/placeholders? Play around with the code above and leave a comment below with what you discover!\n",
    "\n",
    "__your answer here:__"
   ]
  },
  {
   "cell_type": "markdown",
   "metadata": {},
   "source": [
    "### How would you change the code below to say \"My pi, 3.141593, is larger than 3\" by using formating? use the code below to experiment "
   ]
  },
  {
   "cell_type": "code",
   "execution_count": null,
   "metadata": {},
   "outputs": [],
   "source": [
    "print('My pi, FILL IN, has FILL IN decimals'.format(FILL IN,FILL IN))"
   ]
  },
  {
   "cell_type": "markdown",
   "metadata": {},
   "source": [
    "### What happens when you execute the code below?\n",
    "\n",
    "Before executing the code two cells below, write down what you think will happen below\n",
    "\n",
    "__your answer here:__"
   ]
  },
  {
   "cell_type": "code",
   "execution_count": null,
   "metadata": {},
   "outputs": [],
   "source": [
    "# What happens when you execute the code below?\n",
    "print('My pi = {:1f}'.format(pi))\n"
   ]
  },
  {
   "cell_type": "markdown",
   "metadata": {},
   "source": [
    "## Mini Challenge: Rounding vs Truncating\n",
    "An example of rounding up would be rounding the number 4.5 up to 5. \n",
    "\n",
    "__Situation:__ You store the number pi up to 10 decimal points to a variable called \"pi_to_ten\". You realized you only want pi up to 5 decimal points to save memory. How might you round this? Using the round function!\n",
    "\n",
    "> __Example__: <br>\n",
    "> pi_to_ten = 3.1415926535 <br>\n",
    "> pi_to_five = round(pi_to_ten, 5)\n",
    "\n",
    "Run the code below and lets investigate!"
   ]
  },
  {
   "cell_type": "code",
   "execution_count": null,
   "metadata": {},
   "outputs": [],
   "source": [
    "# run this cell\n",
    "pi_to_ten = 3.1415926535\n",
    "pi_to_five = round(pi_to_ten, 5)\n",
    "\n",
    "print (pi_to_ten)\n",
    "print ()\n",
    "print (pi_to_five)"
   ]
  },
  {
   "cell_type": "markdown",
   "metadata": {},
   "source": [
    "### Questions\n",
    "\n",
    "#### Look closely, did the round function round pi_to_five up or down?\n",
    "__your answer here__: \n",
    "\n",
    "#### Look closely, of the two inputs that rounding takes, which (first or second) determines how many digits are rounded to?\n",
    "__your answer here__: \n",
    "\n"
   ]
  },
  {
   "cell_type": "markdown",
   "metadata": {},
   "source": [
    "### Truncating \n",
    "Rounding was likely straightforward, but what about truncating? Why would we want to truncate a number? Let's revisit our pi example!\n",
    "\n",
    "__Situation:__ You store the number pi up to 10 decimal points to a variable called \"pi_to_ten\". You want to calculate the area of a circle with radius = 5 feet. You are tasked with coming up with a rough estimation, so you don't need the precision from inclusion of any decimal points from pi. In other words, you decide that that pi_to_ten and the number \"3\" are close enough for your calculation. How can we quickly remove the decimal point from our variable for our rough calculation? \n",
    "\n",
    "Run the cell below and pay close attention to the outputs!"
   ]
  },
  {
   "cell_type": "code",
   "execution_count": null,
   "metadata": {},
   "outputs": [],
   "source": [
    "#run this cell\n",
    "import math\n",
    "\n",
    "pi_to_ten = 3.1415926535\n",
    "print (\"pi up to 10 decimal points is\", pi_to_ten, \"which is of type\", type(pi_to_ten))\n",
    "print()\n",
    "print (\"Let's chop off the decimal points for our rough calculation:\", math.trunc(pi_to_ten))\n",
    "print ()\n",
    "print (math.trunc(pi_to_ten),\"which is of type\", type(math.trunc(pi_to_ten)))"
   ]
  },
  {
   "cell_type": "markdown",
   "metadata": {},
   "source": [
    "### Questions\n",
    "\n",
    "#### Look closely, what did math.trunc( ) do to the float point number?\n",
    "__your answer here__: \n",
    "\n",
    "#### Based on your answer to the previous question, what do you think the difference between rounding and truncating is?\n",
    "__your answer here__: \n",
    "\n",
    "Check your answer by briefly skimming this link: <a href=\"https://kodify.net/python/math/truncate-integers\">Rounding vs.Truncating in Python</a>"
   ]
  },
  {
   "cell_type": "markdown",
   "metadata": {},
   "source": [
    "## Takeaways\n",
    "\n",
    "> - Since different operations or functions work differently on different data types in python, it's important to understand, and often to explicitly designate, the data types for variables you are working with\n",
    "> - When working with real data, it's critical to pay attention to the precision of numbers you are working with\n",
    "> - When writing output, you can make use of formatted print statements to control exactly what is printed and how, from the spacing to the precision of the numerical values\n",
    " "
   ]
  }
 ],
 "metadata": {
  "kernelspec": {
   "display_name": "Python 3",
   "language": "python",
   "name": "python3"
  },
  "language_info": {
   "codemirror_mode": {
    "name": "ipython",
    "version": 3
   },
   "file_extension": ".py",
   "mimetype": "text/x-python",
   "name": "python",
   "nbconvert_exporter": "python",
   "pygments_lexer": "ipython3",
   "version": "3.7.1"
  },
  "toc": {
   "base_numbering": 1,
   "nav_menu": {},
   "number_sections": true,
   "sideBar": true,
   "skip_h1_title": false,
   "title_cell": "Table of Contents",
   "title_sidebar": "Contents",
   "toc_cell": false,
   "toc_position": {},
   "toc_section_display": true,
   "toc_window_display": false
  },
  "varInspector": {
   "cols": {
    "lenName": 16,
    "lenType": 16,
    "lenVar": 40
   },
   "kernels_config": {
    "python": {
     "delete_cmd_postfix": "",
     "delete_cmd_prefix": "del ",
     "library": "var_list.py",
     "varRefreshCmd": "print(var_dic_list())"
    },
    "r": {
     "delete_cmd_postfix": ") ",
     "delete_cmd_prefix": "rm(",
     "library": "var_list.r",
     "varRefreshCmd": "cat(var_dic_list()) "
    }
   },
   "types_to_exclude": [
    "module",
    "function",
    "builtin_function_or_method",
    "instance",
    "_Feature"
   ],
   "window_display": false
  }
 },
 "nbformat": 4,
 "nbformat_minor": 2
}
