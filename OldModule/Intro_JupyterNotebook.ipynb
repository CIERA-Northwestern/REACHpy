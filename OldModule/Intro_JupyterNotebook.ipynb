{
 "cells": [
  {
   "cell_type": "markdown",
   "metadata": {},
   "source": [
    "*This notebook was adapted from \n",
    " [course notes by Dr. Kate Follette](https://github.com/kfollette/ASTR200-Spring2017), who also\n",
    "utilize notes from [Mark Krumholz's public course notes](https://sites.google.com/a/ucsc.edu/krumholz/teaching-and-courses/)*\n",
    "\n",
    "Further modified from notes by G. Besla, P. Pinto, E. Hayati (https://github.com/gurtina/P105A_2019) \n"
   ]
  },
  {
   "cell_type": "markdown",
   "metadata": {},
   "source": [
    "         \n",
    "## CIERA Summer Camp 2019: Intro to Jupyter Notebook\n",
    "\n",
    "## Contents\n",
    "\n",
    "1. Jupyter \n",
    "2. Using Jupyter as a calculator\n",
    "3. Variables\n",
    "4. Jupyter Cautions\n",
    "\n",
    "\n",
    "\n",
    "\n",
    "# 1. Jupyter \n",
    "\n",
    "The Jupyter Notebook is an open-source web application that allows you to create and share documents that contain live code, equations, visualizations and narrative text. Uses include: data cleaning and transformation, numerical simulation, statistical modeling, data visualization, machine learning, and much more.\n",
    "\n",
    "Jupyter notebooks have two kinds of cells. Markdown cells like this one have no labeling to the left of the cell, and, when executed, appear as ordinary text. Code cells like the one below have In [ ]: printed to the side of them and, when executed, a number appears inside of the brackets. \n",
    "\n",
    "To select a cell of either type for editing, either `double click` on the cell, or press `enter` \n",
    "\n",
    "To execute a cell of either type in Jupyter, hit `shift` + `enter` inside of that cell \n",
    "\n",
    "Try it by `double clicking` on this cell and hitting `shift` + `enter`.\n",
    "\n",
    "Do the same with the code cell below. \n",
    "\n",
    "Note that a markdown cell becomes pure text when you execute it, while a code cell spits out some output labelled Out [ ]:."
   ]
  },
  {
   "cell_type": "code",
   "execution_count": null,
   "metadata": {
    "scrolled": true
   },
   "outputs": [],
   "source": [
    "1+2"
   ]
  },
  {
   "cell_type": "markdown",
   "metadata": {},
   "source": [
    "The guts of Jupyter is the coding language Python, and any and all Python syntax will work inside of code cells. \n",
    "\n",
    "A key feature of Jupyter is that it integrates markdown (instructions/notes), code ***and*** output all in the same document. For this reason, many astronomers, including myself, use Jupyter as a sort of lab notebook rather than maintaining lab notes, code, and code output all in separate documents. \n",
    "\n",
    "\n"
   ]
  },
  {
   "cell_type": "markdown",
   "metadata": {},
   "source": [
    "<div class=hw>\n",
    "\n",
    "### Exercise 1\n",
    "-------------\n",
    "\n",
    "\n",
    "Here is an extensive Jupyter \"cheat sheet\"[here](https://www.cheatography.com/weidadeyue/cheat-sheets/jupyter-notebook/). \n",
    "\n",
    "Alternatively you can press  `escape` and then `h`.  Try this now! \n",
    "\n",
    "Use the hot keys now to exectute the following tasks."
   ]
  },
  {
   "cell_type": "code",
   "execution_count": null,
   "metadata": {},
   "outputs": [],
   "source": [
    "a. Change this cell to a markdown cell"
   ]
  },
  {
   "cell_type": "markdown",
   "metadata": {},
   "source": [
    "<div class=hw>\n",
    "b. Change the below cell to a code cell"
   ]
  },
  {
   "cell_type": "markdown",
   "metadata": {},
   "source": [
    "2+3"
   ]
  },
  {
   "cell_type": "markdown",
   "metadata": {},
   "source": [
    "<div class=hw>\n",
    "c. Insert a blank code cell above this one, and one below as well."
   ]
  },
  {
   "cell_type": "markdown",
   "metadata": {},
   "source": [
    "<div class=hw>\n",
    "d. Split the cell below in between the two operations so that each appears in its own separate cell, and then execute both cells. "
   ]
  },
  {
   "cell_type": "code",
   "execution_count": null,
   "metadata": {},
   "outputs": [],
   "source": [
    "1+2\n",
    "1+3"
   ]
  },
  {
   "cell_type": "markdown",
   "metadata": {},
   "source": [
    "<div class=hw>\n",
    "e. Delete the cell below"
   ]
  },
  {
   "cell_type": "code",
   "execution_count": null,
   "metadata": {},
   "outputs": [],
   "source": []
  },
  {
   "cell_type": "markdown",
   "metadata": {},
   "source": [
    "<div class=hw>\n",
    "A cheat sheet for syntax within markdown cells, which can be accessed [here](https://guides.github.com/pdfs/markdown-cheatsheet-online.pdf). Use this to complete the following tasks.\n",
    "\n",
    "f. Make this text italic.\n",
    "\n",
    "g. Make this text bold.\n",
    "\n",
    "h. Make this text bold and italic. \n",
    "\n",
    "i. Make this a heading.\n",
    "\n",
    "j. Make this a hyperlink to your favorite webpage.\n",
    "\n",
    "k. Make the asterisks in the following sentence visible: I *love* physics"
   ]
  },
  {
   "cell_type": "markdown",
   "metadata": {},
   "source": [
    "l. you can call basic UNIX commands in Jupyter. Run the below"
   ]
  },
  {
   "cell_type": "code",
   "execution_count": null,
   "metadata": {},
   "outputs": [],
   "source": [
    "!ls"
   ]
  },
  {
   "cell_type": "code",
   "execution_count": null,
   "metadata": {},
   "outputs": [],
   "source": [
    "!ls .."
   ]
  },
  {
   "cell_type": "markdown",
   "metadata": {},
   "source": [
    "This command lists the contents of the directory you are in.   Recall, the directory you are in is referred to as `./`\n",
    "In this directory should see this Jupyter notebook.\n",
    "\n",
    "You can also do other commands to, like `!ls ..` to list the contents of the directory one level up from here. "
   ]
  },
  {
   "cell_type": "markdown",
   "metadata": {},
   "source": [
    "There are obviously lots of other things that you can do, but these are the basics that you'll use the most often.\n",
    "\n",
    "# 2. Using Jupyter as a calculator:  operators & expressions\n",
    "\n",
    "In Jupyter notebooks, every cell is a command prompt into which we can enter python commands. One very basic way to use python is as a calculator.\n",
    "\n",
    "Python knows the basic arithmetic operations plus `(+)`, minus `(-)`, times `(\\*)`, divide `(/)`, and raise to a power `(\\**)`.\n",
    "These are `operators`.\n",
    "\n",
    "An `expression` is the combination of one or more operators that the python language then interprets.\n",
    "e.g   `2*3`\n",
    "\n",
    "*Sidenote* \n",
    "If you double click on this cell, you'll see that I've inserted a BACKSLASH (\\) before the asterisks. That is because the asterisk has special meaning inside of a markdown cell. Single asterisks make an item *italicized* when you execute the cell, and double asterisks make it **bold**. This is ***NOT*** the case for code cells.  \n",
    "\n",
    "Execute all of the cells below and make sure that you understand what they're doing before moving on."
   ]
  },
  {
   "cell_type": "code",
   "execution_count": null,
   "metadata": {},
   "outputs": [],
   "source": [
    "2+3"
   ]
  },
  {
   "cell_type": "code",
   "execution_count": null,
   "metadata": {},
   "outputs": [],
   "source": [
    "2*3"
   ]
  },
  {
   "cell_type": "code",
   "execution_count": null,
   "metadata": {},
   "outputs": [],
   "source": [
    "2-3"
   ]
  },
  {
   "cell_type": "code",
   "execution_count": null,
   "metadata": {},
   "outputs": [],
   "source": [
    "2/3"
   ]
  },
  {
   "cell_type": "code",
   "execution_count": null,
   "metadata": {},
   "outputs": [],
   "source": [
    "2**3"
   ]
  },
  {
   "cell_type": "markdown",
   "metadata": {},
   "source": [
    "It also understands parentheses, and follows the normal rules for order of operations:"
   ]
  },
  {
   "cell_type": "code",
   "execution_count": null,
   "metadata": {},
   "outputs": [],
   "source": [
    "1+2*3"
   ]
  },
  {
   "cell_type": "code",
   "execution_count": null,
   "metadata": {},
   "outputs": [],
   "source": [
    "1+2**3"
   ]
  },
  {
   "cell_type": "code",
   "execution_count": null,
   "metadata": {},
   "outputs": [],
   "source": [
    "(1+2)*3"
   ]
  },
  {
   "cell_type": "markdown",
   "metadata": {},
   "source": [
    "# 3. Simple variables\n",
    "\n",
    "We can also define variables to store numbers, and we can perform arithmetic on those variables. Variables are just names for boxes that can store values, and on which you can perform various operations. For example, execute each of the cells below and make sure you understand the output:"
   ]
  },
  {
   "cell_type": "code",
   "execution_count": null,
   "metadata": {},
   "outputs": [],
   "source": [
    "a=4"
   ]
  },
  {
   "cell_type": "code",
   "execution_count": null,
   "metadata": {},
   "outputs": [],
   "source": [
    "a+1"
   ]
  },
  {
   "cell_type": "code",
   "execution_count": null,
   "metadata": {},
   "outputs": [],
   "source": [
    "a/2"
   ]
  },
  {
   "cell_type": "code",
   "execution_count": null,
   "metadata": {},
   "outputs": [],
   "source": [
    "a=a+1"
   ]
  },
  {
   "cell_type": "code",
   "execution_count": null,
   "metadata": {},
   "outputs": [],
   "source": [
    "# THIS IS A COMMENT ! \n",
    "a"
   ]
  },
  {
   "cell_type": "code",
   "execution_count": null,
   "metadata": {},
   "outputs": [],
   "source": [
    "a**2"
   ]
  },
  {
   "cell_type": "markdown",
   "metadata": {},
   "source": [
    "Note that the line a=a+1 redefined the variable as one greater than it was before. \n",
    "\n",
    "IN THIS CLASS YOU MUST  use descriptive variable labels (e.g. lum_stara = , mass_starb =) and create a new variable name each time you do a calculation. ***Do not reuse variable names*** or you risk getting a nonsense answer when you refer to that variable.\n",
    "\n",
    "This is a simple example of how not using a new variable name could get you into trouble (if you were to assume that a was still 4). Note too that lines in which you have deifned a variable do not have any output by default. If you want to check that the variable is properly assigned or see its value, you can type the variable name alone on a line below the variable assignment line."
   ]
  },
  {
   "cell_type": "code",
   "execution_count": null,
   "metadata": {},
   "outputs": [],
   "source": [
    "a=10**2\n",
    "a"
   ]
  },
  {
   "cell_type": "markdown",
   "metadata": {},
   "source": [
    "Alternatively you can print the variable to the screen. Execute the below:"
   ]
  },
  {
   "cell_type": "code",
   "execution_count": null,
   "metadata": {},
   "outputs": [],
   "source": [
    "print(a)"
   ]
  },
  {
   "cell_type": "markdown",
   "metadata": {},
   "source": [
    "You can define multiple variables in one line"
   ]
  },
  {
   "cell_type": "code",
   "execution_count": null,
   "metadata": {},
   "outputs": [],
   "source": [
    "a,b = 1,2\n",
    "print(a,b)"
   ]
  },
  {
   "cell_type": "code",
   "execution_count": null,
   "metadata": {},
   "outputs": [],
   "source": [
    "b"
   ]
  },
  {
   "cell_type": "markdown",
   "metadata": {},
   "source": [
    "There's also a subtle but important point to notice here, which is the meaning of the equal sign. In mathematics, the statement that `a = b` is a statement that two things are equal, and it can be either true or false. In python, as in almost all other programming languages, `a = b` means something different. It means that the value of the variable a should be changed to whatever value b has. Thus the statement we made `a = a + 1` is not an assertion (which is obviously false) that a is equal to itself plus one. It is an instruction to the computer to take the variable a, and 1 to it, and then store the result back into the variable a. In this example, it therefore changes the value of a from 4 to 5.\n",
    "\n",
    "One more point regarding assignments: the fact that = means something different in programming than it does in mathematics implies that the statements `a = b` and `b = a` will have very different effects. The first one causes the computer to forget whatever is stored in a and replace it by whatever is stored in b. The second statement has the opposite effect: the computer forgets what is stored in b, and replaces it by whatever is stored in a.\n",
    "\n"
   ]
  },
  {
   "cell_type": "markdown",
   "metadata": {},
   "source": [
    "# 4. Jupyter Cautions\n",
    "\n",
    "You should always keep in mind that ***cells within a Jupyter notebook can be executed and reexecuted in any order*** as this can sometimes get you into trouble. This feature is the reason why an executed code cell is numbered, so that you know what order the cells you see have been executed in. Note that this does not have to be linear from the top to the bottom of the document, but can jump around within it. Often, you will note a mistake or something that you want to try and will go back and change the code in an earlier cell. If you reexecute just this one cell, then any already executed cells that rely on variables defined in the reexecuted cell or its output will ***not*** be automatically updated.  \n",
    "\n",
    "For the purposes of this class, labs and homeworks should always be executable in a linear fashion. For this reason, you should observe the following \"best practices\" for coding in notebooks. \n",
    "\n",
    "1. Use descriptive variable labels (e.g. lum_stara = , mass_starb =) and create a new variable name each time you do a calculation. ***Do not reuse variable names*** or you risk getting a nonsense answer when you refer to that variable.\n",
    "\n",
    "2. Before finishing up, restart the kernel through the menu at the top of the notebook and execute the whole thing from start to finish once, making sure that all of your code output is how you want it. Note that **restarting the kernel will clear the code output, not the code itself**, so you will not be losing your work.\n",
    "\n",
    "3. If you note a mistake in an earlier cell and go back to correct it, you should be careful to also reexecute any cells that depend on it. If you want to do a calculation similar to one that you executed in a previous cell, you should instead copy the contents of that cell into a new cell, rename the variables, and execute it again."
   ]
  },
  {
   "cell_type": "code",
   "execution_count": null,
   "metadata": {},
   "outputs": [],
   "source": []
  }
 ],
 "metadata": {
  "anaconda-cloud": {},
  "kernelspec": {
   "display_name": "Python 3",
   "language": "python",
   "name": "python3"
  },
  "language_info": {
   "codemirror_mode": {
    "name": "ipython",
    "version": 3
   },
   "file_extension": ".py",
   "mimetype": "text/x-python",
   "name": "python",
   "nbconvert_exporter": "python",
   "pygments_lexer": "ipython3",
   "version": "3.7.3"
  }
 },
 "nbformat": 4,
 "nbformat_minor": 1
}
