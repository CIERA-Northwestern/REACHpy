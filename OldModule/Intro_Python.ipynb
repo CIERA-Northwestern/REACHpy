{
 "cells": [
  {
   "cell_type": "markdown",
   "metadata": {},
   "source": [
    "*This notebook was adapted from \n",
    " [course notes by Dr. Kate Follette](https://github.com/kfollette/ASTR200-Spring2017)*\n",
    " \n",
    "Further modified from notes by G. Besla, P. Pinto, E. Hayati (https://github.com/gurtina/P105A_2019)"
   ]
  },
  {
   "cell_type": "markdown",
   "metadata": {},
   "source": [
    "          \n",
    "## CIERA Summer Camp 2019: Intro to Python\n",
    "\n",
    "## Contents\n",
    "\n",
    "1. Variable Types\n",
    "2. Conditional Statements\n",
    "3. While Loops\n",
    "4. For Loops\n"
   ]
  },
  {
   "cell_type": "markdown",
   "metadata": {},
   "source": [
    "# 1. Variable Types\n",
    "\n",
    "Computers store data in memory, variables are the helpful names to refer to a location in memory.\n",
    "\n",
    "## 1.1 Integers and Floats\n"
   ]
  },
  {
   "cell_type": "code",
   "execution_count": null,
   "metadata": {},
   "outputs": [],
   "source": [
    "b=5"
   ]
  },
  {
   "cell_type": "markdown",
   "metadata": {},
   "source": [
    "The variable `b` is an integer, or `int` for short. We can find this out by asking python using one of its many built-in functions, namely `type`."
   ]
  },
  {
   "cell_type": "code",
   "execution_count": null,
   "metadata": {},
   "outputs": [],
   "source": [
    "type(b)"
   ]
  },
  {
   "cell_type": "markdown",
   "metadata": {},
   "source": [
    "Integers are exactly what they sound like: they hold whole numbers, and operations involving them and other whole numbers will always yield whole numbers. This is an important point in general programming, because variable types are not generally reassigned dynamically. So, for example, the operation 5/2 would yield 2 rather than 2.5 if 5 is an integer. In our case, however, we are using Python 3, which will automatically convert an integer to the next type of variable if the natural output is not a whole number, as below :"
   ]
  },
  {
   "cell_type": "code",
   "execution_count": null,
   "metadata": {},
   "outputs": [],
   "source": [
    "c = b/2"
   ]
  },
  {
   "cell_type": "markdown",
   "metadata": {},
   "source": [
    "By defining `c` as `b/2`, `c` is not an integer.  Instead, it is a new type of variable: a floating point number, or `float` for short. You can see this using `type`, as in the below:\n",
    " "
   ]
  },
  {
   "cell_type": "code",
   "execution_count": null,
   "metadata": {},
   "outputs": [],
   "source": [
    "c"
   ]
  },
  {
   "cell_type": "code",
   "execution_count": null,
   "metadata": {},
   "outputs": [],
   "source": [
    "type(c)"
   ]
  },
  {
   "cell_type": "markdown",
   "metadata": {},
   "source": [
    "A floating point variable is capable of holding real numbers. \n",
    "\n",
    "Why have different types of variables for integers versus non-integer real numbers? In mathematics there is no need to make the distinction, of course: all integers are real numbers, so it would seem that there should be no reason to have a separate type of variable to hold integers. However, this ignores the way computers work. On a computer, operations involving integers are exact: 1 + 1 is exactly 2. However, operations on real numbers are necessarily inexact. I say necessarily because a real number is capable of having an arbitrary number of decimal places. The number pi contains infinitely many digits, and never repeats, but my computer only comes with a finite amount of memory and processor power. \n",
    "\n",
    "Even rational numbers (like 2/3) run into this problem, because their decimal representation (or to be exact their representation in binary) may be an infinitely repeating sequence. Thus it is not possible to perform operations on arbitrary real numbers to exact precision. Instead, arithmetic operations on floating point numbers are approximate, with the level of accuracy determined by factors like how much memory one wants to devote to storing digits, and how much processor time one wants to spend manipulating them. \n",
    "\n",
    "On most computers a python floating point number is accurate to about 1 in 10^15, but this depends on both the architecture and on the operations you perform. That's enough accuracy for many purposes, but there are plenty of situations (for example counting things) when we really want to do things precisely, and we want 1 + 1 to be exactly 2. That's what integers are there for.\n",
    "\n",
    "You can also convert variable types. We can change the floating point `c` into an integer, which will drop the values after the decimal point. It will not round the value. "
   ]
  },
  {
   "cell_type": "code",
   "execution_count": null,
   "metadata": {},
   "outputs": [],
   "source": [
    "d = int(c)\n",
    "print(d)\n"
   ]
  },
  {
   "cell_type": "markdown",
   "metadata": {},
   "source": [
    "\n",
    "## 1.2 Strings\n",
    "\n",
    "A third type of very useful variable is strings, abbreviated str. A string is a sequence of characters, and one can declare that something is a string by putting characters in quotation marks (either `\"` or `'` is fine):"
   ]
  },
  {
   "cell_type": "code",
   "execution_count": null,
   "metadata": {},
   "outputs": [],
   "source": [
    "e = \"stars\""
   ]
  },
  {
   "cell_type": "code",
   "execution_count": null,
   "metadata": {},
   "outputs": [],
   "source": [
    "type(e)"
   ]
  },
  {
   "cell_type": "markdown",
   "metadata": {},
   "source": [
    "The quotation marks are important here. To see why, try issuing the command without them:"
   ]
  },
  {
   "cell_type": "code",
   "execution_count": null,
   "metadata": {},
   "outputs": [],
   "source": [
    "e = stars"
   ]
  },
  {
   "cell_type": "markdown",
   "metadata": {},
   "source": [
    "This is an error message, complaining that the computer doesn't know what stars is. The problem is that, without the quotation marks, python thinks that stars is the name of a variable, and complains when it can't find a variable by that name. Putting the quotation marks tells python that we mean a string, not a variable named stars.\n",
    "\n",
    "Obviously we can't add strings in the same sense that we add numbers, but we can still do operations on them. The plus (`+`) operation `concatenates` two strings together:"
   ]
  },
  {
   "cell_type": "code",
   "execution_count": null,
   "metadata": {},
   "outputs": [],
   "source": [
    "f = \"planets\""
   ]
  },
  {
   "cell_type": "code",
   "execution_count": null,
   "metadata": {},
   "outputs": [],
   "source": [
    "e+f"
   ]
  },
  {
   "cell_type": "code",
   "execution_count": null,
   "metadata": {},
   "outputs": [],
   "source": [
    "e + \" and \" + f"
   ]
  },
  {
   "cell_type": "markdown",
   "metadata": {},
   "source": [
    "**Special Characters**\n",
    "\n",
    "backslashes start special characters:\n",
    "\n",
    " `\\n   = newline`  \n",
    " \n",
    "` \\t   = tab`\n"
   ]
  },
  {
   "cell_type": "code",
   "execution_count": null,
   "metadata": {},
   "outputs": [],
   "source": [
    "print(e + \"\\nand \\n\" + f)"
   ]
  },
  {
   "cell_type": "code",
   "execution_count": null,
   "metadata": {},
   "outputs": [],
   "source": [
    "# this one won't work\n",
    "print(5 + e + '\\n and \\n' + 7 + f)"
   ]
  },
  {
   "cell_type": "code",
   "execution_count": null,
   "metadata": {},
   "outputs": [],
   "source": [
    "# we need to turn the integers into strings to concatenate them.\n",
    "print(str(5) + e + \"\\n and \\n\" + str(7) +f)"
   ]
  },
  {
   "cell_type": "code",
   "execution_count": null,
   "metadata": {},
   "outputs": [],
   "source": [
    "# fixing the text so that there is space between the number and the variable.\n",
    "print(str(5) + \"\\t\" + e + \"\\n and \\n\" + str(7) + \"\\t\" + f)"
   ]
  },
  {
   "cell_type": "code",
   "execution_count": null,
   "metadata": {},
   "outputs": [],
   "source": [
    "print(\"'\")"
   ]
  },
  {
   "cell_type": "markdown",
   "metadata": {},
   "source": [
    "## 1.3 Booleans\n",
    "\n",
    "In addition to integers, floats, and strings, there are three other types of variables worth mentioning. The first is a Boolean variable (named after George Boole), which represents a logical value. Boolean variables can be either True or False:"
   ]
  },
  {
   "cell_type": "code",
   "execution_count": null,
   "metadata": {},
   "outputs": [],
   "source": [
    "# capitalization matters here\n",
    "g = True"
   ]
  },
  {
   "cell_type": "code",
   "execution_count": null,
   "metadata": {},
   "outputs": [],
   "source": [
    "type(g)"
   ]
  },
  {
   "cell_type": "code",
   "execution_count": null,
   "metadata": {},
   "outputs": [],
   "source": [
    "g"
   ]
  },
  {
   "cell_type": "markdown",
   "metadata": {},
   "source": [
    "Boolean variables can have logic operations performed on them. Here are three example logical operators:\n",
    "`not`, `and`, and `or`. \n",
    "\n",
    "Play around with the cells below and see if you can figure out what each one does, and then describe it below."
   ]
  },
  {
   "cell_type": "code",
   "execution_count": null,
   "metadata": {},
   "outputs": [],
   "source": [
    "not g"
   ]
  },
  {
   "cell_type": "code",
   "execution_count": null,
   "metadata": {},
   "outputs": [],
   "source": [
    "not not g"
   ]
  },
  {
   "cell_type": "code",
   "execution_count": null,
   "metadata": {},
   "outputs": [],
   "source": [
    "h = False"
   ]
  },
  {
   "cell_type": "code",
   "execution_count": null,
   "metadata": {},
   "outputs": [],
   "source": [
    "g and h"
   ]
  },
  {
   "cell_type": "code",
   "execution_count": null,
   "metadata": {},
   "outputs": [],
   "source": [
    "g or h"
   ]
  },
  {
   "cell_type": "code",
   "execution_count": null,
   "metadata": {},
   "outputs": [],
   "source": [
    "not(g and h)"
   ]
  },
  {
   "cell_type": "code",
   "execution_count": null,
   "metadata": {},
   "outputs": [],
   "source": [
    "(not g) and h"
   ]
  },
  {
   "cell_type": "markdown",
   "metadata": {},
   "source": [
    "<div class=hw>\n",
    "\n",
    "### Exercise 1\n",
    "-------------\n",
    "\n",
    "Double click here and edit the text below to describe what each operator does in your own wods\n",
    "\n",
    "the NOT operator ...\n",
    "\n",
    "the AND operator ...\n",
    "\n",
    "the OR operator ..."
   ]
  },
  {
   "cell_type": "markdown",
   "metadata": {},
   "source": [
    "# 2. Conditional Statements\n",
    "\n",
    "A conditional statement executes if a given boolean statement is true.\n",
    "The general syntax is \n",
    "\n",
    "`if BOOLEAN_EXPRESSION:`\n",
    "\n",
    "    STATEMENT\n",
    "\n",
    "\n",
    "## 2.1. Using Boolean Variables\n",
    "\n",
    "\n",
    "We will first define a boolean variable x and set as default it to be True"
   ]
  },
  {
   "cell_type": "code",
   "execution_count": null,
   "metadata": {},
   "outputs": [],
   "source": [
    "x = True"
   ]
  },
  {
   "cell_type": "markdown",
   "metadata": {},
   "source": [
    "Let's create a conditional statement, which, if true, completes an action that we specify."
   ]
  },
  {
   "cell_type": "code",
   "execution_count": null,
   "metadata": {},
   "outputs": [],
   "source": [
    "if x: \n",
    "    print(\"hello!\") "
   ]
  },
  {
   "cell_type": "markdown",
   "metadata": {},
   "source": [
    "Python uses indentation to define code blocks, instead of brackets. The standard Python indentation is 4 spaces, although tabs and any other space size will work, as long as it is consistent. Notice that code blocks do not need any termination.\n"
   ]
  },
  {
   "cell_type": "markdown",
   "metadata": {},
   "source": [
    "Change the value of x to False and try the above line again.\n",
    "\n",
    "Nothing happens - we need to give the statement an alternative that captures all the other possibile values of x: `else`. "
   ]
  },
  {
   "cell_type": "code",
   "execution_count": null,
   "metadata": {},
   "outputs": [],
   "source": [
    "if x: \n",
    "    print(\"hello!\")\n",
    "else: \n",
    "    print(\"oops!\")"
   ]
  },
  {
   "cell_type": "markdown",
   "metadata": {},
   "source": [
    "## 2.2 Comparison Operators\n",
    "\n",
    "`==`   Equals to\n",
    "\n",
    "`!=`   Not equal to\n",
    "\n",
    "`<`   Less than\n",
    "\n",
    "`>`  Greater than\n",
    "\n",
    "`<=`  Less than or equal to\n",
    "\n",
    "`>=` Greater than or equal to\n"
   ]
  },
  {
   "cell_type": "code",
   "execution_count": null,
   "metadata": {},
   "outputs": [],
   "source": [
    "x = 2"
   ]
  },
  {
   "cell_type": "code",
   "execution_count": null,
   "metadata": {},
   "outputs": [],
   "source": [
    "print(x==2)"
   ]
  },
  {
   "cell_type": "code",
   "execution_count": null,
   "metadata": {},
   "outputs": [],
   "source": [
    "print(x==3)"
   ]
  },
  {
   "cell_type": "code",
   "execution_count": null,
   "metadata": {},
   "outputs": [],
   "source": [
    "print(x!=2)"
   ]
  },
  {
   "cell_type": "code",
   "execution_count": null,
   "metadata": {},
   "outputs": [],
   "source": [
    "print(x<4)"
   ]
  },
  {
   "cell_type": "code",
   "execution_count": null,
   "metadata": {},
   "outputs": [],
   "source": [
    "print(x>=2)"
   ]
  },
  {
   "cell_type": "markdown",
   "metadata": {},
   "source": [
    "Python uses boolean variables to evaluate conditions. The boolean values True and False are returned when an expression is compared or evaluated."
   ]
  },
  {
   "cell_type": "code",
   "execution_count": null,
   "metadata": {},
   "outputs": [],
   "source": [
    "if x==2: \n",
    "    print(x)"
   ]
  },
  {
   "cell_type": "markdown",
   "metadata": {},
   "source": [
    "### Exercise 2\n",
    "\n",
    "Define a variable called `y` and set it to any integer you like.\n",
    "\n",
    "Write code representing the following conditional statement: \n",
    "\n",
    "if y is `less than or equal` to 10, print a string of your choosing to the screen.\n",
    "\n",
    "else, if this condition fails, print a different string of your choosing to the screen."
   ]
  },
  {
   "cell_type": "code",
   "execution_count": null,
   "metadata": {},
   "outputs": [],
   "source": []
  },
  {
   "cell_type": "markdown",
   "metadata": {},
   "source": [
    "## 2.3 Combining Multiple conditions\n",
    "\n",
    "Truth Tables:\n",
    "\n",
    "True `and` True = True\n",
    "\n",
    "True `and` False = False\n",
    "\n",
    "False `and` False = False\n",
    "\n",
    "True `or` False = True "
   ]
  },
  {
   "cell_type": "code",
   "execution_count": null,
   "metadata": {},
   "outputs": [],
   "source": [
    "z = 2"
   ]
  },
  {
   "cell_type": "code",
   "execution_count": null,
   "metadata": {},
   "outputs": [],
   "source": [
    "\n",
    "# True and True\n",
    "z < 4 and z > 1"
   ]
  },
  {
   "cell_type": "code",
   "execution_count": null,
   "metadata": {},
   "outputs": [],
   "source": [
    "# True and True = True\n",
    "\n",
    "if z < 4 and z > 1:\n",
    "    print (\"True and True\")\n",
    "else: \n",
    "    print (\"At least one is false\")"
   ]
  },
  {
   "cell_type": "code",
   "execution_count": null,
   "metadata": {},
   "outputs": [],
   "source": [
    "zz = 5"
   ]
  },
  {
   "cell_type": "code",
   "execution_count": null,
   "metadata": {},
   "outputs": [],
   "source": [
    "z == 2 or zz == 7"
   ]
  },
  {
   "cell_type": "code",
   "execution_count": null,
   "metadata": {},
   "outputs": [],
   "source": [
    "# True or False\n",
    "\n",
    "if zz == 2 or zz == 5:\n",
    "    print (\"True or False or True or True\")\n",
    "else: \n",
    "    print (\"False or False\")"
   ]
  },
  {
   "cell_type": "markdown",
   "metadata": {},
   "source": [
    "## 2.4 Chained Conditionals\n",
    "\n",
    "\n",
    "You may have a case where you want one of many possible clauses to execute. The `elif` statement is an “else if” statement that always follows an `if` or another `elif` statement. It provides another condition that is checked only if the previous conditions were False. "
   ]
  },
  {
   "cell_type": "code",
   "execution_count": null,
   "metadata": {},
   "outputs": [],
   "source": [
    "xx = 5"
   ]
  },
  {
   "cell_type": "code",
   "execution_count": null,
   "metadata": {},
   "outputs": [],
   "source": [
    "if xx == 5:\n",
    "    print (\"variable is 5\")\n",
    "elif xx < 5 : \n",
    "    print (\"variable is less than 5\")\n",
    "else:\n",
    "    print (\"variable is neither 5 nor less than 5\")"
   ]
  },
  {
   "cell_type": "markdown",
   "metadata": {},
   "source": [
    "Nested if statements: after a conditional statement you can execute multiple other expressions or even additional conditional statements"
   ]
  },
  {
   "cell_type": "code",
   "execution_count": null,
   "metadata": {},
   "outputs": [],
   "source": [
    "name = 'Mary'\n",
    "password = 'swordfish'\n",
    "\n",
    "if name == 'Mary':\n",
    "    print('Hello Mary')\n",
    "    if password == 'swordfish': \n",
    "        print('Access granted.')  # notice the indentation here.\n",
    "    else:\n",
    "        print('Wrong password.')\n",
    "else:\n",
    "    print(\"Tough Luck!\")"
   ]
  },
  {
   "cell_type": "markdown",
   "metadata": {},
   "source": [
    "## 2.5  One line conditionals"
   ]
  },
  {
   "cell_type": "code",
   "execution_count": null,
   "metadata": {},
   "outputs": [],
   "source": [
    "x = 1"
   ]
  },
  {
   "cell_type": "code",
   "execution_count": null,
   "metadata": {},
   "outputs": [],
   "source": [
    "if x > 0:\n",
    "    print(\"yo\")\n",
    "else:\n",
    "    print(\"dude\")"
   ]
  },
  {
   "cell_type": "code",
   "execution_count": null,
   "metadata": {},
   "outputs": [],
   "source": [
    "# the one line version\n",
    "print(\"yo\") if x > 0 else print(\"dude\")"
   ]
  },
  {
   "cell_type": "markdown",
   "metadata": {},
   "source": [
    "### Exercise 3.\n",
    "\n",
    "Define two variables, `x` and `y`, and set them to any integers you want.\n",
    "\n",
    "Write a set of chained conditional statements that correspond to this flow chart. Diamonds correspond to the conditional statement.   \n",
    "\n",
    "In place of the rectangular statements, print a string of the condition that was satistfied.\n",
    "\n",
    "For example, if the diamond stated `x == y` then the print statement would be:\n",
    "\n",
    "print(str(x) + `\"==\"`  + str(y))\n",
    "\n",
    "![Flow chart](http://www.openbookproject.net/books/bpp4awd/_images/flowchart_nested_conditional.png)"
   ]
  },
  {
   "cell_type": "markdown",
   "metadata": {},
   "source": [
    "# 3.  While Loops\n",
    "\n",
    "\n",
    "In computer programming, a loop is a sequence of instructions that is continually repeated until a certain condition is reached. \n",
    "\n",
    "For example, on an airplane we might want to check repeatedly that all conditions are fine and do something different if things are not fine ...\n",
    "\n",
    "`While` loops repeat as long as a certain boolean condition is still true. \n",
    "\n",
    "The genereal syntax is :\n",
    "\n",
    "`while BOOLEAN_EXPRESSION:`\n",
    "\n",
    "    STATEMENT\n"
   ]
  },
  {
   "cell_type": "markdown",
   "metadata": {},
   "source": [
    "## 3.1 Counters\n",
    "\n",
    "The body of the loop should change the value of one or more variables so that eventually the condition becomes false and the loop terminates. Otherwise the loop will repeat forever, which is called an infinite loop.\n",
    "\n",
    "The most common example utilizes a counter, which is an integer that increments by 1 each time the loop executes.\n",
    "\n",
    "For example:"
   ]
  },
  {
   "cell_type": "code",
   "execution_count": null,
   "metadata": {},
   "outputs": [],
   "source": [
    "count = 0\n",
    "while count < 5:\n",
    "    print(count)\n",
    "    count += 1  # This is the same as count = count + 1"
   ]
  },
  {
   "cell_type": "markdown",
   "metadata": {},
   "source": [
    "## 3.2 While Loops and Conditionals"
   ]
  },
  {
   "cell_type": "code",
   "execution_count": null,
   "metadata": {},
   "outputs": [],
   "source": [
    "Lithium = True\n",
    "electrons = 0"
   ]
  },
  {
   "cell_type": "code",
   "execution_count": null,
   "metadata": {},
   "outputs": [],
   "source": [
    "while Lithium:\n",
    "    electrons += 1\n",
    "    if electrons > 2:\n",
    "        print(electrons)\n",
    "        Lithium = False"
   ]
  },
  {
   "cell_type": "code",
   "execution_count": null,
   "metadata": {},
   "outputs": [],
   "source": [
    "m = 1\n",
    "n = 0"
   ]
  },
  {
   "cell_type": "code",
   "execution_count": null,
   "metadata": {},
   "outputs": [],
   "source": [
    "while n < 10:\n",
    "    print(\"planets\" if m > 0 else \"stars\")\n",
    "    m *= -1\n",
    "    n += 1"
   ]
  },
  {
   "cell_type": "markdown",
   "metadata": {},
   "source": [
    "### Exercise 4\n",
    "\n",
    "Copy the while loop above into a code cell and add print statements that print the variables `m` and `n` so that you can see their values at each step. Use the output to figure out what the statements m *= -1 and n += 1 are doing. \n",
    "\n",
    "Type an explanation of what they do into a markdown cell"
   ]
  },
  {
   "cell_type": "markdown",
   "metadata": {},
   "source": [
    "# 4. For Loops\n",
    "\n",
    "\n",
    "`For` loops iterate a given number of times. The general syntax:\n",
    "\n",
    "`for RANGE:`\n",
    "\n",
    "    STATEMENT"
   ]
  },
  {
   "cell_type": "markdown",
   "metadata": {},
   "source": [
    "## 4.1  Loops over a range of integers\n",
    "\n",
    "For loops can iterate over a sequence of numbers using the `range(n)` function, which generates \n",
    "a list of integers from `0` to `n-1`, with stepsize = 1.\n",
    "\n",
    "Note: in python indexes start at `0` rather than `1`"
   ]
  },
  {
   "cell_type": "code",
   "execution_count": null,
   "metadata": {},
   "outputs": [],
   "source": [
    "for i in range(5):\n",
    "    print('i is now:', i)"
   ]
  },
  {
   "cell_type": "markdown",
   "metadata": {},
   "source": [
    "You can also specify the starting point for the `range` function. "
   ]
  },
  {
   "cell_type": "code",
   "execution_count": null,
   "metadata": {
    "scrolled": true
   },
   "outputs": [],
   "source": [
    "for i in range(3, 8):\n",
    "    print(i)"
   ]
  },
  {
   "cell_type": "markdown",
   "metadata": {},
   "source": [
    "And you can specify the stepsize used to set the values in `range` (default is +1)"
   ]
  },
  {
   "cell_type": "code",
   "execution_count": null,
   "metadata": {},
   "outputs": [],
   "source": [
    "for i in range(3, 8, 2):\n",
    "    print(i)"
   ]
  },
  {
   "cell_type": "code",
   "execution_count": null,
   "metadata": {},
   "outputs": [],
   "source": [
    "for i in range(0,8,2):\n",
    "    print(i)"
   ]
  },
  {
   "cell_type": "markdown",
   "metadata": {},
   "source": [
    "## 4.2 Loops over lists\n",
    "\n",
    "You can also loop over a list of names"
   ]
  },
  {
   "cell_type": "code",
   "execution_count": null,
   "metadata": {},
   "outputs": [],
   "source": [
    "countries = ['USA', 'CANADA', 'AUSTRALIA', 'BOTSWANA']"
   ]
  },
  {
   "cell_type": "code",
   "execution_count": null,
   "metadata": {},
   "outputs": [],
   "source": [
    "for i in countries:\n",
    "    print(i)"
   ]
  },
  {
   "cell_type": "markdown",
   "metadata": {},
   "source": [
    "Use a `for` loop if you know, before you start looping, the maximum number of times that you’ll need to execute the body:  `definite iteration`\n",
    "\n",
    "In contrast, if you are required to repeat some computation until some condition is met, and you cannot calculate in advance when this will happen, you’ll need a `while` loop: `indefinite iteration`"
   ]
  },
  {
   "cell_type": "markdown",
   "metadata": {},
   "source": [
    "### Exercise 5.\n",
    "\n",
    "a. Create a `for` loop using the `range` function (looping from 0 to 10). Each time the loop executes, print the square of the value of `range`.\n"
   ]
  },
  {
   "cell_type": "code",
   "execution_count": null,
   "metadata": {},
   "outputs": [],
   "source": []
  },
  {
   "cell_type": "markdown",
   "metadata": {},
   "source": [
    "b. Create a `for` loop that prints the numbers from 1 to 50. But for multiples of three print “Fizz” instead of the number and for the multiples of five print “Buzz”. For numbers which are multiples of both three and five print “FizzBuzz” instead of the number. A special python operator called modulo that is represented with the `%` sign might help you. A couple of examples of its use are below. See if you can figure out what it does by experimenting."
   ]
  },
  {
   "cell_type": "code",
   "execution_count": null,
   "metadata": {},
   "outputs": [],
   "source": [
    "9 % 3"
   ]
  },
  {
   "cell_type": "code",
   "execution_count": null,
   "metadata": {},
   "outputs": [],
   "source": [
    "5 % 3"
   ]
  },
  {
   "cell_type": "code",
   "execution_count": null,
   "metadata": {},
   "outputs": [],
   "source": []
  },
  {
   "cell_type": "markdown",
   "metadata": {},
   "source": [
    "## Mini Challenge\n",
    "\n",
    "Create an algorithm that determines the total number of prime numbers up to 1000.\n",
    "You will need two `for loops`\n",
    "\n",
    "\n"
   ]
  },
  {
   "cell_type": "code",
   "execution_count": null,
   "metadata": {},
   "outputs": [],
   "source": []
  }
 ],
 "metadata": {
  "kernelspec": {
   "display_name": "Python 3",
   "language": "python",
   "name": "python3"
  },
  "language_info": {
   "codemirror_mode": {
    "name": "ipython",
    "version": 3
   },
   "file_extension": ".py",
   "mimetype": "text/x-python",
   "name": "python",
   "nbconvert_exporter": "python",
   "pygments_lexer": "ipython3",
   "version": "3.7.3"
  }
 },
 "nbformat": 4,
 "nbformat_minor": 2
}
