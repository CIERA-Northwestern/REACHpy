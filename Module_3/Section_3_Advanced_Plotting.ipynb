{
  "cells": [
    {
      "cell_type": "markdown",
      "metadata": {
        "id": "ItRnxXe9KP4A"
      },
      "source": [
        "# Section 3 | Advanced Matplot Figures\n",
        "\n",
        "In this lesson, we'll continue to explore the capabilities of the matplotlib.\n",
        "\n"
      ]
    },
    {
      "cell_type": "markdown",
      "metadata": {
        "id": "SfHTbe4JFHPX"
      },
      "source": [
        "## 3.1 Introduction to Figure and Axes Classes\n",
        "\n",
        "For creating more advanced plots, and to have better ability to fine-tune your figures, we recommend using matplotlib in the object-oriented approach. \n",
        "We won't go too deep into this matplotlib framework, but here's a simple way to think about it: you first create figures, which are like virtual sheets of paper; then you create axes, which are the designated places to draw on those sheets of paper.\n",
        "\n",
        "We first use pyplot to create a figure, and through those figures, one or more axes objects can be created. These axes objects are then used for most plotting actions. First we'll import our libraries and arrays."
      ]
    },
    {
      "cell_type": "code",
      "source": [
        "import matplotlib.pyplot as plt\n",
        "import numpy as np\n",
        "\n",
        "# create x and y arrays\n",
        "x = np.arange(0, 10, 1)\n",
        "y = np.arange(0, 20, 2)"
      ],
      "metadata": {
        "id": "wVN6jcPtZJZ2"
      },
      "execution_count": null,
      "outputs": []
    },
    {
      "cell_type": "markdown",
      "source": [
        "Next, we define a new figure named fig, and an axes object, ax1, on which we can plot our data. Think of the axes object as the area on which you plot your data. Subplots allows us to create multiple plots on one figure; the (1, 1) states that this figure should have 1 row and 1 column, so really just one plot in this case.\n",
        "\n",
        "```python\n",
        "#create the figure\n",
        "fig, ax1 = plt.subplots(nrows=1, ncols=1, figsize=(3.5, 3.5), dpi=150)\n",
        "```\n",
        "Finally, we plot the data on ax1.\n",
        "\n",
        "```python\n",
        "ax1.plot(x, y, lw = 1.5, label = 'data1')\n",
        "```\n",
        "Customizing your figure may need different options than the ones we used in the previous matplotlib tutorial.\n",
        "\n",
        "```python\n",
        "#customize the figure\n",
        "ax1.set_xlabel('x')\n",
        "ax1.set_ylabel('y')\n",
        "ax1.set_title('x vs y')\n",
        "ax1.set_xlim(-0.5, 9.5)\n",
        "ax1.set_ylim(-0.5, 18.5)\n",
        "\n",
        "ax1.legend(loc=2, fancybox=False, shadow=False, prop={\"size\": 12})\n",
        "```\n",
        "Try running the next code block where everything is put together."
      ],
      "metadata": {
        "id": "OhBQCTjwB_Xf"
      }
    },
    {
      "cell_type": "code",
      "source": [
        "#create the figure\n",
        "fig, ax1 = plt.subplots(nrows=1, ncols=1, figsize=(3.5, 3.5), dpi=150)\n",
        "ax1.plot(x, y, lw = 1.5, label = 'data1')\n",
        "\n",
        "#customize the figure\n",
        "ax1.set_xlabel('x')\n",
        "ax1.set_ylabel('y')\n",
        "ax1.set_title('x vs y')\n",
        "ax1.set_xlim(-0.5, 9.5)\n",
        "ax1.set_ylim(-0.5, 18.5)\n",
        "\n",
        "ax1.legend(loc=2, fancybox=False, shadow=False, prop={\"size\": 12})"
      ],
      "metadata": {
        "id": "vJo46yP5CCjS"
      },
      "execution_count": null,
      "outputs": []
    },
    {
      "cell_type": "markdown",
      "source": [
        "## 3.2 Example 2\n",
        "\n",
        "In this example, we create a 2x1 plot (2 rows, 1 column). To describe the dimensions, we have to use a tuple to represent the two plot axes."
      ],
      "metadata": {
        "id": "__FmqgGDDWAW"
      }
    },
    {
      "cell_type": "code",
      "execution_count": null,
      "metadata": {
        "id": "WLZwn5zTFqU-"
      },
      "outputs": [],
      "source": [
        "z = np.square(x)\n",
        "fig, (ax1, ax2) = plt.subplots(nrows=2, ncols=1, figsize=(6, 6))\n",
        "ax1.plot(x, y, c='b', label='data1')\n",
        "ax2.plot(x, z, c='r', label='data2')\n",
        "\n",
        "ax2.set_xlabel('x', fontsize=15)\n",
        "ax1.set_ylabel('y', fontsize=15)\n",
        "ax2.set_ylabel('y', fontsize=15)\n",
        "\n",
        "ax1.set_title('x vs y')\n",
        "\n",
        "ax1.legend(loc=2, fancybox=False, shadow=False, prop={\"size\": 12})\n",
        "ax2.legend(loc=2, fancybox=False, shadow=False, prop={\"size\": 12})"
      ]
    },
    {
      "cell_type": "markdown",
      "source": [
        "Since these two plots share the same x-axis, we can remove the x-tick labels from the top figure:"
      ],
      "metadata": {
        "id": "zky7lKI4bJYj"
      }
    },
    {
      "cell_type": "code",
      "source": [
        "z = np.square(x)\n",
        "fig, (ax1, ax2) = plt.subplots(nrows=2, ncols=1, figsize=(6,6))\n",
        "ax1.plot(x, y, c='b', label='data1')\n",
        "ax2.plot(x, z, c='r', label = 'data2')\n",
        "\n",
        "ax2.set_xlabel('x',fontsize=15)\n",
        "ax1.set_ylabel('y',fontsize=15)\n",
        "ax2.set_ylabel('y',fontsize=15)\n",
        "ax1.set_title('x vs y')\n",
        "\n",
        "ax1.legend(loc=2, fancybox=False, shadow=False,prop={\"size\":12})\n",
        "ax2.legend(loc=2, fancybox=False, shadow=False,prop={\"size\":12})\n",
        "\n",
        "ax1.tick_params(labelsize=13)\n",
        "ax2.tick_params(labelsize=13)\n",
        "# remove the xtick labels from the top figure\n",
        "plt.setp(ax1.get_xticklabels(), visible=False)\n",
        "plt.tight_layout()\n",
        "plt.subplots_adjust(wspace=0.1, hspace=0.03)\n",
        "plt.show()"
      ],
      "metadata": {
        "id": "oRXYqJ59bcks"
      },
      "execution_count": null,
      "outputs": []
    },
    {
      "cell_type": "markdown",
      "source": [
        "## 3.2.1 Your Turn!\n",
        "Plot the same data but with 2 columns and 1 row. This time remove the y-tick labels from the plot on the right."
      ],
      "metadata": {
        "id": "U_5PHEjQ9Jhf"
      }
    },
    {
      "cell_type": "code",
      "source": [
        "# your code stars here"
      ],
      "metadata": {
        "id": "2pXSdkXy9IUT"
      },
      "execution_count": null,
      "outputs": []
    },
    {
      "cell_type": "markdown",
      "source": [
        "## 3.3 Example 3\n",
        "Here we demonstrate how to create a 2x2 plot (2 rows, 2 columns)."
      ],
      "metadata": {
        "id": "wyHyuzlTqyfU"
      }
    },
    {
      "cell_type": "code",
      "source": [
        "fig, ((ax1, ax2), (ax3, ax4)) = plt.subplots(nrows=2, ncols=2, figsize=(8,8))\n",
        "N=1000 # Number of data points.\n",
        "data1 = np.random.rand(N)*10\n",
        "data2 = np.random.rand(N)*10\n",
        "\n",
        "ax1.scatter(data1, data2)\n",
        "ax2.plot(data1, data2)\n",
        "\n",
        "ax1.set_xlabel('x', fontsize=15)\n",
        "ax1.set_ylabel('y', fontsize=15)\n",
        "ax2.set_xlabel('x', fontsize=15)\n",
        "ax2.set_ylabel('y', fontsize=15)\n",
        "\n",
        "ax1.tick_params(labelsize=13)\n",
        "ax2.tick_params(labelsize=13)\n",
        "\n",
        "ax3.hist(data1, histtype='bar', color='blue', label='data1')\n",
        "ax4.hist(data2, histtype='bar', color='orange', label='data2')\n",
        "\n",
        "ax3.set_xlabel('x', fontsize=15)\n",
        "ax4.set_xlabel('x', fontsize=15)\n",
        "ax3.set_ylabel('count', fontsize=15)\n",
        "ax4.set_ylabel('count', fontsize=15)\n",
        "\n",
        "ax3.tick_params(labelsize=13)\n",
        "ax4.tick_params(labelsize=13)\n",
        "\n",
        "ax3.legend(loc=2, fancybox=False, shadow=False, prop={\"size\": 12})\n",
        "ax4.legend(loc=2, fancybox=False, shadow=False, prop={\"size\": 12})\n",
        "\n",
        "# tight_layout() adjusts spacing between subplots to minimize the overlaps.\n",
        "plt.tight_layout()\n",
        "plt.show()"
      ],
      "metadata": {
        "id": "IVyzDMshoVbC"
      },
      "execution_count": null,
      "outputs": []
    },
    {
      "cell_type": "markdown",
      "source": [
        "## 3.3.1 Problem 2\n",
        "To simplify the amount of work, we'll define a function which plots x and y points on a given ax:"
      ],
      "metadata": {
        "id": "x2E1LjfoAZ4C"
      }
    },
    {
      "cell_type": "code",
      "source": [
        "def my_plot(ax, fontsize, title):\n",
        "    ax.plot(np.linspace(1, 10, 100))\n",
        "    ax.locator_params(nbins=3)\n",
        "    ax.set_xlabel('x', fontsize=fontsize)\n",
        "    ax.set_ylabel('y', fontsize=fontsize)\n",
        "    ax.set_title(title, fontsize=fontsize)\n",
        "    ax.tick_params(labelsize=13)\n",
        "\n",
        "fig, ax = plt.subplots()\n",
        "my_plot(ax, fontsize=15, title='Title')\n",
        "plt.tight_layout()"
      ],
      "metadata": {
        "id": "8uwwj0YF6WDM"
      },
      "execution_count": null,
      "outputs": []
    },
    {
      "cell_type": "markdown",
      "source": [
        "Create a 2x2 plot using the `my_plot` function."
      ],
      "metadata": {
        "id": "hrgEYKWC_f9V"
      }
    },
    {
      "cell_type": "code",
      "source": [
        "# your code stars here\n",
        "\n",
        "fig, ((ax1, ax2), (ax3, ax4)) = plt.subplots(nrows=2, ncols=2)\n",
        "\n",
        "# plot figures using my_plot function\n",
        "\n",
        "plt.tight_layout()"
      ],
      "metadata": {
        "id": "khDnagGN_kj3"
      },
      "execution_count": null,
      "outputs": []
    },
    {
      "cell_type": "markdown",
      "source": [
        "## 3.4 Example 4\n",
        "We can also arrange multiple axes in a figure using `subplot2grid`."
      ],
      "metadata": {
        "id": "LEMycSrfBlvL"
      }
    },
    {
      "cell_type": "code",
      "source": [
        "# 3 rows x 2 columns give 6 subplots\n",
        "ax1 = plt.subplot2grid((3, 2), (0, 0),colspan=1, rowspan=1)\n",
        "ax2 = plt.subplot2grid((3, 2), (0, 1), colspan=1, rowspan=1)\n",
        "ax3 = plt.subplot2grid((3, 2), (1, 0), colspan=1, rowspan=1)\n",
        "ax4 = plt.subplot2grid((3, 2), (1, 1),  colspan=1,rowspan=1)\n",
        "ax5 = plt.subplot2grid((3, 2), (2, 0),  colspan=1,rowspan=1)\n",
        "ax6 = plt.subplot2grid((3, 2), (2, 1),  colspan=1,rowspan=1)\n",
        "\n",
        "my_plot(ax1, 15, title='Title1')\n",
        "my_plot(ax2, 15, title='Title2')\n",
        "my_plot(ax3, 15, title='Title3')\n",
        "my_plot(ax4, 15, title='Title4')\n",
        "my_plot(ax5, 15, title='Title5')\n",
        "my_plot(ax6, 15, title='Title6')\n",
        "\n",
        "plt.tight_layout()"
      ],
      "metadata": {
        "id": "u3JS0wroKJq0"
      },
      "execution_count": null,
      "outputs": []
    },
    {
      "cell_type": "markdown",
      "source": [
        "## 3.5 Example 5\n",
        "We can adjust the space the subplots span using the options `colspan` and `rowspan`."
      ],
      "metadata": {
        "id": "RHl-HEeKK28f"
      }
    },
    {
      "cell_type": "code",
      "source": [
        "ax1 = plt.subplot2grid((3, 3), (0, 0), colspan=1, rowspan=1)\n",
        "ax2 = plt.subplot2grid((3, 3), (0, 1), colspan=2, rowspan=1)\n",
        "ax3 = plt.subplot2grid((3, 3), (1, 0), colspan=2, rowspan=2)\n",
        "ax4 = plt.subplot2grid((3, 3), (1, 2), colspan=1, rowspan=2)\n",
        "\n",
        "my_plot(ax1, 15, title='Title1')\n",
        "my_plot(ax2, 15, title='Title2')\n",
        "my_plot(ax3, 15, title='Title3')\n",
        "my_plot(ax4, 15, title='Title4')\n",
        "\n",
        "plt.tight_layout()"
      ],
      "metadata": {
        "id": "PHijbq76BmYU"
      },
      "execution_count": null,
      "outputs": []
    },
    {
      "cell_type": "markdown",
      "source": [
        "Try to understand the role of `colspan` and `rowspan` by changing their values."
      ],
      "metadata": {
        "id": "HXd3meS8D7Aa"
      }
    },
    {
      "cell_type": "markdown",
      "source": [
        "# Color Bar\n",
        "You can add a color bar for a plot in Matplotlib using the following steps:\n",
        "* Create x and y data points\n",
        "* Create a figure and a set of subplots using subplot2grid\n",
        "* Use scatter method to plot x, y\n",
        "* Create a colorbar for the plot using colorbar\n",
        "* Define the color map cmap and boundaries\n",
        "\n",
        "The following example makes a scatter plot of random x and y points and creates a color bar using the random area of each point:"
      ],
      "metadata": {
        "id": "2Jo58S4kD0HM"
      }
    },
    {
      "cell_type": "code",
      "source": [
        "# Colorbar example\n",
        "from matplotlib import colormaps\n",
        "import matplotlib as mpl\n",
        "N = 1000\n",
        "# Fixing random state for reproducibility\n",
        "np.random.seed(12345)\n",
        "\n",
        "x = np.random.rand(N)*100\n",
        "y = np.random.rand(N)*100 \n",
        "\n",
        "ax2 = plt.subplot2grid((16, 17), (0, 15), rowspan=17)\n",
        "# define color map\n",
        "#cmap = plt.cm.get_cmap('Greens')\n",
        "cmap = colormaps['Greens']\n",
        "# define boundaries \n",
        "bounds = np.logspace(1, 4)\n",
        "# set boundaries\n",
        "norm = mpl.colors.BoundaryNorm(bounds, cmap.N)\n",
        "\n",
        "cb = mpl.colorbar.ColorbarBase(ax2, \n",
        "                               cmap=cmap, \n",
        "                               norm=norm, \n",
        "                               spacing='uniform', \n",
        "                               boundaries=bounds, \n",
        "                               format='%1i')\n",
        "\n",
        "ax1 = plt.subplot2grid((16, 17), (0, 1), colspan=14, rowspan=17)\n",
        "ax1.set_xlabel('x', fontsize=15)\n",
        "ax1.set_ylabel('y', fontsize=15)\n",
        "ax1.tick_params(labelsize=13)\n",
        "ax1.set_title('Scatter Plot with colors', fontsize=15)\n",
        " \n",
        "# Randomly assign the area of each point. 0 to 15 point radii                              \n",
        "area = (30*np.random.rand(N))**2 \n",
        "ax1.scatter(x, y, c=area, cmap=cmap, s=area) \n",
        "\n",
        "ax2.set_ylabel(r'Area', size=15)\n",
        "ax2.tick_params(labelsize=13)"
      ],
      "metadata": {
        "id": "nM4QbaDLECtH"
      },
      "execution_count": null,
      "outputs": []
    },
    {
      "cell_type": "markdown",
      "metadata": {
        "id": "06x1shcLKP4A"
      },
      "source": [
        "-----------------------\n",
        "\n",
        "\n",
        "# Learning More\n",
        "\n",
        "As you start using matplotlib to visualize your own scientific data, it's likely that at some point you may have a need to plot a colormap. A word of caution regarding choosing the right colormap for your data: it is strongly recommended that you stay away from using the rainbow colormap if at all possible, because it can greatly misrepresent your data (not to mention, it's especially problematic for people who are colorblind, because they have a hard time distinguishing between red and green). Refer to this a great post to learn more about choosing colormaps: https://matplotlib.org/users/colormaps.html\n",
        "\n",
        "To further explore the capabilities of matplotlib, check out these tutorials and resource galleries:\n",
        "\n",
        "Beginner Pyplot Tutorial: https://matplotlib.org/users/pyplot_tutorial.html (Links to an external site).\n",
        "\n",
        "Scipy's matplotlib tutorial: http://www.scipy-lectures.org/intro/matplotlib/matplotlib.html (Links to an external site). \n",
        "\n",
        "Examples by Type:  If you want to explore plots by type (e.g., pie charts, animations, 3D plots), here's where to look: https://matplotlib.org/examples/index.html (Links to an external site).\n",
        "\n",
        "Matplotlib Plot Gallery: Looking for inspiration? Check out this impressive gallery: https://matplotlib.org/gallery.html (Links to an external site).\n",
        "\n",
        "Creating Publication Quality Figures (tutorial by Jean-Baptiste Mouret): https://github.com/jbmouret/matplotlib_for_papers (Links to an external site).\n",
        "\n",
        "-----------------------\n",
        "\n",
        "# Takeaways\n",
        "\n",
        " - Matplotlib is an extremely powerful package for plotting data in Python.\n",
        " - With matplotlib, you can make high-quality, publication ready figures.\n",
        "\n",
        "\n",
        "\n"
      ]
    },
    {
      "cell_type": "code",
      "source": [],
      "metadata": {
        "id": "CfcDnaKNGFkU"
      },
      "execution_count": null,
      "outputs": []
    }
  ],
  "metadata": {
    "colab": {
      "provenance": []
    },
    "kernelspec": {
      "display_name": "Python 3.8.5 ('base')",
      "language": "python",
      "name": "python3"
    },
    "language_info": {
      "codemirror_mode": {
        "name": "ipython",
        "version": 3
      },
      "file_extension": ".py",
      "mimetype": "text/x-python",
      "name": "python",
      "nbconvert_exporter": "python",
      "pygments_lexer": "ipython3",
      "version": "3.8.5"
    },
    "vscode": {
      "interpreter": {
        "hash": "9432c0abdd6dbb8c339429cdc242dbba087103b9c888db5e86a66acd39455514"
      }
    }
  },
  "nbformat": 4,
  "nbformat_minor": 0
}