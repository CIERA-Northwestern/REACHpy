{
  "cells": [
    {
      "cell_type": "code",
      "execution_count": null,
      "metadata": {
        "id": "exOq16DMNw2d"
      },
      "outputs": [],
      "source": [
        "# Running in Google Colab? Run this cell\n",
        "!wget https://raw.githubusercontent.com/CIERA-Northwestern/REACHpy/main/Module_3/data/exoplanet_data.csv\n",
        "\n",
        "# If you're not running in Colab, this file should be in the data directory.\n",
        "# Change the loading path of the file to include 'data/' when the file is loaded"
      ]
    },
    {
      "cell_type": "markdown",
      "metadata": {
        "id": "XUqAzGG1Nw2e"
      },
      "source": [
        "# Challenge Problem 2: Exoplanets with Pandas\n",
        "\n",
        "Before loading it into Python, open up the file named `exoplanet_data.csv` and take a quick look at its contents. The file starts with many lines of comments. In particular, there are descriptions of each of the columns included in the file. Most of them are somewhat clear, but there are two that aren't which you should ignore when doing the problem, which I will describe briefly.\n",
        "*    `loc_rowid`: The table in the file doesn't actually correspond to the whole database, so the values in this column tell you the original row indices in the full dataset.\n",
        "*    `default_flag`: For each planet, there can be more than one \"solution\" for the set of observations. This flag indicates whether the row is the \"default\" solution. I chose only the subset of rows where this value is 1, corresponding to the default solutions. \n",
        "\n",
        "One important thing to mention is that I downloaded a version of this data excluding the error bars. In reality, all these measurements come with some amount of uncertainty.\n",
        "\n",
        "Now, open the file using `pd.read_csv`.\n",
        "*   The file is already comma-separated, so no need to pass a separator\n",
        "*   You can use either `header=0` or pass your own list of names if you don't like the ones in the file.\n",
        "*   You can optionally exclude the two columns I mentioned above with `usecols` but it's probably more trouble than it's worth.\n",
        "*   You want to ignore the lines of comments, so make sure to use `comment=#`."
      ]
    },
    {
      "cell_type": "code",
      "execution_count": null,
      "metadata": {
        "id": "T0fFcrF2Nw2f"
      },
      "outputs": [],
      "source": []
    },
    {
      "cell_type": "markdown",
      "metadata": {
        "id": "xilzg2FPNw2f"
      },
      "source": [
        "Your main tasks:\n",
        "1.   For starters, how many rows does the DataFrame contain? This translates to the total number of confirmed exoplanets.\n",
        "2.   How many different exoplanet detection methods are there? You can get the unique values of a column by using the method `df['Columnname'].unique()`.\n",
        "3.   Make a cumulative histogram showing how the number of known exoplanets has grown over time. Make a second version where you break this down by detection method. Do you notice any years with very drastic increases?\n"
      ]
    },
    {
      "cell_type": "code",
      "execution_count": null,
      "metadata": {
        "id": "KM6C9i6FNw2f"
      },
      "outputs": [],
      "source": []
    },
    {
      "cell_type": "markdown",
      "metadata": {
        "id": "mr4CZXY3Nw2f"
      },
      "source": [
        "Optional tasks if you have time:\n",
        "*   Now, make some histograms of some of the physical values, including exoplanet radius, semimajor axis, host star mass, etc. For your histogram of the exoplanet mass, restrict yourself to the rows where `bl_pmassprov=='Mass'` instead of `Msini`. Do you notice anything interesting? For example, you should find that most host stars will have masses around 1 solar mass. This is because most exoplanet surveys have purposefully targeted stars similar to our own Sun. Other things to look into: Are there more planets further away than close to us? Does planetary radius or mass seem to peak at any specific values?\n",
        "*   Kepler derived his third law from actual observations of the solar system planets where he plotted the semimajor axis vs the orbital period. Try doing this with log-log axes. When you do this for the solar system planets, you get a straight line. What do you notice in this case?\n",
        "*   Is there any correlation between distance from the star and planetary mass or radius? Make some scatter plots to investigate this.\n",
        "*   From the planetary mass and radius, you can get the planetary density. Make a histogram of this. What do you notice?\n",
        "*   Anything else you can think of! Try stuff out.\n",
        "\n",
        "Keep in mind that some of the conclusions you draw here might not be true. Observations are prone to some level of bias, also known as \"selection effects\". For example, it's very hard to directly image exoplanets that are small and close to their host star, so the method of direct imaging is biased towards larger exoplanets and larger distances. Each detection method is biased in some way, so take some of your conclusions with a grain of salt."
      ]
    },
    {
      "cell_type": "code",
      "execution_count": null,
      "metadata": {
        "id": "mdtAzpE9Nw2f"
      },
      "outputs": [],
      "source": []
    }
  ],
  "metadata": {
    "kernelspec": {
      "display_name": "Python 3",
      "language": "python",
      "name": "python3"
    },
    "language_info": {
      "name": "python",
      "version": "3.6.8 (default, Aug 13 2020, 07:46:32) \n[GCC 4.8.5 20150623 (Red Hat 4.8.5-39)]"
    },
    "orig_nbformat": 4,
    "vscode": {
      "interpreter": {
        "hash": "916dbcbb3f70747c44a77c7bcd40155683ae19c65e1c03b4aa3499c5328201f1"
      }
    },
    "colab": {
      "provenance": []
    }
  },
  "nbformat": 4,
  "nbformat_minor": 0
}