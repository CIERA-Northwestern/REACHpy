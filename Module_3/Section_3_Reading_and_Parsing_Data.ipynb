{
  "cells": [
    {
      "cell_type": "markdown",
      "metadata": {
        "id": "reC_IDCgu2SO"
      },
      "source": [
        "### Section 2 Reading and Parsing Data From a File\n",
        "\n",
        "So far, you have been working with very short lists of data or generating your own lists of data. However, in data-driven science, you'll likely have to work with large sets of data that can come in a variety of formats: comma-separated values, tab-separated values, space-separated values, to name a few. Sometimes specific quantities can come in strange formats depending on the meaning, for example, a list of times might be formatted in hours, minutes and seconds, like this: 10:03:20. Whatever format your data might come in, you must be able to read in that data and separate it into more easily processed components that you can then analyze. That's exactly what parsing data means.\n",
        "\n",
        "## 2.1 Reading Data From a File\n",
        "\n",
        "The first step is to learn how to use Python to directly read data from a file. Let's say we have a data file called `planet_data.txt` containing the solar system planet names and their masses, that looks something like this:\n",
        "\n",
        "| Planet name        | Mass ($$10^{24}$$ kg)  |\n",
        "| :----------------- | :------- |\n",
        "| __Mercury__       |   0.330  |\n",
        "| __Venus__         | 4.87  |\n",
        "| __Earth__         | 5.97  |\n",
        "| __Mars__          | 0.642  |\n",
        "| __Jupiter__       | 1898 |\n",
        "| __Saturn__        | 568  |\n",
        "| __Uranus__        | 86.8  |\n",
        "| __Neptune__       | 102 |\n",
        "\n",
        "\n",
        "To open and read this data file, we use the commands:\n",
        "\n",
        "```python\n",
        "planet_file = open('planet_data.txt')\n",
        "data = planet_file.read()\n",
        " ```\n",
        "\n",
        "Here, `planet_file` is a file object, which is a kind of object that allows you to access and manipulate a user file. Once the file object is created (the first line of code), you can use this to reference the file, and access or manipulate it with functions such as read, readline, readlines, write, seek, and close. The second line reads the entire contents of the file. Notice that the first row is a comment explaining the meanings of the columns, which is helpful to anyone looking at the file. Python is smart enough to know that it should ignore that line when reading in the file.\n"
      ]
    },
    {
      "cell_type": "code",
      "source": [
        "# Running in Google Colab? Run this cell to make sure the appropriate data is downloaded!\n",
        "\n",
        "!wget https://raw.githubusercontent.com/CIERA-Northwestern/REACHpy/ideaspy_updates/Module_3/planet_data.txt"
      ],
      "metadata": {
        "colab": {
          "base_uri": "https://localhost:8080/"
        },
        "id": "PXcmd2qA0HV9",
        "outputId": "88af6419-2cbe-4160-9c0a-4045746ff7ec"
      },
      "execution_count": 4,
      "outputs": [
        {
          "output_type": "stream",
          "name": "stdout",
          "text": [
            "--2022-04-28 20:16:15--  https://raw.githubusercontent.com/CIERA-Northwestern/REACHpy/ideaspy_updates/Module_3/planet_data.txt\n",
            "Resolving raw.githubusercontent.com (raw.githubusercontent.com)... 185.199.108.133, 185.199.109.133, 185.199.110.133, ...\n",
            "Connecting to raw.githubusercontent.com (raw.githubusercontent.com)|185.199.108.133|:443... connected.\n",
            "HTTP request sent, awaiting response... 404 Not Found\n",
            "2022-04-28 20:16:15 ERROR 404: Not Found.\n",
            "\n"
          ]
        }
      ]
    },
    {
      "cell_type": "code",
      "execution_count": 1,
      "metadata": {
        "colab": {
          "base_uri": "https://localhost:8080/",
          "height": 215
        },
        "id": "dywHmfJIu2SX",
        "outputId": "08e789d0-ab1d-4485-9b65-47a503e7ff34"
      },
      "outputs": [
        {
          "output_type": "error",
          "ename": "FileNotFoundError",
          "evalue": "ignored",
          "traceback": [
            "\u001b[0;31m---------------------------------------------------------------------------\u001b[0m",
            "\u001b[0;31mFileNotFoundError\u001b[0m                         Traceback (most recent call last)",
            "\u001b[0;32m<ipython-input-1-f94a3e080148>\u001b[0m in \u001b[0;36m<module>\u001b[0;34m()\u001b[0m\n\u001b[0;32m----> 1\u001b[0;31m \u001b[0mplanet_file\u001b[0m \u001b[0;34m=\u001b[0m \u001b[0mopen\u001b[0m\u001b[0;34m(\u001b[0m\u001b[0;34m'planet_data.txt'\u001b[0m\u001b[0;34m)\u001b[0m\u001b[0;34m\u001b[0m\u001b[0;34m\u001b[0m\u001b[0m\n\u001b[0m\u001b[1;32m      2\u001b[0m \u001b[0mdata\u001b[0m \u001b[0;34m=\u001b[0m \u001b[0mplanet_file\u001b[0m\u001b[0;34m.\u001b[0m\u001b[0mread\u001b[0m\u001b[0;34m(\u001b[0m\u001b[0;34m)\u001b[0m\u001b[0;34m\u001b[0m\u001b[0;34m\u001b[0m\u001b[0m\n\u001b[1;32m      3\u001b[0m \u001b[0;34m\u001b[0m\u001b[0m\n\u001b[1;32m      4\u001b[0m \u001b[0mprint\u001b[0m\u001b[0;34m(\u001b[0m\u001b[0mdata\u001b[0m\u001b[0;34m)\u001b[0m\u001b[0;34m\u001b[0m\u001b[0;34m\u001b[0m\u001b[0m\n",
            "\u001b[0;31mFileNotFoundError\u001b[0m: [Errno 2] No such file or directory: 'planet_data.txt'"
          ]
        }
      ],
      "source": [
        "planet_file = open('planet_data.txt')\n",
        "data = planet_file.read()\n",
        "\n",
        "print(data)"
      ]
    },
    {
      "cell_type": "markdown",
      "metadata": {
        "id": "v6FXWnwsu2SY"
      },
      "source": [
        "When we open the file this way, Python gave us the permission to read it by default. Sometimes you might want to instead write or append to the file. You can specify which permissions you want from a file when you open it by typing 'r', 'w', or 'a' (they are read, write, and append) in the open command , like this: \n",
        "```python\n",
        "planet_file = open('planet_data.txt' ,'r')\n",
        "```\n",
        "\n",
        "When you do planet_file.readlines() instead of planet_file.read(), you see your planet data with some strange characters interspersed with it. This result is a single string that includes the entire contents of the opened file, including the tab symbols (represented by \\t) and the \"newline\" (represented by \\n) symbols, both of which were technically part of the original file's structure. This is how Python interprets strings that it reads in. Here is the example:"
      ]
    },
    {
      "cell_type": "code",
      "execution_count": null,
      "metadata": {
        "id": "TCw2syJfu2SZ",
        "outputId": "de13400b-f858-4158-80b7-8477208b406c"
      },
      "outputs": [
        {
          "name": "stdout",
          "output_type": "stream",
          "text": [
            "['#PlanetName      Mass(1e24 kg)\\n', 'Mercury          0.330\\n', 'Venus            4.87\\n', 'Earth            5.97\\n', 'Mars             0.642\\n', 'Jupiter          1898\\n', 'Saturn           568\\n', 'Uranus           86.8\\n', 'Neptune          102']\n"
          ]
        }
      ],
      "source": [
        "planet_file = open('planet_data.txt','r')\n",
        "data = planet_file.readlines()\n",
        "\n",
        "print(data)"
      ]
    },
    {
      "cell_type": "markdown",
      "metadata": {
        "id": "maphPuK3u2SZ"
      },
      "source": [
        "It is often good practice to close a file as soon as you are done using it, to avoid accidentally reading from or writing to it later in your program. To close this file, you can use the function planet_file.close().\n",
        "Close the file in the cell below:"
      ]
    },
    {
      "cell_type": "code",
      "execution_count": null,
      "metadata": {
        "id": "S_Ej8AgUu2Sa"
      },
      "outputs": [],
      "source": [
        "planet_file.close()"
      ]
    },
    {
      "cell_type": "markdown",
      "metadata": {
        "id": "9EY0jH5vu2Sa"
      },
      "source": [
        "## 2.2 Parsing Data\n",
        "\n",
        "There are multiple ways to break down the content of a file while reading it into Python. Let's think about the structure of our planet data file. \n",
        "\n",
        "First off, you may have noticed that the first line of the data file is a comment indicating what the different columns represent - a very good practice! But we want to be able to separate that out when we're reading in our data - we can do this with the startswith function. \n",
        "\n",
        "Then, the entries are separated by whitespace, and we can use the split function to break those up. The block of code below shows how this comes together to help us parse the data file. Analyze it, then evaluate the cell and inspect the results. "
      ]
    },
    {
      "cell_type": "code",
      "execution_count": null,
      "metadata": {
        "id": "IPzfqUo7u2Sb",
        "outputId": "2013fb9c-c146-4221-bfa7-acb3a2229ac5"
      },
      "outputs": [
        {
          "name": "stdout",
          "output_type": "stream",
          "text": [
            "['Mercury', 'Venus', 'Earth', 'Mars', 'Jupiter', 'Saturn', 'Uranus', 'Neptune']\n",
            "[0.33, 4.87, 5.97, 0.642, 1898.0, 568.0, 86.8, 102.0]\n"
          ]
        }
      ],
      "source": [
        "planets, masses = [ ], [ ]   # Notice, we can define multiple things on a single line\n",
        "planet_file = open('planet_data.txt')\n",
        "data = planet_file.readlines()\n",
        "\n",
        "for line in data:\n",
        "    if not line.startswith('#'):      # only continue if the line is NOT a comment\n",
        "        fields = line.split()\n",
        "        planets = planets + [fields[0]]\n",
        "        masses = masses + [float(fields[1])]\n",
        "\n",
        "planet_file.close()\n",
        "print(planets)\n",
        "print(masses)\n"
      ]
    },
    {
      "cell_type": "markdown",
      "metadata": {
        "id": "VnAeQlBwu2Sb"
      },
      "source": [
        "Here's what the above for loop did:\n",
        "\n",
        " 1. First, we split each line in data into a separate string. <br>\n",
        "\n",
        " 2. Then, we split the fields at the white space that is between them (creating two fields, fields[0] and fields[1]): <br>\n",
        "['Mercury', '0.330']<br>\n",
        "['Venus', '4.87']<br>\n",
        "['Earth', '5.97']<br>\n",
        "['Mars', '0.642']<br>\n",
        "['Jupiter', '1898']<br>\n",
        "['Saturn', '568']<br>\n",
        "['Uranus', '86.8']<br>\n",
        "['Neptune', '102']<br> \n",
        "\n",
        "3. Finally, we append the planet name and the mass from each line to the lists we created at the beginning of the block of code.\n",
        "\n",
        "Note that there are two columns in planet_data.txt which are planet names and masses. The fields list contains both planet names and masses. The first element of the field list is planet name = field[0] and the second one is mass = field[1]. If we had another column, such as radius, then we would write radius = field[2].\n",
        "\n",
        "\n",
        "### 2.2.1 Advanced Parsing\n",
        "\n",
        "\n",
        "As we mentioned, data can come in many different formats, using many different kinds of delimiters. A delimiter is a sequence of one or more characters used to specify the boundary between separate entries in a file. \n",
        "\n",
        "Luckily, we can use the split function to split up strings with any given delimiter (or multiple delimiters) by plugging the delimiter inside the parentheses, e.g., `split(',')`, `split(':')`. As you can guess, with nothing inside the parentheses,e.g., `split()`, Python will be looking for simply whitespace (this is what we did for the planets data). Now, let's look at a more complex string."
      ]
    },
    {
      "cell_type": "code",
      "execution_count": null,
      "metadata": {
        "id": "Odx5QnYyu2Sc"
      },
      "outputs": [],
      "source": [
        "challenge = 'Do:you think you:can-parse; this string?'"
      ]
    },
    {
      "cell_type": "markdown",
      "metadata": {
        "id": "H82X6OA7u2Sc"
      },
      "source": [
        "See if you can break this down to just the word parse in the cell below. We'll get you started."
      ]
    },
    {
      "cell_type": "code",
      "execution_count": null,
      "metadata": {
        "id": "nO8arpjVu2Sc",
        "outputId": "c38be249-154e-438a-d46f-9a2ad7938ca6"
      },
      "outputs": [
        {
          "name": "stdout",
          "output_type": "stream",
          "text": [
            "a= ['Do:you', 'think', 'you:can-parse;', 'this', 'string?']\n",
            "b= ['you:can', 'parse;']\n"
          ]
        }
      ],
      "source": [
        "a = challenge.split()    # you know what this does already! Now a is a list of 4 strings\n",
        "print('a=',a)\n",
        "b = a[2].split('-')           # now we've taken the third item and split it off at the dash (-)\n",
        "print('b=',b)"
      ]
    },
    {
      "cell_type": "markdown",
      "metadata": {
        "id": "NpIGlPidu2Sd"
      },
      "source": [
        "## Practice\n",
        "\n",
        "Follow the instructions in the cell below to practice reading in and parsing data from a file. The data file, which contains a small snippet of seismic wave data, is called 'data.txt'. You'll be reading in a few lines of that data, and then extracting the arrival times of the signals, which are in a format that looks like year-month-day\"T\"hour:minute:seconds\"Z\". However, let's assume that we only want the arrival times for the waves that have \"Pn\" seismic phase (but not the ones with phase \"P\"). "
      ]
    },
    {
      "cell_type": "code",
      "execution_count": null,
      "metadata": {
        "id": "UHeR4I_Fu2Sd"
      },
      "outputs": [],
      "source": [
        "\n",
        "# data.txt contains the data you'll use in this exercise \n",
        "# (you can read it in in the usual way)\n",
        "\n",
        "# Open and read that data file using readlines()\n",
        "\n",
        "FILL IN CODE\n",
        "\n",
        "\n",
        "\n",
        "# For all lines that that contain Pn (not P) in column 7,\n",
        "#    isolate the time portion of the line (hrs:mins:secs)\n",
        "# Then save hrs, mins and secs values to three different lists with those names\n",
        "# hrs and mins should be a list of integers, secs a list of floats\n",
        "# Tip: Make sure you skip over the comment line!\n",
        "\n",
        "FILL IN CODE\n",
        "\n",
        "\n",
        "\n",
        "# Close the file\n",
        "FILL IN CODE\n",
        "\n",
        "# Make sure you compare to the data to check that you've done it correctly!\n",
        "\n",
        "\n",
        "\n"
      ]
    },
    {
      "cell_type": "markdown",
      "metadata": {
        "id": "hlDBSFPuu2Se"
      },
      "source": [
        "## Takeaways\n",
        "\n",
        "- Real data can come in many different formats, some more complex than others. You must be able to read in and parse your data before you can extract the quantities needed to do your calculations<br>\n",
        "- There are many ways to read in files. One of the simplest is with Python's built-in functions for working with file objects, including read, readline, readlines, which return a string or a list of strings that you can then manipulate<br>\n",
        "- Use the split function to break up a string into its individual fields based on the specific delimiter(s) used in the string, e.g., split(), split(':') and split(',').<br>"
      ]
    }
  ],
  "metadata": {
    "kernelspec": {
      "display_name": "Python 3",
      "language": "python",
      "name": "python3"
    },
    "language_info": {
      "codemirror_mode": {
        "name": "ipython",
        "version": 3
      },
      "file_extension": ".py",
      "mimetype": "text/x-python",
      "name": "python",
      "nbconvert_exporter": "python",
      "pygments_lexer": "ipython3",
      "version": "3.8.5"
    },
    "toc": {
      "base_numbering": 1,
      "nav_menu": {},
      "number_sections": true,
      "sideBar": true,
      "skip_h1_title": false,
      "title_cell": "Table of Contents",
      "title_sidebar": "Contents",
      "toc_cell": false,
      "toc_position": {},
      "toc_section_display": true,
      "toc_window_display": false
    },
    "varInspector": {
      "cols": {
        "lenName": 16,
        "lenType": 16,
        "lenVar": 40
      },
      "kernels_config": {
        "python": {
          "delete_cmd_postfix": "",
          "delete_cmd_prefix": "del ",
          "library": "var_list.py",
          "varRefreshCmd": "print(var_dic_list())"
        },
        "r": {
          "delete_cmd_postfix": ") ",
          "delete_cmd_prefix": "rm(",
          "library": "var_list.r",
          "varRefreshCmd": "cat(var_dic_list()) "
        }
      },
      "types_to_exclude": [
        "module",
        "function",
        "builtin_function_or_method",
        "instance",
        "_Feature"
      ],
      "window_display": false
    },
    "colab": {
      "name": "Section_4_Reading_and_Parsing_Data.ipynb",
      "provenance": [],
      "collapsed_sections": []
    }
  },
  "nbformat": 4,
  "nbformat_minor": 0
}
