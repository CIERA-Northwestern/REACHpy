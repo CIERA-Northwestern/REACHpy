{
 "cells": [
  {
   "cell_type": "markdown",
   "metadata": {},
   "source": [
    "# Section 3.2 | Code Optimization\n",
    "\n",
    "Once you have a functional code that's correctly doing everything it's supposed to, you can do several things to improve your code, which could make it run faster, and/or make it easier to modify or expand later. Quite often in data-intensive computational research, you are doing many, many calculations, that could take hours to days (or even weeks!) to complete. Following best practices for optimizing your code can shave off a fraction of a second on calculations here and there, which can add up to a significant amount of time saved over large calculations.\n",
    "\n",
    "## How to Optimize Your Code\n",
    "\n",
    "### Minimize Repeated Calculations\n",
    "\n",
    "One of the most obvious ways to speed up your code is to minimize repeated computation. For example, let's say you have a list, nums1, containing n numbers, and you want to subtract the mean of the list from the elements of that list and store those elements in a new list, nums2. A concise way to do this would be to use list comprehension, as follows:\n",
    "\n",
    "> nums2 = [r-sum(nums1)/n for r in nums1]\n",
    "\n",
    "Note that here sum(nums1) is a convenient way to compute the sum of all the elements in our list nums1, using Python's built-in list function sum(). Now, let's think for a second about what the above code snippet is doing. How many times is the mean sum(nums1)/n being computed? That's right -- n times. But the mean is a constant, so it makes more sense to first compute the mean and store the result in a variable so we can pull it out of the loop. This code snippet will do the same thing much faster:\n",
    "\n",
    "> m = sum(nums1)/n\n",
    "nums2 = [r-m for r in nums1]\n",
    "\n",
    "Here's another example: Consider the following calculation\n",
    "> y = x - x&ast;x/2. + x&ast;x&ast;x/3. \n",
    "\n",
    "The value x*x is computed twice (once in the second term and again in the third). Instead, this calculation will be faster:\n",
    "> xsq = x&ast;x<br>\n",
    "> y = x - xsq/2. + x&ast;xsq/3.\n",
    "\n",
    "If it were being computed just once, the difference wouldn't be noticeable, but if you were evaluating it for many different values of x, the time can really add up.\n",
    "\n",
    "### Practice\n",
    "\n",
    "In the cell below rewrite the following code to minimize repetitive calculations:\n",
    "\n",
    "> a = range(1,10)<br>\n",
    "> [print(x&ast;a[0]&ast;x&ast;sum(a)) for x in a]\n"
   ]
  },
  {
   "cell_type": "code",
   "execution_count": null,
   "metadata": {},
   "outputs": [],
   "source": []
  },
  {
   "cell_type": "markdown",
   "metadata": {},
   "source": [
    "## Timing Your Calculations\n",
    "\n",
    "Not all tricks for optimizing your code are so obvious. Luckily, there are ways to actually measure how long different operations take in Python. One such way is with the Python timeit module, which has three different functions (timeit, repeat and default_timer). The one we'll use here is timeit, but you should feel free to explore what the other functions can do for you. Note, you can use time snippets of code with timeit from the shell command line, in the iPython or the regular Python console, and in Jupyter, but they will look a bit different.\n",
    "\n",
    "Run the following command in the cell below:\n",
    "\n",
    "> %timeit 100./5."
   ]
  },
  {
   "cell_type": "code",
   "execution_count": null,
   "metadata": {},
   "outputs": [],
   "source": []
  },
  {
   "cell_type": "markdown",
   "metadata": {},
   "source": [
    "The output tells you that your computer divided 100 by 5 a large number of times (10 million, for example), repeated that process three times, and then returned the best time in microseconds for those three trials. That's the minimum CPU time that your computer needed to carry out the division. Note that your computer does not take exactly the same amount of time each time it performs the same calculation, which is why the calculation is repeated many times. In fact, if you run this command several times, you'll find a bit of variation between each of the results.\n",
    "\n",
    "As you write your code you have a choice whether to divide by a variable or to multiply with its reciprocal. Let's try replacing the division by 5 with a multiplication by 0.2 and see how long that takes:\n",
    "\n",
    "> %timeit 100.*0.2\n",
    "\n",
    "Run each of the two preceding timing Python commands several times in the cell below and assess the differences. Is there a persistent difference? How significant does it seem to you? Spoiler alert: one of these computations takes more time than the other!"
   ]
  },
  {
   "cell_type": "code",
   "execution_count": null,
   "metadata": {},
   "outputs": [],
   "source": []
  },
  {
   "cell_type": "markdown",
   "metadata": {},
   "source": [
    "Let's try a slightly more complex example using a function:"
   ]
  },
  {
   "cell_type": "code",
   "execution_count": 2,
   "metadata": {},
   "outputs": [],
   "source": [
    "def myfunc(a,b):\n",
    "    c=a*np.sin(b)\n",
    "    return(c)"
   ]
  },
  {
   "cell_type": "markdown",
   "metadata": {},
   "source": [
    "We can use the %timeit with the function call, providing numbers for a and b, as follows:\n",
    "> %timeit myfunc(5., 10.)\n",
    "\n",
    "Try it out in the cell below:"
   ]
  },
  {
   "cell_type": "code",
   "execution_count": null,
   "metadata": {},
   "outputs": [],
   "source": []
  },
  {
   "cell_type": "markdown",
   "metadata": {},
   "source": [
    "Now compare this to the time it takes to compute 5.*np.sin(10.). \n",
    "\n",
    "Run each command a few times in the cell below and compare the results. "
   ]
  },
  {
   "cell_type": "code",
   "execution_count": null,
   "metadata": {},
   "outputs": [],
   "source": []
  },
  {
   "cell_type": "markdown",
   "metadata": {},
   "source": [
    "You'll should find that executing this calculation via a function gives rise to extra \"overhead\" time. However, an obvious benefit of functions is that they can contain far more complex code than these fairly simple calculations, so it's usually worth it to keep using them."
   ]
  },
  {
   "cell_type": "markdown",
   "metadata": {},
   "source": [
    "## Minimize Unnecessary Looping\n",
    "\n",
    "Next, let's time some more complex calculations using lists. From there we'll see how using NumPy arrays can speed up our calculations. Follow along as we go. First, setup two Python lists as follows:"
   ]
  },
  {
   "cell_type": "code",
   "execution_count": 4,
   "metadata": {},
   "outputs": [],
   "source": [
    "list_1 = []\n",
    "list_2 = []\n",
    "for i in range(1000000):\n",
    "    list_1.append(i)\n",
    "    list_2.append(i*i)"
   ]
  },
  {
   "cell_type": "markdown",
   "metadata": {},
   "source": [
    "We now have two, 1D arrays, filled with 1 million values each. We will use these arrays in all of our upcoming tests. Let's put together a pure Python program that does our required task in the most straightforward and naive (and poorly optimized) way:"
   ]
  },
  {
   "cell_type": "code",
   "execution_count": 5,
   "metadata": {},
   "outputs": [],
   "source": [
    "from math import sin, cos\n",
    "\n",
    "def pure_python_func_v1(A,B):\n",
    "    result = []\n",
    "    A_sin = []\n",
    "    B_cos = []\n",
    "    for x in A:\n",
    "        A_sin.append(sin(x))\n",
    "    for x in B:\n",
    "        B_cos.append(cos(x))\n",
    "    for i in range(len(A)):\n",
    "        result.append(A_sin[i]+B_cos[i])\n",
    "    \n",
    "    return result"
   ]
  },
  {
   "cell_type": "markdown",
   "metadata": {},
   "source": [
    "In the cell below, use %timeit to time the functions execution. For the arguments of the function, use the two lists you created previously, list_1 and list_2. "
   ]
  },
  {
   "cell_type": "code",
   "execution_count": null,
   "metadata": {},
   "outputs": [],
   "source": []
  },
  {
   "cell_type": "markdown",
   "metadata": {},
   "source": [
    "You should notice that it doesn't do as many loops as before, because we are operating on lists with a million values, and the timeit function adjusts the number of times it loops based on how many iterations your block of code is already doing.\n",
    "\n",
    "Now, note that the function has three for loops, each iterating over a million numbers. If we start working with larger datasets, this operation can easily bottleneck our analysis and waste precious CPU time. There are a few things we can do to reduce time immediately. First, we should get rid of extraneous loops. We can do this by rewriting the function:"
   ]
  },
  {
   "cell_type": "code",
   "execution_count": 6,
   "metadata": {},
   "outputs": [],
   "source": [
    "def pure_python_func_v2(A,B):\n",
    "    result = []\n",
    "    for i in range(len(A)):\n",
    "        result.append(sin(A[i])+cos(B[i]))\n",
    "    \n",
    "    return result"
   ]
  },
  {
   "cell_type": "markdown",
   "metadata": {},
   "source": [
    "Since the dimensions are the same between the A, B, and result, we can eliminate extra loops. Check how much time is saved by dropping our loops down to just one.\n",
    "\n",
    "## Numpy Arrays\n",
    "\n",
    "As you learned in the last lesson, NumPy's core math functions are optimized to work extremely quickly over data arrays. Time the following function, with our original lists as the arguments for the function."
   ]
  },
  {
   "cell_type": "code",
   "execution_count": 7,
   "metadata": {},
   "outputs": [],
   "source": [
    "import numpy as np\n",
    "\n",
    "def numpy_func_v1(A,B):\n",
    "    return np.sin(A)+np.cos(B)"
   ]
  },
  {
   "cell_type": "code",
   "execution_count": null,
   "metadata": {},
   "outputs": [],
   "source": [
    "# Time the function in this cell"
   ]
  },
  {
   "cell_type": "markdown",
   "metadata": {},
   "source": [
    "We can conver the Python lists to arrays as follows:"
   ]
  },
  {
   "cell_type": "code",
   "execution_count": 8,
   "metadata": {},
   "outputs": [],
   "source": [
    "# asarray converts the lists to numpy arrays\n",
    "array_1_np = np.asarray(list_1)  \n",
    "array_2_np = np.asarray(list_2)"
   ]
  },
  {
   "cell_type": "markdown",
   "metadata": {},
   "source": [
    "Try timing the same function, but using the new NumPy arrays as input. You should see a significant improvement of a factor of ~6 over the pure Python calculation!\n",
    "\n",
    "Content for this module item was provided via http://pollackscience.com/fss_pages/Code_Optimization.php.\n",
    "\n",
    "## Takeaways\n",
    "\n",
    "> - Minimize repeated computations<br>\n",
    "> - Minimize the number of loops<br>\n",
    "> - Use list comprehension<br>\n",
    "> - Use NumPy arrays<br>"
   ]
  }
 ],
 "metadata": {
  "kernelspec": {
   "display_name": "Python 3",
   "language": "python",
   "name": "python3"
  },
  "language_info": {
   "codemirror_mode": {
    "name": "ipython",
    "version": 3
   },
   "file_extension": ".py",
   "mimetype": "text/x-python",
   "name": "python",
   "nbconvert_exporter": "python",
   "pygments_lexer": "ipython3",
   "version": "3.6.5"
  }
 },
 "nbformat": 4,
 "nbformat_minor": 2
}
