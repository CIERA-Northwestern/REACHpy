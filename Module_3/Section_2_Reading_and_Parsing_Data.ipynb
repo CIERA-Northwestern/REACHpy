{
  "cells": [
    {
      "cell_type": "markdown",
      "metadata": {
        "id": "reC_IDCgu2SO"
      },
      "source": [
        "# Section 2 Reading and Parsing Data From a File\n",
        "\n",
        "So far, you have been working with very short lists of data or generating your own lists of data. However, in data-driven science, you'll likely have to work with large sets of data that can come in a variety of formats: comma-separated values, tab-separated values, space-separated values, to name a few. Sometimes specific quantities can come in strange formats depending on the meaning, for example, a list of times might be formatted in hours, minutes and seconds, like this: 10:03:20. Whatever format your data might come in, you must be able to read in that data and separate it into more easily processed components that you can then analyze. That's exactly what parsing data means.\n",
        "\n",
        "## 2.1 Reading Data From a File\n",
        "\n",
        "The first step is to learn how to use Python to directly read data from a file. Let's say we have a data file called `planet_data.txt` containing the solar system planet names and their masses, that looks something like this:\n",
        "\n",
        "| Planet name        | Mass ($10^{24}$ kg)  |\n",
        "| :----------------- | :------- |\n",
        "| __Mercury__       |   0.330  |\n",
        "| __Venus__         | 4.87  |\n",
        "| __Earth__         | 5.97  |\n",
        "| __Mars__          | 0.642  |\n",
        "| __Jupiter__       | 1898 |\n",
        "| __Saturn__        | 568  |\n",
        "| __Uranus__        | 86.8  |\n",
        "| __Neptune__       | 102 |\n",
        "\n",
        "\n",
        "To open and read this data file, we use the commands:\n",
        "\n",
        "```python\n",
        "planet_file = open('planet_data.txt')\n",
        "data = planet_file.read()\n",
        " ```\n",
        "\n",
        "Here, `planet_file` is a file object, which is a kind of object that allows you to access and manipulate a user file. Once the file object is created (the first line of code), you can use this to reference the file, and access or manipulate it with functions such as read, readline, readlines, write, seek, and close. The second line reads the entire contents of the file. Notice that the first row is a comment explaining the meanings of the columns, which is helpful to anyone looking at the file.\n"
      ]
    },
    {
      "cell_type": "code",
      "source": [
        "# Running in Google Colab? Run this cell\n",
        "!wget https://raw.githubusercontent.com/CIERA-Northwestern/REACHpy/main/Module_3/data/planet_data.txt"
      ],
      "metadata": {
        "id": "PXcmd2qA0HV9"
      },
      "execution_count": null,
      "outputs": []
    },
    {
      "cell_type": "code",
      "execution_count": null,
      "metadata": {
        "id": "dywHmfJIu2SX"
      },
      "outputs": [],
      "source": [
        "planet_file = open('planet_data.txt')\n",
        "data = planet_file.read()\n",
        "\n",
        "print(data)"
      ]
    },
    {
      "cell_type": "markdown",
      "metadata": {
        "id": "v6FXWnwsu2SY"
      },
      "source": [
        "When we open the file this way, Python gave us the permission to read it by default. Sometimes you might want to instead write or append to the file. You can specify which permissions you want from a file when you open it by typing 'r', 'w', or 'a' (they are read, write, and append) in the open command , like this: \n",
        "```python\n",
        "planet_file = open('planet_data.txt' ,'r')\n",
        "```\n",
        "\n",
        "When you use planet_file.readlines() instead of planet_file.read(), you see your planet data with some strange characters interspersed with it. This result is a single string that includes the entire contents of the opened file, including the tab symbols (represented by `\\t`) and the \"newline\" (represented by `\\n`) symbols, both of which were technically part of the original file's structure. This is how Python interprets strings that it reads in. Here is the example:"
      ]
    },
    {
      "cell_type": "code",
      "execution_count": null,
      "metadata": {
        "id": "TCw2syJfu2SZ"
      },
      "outputs": [],
      "source": [
        "planet_file = open('planet_data.txt','r')\n",
        "data = planet_file.readlines()\n",
        "\n",
        "print(data)"
      ]
    },
    {
      "cell_type": "markdown",
      "source": [
        "If you want to split the output into a list of lines without the additional newline characters (`\\n`), you can use `read().splitlines()`:\n",
        "\n",
        "```python\n",
        "planet_file = open('planet_data.txt','r')\n",
        "data = planet_file.read().splitlines()\n",
        "\n",
        "print(data)\n",
        "```"
      ],
      "metadata": {
        "id": "6uGFl3mghyVw"
      }
    },
    {
      "cell_type": "code",
      "source": [
        "# Try the code snippet here"
      ],
      "metadata": {
        "id": "7yQbPi5liFHU"
      },
      "execution_count": 1,
      "outputs": []
    },
    {
      "cell_type": "markdown",
      "metadata": {
        "id": "maphPuK3u2SZ"
      },
      "source": [
        "### Closing files\n",
        "It is good practice to close a file as soon as you are done using it, to avoid accidentally reading from or writing to it later in your program. If you are using multiple or large files, you could potentially run out of memory if you do not close the files.\n",
        "\n",
        "To close this file, you can use the function planet_file.close().\n",
        "Close the file in the cell below:"
      ]
    },
    {
      "cell_type": "code",
      "execution_count": null,
      "metadata": {
        "id": "S_Ej8AgUu2Sa"
      },
      "outputs": [],
      "source": [
        "planet_file.close()"
      ]
    },
    {
      "cell_type": "markdown",
      "source": [
        "## 2.1.1 Intermediate file reading\n",
        "\n",
        "The basic way to handle opening, reading and closing a file is typically handled in the following manner:\n",
        "\n",
        "```python\n",
        "f = open('planet_data.txt', 'r')\n",
        "data = f.read().splitlines()\n",
        "f.close()\n",
        "\n",
        "print(data)\n",
        "```\n",
        "\n",
        "An alternative way to handle this is by using `with` as follows:\n",
        "\n",
        "```python\n",
        "with open('planet_data.txt', 'r') as f:\n",
        "    data = f.read().splitlines()\n",
        "\n",
        "print(data)\n",
        "```\n",
        "\n",
        "In this manner, Python will automatically close the file once it moves outside of the indented portion of your code."
      ],
      "metadata": {
        "id": "uUzCc77IcJhk"
      }
    },
    {
      "cell_type": "markdown",
      "metadata": {
        "id": "9EY0jH5vu2Sa"
      },
      "source": [
        "## 2.2 Parsing Data\n",
        "\n",
        "There are multiple ways to break down the content of a file while reading it into Python. Let's think about the structure of our planet data file. \n",
        "\n",
        "First off, you may have noticed that the first line of the data file is a comment indicating what the different columns represent - a very good practice! But we want to be able to separate that out when we're reading in our data - we can do this with the startswith function. \n",
        "\n",
        "Then, the entries are separated by whitespace, and we can use the split function to break those up. The block of code below shows how this comes together to help us parse the data file. Analyze it, then evaluate the cell and inspect the results. "
      ]
    },
    {
      "cell_type": "code",
      "execution_count": null,
      "metadata": {
        "id": "IPzfqUo7u2Sb"
      },
      "outputs": [],
      "source": [
        "planets, masses = [], []   # Notice, we can define multiple things on a single line\n",
        "planet_file = open('planet_data.txt')\n",
        "data = planet_file.read().splitlines()\n",
        "\n",
        "for line in data:\n",
        "    if not line.startswith('#'):  # Only continue if the line is NOT a comment\n",
        "        fields = line.split()\n",
        "        planets = planets + [fields[0]]\n",
        "        masses = masses + [float(fields[1])]\n",
        "\n",
        "planet_file.close()\n",
        "print(planets)\n",
        "print(masses)\n"
      ]
    },
    {
      "cell_type": "markdown",
      "metadata": {
        "id": "VnAeQlBwu2Sb"
      },
      "source": [
        "Here's what the above for loop did:\n",
        "\n",
        " 1. First, we split each line in data into a separate string. <br>\n",
        "\n",
        " 2. Then, we split the fields at the white space that is between them (creating two fields, fields[0] and fields[1]): <br>\n",
        "['Mercury', '0.330']<br>\n",
        "['Venus', '4.87']<br>\n",
        "['Earth', '5.97']<br>\n",
        "['Mars', '0.642']<br>\n",
        "['Jupiter', '1898']<br>\n",
        "['Saturn', '568']<br>\n",
        "['Uranus', '86.8']<br>\n",
        "['Neptune', '102']<br> \n",
        "\n",
        "3. Finally, we append the planet name and the mass from each line to the lists we created at the beginning of the block of code.\n",
        "\n",
        "Note that there are two columns in planet_data.txt which are planet names and masses. The fields list contains both planet names and masses. The first element of the field list is planet name = field[0] and the second one is mass = field[1]. If we had another column, such as radius, then we would write radius = field[2].\n",
        "\n",
        "\n",
        "### 2.2.1 Advanced Parsing\n",
        "\n",
        "\n",
        "As we mentioned, data can come in many different formats, using many different kinds of delimiters. A delimiter is a sequence of one or more characters used to specify the boundary between separate entries in a file. \n",
        "\n",
        "Luckily, we can use the split function to split up strings with any given delimiter (or multiple delimiters) by plugging the delimiter inside the parentheses, e.g., `split(',')`, `split(':')`. As you can guess, with nothing inside the parentheses,e.g., `split()`, Python will be looking for simply whitespace (this is what we did for the planets data). Now, let's look at a more complex string."
      ]
    },
    {
      "cell_type": "code",
      "execution_count": null,
      "metadata": {
        "id": "Odx5QnYyu2Sc"
      },
      "outputs": [],
      "source": [
        "challenge = 'Do:you think you:can-parse; this string?'"
      ]
    },
    {
      "cell_type": "markdown",
      "metadata": {
        "id": "H82X6OA7u2Sc"
      },
      "source": [
        "See if you can break this down to just the word parse in the cell below. We'll get you started."
      ]
    },
    {
      "cell_type": "code",
      "execution_count": null,
      "metadata": {
        "id": "nO8arpjVu2Sc"
      },
      "outputs": [],
      "source": [
        "a = challenge.split()    # you know what this does already! Now a is a list of 4 strings\n",
        "print('a=',a)\n",
        "b = a[2].split('-')           # now we've taken the third item and split it off at the dash (-)\n",
        "print('b=',b)"
      ]
    },
    {
      "cell_type": "markdown",
      "metadata": {
        "id": "NpIGlPidu2Sd"
      },
      "source": [
        "## Practice\n",
        "\n",
        "Follow the instructions in the cell below to practice reading in and parsing data from a file. The data file, which contains a small snippet of seismic wave data, is named `seismic.txt`. You'll be reading in a few lines of that data, and then extracting the arrival times of the signals, which are in a format that looks like year-month-day\"T\"hour:minute:seconds\"Z\". However, let's assume that we only want the arrival times for the waves that have \"Pn\" seismic phase (but not the ones with phase \"P\"). "
      ]
    },
    {
      "cell_type": "code",
      "source": [
        "# Running in Google Colab? Run this cell\n",
        "!wget https://raw.githubusercontent.com/CIERA-Northwestern/REACHpy/main/Module_3/data/seismic.txt"
      ],
      "metadata": {
        "id": "WpL37JxZA2u8"
      },
      "execution_count": null,
      "outputs": []
    },
    {
      "cell_type": "code",
      "execution_count": null,
      "metadata": {
        "id": "UHeR4I_Fu2Sd"
      },
      "outputs": [],
      "source": [
        "\n",
        "# seismic.txt contains the data you'll use in this exercise \n",
        "\n",
        "# Open and read that data file using read().splitlines()\n",
        "\n",
        "# PLACE YOUR CODE HERE\n",
        "\n",
        "# For all lines that that contain Pn (not P) in column 7,\n",
        "#    isolate the time portion of the line (hrs:mins:secs)\n",
        "\n",
        "# PLACE YOUR CODE HERE\n",
        "\n",
        "# Save hours, minutess and seconds to three separate lists.\n",
        "# Hours and minutes should stored in integers, and seconds in floats.\n",
        "# Remember to skip over the comment line!\n",
        "\n",
        "# PLACE YOUR CODE HERE\n",
        "\n",
        "# Close the file\n",
        "\n",
        "# PLACE YOUR CODE HERE\n",
        "\n",
        "# Print your lists to check that you were successful\n",
        "\n",
        "# PLACE YOUR CODE HERE\n",
        "\n"
      ]
    },
    {
      "cell_type": "markdown",
      "metadata": {
        "id": "hlDBSFPuu2Se"
      },
      "source": [
        "## Takeaways\n",
        "\n",
        "- Real data can come in many different formats, some more complex than others. You must be able to read in and parse your data before you can extract the quantities needed to do your calculations<br>\n",
        "- There are many ways to read in files. One of the simplest is with Python's built-in functions for working with file objects, including read, readline, readlines, which return a string or a list of strings that you can then manipulate<br>\n",
        "- Use the split function to break up a string into its individual fields based on the specific delimiter(s) used in the string, e.g., split(), split(':') and split(',').<br>"
      ]
    }
  ],
  "metadata": {
    "kernelspec": {
      "display_name": "Python 3",
      "language": "python",
      "name": "python3"
    },
    "language_info": {
      "codemirror_mode": {
        "name": "ipython",
        "version": 3
      },
      "file_extension": ".py",
      "mimetype": "text/x-python",
      "name": "python",
      "nbconvert_exporter": "python",
      "pygments_lexer": "ipython3",
      "version": "3.8.5"
    },
    "toc": {
      "base_numbering": 1,
      "nav_menu": {},
      "number_sections": true,
      "sideBar": true,
      "skip_h1_title": false,
      "title_cell": "Table of Contents",
      "title_sidebar": "Contents",
      "toc_cell": false,
      "toc_position": {},
      "toc_section_display": true,
      "toc_window_display": false
    },
    "varInspector": {
      "cols": {
        "lenName": 16,
        "lenType": 16,
        "lenVar": 40
      },
      "kernels_config": {
        "python": {
          "delete_cmd_postfix": "",
          "delete_cmd_prefix": "del ",
          "library": "var_list.py",
          "varRefreshCmd": "print(var_dic_list())"
        },
        "r": {
          "delete_cmd_postfix": ") ",
          "delete_cmd_prefix": "rm(",
          "library": "var_list.r",
          "varRefreshCmd": "cat(var_dic_list()) "
        }
      },
      "types_to_exclude": [
        "module",
        "function",
        "builtin_function_or_method",
        "instance",
        "_Feature"
      ],
      "window_display": false
    },
    "colab": {
      "name": "Section_4_Reading_and_Parsing_Data.ipynb",
      "provenance": [],
      "collapsed_sections": []
    }
  },
  "nbformat": 4,
  "nbformat_minor": 0
}
