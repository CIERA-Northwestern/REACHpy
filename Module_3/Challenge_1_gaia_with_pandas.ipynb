{
 "cells": [
  {
   "cell_type": "markdown",
   "metadata": {},
   "source": [
    "# Module 4 Challenge | Analyze Gaia Data With Pandas\n",
    "\n",
    "For astronomers who are interested in understanding how stars form and evolve, the place to look is young star clusters and stellar associations. These are places where lots of stars have recently formed. The Gaia mission will provide the 3D location and proper motions for over 1 billion stars, making it the perfect telescope to discover new star clusters and further characterize known clusters."
   ]
  },
  {
   "cell_type": "markdown",
   "metadata": {},
   "source": [
    "## Introduction\n",
    "\n",
    "Young star clusters and stellar associations are important sites for understanding the stellar birth environment and stellar evolution. The Gaia mission will provide the 3D location and proper motions for over 1 billion stars, making it the perfect telescope to discover new star clusters and further characterize known clusters.\n",
    "\n",
    "In this challenge, you'll be using [NumPy](http://www.numpy.org), [Matplotlib](https://matplotlib.org), and [Pandas](http://pandas.pydata.org) to explore a piece of the initial Gaia data release using pandas."
   ]
  },
  {
   "cell_type": "markdown",
   "metadata": {},
   "source": [
    "## The Data\n",
    "This dataset combines Hipparcos and Tycho-2 data with new Gaia observations to provide accurate 3D positions and proper motions (i.e., the 2D angular velocity) on the sky (no radial velocities yet).\n",
    "\n",
    "For this exercise, we've collected the relevant data and stored it in the HDF5 data file, <em>alldata.hdf</em> which should be in the Module_3 folder.\n",
    "\n",
    "If you are interested, the full datasets can be downloaded in chunks from the Gaia website, [here](http://cdn.gea.esac.esa.int/Gaia/tgas_source/). A description of all of the columns can be found [here](https://gaia.esac.esa.int/documentation/GDR1/datamodel/Ch1/tgas_source.html).\n",
    "\n",
    "<strong>Load the data by reading it in with Pandas.</strong>"
   ]
  },
  {
   "cell_type": "code",
   "execution_count": null,
   "metadata": {},
   "outputs": [],
   "source": [
    "# Load data into DataFrame named 'dat'\n",
    "import FILL IN CODE\n",
    "dat  = FILL IN CODE"
   ]
  },
  {
   "cell_type": "markdown",
   "metadata": {},
   "source": [
    "You can think of this simple Pandas DataFrame as a large table which has built in functions to process rows and columns, read and write to many different formats on disk, and interact with other DataFrames.\n",
    "\n",
    "<strong>Try printing the DataFrame to see a small sample. You'll have to scroll down to view it all.</strong>"
   ]
  },
  {
   "cell_type": "code",
   "execution_count": null,
   "metadata": {},
   "outputs": [],
   "source": [
    "FILL IN CODE"
   ]
  },
  {
   "cell_type": "markdown",
   "metadata": {},
   "source": [
    "We see that we have 2,057,050 stars in our dataset, each of which has a measured position on the sky (both (ra,dec) and (l,b)), a parallax, a G band magnitude, and proper motion on the sky (pmra,pmdec). Each of these measurements also has an error associated with it.\n",
    "\n",
    "(By the way - in a moment, we'll be plotting the values ra [right ascension], dec [declination] and parallax - if you're interested in learning more about these quantities, see this Wikipedia page on [Star Positions](https://en.wikipedia.org/wiki/Star_position), as well as references therein.) \n",
    "\n",
    "We can see how much memory our DataFrame object is taking up with,"
   ]
  },
  {
   "cell_type": "code",
   "execution_count": null,
   "metadata": {},
   "outputs": [],
   "source": [
    "print('{:d} rows'.format(len(dat)))\n",
    "print('{:.1f} MB'.format(dat.memory_usage(index=True,deep=True).sum()/1e6))"
   ]
  },
  {
   "cell_type": "markdown",
   "metadata": {},
   "source": [
    "We can try reducing this by only loading in the columns we'll be working with, which are <em>'ra', 'ra_error', 'dec', 'dec_error', 'parallax', 'parallax_error'</em>\n",
    "\n",
    "<strong>In the cell below:\n",
    "\n",
    "1. Re-load the data to the same DataFrame (named dat), this time only the 6 columns above\n",
    "\n",
    "2. Note how much the size of the DataFrame has been reduced compared to the original</strong>\n"
   ]
  },
  {
   "cell_type": "code",
   "execution_count": null,
   "metadata": {},
   "outputs": [],
   "source": [
    "dat  = pd.read_hdf('alldata.hdf',columns=[FILL IN RELEVANT COLUMNS HERE])\n",
    "print('{:d} rows'.format(len(dat)))\n",
    "print('{:.1f} MB'.format(dat.memory_usage(index=True,deep=True).sum()/1e6))\n",
    "\n",
    "print(dat)"
   ]
  },
  {
   "cell_type": "markdown",
   "metadata": {},
   "source": [
    "The DataFrame object contains some built-in convienence functions for quickly getting a sense of your data. For example, we can quickly make histograms of different columns with the <code>dat.hist()</code> method.\n",
    "\n",
    "<strong>Plot histograms of the 'ra', 'dec' and 'parallax' columns by filling in the missing code below:</strong>"
   ]
  },
  {
   "cell_type": "code",
   "execution_count": null,
   "metadata": {},
   "outputs": [],
   "source": [
    "import matplotlib.pyplot as plt\n",
    "%matplotlib inline\n",
    "fig,axes = plt.subplots(1,3,figsize=(17,3))\n",
    "dat.hist([FILL IN CODE - ENTER ALL THREE COLUMN LABELS IN HERE],ax=axes,xlabelsize=15,ylabelsize=15,bins=50);"
   ]
  },
  {
   "cell_type": "markdown",
   "metadata": {},
   "source": [
    "We can see right away that Gaia is an all sky survey as it covers the full range of right ascension and declination. The parallax histogram looks a little funny though. There seems to be some bad parallax data that we should remove before proceeding. Remember that parallax is related to distance via\n",
    "\n",
    "$$\\text{distance in pc} = 1 / (\\text{parallax in arcsec}) .$$\n",
    "\n",
    "The Gaia parallaxes are reported in milliarcsec, and so the distances will be in kpc. From looking at the histogram for parallax we see a problem—there are a number of negative parallaxes, which would correspond to negative distances. \n",
    "\n",
    "\n",
    "<strong>Verify this by slicing our DataFrame object to only show the rows where the parallax is negative</strong>"
   ]
  },
  {
   "cell_type": "code",
   "execution_count": null,
   "metadata": {},
   "outputs": [],
   "source": [
    "FILL IN CODE HERE"
   ]
  },
  {
   "cell_type": "markdown",
   "metadata": {},
   "source": [
    "<strong>Now, remove these by using the dat.drop( ) method, and re-plot the three histograms</strong>"
   ]
  },
  {
   "cell_type": "code",
   "execution_count": null,
   "metadata": {},
   "outputs": [],
   "source": [
    "dat = FILL IN CODE TO DROP THE STARS WITH NEGATIVE PARALLAX VALUES\n",
    "FILL IN CODE TO REPLOT THE SAME HISTOGRAMS"
   ]
  },
  {
   "cell_type": "markdown",
   "metadata": {},
   "source": [
    "<strong>After removing the negative parallax values, how many stars remain in the sample?</strong>"
   ]
  },
  {
   "cell_type": "code",
   "execution_count": null,
   "metadata": {},
   "outputs": [],
   "source": [
    "# Just to be safe, let's reload the 6 columns as before\n",
    "dat  = FILL IN CODE TO LOAD DATAFRAME\n",
    "dat = FILL IN CODE TO DROP THE STARS WITH NEGATIVE PARALLAX VALUES\n",
    "print('{:d} rows'.format(len(dat)))"
   ]
  },
  {
   "cell_type": "markdown",
   "metadata": {},
   "source": [
    "<strong>Add a new column to the DataFrame called 'dist' that contains the distances to the stars in kpc</strong>, computed from the parallax column using the relationship between distance and parallax (note that the parallax values are in milliarcseconds, which means distances will be in kpc).\n",
    "\n",
    "<strong>What is the distance to the nearest star in the sample, and what is the mean distance of all the stars?</strong>"
   ]
  },
  {
   "cell_type": "code",
   "execution_count": null,
   "metadata": {},
   "outputs": [],
   "source": [
    "FILL IN CODE TO ADD NEW COLUMN\n",
    "FILL IN CODE TO OBTAIN INFORMATION ABOUT DISTANCES"
   ]
  },
  {
   "cell_type": "markdown",
   "metadata": {},
   "source": [
    "Let's visualize the 2D positions of the stars in our sample. Create a simple scatter plot of the <em>ra</em> and <em>dec</em> values using <code>dat.plot.scatter(VALUES TO PLOT)</code>. \n",
    "\n",
    "<strong>What observation can you make about the dataset from this plot?</strong>"
   ]
  },
  {
   "cell_type": "code",
   "execution_count": null,
   "metadata": {},
   "outputs": [],
   "source": [
    "FILL IN CODE HERE"
   ]
  },
  {
   "cell_type": "markdown",
   "metadata": {},
   "source": [
    "Another way to visualize this data is to create a 2D histogram and represent it as a <em>heatmap</em>. Instead of viewing the positions of individual stars, we view it as a density distribution of the stars. \n",
    "One of the methods of doing this is with the pyplot function <em>hexbin</em>, which you can learn more about here: [hexbin demo](http://matplotlib.org/1.4.0/examples/pylab_examples/hexbin_demo.html) \n",
    "\n",
    "Create a new plot by replacing \"scatter\" with \"hexbin.\" Then play around with the attributes to get a really cool looking plot: Try setting <code>gridsize</code> to values between 30 and 300 (you'll see a noticeable difference). To adjust the colors, try&nbsp;setting&nbsp;<code>cmap</code> equal to \"inferno\" or \"gray,\" or visit this page to learn more about [choosing colormaps](https://matplotlib.org/users/colormaps.html).\n",
    "\n",
    "<strong>How would you describe the shape of the stellar density distribution you obtain? By the way, what you're seeing is the Milky Way through the eyes of Gaia!</strong>\n"
   ]
  },
  {
   "cell_type": "code",
   "execution_count": null,
   "metadata": {},
   "outputs": [],
   "source": [
    "FILL IN CODE HERE"
   ]
  }
 ],
 "metadata": {
  "kernelspec": {
   "display_name": "Python 3",
   "language": "python",
   "name": "python3"
  },
  "language_info": {
   "codemirror_mode": {
    "name": "ipython",
    "version": 3
   },
   "file_extension": ".py",
   "mimetype": "text/x-python",
   "name": "python",
   "nbconvert_exporter": "python",
   "pygments_lexer": "ipython3",
   "version": "3.6.5"
  }
 },
 "nbformat": 4,
 "nbformat_minor": 2
}
