{
  "cells": [
    {
      "cell_type": "code",
      "execution_count": null,
      "metadata": {
        "id": "Rvf9FJGS8s77"
      },
      "outputs": [],
      "source": [
        "# Running in Google Colab? Run this cell\n",
        "!wget https://zenodo.org/record/569876/files/alldata.hdf\n",
        "\n",
        "# If you're not running in Colab, \n",
        "# run the command without the leading '!' in the terminal on your computer.\n",
        "# This file is too large for us to include on GitHub."
      ]
    },
    {
      "cell_type": "markdown",
      "metadata": {
        "id": "NJYzv_3V8s7-"
      },
      "source": [
        "# Challenge 1 Analyze Gaia Data With Pandas"
      ]
    },
    {
      "cell_type": "markdown",
      "metadata": {
        "id": "_2STZQS18s8D"
      },
      "source": [
        "##Section 1: Introduction\n",
        "\n",
        "Young star clusters are fruitful for astronomers interested in how stars form and evolve. \n",
        "These are places where lots of stars have recently formed. \n",
        "The Gaia mission provides the 3D location and proper motions for over 1 billion stars, making it the perfect telescope to discover new star clusters and further characterize known clusters.\n",
        "\n",
        "In this challenge, you'll be using [Matplotlib](https://matplotlib.org), and [Pandas](http://pandas.pydata.org) to explore a piece of the initial Gaia data release."
      ]
    },
    {
      "cell_type": "markdown",
      "metadata": {
        "id": "iienTIkY8s8E"
      },
      "source": [
        "##Section 2: The Data\n",
        "This dataset combines Hipparcos and Tycho-2 data with new Gaia observations to provide accurate 3D positions and proper motions (i.e., the 2D angular velocity) on the sky.\n",
        "\n",
        "For this exercise, we've collected the relevant data and stored it in the HDF5 data file (alldata.hdf) which you will need to download using the cell at the top of this notebook. This file can take a few minutes to download on Colab so be patient.\n",
        "\n",
        "If you are interested, the full datasets can be downloaded in chunks from the Gaia website, [here](http://cdn.gea.esac.esa.int/Gaia/tgas_source/). A description of all of the columns can be found [here](https://gaia.esac.esa.int/documentation/GDR1/datamodel/Ch1/tgas_source.html)."
      ]
    },
    {
      "cell_type": "markdown",
      "source": [
        "###Section 2.1: Loading the data\n",
        "Since this data uses a different file format (HDF5), we'll need to use the pandas `read_hdf()` method.\n",
        "\n",
        "1. Load the data using `pd.read_hdf()` to load this HDF5 file.\n",
        "\n",
        "2. Print the DataFrame to see what it looks like."
      ],
      "metadata": {
        "id": "2bcxizN_HN4l"
      }
    },
    {
      "cell_type": "code",
      "execution_count": null,
      "metadata": {
        "id": "M_LvmSDU8s8E"
      },
      "outputs": [],
      "source": [
        "# Import pandas\n",
        "import pandas as pd\n",
        "\n",
        "df = pd.read_hdf(#Place filename string here)\n",
        "# Add code as needed"
      ]
    },
    {
      "cell_type": "markdown",
      "source": [
        "How many rows and columns are in this DataFrame?"
      ],
      "metadata": {
        "id": "evdxGmkYHlI1"
      }
    },
    {
      "cell_type": "code",
      "source": [
        "# Put your answer here"
      ],
      "metadata": {
        "id": "2DjXidszHplt"
      },
      "execution_count": null,
      "outputs": []
    },
    {
      "cell_type": "markdown",
      "metadata": {
        "id": "rU_r7kEc8s8F"
      },
      "source": [
        "Each star in the data set has the following important columns:\n",
        "- Right Ascension (ra) \n",
        "- Declination (dec) \n",
        "- Galactic longitude (l)\n",
        "- Galactic latitute (b)\n",
        "- Parallax\n",
        "- Proper motion along the right ascension axis (pmra)\n",
        "- Proper motion along the declination axis (pmdec)\n",
        "\n",
        "The DataFrame also contains the error columns for many of these quantities.\n",
        "\n",
        "If you're interested in learning more about these quantities, see this Wikipedia page on [Star Positions](https://en.wikipedia.org/wiki/Star_position).\n",
        "\n",
        "We can see how much memory our DataFrame object is taking up with:"
      ]
    },
    {
      "cell_type": "code",
      "execution_count": null,
      "metadata": {
        "id": "Cp__AUB48s8F"
      },
      "outputs": [],
      "source": [
        "print(f'{df.shape[0]:d} rows')\n",
        "print(f'{df.memory_usage(index=True, deep=True).sum()/1e6:.1f} MB')"
      ]
    },
    {
      "cell_type": "markdown",
      "metadata": {
        "id": "i7KFfeJr8s8F"
      },
      "source": [
        "##Section 3: Selecting only important columns\n",
        "We can try reducing this by only keeping the columns we'll be working with, which are `ra`, `dec`, and `parallax`.\n",
        "\n",
        "Create a new DataFrame that only contains the columns mentioned above."
      ]
    },
    {
      "cell_type": "code",
      "source": [],
      "metadata": {
        "id": "RoBNtwbzKy5b"
      },
      "execution_count": null,
      "outputs": []
    },
    {
      "cell_type": "markdown",
      "source": [
        "How much memory does this reduced DataFrame use?\n",
        "\n",
        "How does the size compare to the DataFrame that contained all of the columns? Use the previous example to help out on this part."
      ],
      "metadata": {
        "id": "Drh5y_6SLTHt"
      }
    },
    {
      "cell_type": "code",
      "execution_count": null,
      "metadata": {
        "id": "ApZ9zg4Q8s8G"
      },
      "outputs": [],
      "source": []
    },
    {
      "cell_type": "markdown",
      "metadata": {
        "id": "OPXqUYKE8s8G"
      },
      "source": [
        "##Section 4: Plotting\n",
        "The DataFrame object contains some built-in functions for quickly getting a sense of your data. For example, we can quickly make histograms of separate columns with the `df.hist()` method.\n",
        "\n",
        "**Plot histograms of the 'ra', 'dec' and 'parallax' columns by filling in the missing code below:**"
      ]
    },
    {
      "cell_type": "code",
      "execution_count": null,
      "metadata": {
        "id": "mm6KLK1d8s8G"
      },
      "outputs": [],
      "source": [
        "import matplotlib.pyplot as plt\n",
        "fig, axes = plt.subplots(1, 3, figsize=(17, 3))\n",
        "df_new.hist([# Put column names here],\n",
        "             ax=axes,\n",
        "             xlabelsize=15,\n",
        "             ylabelsize=15,\n",
        "             bins=50)"
      ]
    },
    {
      "cell_type": "markdown",
      "metadata": {
        "id": "X0LjjyXy8s8H"
      },
      "source": [
        "###Section 4: Negative Parallaxes\n",
        "We can see right away that Gaia is an all sky survey as it covers the full range of right ascension and declination. The parallax histogram looks a little funny though. There seems to be some bad parallax data that we should remove before proceeding. Remember that parallax is related to distance via\n",
        "\n",
        "$$\\text{distance in pc} = 1 / (\\text{parallax in arcsec}).$$\n",
        "\n",
        "The Gaia parallaxes are reported in *milliarcsececonds*, thus the distances will be in *kpc*. \n",
        "From looking at the histogram for parallax we see a problem—there are a number of negative parallaxes, which would correspond to negative distances. \n",
        "\n",
        "**Slice the DataFrame to see how many rows have a negative parallax.**"
      ]
    },
    {
      "cell_type": "code",
      "execution_count": null,
      "metadata": {
        "id": "yV1VO_pf8s8H"
      },
      "outputs": [],
      "source": []
    },
    {
      "cell_type": "markdown",
      "metadata": {
        "id": "VzvvRarj8s8H"
      },
      "source": [
        "**Create a new DataFrame that doesn't contain the rows with negative parallaxes by adjusting the code below.**\n",
        "\n",
        "We use the `copy()` method which is good to do after you perform some sort of filtering on a DataFrame. \n",
        "We also reset the index column so that there aren't gaps from the missing rows.\n",
        "If you don't do these steps, then pandas may give warnings on future steps."
      ]
    },
    {
      "cell_type": "code",
      "execution_count": null,
      "metadata": {
        "id": "6MR6QhSg8s8I"
      },
      "outputs": [],
      "source": [
        "non_neg_parallax_df = df_name[# Put condition here].copy()\n",
        "non_neg_parallax_df.reset_index(drop=True, inplace=True)"
      ]
    },
    {
      "cell_type": "markdown",
      "metadata": {
        "id": "Pyqed20F8s8I"
      },
      "source": [
        "**How many stars represented in this new DataFrame?**"
      ]
    },
    {
      "cell_type": "code",
      "execution_count": null,
      "metadata": {
        "id": "O3_3ZGB-8s8I"
      },
      "outputs": [],
      "source": []
    },
    {
      "cell_type": "markdown",
      "source": [
        "Recreate the three histograms we made earlier (ra, dec and parallax) on this filtered DataFrame."
      ],
      "metadata": {
        "id": "DkbIA60vZpDB"
      }
    },
    {
      "cell_type": "code",
      "source": [],
      "metadata": {
        "id": "KJRrJykOZyVu"
      },
      "execution_count": null,
      "outputs": []
    },
    {
      "cell_type": "markdown",
      "source": [
        "##Section 5: Calculating distances to the stars"
      ],
      "metadata": {
        "id": "vmR2OZ3oUZ41"
      }
    },
    {
      "cell_type": "markdown",
      "metadata": {
        "id": "UaUBAr_R8s8I"
      },
      "source": [
        "**Use the relationship between parallax and distance to add a new column named 'dist' that contains the distances to the stars.** Recall that the parallaxes are reported in milliarcseconds."
      ]
    },
    {
      "cell_type": "code",
      "source": [],
      "metadata": {
        "id": "N2z6YIcmXUJA"
      },
      "execution_count": null,
      "outputs": []
    },
    {
      "cell_type": "markdown",
      "source": [
        "**What is the distance to the nearest star in the sample?**"
      ],
      "metadata": {
        "id": "nlBoh6LVVDU-"
      }
    },
    {
      "cell_type": "code",
      "source": [],
      "metadata": {
        "id": "TJLmVaAkVKEB"
      },
      "execution_count": null,
      "outputs": []
    },
    {
      "cell_type": "markdown",
      "source": [
        "**What is the mean distance of all the stars?**"
      ],
      "metadata": {
        "id": "4u1aZj60VKYS"
      }
    },
    {
      "cell_type": "code",
      "execution_count": null,
      "metadata": {
        "id": "rYN5YlU-8s8J"
      },
      "outputs": [],
      "source": []
    },
    {
      "cell_type": "markdown",
      "metadata": {
        "id": "D0SEaMgI8s8J"
      },
      "source": [
        "Let's visualize the 2D positions of the stars in our sample. Create a simple scatter plot of the `ra` and `dec` values using `df.plot.scatter(x, y)`. \n",
        "\n",
        "**What observation can you make about the dataset from this plot?**"
      ]
    },
    {
      "cell_type": "code",
      "execution_count": null,
      "metadata": {
        "id": "b7CAsJ868s8J"
      },
      "outputs": [],
      "source": []
    },
    {
      "cell_type": "markdown",
      "metadata": {
        "id": "dW_3TQiH8s8J"
      },
      "source": [
        "Another way to visualize this data is to create a 2D histogram and represent it as a *heatmap*. Instead of viewing the positions of individual stars, we view it as a density distribution of the stars. \n",
        "One of the methods of doing this is with `hexbin`.\n",
        "\n",
        "Create a new plot by replacing `scatter` with `hexbin.` Then play around with the attributes to get a really cool looking plot: Try setting `gridsize` to values between 30 and 300 (you'll see a noticeable difference). To adjust the colors, try setting the optional `cmap` argument equal to \"inferno\" or \"gray.\" \n",
        "Visit this page to learn more about [choosing colormaps](https://matplotlib.org/stable/tutorials/colors/colormaps.html).\n",
        "\n",
        "**How would you describe the shape of the stellar density distribution you obtain?** \n",
        "By the way, what you're seeing is the Milky Way through the eyes of Gaia!\n"
      ]
    },
    {
      "cell_type": "code",
      "execution_count": null,
      "metadata": {
        "id": "VvbWbh5E8s8K"
      },
      "outputs": [],
      "source": []
    },
    {
      "cell_type": "markdown",
      "source": [
        "## Section 6: Plot the Milky Way\n",
        "We originally stripped out the columns l and b from the original DataFrame to make our plot.\n",
        "Refer to the original DataFrame and create a new copy that keeps \"parallax\", \"l\" and \"b\" as columns. \n",
        "Then make a plot using `hexbin` using \"l\" along the x-axis and \"b\" along the y-axis. \n",
        "\n",
        "The center of the Milky Way is at (l, b) = (0, 0)."
      ],
      "metadata": {
        "id": "rhd2Z297c2pm"
      }
    },
    {
      "cell_type": "code",
      "source": [],
      "metadata": {
        "id": "tOu8-lfMdnLV"
      },
      "execution_count": null,
      "outputs": []
    }
  ],
  "metadata": {
    "kernelspec": {
      "display_name": "Python 3",
      "language": "python",
      "name": "python3"
    },
    "language_info": {
      "codemirror_mode": {
        "name": "ipython",
        "version": 3
      },
      "file_extension": ".py",
      "mimetype": "text/x-python",
      "name": "python",
      "nbconvert_exporter": "python",
      "pygments_lexer": "ipython3",
      "version": "3.8.5"
    },
    "colab": {
      "provenance": []
    }
  },
  "nbformat": 4,
  "nbformat_minor": 0
}