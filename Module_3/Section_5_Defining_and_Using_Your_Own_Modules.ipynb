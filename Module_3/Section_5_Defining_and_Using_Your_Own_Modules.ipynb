{
 "cells": [
  {
   "cell_type": "markdown",
   "metadata": {},
   "source": [
    "# Section 2.4 | Defining Your Own Functions and Modules\n",
    "\n",
    "We introduced you to built-in functions and modules in Module 1. Remember that modules are really just separate files that contain code. Using built-in functions and modules can save you tons of time because it means you don't have to write every bit of code you need from scratch; not to mention, they help to keep your codes cleaner and more readable. But you can also define your own functions and modules in Python. That way, if you are using an equation over and over, you can simply define a function that you can refer to by name, rather than typing out the equation each time you need it. When you're developing a longer code, you break it down into separate modules, which just fancy language for breaking up your code into multiple files for ease of use and organization. \n",
    "\n",
    "## Creating Your Own Functions\n",
    "\n",
    "A function is like a machine that takes something in and spits something out. Functions are defined using the keyword def and the name you choose for your function, followed by parentheses containing the parameters you need to pass through to your function. The function always ends with a return command. The general format is as follows:\n",
    "\n",
    ">def my_function(parameter_1, parameter_2, ...):<br>\n",
    "> &nbsp; &nbsp;     CODE TO EXECUTE                                # this may be several lines of code <br>\n",
    "> &nbsp; &nbsp;     return my_object                               # this is what will be returned by the function\n",
    "\n",
    "For example, let's say you want to create a function that converts light years to parsecs, the conversion factor we used in the previous lesson. Our function could look like this:\n"
   ]
  },
  {
   "cell_type": "code",
   "execution_count": 1,
   "metadata": {},
   "outputs": [],
   "source": [
    "def ly_to_pc(distance_ly):\n",
    "    distance_pc = distance_ly*0.306601\n",
    "    return distance_pc"
   ]
  },
  {
   "cell_type": "markdown",
   "metadata": {},
   "source": [
    "Then, to call the function in another block of code, we can write this, which will assign the new variable dist_pc to the value returned by our function, and then print out that value:"
   ]
  },
  {
   "cell_type": "code",
   "execution_count": 2,
   "metadata": {},
   "outputs": [
    {
     "name": "stdout",
     "output_type": "stream",
     "text": [
      "1.2877242000000002\n"
     ]
    }
   ],
   "source": [
    "dist_ly = 4.2\n",
    "dist_pc = ly_to_pc(dist_ly)                        # this is the call to the function\n",
    "print(dist_pc)"
   ]
  },
  {
   "cell_type": "markdown",
   "metadata": {},
   "source": [
    "Notice that the variables used in the call to the function do not have to match the variables used in the function definition. Whatever value or object is passed into the function through the call(here dist_ly) will be used as the parameter within the function (so once inside the function, the variable distance_ly takes the value of dist_ly). \n",
    "\n",
    "### Practice\n",
    "\n",
    "Let's practice writing and calling functions. Taking the example of the conversion function to the next level, in this exercise, you'll write a conversion function that will take a list as a parameter and return the list with all values converted to a different unit."
   ]
  },
  {
   "cell_type": "code",
   "execution_count": null,
   "metadata": {},
   "outputs": [],
   "source": [
    "# Function to convert single distance from ly to pc (this one is done for you)\n",
    "def ly_to_pc(distance_ly):\n",
    "  distance_pc = distance_ly*0.306601\n",
    "  return distance_pc\n",
    "  \n",
    "dist_ly = 4.2\n",
    "dist_pc = ly_to_pc(dist_ly)\n",
    "print 'distance in pc = ', dist_pc\n",
    "\n",
    "# Your turn!\n",
    "# Functions can also take in a list as a parameter, and return a list\n",
    "# Write a function to take in the list of star distances below, convert the list\n",
    "#     from ly to pc using list comprehension, and return the new list\n",
    "FILL IN CODE\n",
    "\n",
    "\n",
    "# Call the function and print out the converted list\n",
    "FILL IN CODE"
   ]
  },
  {
   "cell_type": "markdown",
   "metadata": {},
   "source": [
    "## Creating Your Own Modules\n",
    "\n",
    "Python offers just about any standard function you can think of, but sometimes your research will call for very specialized functions, that only you (and maybe a handful of other people) will need to use often. In these instances, you can build your own modules as separate Python programs and import them into other programs, just like you can with the built-in modules. For example, we might create a module to store common unit conversion functions. Let's say our module was called conversions.py - it might look like this:\n",
    "\n",
    "\n",
    ">#!/usr/bin/python<br>\n",
    ">\n",
    ">#Convert light years to parsecs<br>\n",
    ">def ly_to_pc(distance_ly):<br>\n",
    "> &nbsp; &nbsp; &nbsp;  distance_pc = distance_ly*0.306601<br>\n",
    "> &nbsp; &nbsp; &nbsp;  return distance_pc<br>\n",
    ">\n",
    ">#Convert light years to km<br>\n",
    ">def ly_to_km(distance_ly):<br>\n",
    "> &nbsp; &nbsp; &nbsp;  distance_pc = distance_ly*9.461e12<br>\n",
    "> &nbsp; &nbsp; &nbsp;  return distance_km<br>\n",
    "\n",
    "Just like built-in modules, if we have a script and we want to access what's in a Python module, we simply have to import it. Here's a snippet showing how it would be imported and used in another code:\n",
    "\n",
    ">#!/usr/bin/python<br>\n",
    ">\n",
    ">#Import the function you need from the file/module conversions.py<br>\n",
    ">from conversions import ly_to_pc<br>\n",
    ">\n",
    ">dist_ly = 4.2<br>\n",
    ">\n",
    ">#Call the function, just as if it were defined in this script<br>\n",
    ">dist_pc = ly_to_pc(dist_ly)<br>"
   ]
  },
  {
   "cell_type": "markdown",
   "metadata": {},
   "source": [
    "### Practice\n",
    "\n",
    "Open up a new text editing window and copy the conversions.py text into the text editor. Save this file as conversions.py and then in the cell below, import the conversions module and call each function to convert a distance of your choosing from light years to parsecs and from light years to kilometers"
   ]
  },
  {
   "cell_type": "code",
   "execution_count": null,
   "metadata": {},
   "outputs": [],
   "source": []
  },
  {
   "cell_type": "markdown",
   "metadata": {},
   "source": [
    "## Takeaways\n",
    "\n",
    "> - Whenever you find that you need to repeat a calculation, it's probably worthwhile to define a function that you can call whenever you need to perform that calculation.<br>\n",
    "> - A function takes in parameters as input and returns a single object. The input and returned objects can be in any format you wish, from numeric or string values, lists, or arrays.<br>\n",
    "> - Making use of functions and modules helps you to keep your growing code base more readable and more organized, and saves you from having to re-code things over and over.<br>"
   ]
  }
 ],
 "metadata": {
  "kernelspec": {
   "display_name": "Python 3",
   "language": "python",
   "name": "python3"
  },
  "language_info": {
   "codemirror_mode": {
    "name": "ipython",
    "version": 3
   },
   "file_extension": ".py",
   "mimetype": "text/x-python",
   "name": "python",
   "nbconvert_exporter": "python",
   "pygments_lexer": "ipython3",
   "version": "3.6.5"
  }
 },
 "nbformat": 4,
 "nbformat_minor": 2
}
