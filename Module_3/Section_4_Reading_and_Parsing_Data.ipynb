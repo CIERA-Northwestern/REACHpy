{
 "cells": [
  {
   "cell_type": "markdown",
   "metadata": {},
   "source": [
    "# Section 2.3 | Reading and Parsing Data From a File\n",
    "\n",
    "So far, you have been working with very short lists of data or generating your own lists of data. However, in data-driven science, you'll likely have to work with large sets of data that can come in a variety of formats: comma-separated values, tab-separated values, space-separated values, to name a few. Sometimes specific quantities can come in strange formats depending on the meaning, for example, a list of times might be formatted in hours, minutes and seconds, like this: 10:03:20. Whatever crazy format your data might come in, you must be able to read in that data and separate it into more easily processed components that you can then analyze. That's exactly what parsing data means.\n",
    "\n",
    "## Reading Data From a File\n",
    "\n",
    "The first step is to learn how to use Python to directly read data from a file. Let's say we have a data file called citydata.txt containing a few city names and their populations, that looks something like this:\n",
    "\n",
    "#CityName &nbsp; &nbsp; &nbsp;  &nbsp; Population<br>\n",
    "Chicago &nbsp; &nbsp; &nbsp; &nbsp;  &nbsp; 2.704958e6<br>\n",
    "Seattle &nbsp; &nbsp; &nbsp;  &nbsp;  &nbsp; &nbsp; 7.04352e5<br>\n",
    "Dallas  &nbsp; &nbsp; &nbsp;  &nbsp;  &nbsp; &nbsp;  &nbsp;  1.197816e6<br>\n",
    "Philadelphia  &nbsp;  &nbsp; 1.567872e6<br>\n",
    "\n",
    "To open and read this data file, we use the commands:\n",
    "\n",
    "> cityfile = open('citydata.txt')<br>\n",
    "> data = cityfile.read()\n",
    "\n",
    "Here, cityfile is a file object, which is a kind of object that allows you to access and manipulate a user file. Once the file object is created (the first line of code), you can use this to reference the file, and access or manipulate it with functions such as read, readline, readlines, write, seek, and close. The second line reads the entire contents of the file. Notice that the first row is a comment explaining the meanings of the columns, which is helpful to anyone looking at the file. Python is smart enough to know that it should ignore that line when reading in the file.\n",
    "\n",
    "### Try it out\n",
    "\n",
    "Using the jupyter lab text editor, open a new text file named cityfile.txt, and copy and paste into it the four lines of city data. After saving and closing the file, type the commands above in the cell below, to first open, and then read the contents of the data file. Then print out the result of \"data\" - what type of object does it represent? "
   ]
  },
  {
   "cell_type": "code",
   "execution_count": 23,
   "metadata": {},
   "outputs": [
    {
     "name": "stdout",
     "output_type": "stream",
     "text": [
      "#CityName         Population\n",
      "Chicago           2.704958e6\n",
      "Seattle             7.04352e5\n",
      "Dallas               1.197816e6\n",
      "Philadelphia     1.567872e6\n"
     ]
    }
   ],
   "source": [
    "cityfile = open('citydata.txt')\n",
    "data = cityfile.read()\n",
    "\n",
    "print(data)"
   ]
  },
  {
   "cell_type": "markdown",
   "metadata": {},
   "source": [
    "When we open the file this way, Python gave us the permission to read it by default. Sometimes you might want to instead write or append to the file (which Python does not give you permission to do by default, and you can probably guess why!). You can specify which permissions you want from a file when you open it by typing 'r', 'w', or 'a' in the open command, like this: cityfile = open('citydata.txt' ,'r')\n",
    "\n",
    "Now try entering the command data = cityfile.readlines(). What is the result? With the first read command we used earlier, we read the whole file, and now we are at the end of the file. Inspect the result, and make sure you understand it.\n",
    "\n",
    "You probably see your city data with some strange characters interspersed with it. This result is a single string that includes the entire contents of the opened file, including the tab symbols (represented by \\t) and the \"newline\" (enter/return) symbols, both of which were technically part of the original file's structure. This is how Python interprets strings that it reads in."
   ]
  },
  {
   "cell_type": "code",
   "execution_count": 24,
   "metadata": {},
   "outputs": [
    {
     "name": "stdout",
     "output_type": "stream",
     "text": [
      "['#CityName         Population\\n', 'Chicago           2.704958e6\\n', 'Seattle             7.04352e5\\n', 'Dallas               1.197816e6\\n', 'Philadelphia     1.567872e6']\n"
     ]
    }
   ],
   "source": [
    "cityfile = open('citydata.txt')\n",
    "data = cityfile.readlines()\n",
    "\n",
    "print(data)"
   ]
  },
  {
   "cell_type": "markdown",
   "metadata": {},
   "source": [
    "Next, try out the command data = cityfile.readline() (note, the readline is singular here). What is the result? \n",
    "\n",
    "Try repeating that one again. You should start to see the pattern of how these different file reading functions work. \n",
    "\n",
    "Feel free to explore the others (e.g., write, seek) on your own. So you've now learned one way to read in data from a file (there are many other ways, and we'll learn one or two more in later modules). "
   ]
  },
  {
   "cell_type": "code",
   "execution_count": 25,
   "metadata": {},
   "outputs": [
    {
     "name": "stdout",
     "output_type": "stream",
     "text": [
      "\n"
     ]
    }
   ],
   "source": [
    "data = cityfile.readline()\n",
    "\n",
    "print(data)"
   ]
  },
  {
   "cell_type": "markdown",
   "metadata": {},
   "source": [
    "It is often good practice to close a file as soon as you are done using it, to avoid accidentally reading from or writing to it later in your program. To close this file, you can use the function cityfile.close().\n",
    "Close the file in the cell below:"
   ]
  },
  {
   "cell_type": "code",
   "execution_count": 26,
   "metadata": {},
   "outputs": [],
   "source": [
    "cityfile.close()"
   ]
  },
  {
   "cell_type": "raw",
   "metadata": {},
   "source": [
    "## Parsing Data\n",
    "\n",
    "There are multiple ways to break down the content of a file while reading it into Python. Let's think about the structure of our city data file. \n",
    "\n",
    "First off, you may have noticed that the first line of the data file is a comment indicating what the different columns represent - a very good practice! But we want to be able to separate that out when we're reading in our data - we can do this with the startswith function. \n",
    "\n",
    "Then, the entries are separated by whitespace, and we can use the split function to break those up. The block of code below shows how this comes together to help us parse the data file. Analyze it, then evaluate the cell and inspect the results. "
   ]
  },
  {
   "cell_type": "code",
   "execution_count": 27,
   "metadata": {},
   "outputs": [
    {
     "name": "stdout",
     "output_type": "stream",
     "text": [
      "['Chicago', 'Seattle', 'Dallas', 'Philadelphia']\n",
      "[2704958.0, 704352.0, 1197816.0, 1567872.0]\n"
     ]
    }
   ],
   "source": [
    "cities, populations = [ ], [ ]   # Notice, we can define multiple things on a single line\n",
    "cityfile = open('citydata.txt')\n",
    "data = cityfile.readlines()\n",
    "\n",
    "for line in data:\n",
    "    if not line.startswith('#'):      # only continue if the line is NOT a comment\n",
    "        fields = line.split()\n",
    "        cities = cities + [fields[0]]\n",
    "        populations = populations + [float(fields[1])]\n",
    "\n",
    "cityfile.close()\n",
    "print(cities)\n",
    "print(populations)"
   ]
  },
  {
   "cell_type": "markdown",
   "metadata": {},
   "source": [
    "Here's what the above for loop did:\n",
    "\n",
    "> 1. The first line split each line in data into a separate string<br>\n",
    "> 2. The second line splits the fields at the white space that is between them (creating two fields, fields[0] and fields[1]) <br>\n",
    "> 3. The third and fourth lines append the city name and the population from that line to the previously defined list (note, we created these empty lists at the beginning of the block of code)\n",
    "\n",
    "\n",
    "## Advanced Parsing\n",
    "\n",
    "The city data example was a pretty example to parse. But your data files will not be that easy. \n",
    "\n",
    "As we mentioned, data can come in many different formats, using many different kinds of delimiters. A delimiter is a sequence of one or more characters used to specify the boundary between separate entries in a file. \n",
    "\n",
    "Luckily, we can use the split function to split up strings with any given delimiter (or multiple delimiters) by plugging the delimiter inside the parentheses, e.g., split(','), split(':'). As you can guess, with nothing inside the parentheses, Python will be looking for simply whitespace. Now, let's look at a more complex string."
   ]
  },
  {
   "cell_type": "code",
   "execution_count": 28,
   "metadata": {},
   "outputs": [],
   "source": [
    "challenge = 'Do:you think you:can-parse; this string?'"
   ]
  },
  {
   "cell_type": "markdown",
   "metadata": {},
   "source": [
    "See if you can break this down to just the word parse in the cell below. We'll get you started."
   ]
  },
  {
   "cell_type": "code",
   "execution_count": 29,
   "metadata": {},
   "outputs": [],
   "source": [
    "a = challenge.split()    # you know what this does already! Now a is a list of 4 strings\n",
    "b = a[2].split('-')           # now we've taken the third item and split it off at the dash (-)\n"
   ]
  },
  {
   "cell_type": "markdown",
   "metadata": {},
   "source": [
    "## Practice\n",
    "\n",
    "Follow the instructions in the cell below to practice reading in and parsing data from a file. The data file, which contains a small snippet of seismic wave data, is called 'data.txt'. You'll be reading in a few lines of that data, and then extracting the arrival times of the signals, which are in a format that looks like year-month-day\"T\"hour:minute:seconds\"Z\". However, let's assume that we only want the arrival times for the waves that have \"Pn\" seismic phase (but not the ones with phase \"P\"). "
   ]
  },
  {
   "cell_type": "code",
   "execution_count": null,
   "metadata": {},
   "outputs": [],
   "source": [
    "\n",
    "# data.txt contains the data you'll use in this exercise \n",
    "# (you can read it in in the usual way)\n",
    "\n",
    "# Open and read that data file using readlines()\n",
    "\n",
    "FILL IN CODE\n",
    "\n",
    "\n",
    "\n",
    "# For all lines that that contain Pn (not P) in column 7,\n",
    "#    isolate the time portion of the line (hrs:mins:secs)\n",
    "# Then save hrs, mins and secs values to three different lists with those names\n",
    "# hrs and mins should be a list of integers, secs a list of floats\n",
    "# Tip: Make sure you skip over the comment line!\n",
    "\n",
    "FILL IN CODE\n",
    "\n",
    "\n",
    "\n",
    "# Close the file\n",
    "FILL IN CODE\n",
    "\n",
    "# Make sure you compare to the data to check that you've done it correctly!\n",
    "\n",
    "\n",
    "\n"
   ]
  },
  {
   "cell_type": "markdown",
   "metadata": {},
   "source": [
    "## Takeaways\n",
    "\n",
    "> - Real data can come in many different formats, some more complex than others. You must be able to read in and parse your data before you can extract the quantities needed to do your calculations<br>\n",
    "> - There are many ways to read in files. One of the simplest is with Python's built-in functions for working with file objects, including read, readline, readlines, which return a string or a list of strings that you can then manipulate<br>\n",
    "> - Use the split function to break up a string into its individual fields based on the specific delimiter(s) used in the string, e.g., split(), split(':') and split(',').<br>"
   ]
  }
 ],
 "metadata": {
  "kernelspec": {
   "display_name": "Python 3",
   "language": "python",
   "name": "python3"
  },
  "language_info": {
   "codemirror_mode": {
    "name": "ipython",
    "version": 3
   },
   "file_extension": ".py",
   "mimetype": "text/x-python",
   "name": "python",
   "nbconvert_exporter": "python",
   "pygments_lexer": "ipython3",
   "version": "3.7.1"
  },
  "toc": {
   "base_numbering": 1,
   "nav_menu": {},
   "number_sections": true,
   "sideBar": true,
   "skip_h1_title": false,
   "title_cell": "Table of Contents",
   "title_sidebar": "Contents",
   "toc_cell": false,
   "toc_position": {},
   "toc_section_display": true,
   "toc_window_display": false
  },
  "varInspector": {
   "cols": {
    "lenName": 16,
    "lenType": 16,
    "lenVar": 40
   },
   "kernels_config": {
    "python": {
     "delete_cmd_postfix": "",
     "delete_cmd_prefix": "del ",
     "library": "var_list.py",
     "varRefreshCmd": "print(var_dic_list())"
    },
    "r": {
     "delete_cmd_postfix": ") ",
     "delete_cmd_prefix": "rm(",
     "library": "var_list.r",
     "varRefreshCmd": "cat(var_dic_list()) "
    }
   },
   "types_to_exclude": [
    "module",
    "function",
    "builtin_function_or_method",
    "instance",
    "_Feature"
   ],
   "window_display": false
  }
 },
 "nbformat": 4,
 "nbformat_minor": 2
}
