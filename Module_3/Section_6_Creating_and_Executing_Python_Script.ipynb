{
 "cells": [
  {
   "cell_type": "markdown",
   "metadata": {},
   "source": [
    "# 1.5 | Your First Python Code\n",
    "\n",
    "## The Makings of a Program\n",
    "\n",
    "Using Python interactively is helpful for quick calculations, but more often you'll write standalone programs or scripts (note, we’ll use script, program, and code interchangeably in this course).\n",
    "\n",
    "As we mentioned, at the beginning of the module, most programs include these basic elements:\n",
    "\n",
    "> - Input: Read in data from the keyboard, a file, or some other device <br>\n",
    "> - Output: Display information on the screen, send it to a file or other device <br>\n",
    "> - Math: Perform mathematical operations (like addition, multiplication, trigonometric functions) or more complex ones (like fancy statistical calculations) <br>\n",
    "> - Condition Execution: Check for certain conditions and execute the appropriate sequence of statements (if-then statements) <br>\n",
    "> - Repetition: Perform some action repeatedly using loops, such as summing up all the numbers in a column of data <br>\n",
    "> - We've covered each of these elements very briefly, and you're just about ready to put them together! But first, you've got to learn how to create and execute a standalone Python script.  <br>\n",
    "\n",
    "## Difference Between Interactive Python and Python Scripts\n",
    "\n",
    "One very important thing to note is that an interactive session operates a bit differently than a standalone Python script. Besides the fact that commands can be executed one at a time, and seen immediately, the Python console behaves somewhat like a calculator - you can enter 2+2 or max(1, 9, 3) and it will return (aka, print) that the result you as soon as you hit enter. However, when you are creating a script, you'll find that simply calling a function will not automatically produce any output. You have to explicitly tell python when you'd like to see something printed to the screen (or somewhere else). \n",
    "\n",
    "One very important thing to note is that a function returns a value, but does not do anything else, such as print out that value. When you are using python in interactive mode, where the console is effectively acting like a calculator, you can enter max(1, 9, 3) and it will spit out the result. However, when you are creating a script, you'll find that simply calling a function will not produce any output. You have to tell Python what to do with the values returned by the functions, like set the variable var that value, or print the value \n",
    "\n",
    "## Create Your Program\n",
    "\n",
    "In jupyter lab, create a text file called my_code.py using the Text Editor. In the file, add a line of code to print \"Hello, World!\" Make sure to save the changes to the file.\n",
    "\n",
    "You’ve created your first python code - the infamous \"Hello, World!\" program, no less. Now let's see if it works!\n",
    "\n",
    "## Execute Your Program\n",
    "\n",
    "There are a few different ways to execute a program. Both of them will use the Terminal app in jupyter lab, so go ahead and open up a Terminal. Notice that each new thing we open adds a new tab in the jupyter lab environment.\n",
    "\n",
    "### Option 1: \n",
    "\n",
    "First try typing python my_code.py in the terminal. Did it work as expected? If not, check the line of code you wrote, make sure the file is saved, and try again. By ending your program name with .py, you're letting your computer know what it should expect at the command line.\n",
    "\n",
    "### Option 2:\n",
    "\n",
    "The universal command to execute a program is ./program_name, which works for different types code you may create. But, to take advantage of this shortcut, you must do two things:\n",
    "\n",
    " - Explicitly tell your computer which language interpreter it should use by adding the following to the first line of your code:\n",
    "\n",
    "> #!/usr/bin/env python\n",
    "\n",
    "\n",
    " - Explicitly tell your computer when you want your code to be executable by entering chmod +x my_code.py on the command line. As a precaution, files have permissions, including whether they are readable, writeable, executable, etc.\n",
    " \n",
    "\n",
    "Test out each option to make sure they work!"
   ]
  },
  {
   "cell_type": "markdown",
   "metadata": {},
   "source": [
    "## Takeaways\n",
    "As you begin learning Python, it is good to get into the habit of doing these three things when creating a new program:\n",
    "\n",
    "> - Give your Python codes a name that ends in .py <br>\n",
    "> - Set the first line to #!/usr/bin/env Python as the first line <br>\n",
    "> - Use chmod +x code_name.py to make it executable <br>\n",
    "> - Remember, in a script, you must be explicit about what you do and don't want to output <br>"
   ]
  },
  {
   "cell_type": "code",
   "execution_count": null,
   "metadata": {},
   "outputs": [],
   "source": []
  }
 ],
 "metadata": {
  "kernelspec": {
   "display_name": "Python 2",
   "language": "python",
   "name": "python2"
  },
  "language_info": {
   "codemirror_mode": {
    "name": "ipython",
    "version": 2
   },
   "file_extension": ".py",
   "mimetype": "text/x-python",
   "name": "python",
   "nbconvert_exporter": "python",
   "pygments_lexer": "ipython2",
   "version": "2.7.13"
  }
 },
 "nbformat": 4,
 "nbformat_minor": 2
}
