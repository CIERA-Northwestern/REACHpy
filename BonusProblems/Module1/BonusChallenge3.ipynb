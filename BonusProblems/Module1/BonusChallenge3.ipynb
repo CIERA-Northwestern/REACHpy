{
 "cells": [
  {
   "cell_type": "markdown",
   "metadata": {},
   "source": [
    "# How Long Do Stars Live?\n",
    "\n",
    "The Sun produces 400 trillion trillion watts of energy every second - that's enough to power our current energy use for 500,000 years! But where does all of that energy come from?\n",
    "\n",
    "In the nineteenth century, this was a major question. Early astronomers assumed that the Sun's energy came from gravitational energy that was stored when a cloud of gas collapsed to form it. Let's estimate how much energy that would be. The gravitational energy of the Sun can be estimated from the following equation:\n",
    "\n",
    "\\begin{equation}\n",
    "E = \\frac{3}{5} \\frac{G \\, M}{R^2}\n",
    "\\end{equation}\n",
    "\n",
    "Where G is the gravitational constant, M is the mass of the Sun, and R is the radius of the sun. Use Python below to calculate the gravitational energy of the Sun:"
   ]
  },
  {
   "cell_type": "code",
   "execution_count": null,
   "metadata": {},
   "outputs": [],
   "source": [
    "G = \n",
    "M = \n",
    "R =\n",
    "\n",
    "E = "
   ]
  },
  {
   "cell_type": "markdown",
   "metadata": {},
   "source": [
    "The Sun gives off energy at a rate of $1.99\\times10^{33}$ ergs s$^{-1}$. From the gravitational energy that you just calculated, how long could gravitational energy power the Sun's current brightness? Calculate that below:"
   ]
  },
  {
   "cell_type": "code",
   "execution_count": null,
   "metadata": {},
   "outputs": [],
   "source": []
  },
  {
   "cell_type": "markdown",
   "metadata": {},
   "source": [
    "We know that the Earth is 4.5678 *billion* years old - how does the number you just calculated compare?\n",
    "\n",
    "It turns out that it took Albert Einstein to solve this problem with his famous equation, $E = m \\, c^2$. The physics behind this equation is that mass and energy are two sides of the same coin. Mass can become energy and energy can become mass. Critically, for the Sun, this is exactly what happens when Hydrogen atoms undergo fusion to form Helium atoms. Let's check this. Look up the mass of the Hydrogen atom, and the mass of the Helium atom. Does four times the mass of the Hydrogen atom equal the mass of the Helium atom? Do your calculations below:"
   ]
  },
  {
   "cell_type": "code",
   "execution_count": null,
   "metadata": {},
   "outputs": [],
   "source": []
  },
  {
   "cell_type": "markdown",
   "metadata": {},
   "source": [
    "If you did your calculations correctly, you should have found that 4 Hydrogen atoms are more massive than a single Helium atom. So where does that extra mass go? This is what powers the Sun! Also, see [here](https://www.youtube.com/watch?v=23e-SnQvCaA).\n",
    "\n",
    "Let's figure out how long the Sun could live while fusing Hydrogen as it's source of energy. Let's use Einstein's equation to calculate how much \"mass energy\" the Sun has stored up:"
   ]
  },
  {
   "cell_type": "code",
   "execution_count": 2,
   "metadata": {},
   "outputs": [],
   "source": [
    "# Hint: m should be the mass of the Sun, and c is the speed of light\n"
   ]
  },
  {
   "cell_type": "markdown",
   "metadata": {},
   "source": [
    "In the same way as before, using the rate at which the Sun gives off energy currently, how long could the Sun live for? Calculate below:"
   ]
  },
  {
   "cell_type": "code",
   "execution_count": null,
   "metadata": {},
   "outputs": [],
   "source": []
  },
  {
   "cell_type": "markdown",
   "metadata": {},
   "source": [
    "In reality, only the central region of the Sun, the \"core\", is hot enough and dense enough to be fusing Hydrogen into Helium, and so in practice, only some of the core will be used to power the life of a star.\n",
    "\n",
    "What happens when the core has turned all of its Hydrogen into Helium? Without anything powering it, the Sun will start to collapse in on itself, and eventually the density and temperatures get high enough to start fusing heavier elements into even heavier elements. If a star is massive enough (the Sun isn't!), this will continue until the core is made of iron. Why iron? Well, take a look at this plot:\n",
    "\n",
    "<img src=\"fusion.png\">\n",
    "\n",
    "Atoms can only fuse together if the resulting atom is more tightly bound than its component elements. Once you get up to iron (Fe), it turns out that all more massive elements are less tightly bound, and so fusion can't happen any more. Instead, the star collapses, bounces off of this dense iron core, and explodes in a *supernova*!\n",
    "\n",
    "<img src=\"supernova.jpg\">"
   ]
  },
  {
   "cell_type": "code",
   "execution_count": null,
   "metadata": {},
   "outputs": [],
   "source": []
  }
 ],
 "metadata": {
  "kernelspec": {
   "display_name": "Python 3",
   "language": "python",
   "name": "~-thon3"
  },
  "language_info": {
   "codemirror_mode": {
    "name": "ipython",
    "version": 3
   },
   "file_extension": ".py",
   "mimetype": "text/x-python",
   "name": "python",
   "nbconvert_exporter": "python",
   "pygments_lexer": "ipython3",
   "version": "3.7.7"
  }
 },
 "nbformat": 4,
 "nbformat_minor": 4
}
