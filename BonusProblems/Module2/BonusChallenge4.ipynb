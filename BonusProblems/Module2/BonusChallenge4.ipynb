{
 "cells": [
  {
   "cell_type": "code",
   "execution_count": null,
   "metadata": {},
   "outputs": [],
   "source": [
    "### Running in Google Colab? You'll want to uncomment and run these cell once each time you start this notebook.\n",
    "\n",
    "\"\"\"\n",
    "!wget https://raw.githubusercontent.com/psheehan/CIERA-HS-Program/master/BonusProblems/Module3/M33velocities.csv\n",
    "\"\"\""
   ]
  },
  {
   "cell_type": "markdown",
   "metadata": {},
   "source": [
    "# Galaxy Rotation Curves\n",
    "\n",
    "<img src=\"NGC3521-LRGB-1024c.jpg\">\n",
    "\n",
    "We've already talked quite a bit about the rotation curve of the Solar System, but that isn't the only place where rotation curves are useful! Another place where they have frequently been used is in understanding how matter is distributed in galaxies. It turns out that the equation we were previously using\n",
    "\n",
    "\\begin{equation}\n",
    "v = \\sqrt{\\frac{G \\, M}{R}}\n",
    "\\end{equation}\n",
    "\n",
    "is more broadly applicable such that $M$ is the mass $enclosed$ within radius R, or:\n",
    "\n",
    "\\begin{equation}\n",
    "v(R) = \\sqrt{\\frac{G \\, M_{enclosed}(R)}{R}}.\n",
    "\\end{equation}\n",
    "\n",
    "In general terms, the mass enclosed is what you get if you add up all of the mass inside of radius R. What this means, then, is that if you can measure the rotation curve of a galaxy, then you can calculate where mass is located within the galaxy. Confused? Let's explore.\n",
    "\n",
    "In this directory, there is a file called \"M33velocities.csv\" with the velocities (in km/s; second column) as a function of distance from the center of the galaxy (in kilo-parsecs). Let's start by reading in the data from that file:"
   ]
  },
  {
   "cell_type": "code",
   "execution_count": null,
   "metadata": {},
   "outputs": [],
   "source": [
    "##Import statements?\n",
    "\n",
    "##Read data from file. Use delimiter = ','\n",
    "data = np.genfromtxt('', delimiter=',')  ##fill in the blank\n",
    "velocity = data[]; radius = data[]"
   ]
  },
  {
   "cell_type": "markdown",
   "metadata": {},
   "source": [
    "Now, make a rotation curve plot, showing velocity as a function of radius. Make sure the axes are properly labelled!"
   ]
  },
  {
   "cell_type": "code",
   "execution_count": null,
   "metadata": {},
   "outputs": [],
   "source": []
  },
  {
   "cell_type": "markdown",
   "metadata": {},
   "source": [
    "Using numpy, calculate the mass enclosed within each radius, $R$, from the above equation and the velocity and radius data you read in above:"
   ]
  },
  {
   "cell_type": "code",
   "execution_count": null,
   "metadata": {},
   "outputs": [],
   "source": []
  },
  {
   "cell_type": "markdown",
   "metadata": {},
   "source": [
    "Next, make a plot of the mass enclosed that you just calculated as a function of radius. From images of M33, we see that stars only go out to a radius of 7 kpc - make a line on the plot that marks this point (_Hint:_ https://matplotlib.org/api/_as_gen/matplotlib.pyplot.axvline.html)."
   ]
  },
  {
   "cell_type": "code",
   "execution_count": null,
   "metadata": {},
   "outputs": [],
   "source": []
  },
  {
   "cell_type": "markdown",
   "metadata": {},
   "source": [
    "For comparison, use the velocities and radii of planets in the Solar System to calculate the mass enclosed as a function of radius:"
   ]
  },
  {
   "cell_type": "code",
   "execution_count": null,
   "metadata": {},
   "outputs": [],
   "source": []
  },
  {
   "cell_type": "markdown",
   "metadata": {},
   "source": [
    "What do you notice about the behaviour of the mass of the galaxy as you go to larger and larger radii? Does the mass ever drop? Change the font color below to learn more!\n",
    "\n",
    "<font color=\"white\">If you've done your calculations correctly, you should see that even beyond the 15 kpc outer edge of the galaxy, the mass enclosed still continues to go up. What is that mass that we can't see? Dark matter! You've just uncovered one of the main pieces of evidence indicating that there is a significant amount of matter that we can't see, hidden within M33. The only way we can detect it is in how it exerts a gravitational force on other matter, through this rotation curve.</font>"
   ]
  }
 ],
 "metadata": {
  "kernelspec": {
   "display_name": "Python 3",
   "language": "python",
   "name": "python3"
  },
  "language_info": {
   "codemirror_mode": {
    "name": "ipython",
    "version": 3
   },
   "file_extension": ".py",
   "mimetype": "text/x-python",
   "name": "python",
   "nbconvert_exporter": "python",
   "pygments_lexer": "ipython3",
   "version": "3.8.5"
  }
 },
 "nbformat": 4,
 "nbformat_minor": 4
}
