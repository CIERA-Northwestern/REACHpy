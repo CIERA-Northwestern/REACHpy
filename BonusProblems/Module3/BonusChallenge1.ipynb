{
 "cells": [
  {
   "cell_type": "markdown",
   "metadata": {},
   "source": [
    "*Modified from the CIERA IDEAS program python notes (https://github.com/IDEASpy/IDEASpy) and from notes by G. Besla, P. Pinto, E. Hayati (https://github.com/gurtina/P105A_2019)* "
   ]
  },
  {
   "cell_type": "markdown",
   "metadata": {},
   "source": [
    "## Hertzsprung-Russell Diagram\n",
    "\n",
    "You are going to make a simple H-R diagram in this bonus problem.\n",
    "\n",
    "File HRstars.csv contains the temperature (in Kelvin; first column) and the luminosity (in solar luminosity; second column) of the stars. Use numpy genfromtxt to read the data file and give the first column to the x valuable and the second column to the y valuable. \n",
    "\n",
    "In the plot, make the hotter stars are bluer, and colder stars are redder. Use a color map called 'RdYlBu' for the colors.\n",
    "\n",
    "Use equation \\begin{equation} \\frac{L}{L_{\\odot}}=(\\frac{R}{R_{\\odot}})^2(\\frac{T}{T_{\\odot}})^4 \\end{equation} to approximate the sizes of the points representing the stars. \\begin{equation} T_{\\odot} = 5780 K \\end{equation}"
   ]
  },
  {
   "cell_type": "code",
   "execution_count": null,
   "metadata": {},
   "outputs": [],
   "source": [
    "##Import Modules\n",
    "\n",
    "\n",
    "\n",
    "##Read data from file. Use delimiter = ','\n",
    "data=np.genfromtxt('', delimiter=',')  ##fill in the blank\n",
    "x=data[]; y=data[]\n",
    "\n",
    "\n",
    "##Turn the data lists into arrays\n",
    "\n",
    "\n",
    "\n",
    "##Approximate the sizes of the stars with the equation above and times them by 15.\n",
    "Tsun=5780.\n",
    "sstar=15*   ##Fill in the blank\n",
    "\n",
    "\n",
    "##Plot the data\n",
    "plt.figure(figsize=[10, 7])     ##This make the figure and set the figure size\n",
    "cm = plt.cm.get_cmap('RdYlBu')  ##This is the color map for the stars\n",
    "\n",
    "##Fill in below for the plot, use c=x, cmap=cm, alpha=0.8 (alpha sets the transparency of the points)\n",
    "\n",
    "\n",
    "\n",
    "\n",
    "##Make the x and y scale to be logarithmic (Look up how to make logarithmic scale in pyplot)\n",
    "\n",
    "\n",
    "\n",
    "\n",
    "\n",
    "##Set the limits of the x axis from 50000 to 2000, and set the limits of the y axis from 10**-5 to 5*10**7\n",
    "##Look up how to set axis limits in pyplot\n",
    "\n",
    "\n",
    "\n",
    "\n",
    "\n",
    "##Make title and x, y labels. \n",
    "##X label: Temperature (K), Y label: Luminosity (Lsun)\n",
    "##Title: HR Diagram\n",
    "\n",
    "\n",
    "\n",
    "\n",
    "plt.show()   ##Show plot"
   ]
  }
 ],
 "metadata": {
  "kernelspec": {
   "display_name": "Python 3",
   "language": "python",
   "name": "python3"
  },
  "language_info": {
   "codemirror_mode": {
    "name": "ipython",
    "version": 3
   },
   "file_extension": ".py",
   "mimetype": "text/x-python",
   "name": "python",
   "nbconvert_exporter": "python",
   "pygments_lexer": "ipython3",
   "version": "3.7.7"
  }
 },
 "nbformat": 4,
 "nbformat_minor": 2
}
