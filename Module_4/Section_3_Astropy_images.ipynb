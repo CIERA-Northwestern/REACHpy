{
  "cells": [
    {
      "cell_type": "markdown",
      "metadata": {
        "id": "9JuB2zhyqDAf"
      },
      "source": [
        "# Section 3 Viewing and manipulating FITS images\n",
        "\n",
        "## Authors\n",
        "Originally written by Lia Corrales, modified by Patrick Sheehan for the CIERA HS Summer Program\n",
        "\n",
        "## Keywords\n",
        "matplotlib, FITS image, table\n",
        "\n",
        "## Summary\n",
        "\n",
        "This tutorial demonstrates the use of `astropy.utils.data` to download a data file, then uses `astropy.io.fits` to open the file, and lastly uses `matplotlib` to view the image with different color scales and stretches and to make histograms. In this tutorial we've also included a demonstration of simple image stacking."
      ]
    },
    {
      "cell_type": "code",
      "execution_count": null,
      "metadata": {
        "id": "gD4sfKCRqDAk"
      },
      "outputs": [],
      "source": [
        "import numpy as np\n",
        "\n",
        "# Set up matplotlib\n",
        "import matplotlib.pyplot as plt\n",
        "%matplotlib inline\n",
        "\n",
        "from astropy.io import fits"
      ]
    },
    {
      "cell_type": "markdown",
      "metadata": {
        "id": "UwO9rOLLqDAl"
      },
      "source": [
        "The following cell is needed to download the example FITS files used here."
      ]
    },
    {
      "cell_type": "code",
      "execution_count": null,
      "metadata": {
        "id": "r7YE5KQJqDAm"
      },
      "outputs": [],
      "source": [
        "from astropy.utils.data import download_file\n",
        "image_file = download_file('http://data.astropy.org/tutorials/FITS-images/HorseHead.fits', cache=True )"
      ]
    },
    {
      "cell_type": "markdown",
      "metadata": {
        "id": "-xzH5ZTYqDAm"
      },
      "source": [
        "## 3.1 Opening FITS files and loading the image data"
      ]
    },
    {
      "cell_type": "markdown",
      "metadata": {
        "id": "7E17uCGyqDAm"
      },
      "source": [
        "Let's open the FITS file to find out what it contains."
      ]
    },
    {
      "cell_type": "code",
      "execution_count": null,
      "metadata": {
        "id": "7T7qMJbvqDAm"
      },
      "outputs": [],
      "source": [
        "hdu_list = fits.open(image_file)\n",
        "hdu_list.info()"
      ]
    },
    {
      "cell_type": "markdown",
      "metadata": {
        "id": "eO66ccvgqDAn"
      },
      "source": [
        "Generally, the image information is located in the <code>PRIMARY</code> block. The blocks are numbered and can be accessed by indexing <code>hdu_list</code>."
      ]
    },
    {
      "cell_type": "code",
      "execution_count": null,
      "metadata": {
        "id": "d_KOAk3cqDAn"
      },
      "outputs": [],
      "source": [
        "image_data = hdu_list[0].data"
      ]
    },
    {
      "cell_type": "markdown",
      "metadata": {
        "id": "y3-mbWkiqDAo"
      },
      "source": [
        "Our data is now stored as a 2-D numpy array.  But how do we know the dimensions of the image?  We can simply look at the `shape` of the array."
      ]
    },
    {
      "cell_type": "code",
      "execution_count": null,
      "metadata": {
        "id": "cL3wxS_vqDAo"
      },
      "outputs": [],
      "source": [
        "print(type(image_data))\n",
        "print(image_data.shape)"
      ]
    },
    {
      "cell_type": "markdown",
      "metadata": {
        "id": "FnG4hqGfqDAo"
      },
      "source": [
        "We can also get information about the image from what we call the \"Header\":"
      ]
    },
    {
      "cell_type": "code",
      "execution_count": null,
      "metadata": {
        "id": "QvTGN1iTqDAp"
      },
      "outputs": [],
      "source": [
        "header = hdu_list[0].header\n",
        "header"
      ]
    },
    {
      "cell_type": "markdown",
      "metadata": {
        "id": "DsTPCK-aqDAp"
      },
      "source": [
        "We can access elements of the header by indexing the header object with the header keyword. For example, here's how we could get the date of the observation:"
      ]
    },
    {
      "cell_type": "code",
      "execution_count": null,
      "metadata": {
        "id": "qHdeHosDqDAp"
      },
      "outputs": [],
      "source": [
        "header[\"DATE-OBS\"]"
      ]
    },
    {
      "cell_type": "markdown",
      "metadata": {
        "id": "8PFsKOEoqDAp"
      },
      "source": [
        "Great! At this point, we can close the FITS file because we've stored everything we wanted to a variable."
      ]
    },
    {
      "cell_type": "code",
      "execution_count": null,
      "metadata": {
        "id": "A0eN6QrrqDAp"
      },
      "outputs": [],
      "source": [
        "hdu_list.close()"
      ]
    },
    {
      "cell_type": "markdown",
      "metadata": {
        "id": "Cw0qI71mqDAp"
      },
      "source": [
        "### SHORTCUT"
      ]
    },
    {
      "cell_type": "markdown",
      "metadata": {
        "id": "KX9iHmAWqDAp"
      },
      "source": [
        "If you don't need to examine the FITS header, you can call `fits.getdata` to bypass the previous steps."
      ]
    },
    {
      "cell_type": "code",
      "execution_count": null,
      "metadata": {
        "id": "-ORiCheYqDAq"
      },
      "outputs": [],
      "source": [
        "image_data = fits.getdata(image_file)\n",
        "print(type(image_data))\n",
        "print(image_data.shape)"
      ]
    },
    {
      "cell_type": "markdown",
      "metadata": {
        "id": "kIZ_aykfqDAq"
      },
      "source": [
        "If you do need to examine the header, you can still access both in one single call:"
      ]
    },
    {
      "cell_type": "code",
      "execution_count": null,
      "metadata": {
        "id": "x_gIFaE7qDAq"
      },
      "outputs": [],
      "source": [
        "image_data, image_header = fits.getdata(image_file, header=True)\n",
        "print(type(image_data))\n",
        "print(image_data.shape)\n",
        "print(image_header[\"DATE-OBS\"])"
      ]
    },
    {
      "cell_type": "markdown",
      "metadata": {
        "id": "Hh51WlZUqDAq"
      },
      "source": [
        "## 3.2 Viewing the image data and getting basic statistics"
      ]
    },
    {
      "cell_type": "code",
      "execution_count": null,
      "metadata": {
        "id": "6X-oYlq8qDAq"
      },
      "outputs": [],
      "source": [
        "plt.imshow(image_data, cmap='gray')\n",
        "plt.colorbar()\n",
        "\n",
        "# To see more color maps\n",
        "# http://wiki.scipy.org/Cookbook/Matplotlib/Show_colormaps"
      ]
    },
    {
      "cell_type": "markdown",
      "metadata": {
        "id": "-XEouDABqDAr"
      },
      "source": [
        "Let's get some basic statistics about our image:"
      ]
    },
    {
      "cell_type": "code",
      "execution_count": null,
      "metadata": {
        "id": "sEb5QQiNqDAr"
      },
      "outputs": [],
      "source": [
        "print('Min:', np.min(image_data))\n",
        "print('Max:', np.max(image_data))\n",
        "print('Mean:', np.mean(image_data))\n",
        "print('Stdev:', np.std(image_data))"
      ]
    },
    {
      "cell_type": "markdown",
      "metadata": {
        "id": "8d3B4NTlqDAr"
      },
      "source": [
        "### 3.2.1 Adding astronomical coordinates with WCS"
      ]
    },
    {
      "cell_type": "markdown",
      "metadata": {
        "id": "F617q8JfqDAr"
      },
      "source": [
        "FITS image files typically come with information in their headers about the coordinates of the image following he World Coordinate System (WCS) standards (see https://fits.gsfc.nasa.gov/fits_wcs.html). Astropy knows how to handle this information with the `astropy.wcs` sub-package. To use it we first import the necessary packages:"
      ]
    },
    {
      "cell_type": "code",
      "execution_count": null,
      "metadata": {
        "id": "zcfKFwqpqDAr"
      },
      "outputs": [],
      "source": [
        "from astropy.wcs import WCS"
      ]
    },
    {
      "cell_type": "markdown",
      "metadata": {
        "id": "qSkrnm1bqDAr"
      },
      "source": [
        "To make use of this information, we need to extract it from the header:"
      ]
    },
    {
      "cell_type": "code",
      "execution_count": null,
      "metadata": {
        "id": "rNDOa3ksqDAr"
      },
      "outputs": [],
      "source": [
        "wcs = WCS(image_header)"
      ]
    },
    {
      "cell_type": "markdown",
      "metadata": {
        "id": "PHSvr8b9qDAr"
      },
      "source": [
        "Finally, we can make a figure that uses the WCS information to adjust the projection of the image:"
      ]
    },
    {
      "cell_type": "code",
      "execution_count": null,
      "metadata": {
        "id": "0uJdgUQCqDAs"
      },
      "outputs": [],
      "source": [
        "fig, ax = plt.subplots(nrows=1, ncols=1, subplot_kw={'projection':wcs})\n",
        "\n",
        "ax.imshow(image_data, origin=\"lower\", cmap=\"gray\")\n",
        "\n",
        "ax.set_xlabel('RA')\n",
        "ax.set_ylabel('Dec')"
      ]
    },
    {
      "cell_type": "markdown",
      "metadata": {
        "id": "R_sInc2YqDAs"
      },
      "source": [
        "### 3.2.2 Plotting a histogram"
      ]
    },
    {
      "cell_type": "markdown",
      "metadata": {
        "id": "EODQI6_3qDAs"
      },
      "source": [
        "To make a histogram with `matplotlib.pyplot.hist()`, we'll need to cast the data from a 2-D array to something one dimensional."
      ]
    },
    {
      "cell_type": "markdown",
      "metadata": {
        "id": "K7IuHnP_qDAs"
      },
      "source": [
        "In this case, let's use the `ndarray.flatten()` to return a 1-D numpy array."
      ]
    },
    {
      "cell_type": "code",
      "execution_count": null,
      "metadata": {
        "id": "oqiTqow2qDAs"
      },
      "outputs": [],
      "source": [
        "print(type(image_data.flatten()))\n",
        "print(image_data.flatten().shape)"
      ]
    },
    {
      "cell_type": "code",
      "execution_count": null,
      "metadata": {
        "id": "2REo2sEvqDAs"
      },
      "outputs": [],
      "source": [
        "histogram = plt.hist(image_data.flatten(), bins='auto')"
      ]
    },
    {
      "cell_type": "markdown",
      "metadata": {
        "id": "FdJBzDHSqDAs"
      },
      "source": [
        "### 3.2.3 Displaying the image with a logarithmic scale"
      ]
    },
    {
      "cell_type": "markdown",
      "metadata": {
        "id": "UU8xmThXqDAt"
      },
      "source": [
        "What if we want to use a logarithmic color scale? To do so, we'll need to load the `LogNorm` object from `matplotlib`."
      ]
    },
    {
      "cell_type": "code",
      "execution_count": null,
      "metadata": {
        "id": "IGXYgKk5qDAt"
      },
      "outputs": [],
      "source": [
        "from matplotlib.colors import LogNorm"
      ]
    },
    {
      "cell_type": "code",
      "execution_count": null,
      "metadata": {
        "id": "7GR7sY0YqDAt"
      },
      "outputs": [],
      "source": [
        "plt.imshow(image_data, cmap='gray', norm=LogNorm())\n",
        "\n",
        "# I chose the tick marks based on the histogram above\n",
        "cbar = plt.colorbar(ticks=[5.e3,1.e4,2.e4])\n",
        "cbar.ax.set_yticklabels(['5,000','10,000','20,000'])"
      ]
    },
    {
      "cell_type": "markdown",
      "metadata": {
        "id": "xGxh6D35qDAt"
      },
      "source": [
        "### 3.2.4 Astropy visualization tools"
      ]
    },
    {
      "cell_type": "markdown",
      "metadata": {
        "id": "rZauoFQiqDAt"
      },
      "source": [
        "Astropy also provides a wider range of tools for stretching images. You can find these in the `astropy.visualization` sub-package. For example, we can use a stretch based on the sinh function:"
      ]
    },
    {
      "cell_type": "code",
      "execution_count": null,
      "metadata": {
        "id": "vI5xx4PwqDAt"
      },
      "outputs": [],
      "source": [
        "from astropy.visualization import SinhStretch, ImageNormalize, MinMaxInterval"
      ]
    },
    {
      "cell_type": "code",
      "execution_count": null,
      "metadata": {
        "id": "241a1xthqDAt"
      },
      "outputs": [],
      "source": [
        "stretch = ImageNormalize(image_data, interval=MinMaxInterval(), stretch=SinhStretch())\n",
        "\n",
        "plt.imshow(image_data, cmap='gray', norm=stretch)"
      ]
    },
    {
      "cell_type": "markdown",
      "metadata": {
        "id": "Qh43ZyT-qDAt"
      },
      "source": [
        "You can go to the Astropy documentation for `astropy.visualization` to find many more stretches!"
      ]
    },
    {
      "cell_type": "markdown",
      "metadata": {
        "id": "Ns45kmUnqDAt"
      },
      "source": [
        "## 3.3 Basic image math: image stacking"
      ]
    },
    {
      "cell_type": "markdown",
      "metadata": {
        "id": "pjh_4d3sqDAu"
      },
      "source": [
        "You can also perform math with the image data like any other numpy array.  In this particular example, we'll stack several images of M13 taken with a ~10'' telescope."
      ]
    },
    {
      "cell_type": "markdown",
      "metadata": {
        "id": "RneaNgKuqDAu"
      },
      "source": [
        "Let's start by opening a series of FITS files and store the data in a list, which we've named `image_concat`."
      ]
    },
    {
      "cell_type": "code",
      "execution_count": null,
      "metadata": {
        "id": "yqv_mCHpqDAu"
      },
      "outputs": [],
      "source": [
        "base_url = 'http://data.astropy.org/tutorials/FITS-images/M13_blue_{0:04d}.fits'\n",
        "\n",
        "image_list = []\n",
        "for n in range(1, 5+1):\n",
        "    image_list.append(download_file(base_url.format(n), cache=True))\n",
        "\n",
        "image_concat = [fits.getdata(image) for image in image_list]"
      ]
    },
    {
      "cell_type": "markdown",
      "metadata": {
        "id": "6tHFgOdrqDAu"
      },
      "source": [
        "Now we'll stack the images by summing the concatenated list."
      ]
    },
    {
      "cell_type": "code",
      "execution_count": null,
      "metadata": {
        "id": "ogc1yHckqDAu"
      },
      "outputs": [],
      "source": [
        "# The long way\n",
        "final_image = np.zeros(shape=image_concat[0].shape)\n",
        "\n",
        "for image in image_concat:\n",
        "    final_image += image\n",
        "\n",
        "# The short way\n",
        "# final_image = np.sum(image_concat, axis=0)"
      ]
    },
    {
      "cell_type": "markdown",
      "metadata": {
        "id": "CeYR82daqDAu"
      },
      "source": [
        "We're going to show the image, but need to decide on the best stretch. To do so let's plot a histogram of the data."
      ]
    },
    {
      "cell_type": "code",
      "execution_count": null,
      "metadata": {
        "id": "2gZ5W6lmqDAu"
      },
      "outputs": [],
      "source": [
        "image_hist = plt.hist(final_image.flatten(), bins='auto')"
      ]
    },
    {
      "cell_type": "markdown",
      "metadata": {
        "id": "7MaFXzE-qDAu"
      },
      "source": [
        "We'll use the keywords `vmin` and `vmax` to set limits on the color scaling for `imshow`."
      ]
    },
    {
      "cell_type": "code",
      "execution_count": null,
      "metadata": {
        "id": "GwE3cSTAqDAu"
      },
      "outputs": [],
      "source": [
        "plt.imshow(final_image, cmap='gray', vmin=2E3, vmax=3E3)\n",
        "plt.colorbar()"
      ]
    },
    {
      "cell_type": "markdown",
      "metadata": {
        "id": "6OVvCLaTqDAv"
      },
      "source": [
        "## 3.4 Image slicing (zooming)"
      ]
    },
    {
      "cell_type": "markdown",
      "metadata": {
        "id": "GwckNjGfqDAv"
      },
      "source": [
        "We are pretty far zoomed out from the object in the above image. We can create a sub-image to try and look at it zoomed-in. Looks like the object goes from about 500 to 800 in the x direction, and 400 to 700 in the y direction. We can create a sub-image to zoom in on that area:"
      ]
    },
    {
      "cell_type": "code",
      "execution_count": null,
      "metadata": {
        "id": "rWNWlmdiqDAv"
      },
      "outputs": [],
      "source": [
        "sub_image = final_image[400:700,500:800]"
      ]
    },
    {
      "cell_type": "markdown",
      "metadata": {
        "id": "Kx_KuB2LqDAv"
      },
      "source": [
        "Notice how the y-direction comes first? This is a quirk of Python/Numpy. Now make a plot to see what we did:"
      ]
    },
    {
      "cell_type": "code",
      "execution_count": null,
      "metadata": {
        "id": "BZg5Q5SyqDAv"
      },
      "outputs": [],
      "source": [
        "plt.imshow(sub_image, cmap='gray', vmin=2E3, vmax=3E3)\n",
        "plt.colorbar()"
      ]
    },
    {
      "cell_type": "markdown",
      "metadata": {
        "id": "FeaCFwH4qDAv"
      },
      "source": [
        "## 3.5 Writing image data to a FITS file"
      ]
    },
    {
      "cell_type": "markdown",
      "metadata": {
        "id": "eYWp_8yKqDAv"
      },
      "source": [
        "We can easily do this with the `writeto()` method."
      ]
    },
    {
      "cell_type": "markdown",
      "metadata": {
        "id": "L239h_XeqDAv"
      },
      "source": [
        "Warning: you'll receive an error if the file you are trying to write already exists.  That's why we've set `overwrite=True`."
      ]
    },
    {
      "cell_type": "code",
      "execution_count": null,
      "metadata": {
        "id": "7jfEqom9qDAv"
      },
      "outputs": [],
      "source": [
        "outfile = 'stacked_M13_blue.fits'\n",
        "\n",
        "hdu = fits.PrimaryHDU(final_image)\n",
        "hdu.writeto(outfile, overwrite=True)"
      ]
    },
    {
      "cell_type": "markdown",
      "metadata": {
        "id": "ez_qC-AGqDAw"
      },
      "source": [
        "## Exercises"
      ]
    },
    {
      "cell_type": "markdown",
      "metadata": {
        "id": "Y5DUcknlqDAw"
      },
      "source": [
        "Go to this webpage, https://bulk.cv.nrao.edu/almadata/lp/DSHARP/images/, and download one of the files ending in _continuum.fits. Read it in with Astropy, and make a plot of the image. Make sure you grab the header when you read in the data! You'll need it later."
      ]
    },
    {
      "cell_type": "code",
      "execution_count": null,
      "metadata": {
        "id": "4YoOyckAqDAw"
      },
      "outputs": [],
      "source": [
        ""
      ]
    },
    {
      "cell_type": "markdown",
      "metadata": {
        "id": "MJDO5PC8qDAw"
      },
      "source": [
        "That may not look like much. Try changing the image to be shown in a different stretch. Try applying one of the stretches from `astropy.visualization` to the image. Look any different? Why? Can you find one that shows all of the features in the image nicely? You can also change the colormap of the image. Go to this webpage, https://matplotlib.org/3.1.0/tutorials/colors/colormaps.html, and pick a different colormap to show the image in."
      ]
    },
    {
      "cell_type": "code",
      "execution_count": null,
      "metadata": {
        "id": "dPRTxIIMqDAw"
      },
      "outputs": [],
      "source": [
        ""
      ]
    },
    {
      "cell_type": "markdown",
      "metadata": {
        "id": "pHY6WgTbqDAw"
      },
      "source": [
        "You can zoom in on the image by appropriately slicing the image using the image_data[xmin:xmax,ymin:ymax] syntax. Use this to zoom in on the object at the center of the image in a new plot. Adjust it until it looks good. Notice anything?"
      ]
    },
    {
      "cell_type": "code",
      "execution_count": null,
      "metadata": {
        "id": "AifN1-aXqDAw"
      },
      "outputs": [],
      "source": [
        ""
      ]
    },
    {
      "cell_type": "markdown",
      "metadata": {
        "id": "hd0Zv935qDAw"
      },
      "source": [
        "Now, repeat these steps on a different _continuum image from the webpage above. Adjust the zoom and normalization until the image looks good. Does this object look the same as the one you just played with?"
      ]
    },
    {
      "cell_type": "code",
      "execution_count": null,
      "metadata": {
        "id": "W8WzsKyeqDAw"
      },
      "outputs": [],
      "source": [
        ""
      ]
    },
    {
      "cell_type": "markdown",
      "metadata": {
        "id": "fKtN2WQSqDAw"
      },
      "source": [
        "Now lets look at the header. What was the date of the observation?"
      ]
    },
    {
      "cell_type": "code",
      "execution_count": null,
      "metadata": {
        "id": "T4YezNX-qDAw"
      },
      "outputs": [],
      "source": [
        ""
      ]
    },
    {
      "cell_type": "markdown",
      "metadata": {
        "id": "4Ak3aOckqDAw"
      },
      "source": [
        "Change the date/time of the observation to something else, and save the file as \"new_file.fits\"."
      ]
    },
    {
      "cell_type": "code",
      "execution_count": null,
      "metadata": {
        "id": "YwU0TPeYqDAx"
      },
      "outputs": [],
      "source": [
        ""
      ]
    },
    {
      "cell_type": "markdown",
      "metadata": {
        "id": "FNYcq9SnqDAx"
      },
      "source": [
        "CHALLENGE! Matplotlib has a feature called Patches, which allow you to add shapes to your plot. Look up `matplotlib.patches.Ellipse` and try to generate an ellipse to put on your plot with `ax.add_artist`. Can you make the ellipse match the shape of one of the dark rings in the image?"
      ]
    },
    {
      "cell_type": "code",
      "execution_count": null,
      "metadata": {
        "id": "n9nlYf9FqDAx"
      },
      "outputs": [],
      "source": [
        ""
      ]
    },
    {
      "cell_type": "markdown",
      "metadata": {
        "id": "aHV_kGB1qDAx"
      },
      "source": [
        "Based on the height and width of the ellipse, how big is the dark ring that you just matched with the ellipse? (Hint: 1 AU is equal to 1 arcsecond at 1 pc, and these sources are typically at 140 pc. You can find the pixel size in radians in the Header)."
      ]
    },
    {
      "cell_type": "code",
      "execution_count": null,
      "metadata": {
        "id": "RxF2gKBUqDAx"
      },
      "outputs": [],
      "source": [
        ""
      ]
    },
    {
      "cell_type": "markdown",
      "metadata": {
        "id": "aPk5Hn8_qDAx"
      },
      "source": [
        "## Additional Material"
      ]
    },
    {
      "cell_type": "markdown",
      "metadata": {
        "id": "F2S9k_3lqDAx"
      },
      "source": [
        "Astropy has a number of other features, and plenty of tutorials to go through. You can find all of this material at:\n",
        "- Astropy: https://www.astropy.org\n",
        "- Documentation: http://docs.astropy.org/en/stable/index.html\n",
        "- Tutorials: http://learn.astropy.org/tutorials.html"
      ]
    }
  ],
  "metadata": {
    "astropy-tutorials": {
      "author": "Lia R. Corrales <lia@astro.columbia.edu>",
      "date": "January 2014",
      "description": "Demonstrates use of astropy.utils.data to download data; astropy.io.fits to open the file; matplotlib to view the image with different color scales and stretches and to make histrograms. Also includes method for simple image stacking.",
      "link_name": "Viewing and manipulating FITS images",
      "name": "",
      "published": true
    },
    "colab": {
      "name": "Section_3_Astropy_images.ipynb",
      "provenance": []
    },
    "kernelspec": {
      "display_name": "Python 3",
      "language": "python",
      "name": "python3"
    },
    "language_info": {
      "codemirror_mode": {
        "name": "ipython",
        "version": 3
      },
      "file_extension": ".py",
      "mimetype": "text/x-python",
      "name": "python",
      "nbconvert_exporter": "python",
      "pygments_lexer": "ipython3",
      "version": "3.8.5"
    }
  },
  "nbformat": 4,
  "nbformat_minor": 0
}