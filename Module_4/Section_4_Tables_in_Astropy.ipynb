{
  "cells": [
    {
      "cell_type": "markdown",
      "metadata": {
        "id": "cNSukWACqF7L"
      },
      "source": [
        "# Section 4 Viewing and manipulating data from FITS tables\n",
        "\n",
        "## Authors\n",
        "Originally written by Lia Corrales, edited by Patrick Sheehan for the CIERA HS Summer Program\n",
        "\n",
        "## Keywords\n",
        "table, file input/output, matplotlib, FITS table\n",
        "\n",
        "## Summary\n",
        "\n",
        "This tutorial demonstrates the use of `astropy.utils.data` to download a data file, then uses `astropy.io.fits` and `astropy.table` to open the file. Lastly, we'll use `matplotlib` to visualize the data."
      ]
    },
    {
      "cell_type": "code",
      "execution_count": null,
      "metadata": {
        "id": "T6uB0KmiqF7R"
      },
      "outputs": [],
      "source": [
        "import numpy as np\n",
        "from astropy.io import fits\n",
        "from astropy.table import Table\n",
        "from matplotlib.colors import LogNorm\n",
        "\n",
        "# Set up matplotlib\n",
        "import matplotlib.pyplot as plt\n",
        "%matplotlib inline"
      ]
    },
    {
      "cell_type": "markdown",
      "metadata": {
        "id": "t339RqoXqF7S"
      },
      "source": [
        "The following line is needed to download the example FITS files used in this tutorial."
      ]
    },
    {
      "cell_type": "code",
      "execution_count": null,
      "metadata": {
        "id": "u9jKoBJZqF7S"
      },
      "outputs": [],
      "source": [
        "from astropy.utils.data import download_file"
      ]
    },
    {
      "cell_type": "markdown",
      "metadata": {
        "id": "-42GjuMIqF7S"
      },
      "source": [
        "FITS files often contain large amounts of multi-dimensional data and tables.  \n",
        "\n",
        "In this particular example, we'll open a FITS file from a Chandra observation of the Galactic Center.  The file contains a list of events with x and y coordinates, energy, and various other pieces of information."
      ]
    },
    {
      "cell_type": "code",
      "execution_count": null,
      "metadata": {
        "id": "pnDdAgPwqF7T"
      },
      "outputs": [],
      "source": [
        "event_filename = download_file('http://data.astropy.org/tutorials/FITS-tables/chandra_events.fits', \n",
        "                               cache=True)"
      ]
    },
    {
      "cell_type": "markdown",
      "metadata": {
        "id": "PLFYkGRgqF7T"
      },
      "source": [
        "## 4.1 Opening the FITS file and viewing table contents"
      ]
    },
    {
      "cell_type": "markdown",
      "metadata": {
        "id": "-UgCIAVNqF7T"
      },
      "source": [
        "Since the file is big, let's open it with `memmap=True` to prevent RAM storage issues."
      ]
    },
    {
      "cell_type": "code",
      "execution_count": null,
      "metadata": {
        "id": "xRvKUlsJqF7U"
      },
      "outputs": [],
      "source": [
        "hdu_list = fits.open(event_filename, memmap=True)"
      ]
    },
    {
      "cell_type": "code",
      "execution_count": null,
      "metadata": {
        "id": "E1oGtwSAqF7U"
      },
      "outputs": [],
      "source": [
        "hdu_list.info()"
      ]
    },
    {
      "cell_type": "markdown",
      "metadata": {
        "id": "EOW0SfmRqF7V"
      },
      "source": [
        "In this case, we're interested in reading EVENTS, which contains information about each X-ray photon that hit the detector."
      ]
    },
    {
      "cell_type": "markdown",
      "metadata": {
        "id": "V8PtsH7fqF7V"
      },
      "source": [
        "To find out what information the table contains, let's print the column names."
      ]
    },
    {
      "cell_type": "code",
      "execution_count": null,
      "metadata": {
        "id": "KL8vB2MrqF7V"
      },
      "outputs": [],
      "source": [
        "print(hdu_list[1].columns)"
      ]
    },
    {
      "cell_type": "markdown",
      "metadata": {
        "id": "lVNqgaRgqF7V"
      },
      "source": [
        "Now we'll take this data and convert it into an [astropy table](http://docs.astropy.org/en/stable/table/). While it's possible to access FITS tables directly from the ``.data`` attribute, using [Table](http://docs.astropy.org/en/stable/api/astropy.table.Table.html#astropy.table.Table) tends to make a variety of common tasks more convenient."
      ]
    },
    {
      "cell_type": "code",
      "execution_count": null,
      "metadata": {
        "id": "nmspMPF3qF7V"
      },
      "outputs": [],
      "source": [
        "evt_data = Table(hdu_list[1].data)"
      ]
    },
    {
      "cell_type": "markdown",
      "metadata": {
        "id": "egqpxX--qF7W"
      },
      "source": [
        "For example, a preview of the table is easily viewed by simply running a cell with the table as the last line:"
      ]
    },
    {
      "cell_type": "code",
      "execution_count": null,
      "metadata": {
        "id": "08FVrEJxqF7W"
      },
      "outputs": [],
      "source": [
        "evt_data"
      ]
    },
    {
      "cell_type": "markdown",
      "metadata": {
        "id": "gmKa9U-lqF7W"
      },
      "source": [
        "We can extract data from the table by referencing the column name. Let's try making a histogram for the energy of each photon, which will give us a sense for the spectrum (folded with the detector's efficiency)."
      ]
    },
    {
      "cell_type": "code",
      "execution_count": null,
      "metadata": {
        "id": "YgItLUcNqF7W"
      },
      "outputs": [],
      "source": [
        "energy_hist = plt.hist(evt_data['energy'], bins='auto')"
      ]
    },
    {
      "cell_type": "markdown",
      "metadata": {
        "id": "pOfbooOwqF7W"
      },
      "source": [
        "## 4.2 Making a 2-D histogram with some table data"
      ]
    },
    {
      "cell_type": "markdown",
      "metadata": {
        "id": "P7vZhZmgqF7W"
      },
      "source": [
        "We'll make an image by binning the x and y coordinates of the events into a 2-D histogram."
      ]
    },
    {
      "cell_type": "markdown",
      "metadata": {
        "id": "U-L2JRh8qF7W"
      },
      "source": [
        "This particular observation spans five CCD chips.  First, we determine the events that only fell on the main (ACIS-I) chips, which have number ids 0, 1, 2, and 3."
      ]
    },
    {
      "cell_type": "code",
      "execution_count": null,
      "metadata": {
        "id": "Z5UDhyTmqF7X"
      },
      "outputs": [],
      "source": [
        "ii = np.in1d(evt_data['ccd_id'], [0, 1, 2, 3])\n",
        "np.sum(ii)"
      ]
    },
    {
      "cell_type": "markdown",
      "metadata": {
        "id": "YWEP_lYrqF7X"
      },
      "source": [
        "### 4.2.1 Method 1: Use numpy to make a 2-D histogram and imshow to display it"
      ]
    },
    {
      "cell_type": "markdown",
      "metadata": {
        "id": "o_MzPB5GqF7X"
      },
      "source": [
        "This method allows us to create an image without stretching:"
      ]
    },
    {
      "cell_type": "code",
      "execution_count": null,
      "metadata": {
        "id": "HNWUN0q1qF7X"
      },
      "outputs": [],
      "source": [
        "NBINS = (100,100)\n",
        "\n",
        "img_zero, yedges, xedges = np.histogram2d(evt_data['x'][ii], evt_data['y'][ii], NBINS)\n",
        "\n",
        "extent = [xedges[0], xedges[-1], yedges[0], yedges[-1]]\n",
        "\n",
        "plt.imshow(img_zero, extent=extent, interpolation='nearest', cmap='gist_yarg', origin='lower')\n",
        "\n",
        "plt.xlabel('x')\n",
        "plt.ylabel('y')\n",
        "\n",
        "# To see more color maps\n",
        "# http://wiki.scipy.org/Cookbook/Matplotlib/Show_colormaps"
      ]
    },
    {
      "cell_type": "markdown",
      "metadata": {
        "id": "zJ_ma-qAqF7X"
      },
      "source": [
        "### 4.2.2 Method 2: Use hist2d with a log-normal color scheme"
      ]
    },
    {
      "cell_type": "code",
      "execution_count": null,
      "metadata": {
        "id": "50DFQSgfqF7Y"
      },
      "outputs": [],
      "source": [
        "NBINS = (100,100)\n",
        "img_zero_mpl = plt.hist2d(evt_data['x'][ii], evt_data['y'][ii], NBINS, \n",
        "                          cmap='viridis', norm=LogNorm())\n",
        "\n",
        "cbar = plt.colorbar(ticks=[1.0,3.0,6.0])\n",
        "cbar.ax.set_yticklabels(['1','3','6'])\n",
        "\n",
        "plt.xlabel('x')\n",
        "plt.ylabel('y')"
      ]
    },
    {
      "cell_type": "markdown",
      "metadata": {
        "id": "1Gw5uvaZqF7Y"
      },
      "source": [
        "## 4.3 Close the FITS file"
      ]
    },
    {
      "cell_type": "markdown",
      "metadata": {
        "id": "jBmjm4PpqF7Y"
      },
      "source": [
        "When you're done using a FITS file, it's often a good idea to close it.  That way you can be sure it won't continue using up excess memory or file handles on your computer.  (This happens automatically when you close Python, but you never know how long that might be...)"
      ]
    },
    {
      "cell_type": "code",
      "execution_count": null,
      "metadata": {
        "id": "MlOQfwx-qF7Y"
      },
      "outputs": [],
      "source": [
        "hdu_list.close()"
      ]
    },
    {
      "cell_type": "markdown",
      "metadata": {
        "id": "ZXXWNsJrqF7Y"
      },
      "source": [
        "## Exercises"
      ]
    },
    {
      "cell_type": "markdown",
      "metadata": {
        "id": "ck9na_upqF7Y"
      },
      "source": [
        "Make a scatter plot of the same data you histogrammed above.  The [plt.scatter](http://matplotlib.org/api/pyplot_api.html#matplotlib.pyplot.scatter) function is your friend for this.  What are the pros and cons of doing it this way?"
      ]
    },
    {
      "cell_type": "code",
      "execution_count": null,
      "metadata": {
        "id": "awuZ7bg2qF7Y"
      },
      "outputs": [],
      "source": [
        ""
      ]
    },
    {
      "cell_type": "markdown",
      "metadata": {
        "id": "sVSOtnbLqF7Y"
      },
      "source": [
        "Try the same with the [plt.hexbin](http://matplotlib.org/api/pyplot_api.html#matplotlib.pyplot.hexbin) plotting function. Which do you think looks better for this kind of data?"
      ]
    },
    {
      "cell_type": "code",
      "execution_count": null,
      "metadata": {
        "id": "CShdZiinqF7Y"
      },
      "outputs": [],
      "source": [
        ""
      ]
    },
    {
      "cell_type": "markdown",
      "metadata": {
        "id": "2ACpngS5qF7Y"
      },
      "source": [
        "Choose an energy range to make a slice of the FITS table, then plot it. How does the image change with different energy ranges?"
      ]
    },
    {
      "cell_type": "code",
      "execution_count": null,
      "metadata": {
        "id": "a_mRJGaDqF7Z"
      },
      "outputs": [],
      "source": [
        ""
      ]
    },
    {
      "cell_type": "markdown",
      "metadata": {
        "id": "2gOdT3y8qF7Z"
      },
      "source": [
        "## Additional Material"
      ]
    },
    {
      "cell_type": "markdown",
      "metadata": {
        "id": "cqRMfBPvqF7Z"
      },
      "source": [
        "Astropy has a number of other features, and plenty of tutorials to go through. You can find all of this material at:\n",
        "- Astropy: https://www.astropy.org\n",
        "- Documentation: http://docs.astropy.org/en/stable/index.html\n",
        "- Tutorials: http://learn.astropy.org/tutorials.html"
      ]
    }
  ],
  "metadata": {
    "astropy-tutorials": {
      "author": "Lia R. Corrales <lia@astro.columbia.edu>",
      "date": "January 2014",
      "description": "astropy.utils.data to download the file, astropy.io.fits to open and view the file, matplotlib for making both 1D and 2D histograms of the data.",
      "link_name": "Viewing and manipulating data from FITS tables",
      "name": "",
      "published": true
    },
    "colab": {
      "name": "Astropy-table.ipynb",
      "provenance": []
    },
    "kernelspec": {
      "display_name": "Python 3",
      "language": "python",
      "name": "python3"
    },
    "language_info": {
      "codemirror_mode": {
        "name": "ipython",
        "version": 3
      },
      "file_extension": ".py",
      "mimetype": "text/x-python",
      "name": "python",
      "nbconvert_exporter": "python",
      "pygments_lexer": "ipython3",
      "version": "3.8.5"
    }
  },
  "nbformat": 4,
  "nbformat_minor": 0
}