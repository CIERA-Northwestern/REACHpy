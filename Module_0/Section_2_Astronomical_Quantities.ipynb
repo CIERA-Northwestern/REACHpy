{
  "nbformat": 4,
  "nbformat_minor": 0,
  "metadata": {
    "colab": {
      "name": "Section 2 Astronomical Quantities.ipynb",
      "provenance": [],
      "authorship_tag": "ABX9TyMT/bKPEst8PXXcr/vpTpur"
    },
    "kernelspec": {
      "name": "python3",
      "display_name": "Python 3"
    },
    "language_info": {
      "name": "python"
    }
  },
  "cells": [
    {
      "cell_type": "markdown",
      "source": [
        "# Section 2: Useful astronomical units and conversion factors"
      ],
      "metadata": {
        "id": "FZP6OVpOr2T0"
      }
    },
    {
      "cell_type": "markdown",
      "source": [
        "## Fundamental quantities\n",
        "\n",
        "| Unit  | Value in scientific notation |  SI units of measurement  |\n",
        "| :----------------- | ----------------------------: | ---------------------:|\n",
        "| __G__ (Newton's constant of gravitation) | $6.6743\\times10^{-11}$ | $m^3\\,kg^{-1}\\,s^{-2}$ |\n",
        "| __c__ (speed of light) | $2.99\\times10^{8}$ | $m\\,s^{-1}$ |\n",
        "| Mass of Hydrogen | $1.67\\times10^{-27}$ | $kg$ |\n",
        "| Mass of Helium | $6.645\\times10^{-27}$ | $kg$ |\n",
        "|  |  |  |\n",
        "|  |  |  |"
      ],
      "metadata": {
        "id": "uWSLcq6RsCTA"
      }
    },
    {
      "cell_type": "markdown",
      "source": [
        "## Solar quantities\n",
        "\n",
        "| Quantity  | Value in scientific notation | SI units of measurement |\n",
        "| :-- | --: | --: |\n",
        "| _$M_{\\odot}$_ (Mass) | $1.989\\times10^{30}$ | $kg$ |\n",
        "| _$R_{\\odot}$_ (Radius) | $6.957\\times10^{8}$ | $m$ |\n",
        "| _$L_{\\odot}$_ (Luminosity)| $3.839\\times10^{26}$ | $W$ |"
      ],
      "metadata": {
        "id": "B7kmKi1r09zk"
      }
    },
    {
      "cell_type": "markdown",
      "source": [
        "## Planets of the Solar System\n",
        "\n",
        "| Planets | Orbital Period (seconds) | Semimajor Axis (meters) | Orbital velocities (m/s) |\n",
        "| :----------------- | -------: | -------: |  --: |\n",
        "| Mercury       | $7.603\\times10^6$  | $5.79\\times10^{10}$ | $4.74\\times10^4$ |\n",
        "| Venus       |  $1.941\\times10^7$ | $1.082\\times10^{11}$ | $3.5\\times10^4$ |\n",
        "| Earth       | $3.155\\times10^7$ | $1.496\\times10^{11}$ | $2.98\\times10^4$ |\n",
        "| Mars       | $5.936\\times10^7$ | $2.280\\times10^{11}$ | $2.41\\times10^4$ |\n",
        "| Jupiter       | $3.742\\times10^8$ | $7.785\\times10^{11}$ | $1.31\\times10^4$ |\n",
        "| Saturn       | $9.285\\times10^8$ | $1.432\\times10^{12}$ | $9.7\\times10^3$ |\n",
        "| Uranus       | $2.643\\times10^9$ | $2.867\\times10^{12}$ | $6.8\\times10^3$ |\n",
        "| Neptune       | $5.167\\times10^9$ | $4.515\\times10^{12}$ | $5.4\\times10^3$ |"
      ],
      "metadata": {
        "id": "5Iqxu1gssrC0"
      }
    },
    {
      "cell_type": "markdown",
      "source": [
        "## Julian moons\n",
        "\n",
        "| Julian Moons | Orbital Period (seconds) | Semimajor Axis (meters) |\n",
        "| :----------------- | -------: | -------: |\n",
        "| Io | $1.523\\times10^5$ | $4.218\\times10^{8}$ |\n",
        "| Europa | $3.046\\times10^5$ | $6.711\\times10^{8}$ |\n",
        "| Ganymede | $6.182\\times10^5$ | $1.070\\times10^{9}$ |\n",
        "| Callisto | $1.442\\times10^6$ | $1.883\\times10^{9}$ |"
      ],
      "metadata": {
        "id": "cYp-PPY1xc-g"
      }
    }
  ]
}
