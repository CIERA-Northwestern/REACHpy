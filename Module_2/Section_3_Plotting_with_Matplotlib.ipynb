{
  "cells": [
    {
      "cell_type": "markdown",
      "metadata": {
        "id": "ItRnxXe9KP4A"
      },
      "source": [
        "# Section 3: Plotting with Matplotlib\n",
        "\n",
        "## 3.1 Getting Started with Matplotlib\n",
        "\n",
        "Matplotlib is a powerful 2D plotting library built for Python, and the package of choice for many researchers. It's fairly intuitive and easy to get started, yet advanced enough to produce amazing, publication-quality figures. \n",
        "\n",
        "### 3.1.1 Basic Plotting with Matplotlib\n",
        "\n",
        "This lesson will cover the basics of plotting with matplotlib. \n",
        "Subsequent modules will introduce more capabilities, but if you're itching for more, refer to the resources at the end of this page. \n",
        "Also, you might want to print out this handy __[cheat sheet](https://s3.amazonaws.com/assets.datacamp.com/blog_assets/Python_Matplotlib_Cheat_Sheet.pdf)__ from Data Camp and keep it at your desk as you learn.\n",
        "\n",
        "An important tip for learning matplotlib: when you need documentation on a particular matplotlib object, matplotlib's internal search function will often be much more helpful than a Google search.\n",
        "The internal search engine can be found on the right-hand side of the matplotlib __[website](https://matplotlib.org/)__.\n",
        "\n"
      ]
    },
    {
      "cell_type": "markdown",
      "metadata": {
        "id": "VZDxFAo5KP4A"
      },
      "source": [
        "In order to access the matplotlib tools, type the following in your notebook.\n",
        "\n",
        "```python\n",
        "import matplotlib.pyplot as plt    \n",
        "```\n",
        "The first line imports the pyplot module from matplotlib and says that we will refer to the pyplot as `plt`. This gives you access to all of pyplot's components, which can be called as `plt.functionname`.\n",
        "\n",
        "\n",
        "\n",
        "###  Example #1\n",
        "If you have a list of x and y values, it is easy to make a simple **line plot**. See the example in the cell below:\n",
        "\n",
        "\n",
        "\n"
      ]
    },
    {
      "cell_type": "markdown",
      "metadata": {
        "id": "XxgdF67uKP4A"
      },
      "source": [
        "```python\n",
        "import numpy as np\n",
        "import matplotlib.pyplot as plt     # import matplotlib\n",
        "x = np.array([1, 2, 3, 4])          # create array of x-values\n",
        "y = np.array([2, 4, 6, 8])          # create array of y-values\n",
        "plt.plot(x, y)                      # call the plotting function, preface with plt (as we imported Pyplot)\n",
        "```\n"
      ]
    },
    {
      "cell_type": "code",
      "execution_count": null,
      "metadata": {
        "id": "CRN866KzKP4A"
      },
      "outputs": [],
      "source": [
        "# Try the above code here."
      ]
    },
    {
      "cell_type": "markdown",
      "metadata": {
        "id": "R1PYLMJeKP4A"
      },
      "source": [
        "###  Example #2\n",
        "\n",
        "We can incorporate some of the tools from previous sections\n",
        "```python\n",
        "# Create some data\n",
        "x = np.arange(0,10,1)\n",
        "y = np.arange(0,20,2)\n",
        "plt.plot(x, y)\n",
        "```\n",
        "**Note that** by default, the plot function will connect the data points with lines, but won't show the data points.\n",
        "\n",
        "You can even plot multiple data sets in a single figure!\n",
        "\n",
        "```python\n",
        "z = np.square(x)\n",
        "plt.plot(x, y)\n",
        "plt.plot(x, z)\n",
        "```\n",
        "\n",
        "\n",
        "Now you try it!"
      ]
    },
    {
      "cell_type": "code",
      "execution_count": null,
      "metadata": {
        "id": "pKoT01ajKP4A"
      },
      "outputs": [],
      "source": [
        "# type and execute your code in this code cell\n",
        "x = np.arange(0,10,1)\n",
        "y = np.arange(0,20,2)\n",
        "z = np.square(x)\n",
        "\n",
        "plt.plot(x, y)\n",
        "plt.plot(x, z)\n",
        "# ...\n",
        "# ...\n"
      ]
    },
    {
      "cell_type": "markdown",
      "metadata": {
        "id": "uD3fKC2XKP4A"
      },
      "source": [
        "## 3.1.2 Customizing your plot\n",
        "\n",
        "### **Lines**\n",
        "\n",
        "When you include another plot, pyplot will automatically change the color of the line for you. But you can change the color, linewidth and linestyle.\n",
        "\n",
        "Line properties are controlled with optional keywords to the plot function, namely the commands `color`, `linestyle` and `linewidth`. The first two have required string arguments, and the third (linewidth) requires a numerical argument in multiples of the default linewidth (1).\n",
        "\n",
        "linestyle options:  ```'-' , '--' , '-.' , ':'``` \n",
        "\n",
        "color options: e.g., ```'red', 'green', 'yellow', 'blue', 'orange', 'cyan', 'magenta','black'```\n",
        "\n",
        "```python\n",
        "plt.plot(x, y, linewidth=3, linestyle=':', color='b') #  You can adjust many properties of the line\n",
        "```\n",
        "\n",
        "where ```'b'``` is short for 'blue'"
      ]
    },
    {
      "cell_type": "markdown",
      "metadata": {
        "id": "udnYRna7KP4A"
      },
      "source": [
        "### **Labels and titles**\n",
        "\n",
        "There are some useful pyplot functions that take arguments to enhance your figures.\n",
        "\n",
        "For instance, ```xlabel``` and ```ylabel``` set the labels for the x and y axes, respectively. The keyword ``title`` sets the title of the figure.\n",
        "\n",
        "```python\n",
        "plt.plot(x, y)\n",
        "\n",
        "# let's add axis labels\n",
        "plt.xlabel(\"x\")\n",
        "plt.ylabel(\"y\")\n",
        "\n",
        "# let's add a title\n",
        "plt.title(\"Title\")\n",
        "\n",
        "```\n",
        "\n",
        "### **Figure size**\n",
        "You can change the size of the figure by using `plt.figure(figsize=(width,height))`:\n",
        "\n",
        "```python\n",
        "plt.figure(figsize=(10,5))\n",
        "```\n",
        "This allows you to make your figure larger or smaller, as well as change the proportions of your image.\n",
        "\n",
        "### **Save your figure to a file**\n",
        "\n",
        "You can also save the plot to a file using the function ```savefig```.\n",
        "The resolution can be specified using the dots per inch optional argument (```dpi```).\n",
        "\n",
        "```python\n",
        "plt.plot(x,y)\n",
        "plt.savefig('thefigure.png', dpi=300)\n",
        "```\n",
        "The figure will be saved in your current directory.\n",
        "\n",
        "Your turn! Try customizing your plot below."
      ]
    },
    {
      "cell_type": "code",
      "execution_count": null,
      "metadata": {
        "id": "5NAoq1b2KP4A"
      },
      "outputs": [],
      "source": [
        "# type and execute your code in this code cell\n",
        "import matplotlib.pyplot as plt \n",
        "\n",
        "x = np.arange(0,10,1)\n",
        "y = np.arange(0,20,2)\n",
        "plt.xlabel(\"x\")\n",
        "plt.ylabel(\"y\")\n",
        "plt.title(\"x vs y\")\n",
        "plt.plot(x, y,linewidth=2, linestyle='-', color='b')\n",
        "# ...\n",
        "# ..."
      ]
    },
    {
      "cell_type": "markdown",
      "metadata": {
        "id": "YCsqpvjPKP4A"
      },
      "source": [
        "## 2.5.3 Other Types of Plots\n",
        "\n",
        "There are other useful types of plots.\n",
        "\n",
        "###  Scatter Plot\n",
        "\n",
        "We can use numpy arrays to generate arrays with random numbers.\n",
        "\n",
        "The below code generates 10 random floats from 0 to 1 and stores it as an array. Execute to see the numbers it generates. Execute it more than once and see what happens."
      ]
    },
    {
      "cell_type": "code",
      "execution_count": null,
      "metadata": {
        "id": "zIYH4IK3KP4A"
      },
      "outputs": [],
      "source": [
        "import numpy as np\n",
        "\n",
        "N = 10 # number of desired random floats. \n",
        "\n",
        "x = np.random.rand(N) # this numpy function creates an array of the given shape (N) \n",
        " #and populates it with random samples from a uniform distribution over [0, 1).\n",
        "\n",
        "print(x)"
      ]
    },
    {
      "cell_type": "markdown",
      "metadata": {
        "id": "GmuV5CLbKP4A"
      },
      "source": [
        "Now, we can use arrays of random numbers to generate scatter plots:"
      ]
    },
    {
      "cell_type": "code",
      "execution_count": null,
      "metadata": {
        "id": "MScs28x6KP4A"
      },
      "outputs": [],
      "source": [
        "import numpy as np\n",
        "import matplotlib.pyplot as plt \n",
        "\n",
        "N = 1000\n",
        "# create x and y arrays with 1000 random numbers sampled between 0 and 100\n",
        "x = np.random.rand(N)*100\n",
        "y = np.random.rand(N)*100\n",
        "plt.scatter(x, y) # alpha indicates transparency of each point\n",
        "plt.xlabel('x')\n",
        "plt.ylabel('y')\n",
        "plt.title('Scatter Plot')"
      ]
    },
    {
      "cell_type": "markdown",
      "metadata": {
        "id": "6ykDrUKAKP4A"
      },
      "source": [
        "We can further customize our scatter plot by assinging a color to each point:\n"
      ]
    },
    {
      "cell_type": "code",
      "execution_count": null,
      "metadata": {
        "id": "ZkJqHLS4KP4A"
      },
      "outputs": [],
      "source": [
        "N = 1000\n",
        "x = np.random.rand(N)*100\n",
        "y = np.random.rand(N)*100 \n",
        "\n",
        "plt.xlabel('x')\n",
        "plt.ylabel('y')\n",
        "plt.title('Scatter Plot with colors')\n",
        "\n",
        "# Create a random list of 1000 numbers from 0 to 1 that\n",
        "# matplotlib will map onto a color table\n",
        "colors = np.random.rand(N)\n",
        "\n",
        "# Randomly assign the size of each point\n",
        "area = (30*np.random.rand(N))**2\n",
        "\n",
        "# Use the alpha keyword to set the transparency\n",
        "plt.scatter(x, y, s=area, c=colors, alpha=0.5)"
      ]
    },
    {
      "cell_type": "markdown",
      "metadata": {
        "id": "RYY8wzdsKP4A"
      },
      "source": [
        "### Histogram\n",
        "\n",
        "Example is from the matplotlib library (https://matplotlib.org/stable/gallery/statistics/hist.html).\n",
        "\n",
        "To generate a 1D histogram we only need a single vector of numbers. In this example, we plot two histograms together\n",
        "```python\n",
        "N_points = 100000\n",
        "n_bins = 20\n",
        "\n",
        "# Generate a normal distribution (bell curve) centered at (x,y) = (0,5)\n",
        "x = np.random.randn(N_points)\n",
        "y = .4 * x + np.random.randn(100000) + 5\n",
        "\n",
        "plt.hist(x, bins=n_bins)\n",
        "plt.hist(y, bins=n_bins)\n",
        "\n",
        "```"
      ]
    },
    {
      "cell_type": "code",
      "execution_count": null,
      "metadata": {
        "id": "XZQtNkOrKP4A"
      },
      "outputs": [],
      "source": [
        "# Try the code in this cell"
      ]
    },
    {
      "cell_type": "markdown",
      "metadata": {
        "id": "xQBBOauNKP4A"
      },
      "source": [
        "## 2.5.4 Components of a 'good plot'\n",
        "\n",
        "Take a look at the figure below, which shows the anatomy of a figure. \n",
        "It's generally a good idea to include most of these components on every figure you make. \n",
        "The code and other supporting documents are available via GitHub at https://github.com/rougier/figure-anatomy. Copyright (c) 2016 Nicolas P. Rougier - MIT License). Check out the anatomy.py file to see exactly how to make this plot.\n",
        "\n",
        "![Elements of a good plot](https://github.com/mcstroh/REACHpy/blob/ideaspy_updates/Module_2/images/plot_anatomy.png?raw=1)\n"
      ]
    },
    {
      "cell_type": "markdown",
      "metadata": {
        "id": "dDKC-2d2KP4A"
      },
      "source": [
        "## 2.5.5 Mini Challenge\n",
        "\n",
        "Make a scatter and a linear plot in the same figure using `x` and `y` lists. \n",
        "\n",
        "For the linear plot, use color orange for the line, and use dotted line style. \n",
        "\n",
        "For the scatter plot, use a for loop to plot the data and use 20 times the x list values for the corresponding sizes of the points. Pick 6 different colors you like and give them to the 6 points in the scatter plot.\n",
        "\n",
        "Add x and y label as \"x label\" and \"y label\"."
      ]
    },
    {
      "cell_type": "code",
      "execution_count": null,
      "metadata": {
        "id": "Yvy3qLBxKP4A"
      },
      "outputs": [],
      "source": [
        "# Import matplotlib\n",
        "\n",
        "\n",
        "# Data for plotting. These are two arrays\n",
        "x=np.array([1, 2, 3, 4, 5, 6])\n",
        "y=np.array([2, 4, 6, 8, 10, 12])\n",
        "\n",
        "\n",
        "# Make an array that contains the colors with the valuable name cs\n",
        "\n",
        "\n",
        "# Plot the line\n",
        "\n",
        "\n",
        "# Plot the points using scatter plot. \n",
        "# Refer to the earlier scatter plot example for how to customize\n",
        "# the size and color of each point\n"
      ]
    },
    {
      "cell_type": "markdown",
      "metadata": {
        "id": "Tm-bueXZKP4A"
      },
      "source": [
        "## Bonus \n",
        "\n",
        "Generate sin and cosine curves between 0 and 2$\\pi$.\n",
        "- Plot the sine curve in orange and the cosine curve in blue. \n",
        "- Use line width 2.\n",
        "- Add a legend to the curves, with the sine curve as \"sine\" and cosine curve as \"cosine\". (Hint: look up matplotlib legend guide.)\n",
        "- Add x and y label as \"x label\" and \"y label\"."
      ]
    },
    {
      "cell_type": "code",
      "execution_count": null,
      "metadata": {
        "id": "__qvuDddKP4A"
      },
      "outputs": [],
      "source": [
        "# Plot your data here\n"
      ]
    },
    {
      "cell_type": "markdown",
      "metadata": {
        "id": "06x1shcLKP4A"
      },
      "source": [
        "\n",
        "\n",
        "<hr style=\"border:2px solid blue\"> </hr>\n",
        "\n",
        "\n",
        "# Learning More\n",
        "\n",
        "As you start using matplotlib to visualize your own scientific data, it's likely that at some point you may have a need to plot a colormap. A word of caution regarding choosing the right colormap for your data: it is strongly recommended that you stay away from using the rainbow colormap if at all possible, because it can greatly misrepresent your data (not to mention, it's especially problematic for people who are colorblind, because they have a hard time distinguishing between red and green). Refer to this a great post to learn more about choosing colormaps: https://matplotlib.org/users/colormaps.html\n",
        "\n",
        "To further explore the capabilities of matplotlib, check out these tutorials and resource galleries:\n",
        "\n",
        "Beginner Pyplot Tutorial: https://matplotlib.org/users/pyplot_tutorial.html (Links to an external site).\n",
        "\n",
        "Scipy's matplotlib tutorial: http://www.scipy-lectures.org/intro/matplotlib/matplotlib.html (Links to an external site). \n",
        "\n",
        "Examples by Type:  If you want to explore plots by type (e.g., pie charts, animations, 3D plots), here's where to look: https://matplotlib.org/examples/index.html (Links to an external site).\n",
        "\n",
        "Matplotlib Plot Gallery: Looking for inspiration? Check out this impressive gallery: https://matplotlib.org/gallery.html (Links to an external site).\n",
        "\n",
        "Creating Publication Quality Figures (tutorial by Jean-Baptiste Mouret): https://github.com/jbmouret/matplotlib_for_papers (Links to an external site).\n",
        "\n",
        "-----------------------\n",
        "\n",
        "# Takeaways\n",
        "\n",
        " - Matplotlib is an extremely powerful package for plotting data in Python.\n",
        " - With matplotlib, you can make high-quality, publication ready figures.\n",
        "\n",
        "\n",
        "\n"
      ]
    }
  ],
  "metadata": {
    "kernelspec": {
      "display_name": "Python 3",
      "language": "python",
      "name": "python3"
    },
    "language_info": {
      "codemirror_mode": {
        "name": "ipython",
        "version": 3
      },
      "file_extension": ".py",
      "mimetype": "text/x-python",
      "name": "python",
      "nbconvert_exporter": "python",
      "pygments_lexer": "ipython3",
      "version": "3.8.5"
    },
    "colab": {
      "provenance": []
    }
  },
  "nbformat": 4,
  "nbformat_minor": 0
}
