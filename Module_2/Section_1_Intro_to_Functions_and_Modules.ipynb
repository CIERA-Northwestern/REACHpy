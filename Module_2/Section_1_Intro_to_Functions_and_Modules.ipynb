{
  "cells": [
    {
      "cell_type": "markdown",
      "metadata": {
        "id": "1F3fUV95IU-Q"
      },
      "source": [
        "# Section 1 | Functions and Modules\n",
        "\n",
        "Functions allow you to write a reusable block of code. \n",
        "Modules are written and shared by other people. \n",
        "We will explore some common modules in this notebook.\n",
        "\n",
        "Python comes pre-packaged with many useful built-in functions and modules. \n",
        "These include tools for handling file input and output, performing operations on strings, and performing standard mathematical operations. \n",
        "One module you'll use frequently is the `math` module, which includes trigonometric functions, factorials, and logarithms. \n",
        "The module also contains special values such as pi and infinity.\n",
        "\n",
        "So what exactly is the difference between a function and a module?\n",
        "\n",
        "*  A **function** is a block of code that can be referenced and run from anywhere in your program.\n",
        "\n",
        "* A **module** is an existing file that contains a number of functions and other items. For instance, a module may support complex math, graphing or other features.\n",
        "\n",
        "As you continue through the course, you will use many useful functions and modules. \n",
        "Sometimes you need to define your own functions and modules to suit your specific needs, so we will show you how to accomplish that. \n",
        "To explore all the Python built-in functions, check out the documentation __[here](https://docs.python.org/3/library/functions.html)__.\n",
        "\n"
      ]
    },
    {
      "cell_type": "markdown",
      "metadata": {
        "id": "ffQEWYFqIU-Q"
      },
      "source": [
        "## 1.1 Built-in Functions\n",
        "Many useful functions are built into Python and can be used right away. Some common examples include\n",
        "\n",
        "* `max(x, y, z, ...)` : returns the maximum value of the numbers provided \n",
        "* `pow(x, y)` : returns $x^y$\n",
        "* `abs(x)` : returns the absolute value of a number\n",
        "* `float(x)` : converts a number to float\n",
        "                         \n",
        "Perhaps the most helpful function of all for a new programmer is the `help` function. \n",
        "You can request help on a specific module, keyword or topic using the following syntax:\n",
        "\n",
        "```python\n",
        "help(FUNCTION_NAME)\n",
        "```\n",
        "\n",
        "As an example, use the `help` function to learn the full capabilities of the pow function below.\n"
      ]
    },
    {
      "cell_type": "code",
      "execution_count": null,
      "metadata": {
        "ExecuteTime": {
          "end_time": "2021-05-27T17:36:16.001131Z",
          "start_time": "2021-05-27T17:36:15.996953Z"
        },
        "id": "DxQZZ4ECIU-Q"
      },
      "outputs": [],
      "source": [
        "# run this cell\n",
        "help(pow)"
      ]
    },
    {
      "cell_type": "markdown",
      "metadata": {
        "id": "QYZQK34QIU-Q"
      },
      "source": [
        "### 1.1.1 The pow() function "
      ]
    },
    {
      "cell_type": "markdown",
      "metadata": {
        "id": "zufLXWQnIU-Q"
      },
      "source": [
        "We're going to revisit the `pow` function. Here is a quick reminder of what it is:\n",
        "\n",
        "- `pow(x, y)` : returns $x^y$\n",
        "\n",
        "Try running the following cells below to see what happens if you don't provide the necessary arguments.\n"
      ]
    },
    {
      "cell_type": "code",
      "execution_count": null,
      "metadata": {
        "id": "BA0tBxA4IU-Q"
      },
      "outputs": [],
      "source": [
        "# What do you think will happen if the pow() function doesn't have the arguements properly set up? Write below\n"
      ]
    },
    {
      "cell_type": "code",
      "execution_count": null,
      "metadata": {
        "id": "-YNY8QTEIU-Q"
      },
      "outputs": [],
      "source": [
        "pow()"
      ]
    },
    {
      "cell_type": "code",
      "execution_count": null,
      "metadata": {
        "ExecuteTime": {
          "end_time": "2021-03-18T18:22:49.039169Z",
          "start_time": "2021-03-18T18:22:49.006739Z"
        },
        "id": "byv-mhe0IU-Q"
      },
      "outputs": [],
      "source": [
        "pow(4)"
      ]
    },
    {
      "cell_type": "code",
      "execution_count": null,
      "metadata": {
        "ExecuteTime": {
          "end_time": "2021-05-27T17:27:20.417313Z",
          "start_time": "2021-05-27T17:27:20.413275Z"
        },
        "id": "Fkw5BvSwIU-Q"
      },
      "outputs": [],
      "source": [
        "#Try the help function on pow() to see why exactly we got the errors we did!\n",
        "\n",
        "help(pow)"
      ]
    },
    {
      "cell_type": "markdown",
      "source": [
        "Now compute $2^2$, $2^3$, and $2^4$ using the `pow` function."
      ],
      "metadata": {
        "id": "v2qLaubApek-"
      }
    },
    {
      "cell_type": "code",
      "execution_count": null,
      "metadata": {
        "id": "55QuiVHnIU-Q"
      },
      "outputs": [],
      "source": [
        "# Use this cell for your calculations."
      ]
    },
    {
      "cell_type": "markdown",
      "metadata": {
        "id": "PZfYOaGEIU-Q"
      },
      "source": [
        "#### Pow( ) function recap \n",
        "In this example, we established the following:\n",
        "\n",
        "1) The arguments must be properly set up for a given built-in function.\n",
        "\n",
        "2) We can use the help fuction on built-in functions to see exactly what arguments are necessary.\n",
        "\n"
      ]
    },
    {
      "cell_type": "markdown",
      "metadata": {
        "id": "RT0ZsDrNIU-Q"
      },
      "source": [
        "### 1.1.2 The max() function\n",
        "We're going to revisit the `max` function. Here is a quick reminder of what it is:\n",
        "\n",
        "- max(x,y,z,...) : returns the maximum value of the provided numbers.\n",
        "\n",
        "Let's find the maximum number in a given list:\n",
        "\n",
        "```python\n",
        "my_list = [1,13,25,340,42,977]\n",
        "max_number = max(my_list)\n",
        "print('The maximum number in my list is', max_number)\n",
        "```\n"
      ]
    },
    {
      "cell_type": "code",
      "execution_count": null,
      "metadata": {
        "id": "3KJlCSGKIU-Q"
      },
      "outputs": [],
      "source": [
        "# Create your own list and print its maximum:"
      ]
    },
    {
      "cell_type": "markdown",
      "metadata": {
        "id": "1qUy_1X2IU-Q"
      },
      "source": [
        "## 1.2 Writing your own function\n",
        "To start defining a function we use `def` followed by the function name and keyword arguments:\n",
        "\n",
        "```python\n",
        "def double(x):\n",
        "    return 2*x\n",
        "```\n",
        "\n",
        "Here, the name of the function is `double`. This function takes the argument `x` and multiplies it by 2. So it returns 2*x. Note that everything that is part of this function is indented in a similar convention as for loops.\n",
        "\n",
        "We are going to walkthrough writing our own function by using the `pow` function as an example. Recall the definition of the `pow` function:\n",
        "\n",
        "* `pow(x,y)` : returns the value of the base number x to the power y. The result is equivalent to x**y (x raised to the y power)\n",
        "\n",
        "Now observe the similar function below."
      ]
    },
    {
      "cell_type": "code",
      "execution_count": null,
      "metadata": {
        "id": "2DME54PRIU-Q"
      },
      "outputs": [],
      "source": [
        "def power_function(x, y): # note the presence of a colon here!\n",
        "    result = x ** y\n",
        "    return result         # this is the output\n",
        "\n",
        "print(power_function(5,2))"
      ]
    },
    {
      "cell_type": "markdown",
      "metadata": {
        "id": "A3XmEb4oIU-Q"
      },
      "source": [
        "Your function can print information in addition to returning it. \n",
        "As an example, let's define a function which takes the list `my_list` as argument. \n",
        "First, it finds the maximum number in that list and then prints it. \n",
        "Finally, it takes the power of the maximum number:"
      ]
    },
    {
      "cell_type": "code",
      "execution_count": null,
      "metadata": {
        "id": "SCgY_WY2IU-Q"
      },
      "outputs": [],
      "source": [
        "def max_power_function(my_list,y):\n",
        "    max_number = max(my_list)              # find the maximum number in the list\n",
        "    print('maximum number is', max_number) # print the maximum number\n",
        "    result = max_number**y                 # take the power of the maximum number\n",
        "    return result\n",
        "\n",
        "max_power_function([1,2,3],2)"
      ]
    },
    {
      "cell_type": "markdown",
      "metadata": {
        "id": "F5uTPibsIU-Q"
      },
      "source": [
        "### 1.2.1 Functions and variables - using built-in functions\n",
        "\n",
        "You can store the function output to a variable with the following\n",
        "* variable_name = function_name(keyword_arguments...)\n",
        "\n",
        "Here is a more concrete example, using a built-in function:\n",
        "* answer = pow(4,2)\n",
        "\n",
        "What number do you think is saved in the variable \"answer\"?\n"
      ]
    },
    {
      "cell_type": "code",
      "execution_count": null,
      "metadata": {
        "id": "xNJrrWYyIU-Q"
      },
      "outputs": [],
      "source": [
        "# Write your guess here"
      ]
    },
    {
      "cell_type": "markdown",
      "source": [
        "Use the following cell to check if your guess was correct."
      ],
      "metadata": {
        "id": "IHjIWST6qmqZ"
      }
    },
    {
      "cell_type": "code",
      "execution_count": null,
      "metadata": {
        "id": "Cjc6iYv4IU-Q"
      },
      "outputs": [],
      "source": [
        "answer = pow(4,2)\n",
        "print(answer)"
      ]
    },
    {
      "cell_type": "markdown",
      "metadata": {
        "id": "Ct9V0pNaIU-Q"
      },
      "source": [
        "Let's write a function which takes two numbers `x1` and `x2`.\n",
        "First, the function will compute their powers (`x1**y1` and `x2**y2`), and then add them together:"
      ]
    },
    {
      "cell_type": "code",
      "execution_count": null,
      "metadata": {
        "id": "ilJ5rXJnIU-Q"
      },
      "outputs": [],
      "source": [
        "# your code below\n",
        "\n",
        "def power_add(x1, y1, x2, y2):\n",
        "    result1 = x1**y1\n",
        "    result2 = x2**y2\n",
        "    add = result1 + result2\n",
        "    return add\n",
        "\n",
        "#  it’s worth noting that the user cannot use the ‘add’ variable outside of the power_add function"
      ]
    },
    {
      "cell_type": "markdown",
      "source": [
        "What do you think will be the result from \n",
        "` power_add(2,4,3,2)`?\n"
      ],
      "metadata": {
        "id": "ZMQknJ4tReGs"
      }
    },
    {
      "cell_type": "code",
      "execution_count": null,
      "metadata": {
        "id": "n_d3s-gDIU-Q"
      },
      "outputs": [],
      "source": [
        "# Write your guess here."
      ]
    },
    {
      "cell_type": "markdown",
      "source": [
        "In the following cell, check to see if your guess was correct."
      ],
      "metadata": {
        "id": "2lfm44Rhq1H2"
      }
    },
    {
      "cell_type": "code",
      "source": [],
      "metadata": {
        "id": "dtPp7yQNq6R9"
      },
      "execution_count": null,
      "outputs": []
    },
    {
      "cell_type": "markdown",
      "metadata": {
        "id": "atLDiz_jIU-Q"
      },
      "source": [
        "We can combine results from functions with if/else statements that we discussed in a previous section.\n",
        "\n",
        "As an example, below we store the result from the function in a variable.\n",
        "We then use conditional statements to check if the variable is less than, greater than, or equal to 100."
      ]
    },
    {
      "cell_type": "code",
      "execution_count": null,
      "metadata": {
        "id": "1WB54SxkIU-Q"
      },
      "outputs": [],
      "source": [
        "variable = power_add(2,4,3,2)\n",
        "\n",
        "if variable < 100:\n",
        "    print('Your variable is less than 100.')\n",
        "    \n",
        "elif variable > 100:\n",
        "    print('Your variable is greater than 100.')\n",
        "    \n",
        "else:\n",
        "    print('Your variable is equal to 100.')\n"
      ]
    },
    {
      "cell_type": "markdown",
      "metadata": {
        "id": "s0T3Q3OmIU-Q"
      },
      "source": [
        "### Function writing practice 1\n",
        "\n",
        "__Problem__: You are given the surface temperature for a star, which is in Celsius. Since Kelvin is the standard unit used in astronomy, we want to convert the temperature into Kelvin. \n",
        "\n",
        "__Task__: Write a function that takes a temperature (in Celsius) as an argument and returns a temperature in Kelvin using the following equation:\n",
        "\n",
        " $$K = C + 273.15 $$\n"
      ]
    },
    {
      "cell_type": "code",
      "execution_count": null,
      "metadata": {
        "id": "Ty7ZZ4wqIU-Q"
      },
      "outputs": [],
      "source": [
        "# Your code here!\n",
        "\n",
        "# You are given a surface temperature in celsius:\n",
        "T_celc = 5500.0\n",
        "\n",
        "# Complete the function\n",
        "def convert_to_kelvin(C):\n",
        "    K =\n",
        "    return \n",
        "\n",
        "print(convert_to_kelvin(T_celc))"
      ]
    },
    {
      "cell_type": "markdown",
      "metadata": {
        "id": "oXP8fVNiIU-Q"
      },
      "source": [
        "### Function writing practice 2\n",
        "\n",
        "Consider a satellite completing one orbit around the Earth every $t$ seconds. The orbital period of the satellite is related to it's altitude, or the height above the Earth's surface $h$, according to the following equation:\n",
        "\n",
        "$$ h = \\left(\\frac{G M t^2}{4 \\pi^2}\\right)^{1/3}-R, $$\n",
        "\n",
        "where \n",
        "*   $G=6.67\\times 10^{-11}\\,\\rm{m}^2\\,\\rm{kg}^{-1}\\,\\rm\n",
        "{s}^{-2}$ is the gravitational constant\n",
        "*   $M=5.97\\times 10^{24}\\,\\rm{kg}$ is the mass of the Earth, and\n",
        "*    $R=6.371\\times 10^{6}\\,\\rm{m}$ is the radius of the Earth.\n",
        "\n",
        "Write a function that returns the altitude of the satellite for a desired value of $t$.\n",
        "\n",
        "Start with defining the constants\n"
      ]
    },
    {
      "cell_type": "code",
      "execution_count": null,
      "metadata": {
        "id": "ZTY8cW1lIU-Q"
      },
      "outputs": [],
      "source": [
        "# Define the constant parameters in SI units:\n",
        "G = 6.67e-11 \n",
        "M = 5.97e24\n",
        "R = 6.371e6\n",
        "pi = 3.14159"
      ]
    },
    {
      "cell_type": "code",
      "execution_count": null,
      "metadata": {
        "id": "Ek69Onh_IU-Q"
      },
      "outputs": [],
      "source": [
        "# Create a function for altitute which takes time (t) as argument:\n",
        "def altitute(t):\n",
        "    h = \n",
        "    return h"
      ]
    },
    {
      "cell_type": "code",
      "execution_count": null,
      "metadata": {
        "id": "HPQPVz6kIU-Q"
      },
      "outputs": [],
      "source": [
        "# Find the desired altitute for t = 45 mins. \n",
        "# Recall that t is in units of seconds in our formula for h"
      ]
    },
    {
      "cell_type": "markdown",
      "metadata": {
        "id": "Aat8D6FhIU-Q"
      },
      "source": [
        "## 1.3 Built-in Modules\n",
        "\n",
        "Python comes with numerous useful built-in modules, but they are not automatically available to your program.\n",
        "The modules first must be imported using a simple command of `import MODULE_NAME`.\n",
        "\n",
        "Some commonly use modules for astronomers are `astropy`, `matplotlib`, `numpy`, `pandas`, and `scipy`. \n",
        "These are powerful modules we will discuss in later sections. \n",
        "Let's start with the math module."
      ]
    },
    {
      "cell_type": "markdown",
      "source": [
        "### 1.3.1 Math Module\n",
        "\n",
        "Suppose we need to calculate the circumference of the Earth. \n",
        "You may remember the formula: $C=2\\pi R\n",
        "$. \n",
        "How many digits of $\\pi$ can you rattle off by memory? $3.14159$... When it comes to $\\pi$ , Python's math module makes things easy for us. \n",
        "Try the following:"
      ],
      "metadata": {
        "id": "ZdQ5maACtDdF"
      }
    },
    {
      "cell_type": "code",
      "execution_count": null,
      "metadata": {
        "id": "lfmeiNyeIU-Q"
      },
      "outputs": [],
      "source": [
        "import math\n",
        "print(math.pi)"
      ]
    },
    {
      "cell_type": "markdown",
      "metadata": {
        "id": "wwp5IJkyIU-Q"
      },
      "source": [
        "In this case, we refer to the math module to access the number $\\pi$. \n",
        "There are variations on how you can import and refer to modules. \n",
        "Try the following:"
      ]
    },
    {
      "cell_type": "code",
      "execution_count": null,
      "metadata": {
        "id": "vJRvEpFaIU-Q"
      },
      "outputs": [],
      "source": [
        "import math as m\n",
        "R = 6371          # radius of the Earth in km\n",
        "C = 2* m.pi * R   # circumference of the Earh\n",
        "print('The circumference of the Earth is', C, 'km')"
      ]
    },
    {
      "cell_type": "markdown",
      "metadata": {
        "id": "Ax6qzLljIU-Q"
      },
      "source": [
        "The math module also includes a number of built-in functions that you might find useful, including `math.sin`, `math.cos`, `math.log`, `math.exp`, and many more. \n",
        "Try some of them below:"
      ]
    },
    {
      "cell_type": "code",
      "execution_count": null,
      "metadata": {
        "id": "lXVbmTo7IU-Q"
      },
      "outputs": [],
      "source": [
        "print(m.log(10))"
      ]
    },
    {
      "cell_type": "markdown",
      "metadata": {
        "id": "qMMgCkcsIU-Q"
      },
      "source": [
        "### 1.3.2 Numpy Module\n",
        "\n",
        "Numpy is a numerical Python library, and is one of the most popular Python libraries. \n",
        "Numpy is particularly useful for working with arrays, which are a more sophisticated type of list:\n",
        "\n",
        "```python\n",
        "    import numpy as np\n",
        "    my_array = np.array([1,2,3])\n",
        "```\n",
        "Computations involving arrays are much quicker compared to similar calculations using lists!"
      ]
    },
    {
      "cell_type": "code",
      "execution_count": null,
      "metadata": {
        "id": "h4HkulakIU-Q"
      },
      "outputs": [],
      "source": [
        "import numpy as np\n",
        "\n",
        "# define a list\n",
        "x = [1, 2, 3, 4, 5]\n",
        "\n",
        "# lets multiply each element by 2\n",
        "for i in range(len(x)):\n",
        "    x[i] = 2 * x[i]\n",
        "    \n",
        "# Now lets do the same with a numpy array\n",
        "x = np.array([1, 2, 3, 4, 5])\n",
        "x = x * 2"
      ]
    },
    {
      "cell_type": "markdown",
      "metadata": {
        "id": "gZeODzwQIU-Q"
      },
      "source": [
        "As you can see we can perform calculations in a single line using numpy arrays, which is not possible for Python lists. If you try the following:\n",
        "\n",
        "```python\n",
        " 2 * [1, 2, 3, 4, 5]\n",
        "```\n",
        "It does not multiply each element of the list by two. Check in below code to figure out what it does!"
      ]
    },
    {
      "cell_type": "code",
      "execution_count": null,
      "metadata": {
        "id": "rduLk8q6IU-Q"
      },
      "outputs": [],
      "source": [
        "2 * [1, 2, 3, 4, 5]"
      ]
    },
    {
      "cell_type": "markdown",
      "metadata": {
        "id": "8hfV7sp7IU-Q"
      },
      "source": [
        "### Function writing practice 3\n",
        "\n",
        "__Problem__: You are given the surface temperature for 10 stars, which are all in Celsius. \n",
        "Since Kelvin is the standard unit used in astronomy, you want to convert the temperatures into Kelvin. \n",
        "\n",
        "__Task__: Write a function that takes a temperature array (in Celsius) as an argument and returns a temperature array in Kelvin using the following equation:\n",
        "\n",
        " $$K = C + 273.15 $$\n",
        "\n"
      ]
    },
    {
      "cell_type": "code",
      "execution_count": null,
      "metadata": {
        "id": "qW_RzuBUIU-Q"
      },
      "outputs": [],
      "source": [
        "# Your code here!\n",
        "\n",
        "import numpy as np\n",
        "\n",
        "# You are given surface temperatures in Celsius for 10 stars:\n",
        "T_celc = np.array([5500, 6000, 6532, 4234, 8352,\n",
        "                   10000, 12000, 14532, 8325, 7737])\n",
        "\n",
        "# Create a function to calculate the temperatures in Kelvin\n",
        "def convert_to_kelvin(C):\n",
        "    K = \n",
        "    return  K\n",
        "\n",
        "# Print the temperature array\n",
        "print(convert_to_kelvin(T_celc))"
      ]
    },
    {
      "cell_type": "markdown",
      "metadata": {
        "id": "BwDQJd2bIU-Q"
      },
      "source": [
        "Note that in the above example, we used a Numpy array instead of a list.\n",
        "Using Numpy allowed us to use simple algebra without the need of a loop."
      ]
    },
    {
      "cell_type": "markdown",
      "source": [
        "## 1.4 Optional arguments\n",
        "\n",
        "Functions can include optional arguments which may alter the default behaviour of the function. \n",
        "For instance, let us review the `math.log` (logarithm) function. \n",
        "By default, `math.log` assumes base `e`:\n",
        "\n",
        "```python\n",
        "print(math.log(10))\n",
        "```\n",
        "```text\n",
        "2.302585092994046\n",
        "```\n",
        "\n",
        "If we instead want to use base 10, we can use include 10 as a second argument to the function:\n",
        "\n",
        "```python\n",
        "print(math.log(10,10))\n",
        "```\n",
        "```text\n",
        "1.0\n",
        "```\n",
        "\n",
        "Optional arguments are often found in functions you run across. \n",
        "You can add optional arguments in your own functions. \n",
        "This is easily accomplished by assigning a default value for a variable when you define a function. \n",
        "Importantly, optional arguments much be listed **after** required arguments!\n",
        "\n",
        "If we wanted to define our own logarithm function that by default used base 10, we could use the following:\n",
        "\n",
        "```python\n",
        "def log10(x, base=10):\n",
        "    return math.log(x, base)\n",
        "```\n",
        "\n",
        "Try using this function below."
      ],
      "metadata": {
        "id": "12tNmrzdgf9A"
      }
    },
    {
      "cell_type": "code",
      "source": [
        "# Try the user defined function here"
      ],
      "metadata": {
        "id": "K0dV1RGFjkHs"
      },
      "execution_count": null,
      "outputs": []
    },
    {
      "cell_type": "markdown",
      "source": [
        "###Function writing practice 3\n",
        "\n",
        "Recall the earlier problem where you found the height of a satellite orbiting the Earth based on the orbital period, $t$\n",
        "\n",
        "$$ h = \\left(\\frac{G M t^2}{4 \\pi^2}\\right)^{1/3}-R, $$\n",
        "\n",
        "where \n",
        "*   $G=6.67\\times 10^{-11}\\,\\rm{m}^2\\,\\rm{kg}^{-1}\\,\\rm\n",
        "{s}^{-2}$ is the gravitational constant\n",
        "*   $M=5.97\\times 10^{24}\\,\\rm{kg}$ is the mass of the Earth, and\n",
        "*    $R=6.371\\times 10^{6}\\,\\rm{m}$ is the radius of the Earth.\n",
        "\n",
        "\n",
        "**Problem** Now write a function that will take $M$ and $R$ as arguments. Have your new function use the Earth values for $R$ and $M$ by default.\n",
        "\n",
        "**Task 1** Check that you return the same answers as before when only using $t$."
      ],
      "metadata": {
        "id": "jD3USbE9kEM0"
      }
    },
    {
      "cell_type": "code",
      "source": [
        "## Work here"
      ],
      "metadata": {
        "id": "cxurIpD2nkqc"
      },
      "execution_count": null,
      "outputs": []
    },
    {
      "cell_type": "markdown",
      "source": [
        "**Task 2** Use the same values of $t$, but choose another planet in our solar system and calculate the height of the satellite."
      ],
      "metadata": {
        "id": "GVVbTWs2nmOc"
      }
    },
    {
      "cell_type": "code",
      "source": [
        "## Work here"
      ],
      "metadata": {
        "id": "81qtiqFEn9E8"
      },
      "execution_count": null,
      "outputs": []
    },
    {
      "cell_type": "markdown",
      "metadata": {
        "id": "BL23pnyRIU-Q"
      },
      "source": [
        "## Takeaways:\n",
        "\n",
        "* Functions are a powerful way to write, reuse, and share your computer tools \n",
        "\n",
        "* When learning Python, use modules often. This will help you save time, and keep your collection of codes organized. Just remember to import them first.\n",
        "\n",
        "* Take time to learn about available modules and functions. It can save you time in the end. When you need help learning about specific modules of functions, use Python's built-in help function."
      ]
    }
  ],
  "metadata": {
    "kernelspec": {
      "display_name": "Python 3",
      "language": "python",
      "name": "python3"
    },
    "language_info": {
      "codemirror_mode": {
        "name": "ipython",
        "version": 3
      },
      "file_extension": ".py",
      "mimetype": "text/x-python",
      "name": "python",
      "nbconvert_exporter": "python",
      "pygments_lexer": "ipython3",
      "version": "3.8.5"
    },
    "toc": {
      "base_numbering": 1,
      "nav_menu": {},
      "number_sections": true,
      "sideBar": true,
      "skip_h1_title": false,
      "title_cell": "Table of Contents",
      "title_sidebar": "Contents",
      "toc_cell": false,
      "toc_position": {},
      "toc_section_display": true,
      "toc_window_display": false
    },
    "varInspector": {
      "cols": {
        "lenName": 16,
        "lenType": 16,
        "lenVar": 40
      },
      "kernels_config": {
        "python": {
          "delete_cmd_postfix": "",
          "delete_cmd_prefix": "del ",
          "library": "var_list.py",
          "varRefreshCmd": "print(var_dic_list())"
        },
        "r": {
          "delete_cmd_postfix": ") ",
          "delete_cmd_prefix": "rm(",
          "library": "var_list.r",
          "varRefreshCmd": "cat(var_dic_list()) "
        }
      },
      "types_to_exclude": [
        "module",
        "function",
        "builtin_function_or_method",
        "instance",
        "_Feature"
      ],
      "window_display": false
    },
    "colab": {
      "provenance": []
    }
  },
  "nbformat": 4,
  "nbformat_minor": 0
}