{
 "cells": [
  {
   "cell_type": "markdown",
   "metadata": {},
   "source": [
    "# 2.1 | Functions, Modules, and Packages\n",
    "\n",
    "Functions allow you to write a block of code that does something useful for you and then allows you to use it whenever you need it. When you create that block of code you can even improve on it when you learn new coding techniques, you can share it, and more! Modules and packages are examples of blocks of codes other people have written and shared. We will explore some common modules and packages in this notebook and later on in this course.\n",
    "\n",
    "Python comes pre-packaged with many built-in modules and functions that are handy when doing computational research. These include tools for handling file input and output, performing operations on strings, performing standard mathematical operations and doing many other common things. One module you'll use frequently is the math module, which makes it possible for you to compute trigonometric functions, factorials and logarithms, as well as accessing special numbers, like pi and infinity. With Python, you've got just about everything you need at your fingertips!\n",
    "\n",
    "So what exactly is the difference between a function, a module and a package?\n",
    "\n",
    "*  A function is a block of code that can be referenced and run from anywhere in your program<br>\n",
    "\n",
    "You can think of a function as a machine that is built for a specific task or tasks. In Python, you build one of these machines with code. In Python, you can think of \"keyword arguments\" (also known as \"kwargs\") and \"arguments\" as the gears that compose our machines. We will explain these further when we look at an example of a function. Note: kwargs are a type of argument, but not all arguments are keyword arguments.\n",
    "\n",
    "* A module is a text file that contains a number of functions and other items<br>\n",
    "\n",
    "You can think of a module as a special type of machine that is already made for specific tasks.\n",
    "\n",
    "* \n",
    "A package is a group of related modules<br>\n",
    "\n",
    "As you go through the course, you'll learn many more useful built-in functions, modules and packages. You'll also find that sometimes you need to define your own functions and modules to suit your specific needs, so we'll show you how to do that, too. To explore all the included functions in Python 3, check out the documentation __[here](https://docs.python.org/3/library/functions.html)__.\n",
    "\n"
   ]
  },
  {
   "cell_type": "markdown",
   "metadata": {},
   "source": [
    "## 2.1.1 Built-in Functions\n",
    "Many useful functions are built into Python and can be used right away. Some common examples include\n",
    "\n",
    "* max(x,y,z,...) : returns the maximum value of the numbers provided \n",
    "* pow(x,y) : returns the value of the number base to the power exponent the result is equivalent to x**y\n",
    "* abs(x) : returns the absolute value of a number\n",
    "* float(x) : converts a number to float\n",
    "                         \n",
    "Perhaps the most helpful function of all for a new programmer is the help function, which is available in an interactive Python session. You can request help on a specific module, keyword or topic using the following syntax:\n",
    "\n",
    "```python\n",
    "help(FUNCTION_NAME)\n",
    "```\n",
    "\n",
    "As an example, see the built-in help function to learn the full capabilities of the pow function  in the cell below\n"
   ]
  },
  {
   "cell_type": "code",
   "execution_count": null,
   "metadata": {
    "ExecuteTime": {
     "end_time": "2021-05-27T17:36:16.001131Z",
     "start_time": "2021-05-27T17:36:15.996953Z"
    }
   },
   "outputs": [],
   "source": [
    "# run this cell\n",
    "help(pow)"
   ]
  },
  {
   "cell_type": "markdown",
   "metadata": {},
   "source": [
    "###  2.1.1.1 Getting detailed help - If you are using jupyter notebook\n",
    "If you are using jupyter notebooks, you can press the shift and then tab keys together to get the same information as help. \n",
    "\n",
    "Pressing shift + tab will show you the following:\n",
    "- format (or \"syntax\") of the function <br>\n",
    "- some language on how it works <br> \n",
    "- the type of function it is\n",
    "\n",
    "__Note:__ you must use this method of getting information with your cursor clicked next to the function.\n",
    "\n",
    "Try using this method on the pow function below!"
   ]
  },
  {
   "cell_type": "code",
   "execution_count": null,
   "metadata": {
    "ExecuteTime": {
     "end_time": "2021-05-27T17:38:21.368698Z",
     "start_time": "2021-05-27T17:38:21.358028Z"
    }
   },
   "outputs": [],
   "source": [
    "# press shift and then tab with your cursor clicked next to the function\n",
    "pow(3,2)"
   ]
  },
  {
   "cell_type": "markdown",
   "metadata": {},
   "source": [
    "### 2.1.1.2 The pow( ) function "
   ]
  },
  {
   "cell_type": "markdown",
   "metadata": {},
   "source": [
    "We're going to revisit the pow( ) function. Here is a quick reminder of what it is:\n",
    "\n",
    "- pow(x,y) : returns the value of the number x to the power y the result is equivalent to x**y (x raised to the y power)\n",
    "\n",
    "Let's discuss this function in terms of machines, tasks, and gears - the language we used earlier. The machine here is the pow() function. The task is raising the number x to the number y power. The gears here are x and y - they are the arguments necessary to make the machine work! Try running the next cells below to see what happens if you dont use the machine with the right gear set up. <br>\n"
   ]
  },
  {
   "cell_type": "code",
   "execution_count": null,
   "metadata": {},
   "outputs": [],
   "source": [
    "# what do you think will happen if the pow() function doesn't have the arguements properly set up? Write below\n",
    "\n",
    "#Fill in here"
   ]
  },
  {
   "cell_type": "code",
   "execution_count": null,
   "metadata": {},
   "outputs": [],
   "source": [
    "pow()"
   ]
  },
  {
   "cell_type": "code",
   "execution_count": null,
   "metadata": {
    "ExecuteTime": {
     "end_time": "2021-03-18T18:22:49.039169Z",
     "start_time": "2021-03-18T18:22:49.006739Z"
    }
   },
   "outputs": [],
   "source": [
    "pow(4)"
   ]
  },
  {
   "cell_type": "code",
   "execution_count": null,
   "metadata": {
    "ExecuteTime": {
     "end_time": "2021-05-27T17:27:20.417313Z",
     "start_time": "2021-05-27T17:27:20.413275Z"
    }
   },
   "outputs": [],
   "source": [
    "#Try the help function on pow() to see why exactly we got the errors we did!\n",
    "\n",
    "help(pow)"
   ]
  },
  {
   "cell_type": "code",
   "execution_count": null,
   "metadata": {},
   "outputs": [],
   "source": [
    "# Now compute 2**2, 2**3, 2**4 below using pow() function below"
   ]
  },
  {
   "cell_type": "markdown",
   "metadata": {},
   "source": [
    "#### Pow( ) function recap "
   ]
  },
  {
   "cell_type": "markdown",
   "metadata": {},
   "source": [
    "In this built-in function example we established the following:\n",
    "\n",
    "1) The arguments must be properly set up for a given built-in function.<br>\n",
    "2) We can use the help fuction on built-in functions to see exactly what arguments are necessary.\n",
    "\n"
   ]
  },
  {
   "cell_type": "markdown",
   "metadata": {},
   "source": [
    "### 2.1.1.3 The max( ) function"
   ]
  },
  {
   "cell_type": "markdown",
   "metadata": {},
   "source": [
    "We're going to revisit the max( ) function. Here is a quick reminder of what it is:\n",
    "\n",
    "- max(x,y,z,...) : returns the maximum value of the numbers provided <br>\n",
    "\n",
    "Let's find the maximum number in a given list:\n",
    "\n",
    "```python\n",
    "my_list = [1,13,25,340,42,977]\n",
    "max_number = max(my_list)\n",
    "print('The maximum number in my list is', max_number)\n",
    "```\n"
   ]
  },
  {
   "cell_type": "code",
   "execution_count": null,
   "metadata": {},
   "outputs": [],
   "source": [
    "# Create your own list and print the maximum number in that list:"
   ]
  },
  {
   "cell_type": "markdown",
   "metadata": {},
   "source": [
    "## 2.1.2 Writing your own function"
   ]
  },
  {
   "cell_type": "markdown",
   "metadata": {},
   "source": [
    "To start defining a function we use `def` followed by the function name and keyword arguments:\n",
    "\n",
    "```python\n",
    "def multiply(x):\n",
    "    return 2*x\n",
    "```\n",
    "\n",
    "Here, the name of the function is `multiply`. This function takes the argument `x` and multiplies it by 2. So it returns 2*x. Note that everything that is part of this function is indented  similar to what we do in for loops."
   ]
  },
  {
   "cell_type": "markdown",
   "metadata": {},
   "source": [
    "We are going to walkthrough writing our own function by using the pow( ) function as an example. Remember, this is the pow( ) function:<br>\n",
    "\n",
    "* pow(x,y) : returns the value of the number x to the power y the result is equivalent to x**y (x raised to the y power)\n",
    "\n",
    "Now check out the function in the cell below that does something very similar. <br>\n"
   ]
  },
  {
   "cell_type": "code",
   "execution_count": null,
   "metadata": {},
   "outputs": [],
   "source": [
    "def power_function(x, y): # note the presence of a colon here!\n",
    "    result = x ** y\n",
    "    return result         # this is the output\n",
    "\n",
    "print(power_function(5,2))"
   ]
  },
  {
   "cell_type": "markdown",
   "metadata": {},
   "source": [
    "You can also write additional lines in your function which will not be returned such as print. As an example, let's define a function which takes the list `my_list` as argument. First, it finds the maximum number in that list and then prints it. Finally, it takes the power of the maximum number:"
   ]
  },
  {
   "cell_type": "code",
   "execution_count": null,
   "metadata": {},
   "outputs": [],
   "source": [
    "def max_power_function(my_list,y):\n",
    "    max_number = max(my_list)              # find the maximum number in the list\n",
    "    print('maximum number is', max_number) # print the maximum number\n",
    "    result = max_number**y                 # take the power of the maximum number\n",
    "    return result\n",
    "\n",
    "max_power_function([1,2,3],2)"
   ]
  },
  {
   "cell_type": "markdown",
   "metadata": {},
   "source": [
    "### 2.1.2.1 Functions and variables - using a built-in function"
   ]
  },
  {
   "cell_type": "markdown",
   "metadata": {},
   "source": [
    "You can store the outputs of a function to a variable by doing the following\n",
    "* variable_name = function_name(keyword_arguments...) <br>\n",
    "\n",
    "Here is a more concrete example, using a built-in function:\n",
    "* answer = pow(4,2)<br>\n",
    "\n",
    "What number do you think is saved in the variable \"answer\"?\n",
    "**your answer here**:\n",
    "\n",
    "Run the cell below to check!<br>\n"
   ]
  },
  {
   "cell_type": "code",
   "execution_count": null,
   "metadata": {},
   "outputs": [],
   "source": [
    "answer = pow(4,2)\n",
    "print(answer)"
   ]
  },
  {
   "cell_type": "markdown",
   "metadata": {},
   "source": [
    "Let's write a function which takes two numbers `x1` and `x2`. First, it takes their powers (`x1**y1` and `x2**y2`) and then add them up:"
   ]
  },
  {
   "cell_type": "code",
   "execution_count": null,
   "metadata": {},
   "outputs": [],
   "source": [
    "# your code below\n",
    "\n",
    "def power_add(x1, y1, x2, y2):\n",
    "    result1 = x1**y1\n",
    "    result2 = x2**y2\n",
    "    add = result1 + result2\n",
    "    return add\n"
   ]
  },
  {
   "cell_type": "code",
   "execution_count": null,
   "metadata": {},
   "outputs": [],
   "source": [
    "# What do you think the answer will be?\n",
    "\n",
    "power_add(2,4,3,2)"
   ]
  },
  {
   "cell_type": "markdown",
   "metadata": {},
   "source": [
    "Now, store the function in a varible and check if it is larger than 100:"
   ]
  },
  {
   "cell_type": "code",
   "execution_count": null,
   "metadata": {},
   "outputs": [],
   "source": [
    "variable = power_add(2,4,3,2)\n",
    "\n",
    "if variable < 100:\n",
    "    print('your variable is less than 100')\n",
    "    \n",
    "elif variable > 100:\n",
    "    print('your variable is greater than 100')\n",
    "    \n",
    "else:\n",
    "    print('your variable is equal to 100')\n"
   ]
  },
  {
   "cell_type": "markdown",
   "metadata": {},
   "source": [
    "### Function writing Practice 1\n",
    "__Situation__: You have a massive data set. In this data set, you have the temperatures for a thousand stars.<br>\n",
    "\n",
    "__Problem__: All the temperatures are in celsius! Since Kelvin is the standard unit used in most astronomy units you now have to convert all 1000 of those temperatures into Kelvin. You dont want to spend hours writing the same block of code for each data point in your data set!<br>\n",
    "\n",
    "__Task__: Take a small subset of these temperatures, just 1 of them, and save that temperature to a variable. Next, write a function that takes one of these temperatures (in celsius) as an argument and returns a temperature in Kelvin.\n",
    "\n",
    "Here is an equation you will need: \n",
    "\n",
    "A.&emsp;celsius to Kelvin Conversion $$C + 273.15 = K$$\n"
   ]
  },
  {
   "cell_type": "code",
   "execution_count": null,
   "metadata": {},
   "outputs": [],
   "source": [
    "## choose a random temperature \n",
    "## for reference, the temperature of the sun in celsius is 5505\n",
    "stellar_temp = "
   ]
  },
  {
   "cell_type": "markdown",
   "metadata": {},
   "source": [
    "### Function writing Practice 2\n",
    "\n",
    "Consider a satellite launched to orbit around the Earth every $t$ seconds. For this to happen, the altitute of the satellite above the Earth surface must be\n",
    "\n",
    "$$ h = \\left(\\frac{G M t^2}{4 \\pi^2}\\right)^{1/3}-R, $$\n",
    "\n",
    "where $G=6.67\\times 10^{-11} \\rm{m}^2 \\rm{kg}^{-1} \\rm{s}^{-2}$ is the gravitational constant, $M=5.97\\times 10^{24}~\\rm{kg}$ is the mass of the Earth and\n",
    "$R=6371000~\\rm{m}$ is the radius of the Earth.\n",
    "\n",
    "Write a program that finds the altitute of the satellite for a desired value of t.\n",
    "\n",
    "Start with defining the constants\n"
   ]
  },
  {
   "cell_type": "code",
   "execution_count": null,
   "metadata": {},
   "outputs": [],
   "source": [
    "# define the constant parameters:\n",
    "\n",
    "G = 6.67e-11 \n",
    "M = 5.97e24\n",
    "R = 6371000 \n",
    "pi = 3.141592653589793"
   ]
  },
  {
   "cell_type": "code",
   "execution_count": null,
   "metadata": {},
   "outputs": [],
   "source": [
    "# create a function for altitute which takes time `t` as argument:\n",
    "\n",
    "def altitute(t):\n",
    "    h = \n",
    "    return h"
   ]
  },
  {
   "cell_type": "code",
   "execution_count": 3,
   "metadata": {},
   "outputs": [],
   "source": [
    "# find the desired altitute for t = 45 mins. (Remember that t is in units of seconds in our formula for h)"
   ]
  },
  {
   "cell_type": "markdown",
   "metadata": {},
   "source": [
    "## 2.1.3 Built-in Modules\n",
    "\n",
    "While python comes with many useful pre-packaged modules, they are not automatically imported into your program - this must be done manually with each python program or each interactive python session. So, with every new interactive session, or every new program you create, the modules you need must be imported first, using a simple command of import MODULE_NAME.\n",
    "\n",
    "As you begin writing your own code to solve specific research problems, you'll find that sometimes your research will call for very specialized functions that only you (and maybe a handful of other people) will need. In these instances, you can build your own modules as separate Python programs and import them into other programs, just like you can with the built-in modules. Later in the course, you'll learn how creating your own modules can help you keep your growing collection of codes modular and organized.\n",
    "\n",
    "Some commonly use modules for astronomers are astropy, scipy, numpy, and mathplotlib. These are powerful and useful modules we will see in later in this course.\n",
    "\n",
    "### 2.1.3.1 Math Module\n",
    "\n",
    "Let's say we want to calculate the circumference of the Earth. You may remember the formula: $C=2\\pi R\n",
    "$. How many digits of $\\pi$ can you rattle off by memory? $3.14159$... When it comes to $\\pi$ , Python's math module makes things easy for us. Try the following:"
   ]
  },
  {
   "cell_type": "code",
   "execution_count": 14,
   "metadata": {},
   "outputs": [
    {
     "name": "stdout",
     "output_type": "stream",
     "text": [
      "3.141592653589793\n"
     ]
    }
   ],
   "source": [
    "import math\n",
    "print(math.pi)"
   ]
  },
  {
   "cell_type": "markdown",
   "metadata": {},
   "source": [
    "In this case, we had to refer to the math module to access the number $\\pi$. There are variations on how you can import and refer to modules. Now try the following:"
   ]
  },
  {
   "cell_type": "code",
   "execution_count": 13,
   "metadata": {},
   "outputs": [
    {
     "name": "stdout",
     "output_type": "stream",
     "text": [
      "The circumference of the Earth is 40030.173592041145 km\n"
     ]
    }
   ],
   "source": [
    "import math as m\n",
    "R = 6371          # radius of the Earth in km\n",
    "C = 2* m.pi * R   # circumference of the Earh\n",
    "print('The circumference of the Earth is', C, 'km')"
   ]
  },
  {
   "cell_type": "markdown",
   "metadata": {},
   "source": [
    "The math module also includes a number of built in functions that you might find useful, including math.sin, math.cos, math.log, math.exp, and many more. Try some of them out here:"
   ]
  },
  {
   "cell_type": "code",
   "execution_count": 8,
   "metadata": {},
   "outputs": [
    {
     "name": "stdout",
     "output_type": "stream",
     "text": [
      "2.302585092994046\n"
     ]
    }
   ],
   "source": [
    "print(m.log(10))"
   ]
  },
  {
   "cell_type": "markdown",
   "metadata": {},
   "source": [
    "### 2.1.3.2 Numpy Module\n",
    "\n",
    "Numpy is one of the most widely used library and in particular used for working with arrays:\n",
    "\n",
    "```python\n",
    "    import numpy as np\n",
    "    my_array = np.array([1,2,3])\n",
    "```\n",
    "Arrays are similar to tradional python lists however they are much faster and allow you to perform arithmetics with them."
   ]
  },
  {
   "cell_type": "code",
   "execution_count": 9,
   "metadata": {},
   "outputs": [],
   "source": [
    "import numpy as np\n",
    "\n",
    "# define a list\n",
    "x = [1, 2, 3, 4, 5]\n",
    "\n",
    "# lets multiply each element by 2\n",
    "for i in range(len(x)):\n",
    "    x[i] = 2 * x[i]\n",
    "    \n",
    "# Now lets do the same with a numpy array\n",
    "x = np.array([1, 2, 3, 4, 5])\n",
    "x = x * 2"
   ]
  },
  {
   "cell_type": "markdown",
   "metadata": {},
   "source": [
    "As you can see we can perform arithmetics in a single line using numpy arrays, which is not possible for python lists. If you try the following:\n",
    "\n",
    "```python\n",
    " 2 * [1,2,3,4,5]\n",
    "```\n",
    "It does not multiply each element of the list by two. Check in below code to figure out what it does!"
   ]
  },
  {
   "cell_type": "code",
   "execution_count": 10,
   "metadata": {},
   "outputs": [
    {
     "data": {
      "text/plain": [
       "[1, 2, 3, 4, 5, 1, 2, 3, 4, 5]"
      ]
     },
     "execution_count": 10,
     "metadata": {},
     "output_type": "execute_result"
    }
   ],
   "source": [
    "2 * [1,2,3,4,5]"
   ]
  },
  {
   "cell_type": "markdown",
   "metadata": {},
   "source": [
    "## Takeaways:\n",
    "\n",
    "* Functions are a powerful way to write, reuse, and share your computer tools \n",
    "\n",
    "* When learning Python, make use of available modules as much as possible. This will help you save time, and keep your collection of codes organized. Just remember - you have to import them into your script or interactive session, or you'll get an error.\n",
    "\n",
    "* Take time to learn about the various built-in modules and functions available, and don't be afraid to ask around. It'll save you time in the end. When you need help learning about specific modules of functions, use Python's built-in help function."
   ]
  }
 ],
 "metadata": {
  "kernelspec": {
   "display_name": "Python 3",
   "language": "python",
   "name": "python3"
  },
  "language_info": {
   "codemirror_mode": {
    "name": "ipython",
    "version": 3
   },
   "file_extension": ".py",
   "mimetype": "text/x-python",
   "name": "python",
   "nbconvert_exporter": "python",
   "pygments_lexer": "ipython3",
   "version": "3.8.5"
  },
  "toc": {
   "base_numbering": 1,
   "nav_menu": {},
   "number_sections": true,
   "sideBar": true,
   "skip_h1_title": false,
   "title_cell": "Table of Contents",
   "title_sidebar": "Contents",
   "toc_cell": false,
   "toc_position": {},
   "toc_section_display": true,
   "toc_window_display": false
  },
  "varInspector": {
   "cols": {
    "lenName": 16,
    "lenType": 16,
    "lenVar": 40
   },
   "kernels_config": {
    "python": {
     "delete_cmd_postfix": "",
     "delete_cmd_prefix": "del ",
     "library": "var_list.py",
     "varRefreshCmd": "print(var_dic_list())"
    },
    "r": {
     "delete_cmd_postfix": ") ",
     "delete_cmd_prefix": "rm(",
     "library": "var_list.r",
     "varRefreshCmd": "cat(var_dic_list()) "
    }
   },
   "types_to_exclude": [
    "module",
    "function",
    "builtin_function_or_method",
    "instance",
    "_Feature"
   ],
   "window_display": false
  }
 },
 "nbformat": 4,
 "nbformat_minor": 4
}
