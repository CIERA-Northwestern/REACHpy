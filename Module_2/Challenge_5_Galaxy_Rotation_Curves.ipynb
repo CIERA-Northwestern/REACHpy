{
  "cells": [
    {
      "cell_type": "code",
      "execution_count": null,
      "metadata": {
        "id": "8WxDxDWG5Dns"
      },
      "outputs": [],
      "source": [
        "### Running in Google Colab? Run this cell\n",
        "!wget https://raw.githubusercontent.com/CIERA-Northwestern/REACHpy/master/Module_2/data/M33velocities.csv"
      ]
    },
    {
      "cell_type": "markdown",
      "metadata": {
        "id": "HlTdXUul5Dns"
      },
      "source": [
        "# Galaxy Rotation Curves\n",
        "\n",
        "## Section 1: Background\n",
        "![NGC3521](https://github.com/mcstroh/REACHpy/blob/ideaspy_updates/Module_2/images/NGC3521-LRGB-1024c.jpg?raw=1)\n",
        "\n",
        "We've already talked quite a bit about the rotation curve of the Solar System, but that isn't the only place where rotation curves are useful! Another place where they have frequently been used is in understanding how matter is distributed in galaxies. The equation we used in previous challenge problems\n",
        "\n",
        "\\begin{equation}\n",
        "v = \\sqrt{\\frac{G \\, M}{R}}\n",
        "\\end{equation}\n",
        "\n",
        "applies for the mass enclosed within radius R, or\n",
        "\n",
        "\\begin{equation}\n",
        "v(R) = \\sqrt{\\frac{G \\, M_{enclosed}(R)}{R}}.\n",
        "\\end{equation}\n",
        "\n",
        "The mass enclosed is the sum of the mass inside of radius $R$. Thus, if you can measure the rotation curve of a galaxy, you can calculate where mass is located within the galaxy."
      ]
    },
    {
      "cell_type": "markdown",
      "source": [
        "## Section 2: Loading the data\n",
        "\n",
        "We will be using a file named `M33velocities.csv` consisting of data from a galaxy named M33. The file contains two columns saved in a comma separated value (csv) format:\n",
        " - distance from the center of the galaxy (in kpc), and\n",
        " - velocity (in km/s).\n",
        " \n",
        "Read in the data from the file using NumPy and save the data from each column in separate arrays."
      ],
      "metadata": {
        "id": "Ji7wMtvCwWFk"
      }
    },
    {
      "cell_type": "code",
      "execution_count": null,
      "metadata": {
        "id": "AIpmhmZQ5Dns"
      },
      "outputs": [],
      "source": [
        "# Read in data"
      ]
    },
    {
      "cell_type": "markdown",
      "source": [
        "## Section 3: Create a rotation curve figure"
      ],
      "metadata": {
        "id": "KXmCAORRyTk0"
      }
    },
    {
      "cell_type": "markdown",
      "metadata": {
        "id": "ok-qjEm65Dns"
      },
      "source": [
        "Create a figure with velocity along the y-axis and radius along the x-axis. Title your figure 'M33 Rotation Curve' and properly label both axes."
      ]
    },
    {
      "cell_type": "code",
      "execution_count": null,
      "metadata": {
        "id": "g51VFI0L5Dns"
      },
      "outputs": [],
      "source": [
        "# Plot"
      ]
    },
    {
      "cell_type": "markdown",
      "metadata": {
        "id": "Lz3mRaFz5Dns"
      },
      "source": [
        "Using numpy, calculate the mass enclosed within each radius, $R$, from the above equation and the velocity and radius data. Pay attention to units while making this calculation."
      ]
    },
    {
      "cell_type": "code",
      "execution_count": null,
      "metadata": {
        "id": "g9XqcJFy5Dns"
      },
      "outputs": [],
      "source": [
        "# Calculate mass enclosed"
      ]
    },
    {
      "cell_type": "markdown",
      "source": [
        "Astronomers often express large quantities of mass in terms of solar masses. If you haven't already, convert your mass enclosed into units of solar mass."
      ],
      "metadata": {
        "id": "Gf650KxT7xiE"
      }
    },
    {
      "cell_type": "code",
      "source": [
        "# Convert to solar masses"
      ],
      "metadata": {
        "id": "5sNovHSY7x8o"
      },
      "execution_count": null,
      "outputs": []
    },
    {
      "cell_type": "markdown",
      "metadata": {
        "id": "kzSS7dgb5Dns"
      },
      "source": [
        "Create a figure showing the mass enclosed (y-axis) against the radius (x-axis). Adjust your title and y-axis as necessary for this new figure.\n",
        "\n",
        "From images of M33, we see that stars only go out to a radius of 7 kpc. Add a vertical line in this figure at 7 kpc (https://matplotlib.org/api/_as_gen/matplotlib.pyplot.axvline.html may be useful)."
      ]
    },
    {
      "cell_type": "code",
      "execution_count": null,
      "metadata": {
        "id": "Cp4B3FnX5Dns"
      },
      "outputs": [],
      "source": [
        "# Create figure"
      ]
    },
    {
      "cell_type": "markdown",
      "metadata": {
        "id": "UG5Zlsz15Dns"
      },
      "source": [
        "What do you notice about the behaviour of the mass of the galaxy as you go to larger and larger radii? Does the mass drop significantly at any point? Change the font color below to learn more!"
      ]
    },
    {
      "cell_type": "code",
      "source": [
        "# Comment here"
      ],
      "metadata": {
        "id": "ugwxmLKwAv8M"
      },
      "execution_count": null,
      "outputs": []
    },
    {
      "cell_type": "markdown",
      "source": [
        "You should see that even beyond the 15 kpc outer edge of the galaxy, the mass enclosed still continues to increase. \n",
        "\n",
        "The mass we can't see is dark matter. You've just uncovered one of the main pieces of evidence indicating that there is a significant amount of matter that we can't see, hidden within M33. The only way we can detect it is in how it exerts a gravitational force on other matter, through this rotation curve."
      ],
      "metadata": {
        "id": "DhwvqFiLAxCg"
      }
    },
    {
      "cell_type": "markdown",
      "metadata": {
        "id": "pYa2RKnx5Dns"
      },
      "source": [
        "## Section 4: Solar System comparison\n",
        "\n",
        "For comparison, use the velocities and radii of planets in the Solar System to calculate the mass enclosed as a function of radius. If you have worked on Challenge 2, you may have already collected this information into NumPy arrays.\n",
        "\n",
        "This figure may look a little better if you plot the x-axis in Astronomical Units (AU) and change the x-axis to a logarithmic scale (discussed in Challenge 4)."
      ]
    },
    {
      "cell_type": "code",
      "execution_count": null,
      "metadata": {
        "id": "NhmG00Bz5Dns"
      },
      "outputs": [],
      "source": [
        "# Create array of orbital radii\n",
        "\n",
        "# Create array of orbital velocities\n",
        "\n",
        "# Calculate enclosed mass\n",
        "\n",
        "# Create a figure"
      ]
    },
    {
      "cell_type": "markdown",
      "source": [
        "Does the mass enclosed in the solar system change significantly as you increase your distance from the Sun? How does this compare to the galaxy example?"
      ],
      "metadata": {
        "id": "TDzJfA1bBQoY"
      }
    },
    {
      "cell_type": "code",
      "source": [
        "# Comment here"
      ],
      "metadata": {
        "id": "HuiZ317SB0tw"
      },
      "execution_count": null,
      "outputs": []
    }
  ],
  "metadata": {
    "kernelspec": {
      "display_name": "Python 3",
      "language": "python",
      "name": "python3"
    },
    "language_info": {
      "codemirror_mode": {
        "name": "ipython",
        "version": 3
      },
      "file_extension": ".py",
      "mimetype": "text/x-python",
      "name": "python",
      "nbconvert_exporter": "python",
      "pygments_lexer": "ipython3",
      "version": "3.8.5"
    },
    "colab": {
      "name": "Challenge_5_Galaxy_Rotation_Curves.ipynb",
      "provenance": []
    }
  },
  "nbformat": 4,
  "nbformat_minor": 0
}