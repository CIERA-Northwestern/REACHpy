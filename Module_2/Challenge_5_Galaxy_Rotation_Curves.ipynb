{
  "cells": [
    {
      "cell_type": "code",
      "execution_count": 1,
      "metadata": {
        "id": "8WxDxDWG5Dns",
        "outputId": "f47c02c2-6fdc-424a-f4f9-13dd047b3ab9",
        "colab": {
          "base_uri": "https://localhost:8080/"
        }
      },
      "outputs": [
        {
          "output_type": "stream",
          "name": "stdout",
          "text": [
            "--2022-05-18 21:16:37--  https://raw.githubusercontent.com/CIERA-Northwestern/REACHpy/master/Module_2/data/M33velocities.csv\n",
            "Resolving raw.githubusercontent.com (raw.githubusercontent.com)... 185.199.108.133, 185.199.109.133, 185.199.110.133, ...\n",
            "Connecting to raw.githubusercontent.com (raw.githubusercontent.com)|185.199.108.133|:443... connected.\n",
            "HTTP request sent, awaiting response... 200 OK\n",
            "Length: 376 [text/plain]\n",
            "Saving to: ‘M33velocities.csv.1’\n",
            "\n",
            "\rM33velocities.csv.1   0%[                    ]       0  --.-KB/s               \rM33velocities.csv.1 100%[===================>]     376  --.-KB/s    in 0s      \n",
            "\n",
            "2022-05-18 21:16:37 (19.8 MB/s) - ‘M33velocities.csv.1’ saved [376/376]\n",
            "\n"
          ]
        }
      ],
      "source": [
        "### Running in Google Colab? Run this cell\n",
        "!wget https://raw.githubusercontent.com/CIERA-Northwestern/REACHpy/master/Module_2/data/M33velocities.csv"
      ]
    },
    {
      "cell_type": "markdown",
      "metadata": {
        "id": "HlTdXUul5Dns"
      },
      "source": [
        "# Galaxy Rotation Curves\n",
        "\n",
        "## Section 1: Background\n",
        "![NGC3521](https://github.com/mcstroh/REACHpy/blob/ideaspy_updates/Module_2/images/NGC3521-LRGB-1024c.jpg?raw=1)\n",
        "\n",
        "We've already talked quite a bit about the rotation curve of the Solar System, but that isn't the only place where rotation curves are useful! Another place where they have frequently been used is in understanding how matter is distributed in galaxies. The equation we used in previous challenge problems\n",
        "\n",
        "\\begin{equation}\n",
        "v = \\sqrt{\\frac{G \\, M}{R}}\n",
        "\\end{equation}\n",
        "\n",
        "applies for the mass enclosed within radius R, or\n",
        "\n",
        "\\begin{equation}\n",
        "v(R) = \\sqrt{\\frac{G \\, M_{enclosed}(R)}{R}}.\n",
        "\\end{equation}\n",
        "\n",
        "The mass enclosed is the sum of the mass inside of radius $R$. Thus, if you can measure the rotation curve of a galaxy, you can calculate where mass is located within the galaxy."
      ]
    },
    {
      "cell_type": "markdown",
      "source": [
        "## Section 2: Loading the data\n",
        "\n",
        "We will be using a file named `M33velocities.csv` consisting of data from a galaxy named M33. The file contains two columns saved in a comma separated value (csv) format:\n",
        " - distance from the center of the galaxy (in kpc), and\n",
        " - velocity (in km/s).\n",
        " \n",
        "Read in the data from the file using NumPy and save the data from each column in separate arrays."
      ],
      "metadata": {
        "id": "Ji7wMtvCwWFk"
      }
    },
    {
      "cell_type": "code",
      "execution_count": 2,
      "metadata": {
        "id": "AIpmhmZQ5Dns",
        "outputId": "50e2a48e-4a7e-42a8-ec0c-973f58c3583b",
        "colab": {
          "base_uri": "https://localhost:8080/"
        }
      },
      "outputs": [
        {
          "output_type": "stream",
          "name": "stdout",
          "text": [
            "20\n",
            "20\n"
          ]
        }
      ],
      "source": [
        "import numpy as np\n",
        "\n",
        "# Read in the csv file\n",
        "data = np.loadtxt('M33velocities.csv', delimiter=',')\n",
        "\n",
        "distance = data[:,0]\n",
        "velocity = data[:,1]\n",
        "\n",
        "# Check that both array sizes match\n",
        "print(distance.size)\n",
        "print(velocity.size)"
      ]
    },
    {
      "cell_type": "markdown",
      "source": [
        "## Section 3: Create a rotation curve figure"
      ],
      "metadata": {
        "id": "KXmCAORRyTk0"
      }
    },
    {
      "cell_type": "markdown",
      "metadata": {
        "id": "ok-qjEm65Dns"
      },
      "source": [
        "Create a figure with velocity along the y-axis and radius along the x-axis. Title your figure 'M33 Rotation Curve' and properly label both axes."
      ]
    },
    {
      "cell_type": "code",
      "execution_count": 3,
      "metadata": {
        "id": "g51VFI0L5Dns",
        "outputId": "23337318-776b-492b-d6cd-770da3a4b1e8",
        "colab": {
          "base_uri": "https://localhost:8080/",
          "height": 313
        }
      },
      "outputs": [
        {
          "output_type": "execute_result",
          "data": {
            "text/plain": [
              "Text(0.5, 1.0, 'M33 Rotation Curve')"
            ]
          },
          "metadata": {},
          "execution_count": 3
        },
        {
          "output_type": "display_data",
          "data": {
            "text/plain": [
              "<Figure size 432x288 with 1 Axes>"
            ],
            "image/png": "[encoded data removed]"
          },
          "metadata": {
            "needs_background": "light"
          }
        }
      ],
      "source": [
        "%matplotlib inline\n",
        "from matplotlib import pyplot as plt\n",
        "\n",
        "plt.plot(distance, velocity, marker='.', color='k')\n",
        "plt.xlabel('Distance (kpc)')\n",
        "plt.ylabel('Velocity (km/s)')\n",
        "plt.title('M33 Rotation Curve')"
      ]
    },
    {
      "cell_type": "markdown",
      "metadata": {
        "id": "Lz3mRaFz5Dns"
      },
      "source": [
        "Using numpy, calculate the mass enclosed within each radius, $R$, from the above equation and the velocity and radius data. Pay attention to units while making this calculation."
      ]
    },
    {
      "cell_type": "code",
      "execution_count": 4,
      "metadata": {
        "id": "g9XqcJFy5Dns"
      },
      "outputs": [],
      "source": [
        "# Units we need\n",
        "G = 6.67430e-11 # m^3 / kg / s^2\n",
        "km_to_m = 1.e3\n",
        "kpc_to_m = 3.0856775814914e+16 * 1.e3 # pc to m then kpc to pc\n",
        "\n",
        "m_r = (velocity * km_to_m)** 2 * (distance * kpc_to_m) / G"
      ]
    },
    {
      "cell_type": "markdown",
      "source": [
        "Astronomers often express large quantities of mass in terms of solar masses. If you haven't already, convert your mass enclosed into units of solar mass."
      ],
      "metadata": {
        "id": "Gf650KxT7xiE"
      }
    },
    {
      "cell_type": "code",
      "source": [
        "# Convert to solar masses\n",
        "kg_to_msolar = 1./1.99e30\n",
        "m_r_solar = m_r * kg_to_msolar"
      ],
      "metadata": {
        "id": "5sNovHSY7x8o"
      },
      "execution_count": 5,
      "outputs": []
    },
    {
      "cell_type": "markdown",
      "metadata": {
        "id": "kzSS7dgb5Dns"
      },
      "source": [
        "Create a figure showing the mass enclosed (y-axis) against the radius (x-axis). Adjust your title and y-axis as necessary for this new figure.\n",
        "\n",
        "From images of M33, we see that stars only go out to a radius of 7 kpc. Add a vertical line in this figure at 7 kpc (https://matplotlib.org/api/_as_gen/matplotlib.pyplot.axvline.html may be useful)."
      ]
    },
    {
      "cell_type": "code",
      "execution_count": 6,
      "metadata": {
        "id": "Cp4B3FnX5Dns",
        "outputId": "db43836f-c2bb-446f-f9f6-b61f4d1531c5",
        "colab": {
          "base_uri": "https://localhost:8080/",
          "height": 313
        }
      },
      "outputs": [
        {
          "output_type": "execute_result",
          "data": {
            "text/plain": [
              "Text(0.5, 1.0, 'M33 Mass Enclosed')"
            ]
          },
          "metadata": {},
          "execution_count": 6
        },
        {
          "output_type": "display_data",
          "data": {
            "text/plain": [
              "<Figure size 432x288 with 1 Axes>"
            ],
            "image/png": "[encoded data removed]"
          },
          "metadata": {
            "needs_background": "light"
          }
        }
      ],
      "source": [
        "plt.plot(distance, m_r_solar, marker='.', color='k')\n",
        "plt.axvline(7., linestyle=':')\n",
        "plt.xlabel('Distance (kpc)')\n",
        "plt.ylabel('Mass (M$_{\\odot}$)')\n",
        "plt.title('M33 Mass Enclosed')"
      ]
    },
    {
      "cell_type": "markdown",
      "metadata": {
        "id": "UG5Zlsz15Dns"
      },
      "source": [
        "What do you notice about the behaviour of the mass of the galaxy as you go to larger and larger radii? Does the mass drop significantly at any point? Change the font color below to learn more!"
      ]
    },
    {
      "cell_type": "code",
      "source": [
        "# Comment here"
      ],
      "metadata": {
        "id": "ugwxmLKwAv8M"
      },
      "execution_count": 7,
      "outputs": []
    },
    {
      "cell_type": "markdown",
      "source": [
        "You should see that even beyond the 15 kpc outer edge of the galaxy, the mass enclosed still continues to increase. \n",
        "\n",
        "The mass we can't see is dark matter. You've just uncovered one of the main pieces of evidence indicating that there is a significant amount of matter that we can't see, hidden within M33. The only way we can detect it is in how it exerts a gravitational force on other matter, through this rotation curve."
      ],
      "metadata": {
        "id": "DhwvqFiLAxCg"
      }
    },
    {
      "cell_type": "markdown",
      "metadata": {
        "id": "pYa2RKnx5Dns"
      },
      "source": [
        "## Section 4: Solar System comparison\n",
        "\n",
        "For comparison, use the velocities and radii of planets in the Solar System to calculate the mass enclosed as a function of radius. If you have worked on Challenge 2, you may have already collected this information into NumPy arrays.\n",
        "\n",
        "This figure may look a little better if you plot the x-axis in Astronomical Units (AU) and change the x-axis to a logarithmic scale (discussed in Challenge 4)."
      ]
    },
    {
      "cell_type": "code",
      "execution_count": 8,
      "metadata": {
        "id": "NhmG00Bz5Dns",
        "outputId": "e2972dee-a67f-4ea2-b322-2f517d2956c0",
        "colab": {
          "base_uri": "https://localhost:8080/",
          "height": 335
        }
      },
      "outputs": [
        {
          "output_type": "stream",
          "name": "stdout",
          "text": [
            "[5.790e+10 1.082e+11 1.496e+11 2.280e+11 7.785e+11 1.432e+12 2.867e+12\n",
            " 4.515e+12]\n"
          ]
        },
        {
          "output_type": "display_data",
          "data": {
            "text/plain": [
              "<Figure size 432x288 with 1 Axes>"
            ],
            "image/png": "[encoded data removed]"
          },
          "metadata": {
            "needs_background": "light"
          }
        }
      ],
      "source": [
        "# Create an array of radii\n",
        "r = np.array([  57.9, # Mercury\n",
        "               108.2, # Venus\n",
        "               149.6, # Earth\n",
        "               228.0, # Mars\n",
        "               778.5, # Jupiter\n",
        "              1432.0, # Saturn\n",
        "              2867.0, # Uranus\n",
        "              4515.0  # Neptune\n",
        "              ])\n",
        "\n",
        "# Unit conversion\n",
        "r *= 1e9 # 1e6 km => m\n",
        "print(r)\n",
        "\n",
        "# Create an array of reported velocities\n",
        "v_accepted = np.array([47.4, # Mercury\n",
        "                       35.0, # Venus\n",
        "                       29.8, # Earth\n",
        "                       24.1, # Mars\n",
        "                       13.1, # Jupiter\n",
        "                        9.7, # Saturn\n",
        "                        6.8, # Uranus\n",
        "                        5.4  # Neptune\n",
        "                       ])\n",
        "\n",
        "# Unit conversion km/s => m/s\n",
        "v_accepted *= 1.e3\n",
        "\n",
        "# Everthing is in SI units, now we can calculate M\n",
        "m_r_solar_system = v_accepted ** 2 * r / G * kg_to_msolar\n",
        "\n",
        "# For clarity, plot in AU and then use log scale\n",
        "# Students are not requested to perform this step\n",
        "km_to_au = 1./1.495979e8\n",
        "\n",
        "# Now plot\n",
        "plt.plot(r * km_to_au, m_r_solar_system, marker='.', color='k')\n",
        "plt.xlabel('Distance (AU)')\n",
        "plt.ylabel('Mass (M$_{\\odot}$)')\n",
        "plt.title('Solar System Mass Enclosed')\n",
        "plt.xscale('log')"
      ]
    },
    {
      "cell_type": "markdown",
      "source": [
        "Does the mass enclosed in the solar system change significantly as you increase your distance from the Sun? How does this compare to the galaxy example?"
      ],
      "metadata": {
        "id": "TDzJfA1bBQoY"
      }
    },
    {
      "cell_type": "code",
      "source": [
        "# Comment here"
      ],
      "metadata": {
        "id": "HuiZ317SB0tw"
      },
      "execution_count": 9,
      "outputs": []
    }
  ],
  "metadata": {
    "kernelspec": {
      "display_name": "Python 3",
      "language": "python",
      "name": "python3"
    },
    "language_info": {
      "codemirror_mode": {
        "name": "ipython",
        "version": 3
      },
      "file_extension": ".py",
      "mimetype": "text/x-python",
      "name": "python",
      "nbconvert_exporter": "python",
      "pygments_lexer": "ipython3",
      "version": "3.8.5"
    },
    "colab": {
      "name": "Challenge_5_Galaxy_Rotation_Curves.ipynb",
      "provenance": []
    }
  },
  "nbformat": 4,
  "nbformat_minor": 0
}