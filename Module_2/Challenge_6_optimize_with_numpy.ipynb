{
 "cells": [
  {
   "cell_type": "markdown",
   "metadata": {},
   "source": [
    "# Challenge 3 | Optimize a Code With NumPy\n",
    "\n",
    "As a computational scientist dealing with large data sets, you'll do a lot of coding, and potentially a lot of waiting. While that might leave you with some extra time to ponder the mysteries of the Universe (or take a nap), when you're waiting for results that could help you answer an important question that you've been mulling over for a while, you don't want to wait any longer than you have to. That's why you go beyond just getting your code to work properly, and strive to optimize it to run as quickly and intelligently as possible.\n",
    "\n",
    "Something that’s extremely common in computational research in the physical sciences is having to compute different types of averages or other global properties of a system of particles, which requires you “loop” over lists/arrays, compute sums, etc. For example, in astrophysics, if you are simulating the evolution of a star cluster or a galaxy, you might do so by setting up a large number of “particles” (e.g., stars, or clumps of stars) and then evolving them according to the physics of the system. Periodically, you assess how the system is evolving by computing various global properties, such as the center of mass, in this example.\n",
    "\n",
    "There are faster and slower ways to do this, and slow can refer to how long it takes the scientist to program it, as well as how long it takes the computer to perform the calculations. Simulations like the one we described above typically include very large numbers of particles, up to millions or even billions, so computations that involve looping over all particles can quickly become a bottleneck for your code.\n",
    "\n",
    "In this challenge, you'll explore this example of computing the center of mass of a system of particles in three dimensions. For a system of n particles, each described by their 3D position coordinates and mass, the center of mass, or COM, of the system can be computed with the following formula:\n",
    "\n",
    "![title](formula.svg)\n",
    "\n",
    "Here, $x_{cm}$ represents the x coordinate of the COM, and the other COM coordinates $y_{cm}$ and $z_{cm}$ can be computed with analogous equations.\n",
    "\n",
    "__A version of this code is in the cell below - your job is to optimize it. __\n",
    "\n",
    "After analyzing the code provided, follow the instructions below to optimize this code, which we recommend doing in different cells within the same notebook. Be sure to retain the original code for comparison later!"
   ]
  },
  {
   "cell_type": "code",
   "execution_count": 2,
   "metadata": {},
   "outputs": [],
   "source": [
    "# Challenge Code: Version 1 (Original)\n",
    "import random\n",
    "\n",
    "# Set up initial system or particles\n",
    "x, y, z, m = [], [], [], []\n",
    "for i in range(1000000): \n",
    "    x.append(random.uniform(0,100))\n",
    "    y.append(random.uniform(0,100))\n",
    "    z.append(random.uniform(0,100))\n",
    "    m.append(random.uniform(1,10))\n",
    "\n",
    "#Calculate the COM of the system (writing as a function makes it easier to time it!)\n",
    "def f1_calc_com(x, y, z, m): \n",
    "    xmsum = 0\n",
    "    for j in range(len(x)):\n",
    "        xmsum = xmsum + x[j]*m[j]    \n",
    "    xcm = xmsum/sum(m) \n",
    "\n",
    "    ymsum = 0\n",
    "    for j in range(len(y)):\n",
    "        ymsum = ymsum + y[j]*m[j]    \n",
    "    ycm = ymsum/sum(m) \n",
    "    \n",
    "    zmsum = 0\n",
    "    for j in range(len(z)):\n",
    "        zmsum = zmsum + z[j]*m[j]    \n",
    "    zcm = zmsum/sum(m) \n",
    "    \n",
    "    return xcm, ycm, zcm"
   ]
  },
  {
   "cell_type": "code",
   "execution_count": 3,
   "metadata": {},
   "outputs": [
    {
     "name": "stdout",
     "output_type": "stream",
     "text": [
      "287 ms ± 5.01 ms per loop (mean ± std. dev. of 7 runs, 1 loop each)\n"
     ]
    }
   ],
   "source": [
    "%timeit f1_calc_com(x, y, z, m)"
   ]
  },
  {
   "cell_type": "markdown",
   "metadata": {},
   "source": [
    "## Version 1: Keep the Python Lists\n",
    "\n",
    "Modify the original code to make it run more efficiently in the cell below, but without changing the Python lists to NumPy arrays.\n",
    "\n",
    "__Tips:__\n",
    "\n",
    "> - Consider whether there's a more efficient way to set up the initial conditions (using list comprehension)<br>\n",
    "> - See if it's possible to reduce the amount of looping required<br>\n",
    "> - Look for any unnecessary or repeated calculations that can be removed<br>\n",
    "> - Check for alternative ways that certain calculations could be done more efficiently"
   ]
  },
  {
   "cell_type": "code",
   "execution_count": null,
   "metadata": {},
   "outputs": [],
   "source": []
  },
  {
   "cell_type": "markdown",
   "metadata": {},
   "source": [
    "## Version 2: Convert Python Lists to NumPy Arrays\n",
    "\n",
    "Use what you've learned about the ease (and efficiency) of working with NumPy arrays to re-calculate the center of mass in a more efficient way. For now, you can start with the Python lists already created (for x, y, z and m), and then proceed as follows:\n",
    "\n",
    "> - Convert these lists of random numbers to NumPy arrays (you can use asarray)<br>\n",
    "> - Drop the for loops - you can calculate xcm, ycm, and zcm each with just a single line of code!<br>"
   ]
  },
  {
   "cell_type": "code",
   "execution_count": null,
   "metadata": {},
   "outputs": [],
   "source": []
  },
  {
   "cell_type": "markdown",
   "metadata": {},
   "source": [
    "## Time It!\n",
    "\n",
    "Time both versions of your new code in the cell below to verify that NumPy arrays are the way to go when optimizing code!"
   ]
  },
  {
   "cell_type": "code",
   "execution_count": null,
   "metadata": {},
   "outputs": [],
   "source": []
  }
 ],
 "metadata": {
  "kernelspec": {
   "display_name": "Python 3",
   "language": "python",
   "name": "python3"
  },
  "language_info": {
   "codemirror_mode": {
    "name": "ipython",
    "version": 3
   },
   "file_extension": ".py",
   "mimetype": "text/x-python",
   "name": "python",
   "nbconvert_exporter": "python",
   "pygments_lexer": "ipython3",
   "version": "3.6.5"
  }
 },
 "nbformat": 4,
 "nbformat_minor": 2
}
