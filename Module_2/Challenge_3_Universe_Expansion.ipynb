{
  "cells": [
    {
      "cell_type": "code",
      "execution_count": 1,
      "metadata": {
        "id": "piE4WXRE4EGE",
        "colab": {
          "base_uri": "https://localhost:8080/"
        },
        "outputId": "719718db-d2ad-4097-fb93-94a5419d6be5"
      },
      "outputs": [
        {
          "output_type": "stream",
          "name": "stdout",
          "text": [
            "--2023-06-06 22:06:53--  https://raw.githubusercontent.com/CIERA-Northwestern/REACHpy/main/Module_2/data/type1a_sne.csv\n",
            "Resolving raw.githubusercontent.com (raw.githubusercontent.com)... 185.199.108.133, 185.199.109.133, 185.199.110.133, ...\n",
            "Connecting to raw.githubusercontent.com (raw.githubusercontent.com)|185.199.108.133|:443... connected.\n",
            "HTTP request sent, awaiting response... 200 OK\n",
            "Length: 816 [text/plain]\n",
            "Saving to: ‘type1a_sne.csv’\n",
            "\n",
            "\rtype1a_sne.csv        0%[                    ]       0  --.-KB/s               \rtype1a_sne.csv      100%[===================>]     816  --.-KB/s    in 0s      \n",
            "\n",
            "2023-06-06 22:06:53 (60.9 MB/s) - ‘type1a_sne.csv’ saved [816/816]\n",
            "\n"
          ]
        }
      ],
      "source": [
        "# Running in Google Colab? Run this cell to download the data\n",
        "!wget https://raw.githubusercontent.com/CIERA-Northwestern/REACHpy/main/Module_2/data/type1a_sne.csv\n",
        "\n",
        "# If you're not running in Colab, this file should be in the data directory.\n",
        "# Change the loading path of the file to include 'data/' when the file is loaded"
      ]
    },
    {
      "cell_type": "markdown",
      "metadata": {
        "id": "8zyREPeR4EGE"
      },
      "source": [
        "# The Expansion of the Universe"
      ]
    },
    {
      "cell_type": "markdown",
      "metadata": {
        "id": "OXqp_Q7U4EGE"
      },
      "source": [
        "## Section 1: Background\n",
        "\n",
        "In the early 20th Century, astronomers made a surprising discovery about the Universe that we're going to explore here. Astronomers were keenly interested in measuring the distances to \"spiral nebulae\" to understand whether they were a part of our galaxy, or extra-galactic (they would turn out to be extra-galaxies - separate galaxies on their own!). Astronomers were able to measure how fast those galaxies were moving towards or away from us.\n",
        "\n",
        "We will recreate the work of Edwin Hubble, who plotted the distances and velocities of those galaxies against eachother. In this directory there is a file called \"type1a_sne.csv\" that has the measured distances (in units of mega-parsecs) and velocities (in km s$^{-1}$) for a number of galaxies. Load those data in to two lists:"
      ]
    },
    {
      "cell_type": "markdown",
      "source": [
        "## Section 2: Reading in data\n",
        "\n",
        "We will use the file `type1a_sne.csv` which consists of galaxy data for in two columns: \n",
        " - Measured distances (in mega-parsecs, Mpc), and \n",
        " - velocities (in km s$^{-1}$). \n",
        " \n",
        "Load those data in to two NumPy arrays."
      ],
      "metadata": {
        "id": "qqM-mVwsum_k"
      }
    },
    {
      "cell_type": "code",
      "execution_count": 2,
      "metadata": {
        "id": "FATi9Hq34EGE",
        "colab": {
          "base_uri": "https://localhost:8080/"
        },
        "outputId": "39ce6d31-0f72-4b97-ecf1-82351f84bfcc"
      },
      "outputs": [
        {
          "output_type": "stream",
          "name": "stdout",
          "text": [
            "56\n",
            "56\n"
          ]
        }
      ],
      "source": [
        "import numpy as np\n",
        "\n",
        "sne_data = np.loadtxt('type1a_sne.csv', delimiter=',')\n",
        "sne_distance = sne_data.transpose()[0]\n",
        "sne_velocity = sne_data.transpose()[1]\n",
        "\n",
        "# Make sure arrays are the same size\n",
        "print(sne_distance.size)\n",
        "print(sne_velocity.size)"
      ]
    },
    {
      "cell_type": "markdown",
      "metadata": {
        "id": "JLJIb3_b4EGE"
      },
      "source": [
        "Now, make a plot with distance on the x-axis any velocity on the y-axis. Make sure to include nice axes labels."
      ]
    },
    {
      "cell_type": "code",
      "execution_count": 3,
      "metadata": {
        "id": "5Sn6pWWE4EGE",
        "colab": {
          "base_uri": "https://localhost:8080/",
          "height": 466
        },
        "outputId": "26a74165-0d4e-4731-deed-79cc1c303f3e"
      },
      "outputs": [
        {
          "output_type": "execute_result",
          "data": {
            "text/plain": [
              "Text(0, 0.5, 'Velocity [km/s]')"
            ]
          },
          "metadata": {},
          "execution_count": 3
        },
        {
          "output_type": "display_data",
          "data": {
            "text/plain": [
              "<Figure size 640x480 with 1 Axes>"
            ],
            "image/png": "[encoded data removed]"
          },
          "metadata": {}
        }
      ],
      "source": [
        "from matplotlib import pyplot as plt\n",
        "\n",
        "plt.plot(sne_distance, sne_velocity, marker='.', linestyle='')\n",
        "plt.xlabel('Distance [Mpc]')\n",
        "plt.ylabel('Velocity [km/s]')"
      ]
    },
    {
      "cell_type": "markdown",
      "source": [
        "When using Doppler shifts, astronomers assign negative velocities to objects moving towards us, and a positive velocity to objects moving away from us.\n",
        "\n",
        "For this set of galaxies, what trend do you notice?"
      ],
      "metadata": {
        "id": "DZz-eDX6w6pk"
      }
    },
    {
      "cell_type": "code",
      "source": [
        "# Comment here"
      ],
      "metadata": {
        "id": "LcS8fJwrxIvI"
      },
      "execution_count": 4,
      "outputs": []
    },
    {
      "cell_type": "markdown",
      "metadata": {
        "id": "oUAgGeR74EGE"
      },
      "source": [
        "Hubble discovered this relationship in 1929. All galaxies, regardless of where you look (outside of a few particularly close ones), are moving away from us. \n",
        "\n",
        "Our Universe is expanding!"
      ]
    },
    {
      "cell_type": "markdown",
      "source": [
        "## Section 3: How fast is the Universe expanding?"
      ],
      "metadata": {
        "id": "ouBK7hKmyBys"
      }
    },
    {
      "cell_type": "markdown",
      "source": [
        "Let's calculate how quickly the Universe is expanding by fitting a line through the data points in your figure.\n",
        "\n",
        "To accomplish this, we need to create the x and y values for the line."
      ],
      "metadata": {
        "id": "OwMDR1NvxjQA"
      }
    },
    {
      "cell_type": "markdown",
      "source": [
        "First we need to create an array that spans the full domain of your previous figure."
      ],
      "metadata": {
        "id": "yjtiwiU2y-N4"
      }
    },
    {
      "cell_type": "code",
      "source": [
        "# Create your array of x-values\n",
        "\n",
        "model_distance = np.arange(0,601,50)\n",
        "\n",
        "# Check that it's what we want\n",
        "print(model_distance)"
      ],
      "metadata": {
        "id": "qQPN4f_BzOWs",
        "colab": {
          "base_uri": "https://localhost:8080/"
        },
        "outputId": "fbda3b5a-ab4b-4273-ac7c-498df78d2f1c"
      },
      "execution_count": 5,
      "outputs": [
        {
          "output_type": "stream",
          "name": "stdout",
          "text": [
            "[  0  50 100 150 200 250 300 350 400 450 500 550 600]\n"
          ]
        }
      ]
    },
    {
      "cell_type": "markdown",
      "source": [
        "We will consider the best straight line that fits the data in your figure. In this case, we will assume a straight line that uses the form $$y=m\\,x,$$\n",
        "where $m$ is the slope.\n",
        "\n",
        "Create a function that will take $m$ and $x$ and will return $y$."
      ],
      "metadata": {
        "id": "oIC8Gr91zO18"
      }
    },
    {
      "cell_type": "code",
      "execution_count": 6,
      "metadata": {
        "id": "5G-c3-bQ4EGE"
      },
      "outputs": [],
      "source": [
        "# Create a function\n",
        "def hubble_line_function(m, x):\n",
        "    return m * x"
      ]
    },
    {
      "cell_type": "markdown",
      "source": [
        "Now apply the function you created to the array of $x$ values you created earlier. For now, choose any number for $m$ and we'll change it later to best fit the data."
      ],
      "metadata": {
        "id": "dGpCIO6T0mdw"
      }
    },
    {
      "cell_type": "code",
      "source": [
        "# Calculate y values\n",
        "model_velocity = hubble_line_function(5, model_distance) # Random value for starting m"
      ],
      "metadata": {
        "id": "VDf1F7y00tRs"
      },
      "execution_count": 7,
      "outputs": []
    },
    {
      "cell_type": "markdown",
      "metadata": {
        "id": "G-hhfKSN4EGE"
      },
      "source": [
        "Now, let's re-create your plot of galaxy distances versus galaxy velocities from above:\n",
        " - Plot the the $x$ and $y$ values from the function as a line. \n",
        " - If the line does not match the data plotted, adjust the value of the slope ($m$) until it does."
      ]
    },
    {
      "cell_type": "code",
      "execution_count": 8,
      "metadata": {
        "id": "3m0gdJ4I4EGE",
        "colab": {
          "base_uri": "https://localhost:8080/",
          "height": 466
        },
        "outputId": "d495ff62-4f76-40ec-c70e-69c80cec2069"
      },
      "outputs": [
        {
          "output_type": "execute_result",
          "data": {
            "text/plain": [
              "[<matplotlib.lines.Line2D at 0x7fd23c236ad0>]"
            ]
          },
          "metadata": {},
          "execution_count": 8
        },
        {
          "output_type": "display_data",
          "data": {
            "text/plain": [
              "<Figure size 640x480 with 1 Axes>"
            ],
            "image/png": "[encoded data removed]"
          },
          "metadata": {}
        }
      ],
      "source": [
        "plt.plot(sne_distance, sne_velocity, marker='.', linestyle='', color='b')\n",
        "plt.plot(model_distance, model_velocity, marker='', linestyle='-', color='k')\n",
        "plt.xlabel('Distance [Mpc]')\n",
        "plt.ylabel('Velocity [km/s]')\n",
        "\n",
        "# Now let's try fitting the data by adjusting m until it fits\n",
        "plt.plot(model_distance, hubble_line_function(65, model_distance), marker='', linestyle='-', color='r')"
      ]
    },
    {
      "cell_type": "markdown",
      "metadata": {
        "id": "e3x70Nzv4EGE"
      },
      "source": [
        "Let's record the value of the slope ($m$) of the line that agrees with the data. This is referred to as the Hubble Constant ($H_0$)."
      ]
    },
    {
      "cell_type": "code",
      "execution_count": 9,
      "metadata": {
        "id": "B317cMPx4EGE"
      },
      "outputs": [],
      "source": [
        "H0 = 65 # km/s/Mpc"
      ]
    },
    {
      "cell_type": "markdown",
      "metadata": {
        "id": "avzFm4Y_4EGE"
      },
      "source": [
        "Let's consider the units of the Hubble Constant. Look back at your equation for the line $y=m\\,x$. Knowing that $y$ has units of km/s, and $x$ has units of Mpc, what must be the units of the Hubble Constant, $H_0$ (or $m$)? "
      ]
    },
    {
      "cell_type": "code",
      "source": [
        "# Comment here"
      ],
      "metadata": {
        "id": "HevnuTlF47ew"
      },
      "execution_count": 10,
      "outputs": []
    },
    {
      "cell_type": "markdown",
      "source": [
        "You might notice that they are (distance)/(time)/(distance), or to simplify, 1/time, or a frequency. Use dimensional analysis to reduce your value of $H_0$ to have dimensions of 1/time."
      ],
      "metadata": {
        "id": "NzFdqAP248ME"
      }
    },
    {
      "cell_type": "code",
      "source": [
        "# Restate your H0 using only units of time.\n",
        "# Pay attention to units!\n",
        "\n",
        "# 1 Mpc = 1e6 pc\n",
        "# 1 parsec = 3.08567782e16 m\n",
        "\n",
        "hubble_frequency = H0 * 1e3 / (1e6 * 3.08567782e16) # km/s/Mpc x (km -> m) / (Mpc -> pc -> m) = 1/s = [1/time - a frequency]\n"
      ],
      "metadata": {
        "id": "mZ_jWbulIBNA"
      },
      "execution_count": 11,
      "outputs": []
    },
    {
      "cell_type": "markdown",
      "source": [
        "Use the fact that $1/H_0$ has units of time to calculate the age of the Universe in years. This is referred to as the Hubble Time."
      ],
      "metadata": {
        "id": "nI0x292LIBi4"
      }
    },
    {
      "cell_type": "code",
      "execution_count": 12,
      "metadata": {
        "id": "bkuxzdzB4EGE",
        "colab": {
          "base_uri": "https://localhost:8080/"
        },
        "outputId": "02dda98c-c125-45fc-d902-73d898aad14c"
      },
      "outputs": [
        {
          "output_type": "stream",
          "name": "stdout",
          "text": [
            "The age of the Universe in our simple model is 4.75e+17 seconds.\n",
            "The age of the Universe in our simple model is 1.51e+10 years.\n"
          ]
        }
      ],
      "source": [
        "hubble_time_seconds = 1 / hubble_frequency\n",
        "print(f'The age of the Universe in our simple model is {hubble_time_seconds:.2e} seconds.')\n",
        "\n",
        "# Convert to years\n",
        "hubble_time_years = hubble_time_seconds / 3.1536e7\n",
        "print(f'The age of the Universe in our simple model is {hubble_time_years:.2e} years.')"
      ]
    },
    {
      "cell_type": "markdown",
      "metadata": {
        "id": "pSiNCgP94EGE"
      },
      "source": [
        "The Hubble Time is an estimate of the age of a Universe that _has no matter in it_. This cannot be the case because we are sitting here today. For a Universe with matter in it, the gravity from that matter tends to counter the expansion of the Universe, and slow it down. \n",
        "\n",
        "A more detailed calculation shows that for a Universe with enough matter that the Universe coasts at a constant speed, the age of the Universe is more accurately calculated as $2/(3\\,H_0)$:\n",
        "\n",
        "![Universe expansion](https://github.com/mcstroh/REACHpy/blob/ideaspy_updates/Module_2/images/expanding_universe.png?raw=1)\n",
        "\n",
        "Use that formula to calculate a more accurate age of the Universe from your Hubble Constant:"
      ]
    },
    {
      "cell_type": "code",
      "execution_count": 13,
      "metadata": {
        "id": "hhr38SZ04EGE",
        "colab": {
          "base_uri": "https://localhost:8080/"
        },
        "outputId": "1ccf4ae4-885a-499f-92a9-e93704dedba7"
      },
      "outputs": [
        {
          "output_type": "stream",
          "name": "stdout",
          "text": [
            "The age of the Universe in our simple model is 1.00e+10 years using a more complex model.\n"
          ]
        }
      ],
      "source": [
        "# Convert to years\n",
        "hubble_time_years = 2/3/hubble_frequency / 3.1536e7\n",
        "print(f'The age of the Universe in our simple model is {hubble_time_years:.2e} years using a more complex model.')"
      ]
    },
    {
      "cell_type": "markdown",
      "source": [
        "This is one of a few different ways to calculate the age of the Universe, and our current best measurement from the Planck satellite is 13.8 billion years, and their Hubble constant is about 68 km/s/Mpc. How do your numbers compare?"
      ],
      "metadata": {
        "id": "pGxyH3FTKf98"
      }
    },
    {
      "cell_type": "code",
      "source": [
        "# Comment here"
      ],
      "metadata": {
        "id": "2eTy3jX4Kje8"
      },
      "execution_count": 14,
      "outputs": []
    },
    {
      "cell_type": "markdown",
      "metadata": {
        "id": "L0PxXPPK4EGE"
      },
      "source": [
        "\n",
        "\n",
        "If you numbers are different, you aren't alone! It turns out one of the interesting problems in astronomy today is that different ways of measuring the Hubble Constant get slightly different answers. \n",
        "\n",
        "![Best H_0 calculations](https://github.com/mcstroh/REACHpy/blob/ideaspy_updates/Module_2/images/freedman.png?raw=1)\n",
        "\n",
        "Although the differences are small, they are also significant. Why are they different? One comes from distances to galaxies, in the same way that you calculated the Hubble Constant here. The other comes from density fluctuations in the early universe when it was only 380,000 years old (cool!). Maybe there's some physics we don't understand creating the discrepancy. Or, maybe we are systematically measuring something incorrectly and we just don't know."
      ]
    }
  ],
  "metadata": {
    "kernelspec": {
      "display_name": "Python 3",
      "language": "python",
      "name": "python3"
    },
    "language_info": {
      "codemirror_mode": {
        "name": "ipython",
        "version": 3
      },
      "file_extension": ".py",
      "mimetype": "text/x-python",
      "name": "python",
      "nbconvert_exporter": "python",
      "pygments_lexer": "ipython3",
      "version": "3.8.5"
    },
    "colab": {
      "provenance": []
    }
  },
  "nbformat": 4,
  "nbformat_minor": 0
}