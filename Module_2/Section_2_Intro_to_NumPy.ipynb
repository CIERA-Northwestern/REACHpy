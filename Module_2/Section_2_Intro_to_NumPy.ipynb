{
  "cells": [
    {
      "cell_type": "markdown",
      "metadata": {
        "id": "N3EUWNsfQqLI"
      },
      "source": [
        "# Section 2. Intro to NumPy\n",
        "## 2.1 Getting Started with NumPy\n",
        "\n",
        "NumPy (often pronounced \"num-pie\") is a widely used module that is optimized to efficiently execute a variety of mathematical operations. The name Numpy hints at its usefulness for us: Numerical Python. Numpy will be extremely useful for your budding career as an astronomer because of everything it can help you do - read in and manipulate large amounts of data, quickly do simple or complex math, and much much more.\n",
        "\n",
        "Before we do anything else, we must import the module.\n",
        "Try doing this yourself in the cell below.\n",
        "```\n",
        "import numpy as np\n",
        "```\n",
        "Importing this module under the alias \"np\" isn't necessary, strictly speaking, but it will make your life easier by taking up less space on a line of code.\n",
        "It is standard practice to import numpy as np."
      ]
    },
    {
      "cell_type": "code",
      "execution_count": null,
      "metadata": {
        "id": "x5sKc4xrQpxM"
      },
      "outputs": [],
      "source": [
        "# import numpy below"
      ]
    },
    {
      "cell_type": "markdown",
      "metadata": {
        "id": "I2oAOBbmRrSu"
      },
      "source": [
        "### 2.1.1 Making your first arrays\n",
        "\n",
        "Now that we've imported the module, we can now start talking about why we want to use NumPy.\n",
        "\n",
        "The biggest and main advantage of using NumPy is the use of arrays.\n",
        "An array is similar to a list, except that arrays are optimized for use in mathematical applications.\n",
        "\n",
        "We can turn a list into an array as follows:\n",
        "```\n",
        "list1 = [0, 3, 8, 10, 14]\n",
        "list2 = [9, 5, 3, 2, 4]\n",
        "\n",
        "array1 = np.array([0, 3, 8, 10, 14])\n",
        "array2 = np.array([9, 5, 3, 2, 4])\n",
        "```\n",
        "Above, we defined two lists, list1 and list2.\n",
        "Then, we created two arrays, array1 and array2, using the same numerical values as the lists.\n",
        "We could have also performed the following:\n",
        "```\n",
        "array1 = np.array(list1)\n",
        "```\n",
        "Note that arrays in NumPy have a couple of restrictions regarding what can go in them.\n",
        "For our purposes, arrays should only contain numbers.\n",
        "There are ways to put strings, or other non-numerical items into arrays, but that's beyond the scope of this course.\n",
        "\n",
        "In the code block below, define your own set of lists and arrays using your own values."
      ]
    },
    {
      "cell_type": "code",
      "execution_count": null,
      "metadata": {
        "id": "MFz_2Lb23UX-"
      },
      "outputs": [],
      "source": []
    },
    {
      "cell_type": "markdown",
      "metadata": {
        "id": "3E52sqvq0155"
      },
      "source": [
        "### 2.1.2 Mathematical Manipulation of Arrays\n",
        "To illustrate the difference, let's go back to lists. In the previous module, you were asked to do mathematical operations on two lists. If you wanted to add the entries of two lists together, your code would probably look something like this:\n",
        "```\n",
        "list3 = len(list1)*[0] # first line\n",
        "\n",
        "for i in range(len(list1)): # second line\n",
        "    list3[i] = list1[i] + list2[i] # third line\n",
        "```\n",
        "This took three lines of code, not including where we initialize list1 and list2.\n",
        "\n",
        "Now, here's how you can accomplish the same thing with NumPy:\n",
        "```\n",
        "array3 = array1 + array2\n",
        "```\n",
        "Only one line of code!\n",
        "We won't show it here, but it takes a computer much less time to do this type of operation with arrays instead of lists, especially as the number of entries in your array grows larger and larger.\n",
        "[(Apparently NumPy starts being faster around n=8)](https://stackoverflow.com/a/18713494)\n",
        "\n",
        "What else can we do?\n",
        "Anything you can do to two numbers in Python, you can do to two lists with NumPy.\n",
        "```\n",
        "array1 + array2 # addition\n",
        "array1 * array2 # multiplication\n",
        "array1 - array2 # subtraction\n",
        "array1 / array2 # division\n",
        "array1**array2 # exponentiation\n",
        "```\n",
        "The catch is that if you're doing element-wise operations, both arrays must be the same length.\n",
        "Sometimes we want to do something to all the numbers in a single array.\n",
        "In this case, we can do operations with an array and a number (int or float). For example,\n",
        "```\n",
        "array1 + 2 # add 2 to all numbers\n",
        "array1 / 2 # divide all numbers by 2\n",
        "```\n",
        "In these cases, the rules for the order of operations are the same as for normal mathematical operations."
      ]
    },
    {
      "cell_type": "code",
      "execution_count": null,
      "metadata": {},
      "outputs": [],
      "source": []
    },
    {
      "cell_type": "markdown",
      "metadata": {
        "id": "pkzu3Brz3aOm"
      },
      "source": [
        "### Problem: 3D Function\n",
        "\n",
        "Mathematical functions commonly depend on two or more variables. Let's say we have a function $z=f(x,y)$ which we want to evaluate at different $(x,y)$ locations. Let's say we have the function:\n",
        "\n",
        "$$ z = f(x,y) = \\frac{xy^2}{3} + 2. $$\n",
        "\n",
        "Suppose we want to evaluate the function at the four (x, y) data points:\n",
        "*   (0, 0)\n",
        "*   (1, 2)\n",
        "*   (2, 5)\n",
        "*   (3, 9)\n",
        "\n",
        "In the cell below, write code that solves for z using the function at the four points.\n",
        "Define two arrays, one for $x$ and one for $y$.\n",
        "To check to see if your code is accurate, use one or two of the points to find the value of z either with a calculator or with pencil and paper."
      ]
    },
    {
      "cell_type": "code",
      "execution_count": null,
      "metadata": {
        "id": "8yzy4wjG0zrL"
      },
      "outputs": [],
      "source": []
    },
    {
      "cell_type": "markdown",
      "metadata": {
        "id": "0hAAs_GNvxnn"
      },
      "source": [
        "### 2.1.3 Special NumPy Functions\n",
        "\n",
        "There are many special mathematical functions that you'll probably often use.\n",
        "We can divide these into different categories.\n",
        "\n",
        "First, there are functions that exist in Python already, like $\\sin(x)$, $\\log(x)$, or $\\exp(x)$.\n",
        "However, the native Python functions only work on single numbers (i.e. floats or ints), so we need a version that works for multidimensional objects.\n",
        "Here are some examples provided by NumPy:\n",
        "```\n",
        "np.sin(x) # sin of each element in x\n",
        "np.log10(x) # log base 10 of each element in x\n",
        "np.exp(x) # e^x for each element in x\n",
        "```\n",
        "\n",
        "Then, there are some functions that only have meaning when we're dealing with collections of numbers.\n",
        "Some of these should be familiar from statistics, like the average, median, or range.\n",
        "Others include things like the product or sum of all elements,\n",
        "the difference between successive elements, or the maximum and minimum values of an array (and their indices).\n",
        "Here are some examples:\n",
        "```\n",
        "np.mean(x) # mean of x\n",
        "np.std(x) # standard deviation of x\n",
        "np.sum(x) # sum of array elements or along an axis\n",
        "np.diff(x) # difference between consecutive elements along an axis\n",
        "np.amin(x) # min value of array or along a given axis\n",
        "np.argmax(x) # indices of max values of array or along a given axis\n",
        "```\n",
        "\n",
        "One nice thing about using these functions is that they typically take \"array-like\" arguments.\n",
        "In other words, you can give these functions a list and they'll convert the list to an array for you! These are also much faster than their Python analogs since they're optimized for arrays.\n",
        "\n",
        "You can find details and additional functions that could be useful to you [here](https://numpy.org/doc/stable/reference/routines.math.html)."
      ]
    },
    {
      "cell_type": "code",
      "execution_count": null,
      "metadata": {},
      "outputs": [],
      "source": []
    },
    {
      "cell_type": "markdown",
      "metadata": {
        "id": "Y-9NFyKzuBnb"
      },
      "source": [
        "### 2.1.4 Concatenate Arrays\n",
        "\n",
        "You can also combine separate arrays into a single array using the concatenate function. Consider the two arrays containing the semimajor axes of the inner and outer planets in the Solar System:\n",
        "```python\n",
        "a_inner = np.array([5.76e10, 1.082e11, 1.496e11, 2.280e11])\n",
        "a_outer = np.array([7.785e11, 1.432e12, 2.867e12, 4.515e12])\n",
        "```\n",
        "We can combine both arrays into a single array using the concatenate command. Notice that we need two sets of parenthesis!\n",
        "```python\n",
        "a_all = np.concatenate((a_inner, a_outer))\n",
        "print(a_all)\n",
        "```\n",
        "Try yourself in the following code cell."
      ]
    },
    {
      "cell_type": "code",
      "execution_count": null,
      "metadata": {
        "id": "F6b2IqVhuxpa"
      },
      "outputs": [],
      "source": []
    },
    {
      "cell_type": "markdown",
      "metadata": {
        "id": "rnMGSMLlrghE"
      },
      "source": [
        "## 2.2 Multidimensional Arrays\n",
        "\n",
        "Useful data can rarely be described in a single dimension. To describe the motion of a point particle, we need seven numbers: position ($x$, $y$, and $z$) and velocities ($v_x$, $v_y$, and $v_z$) as well as time ($t$).\n",
        "Stars have numerous properties, such as mass, radius, composition, position in the sky, distance, etc.\n",
        "In these cases, it would be unwieldy to have many separate lists of numbers. Luckily for us, the NumPy array datatype is actually called an ndarray, where n stands for N and d stands for dimensions.\n",
        "In other words, our arrays can have any dimensionality we require!\n",
        "For now, let's restrict ourselves to two dimensions, which will be sufficient for most of our use cases.\n",
        "You might have three dimensions (for example, making a 2D animation or running a simulation of particles) and more rarely four or more, but luckily everything we are about see works the same for arrays with higher dimensions.\n",
        "\n",
        "### 2.2.1 Creating Multidimensional Arrays + .shape\n",
        "\n",
        "When you initialize 2D arrays, you should give a list of rows.\n",
        "```\n",
        "A = np.array([[1, 2, 3],\n",
        "              [4, 5, 6]])\n",
        "```\n",
        "In this example, the array has 6 elements, arranged in two rows and three columns. The first row is [1, 2, 3] and the first column is [1, 4]. We could instead arrange these six elements in a host of different ways. For example:\n",
        "```\n",
        "B = np.array([[1, 2], # three rows and two columns\n",
        "              [3, 4],\n",
        "              [5, 6]])\n",
        "C = np.array([[1, 2, 3, 4, 5, 6]]) # one row and six columns\n",
        "D = np.array([[1], # six rows and one column\n",
        "              [2],\n",
        "              [3],\n",
        "              [4],\n",
        "              [5],\n",
        "              [6]])\n",
        "```\n",
        "That's four different ways to arrange six numbers! For larger collections of numbers, there can be even more combinations. We may need to check the shape our arrays, which can can do with the shape parameter:\n",
        "```\n",
        "A.shape # (2, 3)\n",
        "```\n",
        "The shape parameter outputs (# of rows, # of columns) for 2D arrays.\n",
        "\n",
        "In the cell below, create some 2D arrays and make sure they have the shape you expect by printing the shape parameter."
      ]
    },
    {
      "cell_type": "code",
      "execution_count": null,
      "metadata": {
        "id": "APv5e6DM4-7c"
      },
      "outputs": [],
      "source": []
    },
    {
      "cell_type": "markdown",
      "metadata": {
        "id": "CnGM8IsBYs8t"
      },
      "source": [
        "It's common for data to be given to us. For example, maybe I can give you three lists of planetary mass, radii, and distances (units in SI, first four planets only). We can combine them like this:\n",
        "```\n",
        "masses = [3.3e23, 4.9e24, 6.0e24, 6.4e23] # kg\n",
        "radii = [2439, 6052, 6378, 3398] # m\n",
        "periods = [5.7e10, 1.1e11, 1.5e11, 2.3e11] # m\n",
        "\n",
        "planets = np.array([masses, radii, periods])\n",
        "```\n",
        "Thus each column describes a planet, and each property is a row.\n",
        "If you want to make it the other way around, you can do so by taking the transpose of the array.\n",
        "```\n",
        "planets_T = planets.transpose()\n",
        "```\n",
        "Try this yourself below.\n",
        "Also, compare the shapes and entries of planets and planets_T to make sure everything looks right."
      ]
    },
    {
      "cell_type": "code",
      "execution_count": null,
      "metadata": {
        "id": "-twFB-nmZJ1Y"
      },
      "outputs": [],
      "source": []
    },
    {
      "cell_type": "markdown",
      "metadata": {
        "id": "ayVxVgPd4_Q7"
      },
      "source": [
        "### 2.2.2 np.zeros() and np.ones()\n",
        "\n",
        "It's extremely unwieldy to make 2D arrays.\n",
        "Just as we are able to make lists with placeholders very quickly, there are some functions that make simple arrays for you very easily.\n",
        "The two most common are np.zeros() and np.ones().\n",
        "The first gives you an array with all zeros and the second an array with all ones.\n",
        "Both functions take the same arguments.\n",
        "As an example, let's consider np.zeros().\n",
        "The main argument is the shape of the array you want.\n",
        "\n",
        "For example,\n",
        "```\n",
        "np.zeros(5) # this returns an array of length 5\n",
        "\n",
        "np.zeros((2, 6)) # this returns an array with 2 rows and 6 columns\n",
        "```\n",
        "Try yourself in the code cell."
      ]
    },
    {
      "cell_type": "code",
      "execution_count": null,
      "metadata": {
        "id": "m8z2-VHjgaSQ"
      },
      "outputs": [],
      "source": []
    },
    {
      "cell_type": "markdown",
      "metadata": {
        "id": "ndIhvYsUgaxS"
      },
      "source": [
        "### 2.2.3 np.arange and np.linspace()\n",
        "\n",
        "The np.arange function is exactly the same as range() from before, but it returns an array. Technically, the other main difference is that we can use non-integer step sizes. However, in those cases, it's better to use the next function.\n",
        "\n",
        "np.linspace is a little different. This lets us make an array with equally spaced numbers by specifying the start, end, and number of points. This is extremely useful in a variety of applications, especially plotting. Note that, given the nature of these functions, we can only make 1D arrays in this manner.\n",
        "\n",
        "```\n",
        "# 50 (default) linearly-spaced numbers from 0 to 10\n",
        "np.linspace(0, 10)\n",
        "\n",
        "# With 3 arguments, this generates 200 numbers should generated\n",
        "np.linspace(0, 10, 200)\n",
        "\n",
        "# This is helpful, for example, if you wanted to plot the sin( ) function\n",
        "x = np.linspace(0, 2*np.pi, 100)\n",
        "```\n",
        "It is possible to reshape arrays.\n",
        "In the cell below, compare the output from these two lines of code.\n",
        "```\n",
        "print(np.arange(12))\n",
        "print(np.arange(12).reshape(4, 3))\n",
        "```"
      ]
    },
    {
      "cell_type": "code",
      "execution_count": null,
      "metadata": {
        "id": "8GTNCxEVj_7B"
      },
      "outputs": [],
      "source": []
    },
    {
      "cell_type": "markdown",
      "metadata": {
        "id": "LsDT2aqQkAUa"
      },
      "source": [
        "### 2.2.4 np.loadtxt()\n",
        "\n",
        "We can also import a data file into an array.\n",
        "All you need to do is supply a filename. In this case,  we will load the file named 'example.txt'\n",
        "```\n",
        "data = np.loadtxt('example.txt')\n",
        "```\n",
        "After you load the data, do the following:\n",
        "1. Get the shape of the array\n",
        "2. Sum all the elements of the array\n",
        "3. The the max values of each row (axis=0) and each column (axis=1)\n",
        "4. Finally, sum each row and column individually. Your answer might surprise you."
      ]
    },
    {
      "cell_type": "code",
      "execution_count": null,
      "metadata": {
        "id": "i7M1XTlXH2_Y"
      },
      "outputs": [],
      "source": [
        "# Running in Google Colab? Run this cell to download the file\n",
        "!wget https://raw.githubusercontent.com/CIERA-Northwestern/REACHpy/main/Module_2/data/example.txt\n",
        "\n",
        "# If you're not running in Colab, this file should be in the data directory.\n",
        "# Change the loading path of the file to include 'data/' when the file is loaded"
      ]
    },
    {
      "cell_type": "code",
      "execution_count": null,
      "metadata": {
        "id": "rcRzFCmxlQV-"
      },
      "outputs": [],
      "source": [
        "data = np.loadtxt('example.txt')"
      ]
    },
    {
      "cell_type": "markdown",
      "metadata": {
        "id": "Bfx8ex9dlQhn"
      },
      "source": [
        "In the above example, the file assumed the columns are separated by whitespace, which loadtxt assumes by default.\n",
        "This isn't always the case.\n",
        "For example, some files may instead separate values by commas. In the case of comma-separated values (CSV) file format, you would need to pass a delimiter option:\n",
        "```\n",
        "data = np.loadtxt('example.txt', delimiter=',')\n",
        "```\n",
        "We will not be doing an example here, but we may see it in future Challenge Problems."
      ]
    },
    {
      "cell_type": "markdown",
      "metadata": {
        "id": "m8zG05ZsIxUB"
      },
      "source": [
        "### 2.2.5 np.meshgrid()\n",
        "\n",
        "In the lists section, we discussed a way of evaluating a function on a *grid* of points by using nested for loops. We can accomplish something similar without needing to use loops with the function `np.meshgrid`. The example from that section was\n",
        "```\n",
        "xs = [0,1,3,5,6]\n",
        "ys = [1,3,6,7,10]\n",
        "\n",
        "zs = len(xs)*[0]\n",
        "for i in range(len(xs)):\n",
        "    zs[i] = len(ys)*[0]\n",
        "\n",
        "for i, x in enumerate(xs):\n",
        "    for j, y in enumerate(ys):\n",
        "        zs[i][j] = x*x + y\n",
        "\n",
        "print(zs)\n",
        "```\n",
        "Here's one way we could do this in numpy:\n",
        "\n",
        "```\n",
        "xs = np.array([0, 1, 3, 5, 6])\n",
        "ys = np.array([1, 3, 6, 7, 10])\n",
        "\n",
        "xx, yy = np.meshgrid(xs, ys)\n",
        "zz = xx*xx + yy\n",
        "```\n",
        "Run the NumPy example below and print out xx and yy to see what's going on. Essentially, the function takes your x and y values and clones the x values along each row and the y values along each column so you work with 2D arrays."
      ]
    },
    {
      "cell_type": "code",
      "execution_count": null,
      "metadata": {
        "id": "ja7Rkx3LC4CD"
      },
      "outputs": [],
      "source": []
    },
    {
      "cell_type": "markdown",
      "metadata": {
        "id": "aLRNHiQ1IvSd"
      },
      "source": [
        "## 2.3 Indexing and Slicing in NumPy\n",
        "\n",
        "### 2.3.1 Commonalities with Lists\n",
        "\n",
        "Luckily for us, accessing the data in 1D arrays is essentially the same as working with normal lists! Just to review with some examples,\n",
        "```\n",
        "my_array = np.arange(8)\n",
        "\n",
        "my_array[3] # this gets the 4th element of my_array\n",
        "my_array[-5:] # this gets the last 5 elements of my_array\n",
        "my_array[1:6:2] # this gets every other element of my_array, starting with the 2nd and stopping by the 7th\n",
        "```\n",
        "Try yourself in the code cell."
      ]
    },
    {
      "cell_type": "code",
      "execution_count": null,
      "metadata": {
        "id": "V78nMcIGrNk8"
      },
      "outputs": [],
      "source": []
    },
    {
      "cell_type": "markdown",
      "metadata": {
        "id": "1L4RdtHsrOCU"
      },
      "source": [
        "### 2.3.2 Working with 2D Arrays\n",
        "\n",
        "Now that we have multiple dimensions, we can access the arrays along multiple dimensions.\n",
        "In order to specify multiple axes, we can separate them with commas:\n",
        "```\n",
        "my_array = np.arange(48).reshape(6, 8)\n",
        "\n",
        "my_array[2, 3] # accesses the element in the 3rd row, 4th column\n",
        "```\n",
        "The various rules for slicing also apply here.\n",
        "```\n",
        "my_array[1:-1,::2] # get all but the first and last row, every other column\n",
        "```\n",
        "What if we only want to get certain rows? Since a 2D array is basically an array of arrays, we can access rows by pretending we're working with a 1D array.\n",
        "```\n",
        "my_array[4] # access the 5th row\n",
        "my_array[2:5] # access rows 3 through 6\n",
        "```\n",
        "What about columns? If we want to access part or all of a column in every row, use a colon before the comma:\n",
        "```\n",
        "my_array[:, 4] # access the 5th col\n",
        "my_array[:, 2:5] # access cols 3 through 6\n",
        "```\n",
        "Try to work through these examples in your head before you try to run them in the cell below."
      ]
    },
    {
      "cell_type": "code",
      "execution_count": null,
      "metadata": {
        "id": "BJmZy3cytxPQ"
      },
      "outputs": [],
      "source": []
    },
    {
      "cell_type": "markdown",
      "metadata": {
        "id": "n252YVGJtxZ9"
      },
      "source": [
        "### 2.3.3 Accessing Specific Indices\n",
        "\n",
        "NumPy can access multiple indices and values at once. For example,\n",
        "```\n",
        "my_array = np.arange(8)\n",
        "\n",
        "my_array[[0, 2, 3, 6]] # this gets the elements at all the specified positions\n",
        "```\n",
        "\n",
        "Try the example in the code cell."
      ]
    },
    {
      "cell_type": "code",
      "execution_count": null,
      "metadata": {
        "id": "9tsZa9V_t1t6"
      },
      "outputs": [],
      "source": []
    },
    {
      "cell_type": "markdown",
      "metadata": {
        "id": "C4LS3gnit11P"
      },
      "source": [
        "### 2.3.4 Boolean Indexing\n",
        "\n",
        "The word Boolean means we're dealing with conditional logic (True or False).\n",
        "\n",
        "Instead of accessing data based on the index, we can do it based on the nature of the data itself! For example, in the following list, suppose we want only the even numbers.\n",
        "```\n",
        "a = np.arange(12)\n",
        "\n",
        "a[a%2 == 0]\n",
        "```\n",
        "Here, the == means 'is equal to', as opposed to =, which is just assignment. Here's a list of the different comparison operators you'll probably use:\n",
        "```\n",
        "== # equal to\n",
        "!= # not equal to\n",
        "<= # less than or equal to\n",
        "<  # less than\n",
        ">= # greater than or equal to\n",
        ">  # greater than\n",
        "```\n",
        "In addition, we can chain logical statements together with these operators:\n",
        "```\n",
        "& # logical and\n",
        "| # logical or\n",
        "~ # logical not\n",
        "```\n",
        "Here's an example. Note that we need to enclose different logical statements in parentheses.\n",
        "```\n",
        "a[(a%2 == 0) & (a > 7)] # return elements even and greater than 7\n",
        "a[(a%2 == 0) & ((a > 7) | (a < 3))] # return elements even and greater than 7 or less than 3\n",
        "a[~(a%2 == 0) & ((a > 7) | (a < 3))] # return elements NOT even (ie odd) and greater than 7 or less than 3\n",
        "```\n",
        "Try to predict the output of each of these lines before running the code below."
      ]
    },
    {
      "cell_type": "code",
      "execution_count": null,
      "metadata": {
        "id": "JtNtjudvt8aj"
      },
      "outputs": [],
      "source": []
    },
    {
      "cell_type": "markdown",
      "metadata": {
        "id": "ENgOKPhE5uL2"
      },
      "source": [
        "### 2.3.5 Boolean Indexing in 2D\n",
        "\n",
        "For two dimensions, we need to specify the row or column.\n",
        "\n",
        "First, consider selecting rows based on different column values:\n",
        "```\n",
        "b = np.arange(48).reshape(6,8)\n",
        "b[b[:,4] > 20] # get all rows where column 5 is greater than 20\n",
        "b[(b[:,4] > 20) | (b[:,2] < 30)] # get all rows where column 5 is greater than 20 or column 3 is less than 30\n",
        "```\n",
        "Next, consider selecting columns based on different row values:\n",
        "```\n",
        "b[:,b[0,:] > 3] # get all columns where first row value is greater than 3\n",
        "b[:,(b[0,:] > 3) & b[0,:]%2 == 1] # get all columns where first row value is greater than 3 and odd\n",
        "```\n",
        "Try to predict the output of each of these lines before running the code below."
      ]
    },
    {
      "cell_type": "code",
      "execution_count": null,
      "metadata": {
        "id": "vuZg80xh-ARb"
      },
      "outputs": [],
      "source": []
    },
    {
      "cell_type": "markdown",
      "metadata": {
        "id": "b-_VU0nTCo-h"
      },
      "source": [
        "### 2.3.6 np.where()\n",
        "\n",
        "Boolean indexing is extremely useful, but sometimes we want to work with data in the same column(s) differently based on some condition. This is where the function `np.where` comes in handy. The syntax for `np.where` is\n",
        "```\n",
        "np.where(condition,if true do this, else do this)\n",
        "```\n",
        "This is simply an if-else statement.\n",
        "An example of this is as follows:\n",
        "```\n",
        "# Create masses of black holes\n",
        "m1 = np.random.uniform(5, 50, size=10)\n",
        "m2 = np.random.uniform(5, 50, size=10)\n",
        "\n",
        "# Define mass ratio to always be less than 1\n",
        "q = np.where(m2 < m1, m2/m1, m1/m2)\n",
        "print(q)\n",
        "```\n",
        "In the above example, the first two lines create masses of objects in a binary star system to be between 5 and 50 (in some unit system).\n",
        "Typically, in binary star system, the mass ratio is defined such that we divide the smaller mass by the larger mass.\n",
        "We could do this with a for loop and an if-else statement.\n",
        "This way is more compact and faster!\n",
        "\n",
        "There is a second use case for `np.where`.\n",
        "If you leave off the second and third arguments of the function, then the function will return a list. The first element of this list contains the indices where the condition is true.\n",
        "For example, the following code will return all the indices where the number is negative.\n",
        "```\n",
        "a = np.random.uniform(-1, 1, size=10)\n",
        "b = np.where(a < 0)[0]\n",
        "print(b)\n",
        "```\n"
      ]
    },
    {
      "cell_type": "code",
      "execution_count": null,
      "metadata": {
        "id": "TIS-kXE7CoFC"
      },
      "outputs": [],
      "source": []
    },
    {
      "cell_type": "markdown",
      "metadata": {
        "id": "mXZXUcint8lv"
      },
      "source": [
        "## 2.4 Practice Problem\n",
        "\n",
        "Use np.loadtxt to open the file named 'binaries.txt'. Characterize it. In particular,\n",
        "\n",
        "1. How many rows does it have?\n",
        "2. How many columns does it have?\n",
        "3. What kinds of values do each column contain? That is, how big or small are the numbers in each column? What's the smallest/largest number? The median? The average? If you notice anything else interesting, write that down too.\n",
        "\n",
        "Answer: Write your answers here.\n"
      ]
    },
    {
      "cell_type": "code",
      "execution_count": null,
      "metadata": {
        "id": "qrJ8tafHIz6-"
      },
      "outputs": [],
      "source": [
        "# Running in Google Colab? Run this cell to download the file\n",
        "!wget https://raw.githubusercontent.com/CIERA-Northwestern/REACHpy/main/Module_2/data/binaries.txt\n",
        "\n",
        "# If you're not running in Colab, this file should be in the data directory.\n",
        "# Change the loading path of the file to include 'data/' when the file is loaded"
      ]
    },
    {
      "cell_type": "code",
      "execution_count": null,
      "metadata": {
        "id": "T_Dvm8a40RLy"
      },
      "outputs": [],
      "source": []
    },
    {
      "cell_type": "markdown",
      "metadata": {
        "id": "KTndNlqg0b1r"
      },
      "source": [
        "Now that you've done that, I should tell you what you're looking at. I used a program called [COSMIC](https://cosmic-popsynth.github.io/docs/stable/index.html) to create a list of binary star systems based on the properties of observed systems. To be clear, the data here is completely synthetic. Each row represents a different binary star system. The columns are as follows\n",
        "\n",
        "1) The k-type of star 1\n",
        "\n",
        "2) The k-type of star 2\n",
        "\n",
        "3) The mass of star 1 in units of solar mass\n",
        "\n",
        "4) The mass of star 2 in units of solar mass\n",
        "\n",
        "5) The orbital period in days.\n",
        "\n",
        "6) The orbital eccentricity which ranges between 0 and 1.\n",
        "\n",
        "The k-type is related to the evolutionary state of the star. Here, all of the k-types are either 0 or 1, both of which correspond to main-sequence stars.\n",
        "\n",
        "Now, here are your next tasks:\n",
        "\n",
        "1. How many binaries have stars where at least one is above 1 solar mass? 5 solar masses? 10?\n",
        "2. How many stars in this sample have masses above 1, 5 and 10 solar masses?\n",
        "3. How many binaries have orbital periods shorter than a month? A year? What are the shortest and longest orbital periods?\n",
        "4. As stated before, the k-type for all these stars are either 0 or 1. A main-sequence star will have k-type 0 below a certain mass and k-type 1 above that mass. See if you can find a range of values where the cutoff mass might be. State your answer in solar masses.\n",
        "5. Using Kepler's Third Law, make another array that corresponds to the semimajor axis of each binary system. Make sure you explicitly state what units you're using (ie meters, kilometers, AU). Once again, Keplers Third Law is\n",
        "\n",
        "$$T = 2\\pi \\sqrt{\\frac{a^3}{G(M_1 + M_2)}}$$"
      ]
    },
    {
      "cell_type": "code",
      "execution_count": null,
      "metadata": {
        "id": "ZsqxFhPZtbqo"
      },
      "outputs": [],
      "source": []
    }
  ],
  "metadata": {
    "colab": {
      "provenance": []
    },
    "kernelspec": {
      "display_name": "Python 3",
      "name": "python3"
    },
    "language_info": {
      "name": "python"
    }
  },
  "nbformat": 4,
  "nbformat_minor": 0
}
