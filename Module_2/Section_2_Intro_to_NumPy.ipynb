{
  "nbformat": 4,
  "nbformat_minor": 0,
  "metadata": {
    "colab": {
      "name": "Section_2_Intro_to_NumPy_Solution",
      "provenance": []
    },
    "kernelspec": {
      "name": "python3",
      "display_name": "Python 3"
    },
    "language_info": {
      "name": "python"
    }
  },
  "cells": [
    {
      "cell_type": "markdown",
      "source": [
        "# Section 2. Intro to NumPy\n",
        "## 2.1 Getting Started with NumPy\n",
        "\n",
        "NumPy (often pronounced \"Num-pie\") is a widely used module that is optimized to efficiently execute a variety of mathematical operations. The name Numpy hints at its usefulness for us: Numerical Python. Numpy will be extremely useful for your budding career as an astronomer because of everything it can help you do - read in and manipulate large amounts of data, quickly do simple or complex math, and much much more.\n",
        "\n",
        "Before we do anything else, we must import the module. Try doing this yourself in the cell below.\n",
        "```\n",
        "import numpy as np\n",
        "```\n",
        "The alias np isn't necessary, strictly speaking, but it will make your life easier by taking up less space on a line of code. It is standard practice to import numpy as np like this, so it's best to get into the habit now."
      ],
      "metadata": {
        "id": "N3EUWNsfQqLI"
      }
    },
    {
      "cell_type": "code",
      "execution_count": null,
      "metadata": {
        "id": "x5sKc4xrQpxM"
      },
      "outputs": [],
      "source": [
        "# import numpy below\n",
        "import numpy as np"
      ]
    },
    {
      "cell_type": "markdown",
      "source": [
        "### 2.1.1 Making your first arrays\n",
        "\n",
        "Now that we've imported the module, we can now start talking about why we want to use NumPy. \n",
        "\n",
        "The biggest and main advantage of using NumPy is the new data container it introduces: arrays. An array is like a list, except optimized for use in mathematical applications.\n",
        "\n",
        "We can turn a list into an array as follows:\n",
        "```\n",
        "list1 = [0, 3, 8, 10, 14]\n",
        "list2 = [9, 5, 3, 2, 4]\n",
        "\n",
        "array1 = np.array([0, 3, 8, 10, 14])\n",
        "array2 = np.array([9, 5, 3, 2, 4])\n",
        "```\n",
        "Above, I defined two lists, list1 and list2. Below, I created two arrays, array1 and array2, using the same numerical values as the lists. I could have also done the following instead:\n",
        "```\n",
        "array1 = np.array(list1)\n",
        "```\n",
        "Note that arrays in NumPy have a couple restrictions on what can go in them. The most important is that arrays should only contain numbers. There are exceptions, but for our purposes, they're not something to get into.\n",
        "\n",
        "In the code block below, define the lists and arrays just like in the example above. You can change the values of the numbers if you want."
      ],
      "metadata": {
        "id": "I2oAOBbmRrSu"
      }
    },
    {
      "cell_type": "code",
      "source": [
        "list1 = [0, 3, 8, 10, 14]\n",
        "list2 = [9, 5, 3, 2, 4]\n",
        "\n",
        "array1 = np.array([0, 3, 8, 10, 14])\n",
        "array2 = np.array([9, 5, 3, 2, 4])"
      ],
      "metadata": {
        "id": "MFz_2Lb23UX-"
      },
      "execution_count": null,
      "outputs": []
    },
    {
      "cell_type": "markdown",
      "source": [
        "### 2.1.2 Mathematical Manipulation of Arrays\n",
        "To illustrate the difference, let's go back to lists. In the previous module, you were asked to do mathematical operations on two lists. If you wanted to add the entries of two lists together, your code would probably look something like this:\n",
        "```\n",
        "list3 = len(list1)*[0] # first line\n",
        "\n",
        "for i in range(len(list1)): # second line\n",
        "    list3[i] = list1[i] + list2[i] # third line\n",
        "```\n",
        "By my count, this is three lines of code, not including where we initialize the lists. Now, here's how you do the same thing with numpy:\n",
        "```\n",
        "array3 = array1 + array2\n",
        "```\n",
        "And that's it! Only one line of code! We won't show it here, but it's also much, much faster to do this type of operation with arrays instead of lists, especially as the number of entries in your array grows larger and larger.  [(Apparently numpy starts being faster around n=8)](https://stackoverflow.com/a/18713494)\n",
        "\n",
        "What else can we do? Basically, anything you can do to two numbers in python, you can do to two lists in numpy. \n",
        "```\n",
        "array1 + array2 # addition\n",
        "array1 * array2 # multiplication\n",
        "array1 - array2 # subtraction\n",
        "array1 / array2 # division\n",
        "array1**array2 # exponentiation\n",
        "```\n",
        "The catch is that if you're doing elementwise operations like this, both arrays must be the same length**. But, sometimes we just want to do something to all the numbers in one array. In this case, we can do operations with an array and a number (int or float). For example,\n",
        "```\n",
        "array1 + 2 # add 2 to all numbers\n",
        "array1 / 2 # divide all numbers by 2\n",
        "```\n",
        "In all these cases, the rules for the order of operations are the same as for normal mathematical operations in regular Python.\n",
        "\n",
        "### Problem: 3D Function\n",
        "\n",
        "Mathematical functions commonly depend on two or more variables. Let's say we have a function $z=f(x,y)$ which we want to evaluate at different $(x,y)$ locations. Let's say we have 4 different points at which we want to evalate our function:\n",
        "*   (0,0)\n",
        "*   (1,2)\n",
        "*   (2,5)\n",
        "*   (3,9)\n",
        "\n",
        "and we have a function of the form\n",
        "\n",
        "$$ z = f(x,y) = \\frac{xy^2}{3} + 2 $$\n",
        "\n",
        "In the cell below, evaluate the function at those four points. You'll need to define two arrays, for both $x$ and $y$, and make sure your order of operations are correct. Before or after you do it, evaluate the function by hand at each point (either with a calculator or with pencil and paper) to make sure everything is correct.\n",
        "\n"
      ],
      "metadata": {
        "id": "3E52sqvq0155"
      }
    },
    {
      "cell_type": "code",
      "source": [
        "xs = np.array([0,1,2,3])\n",
        "ys = np.array([0,2,5,9])\n",
        "\n",
        "zs = xs*ys*ys/3 + 2\n",
        "print(zs)"
      ],
      "metadata": {
        "id": "8yzy4wjG0zrL",
        "colab": {
          "base_uri": "https://localhost:8080/"
        },
        "outputId": "178cec1d-d220-420d-df74-fdc628c611a2"
      },
      "execution_count": null,
      "outputs": [
        {
          "output_type": "stream",
          "name": "stdout",
          "text": [
            "[ 2.          3.33333333 18.66666667 83.        ]\n"
          ]
        }
      ]
    },
    {
      "cell_type": "markdown",
      "source": [
        "### 2.1.3 Special NumPy Functions\n",
        "\n",
        "There are a lot of special mathematical functions that you'll probably use a lot throughout your work. We can divide these into different categories.\n",
        "\n",
        "First, there are functions that exist in Python already, like $\\sin(x)$, $\\log(x)$, or $\\exp(x)$. However, the native Python functions only work on single numbers (i.e. floats or ints), so we need a version that works for multidimensional objects. Here are some examples:\n",
        "```\n",
        "np.sin(x) # sin of each element in x\n",
        "np.log10(x) # log base 10 of each element in x\n",
        "np.exp(x) # e^x for each element in x\n",
        "```\n",
        "\n",
        "Then, there are some functions that only have meaning when we're dealing with collections of numbers. Some of these should be familiar from statistics, like the average, median, or range. Others include things like the product or sum of all elements, the difference between successive elements, or the maximum and minimum values of an array (and their indices). Here are some examples:\n",
        "```\n",
        "np.mean(x) # mean of x\n",
        "np.stdev(x) # standard deviation of x\n",
        "np.sum(x) # sum of array elements or along an axis\n",
        "np.diff(x) # difference between consecutive elements along an axis\n",
        "np.amin(x) # min value of array or along a given axis\n",
        "np.argmax(x) # indices of max values of array or along a given axis\n",
        "```\n",
        "\n",
        "One nice thing about using these functions is that they typically take \"array like\" arguments. In other words, you can give these functions a list and they'll convert the list to an array for you! These are also much faster than their vanilla Python analogs since they're optimized for arrays.\n",
        "\n",
        "You can find details and additional functions that could be useful to you [here](https://numpy.org/doc/stable/reference/routines.math.html) and [here](https://).\n",
        "\n",
        "You may have noticed that in some of the comments I used the phrase \"along an axis.\" This sets us up nicely for the next section!"
      ],
      "metadata": {
        "id": "0hAAs_GNvxnn"
      }
    },
    {
      "cell_type": "markdown",
      "source": [
        "## 2.2 Multidimensional Arrays\n",
        "\n",
        "Useful data can rarely be described in a single dimension. To describe the motion of a point particle, we need seven numbers (xyz positions and velocities and time). Stars have a lot of properties, such as mass, radius, composition, position in the sky, distance, etc. In these cases, it would be unwieldy to have many separate lists of numbers. Luckily for us, the NumPy array datatype is actually called an ndarray, where n stands for N and d stands for dimensions. In other words, our arrays can have any dimensionality we require! But for now, let's restrict ourselves to two dimensions, which will be sufficient for most of the use cases you'll run into here. Rarely, you might have three dimensions (for example, making a 2D animation or running a simulation of particles) and more rarely four or more, but luckily everything generalizes to higher dimensions.\n",
        "\n",
        "### 2.2.1 Creating Multidimensional Arrays + .shape\n",
        "\n",
        "When you initialize 2D arrays, you should give a list of rows.\n",
        "```\n",
        "A = np.array([[1,2,3],\n",
        "              [4,5,6]])\n",
        "```\n",
        "In this example, the array has 6 elements, arranged in two rows and three columns. The first row is [1,2,3] and the first column is [1,4]. We could instead arrange these six elements in a host of different ways. For example:\n",
        "```\n",
        "B = np.array([[1,2], # three rows and two columns\n",
        "              [3,4],\n",
        "              [5,6]])\n",
        "C = np.array([[1,2,3,4,5,6]]) # one row and six columns\n",
        "D = np.array([[1], # six rows and one column\n",
        "              [2],\n",
        "              [3],\n",
        "              [4],\n",
        "              [5],\n",
        "              [6]])\n",
        "```\n",
        "That's four different ways to arrange six numbers! For larger collections of numbers, there can be even more combinations. For this reason, arrays have a shape parameter:\n",
        "```\n",
        "A.shape # (2,3)\n",
        "```\n",
        "The shape parameter outputs (# of rows, # of columns) for 2D arrays. In the cell below, create some 2D arrays and make sure they have the shape you expect by printing the shape parameter."
      ],
      "metadata": {
        "id": "rnMGSMLlrghE"
      }
    },
    {
      "cell_type": "code",
      "source": [
        "B = np.array([[1,2], # three rows and two columns\n",
        "              [3,4],\n",
        "              [5,6]])\n",
        "C = np.array([[1,2,3,4,5,6]]) # one row and six columns\n",
        "D = np.array([[1], # six rows and one column\n",
        "              [2],\n",
        "              [3],\n",
        "              [4],\n",
        "              [5],\n",
        "              [6]])\n",
        "\n",
        "print(B.shape)\n",
        "print(C.shape)\n",
        "print(D.shape)"
      ],
      "metadata": {
        "id": "APv5e6DM4-7c",
        "colab": {
          "base_uri": "https://localhost:8080/"
        },
        "outputId": "3e5020b3-e47a-4871-dd49-aecd86f558cd"
      },
      "execution_count": null,
      "outputs": [
        {
          "output_type": "stream",
          "name": "stdout",
          "text": [
            "(3, 2)\n",
            "(1, 6)\n",
            "(6, 1)\n"
          ]
        }
      ]
    },
    {
      "cell_type": "markdown",
      "source": [
        "It's common for data to be given to us. For example, maybe I can give you three lists of planetary mass, radii, and distances (units in SI, first four planets only). We can combine them like this:\n",
        "```\n",
        "masses = [3.3e23,4.9e24,6.0e24,6.4e23] # kg\n",
        "radii = [2439,6052,6378,3398] # m\n",
        "periods = [5.7e10,1.1e11,1.5e11,2.3e11] # m\n",
        "\n",
        "planets = np.array([masses,radii,periods])\n",
        "```\n",
        "This will make it so that each column describes a planet and each property is a row. If you want to make it the other way around, you can do so by taking the transpose of the array. \n",
        "```\n",
        "planets_T = planets.transpose()\n",
        "```\n",
        "Try all this yourself below. Also, compare the shapes and entries of planets and planets_T to make sure everything looks right."
      ],
      "metadata": {
        "id": "CnGM8IsBYs8t"
      }
    },
    {
      "cell_type": "code",
      "source": [
        "masses = [3.3e23,4.9e24,6.0e24,6.4e23] # kg\n",
        "radii = [2439,6052,6378,3398] # m\n",
        "periods = [5.7e10,1.1e11,1.5e11,2.3e11] # m\n",
        "\n",
        "planets = np.array([masses,radii,periods])\n",
        "\n",
        "print(planets.shape)\n",
        "print(planets.transpose().shape)"
      ],
      "metadata": {
        "id": "-twFB-nmZJ1Y",
        "colab": {
          "base_uri": "https://localhost:8080/"
        },
        "outputId": "eb5d731a-1bf5-4731-896f-80f9d0bd6b02"
      },
      "execution_count": null,
      "outputs": [
        {
          "output_type": "stream",
          "name": "stdout",
          "text": [
            "(3, 4)\n",
            "(4, 3)\n"
          ]
        }
      ]
    },
    {
      "cell_type": "markdown",
      "source": [
        "### 2.2.2 np.zeros() and np.ones()\n",
        "\n",
        "It's extremely unwieldy to make 2D arrays by hand. There are some functions that make simple arrays for you very easily. The two most common are np.zeros() and np.ones(). The first gives you an array with all zeros and the second an array with all ones. They both take the same arguments, so as an example, let's just take np.zeros(). The main argument is the shape of the array you want. For example,\n",
        "```\n",
        "np.zeros(5) # this returns an array of length 5\n",
        "\n",
        "np.zeros((2,6)) # this returns an array with 2 rows and 6 columns\n",
        "```\n",
        "Try this yourself below."
      ],
      "metadata": {
        "id": "ayVxVgPd4_Q7"
      }
    },
    {
      "cell_type": "code",
      "source": [
        "np.zeros(5) # this returns an array of length 5\n",
        "\n",
        "np.zeros((2,6)) # this returns an array with 2 rows and 6 columns"
      ],
      "metadata": {
        "id": "m8z2-VHjgaSQ",
        "colab": {
          "base_uri": "https://localhost:8080/"
        },
        "outputId": "121b730c-699e-43da-b77f-19584c6d2899"
      },
      "execution_count": null,
      "outputs": [
        {
          "output_type": "execute_result",
          "data": {
            "text/plain": [
              "array([[0., 0., 0., 0., 0., 0.],\n",
              "       [0., 0., 0., 0., 0., 0.]])"
            ]
          },
          "metadata": {},
          "execution_count": 9
        }
      ]
    },
    {
      "cell_type": "markdown",
      "source": [
        "### 2.2.3 np.arange and np.linspace()\n",
        "\n",
        "The np.arange function is exactly the same as range() from before, but it returns an array. Technically, the other main difference is that we can use non-integer step sizes. However, in those cases (we won't get into why), it's better to use the next function.\n",
        "\n",
        "np.linspace is a little different. This lets us make an array with equally spaced numbers by specifying the start, end, and number of points. This is extremely useful in a variety of applications, especially plotting. Note that, given the nature of these functions, we can only make 1D arrays in this manner.\n",
        "\n",
        "```\n",
        "np.linspace(0,10)                      # 50 (default) linearly-spaced numbers from 0 to 10\n",
        "np.linspace(0,10,200)                  # With 3 arguments, this generates 200 numbers should generated\n",
        "x = np.linspace(0, 2*np.pi, 100)       # This is helpful, for example, if you wanted to plot the sin( ) function\n",
        "```\n",
        "I said before that we can make only 1D arrays in this manner. That's not entirely true. It is indeed true that these functions only return 1D arrays. However, it is possible to reshape arrays. In the cell below, compare the output from these two lines of code.\n",
        "```\n",
        "print(np.arange(12))\n",
        "print(np.arange(12).reshape(4,3))\n",
        "```"
      ],
      "metadata": {
        "id": "ndIhvYsUgaxS"
      }
    },
    {
      "cell_type": "code",
      "source": [
        "print(np.arange(12))\n",
        "print(np.arange(12).reshape(4,3))"
      ],
      "metadata": {
        "id": "8GTNCxEVj_7B",
        "colab": {
          "base_uri": "https://localhost:8080/"
        },
        "outputId": "0ce06d5e-aa1f-4924-813c-43d06c7f1e7e"
      },
      "execution_count": null,
      "outputs": [
        {
          "output_type": "stream",
          "name": "stdout",
          "text": [
            "[ 0  1  2  3  4  5  6  7  8  9 10 11]\n",
            "[[ 0  1  2]\n",
            " [ 3  4  5]\n",
            " [ 6  7  8]\n",
            " [ 9 10 11]]\n"
          ]
        }
      ]
    },
    {
      "cell_type": "markdown",
      "source": [
        "### np.loadtxt()\n",
        "\n",
        "The last way of making arrays we'll go over is by loading in an array someone saved to a plaintext file. All you need to do is supply a filename. In this case, try loading in the file named 'example.txt'\n",
        "```\n",
        "data = np.loadtxt('example.txt')\n",
        "```\n",
        "After you load in the file, do the following:\n",
        "1. Get the shape of the array\n",
        "2. Sum all the elements of the array\n",
        "3. The the max values of each row (axis=0) and each column (axis=1)\n",
        "4. Finally, sum each row and column individually. Your answer might surprise you."
      ],
      "metadata": {
        "id": "LsDT2aqQkAUa"
      }
    },
    {
      "cell_type": "code",
      "source": [
        "from google.colab import drive\n",
        "drive.mount('/content/drive/')\n",
        "import os\n",
        "os.chdir('/content/drive/MyDrive/Colab Notebooks/')"
      ],
      "metadata": {
        "id": "rcRzFCmxlQV-",
        "colab": {
          "base_uri": "https://localhost:8080/"
        },
        "outputId": "0af525d2-c335-4683-aa32-a47bc6a3bbdb"
      },
      "execution_count": null,
      "outputs": [
        {
          "output_type": "stream",
          "name": "stdout",
          "text": [
            "Mounted at /content/drive/\n"
          ]
        }
      ]
    },
    {
      "cell_type": "code",
      "source": [
        "data = np.loadtxt('example.txt')"
      ],
      "metadata": {
        "id": "NRc3hyjdIKUB"
      },
      "execution_count": null,
      "outputs": []
    },
    {
      "cell_type": "code",
      "source": [
        "print(data)"
      ],
      "metadata": {
        "colab": {
          "base_uri": "https://localhost:8080/"
        },
        "id": "AEinn-ARIkSj",
        "outputId": "979a0743-aae2-49b2-b5b4-6f9770949498"
      },
      "execution_count": null,
      "outputs": [
        {
          "output_type": "stream",
          "name": "stdout",
          "text": [
            "[[64.  2.  3. 61. 60.  6.  7. 57.]\n",
            " [ 9. 55. 54. 12. 13. 51. 50. 16.]\n",
            " [17. 47. 46. 20. 21. 43. 42. 24.]\n",
            " [40. 26. 27. 37. 36. 30. 31. 33.]\n",
            " [32. 34. 35. 29. 28. 38. 39. 25.]\n",
            " [41. 23. 22. 44. 45. 19. 18. 48.]\n",
            " [49. 15. 14. 52. 53. 11. 10. 56.]\n",
            " [ 8. 58. 59.  5.  4. 62. 63.  1.]]\n"
          ]
        }
      ]
    },
    {
      "cell_type": "code",
      "source": [
        "print(data.shape)\n",
        "print(data.sum())\n",
        "print(data.max(axis=0))\n",
        "print(data.max(axis=1))\n",
        "print(data.sum(axis=0))\n",
        "print(data.sum(axis=1))"
      ],
      "metadata": {
        "colab": {
          "base_uri": "https://localhost:8080/"
        },
        "id": "mR3YAlaqINmv",
        "outputId": "59c278ca-63bb-4dd8-80ef-3a503e2eb517"
      },
      "execution_count": null,
      "outputs": [
        {
          "output_type": "stream",
          "name": "stdout",
          "text": [
            "(8, 8)\n",
            "2080.0\n",
            "[64. 58. 59. 61. 60. 62. 63. 57.]\n",
            "[64. 55. 47. 40. 39. 48. 56. 63.]\n",
            "[260. 260. 260. 260. 260. 260. 260. 260.]\n",
            "[260. 260. 260. 260. 260. 260. 260. 260.]\n"
          ]
        }
      ]
    },
    {
      "cell_type": "markdown",
      "source": [
        "In the above example, the file used a whitespace delimiter, which loadtxt assumes by default. In other words, when the function scans through the file, it assumes that different column values are separated by spaces. This isn't always the case. For example, some files may instead separate values by commas. In this case, you would need to pass a delimiter option:\n",
        "```\n",
        "data = np.loadtxt('example.txt', delimiter=',')\n",
        "```\n",
        "We will not be doing an example here.\n",
        "\n",
        "## 2.3 Indexing and Slicing in NumPy\n",
        "\n",
        "### 2.3.1 Commonalities with Lists\n",
        "\n",
        "Luckily for us, accessing the data in 1D arrays is essentially the same as working with normal lists! Just to review with some examples,\n",
        "```\n",
        "my_array = np.arange(8)\n",
        "\n",
        "my_array[3] # this gets the 4th element of my_array\n",
        "my_array[-5:] # this gets the last 5 elements of my_array\n",
        "my_array[1:6:2] # this gets every other element of my_array, starting with the 2nd and stopping by the 7th\n",
        "```\n",
        "Try this out yourself"
      ],
      "metadata": {
        "id": "Bfx8ex9dlQhn"
      }
    },
    {
      "cell_type": "code",
      "source": [
        "my_array = np.arange(8)\n",
        "\n",
        "print(my_array[3])\n",
        "print(my_array[-5:])\n",
        "print(my_array[1:6:2]) "
      ],
      "metadata": {
        "id": "V78nMcIGrNk8",
        "colab": {
          "base_uri": "https://localhost:8080/"
        },
        "outputId": "95f27f40-0052-4d6c-ee4c-40bc5cb7072e"
      },
      "execution_count": null,
      "outputs": [
        {
          "output_type": "stream",
          "name": "stdout",
          "text": [
            "3\n",
            "[3 4 5 6 7]\n",
            "[1 3 5]\n"
          ]
        }
      ]
    },
    {
      "cell_type": "markdown",
      "source": [
        "### 2.3.2 Working with 2D Arrays\n",
        "\n",
        "Now that we have multiple dimensions, we can now access the arrays along multiple dimensions as well. In order to specify multiple axes, we can separate them with commas:\n",
        "```\n",
        "my_array = np.arange(48).reshape(6,8)\n",
        "\n",
        "my_array[2,3] # accesses the element in the 3rd row, 4th column\n",
        "```\n",
        "The various rules for slicing also apply here.\n",
        "```\n",
        "my_array[1:-1,::2] # get all but the first and last row, every other column\n",
        "```\n",
        "What if we only want to get certain rows? Since a 2D array is basically an array of arrays, we can access rows by pretending we're working with a 1D array.\n",
        "```\n",
        "my_array[4] # access the 5th row\n",
        "my_array[2:5] # access rows 3 through 6\n",
        "```\n",
        "What about columns? If we want to access part or all of a column in every row, we use a colon before the comma\n",
        "```\n",
        "my_array[:, 4] # access the 5th col\n",
        "my_array[:, 2:5] # access cols 3 through 6\n",
        "```\n",
        "Try to work out the outputs of each of these examples before you try to run them in the cell below."
      ],
      "metadata": {
        "id": "1L4RdtHsrOCU"
      }
    },
    {
      "cell_type": "code",
      "source": [
        "my_array = np.arange(48).reshape(6,8)\n",
        "\n",
        "my_array[2,3]"
      ],
      "metadata": {
        "id": "BJmZy3cytxPQ",
        "colab": {
          "base_uri": "https://localhost:8080/"
        },
        "outputId": "d2b8a973-49b6-4784-e2bc-b22496bb5d67"
      },
      "execution_count": null,
      "outputs": [
        {
          "output_type": "execute_result",
          "data": {
            "text/plain": [
              "19"
            ]
          },
          "metadata": {},
          "execution_count": 17
        }
      ]
    },
    {
      "cell_type": "code",
      "source": [
        "my_array[1:-1,::2]"
      ],
      "metadata": {
        "colab": {
          "base_uri": "https://localhost:8080/"
        },
        "id": "LK7vbDalI6q-",
        "outputId": "ded803ff-d39c-4ef5-ac98-50fa1cccbffa"
      },
      "execution_count": null,
      "outputs": [
        {
          "output_type": "execute_result",
          "data": {
            "text/plain": [
              "array([[ 8, 10, 12, 14],\n",
              "       [16, 18, 20, 22],\n",
              "       [24, 26, 28, 30],\n",
              "       [32, 34, 36, 38]])"
            ]
          },
          "metadata": {},
          "execution_count": 18
        }
      ]
    },
    {
      "cell_type": "code",
      "source": [
        "my_array[2:5]"
      ],
      "metadata": {
        "colab": {
          "base_uri": "https://localhost:8080/"
        },
        "id": "mCBk4iN5KmW_",
        "outputId": "d701355c-979a-42b0-f3ba-955faa8f4767"
      },
      "execution_count": null,
      "outputs": [
        {
          "output_type": "execute_result",
          "data": {
            "text/plain": [
              "array([[16, 17, 18, 19, 20, 21, 22, 23],\n",
              "       [24, 25, 26, 27, 28, 29, 30, 31],\n",
              "       [32, 33, 34, 35, 36, 37, 38, 39]])"
            ]
          },
          "metadata": {},
          "execution_count": 19
        }
      ]
    },
    {
      "cell_type": "code",
      "source": [
        "my_array[:, 4]"
      ],
      "metadata": {
        "colab": {
          "base_uri": "https://localhost:8080/"
        },
        "id": "f8a4NRBwKsEQ",
        "outputId": "820f761e-36b0-4242-9ac4-e82f7da9214a"
      },
      "execution_count": null,
      "outputs": [
        {
          "output_type": "execute_result",
          "data": {
            "text/plain": [
              "array([ 4, 12, 20, 28, 36, 44])"
            ]
          },
          "metadata": {},
          "execution_count": 20
        }
      ]
    },
    {
      "cell_type": "markdown",
      "source": [
        "### 2.3.3 Acessing Specific Indices\n",
        "\n",
        "One nice thing you can do with numpy is access multiple specific indices at once. For example,\n",
        "```\n",
        "my_array = np.arange(8)\n",
        "\n",
        "my_array[[0,2,3,6]] # this gets the elements at all the specified positions\n",
        "```\n",
        "\n",
        "Try this below yourself. This is probably not something you'll be doing yourself in a scientific context, but this is essentially what is happening \"under the hood\" in the code used in the section below."
      ],
      "metadata": {
        "id": "n252YVGJtxZ9"
      }
    },
    {
      "cell_type": "code",
      "source": [
        "my_array = np.arange(8)\n",
        "\n",
        "my_array[[0,2,3,6]]"
      ],
      "metadata": {
        "id": "9tsZa9V_t1t6",
        "colab": {
          "base_uri": "https://localhost:8080/"
        },
        "outputId": "ca5f2ec2-239e-436b-c3d8-628b9849a6c2"
      },
      "execution_count": null,
      "outputs": [
        {
          "output_type": "execute_result",
          "data": {
            "text/plain": [
              "array([0, 2, 3, 6])"
            ]
          },
          "metadata": {},
          "execution_count": 21
        }
      ]
    },
    {
      "cell_type": "markdown",
      "source": [
        "### 2.3.4 Boolean Indexing\n",
        "\n",
        "After the arrays themselves, this feature of NumPy is probably among the most useful. The word Boolean basically means we're dealing with conditional logic. In essence, we write down a statement and that statement is either True or False.\n",
        "\n",
        "Instead of accessing data based on the index, we can do it based on the nature of the data itself! For example, in the following list, let's say we want all the even numbers. We can do it like this:\n",
        "```\n",
        "a = np.arange(12)\n",
        "\n",
        "a[a%2 == 0]\n",
        "```\n",
        "Here, the == means 'is equal to', as opposed to =, which is just assignment. Here's a list of the different comparison operators you'll probably use:\n",
        "```\n",
        "== # equal to\n",
        "!= # not equal to\n",
        "<= # less than or equal to\n",
        "<  # less than\n",
        ">= # greater than or equal to\n",
        ">  # greater than\n",
        "```\n",
        "In addition, we can chain logical statements together with these operators:\n",
        "```\n",
        "& # logical and\n",
        "| # logical or\n",
        "~ # logical not\n",
        "```\n",
        "Here's an example. Note that we need to enclose different logical statements in parentheses.\n",
        "```\n",
        "a[(a%2==0) & (a>7)] # return elements even and greater than 7\n",
        "a[(a%2==0) & ((a>7) | (a<3))] # return elements even and greater than 7 or less than 3\n",
        "a[~(a%2==0) & ((a>7) | (a<3))] # return elements NOT even (ie odd) and greater than 7 or less than 3\n",
        "```\n",
        "Try to predict the output of each of these lines before running the code below."
      ],
      "metadata": {
        "id": "C4LS3gnit11P"
      }
    },
    {
      "cell_type": "code",
      "source": [
        "a = np.arange(12)"
      ],
      "metadata": {
        "id": "JtNtjudvt8aj"
      },
      "execution_count": null,
      "outputs": []
    },
    {
      "cell_type": "code",
      "source": [
        "a[(a%2==0) & (a>7)]"
      ],
      "metadata": {
        "colab": {
          "base_uri": "https://localhost:8080/"
        },
        "id": "R69iJbkeMZx7",
        "outputId": "2dd8e0b1-3c0a-48dd-ebc9-159645b463f1"
      },
      "execution_count": null,
      "outputs": [
        {
          "output_type": "execute_result",
          "data": {
            "text/plain": [
              "array([ 8, 10])"
            ]
          },
          "metadata": {},
          "execution_count": 23
        }
      ]
    },
    {
      "cell_type": "code",
      "source": [
        "a[(a%2==0) & ((a>7) | (a<3))]"
      ],
      "metadata": {
        "colab": {
          "base_uri": "https://localhost:8080/"
        },
        "id": "u--59fjuMg3u",
        "outputId": "15ef41cd-0001-4cd3-cfda-10bf551a3feb"
      },
      "execution_count": null,
      "outputs": [
        {
          "output_type": "execute_result",
          "data": {
            "text/plain": [
              "array([ 0,  2,  8, 10])"
            ]
          },
          "metadata": {},
          "execution_count": 24
        }
      ]
    },
    {
      "cell_type": "code",
      "source": [
        "a[~(a%2==0) & ((a>7) | (a<3))]"
      ],
      "metadata": {
        "colab": {
          "base_uri": "https://localhost:8080/"
        },
        "id": "m0fIOvxqMjLq",
        "outputId": "9fa67fb2-879f-4f75-978e-a4444e0b23c8"
      },
      "execution_count": null,
      "outputs": [
        {
          "output_type": "execute_result",
          "data": {
            "text/plain": [
              "array([ 1,  9, 11])"
            ]
          },
          "metadata": {},
          "execution_count": 25
        }
      ]
    },
    {
      "cell_type": "markdown",
      "source": [
        "### 2.3.5 Boolean Indexing in 2D\n",
        "\n",
        "In order to do this in two dimensions, we need to specify the row or column in the condition.\n",
        "\n",
        "First, let's see an example of selecting rows based on conditions on different column values:\n",
        "```\n",
        "b = np.arange(48).reshape(6,8)\n",
        "b[b[:,4]>20] # get all rows where column 5 is greater than 20\n",
        "b[(b[:,4]>20) | (b[:,2]<30)] # get all rows where column 5 is greater than 20 or column 3 is less than 30\n",
        "```\n",
        "Next, let's see an example of selecting columns based on conditions on different row values:\n",
        "```\n",
        "b[:,b[0,:]>3] # get all columns where first row value is greater than 3\n",
        "b[:,(b[0,:]>3) & b[0,:]%2==1] # get all columns where first row value is greater than 3 and odd\n",
        "```\n",
        "Try to predict the output of each of these lines before running the code below."
      ],
      "metadata": {
        "id": "ENgOKPhE5uL2"
      }
    },
    {
      "cell_type": "code",
      "source": [
        "b = np.arange(48).reshape(6,8)\n",
        "print(b[b[:,4]>20])\n",
        "print(b[(b[:,4]>20) | (b[:,2]<30)])"
      ],
      "metadata": {
        "id": "vuZg80xh-ARb",
        "colab": {
          "base_uri": "https://localhost:8080/"
        },
        "outputId": "c5730dc1-c985-4555-848b-b49089348bec"
      },
      "execution_count": null,
      "outputs": [
        {
          "output_type": "stream",
          "name": "stdout",
          "text": [
            "[[24 25 26 27 28 29 30 31]\n",
            " [32 33 34 35 36 37 38 39]\n",
            " [40 41 42 43 44 45 46 47]]\n",
            "[[ 0  1  2  3  4  5  6  7]\n",
            " [ 8  9 10 11 12 13 14 15]\n",
            " [16 17 18 19 20 21 22 23]\n",
            " [24 25 26 27 28 29 30 31]\n",
            " [32 33 34 35 36 37 38 39]\n",
            " [40 41 42 43 44 45 46 47]]\n"
          ]
        }
      ]
    },
    {
      "cell_type": "code",
      "source": [
        "print(b[:,b[0,:]>3])\n",
        "print(b[:,(b[0,:]>3) & b[0,:]%2==1])"
      ],
      "metadata": {
        "colab": {
          "base_uri": "https://localhost:8080/"
        },
        "id": "2ks4nplLPJzY",
        "outputId": "988bd8bc-f36c-4865-afe9-082adefa7360"
      },
      "execution_count": null,
      "outputs": [
        {
          "output_type": "stream",
          "name": "stdout",
          "text": [
            "[[ 4  5  6  7]\n",
            " [12 13 14 15]\n",
            " [20 21 22 23]\n",
            " [28 29 30 31]\n",
            " [36 37 38 39]\n",
            " [44 45 46 47]]\n",
            "[[ 5  7]\n",
            " [13 15]\n",
            " [21 23]\n",
            " [29 31]\n",
            " [37 39]\n",
            " [45 47]]\n"
          ]
        }
      ]
    },
    {
      "cell_type": "markdown",
      "source": [
        "## 2.4 Practice Problem\n",
        "\n",
        "Use np.loadtxt to open the file named 'binaries.txt'. Characterize it. In particular,\n",
        "\n",
        "1. How many rows does it have?\n",
        "2. How many columns does it have?\n",
        "3. What kinds of values do each column contain? That is, how big or small are the numbers in each column? What's the smallest/largest number? The median? The average? If you notice anything else interesting, write that down too.\n",
        "\n",
        "Answer: \n",
        "200 rows, 6 cols\n",
        "Rows 1 and 2 are either 0 or 1\n",
        "Row 6 is only between 0 and 1\n",
        "\n"
      ],
      "metadata": {
        "id": "mXZXUcint8lv"
      }
    },
    {
      "cell_type": "code",
      "source": [
        "data = np.loadtxt('binaries.txt')"
      ],
      "metadata": {
        "id": "T_Dvm8a40RLy"
      },
      "execution_count": null,
      "outputs": []
    },
    {
      "cell_type": "code",
      "source": [
        "np.quantile(data,[0,0.5,1],axis=0)"
      ],
      "metadata": {
        "colab": {
          "base_uri": "https://localhost:8080/"
        },
        "id": "DcTKgWDTeCag",
        "outputId": "2113807d-8a95-4889-f965-2c0c9ca0fb57"
      },
      "execution_count": null,
      "outputs": [
        {
          "output_type": "execute_result",
          "data": {
            "text/plain": [
              "array([[0.00000000e+00, 0.00000000e+00, 5.21113883e-01, 5.03068108e-01,\n",
              "        1.80181170e+00, 1.98501300e-03],\n",
              "       [1.00000000e+00, 1.00000000e+00, 2.01181547e+00, 9.54018665e-01,\n",
              "        5.34854968e+03, 5.29864348e-01],\n",
              "       [1.00000000e+00, 1.00000000e+00, 6.39712198e+01, 3.59779554e+01,\n",
              "        6.79152813e+07, 9.29353606e-01]])"
            ]
          },
          "metadata": {},
          "execution_count": 34
        }
      ]
    },
    {
      "cell_type": "markdown",
      "source": [
        "Now that you've done that, I should tell you what you're looking at. I used a code called [COSMIC](https://cosmic-popsynth.github.io/docs/stable/index.html) to create a list of binary star systems based on the properties of observed systems. To be clear, the data here is completely synthetic. Each row represents a different binary star system. The columns are as follows\n",
        "\n",
        "1. and 2. The k-type of stars 1 and 2. The definition of the k-type is related to its evolutionary state. Here, you should have found that the k-type of all the stars is either 0 or 1, both of which correspond to main-sequence stars.\n",
        "\n",
        "3. and 4. The masses of each star in solar masses (Msun = 2e30 kg)\n",
        "\n",
        " 5. Orbital period in days\n",
        "\n",
        " 6. The orbital eccentricity, which is defined to be between 0 and 1\n",
        "\n",
        "Now, here are your next tasks:\n",
        "\n",
        "1. How many binaries have stars where at least one is above 1 solar mass? 5 solar masses? 10?\n",
        "2. How many stars in this sample have masses above 1, 5 and 10 solar masses?\n",
        "3. How many binaries have orbital periods shorter than a month? A year? What are the shortest and longest orbital periods?\n",
        "4. As I said before, the k-type for all these stars are either 0 or 1. A main-sequence star will have k-type 0 below a certain mass and k-type 1 above that mass. See if you can find a range of values where the cutoff mass might be. State your answer in solar masses.\n",
        "5. Using Kepler's Third Law, make another column that corresponds to the semimajor axis of each binary system. Make sure you explicitly state what units you're using (ie meters, kilometers, AU). Once again, Keplers Third Law is \n",
        "\n",
        "$$T = 2\\pi \\sqrt{\\frac{a^3}{G(M_1 + M_2)}}$$"
      ],
      "metadata": {
        "id": "KTndNlqg0b1r"
      }
    },
    {
      "cell_type": "markdown",
      "source": [
        "Answers:\n",
        "1. a) 148 b) 42 c) 18\n",
        "2. a) 240 b) 62 c) 25\n",
        "3. a) 33 b) 57 c) 1.8 days d)6.7e7 days or ~183 kyr\n",
        "4. By definition: 0.7 Msun, see code below\n",
        "5. See code"
      ],
      "metadata": {
        "id": "knya-jtunE0K"
      }
    },
    {
      "cell_type": "code",
      "source": [
        "data[(data[:,2]>10) | (data[:,3]>10)].shape # Question 1"
      ],
      "metadata": {
        "id": "jPZq8bdM0a69",
        "colab": {
          "base_uri": "https://localhost:8080/"
        },
        "outputId": "4b66fd75-8d57-4562-9e7f-0e574bca759c"
      },
      "execution_count": null,
      "outputs": [
        {
          "output_type": "execute_result",
          "data": {
            "text/plain": [
              "(18, 6)"
            ]
          },
          "metadata": {},
          "execution_count": 40
        }
      ]
    },
    {
      "cell_type": "code",
      "source": [
        "len(data[data[:,2]>10]) + len(data[data[:,3]>10]) # Question 2"
      ],
      "metadata": {
        "colab": {
          "base_uri": "https://localhost:8080/"
        },
        "id": "Pp0fWzAtnOyK",
        "outputId": "d4d4c113-64da-41eb-d2ce-6f249baef08c"
      },
      "execution_count": null,
      "outputs": [
        {
          "output_type": "execute_result",
          "data": {
            "text/plain": [
              "25"
            ]
          },
          "metadata": {},
          "execution_count": 51
        }
      ]
    },
    {
      "cell_type": "code",
      "source": [
        "print(data[data[:,4]<30].shape) # Question 3\n",
        "print(data[data[:,4]<365].shape)\n",
        "print(np.min(data[:,4]))\n",
        "print(np.max(data[:,4]))"
      ],
      "metadata": {
        "colab": {
          "base_uri": "https://localhost:8080/"
        },
        "id": "i7S4BOwnpfzg",
        "outputId": "604808bf-5bae-4ba7-b85e-6c5bda327e0b"
      },
      "execution_count": null,
      "outputs": [
        {
          "output_type": "stream",
          "name": "stdout",
          "text": [
            "(33, 6)\n",
            "(57, 6)\n",
            "1.801811702332768\n",
            "67915281.32414712\n"
          ]
        }
      ]
    },
    {
      "cell_type": "code",
      "source": [
        "print(np.max(data[data[:,0]==0][:,2])) # Question 4\n",
        "print(np.max(data[data[:,1]==0][:,3]))\n",
        "\n",
        "print(np.min(data[data[:,0]==1][:,2]))\n",
        "print(np.min(data[data[:,1]==1][:,3]))"
      ],
      "metadata": {
        "colab": {
          "base_uri": "https://localhost:8080/"
        },
        "id": "PRvRIagaq0d_",
        "outputId": "20ba32c3-9aa4-4dc0-decf-7bad47f6bbe3"
      },
      "execution_count": null,
      "outputs": [
        {
          "output_type": "stream",
          "name": "stdout",
          "text": [
            "0.663740445295009\n",
            "0.6987089484923723\n",
            "0.7031684143733751\n",
            "0.7004746614537776\n"
          ]
        }
      ]
    },
    {
      "cell_type": "code",
      "source": [
        "newcol = 4*np.pi*np.pi*(data[:,2]+data[:,3])*(data[:,4]/(2*np.pi*365.25))**2 # AU, in these units G=4*pi^2"
      ],
      "metadata": {
        "id": "mhzljvJ4tCsf"
      },
      "execution_count": null,
      "outputs": []
    },
    {
      "cell_type": "code",
      "source": [
        "import matplotlib.pyplot as plt\n",
        "\n",
        "plt.hist(np.log10(newcol))"
      ],
      "metadata": {
        "colab": {
          "base_uri": "https://localhost:8080/",
          "height": 356
        },
        "id": "AM1LmOOVvBCX",
        "outputId": "d91b87dd-c66f-4073-fcd9-55dd10bc42df"
      },
      "execution_count": null,
      "outputs": [
        {
          "output_type": "execute_result",
          "data": {
            "text/plain": [
              "(array([14., 18., 21., 30., 24., 30., 21., 26., 10.,  6.]),\n",
              " array([-4.27070995, -2.7520503 , -1.23339065,  0.285269  ,  1.80392865,\n",
              "         3.3225883 ,  4.84124795,  6.3599076 ,  7.87856725,  9.3972269 ,\n",
              "        10.91588655]),\n",
              " <a list of 10 Patch objects>)"
            ]
          },
          "metadata": {},
          "execution_count": 59
        },
        {
          "output_type": "display_data",
          "data": {
            "text/plain": [
              "<Figure size 432x288 with 1 Axes>"
            ],
            "image/png": "[encoded data removed]"
          },
          "metadata": {
            "needs_background": "light"
          }
        }
      ]
    },
    {
      "cell_type": "code",
      "source": [
        ""
      ],
      "metadata": {
        "id": "-EuRXEnDvVkN"
      },
      "execution_count": null,
      "outputs": []
    }
  ]
}