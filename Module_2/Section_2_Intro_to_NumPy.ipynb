{
  "nbformat": 4,
  "nbformat_minor": 0,
  "metadata": {
    "colab": {
      "provenance": []
    },
    "kernelspec": {
      "name": "python3",
      "display_name": "Python 3"
    },
    "language_info": {
      "name": "python"
    }
  },
  "cells": [
    {
      "cell_type": "markdown",
      "source": [
        "# Section 2. Intro to NumPy\n",
        "## 2.1 Getting Started with NumPy\n",
        "\n",
        "NumPy (often pronounced \"num-pie\") is a widely used module that is optimized to efficiently execute a variety of mathematical operations. The name Numpy hints at its usefulness for us: Numerical Python. Numpy will be extremely useful for your budding career as an astronomer because of everything it can help you do - read in and manipulate large amounts of data, quickly do simple or complex math, and much much more.\n",
        "\n",
        "Before we do anything else, we must import the module.\n",
        "Try doing this yourself in the cell below.\n",
        "```\n",
        "import numpy as np\n",
        "```\n",
        "Importing this module under the alias \"np\" isn't necessary, strictly speaking, but it will make your life easier by taking up less space on a line of code.\n",
        "It is standard practice to import numpy as np."
      ],
      "metadata": {
        "id": "N3EUWNsfQqLI"
      }
    },
    {
      "cell_type": "code",
      "execution_count": 1,
      "metadata": {
        "id": "x5sKc4xrQpxM"
      },
      "outputs": [],
      "source": [
        "# import numpy below\n",
        "import numpy as np"
      ]
    },
    {
      "cell_type": "markdown",
      "source": [
        "### 2.1.1 Making your first arrays\n",
        "\n",
        "Now that we've imported the module, we can now start talking about why we want to use NumPy.\n",
        "\n",
        "The biggest and main advantage of using NumPy is the use of arrays.\n",
        "An array is similar to a list, except that arrays are optimized for use in mathematical applications.\n",
        "\n",
        "We can turn a list into an array as follows:\n",
        "```\n",
        "list1 = [0, 3, 8, 10, 14]\n",
        "list2 = [9, 5, 3, 2, 4]\n",
        "\n",
        "array1 = np.array([0, 3, 8, 10, 14])\n",
        "array2 = np.array([9, 5, 3, 2, 4])\n",
        "```\n",
        "Above, we defined two lists, list1 and list2.\n",
        "Then, we created two arrays, array1 and array2, using the same numerical values as the lists.\n",
        "We could have also performed the following:\n",
        "```\n",
        "array1 = np.array(list1)\n",
        "```\n",
        "Note that arrays in NumPy have a couple of restrictions regarding what can go in them.\n",
        "For our purposes, arrays should only contain numbers.\n",
        "There are ways to put strings, or other non-numerical items into arrays, but that's beyond the scope of this course.\n",
        "\n",
        "In the code block below, define your own set of lists and arrays using your own values."
      ],
      "metadata": {
        "id": "I2oAOBbmRrSu"
      }
    },
    {
      "cell_type": "code",
      "source": [
        "list1 = [0, 3, 8, 10, 14]\n",
        "list2 = [9, 5, 3, 2, 4]\n",
        "\n",
        "array1 = np.array(list1)\n",
        "array2 = np.array(list2)"
      ],
      "metadata": {
        "id": "MFz_2Lb23UX-"
      },
      "execution_count": 2,
      "outputs": []
    },
    {
      "cell_type": "markdown",
      "source": [
        "### 2.1.2 Mathematical Manipulation of Arrays\n",
        "To illustrate the difference, let's go back to lists. In the previous module, you were asked to do mathematical operations on two lists. If you wanted to add the entries of two lists together, your code would probably look something like this:\n",
        "```\n",
        "list3 = len(list1)*[0] # first line\n",
        "\n",
        "for i in range(len(list1)): # second line\n",
        "    list3[i] = list1[i] + list2[i] # third line\n",
        "```\n",
        "This took three lines of code, not including where we initialize list1 and list2.\n",
        "\n",
        "Now, here's how you can accomplish the same thing with NumPy:\n",
        "```\n",
        "array3 = array1 + array2\n",
        "```\n",
        "Only one line of code!\n",
        "We won't show it here, but it takes a computer much less time to do this type of operation with arrays instead of lists, especially as the number of entries in your array grows larger and larger.\n",
        "[(Apparently NumPy starts being faster around n=8)](https://stackoverflow.com/a/18713494)\n",
        "\n",
        "What else can we do?\n",
        "Anything you can do to two numbers in Python, you can do to two lists with NumPy.\n",
        "```\n",
        "array1 + array2 # addition\n",
        "array1 * array2 # multiplication\n",
        "array1 - array2 # subtraction\n",
        "array1 / array2 # division\n",
        "array1**array2 # exponentiation\n",
        "```\n",
        "The catch is that if you're doing element-wise operations, both arrays must be the same length.\n",
        "Sometimes we want to do something to all the numbers in a single array.\n",
        "In this case, we can do operations with an array and a number (int or float). For example,\n",
        "```\n",
        "array1 + 2 # add 2 to all numbers\n",
        "array1 / 2 # divide all numbers by 2\n",
        "```\n",
        "In these cases, the rules for the order of operations are the same as for normal mathematical operations."
      ],
      "metadata": {
        "id": "3E52sqvq0155"
      }
    },
    {
      "cell_type": "markdown",
      "source": [
        "### Problem: 3D Function\n",
        "\n",
        "Mathematical functions commonly depend on two or more variables. Let's say we have a function $z=f(x,y)$ which we want to evaluate at different $(x,y)$ locations. Let's say we have the function:\n",
        "\n",
        "$$ z = f(x,y) = \\frac{xy^2}{3} + 2. $$\n",
        "\n",
        "Suppose we want to evaluate the function at the four (x, y) data points:\n",
        "*   (0, 0)\n",
        "*   (1, 2)\n",
        "*   (2, 5)\n",
        "*   (3, 9)\n",
        "\n",
        "In the cell below, write code that solves for z using the function at the four points.\n",
        "Define two arrays, one for $x$ and one for $y$.\n",
        "To check to see if your code is accurate, use one or two of the points to find the value of z either with a calculator or with pencil and paper."
      ],
      "metadata": {
        "id": "pkzu3Brz3aOm"
      }
    },
    {
      "cell_type": "code",
      "source": [
        "# Solve for z here!\n",
        "x = np.array([0, 1, 2, 3])\n",
        "y = np.array([0, 2, 5, 9])\n",
        "z = x * np.square(y) / 3 + 2\n",
        "print(z)"
      ],
      "metadata": {
        "id": "8yzy4wjG0zrL",
        "colab": {
          "base_uri": "https://localhost:8080/"
        },
        "outputId": "f55b6bf3-b34e-4507-bb4b-76223fe5eb32"
      },
      "execution_count": 3,
      "outputs": [
        {
          "output_type": "stream",
          "name": "stdout",
          "text": [
            "[ 2.          3.33333333 18.66666667 83.        ]\n"
          ]
        }
      ]
    },
    {
      "cell_type": "markdown",
      "source": [
        "### 2.1.3 Special NumPy Functions\n",
        "\n",
        "There are many special mathematical functions that you'll probably often use.\n",
        "We can divide these into different categories.\n",
        "\n",
        "First, there are functions that exist in Python already, like $\\sin(x)$, $\\log(x)$, or $\\exp(x)$.\n",
        "However, the native Python functions only work on single numbers (i.e. floats or ints), so we need a version that works for multidimensional objects.\n",
        "Here are some examples provided by NumPy:\n",
        "```\n",
        "np.sin(x) # sin of each element in x\n",
        "np.log10(x) # log base 10 of each element in x\n",
        "np.exp(x) # e^x for each element in x\n",
        "```\n",
        "\n",
        "Then, there are some functions that only have meaning when we're dealing with collections of numbers.\n",
        "Some of these should be familiar from statistics, like the average, median, or range.\n",
        "Others include things like the product or sum of all elements,\n",
        "the difference between successive elements, or the maximum and minimum values of an array (and their indices).\n",
        "Here are some examples:\n",
        "```\n",
        "np.mean(x) # mean of x\n",
        "np.stdev(x) # standard deviation of x\n",
        "np.sum(x) # sum of array elements or along an axis\n",
        "np.diff(x) # difference between consecutive elements along an axis\n",
        "np.amin(x) # min value of array or along a given axis\n",
        "np.argmax(x) # indices of max values of array or along a given axis\n",
        "```\n",
        "\n",
        "One nice thing about using these functions is that they typically take \"array-like\" arguments.\n",
        "In other words, you can give these functions a list and they'll convert the list to an array for you! These are also much faster than their Python analogs since they're optimized for arrays.\n",
        "\n",
        "You can find details and additional functions that could be useful to you [here](https://numpy.org/doc/stable/reference/routines.math.html)."
      ],
      "metadata": {
        "id": "0hAAs_GNvxnn"
      }
    },
    {
      "cell_type": "markdown",
      "source": [
        "### 2.1.4 Concatenate Arrays\n",
        "\n",
        "You can also combine separate arrays into a single array using the concatenate function. Consider the two arrays containing the semimajor axes of the inner and outer planets in the Solar System:\n",
        "```python\n",
        "a_inner = np.array([5.76e10, 1.082e11, 1.496e11, 2.280e11])\n",
        "a_outer = np.array([7.785e11, 1.432e12, 2.867e12, 4.515e12])\n",
        "```\n",
        "We can combine both arrays into a single array using the concatenate command. Notice that we need two sets of parenthesis!\n",
        "```python\n",
        "a_all = np.concatenate((a_inner, a_outer))\n",
        "print(a_all)\n",
        "```\n",
        "Try yourself in the following code cell."
      ],
      "metadata": {
        "id": "Y-9NFyKzuBnb"
      }
    },
    {
      "cell_type": "code",
      "source": [
        "a_inner = np.array([5.76e10, 1.082e11, 1.496e11, 2.280e11])\n",
        "a_outer = np.array([7.785e11, 1.432e12, 2.867e12, 4.515e12])\n",
        "\n",
        "a_all = np.concatenate((a_inner, a_outer))\n",
        "print(a_all)\n"
      ],
      "metadata": {
        "colab": {
          "base_uri": "https://localhost:8080/"
        },
        "id": "F6b2IqVhuxpa",
        "outputId": "0fba11f0-c0a1-4a46-ea1d-4aa31707c162"
      },
      "execution_count": 4,
      "outputs": [
        {
          "output_type": "stream",
          "name": "stdout",
          "text": [
            "[5.760e+10 1.082e+11 1.496e+11 2.280e+11 7.785e+11 1.432e+12 2.867e+12\n",
            " 4.515e+12]\n"
          ]
        }
      ]
    },
    {
      "cell_type": "markdown",
      "source": [
        "## 2.2 Multidimensional Arrays\n",
        "\n",
        "Useful data can rarely be described in a single dimension. To describe the motion of a point particle, we need seven numbers: position ($x$, $y$, and $z$) and velocities ($v_x$, $v_y$, and $v_z$) as well as time ($t$).\n",
        "Stars have numerous properties, such as mass, radius, composition, position in the sky, distance, etc.\n",
        "In these cases, it would be unwieldy to have many separate lists of numbers. Luckily for us, the NumPy array datatype is actually called an ndarray, where n stands for N and d stands for dimensions.\n",
        "In other words, our arrays can have any dimensionality we require!\n",
        "For now, let's restrict ourselves to two dimensions, which will be sufficient for most of our use cases.\n",
        "You might have three dimensions (for example, making a 2D animation or running a simulation of particles) and more rarely four or more, but luckily everything we are about see works the same for arrays with higher dimensions.\n",
        "\n",
        "### 2.2.1 Creating Multidimensional Arrays + .shape\n",
        "\n",
        "When you initialize 2D arrays, you should give a list of rows.\n",
        "```\n",
        "A = np.array([[1, 2, 3],\n",
        "              [4, 5, 6]])\n",
        "```\n",
        "In this example, the array has 6 elements, arranged in two rows and three columns. The first row is [1, 2, 3] and the first column is [1, 4]. We could instead arrange these six elements in a host of different ways. For example:\n",
        "```\n",
        "B = np.array([[1, 2], # three rows and two columns\n",
        "              [3, 4],\n",
        "              [5, 6]])\n",
        "C = np.array([[1, 2, 3, 4, 5, 6]]) # one row and six columns\n",
        "D = np.array([[1], # six rows and one column\n",
        "              [2],\n",
        "              [3],\n",
        "              [4],\n",
        "              [5],\n",
        "              [6]])\n",
        "```\n",
        "That's four different ways to arrange six numbers! For larger collections of numbers, there can be even more combinations. We may need to check the shape our arrays, which can can do with the shape parameter:\n",
        "```\n",
        "A.shape # (2, 3)\n",
        "```\n",
        "The shape parameter outputs (# of rows, # of columns) for 2D arrays.\n",
        "\n",
        "In the cell below, create some 2D arrays and make sure they have the shape you expect by printing the shape parameter."
      ],
      "metadata": {
        "id": "rnMGSMLlrghE"
      }
    },
    {
      "cell_type": "code",
      "source": [],
      "metadata": {
        "id": "APv5e6DM4-7c"
      },
      "execution_count": 4,
      "outputs": []
    },
    {
      "cell_type": "markdown",
      "source": [
        "It's common for data to be given to us. For example, maybe I can give you three lists of planetary mass, radii, and distances (units in SI, first four planets only). We can combine them like this:\n",
        "```\n",
        "masses = [3.3e23, 4.9e24, 6.0e24, 6.4e23] # kg\n",
        "radii = [2439, 6052, 6378, 3398] # m\n",
        "periods = [5.7e10, 1.1e11, 1.5e11, 2.3e11] # m\n",
        "\n",
        "planets = np.array([masses, radii, periods])\n",
        "```\n",
        "Thus each column describes a planet, and each property is a row.\n",
        "If you want to make it the other way around, you can do so by taking the transpose of the array.\n",
        "```\n",
        "planets_T = planets.transpose()\n",
        "```\n",
        "Try this yourself below.\n",
        "Also, compare the shapes and entries of planets and planets_T to make sure everything looks right."
      ],
      "metadata": {
        "id": "CnGM8IsBYs8t"
      }
    },
    {
      "cell_type": "code",
      "source": [
        "masses = [3.3e23, 4.9e24, 6.0e24, 6.4e23] # kg\n",
        "radii = [2439, 6052, 6378, 3398] # m\n",
        "periods = [5.7e10, 1.1e11, 1.5e11, 2.3e11] # m\n",
        "\n",
        "planets = np.array([masses, radii, periods])\n",
        "planets_T = planets.transpose()\n",
        "print(planets_T)"
      ],
      "metadata": {
        "id": "-twFB-nmZJ1Y",
        "colab": {
          "base_uri": "https://localhost:8080/"
        },
        "outputId": "ecbb9322-7327-46ec-d81b-974d695c0545"
      },
      "execution_count": 5,
      "outputs": [
        {
          "output_type": "stream",
          "name": "stdout",
          "text": [
            "[[3.300e+23 2.439e+03 5.700e+10]\n",
            " [4.900e+24 6.052e+03 1.100e+11]\n",
            " [6.000e+24 6.378e+03 1.500e+11]\n",
            " [6.400e+23 3.398e+03 2.300e+11]]\n"
          ]
        }
      ]
    },
    {
      "cell_type": "markdown",
      "source": [
        "### 2.2.2 np.zeros() and np.ones()\n",
        "\n",
        "It's extremely unwieldy to make 2D arrays.\n",
        "Just as we are able to make lists with placeholders very quickly, there are some functions that make simple arrays for you very easily.\n",
        "The two most common are np.zeros() and np.ones().\n",
        "The first gives you an array with all zeros and the second an array with all ones.\n",
        "Both functions take the same arguments.\n",
        "As an example, let's consider np.zeros().\n",
        "The main argument is the shape of the array you want.\n",
        "\n",
        "For example,\n",
        "```\n",
        "np.zeros(5) # this returns an array of length 5\n",
        "\n",
        "np.zeros((2, 6)) # this returns an array with 2 rows and 6 columns\n",
        "```\n",
        "Try yourself in the code cell."
      ],
      "metadata": {
        "id": "ayVxVgPd4_Q7"
      }
    },
    {
      "cell_type": "code",
      "source": [
        "np.zeros(5) # this returns an array of length 5\n",
        "\n",
        "np.zeros((2, 6)) # this returns an array with 2 rows and 6 columns"
      ],
      "metadata": {
        "id": "m8z2-VHjgaSQ",
        "colab": {
          "base_uri": "https://localhost:8080/"
        },
        "outputId": "cf363ac4-ead2-45d6-b439-eddfaedc91e7"
      },
      "execution_count": 6,
      "outputs": [
        {
          "output_type": "execute_result",
          "data": {
            "text/plain": [
              "array([[0., 0., 0., 0., 0., 0.],\n",
              "       [0., 0., 0., 0., 0., 0.]])"
            ]
          },
          "metadata": {},
          "execution_count": 6
        }
      ]
    },
    {
      "cell_type": "markdown",
      "source": [
        "### 2.2.3 np.arange and np.linspace()\n",
        "\n",
        "The np.arange function is exactly the same as range() from before, but it returns an array. Technically, the other main difference is that we can use non-integer step sizes. However, in those cases, it's better to use the next function.\n",
        "\n",
        "np.linspace is a little different. This lets us make an array with equally spaced numbers by specifying the start, end, and number of points. This is extremely useful in a variety of applications, especially plotting. Note that, given the nature of these functions, we can only make 1D arrays in this manner.\n",
        "\n",
        "```\n",
        "# 50 (default) linearly-spaced numbers from 0 to 10\n",
        "np.linspace(0, 10)\n",
        "\n",
        "# With 3 arguments, this generates 200 numbers should generated\n",
        "np.linspace(0, 10, 200)\n",
        "\n",
        "# This is helpful, for example, if you wanted to plot the sin( ) function\n",
        "x = np.linspace(0, 2*np.pi, 100)\n",
        "```\n",
        "It is possible to reshape arrays.\n",
        "In the cell below, compare the output from these two lines of code.\n",
        "```\n",
        "print(np.arange(12))\n",
        "print(np.arange(12).reshape(4, 3))\n",
        "```"
      ],
      "metadata": {
        "id": "ndIhvYsUgaxS"
      }
    },
    {
      "cell_type": "code",
      "source": [],
      "metadata": {
        "id": "8GTNCxEVj_7B"
      },
      "execution_count": 6,
      "outputs": []
    },
    {
      "cell_type": "markdown",
      "source": [
        "### 2.2.4 np.loadtxt()\n",
        "\n",
        "We can also import a data file into an array.\n",
        "All you need to do is supply a filename. In this case,  we will load the file named 'example.txt'\n",
        "```\n",
        "data = np.loadtxt('example.txt')\n",
        "```\n",
        "After you load the data, do the following:\n",
        "1. Get the shape of the array\n",
        "2. Sum all the elements of the array\n",
        "3. The the max values of each row (axis=0) and each column (axis=1)\n",
        "4. Finally, sum each row and column individually. Your answer might surprise you."
      ],
      "metadata": {
        "id": "LsDT2aqQkAUa"
      }
    },
    {
      "cell_type": "code",
      "source": [
        "# Running in Google Colab? Run this cell to download the file\n",
        "!wget https://raw.githubusercontent.com/CIERA-Northwestern/REACHpy/main/Module_2/data/example.txt\n",
        "\n",
        "# If you're not running in Colab, this file should be in the data directory.\n",
        "# Change the loading path of the file to include 'data/' when the file is loaded"
      ],
      "metadata": {
        "id": "i7M1XTlXH2_Y",
        "colab": {
          "base_uri": "https://localhost:8080/"
        },
        "outputId": "4cf5e83d-6762-44c3-8550-3bac0ed8f24b"
      },
      "execution_count": 7,
      "outputs": [
        {
          "output_type": "stream",
          "name": "stdout",
          "text": [
            "--2023-06-16 19:44:23--  https://raw.githubusercontent.com/CIERA-Northwestern/REACHpy/main/Module_2/data/example.txt\n",
            "Resolving raw.githubusercontent.com (raw.githubusercontent.com)... 185.199.109.133, 185.199.111.133, 185.199.108.133, ...\n",
            "Connecting to raw.githubusercontent.com (raw.githubusercontent.com)|185.199.109.133|:443... connected.\n",
            "HTTP request sent, awaiting response... 200 OK\n",
            "Length: 189 [text/plain]\n",
            "Saving to: ‘example.txt.3’\n",
            "\n",
            "example.txt.3       100%[===================>]     189  --.-KB/s    in 0s      \n",
            "\n",
            "2023-06-16 19:44:23 (7.36 MB/s) - ‘example.txt.3’ saved [189/189]\n",
            "\n"
          ]
        }
      ]
    },
    {
      "cell_type": "code",
      "source": [
        "data = np.loadtxt('example.txt')"
      ],
      "metadata": {
        "id": "rcRzFCmxlQV-"
      },
      "execution_count": 8,
      "outputs": []
    },
    {
      "cell_type": "markdown",
      "source": [
        "In the above example, the file assumed the columns are separated by whitespace, which loadtxt assumes by default.\n",
        "This isn't always the case.\n",
        "For example, some files may instead separate values by commas. In the case of comma-separated values (CSV) file format, you would need to pass a delimiter option:\n",
        "```\n",
        "data = np.loadtxt('example.txt', delimiter=',')\n",
        "```\n",
        "We will not be doing an example here, but we may see it in future Challenge Problems."
      ],
      "metadata": {
        "id": "Bfx8ex9dlQhn"
      }
    },
    {
      "cell_type": "markdown",
      "source": [
        "### 2.2.5 np.meshgrid()\n",
        "\n",
        "In the lists section, we discussed a way of evaluating a function on a *grid* of points by using nested for loops. We can accomplish something similar without needing to use loops with the function `np.meshgrid`. The example from that section was\n",
        "```\n",
        "xs = [0,1,3,5,6]\n",
        "ys = [1,3,6,7,10]\n",
        "\n",
        "zs = len(xs)*[0]\n",
        "for i in range(len(xs)):\n",
        "    zs[i] = len(ys)*[0]\n",
        "\n",
        "for i, x in enumerate(xs):\n",
        "    for j, y in enumerate(ys):\n",
        "        zs[i][j] = x*x + y\n",
        "\n",
        "print(zs)\n",
        "```\n",
        "Here's one way we could do this in numpy:\n",
        "\n",
        "```\n",
        "xs = np.array([0, 1, 3, 5, 6])\n",
        "ys = np.array([1, 3, 6, 7, 10])\n",
        "\n",
        "xx, yy = np.meshgrid(xs, ys)\n",
        "zz = xx*xx + yy\n",
        "```\n",
        "Run the NumPy example below and print out xx and yy to see what's going on. Essentially, the function takes your x and y values and clones the x values along each row and the y values along each column so you work with 2D arrays."
      ],
      "metadata": {
        "id": "m8zG05ZsIxUB"
      }
    },
    {
      "cell_type": "code",
      "source": [
        "xs = np.array([0, 1, 3, 5, 6])\n",
        "ys = np.array([1, 3, 6, 7, 10])\n",
        "\n",
        "xx, yy = np.meshgrid(xs, ys)\n",
        "zz = xx*xx + yy\n",
        "print(zz)"
      ],
      "metadata": {
        "id": "ja7Rkx3LC4CD",
        "colab": {
          "base_uri": "https://localhost:8080/"
        },
        "outputId": "cf991bef-4ecf-4009-c5fd-2f604e3e96ce"
      },
      "execution_count": 9,
      "outputs": [
        {
          "output_type": "stream",
          "name": "stdout",
          "text": [
            "[[ 1  2 10 26 37]\n",
            " [ 3  4 12 28 39]\n",
            " [ 6  7 15 31 42]\n",
            " [ 7  8 16 32 43]\n",
            " [10 11 19 35 46]]\n"
          ]
        }
      ]
    },
    {
      "cell_type": "markdown",
      "source": [
        "## 2.3 Indexing and Slicing in NumPy\n",
        "\n",
        "### 2.3.1 Commonalities with Lists\n",
        "\n",
        "Luckily for us, accessing the data in 1D arrays is essentially the same as working with normal lists! Just to review with some examples,\n",
        "```\n",
        "my_array = np.arange(8)\n",
        "\n",
        "my_array[3] # this gets the 4th element of my_array\n",
        "my_array[-5:] # this gets the last 5 elements of my_array\n",
        "my_array[1:6:2] # this gets every other element of my_array, starting with the 2nd and stopping by the 7th\n",
        "```\n",
        "Try yourself in the code cell."
      ],
      "metadata": {
        "id": "aLRNHiQ1IvSd"
      }
    },
    {
      "cell_type": "code",
      "source": [
        "my_array = np.arange(8)\n",
        "\n",
        "my_array[3] # this gets the 4th element of my_array\n",
        "my_array[-5:] # this gets the last 5 elements of my_array\n",
        "my_array[1:6:2] # this gets every other element of my_array, starting with the 2nd and stopping by the 7th"
      ],
      "metadata": {
        "id": "V78nMcIGrNk8",
        "colab": {
          "base_uri": "https://localhost:8080/"
        },
        "outputId": "8762498e-01ad-42e4-e8d8-16eb4825be9f"
      },
      "execution_count": 10,
      "outputs": [
        {
          "output_type": "execute_result",
          "data": {
            "text/plain": [
              "array([1, 3, 5])"
            ]
          },
          "metadata": {},
          "execution_count": 10
        }
      ]
    },
    {
      "cell_type": "markdown",
      "source": [
        "### 2.3.2 Working with 2D Arrays\n",
        "\n",
        "Now that we have multiple dimensions, we can access the arrays along multiple dimensions.\n",
        "In order to specify multiple axes, we can separate them with commas:\n",
        "```\n",
        "my_array = np.arange(48).reshape(6, 8)\n",
        "\n",
        "my_array[2, 3] # accesses the element in the 3rd row, 4th column\n",
        "```\n",
        "The various rules for slicing also apply here.\n",
        "```\n",
        "my_array[1:-1,::2] # get all but the first and last row, every other column\n",
        "```\n",
        "What if we only want to get certain rows? Since a 2D array is basically an array of arrays, we can access rows by pretending we're working with a 1D array.\n",
        "```\n",
        "my_array[4] # access the 5th row\n",
        "my_array[2:5] # access rows 3 through 6\n",
        "```\n",
        "What about columns? If we want to access part or all of a column in every row, use a colon before the comma:\n",
        "```\n",
        "my_array[:, 4] # access the 5th col\n",
        "my_array[:, 2:5] # access cols 3 through 6\n",
        "```\n",
        "Try to work through these examples in your head before you try to run them in the cell below."
      ],
      "metadata": {
        "id": "1L4RdtHsrOCU"
      }
    },
    {
      "cell_type": "code",
      "source": [
        "my_array = np.arange(48).reshape(6, 8)\n",
        "my_array[:, 4] # access the 5th col"
      ],
      "metadata": {
        "id": "BJmZy3cytxPQ",
        "colab": {
          "base_uri": "https://localhost:8080/"
        },
        "outputId": "23d8cfe6-91ff-41ef-a417-cd1ea80959e4"
      },
      "execution_count": 11,
      "outputs": [
        {
          "output_type": "execute_result",
          "data": {
            "text/plain": [
              "array([ 4, 12, 20, 28, 36, 44])"
            ]
          },
          "metadata": {},
          "execution_count": 11
        }
      ]
    },
    {
      "cell_type": "code",
      "source": [
        "my_array[:, 2:5] # access cols 3 through 6"
      ],
      "metadata": {
        "colab": {
          "base_uri": "https://localhost:8080/"
        },
        "id": "so8hkzye3QhR",
        "outputId": "200457d2-ab96-4e62-f0dc-33c14cd36a8c"
      },
      "execution_count": 12,
      "outputs": [
        {
          "output_type": "execute_result",
          "data": {
            "text/plain": [
              "array([[ 2,  3,  4],\n",
              "       [10, 11, 12],\n",
              "       [18, 19, 20],\n",
              "       [26, 27, 28],\n",
              "       [34, 35, 36],\n",
              "       [42, 43, 44]])"
            ]
          },
          "metadata": {},
          "execution_count": 12
        }
      ]
    },
    {
      "cell_type": "markdown",
      "source": [
        "### 2.3.3 Accessing Specific Indices\n",
        "\n",
        "NumPy can access multiple indices and values at once. For example,\n",
        "```\n",
        "my_array = np.arange(8)\n",
        "\n",
        "my_array[[0, 2, 3, 6]] # this gets the elements at all the specified positions\n",
        "```\n",
        "\n",
        "Try the example in the code cell."
      ],
      "metadata": {
        "id": "n252YVGJtxZ9"
      }
    },
    {
      "cell_type": "code",
      "source": [
        "my_array = np.arange(8)\n",
        "\n",
        "my_array[[0, 2, 3, 6]] # this gets the elements at all the specified positions"
      ],
      "metadata": {
        "id": "9tsZa9V_t1t6",
        "colab": {
          "base_uri": "https://localhost:8080/"
        },
        "outputId": "7305eead-f11c-4095-d2cc-9dc439ac763d"
      },
      "execution_count": 13,
      "outputs": [
        {
          "output_type": "execute_result",
          "data": {
            "text/plain": [
              "array([0, 2, 3, 6])"
            ]
          },
          "metadata": {},
          "execution_count": 13
        }
      ]
    },
    {
      "cell_type": "markdown",
      "source": [
        "### 2.3.4 Boolean Indexing\n",
        "\n",
        "The word Boolean means we're dealing with conditional logic (True or False).\n",
        "\n",
        "Instead of accessing data based on the index, we can do it based on the nature of the data itself! For example, in the following list, suppose we want only the even numbers.\n",
        "```\n",
        "a = np.arange(12)\n",
        "\n",
        "a[a%2 == 0]\n",
        "```\n",
        "Here, the == means 'is equal to', as opposed to =, which is just assignment. Here's a list of the different comparison operators you'll probably use:\n",
        "```\n",
        "== # equal to\n",
        "!= # not equal to\n",
        "<= # less than or equal to\n",
        "<  # less than\n",
        ">= # greater than or equal to\n",
        ">  # greater than\n",
        "```\n",
        "In addition, we can chain logical statements together with these operators:\n",
        "```\n",
        "& # logical and\n",
        "| # logical or\n",
        "~ # logical not\n",
        "```\n",
        "Here's an example. Note that we need to enclose different logical statements in parentheses.\n",
        "```\n",
        "a[(a%2 == 0) & (a > 7)] # return elements even and greater than 7\n",
        "a[(a%2 == 0) & ((a > 7) | (a < 3))] # return elements even and greater than 7 or less than 3\n",
        "a[~(a%2 == 0) & ((a > 7) | (a < 3))] # return elements NOT even (ie odd) and greater than 7 or less than 3\n",
        "```\n",
        "Try to predict the output of each of these lines before running the code below."
      ],
      "metadata": {
        "id": "C4LS3gnit11P"
      }
    },
    {
      "cell_type": "code",
      "source": [
        "a = np.arange(12)"
      ],
      "metadata": {
        "id": "JtNtjudvt8aj"
      },
      "execution_count": 14,
      "outputs": []
    },
    {
      "cell_type": "code",
      "source": [
        "a[(a%2 == 0) & (a > 7)] # return elements even and greater than 7"
      ],
      "metadata": {
        "colab": {
          "base_uri": "https://localhost:8080/"
        },
        "id": "Dnu5DvG03Yb3",
        "outputId": "008612aa-3d56-4319-deb5-079f48d05392"
      },
      "execution_count": 15,
      "outputs": [
        {
          "output_type": "execute_result",
          "data": {
            "text/plain": [
              "array([ 8, 10])"
            ]
          },
          "metadata": {},
          "execution_count": 15
        }
      ]
    },
    {
      "cell_type": "code",
      "source": [
        "a[(a%2 == 0) & ((a > 7) | (a < 3))] # return elements even and greater than 7 or less than 3"
      ],
      "metadata": {
        "colab": {
          "base_uri": "https://localhost:8080/"
        },
        "id": "EPWa9sAi3Z22",
        "outputId": "40cb0c8b-fd69-44b4-b8a5-69fb4feff980"
      },
      "execution_count": 16,
      "outputs": [
        {
          "output_type": "execute_result",
          "data": {
            "text/plain": [
              "array([ 0,  2,  8, 10])"
            ]
          },
          "metadata": {},
          "execution_count": 16
        }
      ]
    },
    {
      "cell_type": "code",
      "source": [
        "a[~(a%2 == 0) & ((a > 7) | (a < 3))] # return elements NOT even (ie odd) and greater than 7 or less than 3"
      ],
      "metadata": {
        "colab": {
          "base_uri": "https://localhost:8080/"
        },
        "id": "QiewxON53bnJ",
        "outputId": "d63fa8c6-a79c-4962-c020-e1b79466e097"
      },
      "execution_count": 17,
      "outputs": [
        {
          "output_type": "execute_result",
          "data": {
            "text/plain": [
              "array([ 1,  9, 11])"
            ]
          },
          "metadata": {},
          "execution_count": 17
        }
      ]
    },
    {
      "cell_type": "markdown",
      "source": [
        "### 2.3.5 Boolean Indexing in 2D\n",
        "\n",
        "For two dimensions, we need to specify the row or column.\n",
        "\n",
        "First, consider selecting rows based on different column values:\n",
        "```\n",
        "b = np.arange(48).reshape(6,8)\n",
        "b[b[:,4] > 20] # get all rows where column 5 is greater than 20\n",
        "b[(b[:,4] > 20) | (b[:,2] < 30)] # get all rows where column 5 is greater than 20 or column 3 is less than 30\n",
        "```\n",
        "Next, consider selecting columns based on different row values:\n",
        "```\n",
        "b[:,b[0,:] > 3] # get all columns where first row value is greater than 3\n",
        "b[:,(b[0,:] > 3) & b[0,:]%2 == 1] # get all columns where first row value is greater than 3 and odd\n",
        "```\n",
        "Try to predict the output of each of these lines before running the code below."
      ],
      "metadata": {
        "id": "ENgOKPhE5uL2"
      }
    },
    {
      "cell_type": "code",
      "source": [
        "b = np.arange(48).reshape(6,8)"
      ],
      "metadata": {
        "id": "vuZg80xh-ARb"
      },
      "execution_count": 18,
      "outputs": []
    },
    {
      "cell_type": "code",
      "source": [
        "b[b[:,4] > 20] # get all rows where column 5 is greater than 20"
      ],
      "metadata": {
        "colab": {
          "base_uri": "https://localhost:8080/"
        },
        "id": "GgJTgCkG3l18",
        "outputId": "d9ffc608-0d67-4928-eedb-64c48cf513ad"
      },
      "execution_count": 19,
      "outputs": [
        {
          "output_type": "execute_result",
          "data": {
            "text/plain": [
              "array([[24, 25, 26, 27, 28, 29, 30, 31],\n",
              "       [32, 33, 34, 35, 36, 37, 38, 39],\n",
              "       [40, 41, 42, 43, 44, 45, 46, 47]])"
            ]
          },
          "metadata": {},
          "execution_count": 19
        }
      ]
    },
    {
      "cell_type": "code",
      "source": [
        "b[(b[:,4] > 20) | (b[:,2] < 30)] # get all rows where column 5 is greater than 20 or column 3 is less than 30"
      ],
      "metadata": {
        "colab": {
          "base_uri": "https://localhost:8080/"
        },
        "id": "aiyIlD_R3nPg",
        "outputId": "04d55aba-f1c6-4315-bf6a-0fad5740b57a"
      },
      "execution_count": 20,
      "outputs": [
        {
          "output_type": "execute_result",
          "data": {
            "text/plain": [
              "array([[ 0,  1,  2,  3,  4,  5,  6,  7],\n",
              "       [ 8,  9, 10, 11, 12, 13, 14, 15],\n",
              "       [16, 17, 18, 19, 20, 21, 22, 23],\n",
              "       [24, 25, 26, 27, 28, 29, 30, 31],\n",
              "       [32, 33, 34, 35, 36, 37, 38, 39],\n",
              "       [40, 41, 42, 43, 44, 45, 46, 47]])"
            ]
          },
          "metadata": {},
          "execution_count": 20
        }
      ]
    },
    {
      "cell_type": "code",
      "source": [
        "b[:,b[0,:] > 3] # get all columns where first row value is greater than 3"
      ],
      "metadata": {
        "colab": {
          "base_uri": "https://localhost:8080/"
        },
        "id": "Px2zgtw43pU8",
        "outputId": "959958e4-9624-4d2f-cdc5-6254b40eaeca"
      },
      "execution_count": 21,
      "outputs": [
        {
          "output_type": "execute_result",
          "data": {
            "text/plain": [
              "array([[ 4,  5,  6,  7],\n",
              "       [12, 13, 14, 15],\n",
              "       [20, 21, 22, 23],\n",
              "       [28, 29, 30, 31],\n",
              "       [36, 37, 38, 39],\n",
              "       [44, 45, 46, 47]])"
            ]
          },
          "metadata": {},
          "execution_count": 21
        }
      ]
    },
    {
      "cell_type": "code",
      "source": [
        "b[:,(b[0,:] > 3) & b[0,:]%2 == 1] # get all columns where first row value is greater than 3 and odd"
      ],
      "metadata": {
        "colab": {
          "base_uri": "https://localhost:8080/"
        },
        "id": "eyGzu2Qn3rlg",
        "outputId": "75655018-557d-444a-aef1-28856747178a"
      },
      "execution_count": 22,
      "outputs": [
        {
          "output_type": "execute_result",
          "data": {
            "text/plain": [
              "array([[ 5,  7],\n",
              "       [13, 15],\n",
              "       [21, 23],\n",
              "       [29, 31],\n",
              "       [37, 39],\n",
              "       [45, 47]])"
            ]
          },
          "metadata": {},
          "execution_count": 22
        }
      ]
    },
    {
      "cell_type": "markdown",
      "source": [
        "### 2.3.6 np.where()\n",
        "\n",
        "Boolean indexing is extremely useful, but sometimes we want to work with data in the same column(s) differently based on some condition. This is where the function `np.where` comes in handy. The syntax for `np.where` is\n",
        "```\n",
        "np.where(condition,if true do this, else do this)\n",
        "```\n",
        "This is simply an if-else statement.\n",
        "An example of this is as follows:\n",
        "```\n",
        "# Create masses of black holes\n",
        "m1 = np.random.uniform(5, 50, size=10)\n",
        "m2 = np.random.uniform(5, 50, size=10)\n",
        "\n",
        "# Define mass ratio to always be less than 1\n",
        "q = np.where(m2 < m1, m2/m1, m1/m2)\n",
        "print(q)\n",
        "```\n",
        "In the above example, the first two lines create masses of objects in a binary star system to be between 5 and 50 (in some unit system).\n",
        "Typically, in binary star system, the mass ratio is defined such that we divide the smaller mass by the larger mass.\n",
        "We could do this with a for loop and an if-else statement.\n",
        "This way is more compact and faster!\n",
        "\n",
        "There is a second use case for `np.where`.\n",
        "If you leave off the second and third arguments of the function, then the function will return a list. The first element of this list contains the indices where the condition is true.\n",
        "For example, the following code will return all the indices where the number is negative.\n",
        "```\n",
        "a = np.random.uniform(-1, 1, size=10)\n",
        "b = np.where(a < 0)[0]\n",
        "print(b)\n",
        "```\n"
      ],
      "metadata": {
        "id": "b-_VU0nTCo-h"
      }
    },
    {
      "cell_type": "code",
      "source": [
        "# Create masses of black holes\n",
        "m1 = np.random.uniform(5, 50, size=10)\n",
        "m2 = np.random.uniform(5, 50, size=10)\n",
        "\n",
        "# Define mass ratio to always be less than 1\n",
        "q = np.where(m2 < m1, m2/m1, m1/m2)\n",
        "print(q)"
      ],
      "metadata": {
        "id": "TIS-kXE7CoFC",
        "colab": {
          "base_uri": "https://localhost:8080/"
        },
        "outputId": "9d5950ba-5856-4306-b841-5178a1d62918"
      },
      "execution_count": 23,
      "outputs": [
        {
          "output_type": "stream",
          "name": "stdout",
          "text": [
            "[0.6906388  0.49671775 0.23613176 0.2541447  0.47166406 0.70425989\n",
            " 0.70546028 0.26616779 0.48618517 0.24519413]\n"
          ]
        }
      ]
    },
    {
      "cell_type": "code",
      "source": [
        "a = np.random.uniform(-1, 1, size=10)\n",
        "b = np.where(a < 0)[0]\n",
        "print(b)"
      ],
      "metadata": {
        "colab": {
          "base_uri": "https://localhost:8080/"
        },
        "id": "qvlKd5JC3zwl",
        "outputId": "42d2f9b3-014a-4475-e01c-a51d4c6330ce"
      },
      "execution_count": 24,
      "outputs": [
        {
          "output_type": "stream",
          "name": "stdout",
          "text": [
            "[1 6 8 9]\n"
          ]
        }
      ]
    },
    {
      "cell_type": "markdown",
      "source": [
        "## 2.4 Practice Problem\n",
        "\n",
        "Use np.loadtxt to open the file named 'binaries.txt'. Characterize it. In particular,\n",
        "\n",
        "1. How many rows does it have?\n",
        "2. How many columns does it have?\n",
        "3. What kinds of values do each column contain? That is, how big or small are the numbers in each column? What's the smallest/largest number? The median? The average? If you notice anything else interesting, write that down too.\n",
        "\n",
        "Answer: Write your answers here.\n"
      ],
      "metadata": {
        "id": "mXZXUcint8lv"
      }
    },
    {
      "cell_type": "code",
      "source": [
        "# Running in Google Colab? Run this cell to download the file\n",
        "!wget https://raw.githubusercontent.com/CIERA-Northwestern/REACHpy/main/Module_2/data/binaries.txt\n",
        "\n",
        "# If you're not running in Colab, this file should be in the data directory.\n",
        "# Change the loading path of the file to include 'data/' when the file is loaded"
      ],
      "metadata": {
        "id": "qrJ8tafHIz6-",
        "colab": {
          "base_uri": "https://localhost:8080/"
        },
        "outputId": "941ddde4-2351-42b0-95e0-f4d870791566"
      },
      "execution_count": 25,
      "outputs": [
        {
          "output_type": "stream",
          "name": "stdout",
          "text": [
            "--2023-06-16 19:44:23--  https://raw.githubusercontent.com/CIERA-Northwestern/REACHpy/main/Module_2/data/binaries.txt\n",
            "Resolving raw.githubusercontent.com (raw.githubusercontent.com)... 185.199.108.133, 185.199.109.133, 185.199.111.133, ...\n",
            "Connecting to raw.githubusercontent.com (raw.githubusercontent.com)|185.199.108.133|:443... connected.\n",
            "HTTP request sent, awaiting response... 200 OK\n",
            "Length: 30000 (29K) [text/plain]\n",
            "Saving to: ‘binaries.txt.3’\n",
            "\n",
            "binaries.txt.3      100%[===================>]  29.30K  --.-KB/s    in 0.002s  \n",
            "\n",
            "2023-06-16 19:44:24 (12.2 MB/s) - ‘binaries.txt.3’ saved [30000/30000]\n",
            "\n"
          ]
        }
      ]
    },
    {
      "cell_type": "code",
      "source": [
        "data = np.loadtxt('binaries.txt')\n",
        "\n",
        "print(f'The data consists of {data.shape[0]} rows.')\n",
        "print(f'The data consists of {data.shape[1]} columns.')\n",
        "for i in range(data.shape[1]):\n",
        "    print(f'Column {i} statistics:')\n",
        "    print(f'     Type = {type(data[:,i][0])}')\n",
        "    print(f'     Min = {data[:,i].min()}')\n",
        "    print(f'     Max = {data[:,i].max()}')\n",
        "    print(f'     Average = {data[:,i].mean()}')\n",
        "    print(f'     Median = {np.median(data[:,i])}')\n"
      ],
      "metadata": {
        "id": "T_Dvm8a40RLy",
        "colab": {
          "base_uri": "https://localhost:8080/"
        },
        "outputId": "b25eee8b-b068-482d-e626-7de6945cb383"
      },
      "execution_count": 26,
      "outputs": [
        {
          "output_type": "stream",
          "name": "stdout",
          "text": [
            "The data consists of 200 rows.\n",
            "The data consists of 6 columns.\n",
            "Column 0 statistics:\n",
            "     Type = <class 'numpy.float64'>\n",
            "     Min = 0.0\n",
            "     Max = 1.0\n",
            "     Average = 0.92\n",
            "     Median = 1.0\n",
            "Column 1 statistics:\n",
            "     Type = <class 'numpy.float64'>\n",
            "     Min = 0.0\n",
            "     Max = 1.0\n",
            "     Average = 0.71\n",
            "     Median = 1.0\n",
            "Column 2 statistics:\n",
            "     Type = <class 'numpy.float64'>\n",
            "     Min = 0.5211138827114205\n",
            "     Max = 63.97121983076745\n",
            "     Average = 4.358941377137873\n",
            "     Median = 2.011815465280975\n",
            "Column 3 statistics:\n",
            "     Type = <class 'numpy.float64'>\n",
            "     Min = 0.503068107966992\n",
            "     Max = 35.97795541345767\n",
            "     Average = 2.159276756778197\n",
            "     Median = 0.9540186649497882\n",
            "Column 4 statistics:\n",
            "     Type = <class 'numpy.float64'>\n",
            "     Min = 1.801811702332768\n",
            "     Max = 67915281.32414712\n",
            "     Average = 1290817.759224778\n",
            "     Median = 5348.549675919522\n",
            "Column 5 statistics:\n",
            "     Type = <class 'numpy.float64'>\n",
            "     Min = 0.0019850130035782634\n",
            "     Max = 0.9293536062124865\n",
            "     Average = 0.49109972258356294\n",
            "     Median = 0.5298643483839818\n"
          ]
        }
      ]
    },
    {
      "cell_type": "markdown",
      "source": [
        "Now that you've done that, I should tell you what you're looking at. I used a program called [COSMIC](https://cosmic-popsynth.github.io/docs/stable/index.html) to create a list of binary star systems based on the properties of observed systems. To be clear, the data here is completely synthetic. Each row represents a different binary star system. The columns are as follows\n",
        "\n",
        "1) The k-type of star 1\n",
        "\n",
        "2) The k-type of star 2\n",
        "\n",
        "3) The mass of star 1 in units of solar mass\n",
        "\n",
        "4) The mass of star 2 in units of solar mass\n",
        "\n",
        "5) The orbital period in days.\n",
        "\n",
        "6) The orbital eccentricity which ranges between 0 and 1.\n",
        "\n",
        "The k-type is related to the evolutionary state of the star. Here, all of the k-types are either 0 or 1, both of which correspond to main-sequence stars.\n",
        "\n",
        "Now, here are your next tasks:\n",
        "\n",
        "1. How many binaries have stars where at least one is above 1 solar mass? 5 solar masses? 10?\n",
        "2. How many stars in this sample have masses above 1, 5 and 10 solar masses?\n",
        "3. How many binaries have orbital periods shorter than a month? A year? What are the shortest and longest orbital periods?\n",
        "4. As stated before, the k-type for all these stars are either 0 or 1. A main-sequence star will have k-type 0 below a certain mass and k-type 1 above that mass. See if you can find a range of values where the cutoff mass might be. State your answer in solar masses.\n",
        "5. Using Kepler's Third Law, make another array that corresponds to the semimajor axis of each binary system. Make sure you explicitly state what units you're using (ie meters, kilometers, AU). Once again, Keplers Third Law is\n",
        "\n",
        "$$T = 2\\pi \\sqrt{\\frac{a^3}{G(M_1 + M_2)}}$$"
      ],
      "metadata": {
        "id": "KTndNlqg0b1r"
      }
    },
    {
      "cell_type": "markdown",
      "source": [
        "###1"
      ],
      "metadata": {
        "id": "3zuXIcCP4K9J"
      }
    },
    {
      "cell_type": "code",
      "source": [
        "def binary_numbers(x, mass):\n",
        "    return x[(x[:,2]>mass) | (x[:,3]>mass)].shape[0]"
      ],
      "metadata": {
        "id": "jPZq8bdM0a69"
      },
      "execution_count": 27,
      "outputs": []
    },
    {
      "cell_type": "markdown",
      "source": [
        "###1a"
      ],
      "metadata": {
        "id": "3amEvxai5nMJ"
      }
    },
    {
      "cell_type": "code",
      "source": [
        "mass_a = 1\n",
        "print(f\"{binary_numbers(data, mass_a)} binaries have stars greater than {mass_a} solar masses.\")"
      ],
      "metadata": {
        "colab": {
          "base_uri": "https://localhost:8080/"
        },
        "id": "gSIv6afu4dAd",
        "outputId": "08d6df70-9c1f-4d09-a26b-a69ab83c3497"
      },
      "execution_count": 28,
      "outputs": [
        {
          "output_type": "stream",
          "name": "stdout",
          "text": [
            "148 binaries have stars greater than 1 solar masses.\n"
          ]
        }
      ]
    },
    {
      "cell_type": "markdown",
      "source": [
        "###1b"
      ],
      "metadata": {
        "id": "-QHgekI35pt0"
      }
    },
    {
      "cell_type": "code",
      "source": [
        "mass_b = 5\n",
        "print(f\"{binary_numbers(data, mass_b)} binaries have stars greater than {mass_b} solar masses.\")"
      ],
      "metadata": {
        "colab": {
          "base_uri": "https://localhost:8080/"
        },
        "id": "aWqTo7Qp4u3V",
        "outputId": "4ab30d61-d71d-4db4-b8b9-844f15e7d432"
      },
      "execution_count": 29,
      "outputs": [
        {
          "output_type": "stream",
          "name": "stdout",
          "text": [
            "42 binaries have stars greater than 5 solar masses.\n"
          ]
        }
      ]
    },
    {
      "cell_type": "markdown",
      "source": [
        "###1c"
      ],
      "metadata": {
        "id": "NNYreWDF5u4O"
      }
    },
    {
      "cell_type": "code",
      "source": [
        "mass_c = 10\n",
        "print(f\"{binary_numbers(data, mass_c)} binaries have stars greater than {mass_c} solar masses.\")"
      ],
      "metadata": {
        "colab": {
          "base_uri": "https://localhost:8080/"
        },
        "id": "O5nKNmjD47BN",
        "outputId": "39229088-6afb-4764-c291-db680f6b5d9a"
      },
      "execution_count": 30,
      "outputs": [
        {
          "output_type": "stream",
          "name": "stdout",
          "text": [
            "18 binaries have stars greater than 10 solar masses.\n"
          ]
        }
      ]
    },
    {
      "cell_type": "markdown",
      "source": [
        "###2"
      ],
      "metadata": {
        "id": "RKdM6rmhEuJE"
      }
    },
    {
      "cell_type": "code",
      "source": [
        "def number_of_stars(x, mass):\n",
        "    all_masses = np.concatenate((x[:,2], x[:,3]))\n",
        "    good_masses = all_masses[all_masses > mass]\n",
        "    return good_masses.shape[0]"
      ],
      "metadata": {
        "id": "LjIFZ10YEslx"
      },
      "execution_count": 31,
      "outputs": []
    },
    {
      "cell_type": "markdown",
      "source": [
        "### 2a"
      ],
      "metadata": {
        "id": "zqLXWftkEm2H"
      }
    },
    {
      "cell_type": "code",
      "source": [
        "mass_a = 1\n",
        "print(f'{number_of_stars(data, mass_a)} stars are larger than {mass_a} Solar masses.')"
      ],
      "metadata": {
        "colab": {
          "base_uri": "https://localhost:8080/"
        },
        "id": "pnUL6-vOnP1x",
        "outputId": "76839135-07be-4dc9-e6b3-7313f8d9d6e2"
      },
      "execution_count": 32,
      "outputs": [
        {
          "output_type": "stream",
          "name": "stdout",
          "text": [
            "240 stars are larger than 1 Solar masses.\n"
          ]
        }
      ]
    },
    {
      "cell_type": "markdown",
      "source": [
        "###2b"
      ],
      "metadata": {
        "id": "PXhwYmTonrPO"
      }
    },
    {
      "cell_type": "code",
      "source": [
        "mass_b = 5\n",
        "print(f'{number_of_stars(data, mass_b)} stars are larger than {mass_b} Solar masses.')"
      ],
      "metadata": {
        "colab": {
          "base_uri": "https://localhost:8080/"
        },
        "id": "oX7aJ_8jnenX",
        "outputId": "dab67f81-11a4-4ef8-96bc-d0859eb52220"
      },
      "execution_count": 33,
      "outputs": [
        {
          "output_type": "stream",
          "name": "stdout",
          "text": [
            "62 stars are larger than 5 Solar masses.\n"
          ]
        }
      ]
    },
    {
      "cell_type": "markdown",
      "source": [
        "###2c"
      ],
      "metadata": {
        "id": "u1LhKQmInpCN"
      }
    },
    {
      "cell_type": "code",
      "source": [
        "mass_c = 10\n",
        "print(f'{number_of_stars(data, mass_c)} stars are larger than {mass_c} Solar masses.')"
      ],
      "metadata": {
        "colab": {
          "base_uri": "https://localhost:8080/"
        },
        "id": "a_5m1tR8nea1",
        "outputId": "7db34f88-8e2a-4621-b193-f6e0e783a7df"
      },
      "execution_count": 34,
      "outputs": [
        {
          "output_type": "stream",
          "name": "stdout",
          "text": [
            "25 stars are larger than 10 Solar masses.\n"
          ]
        }
      ]
    },
    {
      "cell_type": "markdown",
      "source": [
        "###3"
      ],
      "metadata": {
        "id": "6xwmQiacnwmq"
      }
    },
    {
      "cell_type": "code",
      "source": [
        "def n_periods(x, days):\n",
        "    return x[x[:,4]<days].shape[0]"
      ],
      "metadata": {
        "id": "bV8V5qXMoAvy"
      },
      "execution_count": 35,
      "outputs": []
    },
    {
      "cell_type": "markdown",
      "source": [
        "###3a"
      ],
      "metadata": {
        "id": "hlBPsWJGpelS"
      }
    },
    {
      "cell_type": "code",
      "source": [
        "period_a = 30\n",
        "print(f'{n_periods(data, period_a)} binaries have periods less than {period_a} days.')"
      ],
      "metadata": {
        "colab": {
          "base_uri": "https://localhost:8080/"
        },
        "id": "8ggx9zAMoJ4V",
        "outputId": "52f9876e-7c28-4050-81c2-c541215a1ab3"
      },
      "execution_count": 36,
      "outputs": [
        {
          "output_type": "stream",
          "name": "stdout",
          "text": [
            "33 binaries have periods less than 30 days.\n"
          ]
        }
      ]
    },
    {
      "cell_type": "markdown",
      "source": [
        "###3b"
      ],
      "metadata": {
        "id": "R5uReSIPpc3y"
      }
    },
    {
      "cell_type": "code",
      "source": [
        "period_b = 365.24\n",
        "print(f'{n_periods(data, period_b)} binaries have periods less than {period_b} days.')"
      ],
      "metadata": {
        "colab": {
          "base_uri": "https://localhost:8080/"
        },
        "id": "BuvCSncZojoG",
        "outputId": "204985a5-5a0e-412f-8d77-26eef20a31e6"
      },
      "execution_count": 37,
      "outputs": [
        {
          "output_type": "stream",
          "name": "stdout",
          "text": [
            "57 binaries have periods less than 365.24 days.\n"
          ]
        }
      ]
    },
    {
      "cell_type": "markdown",
      "source": [
        "###3c/d"
      ],
      "metadata": {
        "id": "Hhzhd4hVpbBR"
      }
    },
    {
      "cell_type": "code",
      "source": [
        "print(f'The minimum period is {data[:,4].min():.2f} days.')\n",
        "print(f'The maximum period is {data[:,4].max()/365.24:.2f} years.')"
      ],
      "metadata": {
        "colab": {
          "base_uri": "https://localhost:8080/"
        },
        "id": "Vu8fe8zWoz7h",
        "outputId": "597e3e50-9b11-468f-9a87-56e67599f4fc"
      },
      "execution_count": 38,
      "outputs": [
        {
          "output_type": "stream",
          "name": "stdout",
          "text": [
            "The minimum period is 1.80 days.\n",
            "The maximum period is 185947.00 years.\n"
          ]
        }
      ]
    },
    {
      "cell_type": "code",
      "source": [
        "period_a = 30\n",
        "print(f'{n_periods(data, period_a)} binaries have periods less than {period_a} days.')"
      ],
      "metadata": {
        "colab": {
          "base_uri": "https://localhost:8080/"
        },
        "id": "-xrCvV-PokCY",
        "outputId": "3bf57c06-9a21-4b98-880d-83d8097afe05"
      },
      "execution_count": 39,
      "outputs": [
        {
          "output_type": "stream",
          "name": "stdout",
          "text": [
            "33 binaries have periods less than 30 days.\n"
          ]
        }
      ]
    },
    {
      "cell_type": "markdown",
      "source": [
        "###4"
      ],
      "metadata": {
        "id": "M60S5GbV5zC1"
      }
    },
    {
      "cell_type": "code",
      "source": [
        "def star_masses(x, k):\n",
        "    all_masses = np.concatenate((x[:,2], x[:,3]))\n",
        "    all_ktypes = np.concatenate((x[:,0], x[:,1]))\n",
        "    masses = all_masses[np.where(all_ktypes==k)[0]]\n",
        "    return masses.min(), masses.max()"
      ],
      "metadata": {
        "id": "AqH3i-2T489g"
      },
      "execution_count": 40,
      "outputs": []
    },
    {
      "cell_type": "code",
      "source": [
        "k_type = 0\n",
        "masses = star_masses(data, k_type)\n",
        "print(f\"The range for k-type {k_type} is {masses[0]:0.2f} to {masses[1]:0.2f} Solar masses.\")"
      ],
      "metadata": {
        "colab": {
          "base_uri": "https://localhost:8080/"
        },
        "id": "pcwFV_r36UR9",
        "outputId": "a43dd3ac-f340-4540-a956-90d47172acb0"
      },
      "execution_count": 41,
      "outputs": [
        {
          "output_type": "stream",
          "name": "stdout",
          "text": [
            "The range for k-type 0 is 0.50 to 0.70 Solar masses.\n"
          ]
        }
      ]
    },
    {
      "cell_type": "code",
      "source": [
        "k_type = 1\n",
        "masses = star_masses(data, k_type)\n",
        "print(f\"The range for k-type {k_type} is {masses[0]:0.2f} to {masses[1]:0.2f} Solar masses.\")"
      ],
      "metadata": {
        "colab": {
          "base_uri": "https://localhost:8080/"
        },
        "id": "uqIoCcR16ZnO",
        "outputId": "4114c9d6-693d-4ab4-f657-8d3c21429953"
      },
      "execution_count": 42,
      "outputs": [
        {
          "output_type": "stream",
          "name": "stdout",
          "text": [
            "The range for k-type 1 is 0.70 to 63.97 Solar masses.\n"
          ]
        }
      ]
    },
    {
      "cell_type": "markdown",
      "source": [
        "###5\n",
        "Recall,\n",
        "$$T = 2\\pi \\sqrt{\\frac{a^3}{G(M_1 + M_2)}}$$\n",
        "\n",
        "Therefore,\n",
        "$$a = \\sqrt[3]{\\Big(\\frac{T}{2\\pi}\\Big)^2 * G(M_1 + M_2)}$$"
      ],
      "metadata": {
        "id": "wTIdnhaaqcr8"
      }
    },
    {
      "cell_type": "code",
      "source": [
        "G = 6.6743e-11 # m^3 kg^-1 s^-2\n",
        "M_solar = 1.989e30 # kg\n",
        "seconds_in_day = 86_400 # s day^-1"
      ],
      "metadata": {
        "id": "aoFtWbvm8KR5"
      },
      "execution_count": 43,
      "outputs": []
    },
    {
      "cell_type": "code",
      "source": [
        "a_meters = ((data[:,4] * seconds_in_day / 2 / np.pi)**2\n",
        "            * G * (data[:,2] + data[:,3])*M_solar)**(1./3)\n",
        "print(a_meters)"
      ],
      "metadata": {
        "colab": {
          "base_uri": "https://localhost:8080/"
        },
        "id": "RMgFa6wWroyQ",
        "outputId": "de3c534c-11ec-497e-ec00-d88f9f569647"
      },
      "execution_count": 44,
      "outputs": [
        {
          "output_type": "stream",
          "name": "stdout",
          "text": [
            "[5.47884965e+12 2.56742522e+12 2.90725661e+12 2.88483635e+12\n",
            " 4.46623730e+11 2.01078896e+12 1.03564435e+11 5.85419323e+11\n",
            " 1.30562495e+12 2.28592934e+13 2.76560125e+13 1.09288913e+13\n",
            " 3.18365126e+11 4.46077239e+11 1.33510206e+13 2.56634655e+12\n",
            " 1.04671949e+13 3.88048435e+12 3.78388081e+10 3.66129310e+11\n",
            " 1.83050203e+13 5.65228241e+11 1.16616072e+13 3.72556075e+11\n",
            " 1.49363229e+12 5.64147826e+09 1.79407685e+13 1.32366162e+12\n",
            " 2.00290963e+13 1.68876233e+10 1.56750566e+10 6.30626229e+13\n",
            " 6.91701759e+10 3.62830957e+11 6.68187970e+10 1.18153924e+14\n",
            " 3.67341763e+10 7.64950760e+13 6.04829804e+11 1.67272236e+12\n",
            " 2.86558763e+11 5.28278294e+11 1.49487834e+11 3.30254458e+13\n",
            " 1.31389151e+10 1.44010691e+14 1.09677761e+12 1.60741801e+12\n",
            " 1.12630127e+11 3.32907065e+11 3.19436548e+10 1.32767351e+12\n",
            " 2.02708936e+10 1.82392855e+14 1.39527813e+13 3.24371417e+10\n",
            " 1.30526019e+12 1.12783543e+14 2.62506366e+13 6.51016131e+14\n",
            " 6.16383404e+13 1.04140416e+11 8.89661307e+09 2.27382716e+13\n",
            " 2.54229942e+13 9.13045880e+11 7.21271836e+11 1.79994259e+12\n",
            " 5.02815269e+12 4.76918608e+12 1.07707625e+11 3.40799914e+11\n",
            " 2.84462081e+12 2.07515989e+14 2.50644597e+10 2.57315052e+12\n",
            " 2.96986600e+11 2.13772236e+13 2.49886721e+14 4.85140383e+13\n",
            " 2.68736051e+12 7.46038391e+13 3.13773848e+11 3.17050198e+10\n",
            " 2.75465493e+11 1.11410074e+11 3.77825043e+10 6.38001813e+14\n",
            " 7.06598681e+11 2.01549867e+13 2.65901732e+10 1.01143548e+14\n",
            " 5.39826396e+11 1.66337616e+11 2.56534985e+13 1.85681666e+11\n",
            " 6.94997176e+11 1.94855995e+13 1.99226657e+12 6.22851421e+12\n",
            " 3.03994361e+13 3.66969454e+13 2.81407999e+13 1.69715845e+10\n",
            " 7.87487320e+11 4.01330441e+12 2.12245208e+14 2.52103187e+11\n",
            " 8.61023024e+10 2.70092229e+12 4.14945412e+12 9.33457424e+11\n",
            " 1.35974301e+10 2.18462503e+13 1.09404745e+13 2.05666394e+14\n",
            " 2.59337035e+12 1.62223774e+10 5.16528751e+11 4.31967792e+13\n",
            " 7.39017672e+10 3.06164377e+10 1.08605194e+14 8.10492651e+09\n",
            " 4.83536443e+11 2.93803896e+10 9.70100414e+10 2.07994060e+12\n",
            " 1.23472247e+12 1.92077638e+10 7.78071825e+09 4.60350310e+12\n",
            " 1.77162872e+13 6.34825852e+10 5.49761803e+10 7.06823120e+12\n",
            " 2.67834062e+11 1.64987690e+12 5.64403313e+13 1.20285181e+13\n",
            " 1.48149202e+10 2.32390568e+12 3.75943389e+12 2.47539564e+11\n",
            " 7.62175988e+11 9.65361569e+11 4.54013037e+13 2.20543889e+11\n",
            " 1.97606323e+13 1.82016452e+10 1.25860002e+12 9.90836639e+12\n",
            " 1.54465192e+12 2.68853886e+13 1.28354202e+11 4.52235101e+11\n",
            " 4.69305461e+11 4.48765381e+12 1.30425375e+11 3.85001750e+11\n",
            " 1.98257795e+12 2.22061419e+12 9.15588317e+12 1.19076927e+10\n",
            " 5.50381629e+10 7.05386709e+12 3.87363019e+13 1.26806660e+13\n",
            " 2.61937544e+12 3.91774671e+10 1.69945746e+10 5.12479434e+13\n",
            " 2.44893501e+12 1.23059348e+11 2.54595102e+11 1.90310456e+11\n",
            " 9.79452111e+10 1.24129853e+11 3.10347784e+12 6.87633798e+10\n",
            " 2.51317814e+10 2.51198457e+10 1.05653936e+10 1.97908732e+13\n",
            " 2.62220316e+13 1.02983223e+12 2.02875202e+12 4.24769581e+12\n",
            " 1.00472602e+12 1.47703029e+13 2.10271033e+11 1.26839529e+11\n",
            " 5.17917078e+11 9.56102991e+12 2.99840119e+12 2.94810750e+11\n",
            " 8.92227269e+13 8.12785749e+12 1.00271261e+14 9.15448974e+12]\n"
          ]
        }
      ]
    },
    {
      "cell_type": "code",
      "source": [],
      "metadata": {
        "id": "ZsqxFhPZtbqo"
      },
      "execution_count": 44,
      "outputs": []
    }
  ]
}