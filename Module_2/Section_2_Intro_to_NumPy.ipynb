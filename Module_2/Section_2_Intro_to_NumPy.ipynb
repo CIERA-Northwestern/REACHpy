{
  "nbformat": 4,
  "nbformat_minor": 0,
  "metadata": {
    "colab": {
      "name": "Section_2_Intro_to_NumPy.ipynb",
      "provenance": []
    },
    "kernelspec": {
      "name": "python3",
      "display_name": "Python 3"
    },
    "language_info": {
      "name": "python"
    }
  },
  "cells": [
    {
      "cell_type": "markdown",
      "source": [
        "# Section 2. Intro to NumPy\n",
        "## 2.1 Getting Started with NumPy\n",
        "\n",
        "NumPy (often pronounced \"Num-pie\") is a widely used module that is optimized to efficiently execute a variety of mathematical operations. The name Numpy hints at its usefulness for us: Numerical Python. Numpy will be extremely useful for your budding career as an astronomer because of everything it can help you do - read in and manipulate large amounts of data, quickly do simple or complex math, and much much more.\n",
        "\n",
        "Before we do anything else, we must import the module. Try doing this yourself in the cell below.\n",
        "```\n",
        "import numpy as np\n",
        "```\n",
        "The alias np isn't necessary, strictly speaking, but it will make your life easier by taking up less space on a line of code. It is standard practice to import numpy as np like this, so it's best to get into the habit now."
      ],
      "metadata": {
        "id": "N3EUWNsfQqLI"
      }
    },
    {
      "cell_type": "code",
      "execution_count": null,
      "metadata": {
        "id": "x5sKc4xrQpxM"
      },
      "outputs": [],
      "source": [
        "# import numpy below"
      ]
    },
    {
      "cell_type": "markdown",
      "source": [
        "### 2.1.1 Making your first arrays\n",
        "\n",
        "Now that we've imported the module, we can now start talking about why we want to use NumPy. \n",
        "\n",
        "The biggest and main advantage of using NumPy is the new data container it introduces: arrays. An array is like a list, except optimized for use in mathematical applications.\n",
        "\n",
        "We can turn a list into an array as follows:\n",
        "```\n",
        "list1 = [0, 3, 8, 10, 14]\n",
        "list2 = [9, 5, 3, 2, 4]\n",
        "\n",
        "array1 = np.array([0, 3, 8, 10, 14])\n",
        "array2 = np.array([9, 5, 3, 2, 4])\n",
        "```\n",
        "Above, I defined two lists, list1 and list2. Below, I created two arrays, array1 and array2, using the same numerical values as the lists. I could have also done the following instead:\n",
        "```\n",
        "array1 = np.array(list1)\n",
        "```\n",
        "Note that arrays in NumPy have a couple restrictions on what can go in them. The most important is that arrays should only contain numbers. There are exceptions, but for our purposes, they're not something to get into.\n",
        "\n",
        "In the code block below, define the lists and arrays just like in the example above. You can change the values of the numbers if you want."
      ],
      "metadata": {
        "id": "I2oAOBbmRrSu"
      }
    },
    {
      "cell_type": "code",
      "source": [
        ""
      ],
      "metadata": {
        "id": "MFz_2Lb23UX-"
      },
      "execution_count": null,
      "outputs": []
    },
    {
      "cell_type": "markdown",
      "source": [
        "### 2.1.2 Mathematical Manipulation of Arrays\n",
        "To illustrate the difference, let's go back to lists. In the previous module, you were asked to do mathematical operations on two lists. If you wanted to add the entries of two lists together, your code would probably look something like this:\n",
        "```\n",
        "list3 = len(list1)*[0] # first line\n",
        "\n",
        "for i in range(len(list1)): # second line\n",
        "    list3[i] = list1[i] + list2[i] # third line\n",
        "```\n",
        "By my count, this is three lines of code, not including where we initialize the lists. Now, here's how you do the same thing with numpy:\n",
        "```\n",
        "array3 = array1 + array2\n",
        "```\n",
        "And that's it! Only one line of code! We won't show it here, but it's also much, much faster to do this type of operation with arrays instead of lists, especially as the number of entries in your array grows larger and larger.  [(Apparently numpy starts being faster around n=8)](https://stackoverflow.com/a/18713494)\n",
        "\n",
        "What else can we do? Basically, anything you can do to two numbers in python, you can do to two lists in numpy. \n",
        "```\n",
        "array1 + array2 # addition\n",
        "array1 * array2 # multiplication\n",
        "array1 - array2 # subtraction\n",
        "array1 / array2 # division\n",
        "array1**array2 # exponentiation\n",
        "```\n",
        "The catch is that if you're doing elementwise operations like this, both arrays must be the same length**. But, sometimes we just want to do something to all the numbers in one array. In this case, we can do operations with an array and a number (int or float). For example,\n",
        "```\n",
        "array1 + 2 # add 2 to all numbers\n",
        "array1 / 2 # divide all numbers by 2\n",
        "```\n",
        "In all these cases, the rules for the order of operations are the same as for normal mathematical operations in regular Python.\n",
        "\n",
        "### Problem: 3D Function\n",
        "\n",
        "Mathematical functions commonly depend on two or more variables. Let's say we have a function $z=f(x,y)$ which we want to evaluate at different $(x,y)$ locations. Let's say we have 4 different points at which we want to evalate our function:\n",
        "*   (0,0)\n",
        "*   (1,2)\n",
        "*   (2,5)\n",
        "*   (3,9)\n",
        "\n",
        "and we have a function of the form\n",
        "\n",
        "$$ z = f(x,y) = \\frac{xy^2}{3} + 2 $$\n",
        "\n",
        "In the cell below, evaluate the function at those four points. You'll need to define two arrays, for both $x$ and $y$, and make sure your order of operations are correct. Before or after you do it, evaluate the function by hand at each point (either with a calculator or with pencil and paper) to make sure everything is correct.\n",
        "\n"
      ],
      "metadata": {
        "id": "3E52sqvq0155"
      }
    },
    {
      "cell_type": "code",
      "source": [
        ""
      ],
      "metadata": {
        "id": "8yzy4wjG0zrL"
      },
      "execution_count": null,
      "outputs": []
    },
    {
      "cell_type": "markdown",
      "source": [
        "### 2.1.3 Special NumPy Functions\n",
        "\n",
        "There are a lot of special mathematical functions that you'll probably use a lot throughout your work. We can divide these into different categories.\n",
        "\n",
        "First, there are functions that exist in Python already, like $\\sin(x)$, $\\log(x)$, or $\\exp(x)$. However, the native Python functions only work on single numbers (i.e. floats or ints), so we need a version that works for multidimensional objects. Here are some examples:\n",
        "```\n",
        "np.sin(x) # sin of each element in x\n",
        "np.log10(x) # log base 10 of each element in x\n",
        "np.exp(x) # e^x for each element in x\n",
        "```\n",
        "\n",
        "Then, there are some functions that only have meaning when we're dealing with collections of numbers. Some of these should be familiar from statistics, like the average, median, or range. Others include things like the product or sum of all elements, the difference between successive elements, or the maximum and minimum values of an array (and their indices). Here are some examples:\n",
        "```\n",
        "np.mean(x) # mean of x\n",
        "np.stdev(x) # standard deviation of x\n",
        "np.sum(x) # sum of array elements or along an axis\n",
        "np.diff(x) # difference between consecutive elements along an axis\n",
        "np.amin(x) # min value of array or along a given axis\n",
        "np.argmax(x) # indices of max values of array or along a given axis\n",
        "```\n",
        "\n",
        "One nice thing about using these functions is that they typically take \"array like\" arguments. In other words, you can give these functions a list and they'll convert the list to an array for you! These are also much faster than their vanilla Python analogs since they're optimized for arrays.\n",
        "\n",
        "You can find details and additional functions that could be useful to you [here](https://numpy.org/doc/stable/reference/routines.math.html) and [here](https://).\n",
        "\n",
        "You may have noticed that in some of the comments I used the phrase \"along an axis.\" This sets us up nicely for the next section!"
      ],
      "metadata": {
        "id": "0hAAs_GNvxnn"
      }
    },
    {
      "cell_type": "markdown",
      "source": [
        "## 2.2 Multidimensional Arrays\n",
        "\n",
        "Useful data can rarely be described in a single dimension. To describe the motion of a point particle, we need seven numbers (xyz positions and velocities and time). Stars have a lot of properties, such as mass, radius, composition, position in the sky, distance, etc. In these cases, it would be unwieldy to have many separate lists of numbers. Luckily for us, the NumPy array datatype is actually called an ndarray, where n stands for N and d stands for dimensions. In other words, our arrays can have any dimensionality we require! But for now, let's restrict ourselves to two dimensions, which will be sufficient for most of the use cases you'll run into here. Rarely, you might have three dimensions (for example, making a 2D animation or running a simulation of particles) and more rarely four or more, but luckily everything generalizes to higher dimensions.\n",
        "\n",
        "### 2.2.1 Creating Multidimensional Arrays + .shape\n",
        "\n",
        "When you initialize 2D arrays, you should give a list of rows.\n",
        "```\n",
        "A = np.array([[1,2,3],\n",
        "              [4,5,6]])\n",
        "```\n",
        "In this example, the array has 6 elements, arranged in two rows and three columns. The first row is [1,2,3] and the first column is [1,4]. We could instead arrange these six elements in a host of different ways. For example:\n",
        "```\n",
        "B = np.array([[1,2], # three rows and two columns\n",
        "              [3,4],\n",
        "              [5,6]])\n",
        "C = np.array([[1,2,3,4,5,6]]) # one row and six columns\n",
        "D = np.array([[1], # six rows and one column\n",
        "              [2],\n",
        "              [3],\n",
        "              [4],\n",
        "              [5],\n",
        "              [6]])\n",
        "```\n",
        "That's four different ways to arrange six numbers! For larger collections of numbers, there can be even more combinations. For this reason, arrays have a shape parameter:\n",
        "```\n",
        "A.shape # (2,3)\n",
        "```\n",
        "The shape parameter outputs (# of rows, # of columns) for 2D arrays. In the cell below, create some 2D arrays and make sure they have the shape you expect by printing the shape parameter."
      ],
      "metadata": {
        "id": "rnMGSMLlrghE"
      }
    },
    {
      "cell_type": "code",
      "source": [
        ""
      ],
      "metadata": {
        "id": "APv5e6DM4-7c"
      },
      "execution_count": null,
      "outputs": []
    },
    {
      "cell_type": "markdown",
      "source": [
        "It's common for data to be given to us. For example, maybe I can give you three lists of planetary mass, radii, and distances (units in SI, first four planets only). We can combine them like this:\n",
        "```\n",
        "masses = [3.3e23,4.9e24,6.0e24,6.4e23] # kg\n",
        "radii = [2439,6052,6378,3398] # m\n",
        "periods = [5.7e10,1.1e11,1.5e11,2.3e11] # m\n",
        "\n",
        "planets = np.array([masses,radii,periods])\n",
        "```\n",
        "This will make it so that each column describes a planet and each property is a row. If you want to make it the other way around, you can do so by taking the transpose of the array. \n",
        "```\n",
        "planets_T = planets.transpose()\n",
        "```\n",
        "Try all this yourself below. Also, compare the shapes and entries of planets and planets_T to make sure everything looks right."
      ],
      "metadata": {
        "id": "CnGM8IsBYs8t"
      }
    },
    {
      "cell_type": "code",
      "source": [
        ""
      ],
      "metadata": {
        "id": "-twFB-nmZJ1Y"
      },
      "execution_count": null,
      "outputs": []
    },
    {
      "cell_type": "markdown",
      "source": [
        "### 2.2.2 np.zeros() and np.ones()\n",
        "\n",
        "It's extremely unwieldy to make 2D arrays by hand. There are some functions that make simple arrays for you very easily. The two most common are np.zeros() and np.ones(). The first gives you an array with all zeros and the second an array with all ones. They both take the same arguments, so as an example, let's just take np.zeros(). The main argument is the shape of the array you want. For example,\n",
        "```\n",
        "np.zeros(5) # this returns an array of length 5\n",
        "\n",
        "np.zeros(2,6) # this returns an array with 2 rows and 6 columns\n",
        "```\n",
        "Try this yourself below."
      ],
      "metadata": {
        "id": "ayVxVgPd4_Q7"
      }
    },
    {
      "cell_type": "code",
      "source": [
        ""
      ],
      "metadata": {
        "id": "m8z2-VHjgaSQ"
      },
      "execution_count": null,
      "outputs": []
    },
    {
      "cell_type": "markdown",
      "source": [
        "### 2.2.3 np.arange and np.linspace()\n",
        "\n",
        "The np.arange function is exactly the same as range() from before, but it returns an array. Technically, the other main difference is that we can use non-integer step sizes. However, in those cases (we won't get into why), it's better to use the next function.\n",
        "\n",
        "np.linspace is a little different. This lets us make an array with equally spaced numbers by specifying the start, end, and number of points. This is extremely useful in a variety of applications, especially plotting. Note that, given the nature of these functions, we can only make 1D arrays in this manner.\n",
        "\n",
        "```\n",
        "np.linspace(0,10)                      # 50 (default) linearly-spaced numbers from 0 to 10\n",
        "np.linspace(0,10,200)                  # With 3 arguments, this generates 200 numbers should generated\n",
        "x = np.linspace(0, 2*np.pi, 100)       # This is helpful, for example, if you wanted to plot the sin( ) function\n",
        "```\n",
        "I said before that we can make only 1D arrays in this manner. That's not entirely true. It is indeed true that these functions only return 1D arrays. However, it is possible to reshape arrays. In the cell below, compare the output from these two lines of code.\n",
        "```\n",
        "print(np.arange(12))\n",
        "print(np.arange(12).reshape(4,3))\n",
        "```"
      ],
      "metadata": {
        "id": "ndIhvYsUgaxS"
      }
    },
    {
      "cell_type": "code",
      "source": [
        ""
      ],
      "metadata": {
        "id": "8GTNCxEVj_7B"
      },
      "execution_count": null,
      "outputs": []
    },
    {
      "cell_type": "markdown",
      "source": [
        "### np.loadtxt()\n",
        "\n",
        "The last way of making arrays we'll go over is by loading in an array someone saved to a plaintext file. All you need to do is supply a filename. In this case, try loading in the file named 'example.txt'\n",
        "```\n",
        "data = np.loadtxt('example.txt')\n",
        "```\n",
        "After you load in the file, do the following:\n",
        "1. Get the shape of the array\n",
        "2. Sum all the elements of the array\n",
        "3. The the max values of each row (axis=0) and each column (axis=1)\n",
        "4. Finally, sum each row and column individually. Your answer might surprise you."
      ],
      "metadata": {
        "id": "LsDT2aqQkAUa"
      }
    },
    {
      "cell_type": "code",
      "source": [
        ""
      ],
      "metadata": {
        "id": "rcRzFCmxlQV-"
      },
      "execution_count": null,
      "outputs": []
    },
    {
      "cell_type": "markdown",
      "source": [
        "In the above example, the file used a whitespace delimiter, which loadtxt assumes by default. In other words, when the function scans through the file, it assumes that different column values are separated by spaces. This isn't always the case. For example, some files may instead separate values by commas. In this case, you would need to pass a delimiter option:\n",
        "```\n",
        "data = np.loadtxt('example.txt', delimiter=',')\n",
        "```\n",
        "We will not be doing an example here.\n",
        "\n",
        "## 2.3 Indexing and Slicing in NumPy\n",
        "\n",
        "### 2.3.1 Commonalities with Lists\n",
        "\n",
        "Luckily for us, accessing the data in 1D arrays is essentially the same as working with normal lists! Just to review with some examples,\n",
        "```\n",
        "my_array = np.arange(8)\n",
        "\n",
        "my_array[3] # this gets the 4th element of my_array\n",
        "my_array[-5:] # this gets the last 5 elements of my_array\n",
        "my_array[1:6:2] # this gets every other element of my_array, starting with the 2nd and stopping by the 7th\n",
        "```\n",
        "Try this out yourself"
      ],
      "metadata": {
        "id": "Bfx8ex9dlQhn"
      }
    },
    {
      "cell_type": "code",
      "source": [
        ""
      ],
      "metadata": {
        "id": "V78nMcIGrNk8"
      },
      "execution_count": null,
      "outputs": []
    },
    {
      "cell_type": "markdown",
      "source": [
        "### 2.3.2 Working with 2D Arrays\n",
        "\n",
        "Now that we have multiple dimensions, we can now access the arrays along multiple dimensions as well. In order to specify multiple axes, we can separate them with commas:\n",
        "```\n",
        "my_array = np.arange(48).reshape(6,8)\n",
        "\n",
        "my_array[2,3] # accesses the element in the 3rd row, 4th column\n",
        "```\n",
        "The various rules for slicing also apply here.\n",
        "```\n",
        "my_array[1:-1,::2] # get all but the first and last row, every other column\n",
        "```\n",
        "What if we only want to get certain rows? Since a 2D array is basically an array of arrays, we can access rows by pretending we're working with a 1D array.\n",
        "```\n",
        "my_array[4] # access the 5th row\n",
        "my_array[2:5] # access rows 3 through 6\n",
        "```\n",
        "What about columns? If we want to access part or all of a column in every row, we use a colon before the comma\n",
        "```\n",
        "my_array[:, 4] # access the 5th col\n",
        "my_array[:, 2:5] # access cols 3 through 6\n",
        "```\n",
        "Try to work out the outputs of each of these examples before you try to run them in the cell below."
      ],
      "metadata": {
        "id": "1L4RdtHsrOCU"
      }
    },
    {
      "cell_type": "code",
      "source": [
        ""
      ],
      "metadata": {
        "id": "BJmZy3cytxPQ"
      },
      "execution_count": null,
      "outputs": []
    },
    {
      "cell_type": "markdown",
      "source": [
        "### 2.3.3 Acessing Specific Indices\n",
        "\n",
        "One nice thing you can do with numpy is access multiple specific indices at once. For example,\n",
        "```\n",
        "my_array = np.arange(8)\n",
        "\n",
        "my_array[[0,2,3,6]] # this gets the elements at all the specified positions\n",
        "```\n",
        "\n",
        "Try this below yourself. This is probably not something you'll be doing yourself in a scientific context, but this is essentially what is happening \"under the hood\" in the code used in the section below."
      ],
      "metadata": {
        "id": "n252YVGJtxZ9"
      }
    },
    {
      "cell_type": "code",
      "source": [
        ""
      ],
      "metadata": {
        "id": "9tsZa9V_t1t6"
      },
      "execution_count": null,
      "outputs": []
    },
    {
      "cell_type": "markdown",
      "source": [
        "### 2.3.4 Boolean Indexing\n",
        "\n",
        "After the arrays themselves, this feature of NumPy is probably among the most useful. The word Boolean basically means we're dealing with conditional logic. In essence, we write down a statement and that statement is either True or False.\n",
        "\n",
        "Instead of accessing data based on the index, we can do it based on the nature of the data itself! For example, in the following list, let's say we want all the even numbers. We can do it like this:\n",
        "```\n",
        "a = np.arange(12)\n",
        "\n",
        "a[a%2 == 0]\n",
        "```\n",
        "Here, the == means 'is equal to', as opposed to =, which is just assignment. Here's a list of the different comparison operators you'll probably use:\n",
        "```\n",
        "== # equal to\n",
        "!= # not equal to\n",
        "<= # less than or equal to\n",
        "<  # less than\n",
        ">= # greater than or equal to\n",
        ">  # greater than\n",
        "```\n",
        "In addition, we can chain logical statements together with these operators:\n",
        "```\n",
        "& # logical and\n",
        "| # logical or\n",
        "~ # logical not\n",
        "```\n",
        "Here's an example. Note that we need to enclose different logical statements in parentheses.\n",
        "```\n",
        "a[(a%2==0) & (a>7)] # return elements even and greater than 7\n",
        "a[(a%2==0) & ((a>7) | (a<3))] # return elements even and greater than 7 or less than 3\n",
        "a[~(a%2==0) & ((a>7) | (a<3))] # return elements NOT even (ie odd) and greater than 7 or less than 3\n",
        "```\n",
        "Try to predict the output of each of these lines before running the code below."
      ],
      "metadata": {
        "id": "C4LS3gnit11P"
      }
    },
    {
      "cell_type": "code",
      "source": [
        ""
      ],
      "metadata": {
        "id": "JtNtjudvt8aj"
      },
      "execution_count": null,
      "outputs": []
    },
    {
      "cell_type": "markdown",
      "source": [
        "### 2.3.5 Boolean Indexing in 2D\n",
        "\n",
        "In order to do this in two dimensions, we need to specify the row or column in the condition.\n",
        "\n",
        "First, let's see an example of selecting rows based on conditions on different column values:\n",
        "```\n",
        "b = np.arange(48).reshape(6,8)\n",
        "b[b[:,4]>20] # get all rows where column 5 is greater than 20\n",
        "b[(b[:,4]>20) | (b[:,2]<30)] # get all rows where column 5 is greater than 20 or column 3 is less than 30\n",
        "```\n",
        "Next, let's see an example of selecting columns based on conditions on different row values:\n",
        "```\n",
        "b[:,b[0,:]>3] # get all columns where first row value is greater than 3\n",
        "b[:,(b[0,:]>3) & b[0,:]%2==1] # get all columns where first row value is greater than 3 and odd\n",
        "```\n",
        "Try to predict the output of each of these lines before running the code below."
      ],
      "metadata": {
        "id": "ENgOKPhE5uL2"
      }
    },
    {
      "cell_type": "code",
      "source": [
        ""
      ],
      "metadata": {
        "id": "vuZg80xh-ARb"
      },
      "execution_count": null,
      "outputs": []
    },
    {
      "cell_type": "markdown",
      "source": [
        "## 2.4 Practice Problem\n",
        "\n",
        "Use np.loadtxt to open the file named 'binaries.txt'. Characterize it. In particular,\n",
        "\n",
        "1. How many rows does it have?\n",
        "2. How many columns does it have?\n",
        "3. What kinds of values do each column contain? That is, how big or small are the numbers in each column? What's the smallest/largest number? The median? The average? If you notice anything else interesting, write that down too.\n",
        "\n",
        "Answer: Write your answers here.\n"
      ],
      "metadata": {
        "id": "mXZXUcint8lv"
      }
    },
    {
      "cell_type": "code",
      "source": [
        ""
      ],
      "metadata": {
        "id": "T_Dvm8a40RLy"
      },
      "execution_count": null,
      "outputs": []
    },
    {
      "cell_type": "markdown",
      "source": [
        "Now that you've done that, I should tell you what you're looking at. I used a code called [COSMIC](https://cosmic-popsynth.github.io/docs/stable/index.html) to create a list of binary star systems based on the properties of observed systems. To be clear, the data here is completely synthetic. Each row represents a different binary star system. The columns are as follows\n",
        "\n",
        "1. and 2. The k-type of stars 1 and 2. The definition of the k-type is related to its evolutionary state. Here, you should have found that the k-type of all the stars is either 0 or 1, both of which correspond to main-sequence stars.\n",
        "\n",
        "3. and 4. The masses of each star in solar masses (Msun = 2e30 kg)\n",
        "\n",
        " 5. Orbital period in days\n",
        "\n",
        " 6. The orbital eccentricity, which is defined to be between 0 and 1\n",
        "\n",
        "Now, here are your next tasks:\n",
        "\n",
        "1. How many binaries have stars where at least one is above 1 solar mass? 5 solar masses? 10?\n",
        "2. How many stars in this sample have masses above 1, 5 and 10 solar masses?\n",
        "3. How many binaries have orbital periods shorter than a month? A year? What are the shortest and longest orbital periods?\n",
        "4. As I said before, the k-type for all these stars are either 0 or 1. A main-sequence star will have k-type 0 below a certain mass and k-type 1 above that mass. See if you can find a range of values where the cutoff mass might be. State your answer in solar masses.\n",
        "5. Using Kepler's Third Law, make another column that corresponds to the semimajor axis of each binary system. Make sure you explicitly state what units you're using (ie meters, kilometers, AU). Once again, Keplers Third Law is \n",
        "\n",
        "$$T = \\frac{1}{2\\pi} \\sqrt{\\frac{a^3}{G(M_1 + M_2)}}$$"
      ],
      "metadata": {
        "id": "KTndNlqg0b1r"
      }
    },
    {
      "cell_type": "code",
      "source": [
        ""
      ],
      "metadata": {
        "id": "jPZq8bdM0a69"
      },
      "execution_count": null,
      "outputs": []
    }
  ]
}
