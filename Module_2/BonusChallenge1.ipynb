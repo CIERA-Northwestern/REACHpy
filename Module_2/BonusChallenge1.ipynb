{
 "cells": [
  {
   "cell_type": "markdown",
   "metadata": {},
   "source": [
    "# Rotation Curve of The Solar System\n",
    "\n",
    "<img src=\"theplanets.jpg\">\n",
    "\n",
    "We learned in Module1/BonusChallenge1 about Kepler's laws of planetary motion, and how you can use the known periods and distances of satellites to calculate the mass of the body they are orbiting using Kepler's third law:\n",
    "\n",
    "\\begin{equation}\n",
    "P^2 = \\frac{4 \\pi^2}{G \\, M} a^3\n",
    "\\end{equation}\n",
    "\n",
    "Where $M$ is the mass of the central object. Another way to write that equation is in terms of the $speed$ a satellite is traveling around the object they are orbiting:\n",
    "\n",
    "\\begin{equation}\n",
    "v = \\sqrt{\\frac{G \\, M}{R}}\n",
    "\\end{equation}\n",
    "\n",
    "Where $G$ is the gravitational constant, $M$ is the mass of the central object, and $R$ is the distance to the satellite. (__Bonus:__ Can you demonstrate this?)\n",
    "\n",
    "Because velocities are relatively easy to calculate using the $Doppler$ $shift$ of light, it is often convenient to use the latter equation. Let's make a \"rotation curve\" for the Solar System."
   ]
  },
  {
   "cell_type": "markdown",
   "metadata": {},
   "source": [
    "First, let's calculate the expected rotation curve for our Solar System using the equations above. Let's start be defining a function that calculates the expected velocity of a planet in the Solar System at a given radius:"
   ]
  },
  {
   "cell_type": "code",
   "execution_count": null,
   "metadata": {},
   "outputs": [],
   "source": [
    "#FILL IN CODE\n",
    "def velocity(#FILL IN):\n",
    "    #FILL IN CODE"
   ]
  },
  {
   "cell_type": "markdown",
   "metadata": {},
   "source": [
    "Now create an array of radii that you want to calculate the velocity at. Then, calculate the expected velocities at all of those radii:"
   ]
  },
  {
   "cell_type": "code",
   "execution_count": null,
   "metadata": {},
   "outputs": [],
   "source": [
    "# FILL IN CODE\n",
    "R = # FILL IN CODE\n",
    "\n",
    "# USE THIS ARRAY AND YOUR VELOCITY FUNCTION TO CALCULATE VELOCITY:\n"
   ]
  },
  {
   "cell_type": "markdown",
   "metadata": {},
   "source": [
    "Next, let's make a plot of $v$ vs. $R$ for the Solar System. Make sure the axes are labelled properly! Also be sure to check your units throughout."
   ]
  },
  {
   "cell_type": "code",
   "execution_count": null,
   "metadata": {},
   "outputs": [],
   "source": []
  },
  {
   "cell_type": "markdown",
   "metadata": {},
   "source": [
    "Now that we've done that, let's see how the expected values for the velocities of the planets in our Solar System compare with the actual values. Collect both $v$ and $R$ into lists or arrays below:"
   ]
  },
  {
   "cell_type": "code",
   "execution_count": 1,
   "metadata": {},
   "outputs": [],
   "source": [
    "#FILL IN CODE\n",
    "v_planets = # FILL IN CODE\n",
    "R_planets = # FILL IN CODE"
   ]
  },
  {
   "cell_type": "markdown",
   "metadata": {},
   "source": [
    "Add those values to the plot you created above:"
   ]
  },
  {
   "cell_type": "code",
   "execution_count": null,
   "metadata": {},
   "outputs": [],
   "source": []
  },
  {
   "cell_type": "markdown",
   "metadata": {},
   "source": [
    "How do the actual values compare with the measured values? Hopefully they match well! What do you notice about how the velocity changes with radius?"
   ]
  },
  {
   "cell_type": "code",
   "execution_count": null,
   "metadata": {},
   "outputs": [],
   "source": []
  }
 ],
 "metadata": {
  "kernelspec": {
   "display_name": "Python 3",
   "language": "python",
   "name": "python3"
  },
  "language_info": {
   "codemirror_mode": {
    "name": "ipython",
    "version": 3
   },
   "file_extension": ".py",
   "mimetype": "text/x-python",
   "name": "python",
   "nbconvert_exporter": "python",
   "pygments_lexer": "ipython3",
   "version": "3.8.5"
  }
 },
 "nbformat": 4,
 "nbformat_minor": 4
}
