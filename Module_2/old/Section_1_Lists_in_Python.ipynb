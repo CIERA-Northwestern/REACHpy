{
 "cells": [
  {
   "cell_type": "markdown",
   "metadata": {},
   "source": [
    "# 2.1 | Lists in Python\n",
    "\n",
    "## Why Use Lists?\n",
    "We briefly touched on lists in [Module 1: Section 4](https://github.com/bueno646/CIERA-HS-Program-2021/blob/master/IDEASpy-Mike-Updates/Module_1/Section_4.ipynb). We likened them to a [row of lockers](https://previews.123rf.com/images/elfachero3/elfachero31803/elfachero3180300002/97960122-row-of-tan-school-lockers.jpg) to convey that lists are a way to store multiple pieces of information in Python. Here we will provide a more technical description and expand on the utility of lists.\n",
    "\n",
    "Lists in Python are a convenient way to store related information. Lists are essentially ordered sequences of items, and the items (or \"elements\") within a list can be of any type you wish, and can even mix different types of data, making them very versatile objects. \n",
    "\n",
    "Let’s start with the very basics of lists.\n",
    "\n",
    "## Creating and Changing Lists\n",
    "\n",
    "To create a list, put the items inside of square brackets separated by commas, as shown in the examples below.\n"
   ]
  },
  {
   "cell_type": "code",
   "execution_count": 1,
   "metadata": {
    "ExecuteTime": {
     "end_time": "2021-05-28T15:01:40.431640Z",
     "start_time": "2021-05-28T15:01:40.429189Z"
    }
   },
   "outputs": [],
   "source": [
    "my_list_one = [2, 8, 4, 8]             # list of numbers\n",
    "my_list_two = ['cat', 'dog', 'llama']  # list of strings, must use 'string'\n",
    "my_list_three = ['Alice', 42, 'Bob', 66] # list with strings and numbers"
   ]
  },
  {
   "cell_type": "markdown",
   "metadata": {},
   "source": [
    "### Lists & Variables\n",
    "You may recall that we likened \"variables\" in python to boxes with a label in [Module 1: Section 1](https://github.com/bueno646/CIERA-HS-Program-2021/blob/master/IDEASpy-Mike-Updates/Module_1/Section_1.ipynb). In the example above, you can see that we are creating lists that are being saved to a variable. Specifically, the list [2, 8, 4, 8] is stored to the variable \"my_list_1\" and so on. \n",
    "\n",
    "While in the examples above we have shown that you can store numbers (floats and ints) and strings, you can also ___store variables___ in lists. Those variables may contain a number, string, or even another list! See the example below to see this action "
   ]
  },
  {
   "cell_type": "code",
   "execution_count": 2,
   "metadata": {
    "ExecuteTime": {
     "end_time": "2021-05-28T15:01:40.437938Z",
     "start_time": "2021-05-28T15:01:40.434022Z"
    }
   },
   "outputs": [
    {
     "name": "stdout",
     "output_type": "stream",
     "text": [
      "[43, 'pumpkin', 48, 'tomato', [10, 12, 14, 16]]\n"
     ]
    }
   ],
   "source": [
    "example_variable_one = 48\n",
    "example_variable_two = 'tomato'\n",
    "my_list_four = [ 10, 12, 14, 16]\n",
    "my_list_five = [43,'pumpkin', example_variable_one, # you can press enter to insert a line break\n",
    "                example_variable_two, my_list_four]               # list of predefined variables\n",
    "\n",
    "print(my_list_five) # Note the outputs!"
   ]
  },
  {
   "cell_type": "markdown",
   "metadata": {},
   "source": [
    "Once you have a list created (or \"defined\"), there are many things you can do with it. Here are some common examples:"
   ]
  },
  {
   "cell_type": "markdown",
   "metadata": {},
   "source": [
    "### Checking how long your list is\n",
    "It is often helpful to make sure your code looks the way you want it to. If you are working with lists, one way to do that is to make sure it is composed of as many elements as you need it to be! For example, if I am storing the temperature of 5 stars for later use, I may want to check that the list is 5 elements long. Incorporating checks like this in your code can be very helpful for avoiding (and finding) bugs in your code. "
   ]
  },
  {
   "cell_type": "code",
   "execution_count": 3,
   "metadata": {
    "ExecuteTime": {
     "end_time": "2021-05-28T15:01:40.442476Z",
     "start_time": "2021-05-28T15:01:40.439664Z"
    }
   },
   "outputs": [
    {
     "name": "stdout",
     "output_type": "stream",
     "text": [
      "5\n"
     ]
    }
   ],
   "source": [
    "my_list = [2, 8, 6, 4, 10]\n",
    "list_length = len(my_list)  # returns the length, or number of items, in the list (5)\n",
    "print(list_length)"
   ]
  },
  {
   "cell_type": "markdown",
   "metadata": {},
   "source": [
    "### Sorting your list\n",
    "It can beneficial to order your list from smallest to largest, or vice versa - if your list consists of __only__ numbers (float or int) or __only__ strings!<br>\n",
    "__Note__: When sorting is done as it is shown below, the sorting is done \"in place\". This means that the list __itself__ is sorted, instead of a __sorted__ copy being made.\n",
    "\n",
    "__For example:__\n",
    "\n",
    "> - example_list = [17, 8, 29]\n",
    "> - example_list.sorted( )          __# The list \"example_list\" is now sorted__\n",
    "> - print(example_list)\n",
    "> - __The output of this list would now be a list with the following elements: [8, 17, 29]__. "
   ]
  },
  {
   "cell_type": "code",
   "execution_count": 4,
   "metadata": {
    "ExecuteTime": {
     "end_time": "2021-05-28T15:01:40.446330Z",
     "start_time": "2021-05-28T15:01:40.443908Z"
    }
   },
   "outputs": [
    {
     "name": "stdout",
     "output_type": "stream",
     "text": [
      "[2, 4, 6, 8, 10]\n"
     ]
    }
   ],
   "source": [
    "my_list.sort()  # sorts the list from smallest to largest [2, 4, 6, 8]\n",
    "print(my_list)"
   ]
  },
  {
   "cell_type": "code",
   "execution_count": 5,
   "metadata": {
    "ExecuteTime": {
     "end_time": "2021-05-28T15:01:40.450755Z",
     "start_time": "2021-05-28T15:01:40.448197Z"
    }
   },
   "outputs": [
    {
     "name": "stdout",
     "output_type": "stream",
     "text": [
      "[10, 8, 6, 4, 2]\n"
     ]
    }
   ],
   "source": [
    "my_list.sort(reverse=True)  # reverse-sorts the list [8, 6, 4, 2]\n",
    "print(my_list)"
   ]
  },
  {
   "cell_type": "markdown",
   "metadata": {},
   "source": [
    "### Your turn: Create a list!\n",
    "__Tasks__: <br>\n",
    "> - Create a list for numbers 1-10 (inclusive of both 1 and 10) <br>\n",
    "> -Create a list of with your first, middle, and last name(s) <br>\n",
    "\n",
    "Try making these lists in the cell below!"
   ]
  },
  {
   "cell_type": "code",
   "execution_count": 6,
   "metadata": {
    "ExecuteTime": {
     "end_time": "2021-05-28T15:01:40.454052Z",
     "start_time": "2021-05-28T15:01:40.452324Z"
    }
   },
   "outputs": [],
   "source": [
    "# your code below\n",
    "\n",
    "\n"
   ]
  },
  {
   "cell_type": "markdown",
   "metadata": {},
   "source": [
    "### Your turn: Sort your list!\n",
    "__Tasks__:\n",
    "> - sort your numbered list from __smallest to largest__ \n",
    "> - sort your numbered list from __largest to smallest__ "
   ]
  },
  {
   "cell_type": "code",
   "execution_count": 7,
   "metadata": {
    "ExecuteTime": {
     "end_time": "2021-05-28T15:01:40.458405Z",
     "start_time": "2021-05-28T15:01:40.456451Z"
    }
   },
   "outputs": [],
   "source": [
    "# your code below\n",
    "\n",
    "\n"
   ]
  },
  {
   "cell_type": "markdown",
   "metadata": {},
   "source": [
    "## Using a Specific Item or Items in a List\n",
    "\n",
    "The previous examples were things you could do with an entire list, but often you'll just want to access (or \"reference\") a particular element or perhaps a few of elements (a \"subset\" or \"slice\") from the list. In Python, counting (or \"indexing\") starts with __ZERO__, so the __first__ item in a list will be identified with the number __0__. See an example below: <br>\n",
    "\n",
    "> - fruit_list = ['orange', 'banana', 'pear']\n",
    "> - fruit_list[0]\n",
    "> - In \"fruit_list\" the first element, which corresponds to the 0th index, is the string 'orange. \n",
    "\n",
    "Run the code block below to see this in action!\n",
    "\n",
    "__Note:__ Many of following examples in this notebook will involve using elements composed of strings. All of the same rules for accessing elements are the same for elements composed of numbers or numbers and strings!"
   ]
  },
  {
   "cell_type": "code",
   "execution_count": 8,
   "metadata": {
    "ExecuteTime": {
     "end_time": "2021-05-28T15:01:40.462885Z",
     "start_time": "2021-05-28T15:01:40.460198Z"
    }
   },
   "outputs": [
    {
     "name": "stdout",
     "output_type": "stream",
     "text": [
      "the 0th element is orange\n"
     ]
    }
   ],
   "source": [
    "fruit_list = ['orange', 'banana', 'pear']\n",
    "print(\"the 0th element is\" , fruit_list[0])\n"
   ]
  },
  {
   "cell_type": "markdown",
   "metadata": {},
   "source": [
    "Negative indices count backward from the end of the list. See an example below: <br>\n",
    "\n",
    "> - example_list = ['orange', 'banana', 'pear']\n",
    "> - In \"example_list\" we can use a negative one to reference the last element, which corresponds to the -1st index, which is the string 'pear'. \n",
    "\n",
    "__Note:__ you can use other negative numbers beyond 1! Using -2 will return the __second to last__ element, and so on\n",
    "\n",
    "Run the code block below to see this in action!"
   ]
  },
  {
   "cell_type": "code",
   "execution_count": 9,
   "metadata": {
    "ExecuteTime": {
     "end_time": "2021-05-28T15:01:40.467350Z",
     "start_time": "2021-05-28T15:01:40.464701Z"
    }
   },
   "outputs": [
    {
     "name": "stdout",
     "output_type": "stream",
     "text": [
      "the last element is pear\n",
      "the second to last element is banana\n"
     ]
    }
   ],
   "source": [
    "fruit_list = ['orange', 'banana', 'pear']\n",
    "print(\"the last element is\" , fruit_list[-1])\n",
    "print(\"the second to last element is\" , fruit_list[-2])"
   ]
  },
  {
   "cell_type": "markdown",
   "metadata": {},
   "source": [
    "As we mentioned in [Module 1: Section 4](https://github.com/bueno646/CIERA-HS-Program-2021/blob/master/IDEASpy-Mike-Updates/Module_1/Section_4.ipynb). We likened them to a [row of lockers](https://previews.123rf.com/images/elfachero3/elfachero31803/elfachero3180300002/97960122-row-of-tan-school-lockers.jpg), brackets, when used to the right of an equal sign, create a list. In this earlier module, we mentioned that brackets on the left of the equal sign mean something else. Brackets on the left of an equal sign are used to access (or \"reference\") a specific element or elements within a list. \n",
    "\n",
    "> - fruit_list = ['orange', 'banana', 'pear']\n",
    "> - fruit_list[0] = 'apple'\n",
    "> - We first created a list labeled \"fruit_list\", as seen with the brackets to the right of the equal sign. In the next line, we see brackets to the left of the equal sign. In this second line we have identified the 0th element with \"fruit_list[0]\" and then we __assign__ that 0th element the string 'apple' by setting \"fruit_list[0]\" equal to 'apple'.\n",
    "\n",
    "Run the code block below to see this in action!"
   ]
  },
  {
   "cell_type": "code",
   "execution_count": 10,
   "metadata": {
    "ExecuteTime": {
     "end_time": "2021-05-28T15:01:40.595775Z",
     "start_time": "2021-05-28T15:01:40.592338Z"
    }
   },
   "outputs": [
    {
     "name": "stdout",
     "output_type": "stream",
     "text": [
      "the list was originally as follows: ['orange', 'banana', 'pear']\n",
      "\n",
      "now to change the 0th element\n",
      "\n",
      "the new list is now as follows: ['apple', 'banana', 'pear']\n"
     ]
    }
   ],
   "source": [
    "fruit_list = ['orange', 'banana', 'pear']\n",
    "print(\"the list was originally as follows:\", fruit_list)\n",
    "print()\n",
    "print(\"now to change the 0th element\")\n",
    "print()\n",
    "fruit_list[0] = 'apple'\n",
    "print(\"the new list is now as follows:\" , fruit_list)"
   ]
  },
  {
   "cell_type": "markdown",
   "metadata": {},
   "source": [
    "Using brackets with a list __without__ an equal sign present also accessing a specific element or elements within a list, but does so without assigning that element or elements a value.\n",
    "\n",
    "> - fruit_list = ['orange', 'banana', 'pear']\n",
    "> - print(fruit_list[0])\n",
    "> - We first created a list labeled \"example list\", as seen with the brackets to the right of the equal sign. In the next line, we see brackets with no equal sign. In this second line we have identified the 0th element with \"example_list[0]\" and then we __printed__ that 0th element by usiing the print function.\n",
    "\n",
    "Run the code block below to see this in action!"
   ]
  },
  {
   "cell_type": "code",
   "execution_count": 11,
   "metadata": {
    "ExecuteTime": {
     "end_time": "2021-05-28T15:01:40.686395Z",
     "start_time": "2021-05-28T15:01:40.683775Z"
    }
   },
   "outputs": [
    {
     "name": "stdout",
     "output_type": "stream",
     "text": [
      "orange\n"
     ]
    }
   ],
   "source": [
    "fruit_list = ['orange', 'banana', 'pear']\n",
    "print(fruit_list[0])"
   ]
  },
  {
   "cell_type": "markdown",
   "metadata": {},
   "source": [
    "### Walkthrough: referencing specific item or items in a list. \n",
    "In the cell below we will use an example involving the radii of the nine planets in our solar system to show examples of code that references different elements within a list. \n",
    "\n",
    "__Context__:\n",
    "\n",
    "We will use the radii of the nine planets in our solar system to show examples of code that references different elements within a list. You have a list of the radii of the planets in our solar system (in meters), from largest to smallest. You will find the cell containing these radii, as well as a list of planets that those radii correspond to. In other words, the 0th element in \"list_of_radii_meters\" below is the radius of jupiter, which is the 0th planet in \"list_of_planets\".\n",
    "\n",
    "__Situation__:\n",
    "\n",
    "We will walk through how you might use this list and indexing to identify elements of that list."
   ]
  },
  {
   "cell_type": "markdown",
   "metadata": {},
   "source": [
    "#### List of radii and list of planet names"
   ]
  },
  {
   "cell_type": "code",
   "execution_count": 12,
   "metadata": {
    "ExecuteTime": {
     "end_time": "2021-05-28T15:01:40.765598Z",
     "start_time": "2021-05-28T15:01:40.763071Z"
    }
   },
   "outputs": [],
   "source": [
    "# order of planetary radii: Jupiter, Saturn, Uranus, Neptune, Earth, Venus, Mars, Mercury, and Pluto\n",
    "list_of_radii_meters   = [71492000, 60268000, 25559000, 24764000, 6378000, 6052000, 3396000, 2439000, 1195000]\n",
    "list_of_planets = ['jupiter', 'saturn', 'uranus', 'neptune', 'earth', 'venus', 'mars', 'mercury', 'pluto']\n",
    "  \n"
   ]
  },
  {
   "cell_type": "markdown",
   "metadata": {},
   "source": [
    "#### Lets print the smallest planet radius and planet name together using indices"
   ]
  },
  {
   "cell_type": "code",
   "execution_count": 13,
   "metadata": {
    "ExecuteTime": {
     "end_time": "2021-05-28T15:01:40.771062Z",
     "start_time": "2021-05-28T15:01:40.768641Z"
    }
   },
   "outputs": [
    {
     "name": "stdout",
     "output_type": "stream",
     "text": [
      "The radius of the smallest planet 1195000 is 1195000 meters\n",
      "\n"
     ]
    }
   ],
   "source": [
    "print('The radius of the smallest planet', list_of_radii_meters[-1], \"is\",list_of_radii_meters[-1],'meters')\n",
    "print()"
   ]
  },
  {
   "cell_type": "markdown",
   "metadata": {},
   "source": [
    "#### Your turn! \n",
    "In the cell below, use indices to print the following:\n",
    "\n",
    "> - the radius and name of the largest planet\n",
    "> - the radius and name of the __second__ smallest planet"
   ]
  },
  {
   "cell_type": "code",
   "execution_count": 14,
   "metadata": {
    "ExecuteTime": {
     "end_time": "2021-05-28T15:01:40.775270Z",
     "start_time": "2021-05-28T15:01:40.773531Z"
    }
   },
   "outputs": [],
   "source": [
    "# your code here\n",
    "\n",
    "\n",
    "\n"
   ]
  },
  {
   "cell_type": "markdown",
   "metadata": {},
   "source": [
    "### Slices\n",
    "\n",
    "Earlier in this notebook we introduced the utility of \"referencing\" a specific element of a list. We can use brackets with lists to access an element. Often, it is helpful to access __more than just one element__. For example, if you are storing the temperature of 5 stars you might want to access the last two elements. When we access more than just one element from a list, we call this \"slicing\". Slicing, like indexing, is done in brackets next to the list name. See the example below:\n",
    "\n",
    "> - Lets say I want the first two elements of a list\n",
    "> - fruit_list = ['orange', 'banana', 'pear']\n",
    "> - print(fruit_list[:2])\n",
    "\n",
    "Run the code block below to see this in action! <br>\n",
    "Below that code block we will talk through the various components of slicing"
   ]
  },
  {
   "cell_type": "code",
   "execution_count": 15,
   "metadata": {
    "ExecuteTime": {
     "end_time": "2021-05-28T15:01:40.780852Z",
     "start_time": "2021-05-28T15:01:40.778384Z"
    }
   },
   "outputs": [
    {
     "name": "stdout",
     "output_type": "stream",
     "text": [
      "['orange', 'banana']\n"
     ]
    }
   ],
   "source": [
    "fruit_list = ['orange', 'banana', 'pear','cherry','apple','peach']\n",
    "print(fruit_list[:2])"
   ]
  },
  {
   "cell_type": "markdown",
   "metadata": {},
   "source": [
    "### Controling a Slice \n",
    "\n",
    "When you take a slice of a list, __you have three options__ you can control: \n",
    "\n",
    "> - The start index\n",
    "> - The end index (which is non-inclusive in the slice)\n",
    "> - Lastly, a \"step value\", which controls how you want to step over the items included in your slice (one by one, every other, etc.).\n",
    "\n",
    "Below you will see an example that uses the words \"start index\", \"end index\", and \"step value\" where the numbers themselves would be. We will show examples with numbers in the following code block. <br> \n",
    "\n",
    "> - Example\n",
    "> - print(my_list[__start index : end index : step value__])\n",
    "\n",
    "Lets see this in action in the code block below!\n"
   ]
  },
  {
   "cell_type": "markdown",
   "metadata": {},
   "source": [
    "#### Example: Let's print every other value of \"fruit_list\" - but only for the first 4 values."
   ]
  },
  {
   "cell_type": "code",
   "execution_count": 16,
   "metadata": {
    "ExecuteTime": {
     "end_time": "2021-05-28T15:01:40.785816Z",
     "start_time": "2021-05-28T15:01:40.782537Z"
    }
   },
   "outputs": [
    {
     "name": "stdout",
     "output_type": "stream",
     "text": [
      "['orange', 'pear']\n"
     ]
    }
   ],
   "source": [
    "print(fruit_list[0:4:2])"
   ]
  },
  {
   "cell_type": "markdown",
   "metadata": {},
   "source": [
    "Lets take a look at what each of the slicing options were in this example:\n",
    "\n",
    "> The start index: 0\n",
    ">> We are starting our slice from the 0th element - 'orange'\n",
    "\n",
    "> The end index: 4\n",
    ">> We are ending our slice at the 4th element, which corresponds to 'apple' since python indexing __starts at zero__. Since the end index is not inclusive, the slice does __not__ include 'apple'\n",
    "\n",
    "> The step value: 2\n",
    ">> By choosing '2', we are \"stepping\" by 2 from the start index until we reach the end index. Since we start from 0, the next element is at the 2nd index. The next index that would be included is at the 4th index - but this is where our slice ends non-inclusively. This is why the slice only contains the elements at the 0th and 2nd indices - 'orange' and 'pear' "
   ]
  },
  {
   "cell_type": "markdown",
   "metadata": {},
   "source": [
    "You will notice that each of the slicing options is separated by a colon (:). There are few tricky things to remember about using these slicing options:\n",
    "\n",
    "> They are all optional - When any of these options are left out, your code may behave differently. <br>\n",
    "> The list element that corresponds to the end index is __NOT__ included in the slice\n",
    "\n",
    "Lets go through some examples for each of these tricky things!\n",
    "\n",
    "Now that we have a better sense for the structure of slices, lets revisit our first example of slices. <br>\n",
    "We will include all three terms this time, \"start index, \"end index\", \"step value\"). Note that the output will be the same as the example above."
   ]
  },
  {
   "cell_type": "markdown",
   "metadata": {},
   "source": [
    "#### They are all optional \n"
   ]
  },
  {
   "cell_type": "code",
   "execution_count": 17,
   "metadata": {
    "ExecuteTime": {
     "end_time": "2021-05-28T15:01:40.790690Z",
     "start_time": "2021-05-28T15:01:40.788063Z"
    }
   },
   "outputs": [
    {
     "name": "stdout",
     "output_type": "stream",
     "text": [
      "using all three slicing control options: ['orange', 'banana']\n",
      "using just the end index ['orange', 'banana']\n"
     ]
    }
   ],
   "source": [
    "fruit_list = ['orange', 'banana', 'pear']\n",
    "print(\"using all three slicing control options:\", fruit_list[0:2:1]) \n",
    "print(\"using just the end index\", fruit_list[:2]) "
   ]
  },
  {
   "cell_type": "markdown",
   "metadata": {},
   "source": [
    "Lets take a look at each of the slicing options in this example, line by line:\n",
    "\n",
    "Line 1-2:\n",
    "\n",
    "fruit_list = ['orange', 'banana', 'pear']\n",
    "fruit_list[0:2:1]\n",
    "\n",
    "\n",
    "> The start index: 0\n",
    ">> We are starting our slice from the 0th element - 'orange'\n",
    "\n",
    "> The end index: 2\n",
    ">> We are ending our slice at the 2nd element, which corresponds to 'pear' since python indexing __starts at zero__. Since the end index is not inclusive, the slice does __not__ include 'pear'\n",
    "\n",
    "> The step value: 1\n",
    ">> By choosing '1', we are \"stepping\" by 1 from the start index until we reach the end index. Since we start from 0, the next element is at the 1st index. The next index that would be included is at the 2nd index - but this is where our slice ends non-inclusively. This is why the slice only contains the elements at the 0th and 1st indices - 'orange' and 'banana' \n",
    "\n",
    "In the example above, you may have noticed that the slice in line 2 produces the same result as the slice in line 3. Lets take a look to see why!\n",
    "\n",
    "Line 3: example_list[:2]\n",
    "\n",
    "> The start index: 0\n",
    ">> When you dont include a start index __explicitly__, i.e by writing it like we did in line 2, Python __automatically assumes__ your start index is 0. You might hear this referred to using \"default\" - Python starts list slices at 0 by default. So if you don't include a start index, your list will always start at the 0th index\n",
    "\n",
    "> The end index: 2\n",
    ">> We are ending our slice at the 2nd element, which corresponds to 'pear' since python indexing __starts at zero__. Since the end index is not inclusive, the slice does __not__ include 'pear'. ___However___, if we had not included an end index explicitly, Python would have __automatically assumed__ our end index was the length of list (starting from 0, because of Python indexing) plus 1, so that all elements would have been included. \n",
    "\n",
    "> The step value: 1\n",
    ">> When you dont include a step value __explicitly__, Python __automatically assumes__ your step value is 0. You might hear this referred to using \"default\" - Python starts list slices at 0 by default. So if you don't include a start index, your list will always start at the 0th index \n"
   ]
  },
  {
   "cell_type": "markdown",
   "metadata": {},
   "source": [
    "#### The list element that corresponds to the end index is __NOT__ included in the slice"
   ]
  },
  {
   "cell_type": "code",
   "execution_count": 18,
   "metadata": {
    "ExecuteTime": {
     "end_time": "2021-05-28T15:01:40.876802Z",
     "start_time": "2021-05-28T15:01:40.874282Z"
    }
   },
   "outputs": [
    {
     "name": "stdout",
     "output_type": "stream",
     "text": [
      "using all three slicing control options: ['orange', 'banana', 'pear', 'cherry', 'apple']\n"
     ]
    }
   ],
   "source": [
    "fruit_list = ['orange', 'banana', 'pear','cherry','apple','peach']\n",
    "print(\"using all three slicing control options:\", fruit_list[0:5:1]) \n"
   ]
  },
  {
   "cell_type": "markdown",
   "metadata": {},
   "source": [
    "Lets take a look at the end index in the example above:\n",
    "\n",
    "> End index: 5\n",
    ">> We are ending our slice at the 5th element, which corresponds to the list element 'peach', since python indexing __starts at zero__. Since the list element that corresponds to the end index is __NOT__ included in the selected slice, our slice ends right before 'peach' with the 4th element - 'apple'."
   ]
  },
  {
   "cell_type": "markdown",
   "metadata": {},
   "source": [
    "### More examples!\n",
    "Lets look at examples of the following:\n",
    "\n",
    "> Only using the starting index<br>\n",
    "> Only using a step value <br>\n",
    "> Multiple elements, but not the last one\n"
   ]
  },
  {
   "cell_type": "markdown",
   "metadata": {},
   "source": [
    "#### Only using the starting index\n",
    "\n",
    "Take a look at this example below:\n",
    "\n",
    ">> fruit_list = ['orange', 'banana', 'pear','cherry','apple','peach'] <br>\n",
    ">> print(fruit_list[2:])\n",
    "\n",
    "__What elements do you think will be printed?__\n",
    "\n",
    "__Your answer here:__\n",
    "\n",
    "Run the cell below to see if you were on the right track!\n"
   ]
  },
  {
   "cell_type": "code",
   "execution_count": 19,
   "metadata": {
    "ExecuteTime": {
     "end_time": "2021-05-28T15:01:40.958716Z",
     "start_time": "2021-05-28T15:01:40.956117Z"
    }
   },
   "outputs": [
    {
     "name": "stdout",
     "output_type": "stream",
     "text": [
      "['pear', 'cherry', 'apple', 'peach']\n"
     ]
    }
   ],
   "source": [
    "fruit_list = ['orange', 'banana', 'pear','cherry','apple','peach']\n",
    "print(fruit_list[2:])\n"
   ]
  },
  {
   "cell_type": "markdown",
   "metadata": {},
   "source": [
    "#### Only using a step value \n",
    "\n",
    "Take a look at this example below:\n",
    "\n",
    ">> fruit_list = ['orange', 'banana', 'pear','cherry','apple','peach'] <br>\n",
    ">> print(fruit_list[::2])\n",
    "\n",
    "__What elements do you think will be printed?__\n",
    "\n",
    "__Your answer here:__\n",
    "\n",
    "Run the cell below to see if you were on the right track!\n"
   ]
  },
  {
   "cell_type": "code",
   "execution_count": 20,
   "metadata": {
    "ExecuteTime": {
     "end_time": "2021-05-28T15:01:40.965301Z",
     "start_time": "2021-05-28T15:01:40.962232Z"
    }
   },
   "outputs": [
    {
     "name": "stdout",
     "output_type": "stream",
     "text": [
      "['orange', 'pear', 'apple']\n"
     ]
    }
   ],
   "source": [
    "fruit_list = ['orange', 'banana', 'pear','cherry','apple','peach']\n",
    "print(fruit_list[::2])\n"
   ]
  },
  {
   "cell_type": "markdown",
   "metadata": {},
   "source": [
    "### Multiple elements, but not the last one\n",
    "\n",
    "Take a look at this example below:\n",
    "\n",
    ">> fruit_list = ['orange', 'banana', 'pear','cherry','apple','peach'] <br>\n",
    ">> print(fruit_list[1:-1:1])\n",
    "\n",
    "__What elements do you think will be printed?__\n",
    "\n",
    "__Your answer here:__\n",
    "\n",
    "Run the cell below to see if you were on the right track!\n"
   ]
  },
  {
   "cell_type": "code",
   "execution_count": 21,
   "metadata": {
    "ExecuteTime": {
     "end_time": "2021-05-28T15:01:40.969799Z",
     "start_time": "2021-05-28T15:01:40.967286Z"
    }
   },
   "outputs": [
    {
     "name": "stdout",
     "output_type": "stream",
     "text": [
      "['banana', 'pear', 'cherry', 'apple']\n"
     ]
    }
   ],
   "source": [
    "fruit_list = ['orange', 'banana', 'pear','cherry','apple','peach']\n",
    "print(fruit_list[1:-1:1])\n"
   ]
  },
  {
   "cell_type": "markdown",
   "metadata": {},
   "source": [
    "### Lastly, Slicing with Variables\n",
    "You can also use variables to access a slice of your list. See the examples below:"
   ]
  },
  {
   "cell_type": "code",
   "execution_count": 22,
   "metadata": {
    "ExecuteTime": {
     "end_time": "2021-05-28T15:01:40.975085Z",
     "start_time": "2021-05-28T15:01:40.971610Z"
    }
   },
   "outputs": [
    {
     "name": "stdout",
     "output_type": "stream",
     "text": [
      "items start through the rest of the list: ['banana', 'pear', 'cherry', 'apple', 'peach']\n",
      "\n",
      "items from the beginning through end index minus 1 (because it's non inclusive):\n",
      "['orange', 'banana', 'pear', 'cherry', 'apple']\n",
      "\n",
      "items from index start through end index (minus 1 because it's non inclusive), steping by 3:\n",
      "['banana', 'apple']\n"
     ]
    }
   ],
   "source": [
    "fruit_list = ['orange', 'banana', 'pear','cherry','apple','peach']\n",
    "\n",
    "start = 1\n",
    "end = 5\n",
    "step = 3\n",
    "\n",
    "# items start through the rest of the list\n",
    "print(\"items start through the rest of the list:\",fruit_list[start:]) \n",
    "print()\n",
    "# items from the beginning through end index minus 1 (because it's non inclusive)\n",
    "print(\"items from the beginning through end index minus 1 (because it's non inclusive):\")\n",
    "print(fruit_list[:end] )        \n",
    "print()\n",
    "# items from index start through end index (minus 1 because it's non inclusive), steping by 3\n",
    "print(\"items from index start through end index (minus 1 because it's non inclusive), steping by 3:\")\n",
    "print(fruit_list[start:end:step])  "
   ]
  },
  {
   "cell_type": "markdown",
   "metadata": {},
   "source": [
    "### Slicing Recap"
   ]
  },
  {
   "cell_type": "markdown",
   "metadata": {},
   "source": [
    "When you take a slice of a list, __you have three options__ you can control: \n",
    "\n",
    "> - the start index\n",
    "> - the end index (which is non-inclusive in the slice)\n",
    "> - lastly, a \"step value\", which controls how you want to step over the items included in your slice (one by one, every other, etc.). \n",
    "\n",
    "Each of these options is separated by a colon (:), and they are all optional. \n",
    "\n",
    "Here are a few tricky things to keep in mind:\n",
    "\n",
    "> They are all optional - When any of these options are left out, your code may behave differently. <br>\n",
    "> The list element that corresponds to the end index is __NOT__ included in the selected slice\n"
   ]
  },
  {
   "cell_type": "markdown",
   "metadata": {},
   "source": [
    "## Updating a List\n",
    "\n",
    "__Why you should care__: \n",
    "It is occasionally useful to create an empty list and fill it as you go. Often, it's also useful to update an existing list as well. __Similar__ to when you use the sort method for sorting, all of the methods we will cover for the rest of this notebook happen \"__in place__\". So when we discuss updating a list, whether we are adding to a list or removing elements, the updates are happening to the list itself. \n",
    "\n",
    "__Note on methods:__ You can think of methods as tools that are associated with an object type in python. In this notebook, we will be looking at methods associated with lists - the append, insert, pop, and remove methods.\n",
    "\n",
    "### Append & Insert Methods\n",
    "You can use the append or insert methods shown below to expand your lists. The format (or \"syntax\") for using append or insert is as follow:\n",
    "\n",
    "> your_list_here.insert(index, element) <br>\n",
    "> your_list_here.append(element)\n",
    "\n",
    "__Note:__ the element you could be appending could be a string, a number, or even a list\n",
    "\n",
    "Lets take a look at this in action below!\n",
    "\n",
    "__Note:__ Pay close attention to the comments in the code below!"
   ]
  },
  {
   "cell_type": "code",
   "execution_count": 23,
   "metadata": {
    "ExecuteTime": {
     "end_time": "2021-05-28T15:01:40.979978Z",
     "start_time": "2021-05-28T15:01:40.977381Z"
    }
   },
   "outputs": [
    {
     "name": "stdout",
     "output_type": "stream",
     "text": [
      "[]\n",
      "\n"
     ]
    }
   ],
   "source": [
    "# Create an empty list to fill it later\n",
    "list_example = []             \n",
    "print (list_example)\n",
    "print()\n",
    "\n",
    "\n",
    "\n"
   ]
  },
  {
   "cell_type": "markdown",
   "metadata": {},
   "source": [
    "##### we can see the empty list we created in line 2 above is indeed empty. \n",
    "Now lets add to it"
   ]
  },
  {
   "cell_type": "code",
   "execution_count": 24,
   "metadata": {
    "ExecuteTime": {
     "end_time": "2021-05-28T15:01:40.984803Z",
     "start_time": "2021-05-28T15:01:40.982092Z"
    }
   },
   "outputs": [
    {
     "name": "stdout",
     "output_type": "stream",
     "text": [
      "[10]\n"
     ]
    }
   ],
   "source": [
    "# Putting the emprty list back here\n",
    "list_example = []   \n",
    "\n",
    "# defining a variable to add to the list\n",
    "example_element_one = 10\n",
    "\n",
    "#using append to addd it\n",
    "list_example.append(example_element_one)    \n",
    "\n",
    "print (list_example)"
   ]
  },
  {
   "cell_type": "markdown",
   "metadata": {},
   "source": [
    "In line 8 of the code above, you can see that the append method added \"example_element_one\" to the __end__ of our empty list\n",
    "\n",
    "Now lets look at the __insert__ method"
   ]
  },
  {
   "cell_type": "code",
   "execution_count": 25,
   "metadata": {
    "ExecuteTime": {
     "end_time": "2021-05-28T15:01:40.990206Z",
     "start_time": "2021-05-28T15:01:40.987095Z"
    }
   },
   "outputs": [
    {
     "name": "stdout",
     "output_type": "stream",
     "text": [
      "the original list is ['apple', 'orange', 'pear']\n",
      "\n",
      "the updated list is ['apple', 'orange', 'cherry', 'pear']\n"
     ]
    }
   ],
   "source": [
    "# Lets start with a list containing a few elements\n",
    "fruit_list = ['apple','orange','pear'] \n",
    "\n",
    "#lets print this list so you can see it before it is updated\n",
    "print(\"the original list is\",fruit_list)\n",
    "print()\n",
    "\n",
    "# defining a variable to add to the list\n",
    "example_element_two = 'cherry'\n",
    "\n",
    "# Lets assign a variable the index we want to insert the variable above into\n",
    "pointing_index = 2\n",
    "\n",
    "# now to insert\n",
    "fruit_list.insert(pointing_index, example_element_two) \n",
    "\n",
    "print(\"the updated list is\",fruit_list)"
   ]
  },
  {
   "cell_type": "markdown",
   "metadata": {},
   "source": [
    "We told the insert method to add 'cherry' to the 2nd index. We can see that 'cherry' is indeed in the 2nd index!"
   ]
  },
  {
   "cell_type": "markdown",
   "metadata": {},
   "source": [
    "### Pop & Remove Methods\n",
    "There are also various ways of removing items from a list. We will walk through the pop and remove methods. You can see all the list methods __[here](https://docs.python.org/3/tutorial/datastructures.html)__.\n",
    "\n",
    "You can use the pop or remove methods shown below to remove items from your lists. The format (or \"syntax\") for using pop or remove is as follow:\n",
    "\n",
    "> your_list_here.pop() <br>\n",
    "\n",
    "If you dont add anything to pop, it will remove the last item from the list and return it \n",
    "\n",
    "> your_list_here.pop(index)\n",
    "\n",
    "You can tell pop the index of the item you want to remove. This will also return that item.\n",
    "\n",
    "> your_list_here.remove(element)\n",
    "\n",
    "This will remove the first item from the list whose value is the same as the element you give it.\n",
    "\n",
    "Lets take a look at this in action below!\n",
    "\n",
    "__Note:__ Pay close attention to the comments in the code below!\n"
   ]
  },
  {
   "cell_type": "code",
   "execution_count": 26,
   "metadata": {
    "ExecuteTime": {
     "end_time": "2021-05-28T15:01:41.000909Z",
     "start_time": "2021-05-28T15:01:40.992160Z"
    }
   },
   "outputs": [
    {
     "data": {
      "text/plain": [
       "'pear'"
      ]
     },
     "execution_count": 26,
     "metadata": {},
     "output_type": "execute_result"
    }
   ],
   "source": [
    "# Lets start with a list containing a few elements\n",
    "fruit_list = ['apple','orange','pear'] \n",
    "\n",
    "# remove the last item from the list and return it\n",
    "fruit_list.pop()            \n",
    "\n"
   ]
  },
  {
   "cell_type": "markdown",
   "metadata": {},
   "source": [
    "##### Our code worked as expected!\n",
    "'pear' is the last element in the list \"list_example\". We can see that pop returned it as well as printed it on our screens. We could save this to a variable if we wanted to (e.g removed_item = list_example.pop( ) ) <br>\n",
    "\n",
    "Lets print \"list_example\" to see our updated list"
   ]
  },
  {
   "cell_type": "code",
   "execution_count": 27,
   "metadata": {
    "ExecuteTime": {
     "end_time": "2021-05-28T15:01:41.005932Z",
     "start_time": "2021-05-28T15:01:41.003651Z"
    }
   },
   "outputs": [
    {
     "name": "stdout",
     "output_type": "stream",
     "text": [
      "this is our updated list, ['apple', 'orange']\n"
     ]
    }
   ],
   "source": [
    "# Lets print our updated list\n",
    "print(\"this is our updated list,\",fruit_list)"
   ]
  },
  {
   "cell_type": "markdown",
   "metadata": {},
   "source": [
    "##### Now lets tell pop what index to remove"
   ]
  },
  {
   "cell_type": "code",
   "execution_count": 28,
   "metadata": {
    "ExecuteTime": {
     "end_time": "2021-05-28T15:01:41.010867Z",
     "start_time": "2021-05-28T15:01:41.007726Z"
    }
   },
   "outputs": [
    {
     "name": "stdout",
     "output_type": "stream",
     "text": [
      "the original list is ['apple', 'orange', 'pear']\n",
      "the updated list is ['apple', 'pear']\n"
     ]
    }
   ],
   "source": [
    "# Lets start with a list containing a few elements\n",
    "fruit_list = ['apple','orange','pear'] \n",
    "\n",
    "# Lets print the original list again\n",
    "print(\"the original list is\",fruit_list)\n",
    "\n",
    "# lets save an index we want to remove to a variable!\n",
    "remove_index = 1\n",
    "\n",
    "\n",
    "# remove the item in position i from the list and return it\n",
    "fruit_list.pop(remove_index) \n",
    "\n",
    "# lets look at the updated list\n",
    "print(\"the updated list is\",fruit_list)"
   ]
  },
  {
   "cell_type": "markdown",
   "metadata": {},
   "source": [
    "##### Our code worked as expected!\n",
    "'orange' is the 1st element in the list \"list_example\" (note, this is python indexing so it's the 1st element counting from 0!). We see that 'orange' is gone when we print the updated list\n",
    "\n",
    "Now lets look at the __remove__ method\n",
    "\n",
    "__Note:__ Pay close attend to the list in the example below! You'll see the string 'apple' twice"
   ]
  },
  {
   "cell_type": "code",
   "execution_count": 29,
   "metadata": {
    "ExecuteTime": {
     "end_time": "2021-05-28T15:01:41.015469Z",
     "start_time": "2021-05-28T15:01:41.012543Z"
    }
   },
   "outputs": [
    {
     "name": "stdout",
     "output_type": "stream",
     "text": [
      "the original list is ['apple', 'orange', 'pear', 'apple']\n",
      "the updated list is ['orange', 'pear', 'apple']\n"
     ]
    }
   ],
   "source": [
    "# Lets start with a list containing a few elements\n",
    "fruit_list = ['apple','orange','pear','apple'] \n",
    "\n",
    "# Lets print the original list again\n",
    "print(\"the original list is\",fruit_list)\n",
    "\n",
    "\n",
    "# lets save the string we want to remove to a variable\n",
    "remove_variable = 'apple'\n",
    "\n",
    "# remove the first item from the list whose value is xb\n",
    "fruit_list.remove(remove_variable) \n",
    "\n",
    "print(\"the updated list is\",fruit_list)"
   ]
  },
  {
   "cell_type": "markdown",
   "metadata": {},
   "source": [
    "##### Our code worked as expected!\n",
    "'apple' was repeated as the 0th and 3rd elements in the orininal version of \"list_example\". Since the remove method removed the __first__ item from the list that matches the element you gave it, the 'apple' at the 0th element was removed."
   ]
  },
  {
   "cell_type": "markdown",
   "metadata": {},
   "source": [
    "## Your turn! Planet Radii Revisited\n",
    "In the cell below we will revist our example involving the radii of the nine planets in our solar system to get some practice using slicing and updating list methods\n",
    "\n",
    "__Context__:\n",
    "\n",
    "We will use the radii of the nine planets in our solar system to show examples of code that references different elements within a list. You have a list of the radii of the planets in our solar system (in meters), from largest to smallest. You will find the cell containing these radii, as well as a list of planets that those radii correspond to. In other words, the 0th element in \"list_of_radii_meters\" below is the radius of jupiter, which is the 0th planet in \"list_of_planets\".\n",
    "\n",
    "__Situation__:\n",
    "\n",
    "You will be tasked with doing the following here:\n",
    "\n",
    "> Use slicing to return every other planet radii and names (starting from the 0th element) <br>\n",
    "> Use slicing to return the first 5 planet radii and names <br>\n",
    "> Use slicing to return the all planet radii and names __except__ the last one <br>\n",
    "> Use __insert__ to add the radius of the moon to \"list_of_radii_meters\" and 'moon' to \"list of planets\" <br>\n",
    "> Use __pop__ to remove the radius of the moon from \"list_of_radii_meters\" and 'moon' from \"list of planets\" <br>\n",
    "> Use __remove__ to remove the radius of the moon from \"list_of_radii_meters\" and 'moon' from \"list of planets\" <br>\n",
    "\n",
    "Below the list of planet names and radii are cell blocks for each of these! You will find relevant information there, such as the radius of the moon."
   ]
  },
  {
   "cell_type": "markdown",
   "metadata": {},
   "source": [
    "#### Use slicing to return every other planet radii and names (starting from the 0th element)\n",
    "use slicing options and a print statement to return every other planet radii and names"
   ]
  },
  {
   "cell_type": "code",
   "execution_count": 30,
   "metadata": {
    "ExecuteTime": {
     "end_time": "2021-05-28T15:01:41.019760Z",
     "start_time": "2021-05-28T15:01:41.017336Z"
    }
   },
   "outputs": [],
   "source": [
    "# defining the lists here again so you can see the original list more easily\n",
    "\n",
    "list_of_radii_meters   = [71492000, 60268000, 25559000, 24764000, 6378000, 6052000, 3396000, 2439000, 1195000]\n",
    "list_of_planets = ['jupiter', 'saturn', 'uranus', 'neptune', 'earth', 'venus', 'mars', 'mercury', 'pluto']\n",
    "  "
   ]
  },
  {
   "cell_type": "markdown",
   "metadata": {},
   "source": [
    "#### Use slicing to return the first 5 planet radii and names\n",
    "use slicing options and a print statement to return the first 5 planet radii and names"
   ]
  },
  {
   "cell_type": "code",
   "execution_count": 31,
   "metadata": {
    "ExecuteTime": {
     "end_time": "2021-05-28T15:01:41.023818Z",
     "start_time": "2021-05-28T15:01:41.021392Z"
    }
   },
   "outputs": [],
   "source": [
    "# defining the lists here again so you can see the original list more easily\n",
    "\n",
    "list_of_radii_meters   = [71492000, 60268000, 25559000, 24764000, 6378000, 6052000, 3396000, 2439000, 1195000]\n",
    "list_of_planets = ['jupiter', 'saturn', 'uranus', 'neptune', 'earth', 'venus', 'mars', 'mercury', 'pluto']\n",
    "  "
   ]
  },
  {
   "cell_type": "markdown",
   "metadata": {},
   "source": [
    "#### Use slicing to return the all planet radii and names __except__ the last one \n",
    "use slicing options and a print statement to return all planet radii and names - except the last one"
   ]
  },
  {
   "cell_type": "code",
   "execution_count": 32,
   "metadata": {
    "ExecuteTime": {
     "end_time": "2021-05-28T15:01:41.029029Z",
     "start_time": "2021-05-28T15:01:41.026662Z"
    }
   },
   "outputs": [],
   "source": [
    "# defining the lists here again so you can see the original list more easily\n",
    "\n",
    "list_of_radii_meters   = [71492000, 60268000, 25559000, 24764000, 6378000, 6052000, 3396000, 2439000, 1195000]\n",
    "list_of_planets = ['jupiter', 'saturn', 'uranus', 'neptune', 'earth', 'venus', 'mars', 'mercury', 'pluto']\n",
    "  "
   ]
  },
  {
   "cell_type": "markdown",
   "metadata": {},
   "source": [
    "#### Use insert to add the radius of the moon to \"list_of_radii_meters\" and 'moon' to \"list of planets\"\n",
    "use the following to add the radius of the moon and the moon name (e.g 'moon') to the planet radii and names lists respectively:\n",
    "> the insert method <br>\n",
    "> a print statement <br>\n",
    "\n",
    "Research Task: You will need to look up the radius of the moon in meters here!\n",
    "\n",
    "__Here is the catch__: you will need to append the moon radius and name in _the right order_, since your radii and names lists are organized largest to smallest."
   ]
  },
  {
   "cell_type": "code",
   "execution_count": 33,
   "metadata": {
    "ExecuteTime": {
     "end_time": "2021-05-28T15:01:41.033238Z",
     "start_time": "2021-05-28T15:01:41.030732Z"
    }
   },
   "outputs": [],
   "source": [
    "# defining the lists here again so you can see the original list more easily\n",
    "\n",
    "list_of_radii_meters   = [71492000, 60268000, 25559000, 24764000, 6378000, 6052000, 3396000, 2439000, 1195000]\n",
    "list_of_planets = ['jupiter', 'saturn', 'uranus', 'neptune', 'earth', 'venus', 'mars', 'mercury', 'pluto']\n",
    "  "
   ]
  },
  {
   "cell_type": "markdown",
   "metadata": {},
   "source": [
    "#### Use __pop__ to remove the radius of the moon from \"list_of_radii_meters\" and 'moon' from \"list of planets\"\n",
    "use the following to remove the radius of the moon and the moon name (e.g 'moon') to the planet radii and names lists respectively:\n",
    "> the pop method <br>\n",
    "> a print statement <br>"
   ]
  },
  {
   "cell_type": "code",
   "execution_count": 34,
   "metadata": {
    "ExecuteTime": {
     "end_time": "2021-05-28T15:01:41.037125Z",
     "start_time": "2021-05-28T15:01:41.034893Z"
    }
   },
   "outputs": [],
   "source": [
    "# defining the lists here again so you can see the original list more easily\n",
    "\n",
    "list_of_radii_meters   = [71492000, 60268000, 25559000, 24764000, 6378000, 6052000, 3396000, 2439000, 1195000]\n",
    "list_of_planets = ['jupiter', 'saturn', 'uranus', 'neptune', 'earth', 'venus', 'mars', 'mercury', 'pluto']\n",
    "\n",
    "# your code here\n",
    "\n",
    "\n",
    "\n"
   ]
  },
  {
   "cell_type": "markdown",
   "metadata": {},
   "source": [
    "#### Use the__remove__ method to remove the radius of the moon from \"list_of_radii_meters\" and 'moon' from \"list of planets\"\n",
    "use the following to remove the radius of the moon and the moon name (e.g 'moon') to the planet radii and names lists respectively:\n",
    "> the remove method <br>\n",
    "> a print statement <br>"
   ]
  },
  {
   "cell_type": "code",
   "execution_count": 35,
   "metadata": {
    "ExecuteTime": {
     "end_time": "2021-05-28T15:01:41.041024Z",
     "start_time": "2021-05-28T15:01:41.038726Z"
    }
   },
   "outputs": [],
   "source": [
    "# defining the lists here again so you can see the original list more easily\n",
    "\n",
    "list_of_radii_meters   = [71492000, 60268000, 25559000, 24764000, 6378000, 6052000, 3396000, 2439000, 1195000]\n",
    "list_of_planets = ['jupiter', 'saturn', 'uranus', 'neptune', 'earth', 'venus', 'mars', 'mercury', 'pluto']\n",
    "\n",
    "\n",
    "# your code here\n",
    "\n",
    "\n",
    "\n",
    "\n",
    "\n"
   ]
  },
  {
   "cell_type": "markdown",
   "metadata": {},
   "source": [
    "## Takeaways: \n",
    "> - Lists are sequences of items that can be of any data type (even another list), and are an extremely useful tool in Python\n",
    ">> Lists will be one of many tools available to your to store and maneuver any data (like stellar temperatures, etc) you will work with\n",
    "> - Items in list can be accessed using indices, and they can also be sorted and sliced in different ways to suit your needs"
   ]
  }
 ],
 "metadata": {
  "kernelspec": {
   "display_name": "Python 3",
   "language": "python",
   "name": "python3"
  },
  "language_info": {
   "codemirror_mode": {
    "name": "ipython",
    "version": 3
   },
   "file_extension": ".py",
   "mimetype": "text/x-python",
   "name": "python",
   "nbconvert_exporter": "python",
   "pygments_lexer": "ipython3",
   "version": "3.8.8"
  },
  "toc": {
   "base_numbering": 1,
   "nav_menu": {},
   "number_sections": true,
   "sideBar": true,
   "skip_h1_title": false,
   "title_cell": "Table of Contents",
   "title_sidebar": "Contents",
   "toc_cell": false,
   "toc_position": {},
   "toc_section_display": true,
   "toc_window_display": false
  },
  "varInspector": {
   "cols": {
    "lenName": 16,
    "lenType": 16,
    "lenVar": 40
   },
   "kernels_config": {
    "python": {
     "delete_cmd_postfix": "",
     "delete_cmd_prefix": "del ",
     "library": "var_list.py",
     "varRefreshCmd": "print(var_dic_list())"
    },
    "r": {
     "delete_cmd_postfix": ") ",
     "delete_cmd_prefix": "rm(",
     "library": "var_list.r",
     "varRefreshCmd": "cat(var_dic_list()) "
    }
   },
   "types_to_exclude": [
    "module",
    "function",
    "builtin_function_or_method",
    "instance",
    "_Feature"
   ],
   "window_display": false
  }
 },
 "nbformat": 4,
 "nbformat_minor": 2
}
