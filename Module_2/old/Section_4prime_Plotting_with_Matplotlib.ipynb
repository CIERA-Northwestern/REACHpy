{
 "cells": [
  {
   "cell_type": "markdown",
   "metadata": {},
   "source": [
    "*Modified from the CIERA IDEAS program python notes (https://github.com/IDEASpy/IDEASpy) and from notes by G. Besla, P. Pinto, E. Hayati (https://github.com/gurtina/P105A_2019)* "
   ]
  },
  {
   "cell_type": "markdown",
   "metadata": {},
   "source": [
    "# Section 2.5 | Plotting with Matplotlib\n",
    "\n",
    "## 2.5.1 Getting Started with Matplotlib\n",
    "\n",
    "Matplotlib is a powerful 2D plotting library built for Python, and the package of choice for many researchers these days. Like Python itself, it's fairly intuitive and easy to get started, yet advanced enough to produce amazing, publication-quality figures. Matplotlib can be used in Python scripts, the Python and iPython shell, the jupyter notebook, as well as in other applications and toolkits beyond the scope of this course. \n",
    "\n",
    "### 2.5.1.1 Installation\n",
    "\n",
    "If you installed the Anaconda distribution of Python, you should already have matplotlib installed. In your Python terminal, type import matplotlib. If you don't get any errors, you're good to go! If not, visit the matplotlib.org. Links to an external site for help on installing matplotlib on your computer. \n",
    "\n",
    "### 2.5.1.2 Ways to Use Matplotlib\n",
    "\n",
    "~~There are essentially two ways to use matplotlib:~~\n",
    "\n",
    "~~- 1. Quick and dirty using pyplot: a collection of MATLAB-like (if you're familiar) plotting functions that allow for quick and dirty plotting. When you use pyplot functions, they are always acting on the 'current figure' which it keeps track of.~~\n",
    "\n",
    "~~- 2. More fine-grained control through the Figure and Axes classes: an object-oriented approach for plotting~~\n",
    "\n",
    "~~Many people like to use the quick and dirty method for quick plots in jupyter notebooks, but it can be used in scripts as well. When you are making more complex plots, you may opt for the second approach. We will introduce you to both of these plotting styles because as you explore on your own, you'll encounter both types of examples. For a more in-depth conceptual overview of the matplotlib framework and hierarchy check out this page: \n",
    " __[https://matplotlib.org/faq/usage_faq.html](https://matplotlib.org/faq/usage_faq.html)__\n",
    " ~~\n",
    "\n",
    "\n",
    "### 2.5.1.3 Basic Plotting with Matplotlib\n",
    "\n",
    "This lesson will cover the basics of plotting with matplotlib, but there is much more to learn. In subsequent modules, we'll continue to explore the capabilities of matplotlib, but if you're itching for more, refer to the resources at the end of this page. Also, you might want to print out this handy __[cheat sheet](https://s3.amazonaws.com/assets.datacamp.com/blog_assets/Python_Matplotlib_Cheat_Sheet.pdf)__ from Data Camp and keep it at your desk as you learn.\n",
    "\n",
    "An important tip for learning matplotlib: when you need documentation on a particular matplotlib object, matplotlib's internal search function will often be much more helpful than a Google search.  The internal search engine can be found on the right-hand side of the matplotlib __[website](https://matplotlib.org/)__.\n",
    "\n"
   ]
  },
  {
   "cell_type": "markdown",
   "metadata": {},
   "source": [
    "In order to access the matplotlib tools, you will need to type this at the beginning or your code.\n",
    "\n",
    "```python\n",
    "%matplotlib inline\n",
    "import matplotlib.pyplot as plt    \n",
    "```\n",
    "The **first line** tells the notebook that you want to display any plots inline (i.e. inside the notebook). This is done with the function %matplotlib inline. The **second line** in the below code cell imports the pyplot module from matplotlib and says that we will refer to the pyplot as plt. This gives you access to all of pyplot's functions, which can be called as plt.functionname.\n",
    "\n",
    "\n",
    "\n",
    "###  Example #1\n",
    "If you have a list of x and y values, it is easy to make a simple **line plot** of them. See the example in the cell below:\n",
    "\n",
    "\n",
    "\n"
   ]
  },
  {
   "cell_type": "markdown",
   "metadata": {},
   "source": [
    "```python\n",
    "%matplotlib inline\n",
    "import matplotlib.pyplot as plt     # now we'll reference pyplot functions using plt\n",
    "x = [1, 2, 3, 4]                    # create a list of x-values\n",
    "y = [2, 4, 6, 8]                    # create a list of y-values\n",
    "plt.plot(x, y)                      # call the plotting function, preface with plt (as we imported Pyplot)\n",
    "```\n"
   ]
  },
  {
   "cell_type": "code",
   "execution_count": 4,
   "metadata": {},
   "outputs": [],
   "source": [
    "# type and execute the code above in this new code cell\n",
    "%matplotlib inline\n",
    "import matplotlib.pyplot as plt \n",
    "#...\n",
    "#..."
   ]
  },
  {
   "cell_type": "markdown",
   "metadata": {},
   "source": [
    "###  Example #2\n",
    "\n",
    "~~The generic plot command above will create a line by default, but there are many optional parameters you can play with to change the style of the line (or remove it altogether), add markers of different shapes to the datapoints, and to modify the colors. ~~\n",
    "\n",
    "~~In the cells below we've entered four examples of basic plots so you can see how some properties of a simple plot can be adjusted. Run the cells one at a time to see the plots they generate. ~~\n",
    "\n",
    "~~While the example below is good for basic practice, it does not include all the capabilities that the matplotlib package installed on your computer will have. The code below should work fine, but if you start making too many adjustments, don't be surprised if you find something that doesn't work quite right. :-)~~\n",
    "\n",
    "You can incorporate some of the tools from previous sections\n",
    "```python\n",
    "# Create some data\n",
    "x = range(10)\n",
    "y = range(0,20,2)\n",
    "plt.plot(x, y)\n",
    "```\n",
    "**Note that** by default, the plot function will connect the data points with lines, but won't show the data points\n",
    "\n",
    "You can even plot multiple data sets in a single figure!\n",
    "\n",
    "```python\n",
    "z = [x[i]**2 for i in range(len(x))]\n",
    "plt.plot(x, y)\n",
    "plt.plot(x, z)\n",
    "```\n",
    "\n",
    "\n",
    "Now you try it!"
   ]
  },
  {
   "cell_type": "code",
   "execution_count": null,
   "metadata": {},
   "outputs": [],
   "source": [
    "# type and execute your code in this code cell\n",
    "x = range(10)\n",
    "# ...\n",
    "# ...\n"
   ]
  },
  {
   "cell_type": "markdown",
   "metadata": {},
   "source": [
    "## 2.5.2 Customizing your plot\n",
    "\n",
    "- **Lines**\n",
    "\n",
    "When you include another plot, pyplot will automatically change the color of the line for you. But you can change the color, linewidth and linestyle.\n",
    "\n",
    "Line properties are controlled with optional keywords to the plot function, namely the commands color, linestyle and linewidth. The first two have required string arguments, and the third (linewidth) requires a numerical argument in multiples of the default linewidth (1).\n",
    "\n",
    "linestyle options: [ '-' | '--' | '-.' | ':' |]\n",
    "\n",
    "color options: e.g., 'red','green','yellow','blue', 'orange', 'cyan', 'magenta','black'\n",
    "\n",
    "```python\n",
    "plt.plot(x, y, linewidth=3, linestyle=':', color='b') #  You can adjust many properties of the line\n",
    "```\n",
    "\n",
    "where ```'b'``` is short for 'blue'"
   ]
  },
  {
   "cell_type": "markdown",
   "metadata": {},
   "source": [
    "- **Markers?**\n",
    "\n",
    "\n",
    "\n",
    "\n",
    "- **Labels and titles**\n",
    "\n",
    "There are some especially useful pyplot functions, called with plt.functionname(input(s)) that can make the plots nicer.\n",
    "\n",
    "For instance, ```xlabel``` and ```ylabel``` set the labels for the x and y axes, respectively and have a required string input. The keyword ```title`` sets the title of the plot and also requires a string input.~~These can be specified either in the call to the function or separately before or after the plot call.~~\n",
    "\n",
    "```python\n",
    "plt.plot(x, y)\n",
    "\n",
    "# let's add axis labels\n",
    "plt.xlabel(\"the independent variable (no units)\")\n",
    "plt.ylabel(\"the dependent variable (no units)\")\n",
    "\n",
    "# let's add a title\n",
    "plt.title(\"Title\")\n",
    "\n",
    "```\n",
    "\n",
    "\n",
    "- **Annotations?**\n",
    "\n",
    "- **Multiple panels**\n",
    "\n",
    "- **Save your figure to a file**\n",
    "\n",
    "You can also save the plot to a file using the function ```savefig``` and setting the resolution.\n",
    "\n",
    "```python\n",
    "plt.plot(x,y)\n",
    "plt.savefig('thefigure.png', dpi=300) # save the figure to a file, dpi indictes the resolution\n",
    "```\n",
    "You can find the figiure at your current directory.\n",
    "\n",
    "Your turn! Try customizing your plot below."
   ]
  },
  {
   "cell_type": "code",
   "execution_count": null,
   "metadata": {},
   "outputs": [],
   "source": [
    "# type and execute your code in this code cell\n",
    "plt.plot(x, y)\n",
    "# ...\n",
    "# ..."
   ]
  },
  {
   "cell_type": "markdown",
   "metadata": {},
   "source": [
    "#### BONUS Approach 2: Figure and Axes Classes\n",
    "\n",
    "~~For creating more advanced plots, and to have better ability to fine-tune your figures, we recommend also practicing using matplotlib in the object-oriented approach. We won't go too deep into this matplotlib framework, but here's a simple way to think about it: you first create figures, which are like virtual sheets of paper; then you create axes, which are the designated places to draw on those sheets of paper.~~\n",
    "\n",
    "~~We start by using pyplot to create a figure, and through those figures, one or more axes objects can be created. These axes objects are then used for most plotting actions. The figure and axes are defined as:~~\n",
    "\n",
    "```python\n",
    "fig, ax1 = plt.subplots(1, 1)\n",
    "ax1.plot(x, y)\n",
    "```\n",
    "\n",
    "~~The first command defines a new figure named fig, and an axes object, ax1, on which we can plot our data. Think of the axes object as the area on which you plot your data. Subplots allows us to create multiple plots on one figure; the (1, 1) states that this figure should have 1 row and 1 column, so really just one plot in this case. The second line shows how you create a plot for the axes ax1. The next example shows how you'd create a 2x1 plot (2 rows, 1 column). Note that you have to define a tuple to represent the two plot axes, ax1 and ax2.~~\n",
    "\n",
    "```python\n",
    "fig, (ax1, ax2) = plt.subplots(2, 1)\n",
    "ax1.plot(x, y)\n",
    "ax2.plot(x, y)\n",
    "\n",
    "```"
   ]
  },
  {
   "cell_type": "markdown",
   "metadata": {},
   "source": [
    "## 2.5.3 Other Types of Plots\n",
    "\n",
    "There are other types of plots that are useful ~~, like scatter plot and histogram.~~\n",
    "\n",
    "###  Scatter Plot\n",
    "\n",
    "We can use numpy arrays to generate arrays with random numbers.\n",
    "\n",
    "The below code generates 10 random floats from 0 to 1 and stores it as an array. Execute to see the numbers it generates. Execute it more than once and see what happens."
   ]
  },
  {
   "cell_type": "code",
   "execution_count": 2,
   "metadata": {},
   "outputs": [
    {
     "name": "stdout",
     "output_type": "stream",
     "text": [
      "[0.43690797 0.39818943 0.08304424 0.72045183 0.35985501 0.85820564\n",
      " 0.57696071 0.27822365 0.80098228 0.22335042]\n"
     ]
    }
   ],
   "source": [
    "import numpy as np\n",
    "\n",
    "N = 10 # number of desired random floats. \n",
    "\n",
    "x = np.random.rand(N) # this numpy function creates an array of the given shape (N) \n",
    " #and populates it with random samples from a uniform distribution over [0, 1).\n",
    "\n",
    "print(x)"
   ]
  },
  {
   "cell_type": "markdown",
   "metadata": {},
   "source": [
    "Now, We can use such arrays of random numbers to generate scatter plots.\n",
    "\n",
    "```python\n",
    "N = 1000\n",
    "x = np.random.rand(N)*100\n",
    "y = np.random.rand(N)*100 #two arrays with 1000 random numbers sampled between 0 and 100\n",
    "```\n",
    "\n",
    "And now create the scatter plot\n",
    "```python\n",
    "plt.scatter(x, y) # alpha indicates transparency of each point\n",
    "plt.xlabel('x')\n",
    "plt.ylabel('y')\n",
    "plt.title('Scatter Plot')\n",
    "```\n",
    "\n",
    "We can further customize our scatter plot by assinging a color to each point\n",
    "\n",
    "```python\n",
    "N = 1000\n",
    "x = np.random.rand(N)*100\n",
    "y = np.random.rand(N)*100 #two arrays with 1000 random numbers sampled between 0 and 100\n",
    "colors = np.random.rand(N) # This is another random list of 1000 numbers from 0 to 1 that \n",
    "                             # matplotlib will map onto a color table. \n",
    "area = (30*np.random.rand(N))**2 # randomly assigning area of each point. 0 to 15 point radii\n",
    "plt.scatter(x, y, s=area, c=colors, alpha=0.5) # alpha indicates transparency of each point\n",
    "\n",
    "plt.xlabel('x')\n",
    "plt.ylabel('y')\n",
    "plt.title('Scatter Plot with colors')\n",
    "```\n"
   ]
  },
  {
   "cell_type": "markdown",
   "metadata": {},
   "source": [
    "### Histogram\n",
    "\n",
    "Example is from the matplotlib library (https://matplotlib.org/3.1.0/gallery/statistics/hist.html).\n",
    "\n",
    "To generate a 1D histogram we only need a single vector of numbers. In this example, we plot two histograms together\n",
    "```python\n",
    "N_points = 100000\n",
    "n_bins = 20\n",
    "\n",
    "x = np.random.randn(N_points) # generate froma normal distribution, center at x=0 and y=5\n",
    "y = .4 * x + np.random.randn(100000) + 5\n",
    "\n",
    "plt.hist(x, bins=n_bins)\n",
    "plt.hist(y, bins=n_bins)\n",
    "\n",
    "```"
   ]
  },
  {
   "cell_type": "markdown",
   "metadata": {},
   "source": [
    "## 2.5.4 Components of a 'good plot'\n",
    "\n",
    "Take a look at the figure below, which shows the anatomy of a figure. It's generally a good idea to make sure that you include most of these components on every plot you make. The code and other supporting documents are available via GitHub at https://github.com/rougier/figure-anatomy. Copyright (c) 2016 Nicolas P. Rougier - MIT License). Check out the anatomy.py file to see exactly how to make this plot.\n",
    "\n",
    "![title](plot_anatomy.png)\n"
   ]
  },
  {
   "cell_type": "markdown",
   "metadata": {},
   "source": [
    "## 2.5.5 Mini Challenge\n",
    "\n",
    "Make a scatter and a linear plot in the same figure using the data provided (x and y) with approach 1. \n",
    "\n",
    "For the linear plot, use color orange for the line, and use dotted line style. \n",
    "\n",
    "For the scatter plot, use a for loop to plot the data and use 20 times the x list values for the corresponding sizes of the points. Pick 6 different colors you like and give them to the 6 points in the scatter plot.\n",
    "\n",
    "Add x and y label as \"x label\" and \"y label\"."
   ]
  },
  {
   "cell_type": "code",
   "execution_count": null,
   "metadata": {},
   "outputs": [],
   "source": [
    "# Import matplotlib\n",
    "\n",
    "\n",
    "# Data for plotting. These are two lists.\n",
    "x=[1, 2, 3, 4, 5, 6]\n",
    "y=[2, 4, 6, 8, 10, 12]\n",
    "\n",
    "\n",
    "##Make a list that contains the colors with the valuable name cs\n",
    "\n",
    "\n",
    "##Make the figure first\n",
    "\n",
    "\n",
    "##Plot the line\n",
    "\n",
    "\n",
    "# Plot the points one-by-one here with a for loop using scatter plot\n"
   ]
  },
  {
   "cell_type": "markdown",
   "metadata": {},
   "source": [
    "## Bonus 1\n",
    "\n",
    "Make four subplots (2 columns and 2 rows) to show different representations of the same set of data (provided) using approach 2.\n",
    "\n",
    "Make subplot 1 a histogram of the x values, with histrogram type 'step'. (Hint: look up the matplotlib.pyplot.hist dictionary of how to change the type of a histogram.)\n",
    "\n",
    "Subplot 2 line plot, with dashed line and red color.\n",
    "\n",
    "Subplot 3 scatter plot. Instead of plotting solid dots as from default, make them empty circles.\n",
    "\n",
    "Subplot 4 two-dimensional histogram. (Hint: look up hist2d from the matplotlib library.)\n",
    "\n",
    "Add x and y label as \"x label\" and \"y label\"."
   ]
  },
  {
   "cell_type": "code",
   "execution_count": null,
   "metadata": {},
   "outputs": [],
   "source": [
    "##import modules\n",
    "import numpy as np\n",
    "\n",
    "\n",
    "##Randomly generate a standard normal distribution.\n",
    "np.random.seed(19680801)\n",
    "data=np.random.randn(2, 100)\n",
    "x=data[0]; y=data[1]\n",
    "\n",
    "\n",
    "\n",
    "##Make the plots\n",
    "\n",
    "\n"
   ]
  },
  {
   "cell_type": "markdown",
   "metadata": {},
   "source": [
    "## Bonus 2\n",
    "\n",
    "Generate a sinusoidal curve data and a cosinusoidal curve data between 0 and 2 pi with approach 1.\n",
    "\n",
    "Plot the sine curve in orange and the cosine curve in blue. Use line width 2.\n",
    "\n",
    "Add a legend to the curves, with the sine curve as \"sine\" and cosine curve as \"cosine\". (Hint: look up matplotlib legend guide.)\n",
    "\n",
    "Add x and y label as \"x label\" and \"y label\"."
   ]
  },
  {
   "cell_type": "code",
   "execution_count": null,
   "metadata": {},
   "outputs": [],
   "source": [
    "##Make the plot here\n"
   ]
  },
  {
   "cell_type": "markdown",
   "metadata": {},
   "source": [
    "## Bonus 3\n",
    "\n",
    "In the cell below, read in the data from the data file stellar_data.dat and parse it into different lists. Using this data, plot a color-magnitude diagram by making a scatter plot of B-V color vs absolute V magnitude (M_V). Make sure to include an X and Y axis label and title on your plot, following anatomy.py."
   ]
  },
  {
   "cell_type": "code",
   "execution_count": null,
   "metadata": {},
   "outputs": [],
   "source": [
    "# Import matplotlib\n",
    "import matplotlib.pyplot as plt\n",
    "\n",
    "# Read in data here\n",
    "\n",
    "\n",
    "# Parse the data here\n",
    "\n",
    "\n",
    "# Plot the data here"
   ]
  },
  {
   "cell_type": "markdown",
   "metadata": {},
   "source": [
    "####\n",
    "\n",
    "<hr style=\"border:2px solid blue\"> </hr>\n",
    "-----------------------\n",
    "\n",
    "\n",
    "# Learning More\n",
    "\n",
    "As you start using matplotlib to visualize your own scientific data, it's likely that at some point you may have a need to plot a colormap. A word of caution regarding choosing the right colormap for your data: it is strongly recommended that you stay away from using the rainbow colormap if at all possible, because it can greatly misrepresent your data (not to mention, it's especially problematic for people who are colorblind, because they have a hard time distinguishing between red and green). Refer to this a great post to learn more about choosing colormaps: https://matplotlib.org/users/colormaps.html\n",
    "\n",
    "To further explore the capabilities of matplotlib, check out these tutorials and resource galleries:\n",
    "\n",
    "Beginner Pyplot Tutorial: https://matplotlib.org/users/pyplot_tutorial.html (Links to an external site).\n",
    "\n",
    "Scipy's matplotlib tutorial: http://www.scipy-lectures.org/intro/matplotlib/matplotlib.html (Links to an external site). \n",
    "\n",
    "Examples by Type:  If you want to explore plots by type (e.g., pie charts, animations, 3D plots), here's where to look: https://matplotlib.org/examples/index.html (Links to an external site).\n",
    "\n",
    "Matplotlib Plot Gallery: Looking for inspiration? Check out this impressive gallery: https://matplotlib.org/gallery.html (Links to an external site).\n",
    "\n",
    "Creating Publication Quality Figures (tutorial by Jean-Baptiste Mouret): https://github.com/jbmouret/matplotlib_for_papers (Links to an external site).\n",
    "\n",
    "-----------------------\n",
    "\n",
    "# Takeaways\n",
    "\n",
    " - Matplotlib is an extremely powerful package for plotting data in Python.\n",
    " - With matplotlib, you can make high-quality, publication ready figures.\n",
    " - There are two different ways of using matplotlib, and in many cases there may be multiple ways to generate the same plot. It can be confusing at first, but review many examples, and you'll get the hang of it in no time!\n",
    " \n",
    "\n",
    "\n"
   ]
  },
  {
   "cell_type": "code",
   "execution_count": null,
   "metadata": {},
   "outputs": [],
   "source": []
  }
 ],
 "metadata": {
  "kernelspec": {
   "display_name": "Python 3",
   "language": "python",
   "name": "python3"
  },
  "language_info": {
   "codemirror_mode": {
    "name": "ipython",
    "version": 3
   },
   "file_extension": ".py",
   "mimetype": "text/x-python",
   "name": "python",
   "nbconvert_exporter": "python",
   "pygments_lexer": "ipython3",
   "version": "3.8.8"
  }
 },
 "nbformat": 4,
 "nbformat_minor": 2
}
