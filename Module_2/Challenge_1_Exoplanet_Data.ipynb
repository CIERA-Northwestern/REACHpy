{
 "cells": [
  {
   "cell_type": "markdown",
   "metadata": {},
   "source": [
    "# Challenge 2 | Using Python to Analyze and Plot Exoplanet Data\n",
    "\n",
    "Imagine you're an astronomer who studies exoplanets—planets discovered outside our Solar System. In the last several years, the Kepler telescope has provided a wealth of data on new exoplanets, not to mention the exoplanets detected previously with other methods and other telescopes. It's a gold mine of data to be explored by astronomers who want to better understand the properties of these planets, such as their sizes, masses, and orbital periods around their host stars. This is your playground!\n",
    "\n",
    "In this Challenge you'll be working with a subset of exoplanet data to make a plot similar to the one shown below (Credit: NASA Ames/W. Stenzel). While astronomers have been finding exoplanets since the nineties, there has been a burst of new detections made possible by the __[Kepler Mission](https://www.nasa.gov/mission_pages/kepler/overview/index.html)__, which launched in 2009. The Kepler telescope detects planets in a special way called the transit method, whereby it monitors the brightness of stars, and watches for dips in the brightness that occur when a planet transits, or passes in front of, the star. While these brightness dips are incredibly small, Kepler can measure stars' brightness precisely to capture these transit events.\n",
    "\n",
    "![title](Kepler_planets.jpg)\n",
    "\n",
    "There several other methods for detecting planets, and to date, all method combined, astronomers have detected more than 3500 confirmed exoplanets!\n",
    "\n",
    "The __[Open Exoplanet Catalogue](http://www.openexoplanetcatalogue.com/)__ is a catalogue of all discovered exoplanets, and is available to the public and can be accessed from your browser or downloaded from Github. For this challenge, we've collected a sample of exoplanet data that you'll use to explore the sizes and orbital periods of a subset of these exoplanets. \n",
    "\n",
    "To complete this challenge, you'll do the following:\n",
    "\n",
    "> - Create and work with Python lists<br>\n",
    "> - Read in and parse data to put it into a useful format<br>\n",
    "> - Define your own functions and modules, which helps you to keep your code readable and organized<br>\n",
    "> - Create simple plots using the plotting package matplotlib<br>\n",
    "\n",
    "Here you'll be working with a set of exoplanet data to study the radii and orbital periods around the host stars for a subset of exoplanets that have been discovered over the years. We'll need to read in the data from a file, parse the data to extract what we need, write a function to do some unit conversions, and make a couple of plots. We'll guide you through creating your starter code."
   ]
  },
  {
   "cell_type": "markdown",
   "metadata": {},
   "source": [
    "## Get the Data\n",
    "\n",
    "> - Open the following file: exoplanets_subset.txt in the text editor<br>\n",
    "> - Review the comments at the top of the file to learn what data it contains<br>\n",
    "> - You're going to be using two columns of data: the planetary radius and the orbital Period of the planet, which is how long it takes the planet to complete one orbit around its star (the Earth's orbital period is 365 days) <br>\n",
    "\n",
    "## Read and Parse the Data\n",
    "\n"
   ]
  },
  {
   "cell_type": "code",
   "execution_count": 1,
   "metadata": {},
   "outputs": [],
   "source": [
    "# Open the file and read all lines using the readlines() method\n",
    "\n",
    "\n"
   ]
  },
  {
   "cell_type": "code",
   "execution_count": 3,
   "metadata": {},
   "outputs": [],
   "source": [
    "# Setup two empty lists, Rjup and Pday, to store the values of the \n",
    "# Radius and Period columns\n",
    "\n",
    "\n"
   ]
  },
  {
   "cell_type": "code",
   "execution_count": 4,
   "metadata": {},
   "outputs": [],
   "source": [
    "# Write a for loop to go through the data line-by-line, \n",
    "# and use the split method to split the entries (which are separated by spaces).\n",
    "#\n",
    "# Remember, you can use the startswith() method to skip over all the \n",
    "# comments at the beginning of the file. \n",
    "#\n",
    "# Hint: you want to read in a line only if it does not startwith the '#' sign\n",
    "#\n",
    "# For each non-comment line, use the append method to append the \n",
    "# value of the planetary radius and period for that line to the respective lists.\n",
    "\n",
    "\n",
    "\n"
   ]
  },
  {
   "cell_type": "code",
   "execution_count": 5,
   "metadata": {},
   "outputs": [],
   "source": [
    "# Print out a subset of each list and compare to the original data file \n",
    "# to make sure you've read in the data correctly \n",
    "\n",
    "\n"
   ]
  },
  {
   "cell_type": "markdown",
   "metadata": {},
   "source": [
    "## Plot the Data"
   ]
  },
  {
   "cell_type": "code",
   "execution_count": null,
   "metadata": {},
   "outputs": [],
   "source": [
    "# Create a figure with two plots (1x2, or one row, two columns), using subplots\n",
    "#\n",
    "# On the left panel, create a basic histogram of the planetary \n",
    "# radii using the hist method with 20 bins.\n",
    "#\n",
    "# On the right panel, plot the planetary radii (y-axis) \n",
    "# versus the orbital period (x-axis), using the basic plot method. \n",
    "# It should have dots as markers and no connecting lines.\n",
    "#\n",
    "# Add appropriate x- and y-labels to each of the plots\n",
    "# Here's a trick: enter the command plt.tight_layout()\n",
    "# just before plt.show() to adjust the location of your axes so \n",
    "# that all your axis labels show up beautifully!\n",
    "\n",
    "\n",
    "\n"
   ]
  }
 ],
 "metadata": {
  "kernelspec": {
   "display_name": "Python 3",
   "language": "python",
   "name": "python3"
  },
  "language_info": {
   "codemirror_mode": {
    "name": "ipython",
    "version": 3
   },
   "file_extension": ".py",
   "mimetype": "text/x-python",
   "name": "python",
   "nbconvert_exporter": "python",
   "pygments_lexer": "ipython3",
   "version": "3.6.5"
  }
 },
 "nbformat": 4,
 "nbformat_minor": 2
}
