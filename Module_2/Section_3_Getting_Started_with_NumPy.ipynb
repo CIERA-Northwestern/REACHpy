{
 "cells": [
  {
   "cell_type": "markdown",
   "metadata": {},
   "source": [
    "# Section 2.3 | Getting Started with NumPy\n",
    "\n",
    "## Why Numpy?\n",
    "\n",
    "NumPy (often pronounced \"Num-pie\") is a widely used module that is optimized to efficiently execute a variety of mathematical operations. Numpy will be extremely useful for your budding career as an astronomer because of everything it can help you do - read in and manipulate large amounts of data, quickly do simple or complex math, and much much more. While using Numpy, you will be working with  on objects called __\"arrays\"__. Arrays are similar to lists, with some key differences. Lets go over the differences between arrays and lists\n",
    "\n",
    "\n",
    "## Lists vs Arrays; Why use arrays instead of lists?\n",
    "The most important thing about arrays is that they allow you to do math operations on the whole array and/or also individual elements. We will demonstrate this utility later on! Below are some key similarities and differences between arrays and lists.\n",
    "\n",
    "__Similarities:__\n",
    "\n",
    "> Both store multiple pieces of information <br>\n",
    "> You can store different types of information as elements within them (floats, strings, lists, etc) <br>\n",
    "> Both are indexed and iterated over identically to one another <br>\n",
    "\n",
    "__Differences__:\n",
    "\n",
    "> Arrays have to be created using Numpy, whereas lists are part of Python's libraries <br>\n",
    "> You can do math on numerical elements within arrays, but __not__ lists <br>\n",
    "> All elements in arrays __must__ be of the same type\n",
    "\n",
    "You may recall that in [Module 2: Section 1](https://github.com/bueno646/CIERA-HS-Program-2021/blob/master/IDEASpy-Mike-Updates/Module_2/Section_1.ipynb) we likened lists to a row of lockers. Since both store data, but arrays allow you to do math on numerical elements, we will think of arrays as turbo charged lists."
   ]
  },
  {
   "cell_type": "markdown",
   "metadata": {},
   "source": [
    "## NumPy Arrays Basics\n",
    "At the start of a Jupyter notebook, a Python interactive session, or a any Python script, __you must always first import the package as is done below__\n",
    "\n",
    "#### Importing Numpy"
   ]
  },
  {
   "cell_type": "code",
   "execution_count": null,
   "metadata": {},
   "outputs": [],
   "source": [
    "import numpy as np"
   ]
  },
  {
   "cell_type": "markdown",
   "metadata": {},
   "source": [
    "As with other modules, it's wise to import NumPy under a distinct name, such as np (you'll see this used frequently), to avoid confusing its functions and methods with others from the math module, or with Python's built-in functions.\n",
    "\n"
   ]
  },
  {
   "cell_type": "markdown",
   "metadata": {},
   "source": [
    "### Lists vs Array revisited\n",
    "\n",
    "Earlier in this notebook (section 1.2), we mentioned three differences between arrays and lists. These differences are important to consider when thinking about the numpy's utility. As you do more complex math and have to work with larger amounts of data, Numpy will likely become a familiar tool for you because of the wide array of mathematical operations it can help you perform and how quickly it performs them. \n",
    "\n",
    "__Differences__:\n",
    "\n",
    "> Arrays have to be created using Numpy, whereas lists are part of Python's libraries <br>\n",
    "> You can do math on numerical elements within arrays, but __not__ lists <br>\n",
    "> All elements in arrays __must__ be of the same type\n",
    "\n",
    "\n",
    "Lets take a look at these differences in the code below"
   ]
  },
  {
   "cell_type": "markdown",
   "metadata": {},
   "source": [
    "#### Arrays have to be created using Numpy\n",
    "To create a simple one-dimensional array, you can provide as arguments a list object or objects (remember Python lists: x=[1, 2, 3, 4]). The list must be encased in an \"np.array\" like in the example in the cell below. "
   ]
  },
  {
   "cell_type": "code",
   "execution_count": null,
   "metadata": {},
   "outputs": [],
   "source": [
    "example_array = np.array([1, 2, 3, 4])"
   ]
  },
  {
   "cell_type": "markdown",
   "metadata": {},
   "source": [
    "#### You can do math on numerical elements within arrays, but __not__ lists\n",
    "Lets say you have a list of planetary radii (within the solar system and in meters). Lets say you quickly wanted to use those radii to calculate the area for each planet. As you may recall, the area (A) for a sphere of radius R is as follows: A = 4$\\pi$ $\\times$ $R^{2}$ \n",
    "\n",
    "Lets take a look at the code below to see what happens if we try to square the __list__ of planetary radii and then multiply it by 4$\\pi$ to get a __list__ of areas. "
   ]
  },
  {
   "cell_type": "code",
   "execution_count": null,
   "metadata": {},
   "outputs": [],
   "source": [
    "#define list of radii and planet names\n",
    "list_of_radii   = [71492000, 60268000, 25559000, 24764000, 6378000, 6052000, 3396000, 2439000, 1195000]\n",
    "list_of_planets = ['jupiter', 'saturn', 'uranus', 'neptune', 'earth', 'venus', 'mars', 'mercury', 'pluto']\n"
   ]
  },
  {
   "cell_type": "markdown",
   "metadata": {},
   "source": [
    "##### Lets try squaring the radii (before multiplying by 4$\\pi$)"
   ]
  },
  {
   "cell_type": "code",
   "execution_count": null,
   "metadata": {
    "scrolled": false
   },
   "outputs": [],
   "source": [
    "# recall that we use ** to raise a number or object to a power\n",
    "list_of_radii**2"
   ]
  },
  {
   "cell_type": "markdown",
   "metadata": {},
   "source": [
    "##### That didn't work\n",
    "lets try using an __array__ of plantary radii instead. <br>\n",
    "Pay close attention to the comments in the cell below describing the code"
   ]
  },
  {
   "cell_type": "code",
   "execution_count": null,
   "metadata": {},
   "outputs": [],
   "source": [
    "# create array here\n",
    "array_of_radii   = np.array([71492000, 60268000, 25559000, 24764000,\n",
    "                             6378000, 6052000, 3396000, 2439000, 1195000])\n",
    "\n",
    "# square the whole array\n",
    "radii_squared    = array_of_radii**2\n",
    "\n",
    "# Print the squared radii\n",
    "print(radii_squared)\n",
    "print()\n",
    "\n",
    "# Lets print the square of the first element in \"array_of_radii\" to make sure our code works as expected\n",
    "print(array_of_radii[0]**2)\n",
    "print(radii_squared[0])\n",
    "\n",
    "print(\"if the last two numbers are the same, our code worked as expected\")"
   ]
  },
  {
   "cell_type": "markdown",
   "metadata": {},
   "source": [
    "###### __Note__: You can create an array from an existing list stored in a variable with np.array( ), as done below"
   ]
  },
  {
   "cell_type": "code",
   "execution_count": null,
   "metadata": {},
   "outputs": [],
   "source": [
    "array_of_radii_note   = np.array(list_of_radii)\n",
    "\n",
    "print(array_of_radii_note)\n"
   ]
  },
  {
   "cell_type": "markdown",
   "metadata": {},
   "source": [
    "#### All elements in arrays __must__ be of the same type\n"
   ]
  },
  {
   "cell_type": "code",
   "execution_count": null,
   "metadata": {},
   "outputs": [],
   "source": [
    "# Lets try to print an array with different objects in it\n",
    "\n",
    "# what happens if we mix integers, floats, and strings in an array?\n",
    "example_array = np.array([4, 66.0,'apple'])\n",
    "print(\"this is of type\",example_array.dtype)\n",
    "print()\n",
    "\n",
    "# what happens if we mix floats and strings in an array?\n",
    "example_array = np.array([4,'apple'])\n",
    "print(\"this is of type\",example_array.dtype)\n",
    "print()\n",
    "\n",
    "# what happens if we mix floats and integers in an array?\n",
    "example_array = np.array([4,66.0])\n",
    "print(\"this is of type\",example_array.dtype)\n",
    "print()"
   ]
  },
  {
   "cell_type": "markdown",
   "metadata": {},
   "source": [
    "##### Explanation\n",
    "\n",
    "__what happens if we mix integers, floats, and strings in an array?__\n",
    "__answer:__ Python will automatically convert the objects in your array into a data type called \"U32\" where U stands for 'unicode'. Dont worry about this too much, this is just a type of string.\n",
    "\n",
    "__what happens if we mix floats and strings in an array?__\n",
    "__answer:__ Python will automatically convert the objects in your array into a data type called \"U21\" where U stands for 'unicode'. Dont worry about this too much, this is just a type of string.\n",
    "\n",
    "__what happens if we mix floats and integers in an array?__\n",
    "__answer:__ Python will automatically convert the objects in your array into a __familiar__ data type called \"float64\", which is a type of float.\n",
    "\n",
    "__main takeaway__: Make sure you are intentional about having a lone data type in your arrays, otherwise you could run into issues if the data type changes without you know!"
   ]
  },
  {
   "cell_type": "markdown",
   "metadata": {},
   "source": [
    "## Checking the length, shape, or size  of your Array\n",
    "When we covered lists, we used Python \"len\" function as follows:\n",
    "\n",
    "> Example_list = [\"pear\",\"apple\",\"cherry\"]<br>\n",
    "> print(len(example_list))\n",
    "\n",
    "Arrays have a variety of built in tools, called attributes. Array attributes allow you to extract information about the array itself. In the code block below, we will see the attribute needed to get information about the shape of your array - which will tell you the length and size of your array."
   ]
  },
  {
   "cell_type": "code",
   "execution_count": null,
   "metadata": {},
   "outputs": [],
   "source": [
    "example_array = np.array([1, 2, 3, 4])\n",
    "example_array.shape"
   ]
  },
  {
   "cell_type": "markdown",
   "metadata": {},
   "source": [
    "This array attribute is telling you that the array you created is a one-dimensional array of length 4.\n",
    "\n",
    "We can see the format (__or \"syntax\"__) for calling attributes above: Name_of_your_array.attribute\n",
    "\n",
    "There are three total array attributes we will go over:\n",
    "\n",
    "> .shape - reports the shape in the format (n , m), where n is the number of rows and m is the number of columns in your array\n",
    ">> for one dimensional arrays (such as \"example_array\" above) the  <br>\n",
    "\n",
    "> .size - reports the number of elements in an array <br>\n",
    ">> for one dimenional arrays, as stated above, this is just n. When you have 2 dimensional arrays, the size is the number of rows times the number of columns (or n x m) <br> \n",
    "\n",
    "> .dtype - reports the data-type of the array’s elements.\n",
    "\n",
    "Lets look at examples for these in the code cells below!"
   ]
  },
  {
   "cell_type": "markdown",
   "metadata": {},
   "source": [
    "#### Array Attributes: Size &  Dtype"
   ]
  },
  {
   "cell_type": "code",
   "execution_count": null,
   "metadata": {},
   "outputs": [],
   "source": [
    "example_array = np.array([1, 2, 3, 4])\n",
    "print(\"The size of this array is\",example_array.size)\n",
    "print()\n",
    "print(\"The data type for elements in this array are\", example_array.dtype)"
   ]
  },
  {
   "cell_type": "markdown",
   "metadata": {},
   "source": [
    "In the example above we see that size attribute told us the number of elements in our array - 4. In line 4, we see that the dtype attribute told us our array is composed of integer numbers. Python will automatically determine the dtype by the numbers contained in the array. \n",
    "\n"
   ]
  },
  {
   "cell_type": "markdown",
   "metadata": {},
   "source": [
    "#### 2 Dimensional example: size and shape \n",
    "Lets take a look at an example of a two dimensional array so we can see the relationship between size and shape. Specifically, we will see that size returns the product of the two numbers that shape returns - n,m."
   ]
  },
  {
   "cell_type": "code",
   "execution_count": null,
   "metadata": {},
   "outputs": [],
   "source": [
    "two_d_example_array = np.array([[1,2,3,4],[5,6,7,8]])\n",
    "print(\"Lets look at this array\")\n",
    "print(two_d_example_array)\n",
    "print(\"we can see that this array is two dimensional. n = 2 rows and m = 4 columns.\")\n",
    "print()\n",
    "print('Now lets use the shape attribute')\n",
    "print(\"the shape is\",two_d_example_array.shape)\n",
    "print(\"now lets look at the size attribute, which should be the product of two numbers above\")\n",
    "print(\"the size is\",two_d_example_array.size)"
   ]
  },
  {
   "cell_type": "markdown",
   "metadata": {},
   "source": [
    "##### Brief explanation\n",
    "As you can see, the size was the product of the rows, 2, and columns, 4!"
   ]
  },
  {
   "cell_type": "markdown",
   "metadata": {},
   "source": [
    "#### Creating an Array with a specific data type  \n",
    "You can set the data type manually when you use a \"parameter\" to define the array as done in the example below. A parameter, similar to an attribute, is a place where you can pass information into your code. In the cell below, we can see that \"np.float\" when passed into \"np.array\" will manually change the elements in that array. \n",
    "\n",
    "We won't cover all the other optional arguments, parameters, or attributes that arrays can take, but the following links may be helpful if you want to learn more:\n",
    "\n",
    "> __[Numpy Array Arguments and Paremeters](https://docs.scipy.org/doc/numpy/reference/generated/numpy.array.html)__ <br>\n",
    "> __[Numpy Array Attributes](https://numpy.org/doc/stable/reference/arrays.ndarray.html#array-attributes)__ (search for the \"array attributes\" header)\n"
   ]
  },
  {
   "cell_type": "code",
   "execution_count": null,
   "metadata": {},
   "outputs": [],
   "source": [
    "example_list = np.array([1, 2, 3, 4], np.float)"
   ]
  },
  {
   "cell_type": "markdown",
   "metadata": {},
   "source": [
    "In the cell below, do the following\n",
    "\n",
    "> Check the dtype again <br>\n",
    "> Print out the array in the cell below\n",
    "\n",
    "What do you think is different from the example under 1.4.0.1?\n",
    "\n",
    "__your answer here:__\n",
    "\n"
   ]
  },
  {
   "cell_type": "code",
   "execution_count": null,
   "metadata": {},
   "outputs": [],
   "source": [
    "example_list = np.array([1, 2, 3, 4], np.float)\n",
    "\n",
    "# Your code here\n",
    "\n",
    "\n",
    "\n"
   ]
  },
  {
   "cell_type": "markdown",
   "metadata": {},
   "source": [
    "#### Common Mistake when Making an Array "
   ]
  },
  {
   "cell_type": "markdown",
   "metadata": {},
   "source": [
    "A common mistake to avoid is calling array with multiple numeric arguments, rather than providing a single list of numbers as an argument:\n",
    "\n",
    "> example_array = np.array(1, 2, 3, 4)               # __Incorrect__\n",
    "\n",
    "> example_array = np.array([1, 2, 3, 4])             # __Correct__\n",
    "\n",
    "__note:__ In the incorrect example, there are __missing square brackets__ to let numpy know 1,2,3,4 is a list [ 1,2,3,4].\n",
    "In the __correct__ example, there are brackets around 1,2,3,4, which lets numpy know it is a list.\n",
    "\n",
    "Try out the __incorrect__ way in the cell below and see what happens."
   ]
  },
  {
   "cell_type": "code",
   "execution_count": null,
   "metadata": {},
   "outputs": [],
   "source": [
    "example_array = np.array(1, 2, 3, 4)"
   ]
  },
  {
   "cell_type": "markdown",
   "metadata": {},
   "source": [
    "You can combine multiple lists together to create two-dimensional arrays by enclosing a sequence of sequences inside another set of parentheses, separated by commas, as shown below (everything within the inner set of parentheses is to be interpreted as the actual components of the array):"
   ]
  },
  {
   "cell_type": "code",
   "execution_count": null,
   "metadata": {},
   "outputs": [],
   "source": [
    "b = np.array(([1, 2, 3, 4, 5], [6, 7, 8, 9, 10]))"
   ]
  },
  {
   "cell_type": "markdown",
   "metadata": {},
   "source": [
    "What is the shape of this array? In the cell below, try creating an array containing 4 rows and 2 columns (shape(4,2))."
   ]
  },
  {
   "cell_type": "code",
   "execution_count": null,
   "metadata": {},
   "outputs": [],
   "source": []
  },
  {
   "cell_type": "markdown",
   "metadata": {},
   "source": [
    "If you have Python lists defined, you can also convert them into a NumPy array like this:"
   ]
  },
  {
   "cell_type": "code",
   "execution_count": null,
   "metadata": {},
   "outputs": [],
   "source": [
    "list1 = [1, 2, 3, 4, 5]\n",
    "list2 = [6, 7, 8, 9, 10]\n",
    "b = np.array((list1, list2))"
   ]
  },
  {
   "cell_type": "markdown",
   "metadata": {},
   "source": [
    "Again, note the additional inner parentheses required when using a __sequence__ of lists."
   ]
  },
  {
   "cell_type": "markdown",
   "metadata": {},
   "source": [
    "### Indexing and Slicing\n",
    "\n",
    "To reference elements of a simple one-dimensional array, you can use syntax just like you used for Python lists:"
   ]
  },
  {
   "cell_type": "code",
   "execution_count": null,
   "metadata": {},
   "outputs": [],
   "source": [
    "a = np.array([2, 4, 6, 8])\n",
    "print(a[2])                # This should print out the third array element (6)\n"
   ]
  },
  {
   "cell_type": "markdown",
   "metadata": {},
   "source": [
    "When you have two-dimensional arrays, you use one index per axis, separated by a comma:"
   ]
  },
  {
   "cell_type": "code",
   "execution_count": null,
   "metadata": {},
   "outputs": [],
   "source": [
    "b = np.array(([1, 2, 3, 4, 5], [6, 7, 8, 9, 10]))\n",
    "print(b[1,4])          # This should print out the number 10"
   ]
  },
  {
   "cell_type": "markdown",
   "metadata": {},
   "source": [
    "The first index (here, 1) indicates which sequence or vector we are referencing, and the second index (here, 4) indicates which element in that vector. A three-dimensional array would require three indices to access a single element, and so on. In this course, we won't go beyond 2-D arrays, but if you want to learn more about working with N-dimensional arrays, checkout this __[tutorial](https://docs.scipy.org/doc/numpy/user/quickstart.html)__.\n",
    "\n",
    "What happens when you list just one index when referencing your two-dimensional array? \n",
    "Try it out in the cell below:"
   ]
  },
  {
   "cell_type": "code",
   "execution_count": null,
   "metadata": {},
   "outputs": [],
   "source": []
  },
  {
   "cell_type": "markdown",
   "metadata": {},
   "source": [
    "Array slicing is a bit trickier. The general syntax for a slice is \n",
    "> array[start:stop:step, start:stop:step, ...]\n",
    "\n",
    "depending on the dimensions of the array. Any or all of the values start, stop, and step may be left out (and if step is left out the colon in front of it may also be left out). Again, this syntax works similarly to Python lists, except now we may have more than one axis to reference. You may need a bit of practice to get used to how array slicing works, so here we go.\n",
    "\n"
   ]
  },
  {
   "cell_type": "markdown",
   "metadata": {},
   "source": [
    "##  Grabbing indices for an iterable object Revisited: Numpy Arrays\n",
    "\n",
    "In section 2\n",
    "We can also iterate over the indices of the list (e.g., for a list of 4 elements, or length 4, the indices are 0, 1, 2, and 3). Within the loop, we reference the items by the list name and the index variable. You may find it helpful to revist our discussion on indexing in 1.3 of [Module 2: Section 1](https://github.com/bueno646/CIERA-HS-Program-2021/blob/master/IDEASpy-Mike-Updates/Module_2/Section_2_List_Comprehensions.ipynb).  "
   ]
  },
  {
   "cell_type": "markdown",
   "metadata": {},
   "source": [
    "### Using the enumerate( ) function to access (or 'parse', 'iterate over' etc) your data\n",
    "__why should I care?__\n",
    "\n",
    "Using enumerate allows you to access your data stored in an iterable object (like an array) while also keeping track of the indices for the elements in that iterable object. Lets use an example to illustrate the utility of enumerate( )\n",
    "\n",
    "## Walkthrough: Enumerate( )\n",
    "\n",
    "__Context__:\n",
    "\n",
    "You, an astronomer, were given a data subset of 10 stellar temperatures. You find out that the instrument used to collect the data accidentally reports negative data points for some stars.\n",
    "\n",
    "__Situation__: \n",
    "\n",
    "You are going to use the enumerate( ) function to iterate over the data in your subset. You will also use conditional operators (from [Module 1: Section 4](https://github.com/bueno646/CIERA-HS-Program-2021/blob/master/IDEASpy-Mike-Updates/Module_1/Section_4_conditional_statements_and_loops.ipynb)) to check each if each data point is positive. If the data point is positive, we will add this index to a list (this list will be empty to start). We will then use that list of indices to only access the __positive__ values in our data - since the negative values are errors from our instrument."
   ]
  },
  {
   "cell_type": "markdown",
   "metadata": {},
   "source": [
    "### Stellar Temperature Data Subset\n",
    "Below is the data subset"
   ]
  },
  {
   "cell_type": "code",
   "execution_count": null,
   "metadata": {},
   "outputs": [],
   "source": [
    "stellar_data_kelvin_subset = [5600,5000,-6500,6600,3000,-5708,7000,6300,-5200,5900]\n"
   ]
  },
  {
   "cell_type": "markdown",
   "metadata": {},
   "source": [
    "### Enumerate( ) Format (or \"syntax\")\n",
    "Lets take a look at the format for the enumerate( ) function so we know how to use it correctly!\n",
    "\n",
    "There are functionally two syntaxes that are most important to know for the enumerate function - the syntax for the enumerate function itself and how it is used in loops. \n",
    "\n",
    "Lets look at the syntax of the enumerate function itself first:\n",
    "\n",
    "> enumerate(iterable_object, start_index)   # the default starting index is 0 (i.e it will start with the 0th element unless you tell it otherwise)\n",
    "\n",
    "__Note:__ \"iterable_object\" and \"start_index\" are not the actual names of the arguments that enumerate takes. They are slightly more explicit versions of the arguments that enumerate takes - \"iterable\" and \"start\". \n",
    "\n",
    "\n",
    "In the code below, lets see how that would look with an actual iterable object - like our stellar data subset. \n"
   ]
  },
  {
   "cell_type": "code",
   "execution_count": null,
   "metadata": {},
   "outputs": [],
   "source": [
    "enumerate(stellar_data_kelvin_subset)"
   ]
  },
  {
   "cell_type": "markdown",
   "metadata": {},
   "source": [
    "Executing the code cell above will produce some text on your screen that is not helpful. Lets use a loop to make enumerate more useful. When we iterate over an enumerated object (like in the code cell above) we can get __two__ objects instead of one - an index and the element corresponding to that element.\n",
    "\n",
    "Lets now look at this syntax below:\n",
    "\n",
    "> for index,element in enumerate(stellar_data_kelvin_subset): <br>\n",
    "> &nbsp; &nbsp; &nbsp;    print(\"the index is\",index) <br>\n",
    "> &nbsp; &nbsp; &nbsp;    print(\"the element at that index is\",element) <br>\n",
    "> &nbsp; &nbsp; &nbsp;    print( ) # this empty print statement will make the output of the print statements above easier to read\n",
    "\n",
    "__Note:__ our temporary variables are now \"index\" and \"element\". We could choose any name for these variables, but are using these to help remember that the two objects you get from looping over an enumerated object are the index for an element and the element itself.\n",
    "\n",
    "Lets take a look at this syntax in action. We will use the syntax above for just the first three elements, so we can see the outputs of the print statements more easily. "
   ]
  },
  {
   "cell_type": "code",
   "execution_count": null,
   "metadata": {},
   "outputs": [],
   "source": [
    "# placing subset here for your reference\n",
    "stellar_data_kelvin_subset = [5600,5000,-6500,6600,3000,-5708,7000,6300,-5200,5900]\n",
    "\n",
    "# note the slice below - we are just iterating over the first 3 objects in our subset\n",
    "for index,element in enumerate(stellar_data_kelvin_subset[:3]):\n",
    "    print(\"the index is\",index)\n",
    "    print(\"the element at that index is\",element)\n",
    "    print() # this empty print statement will make the output of the print statements above easier to read"
   ]
  },
  {
   "cell_type": "markdown",
   "metadata": {},
   "source": [
    "##### Check in:\n",
    "So far we have covered the following:\n",
    "\n",
    "> - Enumerate( ) syntax <br>\n",
    "> - Syntax for using enumerate in loops - specifically \"for\" loops \n",
    "\n",
    "Now we're going to do the following:\n",
    "\n",
    "> - add conditional statements (i.e if statements) to our for loop to check if each temperature positive\n",
    "> - for the positive temperatures, we will add the index to a list that was originally empty\n",
    "> - we will use the indices that we stored above to make a copy of the original subset that only contains stars with positive temperatures\n",
    "\n",
    "Lets get to it!\n",
    "\n",
    "__Note:__ Pay attention to the comments in the next few cells, they will make it clear about where each of the listed steps above is happening "
   ]
  },
  {
   "cell_type": "markdown",
   "metadata": {},
   "source": [
    "#### Add conditional statements to our for loop & adding it to an orginally empty list\n",
    "We are going to do the following here:\n",
    "\n",
    "> - add an if statement to check if the temperature is positive\n",
    "> - we will create (or \"define\") an empty list to store our desired indices\n",
    "> - if the temperature is positive we will save that index to our list\n"
   ]
  },
  {
   "cell_type": "code",
   "execution_count": null,
   "metadata": {},
   "outputs": [],
   "source": [
    "# placing subset here for your reference\n",
    "stellar_data_kelvin_subset = [5600,5000,-6500,6600,3000,-5708,7000,6300,-5200,5900]\n",
    "\n",
    "# Lets define our list here, with a descriptive name\n",
    "positive_indices = []\n",
    "\n",
    "for index,element in enumerate(stellar_data_kelvin_subset):\n",
    "    # Lets add our if statement here\n",
    "    if element > 0:\n",
    "        \n",
    "        # here is where we define what happens if the temperature IS positive\n",
    "        # we are appending the indices to our (orginally) empty list\n",
    "        positive_indices.append(int(index))\n",
    "        \n",
    "    else:\n",
    "        # thiss tell python to do nothing if he temperature is outside the range - just go to the\n",
    "        # next element\n",
    "        pass"
   ]
  },
  {
   "cell_type": "markdown",
   "metadata": {},
   "source": [
    "##### Lets print out the contents of \"positive_indices\" to see what it looks like\n",
    "since this is a list of positive_indices, the numbers should not be larger than 9 - since the possible indices for a list of length 10 are 0-9."
   ]
  },
  {
   "cell_type": "code",
   "execution_count": null,
   "metadata": {},
   "outputs": [],
   "source": [
    "print(positive_indices)"
   ]
  },
  {
   "cell_type": "markdown",
   "metadata": {},
   "source": [
    "##### so far, so good\n",
    "This is telling us that the 0th, 1st, 3rd, 4th, 6th, 7th and 9th elements in the list \"stellar_data_kelvin_subset\" are positive numbers.\n",
    "\n",
    "Now lets switch gears to creating a copy of the subset that contains the elements that correspond to the 0th, 1st, 3rd, 4th, 6th, 7th and 9th elements from the list \"stellar_data_kelvin_subset\"."
   ]
  },
  {
   "cell_type": "markdown",
   "metadata": {},
   "source": [
    "#### Creating a copy of the subset that is only stars with positive temperatures\n",
    "\n",
    "In module 2, section 1, we dove deep into what lists are. We introduced the following:\n",
    "\n",
    "> - How lists are created\n",
    "> - What can go into lists\n",
    "> - How to check the length of lists\n",
    "> - How to sort lists\n",
    "> - How to access one element or several element in a list (slicing)\n",
    "> - Commons ways to update a list (append, insert, pop, and remove methods)\n",
    "\n",
    "For this example we will quickly introduce another useful way to use data stored in lists. This concept is called \"fancy indexing\". \n",
    "\n",
    "__why you should care__\n",
    "\n",
    "It can often be helpful to access specific portions of an iterable object (like a list), but that would be difficult to do with slicing. Instead, we can use arrays. Arrays allow for the use of \"fancy indexing\"!\n",
    "\n",
    "In the example we have been walking through, we only want the 0th, 1st, 3rd, 4th, 6th, 7th and 9th indices. We have those indices stored in a list called \"positive_indices\". Fancy indexing allows you to use an __array__ of indices on __an array__ to __access__ only the items that correspond to the indices in the array of indices. Below is the syntax for this, using \"stellar_data_kelvin_subset\" and \"positive_indices\". First we will need to convert the lists into arrays, which can be done with the following syntax.\n",
    "\n",
    "\n",
    "\n",
    "> fancy indexing below <br>\n",
    "> positive_indices = np.array(positive_indices)\n",
    "> print(stellar_data_kelvin_array[positive_indices])\n",
    "\n",
    "we see that the array \"positive_indices\" is in square brackets next to the array it is being used with, stellar_data_kelvin_array.\n",
    "\n",
    "Lets take a look at this in action below!\n"
   ]
  },
  {
   "cell_type": "code",
   "execution_count": null,
   "metadata": {},
   "outputs": [],
   "source": [
    "# lets import numpy first\n",
    "import numpy as np\n",
    "\n",
    "# Lets convert the lists into arrays\n",
    "# First, the stellar subset\n",
    "stellar_data_kelvin_subset = [5600,5000,-6500,6600,3000,-5708,7000,6300,-5200,5900]\n",
    "stellar_data_kelvin_array = np.array(stellar_data_kelvin_subset)\n",
    "\n",
    "# Next, the list of indices has to be an array as well\n",
    "positive_indices_array = np.array(positive_indices)\n"
   ]
  },
  {
   "cell_type": "markdown",
   "metadata": {},
   "source": [
    "##### Now that we have arrays of the stellar data and sun like indices, lets put it all together!"
   ]
  },
  {
   "cell_type": "code",
   "execution_count": null,
   "metadata": {},
   "outputs": [],
   "source": [
    "print(stellar_data_kelvin_array[positive_indices_array])"
   ]
  },
  {
   "cell_type": "markdown",
   "metadata": {},
   "source": [
    "##### Recap\n",
    "\n",
    "We wanted only the stellar temperatures that were positive. We used lists, arrays, and fancy indexing to \n",
    "arrive at the code above. \n",
    "\n",
    "Lets take a look at the code above, the list of indices, and the original data subset to check that everything worked as expected. You can find this in the code block below.\n",
    "\n",
    "__note:__ fancy indexing does not __save__ or __assign__ an object unless you have it to a variable. In the example above, the code \"stellar_data_kelvin_array[positive_indices_array]\" is not saved to a variable so it is not saved anywhere - it is only created and printed here."
   ]
  },
  {
   "cell_type": "code",
   "execution_count": null,
   "metadata": {},
   "outputs": [],
   "source": [
    "# the stellar subset\n",
    "stellar_data_kelvin_subset = [5600,5000,6500,6600,3000,5708,7000,6300,5200,5900]\n",
    "\n",
    "# the list of indices\n",
    "positive_indices_array\n",
    "\n",
    "print(\"the indices for positive temperatures in the data set 'stellar_data_kelvin_subset' are\",\n",
    "      positive_indices_array)\n",
    "print()\n",
    "print(\"using fancy indexing, we get\",stellar_data_kelvin_array[positive_indices_array])"
   ]
  },
  {
   "cell_type": "markdown",
   "metadata": {},
   "source": [
    "##### Our code worked as expected! \n",
    "By taking a look at \"stellar_data_kelvin_subset\" we can see that we grabbed the correct indices in our for loop. We can also see that using arrays and fancy indexing allowed to pull the specific values we wanted from our subset.\n",
    "\n",
    "The last step would be assign these to a variable with a descriptive name. Lets take care of that below!\n"
   ]
  },
  {
   "cell_type": "code",
   "execution_count": null,
   "metadata": {},
   "outputs": [],
   "source": [
    "sun_like_temperatures = stellar_data_kelvin_array[positive_indices_array]\n",
    "print(sun_like_temperatures)"
   ]
  },
  {
   "cell_type": "markdown",
   "metadata": {},
   "source": [
    "In this example, we walked through how to use the following to conveniently select data points from larger data sets:\n",
    "\n",
    "> - lists\n",
    "> - for loops\n",
    "> - the enumerate( ) function\n",
    "> - numpy arrays and fancy indexing "
   ]
  },
  {
   "cell_type": "markdown",
   "metadata": {},
   "source": [
    "## Practice\n",
    "\n",
    "Try out the following in the cell below:\n",
    "\n",
    "> 1. Create any 2x2 array and assign it to the variable \"array_one\"<br>\n",
    "> 2. Do you know what array_one[1] will equal? Print to check.<br>\n",
    "> 3. Knowing the basic syntax for slicing, array[start:stop:step, start:stop:step, ...], can you predict the output of these slices? Take a guess first, then print each of the following to check.<br>\n",
    ">>array_one[:, 3]<br>\n",
    ">>array_one[1:4, 2:5]<br>\n",
    ">>array_one[1:, 2]<br>\n",
    ">>array_one[::2, ::-1]<br>"
   ]
  },
  {
   "cell_type": "markdown",
   "metadata": {},
   "source": [
    "## Functions for Generating Arrays\n",
    "\n",
    "Sometimes you know you want to create an array of a certain size, but you don't yet know the numbers that will fill it. Hence, NumPy offers several functions to create arrays with initial placeholder content (such as all zeros). Take a look at the output of the two examples below by assiging each line to a variable and printing it in the cell below.\n",
    "\n",
    ">np.zeros((3,4))    # creates an array of shape (3,4) filled with zeros<br>\n",
    ">np.ones((5,2))     # creates an array of shape (5,2) filled with ones<br>"
   ]
  },
  {
   "cell_type": "code",
   "execution_count": null,
   "metadata": {},
   "outputs": [],
   "source": []
  },
  {
   "cell_type": "markdown",
   "metadata": {},
   "source": [
    "Sometimes you'll want to create an array with a sequence of automatically generated numbers. This can be useful for plotting, as well as for many other applications. \n",
    "\n",
    "One way to do this is with the very useful NumPy function linspace. Most often, you'll want to provide three arguments (but there are additional arguments you can include): \n",
    ">linspace(min, max, num) \n",
    "\n",
    "The arguments min and max specify the range of linear space you want to include), and num specifies how many numbers you want to select over that space. You can leave out the third argument, and you'll get the default number of points of 50. The code snippet below shows how it works."
   ]
  },
  {
   "cell_type": "code",
   "execution_count": null,
   "metadata": {},
   "outputs": [],
   "source": [
    "np.linspace(0,10)                      # 50 (default) linearly-spaced numbers from 0 to 10\n",
    "np.linspace(0,10,200)                  # With 3 arguments, this generates 200 numbers should generated\n",
    "x = np.linspace(0, 2*np.pi, 100)       # This is helpful, for example, if you wanted to plot the sin( ) function"
   ]
  },
  {
   "cell_type": "markdown",
   "metadata": {},
   "source": [
    "Note that since we've imported NumPy previously, we can reference the value of pi with np.pi. \n",
    "\n",
    "It's very common to need to generate a bunch of random numbers, whether integers or floats. Again, NumPy has functions for that, too. \n",
    "\n",
    "> np.random.randint(5,100,20) &nbsp; &nbsp; # 1D array of 20 integers drawn uniformly over range [5,100) (excluding 100)<br>\n",
    "\n",
    "> np.random.randint(-10,10,(3,5)) &nbsp; &nbsp; # array of shape (3,5) with integers over range [5,100) (excluding 100)<br>\n",
    "\n",
    "> np.random.random(25) &nbsp; &nbsp; # 1D array of 25 floats drawn uniformly from [0,1) (excluding 1)<br>\n",
    "\n",
    "> np.random.random((3,5)) &nbsp; &nbsp; # array of shape (3,5) with floats drawn uniformly from [0,1) (excluding 1)<br>\n",
    "\n",
    "> np.random.uniform(5,20,100)    # array of 100 floats drawn from range [5,20) (excluding 20) <br>"
   ]
  },
  {
   "cell_type": "markdown",
   "metadata": {},
   "source": [
    "### Basic Array Operations\n",
    "\n",
    "As a final note, NumPy provides familiar mathematical functions such as sin, cos, and exp. In NumPy, these are called universal functions. Within NumPy, these functions operate elementwise on an array, producing an array as output. Similarly, basic arithmetic operations act elementwise on arrays, such as addition, subtraction, multiplication, division, and exponentiation. Please note that array multiplication in NumPy is not matrix multiplication (aka dot product, but this can be done via the dot function. For two arrays a and b, these operations work as follows:\n",
    "\n",
    "> np.sin(a)           &nbsp; &nbsp; &nbsp; &nbsp; # elementwise computation of the sin of each element<br>\n",
    "> a+b                 &nbsp; &nbsp; &nbsp; &nbsp; # elementwise addition of the arrays<br>\n",
    "> a&ast;&ast;3               &nbsp; &nbsp; &nbsp; &nbsp; # elementwise exponentiation of each number in the array<br>\n",
    "> a&ast;b                &nbsp; &nbsp; &nbsp; &nbsp; # elementwise multiplication of the elements of the array<br>\n",
    "> np.dot(a,b)         &nbsp; &nbsp; &nbsp; &nbsp; # matrix multiplication, or dot product, of the arrays<br>\n",
    "> a.sum()             &nbsp; &nbsp; &nbsp; &nbsp; # returns the sum of all elements of the array<br>\n",
    "> (a&ast;b).sum()         &nbsp; &nbsp; &nbsp; &nbsp; # in one step, multiply the elements of two arrays, then sum the result<br>\n",
    "> a.min()             &nbsp; &nbsp; &nbsp; &nbsp; # returns the min value of the array<br>\n",
    "> a.max()             &nbsp; &nbsp; &nbsp; &nbsp; # returns the max value of the array<br>\n",
    "> a.argmax()          &nbsp; &nbsp; &nbsp; &nbsp; # returns the index of the max value of the array<br>\n",
    "> a.std()             &nbsp; &nbsp; &nbsp; &nbsp; # returns the standard deviation of the array of numbers<br>"
   ]
  },
  {
   "cell_type": "markdown",
   "metadata": {},
   "source": [
    "## Practice\n",
    "\n",
    "In the cell below, generate an array shape (5,4) fill with random data and perform each of the operations listed above."
   ]
  },
  {
   "cell_type": "code",
   "execution_count": null,
   "metadata": {},
   "outputs": [],
   "source": []
  },
  {
   "cell_type": "markdown",
   "metadata": {},
   "source": [
    "With NumPy being as powerful as it is, we recommend that you check out the NumPy __[user guide](https://docs.scipy.org/doc/numpy/user/index.html#user)__ for a more thorough introduction. Google can often help you find what you are looking for too!\n",
    "\n",
    "## Takeaways\n",
    "\n",
    "> - There are many different ways to create arrays: np.array, np.zeroes, np.ones, np.linspace, np.random.randint, np.random.random, and several others.<br>\n",
    "> - Indexing and slicing arrays work very much the same way it does for Python lists.<br>\n",
    "> - There are tons of useful functions for operating on arrays, including doing element-wise operations, computing sums or other array-wide quantities, and more complex operations, like computing the dot product.<br>"
   ]
  }
 ],
 "metadata": {
  "kernelspec": {
   "display_name": "Python 3",
   "language": "python",
   "name": "python3"
  },
  "language_info": {
   "codemirror_mode": {
    "name": "ipython",
    "version": 3
   },
   "file_extension": ".py",
   "mimetype": "text/x-python",
   "name": "python",
   "nbconvert_exporter": "python",
   "pygments_lexer": "ipython3",
   "version": "3.8.8"
  },
  "toc": {
   "base_numbering": 1,
   "nav_menu": {},
   "number_sections": true,
   "sideBar": true,
   "skip_h1_title": false,
   "title_cell": "Table of Contents",
   "title_sidebar": "Contents",
   "toc_cell": false,
   "toc_position": {},
   "toc_section_display": true,
   "toc_window_display": false
  },
  "varInspector": {
   "cols": {
    "lenName": 16,
    "lenType": 16,
    "lenVar": 40
   },
   "kernels_config": {
    "python": {
     "delete_cmd_postfix": "",
     "delete_cmd_prefix": "del ",
     "library": "var_list.py",
     "varRefreshCmd": "print(var_dic_list())"
    },
    "r": {
     "delete_cmd_postfix": ") ",
     "delete_cmd_prefix": "rm(",
     "library": "var_list.r",
     "varRefreshCmd": "cat(var_dic_list()) "
    }
   },
   "types_to_exclude": [
    "module",
    "function",
    "builtin_function_or_method",
    "instance",
    "_Feature"
   ],
   "window_display": false
  }
 },
 "nbformat": 4,
 "nbformat_minor": 2
}
