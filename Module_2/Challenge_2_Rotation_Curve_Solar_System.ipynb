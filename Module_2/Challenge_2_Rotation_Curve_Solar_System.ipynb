{
  "cells": [
    {
      "cell_type": "markdown",
      "metadata": {
        "id": "5ySFAwstqbBg"
      },
      "source": [
        "# Rotation Curve of The Solar System\n",
        "\n",
        "## Section 1: Background\n",
        "\n",
        "![The Solar System](https://github.com/mcstroh/REACHpy/blob/ideaspy_updates/Module_2/images/theplanets.jpg?raw=1)\n",
        "\n",
        "In Module 1 Challenge 2, we learned about Kepler's laws of planetary motion, and the relationship between orbital periods and distances via Kepler's third law:\n",
        "\n",
        "\\begin{equation}\n",
        "P^2 = \\frac{4 \\pi^2}{G \\, M} a^3,\n",
        "\\end{equation}\n",
        "\n",
        "where $M$ is the mass of the central object. Another way to write that equation is in terms of the $velocity$ of an orbiting object:\n",
        "\n",
        "\\begin{equation}\n",
        "v = \\sqrt{\\frac{G \\, M}{R}},\n",
        "\\end{equation}\n",
        "\n",
        "where \n",
        " - $G$ is the Newtonian constant of gravitation, \n",
        " - $M$ is the mass of the central object, and \n",
        " - $R$ is the distance to the satellite.\n",
        "\n",
        "Since velocities are relatively easy to calculate using the `doppler shifting` of light, it is often convenient to use the latter equation. Let's make a \"rotation curve\" for the Solar System."
      ]
    },
    {
      "cell_type": "markdown",
      "metadata": {
        "id": "BotDUxNzqbBg"
      },
      "source": [
        "## Section 2: Calculating orbital velocities\n",
        "\n",
        "Let's calculate the expected rotation curve for our Solar System using the equations above. \n",
        "\n",
        "Create a function that calculates the expected velocity of a planet in the Solar System at a given radius:"
      ]
    },
    {
      "cell_type": "code",
      "execution_count": null,
      "metadata": {
        "id": "5_6ru2diqbBg"
      },
      "outputs": [],
      "source": [
        "# Create a function\n",
        "def velocity(# fill-in):\n",
        "    # fill-in\n"
      ]
    },
    {
      "cell_type": "markdown",
      "metadata": {
        "id": "Cq7QuuFUqbBg"
      },
      "source": [
        "Now create an array of orbital radii of planets orbiting the Sun (in SI units)."
      ]
    },
    {
      "cell_type": "code",
      "execution_count": null,
      "metadata": {
        "id": "5yzjnMFOqbBg"
      },
      "outputs": [],
      "source": [
        "# Create an array of radii"
      ]
    },
    {
      "cell_type": "markdown",
      "source": [
        "Use the function you created earlier to create an array of velocities of the planets orbiting the Sun."
      ],
      "metadata": {
        "id": "urxB8GqSaOgE"
      }
    },
    {
      "cell_type": "code",
      "source": [
        "# Create an array of velocities"
      ],
      "metadata": {
        "id": "pwLRyzV1aO0Y"
      },
      "execution_count": null,
      "outputs": []
    },
    {
      "cell_type": "markdown",
      "metadata": {
        "id": "69xxoqrjqbBg"
      },
      "source": [
        "Next, let's make a figure of $v$ vs. $R$ for the Solar System. Label your axes and check your units."
      ]
    },
    {
      "cell_type": "code",
      "execution_count": null,
      "metadata": {
        "id": "pQ0m7TtqqbBg"
      },
      "outputs": [],
      "source": [
        "# Create your figure"
      ]
    },
    {
      "cell_type": "markdown",
      "source": [
        "## Section 3: Comparing with the accepted values"
      ],
      "metadata": {
        "id": "4zMZ5MsXda0o"
      }
    },
    {
      "cell_type": "markdown",
      "metadata": {
        "id": "qIOLejMvqbBg"
      },
      "source": [
        "Let's see how the expected values for the velocities of the planets in our Solar System compare with the actual values. Collect both $v$ and $R$ into lists or arrays below:"
      ]
    },
    {
      "cell_type": "code",
      "execution_count": null,
      "metadata": {
        "id": "s7FGfvlsqbBg"
      },
      "outputs": [],
      "source": [
        "# Fill in \n",
        "v_accepted = "
      ]
    },
    {
      "cell_type": "markdown",
      "metadata": {
        "id": "aUTNKNUQqbBg"
      },
      "source": [
        "Add those values to the plot you created above:"
      ]
    },
    {
      "cell_type": "code",
      "execution_count": null,
      "metadata": {
        "id": "otautXB8qbBg"
      },
      "outputs": [],
      "source": [
        ""
      ]
    },
    {
      "cell_type": "markdown",
      "metadata": {
        "id": "BUck7uH-qbBg"
      },
      "source": [
        "How do the actual values compare with the measured values? Hopefully they match well! What do you notice about how the velocity changes with radius?"
      ]
    },
    {
      "cell_type": "code",
      "execution_count": null,
      "metadata": {
        "id": "RQRPzV2wqbBg"
      },
      "outputs": [],
      "source": [
        "# Comment here"
      ]
    }
  ],
  "metadata": {
    "kernelspec": {
      "display_name": "Python 3",
      "language": "python",
      "name": "python3"
    },
    "language_info": {
      "codemirror_mode": {
        "name": "ipython",
        "version": 3
      },
      "file_extension": ".py",
      "mimetype": "text/x-python",
      "name": "python",
      "nbconvert_exporter": "python",
      "pygments_lexer": "ipython3",
      "version": "3.8.5"
    },
    "colab": {
      "name": "Challenge_2_Rotation_Curve_Solar_System.ipynb",
      "provenance": []
    }
  },
  "nbformat": 4,
  "nbformat_minor": 0
}