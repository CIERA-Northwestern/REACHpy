{
  "cells": [
    {
      "cell_type": "markdown",
      "metadata": {
        "id": "5ySFAwstqbBg"
      },
      "source": [
        "# Rotation Curve of The Solar System\n",
        "\n",
        "## Section 1: Background\n",
        "\n",
        "![The Solar System](https://github.com/mcstroh/REACHpy/blob/ideaspy_updates/Module_2/images/theplanets.jpg?raw=1)\n",
        "\n",
        "In Module 1 Challenge 2, we learned about Kepler's laws of planetary motion, and the relationship between orbital periods and distances via Kepler's third law:\n",
        "\n",
        "\\begin{equation}\n",
        "P^2 = \\frac{4 \\pi^2}{G \\, M} a^3,\n",
        "\\end{equation}\n",
        "\n",
        "where $M$ is the mass of the central object. Another way to write that equation is in terms of the $velocity$ of an orbiting object:\n",
        "\n",
        "\\begin{equation}\n",
        "v = \\sqrt{\\frac{G \\, M}{R}},\n",
        "\\end{equation}\n",
        "\n",
        "where \n",
        " - $G$ is the Newtonian constant of gravitation, \n",
        " - $M$ is the mass of the central object, and \n",
        " - $R$ is the distance to the satellite.\n",
        "\n",
        "Since velocities are relatively easy to calculate using the `doppler shifting` of light, it is often convenient to use the latter equation. Let's make a \"rotation curve\" for the Solar System."
      ]
    },
    {
      "cell_type": "markdown",
      "metadata": {
        "id": "BotDUxNzqbBg"
      },
      "source": [
        "## Section 2: Calculating orbital velocities\n",
        "\n",
        "Let's calculate the expected rotation curve for our Solar System using the equations above. \n",
        "\n",
        "Create a function that calculates the expected velocity of a planet in the Solar System at a given radius:"
      ]
    },
    {
      "cell_type": "code",
      "execution_count": null,
      "metadata": {
        "id": "5_6ru2diqbBg"
      },
      "outputs": [],
      "source": [
        "# Create a function\n",
        "import numpy as np\n",
        "\n",
        "# Quantities we need\n",
        "G = 6.67430e-11 # m^3 / kg / s^2\n",
        "M_sun = 1.989e30 # kg\n",
        "\n",
        "def velocity(r):\n",
        "    return np.sqrt(G * M_sun / r) # Returns in m/s as long as radius is given in meters.\n"
      ]
    },
    {
      "cell_type": "markdown",
      "metadata": {
        "id": "Cq7QuuFUqbBg"
      },
      "source": [
        "Now create an array of orbital radii of planets orbiting the Sun (in SI units)."
      ]
    },
    {
      "cell_type": "code",
      "execution_count": null,
      "metadata": {
        "id": "5yzjnMFOqbBg",
        "outputId": "f7021d09-49d2-4917-c4b9-bdcdc9f0c54d",
        "colab": {
          "base_uri": "https://localhost:8080/"
        }
      },
      "outputs": [
        {
          "output_type": "stream",
          "name": "stdout",
          "text": [
            "[5.790e+10 1.082e+11 1.496e+11 2.280e+11 7.785e+11 1.432e+12 2.867e+12\n",
            " 4.515e+12]\n"
          ]
        }
      ],
      "source": [
        "# Create an array of radii\n",
        "r = np.array([  57.9, # Mercury\n",
        "               108.2, # Venus\n",
        "               149.6, # Earth\n",
        "               228.0, # Mars\n",
        "               778.5, # Jupiter\n",
        "              1432.0, # Saturn\n",
        "              2867.0, # Uranus\n",
        "              4515.0  # Neptune\n",
        "              ])\n",
        "\n",
        "# Unit conversion\n",
        "r *= 1e9 # 1e6 km => m\n",
        "print(r)"
      ]
    },
    {
      "cell_type": "markdown",
      "source": [
        "Use the function you created earlier to create an array of velocities of the planets orbiting the Sun."
      ],
      "metadata": {
        "id": "urxB8GqSaOgE"
      }
    },
    {
      "cell_type": "code",
      "source": [
        "# Create an array of velocities\n",
        "velocities = velocity(r)\n",
        "\n",
        "print(velocities)"
      ],
      "metadata": {
        "id": "pwLRyzV1aO0Y",
        "outputId": "7385c5bd-f516-40b8-e48c-e71d1b52fd1f",
        "colab": {
          "base_uri": "https://localhost:8080/"
        }
      },
      "execution_count": null,
      "outputs": [
        {
          "output_type": "stream",
          "name": "stdout",
          "text": [
            "[47882.95801633 35027.29685479 29788.89932051 24129.75041858\n",
            " 13058.42938621  9628.28072942  6804.65963477  5422.3978097 ]\n"
          ]
        }
      ]
    },
    {
      "cell_type": "markdown",
      "metadata": {
        "id": "69xxoqrjqbBg"
      },
      "source": [
        "Next, let's make a figure of $v$ vs. $R$ for the Solar System. Label your axes and check your units."
      ]
    },
    {
      "cell_type": "code",
      "execution_count": null,
      "metadata": {
        "id": "pQ0m7TtqqbBg",
        "outputId": "148f4eea-8fb0-4a37-e9eb-fc57b4ac1351",
        "colab": {
          "base_uri": "https://localhost:8080/",
          "height": 301
        }
      },
      "outputs": [
        {
          "output_type": "execute_result",
          "data": {
            "text/plain": [
              "Text(0.5, 0, 'Radii (10^12 m)')"
            ]
          },
          "metadata": {},
          "execution_count": 4
        },
        {
          "output_type": "display_data",
          "data": {
            "text/plain": [
              "<Figure size 432x288 with 1 Axes>"
            ],
            "image/png": "[encoded data removed]"
          },
          "metadata": {
            "needs_background": "light"
          }
        }
      ],
      "source": [
        "# Create your figure\n",
        "from matplotlib import pyplot as plt\n",
        "%matplotlib inline\n",
        "\n",
        "# Slight adjustments for units\n",
        "plt.plot(r/1e12, velocities/1e3, linestyle='', marker='.')\n",
        "plt.ylabel('Velocity (km/s)')\n",
        "plt.xlabel('Radii (10^12 m)')\n"
      ]
    },
    {
      "cell_type": "markdown",
      "source": [
        "## Section 3: Comparing with the accepted values"
      ],
      "metadata": {
        "id": "4zMZ5MsXda0o"
      }
    },
    {
      "cell_type": "markdown",
      "metadata": {
        "id": "qIOLejMvqbBg"
      },
      "source": [
        "Let's see how the expected values for the velocities of the planets in our Solar System compare with the actual values. Collect both $v$ and $R$ into lists or arrays below:"
      ]
    },
    {
      "cell_type": "code",
      "execution_count": null,
      "metadata": {
        "id": "s7FGfvlsqbBg"
      },
      "outputs": [],
      "source": [
        "# Fill in \n",
        "v_accepted = np.array([47.4, # Mercury\n",
        "                       35.0, # Venus\n",
        "                       29.8, # Earth\n",
        "                       24.1, # Mars\n",
        "                       13.1, # Jupiter\n",
        "                        9.7, # Saturn\n",
        "                        6.8, # Uranus\n",
        "                        5.4  # Neptune\n",
        "                       ])\n",
        "\n",
        "# Unit conversion km/s => m/s\n",
        "v_accepted *= 1.e3"
      ]
    },
    {
      "cell_type": "markdown",
      "metadata": {
        "id": "aUTNKNUQqbBg"
      },
      "source": [
        "Add those values to the plot you created above:"
      ]
    },
    {
      "cell_type": "code",
      "execution_count": null,
      "metadata": {
        "id": "otautXB8qbBg",
        "outputId": "74db43f2-c455-47e0-cb25-83d6d1c2be3b",
        "colab": {
          "base_uri": "https://localhost:8080/",
          "height": 301
        }
      },
      "outputs": [
        {
          "output_type": "execute_result",
          "data": {
            "text/plain": [
              "Text(0.5, 0, 'Radii (10^12 m)')"
            ]
          },
          "metadata": {},
          "execution_count": 6
        },
        {
          "output_type": "display_data",
          "data": {
            "text/plain": [
              "<Figure size 432x288 with 1 Axes>"
            ],
            "image/png": "[encoded data removed]"
          },
          "metadata": {
            "needs_background": "light"
          }
        }
      ],
      "source": [
        "# Slight adjustments for units\n",
        "plt.plot(r/1e12, v_accepted/1e3, linestyle='', marker='.', color='red')\n",
        "plt.plot(r/1e12, velocities/1e3, linestyle='', marker='.', color='blue')\n",
        "plt.ylabel('Velocity (km/s)')\n",
        "plt.xlabel('Radii (10^12 m)')"
      ]
    },
    {
      "cell_type": "markdown",
      "metadata": {
        "id": "BUck7uH-qbBg"
      },
      "source": [
        "How do the actual values compare with the measured values? Hopefully they match well! What do you notice about how the velocity changes with radius?"
      ]
    },
    {
      "cell_type": "code",
      "execution_count": null,
      "metadata": {
        "id": "RQRPzV2wqbBg"
      },
      "outputs": [],
      "source": [
        "# Comment here"
      ]
    }
  ],
  "metadata": {
    "kernelspec": {
      "display_name": "Python 3",
      "language": "python",
      "name": "python3"
    },
    "language_info": {
      "codemirror_mode": {
        "name": "ipython",
        "version": 3
      },
      "file_extension": ".py",
      "mimetype": "text/x-python",
      "name": "python",
      "nbconvert_exporter": "python",
      "pygments_lexer": "ipython3",
      "version": "3.8.5"
    },
    "colab": {
      "name": "Challenge_2_Rotation_Curve_Solar_System.ipynb",
      "provenance": []
    }
  },
  "nbformat": 4,
  "nbformat_minor": 0
}