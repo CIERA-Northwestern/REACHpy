{
 "cells": [
  {
   "cell_type": "code",
   "execution_count": null,
   "metadata": {},
   "outputs": [],
   "source": [
    "### Running in Google Colab? You'll want to uncomment and run these cell once each time you start this notebook.\n",
    "\n",
    "\"\"\"\n",
    "!wget https://raw.githubusercontent.com/psheehan/CIERA-HS-Program/master/BonusProblems/Module2/HRstars.csv\n",
    "\"\"\""
   ]
  },
  {
   "cell_type": "markdown",
   "metadata": {},
   "source": [
    "*Modified from the CIERA IDEAS program python notes (https://github.com/IDEASpy/IDEASpy) and from notes by G. Besla, P. Pinto, E. Hayati (https://github.com/gurtina/P105A_2019)* "
   ]
  },
  {
   "cell_type": "markdown",
   "metadata": {},
   "source": [
    "## Hertzsprung-Russell Diagram\n",
    "\n",
    "In this activity, you are going to make one of the most important tools in Astronomy, a Hertzprung-Russell (H-R) Diagram. H-R Diagrams plot the temperature of a star against how bright a star is (i.e. it's \"luminosity\"). They are tremendously useful for studying many aspects of stars because, as it turns out, different types of stars fall in specific places on an H-R Diagram.\n",
    "\n",
    "The file \"HRstars.csv\" contains the temperature (in Kelvin; first column) and the luminosity (in solar luminosity; second column) of a set of stars. Use numpy loadtxt to read the data file and extract the appropriate data as separate variables. "
   ]
  },
  {
   "cell_type": "code",
   "execution_count": null,
   "metadata": {},
   "outputs": [],
   "source": [
    "##Import Modules\n",
    "\n",
    "\n",
    "##Read data from file. Use delimiter = ','\n",
    "data = np.loadtxt('', delimiter=',')  ##fill in the blank\n",
    "\n",
    "temperature = data[]\n",
    "luminosity = data[]\n"
   ]
  },
  {
   "cell_type": "markdown",
   "metadata": {},
   "source": [
    "Now that you've loaded the data, make a plot showing temperature vs. luminosity for the stars in this dataset. Make sure to label your axes properly!"
   ]
  },
  {
   "cell_type": "code",
   "execution_count": null,
   "metadata": {},
   "outputs": [],
   "source": [
    "##Import Modules\n",
    "\n",
    "##Plot the data\n",
    "fig, ax = plt.subplots(nrows=1, ncols=1)\n",
    "\n",
    "##Make title and x, y labels. \n",
    "##X label: Temperature (K), Y label: Luminosity (Lsun)\n",
    "##Title: HR Diagram\n"
   ]
  },
  {
   "cell_type": "markdown",
   "metadata": {},
   "source": [
    "Now, we're going to make some adjustments to your plot. H-R diagrams are traditionally plotted with temperature increasing from right to left. Also, you might notice that a lot of the data points are crowded around zero. This is because the luminosities and temperatures of stars span many \"orders of magnitude\" (i.e. factors of 10). One way to nicely deal with this is to change the axes to a log scale. Make a new version of your above plot, but now reverse the x-axis and make both axes have a logarithmic scale:"
   ]
  },
  {
   "cell_type": "code",
   "execution_count": null,
   "metadata": {},
   "outputs": [],
   "source": []
  },
  {
   "cell_type": "markdown",
   "metadata": {},
   "source": [
    "Now lets add some color! Hotter stars are bluer and colder stars are redder, so lets use a color map called 'RdYlBu' for the colors of the points. (_Hint_: The ax.scatter function allows you to change the colors of the points based on an array of input values. If the color map goes from red at small values to blue at large values, what array should we give the scatter function to map colors properly?)"
   ]
  },
  {
   "cell_type": "code",
   "execution_count": null,
   "metadata": {},
   "outputs": [],
   "source": [
    "cm = plt.cm.get_cmap('RdYlBu')  ##This is the color map for the stars\n",
    "\n"
   ]
  },
  {
   "cell_type": "markdown",
   "metadata": {},
   "source": [
    "Finally, the size of a star depends on two properties, it's temperature and size. Hotter stars are brighter, but it also turns out bigger stars are brighter because they have more surface area to emit light from. Let's incorporate information about the size of stars in our plot. Use this equation \n",
    "\n",
    "\\begin{equation} \n",
    "\\frac{L}{L_{\\odot}}=(\\frac{R}{R_{\\odot}})^2(\\frac{T}{T_{\\odot}})^4 \n",
    "\\end{equation} \n",
    "\n",
    "with\n",
    "\n",
    "\\begin{equation} T_{\\odot} = 5780 K \\end{equation}\n",
    "\n",
    "to approximate the sizes of the points representing the stars. (_Hint_: The scatter function also allows you to specify the size of points based on an array of input values.)"
   ]
  },
  {
   "cell_type": "code",
   "execution_count": null,
   "metadata": {},
   "outputs": [],
   "source": [
    "##Approximate the sizes of the stars with the equation above and multiply them by 15.\n",
    "Tsun=5780.\n",
    "sstar=15*   ##Fill in the blank\n",
    "\n"
   ]
  },
  {
   "cell_type": "markdown",
   "metadata": {},
   "source": [
    "What do you notice about the stars in your H-R Diagram? The features you see in this diagram correspond to different types of stars, as you can see in the H-R Diagram shown below (_Note_: Double click on this cell to edit and remove the \"\\<!--\" and \"\\-->\" below to see the image). Each of these different types of stars correspond to interesting physics that happens at different points in the lifetime of stars. The \"main sequence\" is where stars live during the vast majority of their life, while they are fusing Hydrogen as a source of fuel. \"Giant\" stars are what you get when stars near the end of their lives. Though the exact physics is too complicated for this simple notebook (though do feel free to ask an instructor, if interested!), in short, stars near the end of their lives start burning a huge amount of fuel in a short amount of time, causing them to swell up and get very large and bright. But because they are so large, their surfaces also cool down some. Finally, white dwarfs are what is left over when a giant star can no longer hold on to most of this material at large radii when the star is swollen, and so is left with a super hot core. But because they are small (about the size of Earth!), they aren't very bright.\n",
    "\n",
    "<!--\n",
    "<img src=\"eso0728c.jpg\">\n",
    "-->"
   ]
  },
  {
   "cell_type": "code",
   "execution_count": null,
   "metadata": {},
   "outputs": [],
   "source": []
  }
 ],
 "metadata": {
  "kernelspec": {
   "display_name": "Python 3",
   "language": "python",
   "name": "python3"
  },
  "language_info": {
   "codemirror_mode": {
    "name": "ipython",
    "version": 3
   },
   "file_extension": ".py",
   "mimetype": "text/x-python",
   "name": "python",
   "nbconvert_exporter": "python",
   "pygments_lexer": "ipython3",
   "version": "3.8.5"
  }
 },
 "nbformat": 4,
 "nbformat_minor": 2
}
