{
 "cells": [
  {
   "cell_type": "markdown",
   "metadata": {},
   "source": [
    "# Section 2.2 | Loops and List Comprehension\n",
    "\n",
    "Let's go a bit further with Python lists and see how we can use them to create for loops. You may remember \"for loops\" from [Module 1: Section 4](https://github.com/bueno646/CIERA-HS-Program-2021/blob/master/IDEASpy-Mike-Updates/Module_1/Section_4_conditional_statements_and_loops.ipynb). We will also introduce \"list comprehension\", how they can simplify your life, and how we can read data from files into lists.\n",
    "\n",
    "__why should you care about list comprehensions__: They allow for you to both quickly access (or \"parse\") data stored in lists and to write more condensed code! \n",
    "\n",
    "## For Loops Refresher\n",
    "\n",
    "In Module 1, you learned to construct for loops to repeat a series of steps over a predefined number of times, e.g., for each item x in example_list where example_list contains 4 items [Module 1: Section 4](https://github.com/bueno646/CIERA-HS-Program-2021/blob/master/IDEASpy-Mike-Updates/Module_1/Section_4_conditional_statements_and_loops.ipynb). Another way to repeat a sequence of steps is through a for loop, in which you repeat (or \"iterate\") over a predefined sequence, such as a Python list. As a reminder, here is the general structure for a for loop:\n",
    "\n",
    "> example_list = [2,4,6,8]\n",
    "> for temporary_variable in example_list:<br>\n",
    "> &nbsp; &nbsp; &nbsp;    print(temporary_variable)\n",
    "\n",
    "Try running this code in the cell below!"
   ]
  },
  {
   "cell_type": "code",
   "execution_count": null,
   "metadata": {},
   "outputs": [],
   "source": [
    "example_list = [2,4,6,8] \n",
    "\n",
    "for temporary_variable in example_list:\n",
    "    \n",
    "    print(temporary_variable)"
   ]
  },
  {
   "cell_type": "markdown",
   "metadata": {},
   "source": [
    "__Explanation__:<br>\n",
    "\"temporary_variable\" in the cell above is a variable the for loop uses as it goes through the items in the sequence \"example_list\". Starting with the 0th element in example_list, the int 2, the for loop saves this element as \"temporary_variable\". The for loop then does what we tell it to - print \"temporary_variable\" in line 5. After this temporary_variable is printed, the for loop starts over again with the next element in example_list - the int 4 - being saved as the \"temporary_variable\" because there are no other commands after the print statement. Everything under line 3 in the cell above is repeated for each item in \"example_list\".\n"
   ]
  },
  {
   "cell_type": "markdown",
   "metadata": {},
   "source": [
    "### Quick note on variable names\n",
    "It is important to be careful with the different names you use in your code! It can be helpful to name your variables in a way that helps prevent you from accidently reusing variables later on! Unknowningly reusing a  variable that you used earlier can lead to bugs in your code that can be difficult to find! In our example from above, the temporary variable \"temporary_variable\" will remain assigned to the last element in the python list it was iterating over. Run the cell below to see for yourself!"
   ]
  },
  {
   "cell_type": "code",
   "execution_count": null,
   "metadata": {},
   "outputs": [],
   "source": [
    "print(temporary_variable)"
   ]
  },
  {
   "cell_type": "markdown",
   "metadata": {},
   "source": [
    "##  Grabbing indices for an iterable object\n",
    "\n",
    "We can also iterate over the indices of the list (e.g., for a list of 4 elements, or length 4, the indices are 0, 1, 2, and 3). Within the loop, we reference the items by the list name and the index variable. You may find it helpful to revist our discussion on indexing in 1.3 of [Module 2: Section 1](https://github.com/bueno646/CIERA-HS-Program-2021/blob/master/IDEASpy-Mike-Updates/Module_2/Section_2_List_Comprehensions.ipynb).  "
   ]
  },
  {
   "cell_type": "markdown",
   "metadata": {},
   "source": [
    "### Accessing (or 'parse', 'iterate over' etc) your data\n",
    "__why should I care?__\n",
    "\n",
    "Lists are powerful objects because they provide an easily accessible place to store your data. A key feature of lists is that you can write code to access the data stored in them quickly, instead of writing many lines of code. Using range( ), len( ), and for loops allows you to quickly access your day. It is also often helpful to keep track of indices while we are iterating over the data. \n",
    "\n",
    "##  Walkthrough: Using the range( ), len( ), and for loops to access (or 'parse', 'iterate over' etc) your data\n",
    "\n",
    "__Context__:\n",
    "\n",
    "You, an astronomer, are given a data set of 1000 stellar temperatures. Within those stellar temperatures, you want to make a subset of sun like stars - stars with temperatures between 5300 K and 6000 K. Before you try your code on the entire data set, you want to try it on a smaller portion of this data (a 'subset') - 10 data points. \n",
    "\n",
    "__Situation__: \n",
    "\n",
    "You are going to use the enumerate( ) function to iterate over the data in your subset. You will also use conditional operators (from [Module 1: Section 4](https://github.com/bueno646/CIERA-HS-Program-2021/blob/master/IDEASpy-Mike-Updates/Module_1/Section_4_conditional_statements_and_loops.ipynb)) to check each data point if between 5300 K and 6000 K. If the data point is within this temperature range, we will add this index to a list (this list will be empty to start). We will then use that list of indices _to make a copy of the subset that is __only__ sun like stars_."
   ]
  },
  {
   "cell_type": "markdown",
   "metadata": {},
   "source": [
    "### Using Range(  ) and len( ) to grab indices\n",
    "We can quickly grab indices for a list using two  functions: len() and range(). \n",
    "\n",
    "Here is a brief explanation of the range function and the len function.\n",
    "\n",
    "__Brief Explanation__:<br>\n",
    "> range(max_number) : returns an __iterable__ object consisting of numbers from 0 up to max_number minus 1<br>\n",
    "> len(iterable_object) : returns the number of items in an __iterable__ object (like a __list__)\n",
    "\n",
    "__Note:__ folks often refer to the output of the len( ) function as \"the length of an object\" instead of \"the number of items\".\n",
    "\n",
    "Lets gets more familiar with both functions with examples!"
   ]
  },
  {
   "cell_type": "markdown",
   "metadata": {},
   "source": [
    "#### Range( ) example"
   ]
  },
  {
   "cell_type": "code",
   "execution_count": null,
   "metadata": {},
   "outputs": [],
   "source": [
    "range(10)  # this is the iterable object\n",
    "\n",
    "## Lets use a for loop on this object to see what is in it\n",
    "\n",
    "for ii in range(10):\n",
    "    print (ii)"
   ]
  },
  {
   "cell_type": "markdown",
   "metadata": {},
   "source": [
    "__Range Example Explanation__: <br>\n",
    "As noted in 1.2.1, the range function return an iterable object consisting of the number 0 up to the max_number (10 in this) minus 1. The outputs of 1.2.2 confirm this, as we see 0-9 printed.\n",
    "\n"
   ]
  },
  {
   "cell_type": "markdown",
   "metadata": {},
   "source": [
    "#### Len( ) example"
   ]
  },
  {
   "cell_type": "code",
   "execution_count": null,
   "metadata": {},
   "outputs": [],
   "source": [
    "# length of a list with three objects in it\n",
    "fruit_list = ['apple','orange','cherry']\n",
    "\n",
    "print(\"our fruit list has length:\",len(fruit_list))\n",
    "\n",
    "# it even works if your list is empty\n",
    "empty_list = []\n",
    "\n",
    "print()\n",
    "print(\"the length of my empty list is:\", len(empty_list))"
   ]
  },
  {
   "cell_type": "markdown",
   "metadata": {},
   "source": [
    "#### Where does the len( ) fit in?\n",
    "As we reviewed earlier, the len function will tell you the length of an iterable object. We can use the length of the iterable object with the range function to have access to the indices of the elements in an iterable object.\n",
    "\n",
    "__Why should I care?__\n",
    "\n",
    "With the indices of an iterable object like a list, you can change the elements of that list! This could be helpful in a variety of situations. For example, imagine you were given a data subset of 10 stellar temperatures. You find out that the instrument used to collect the data accidentally reports negative data points for some stars. You can use a for loop to iterate over the list of stellar temperatures while also using range and len (as we will show with an example) to have the indices on hand. Then, you can use a conditional statement to check if an element is negative. If it is, you can use code like this to clean up your data set!\n",
    "\n",
    "Example\n",
    "> if star_temp < 0: <br>\n",
    "> &nbsp; &nbsp; &nbsp; star_temp_list.pop(element_index)    #this removes the negative temperature!\n",
    "\n",
    "\n",
    "Lets go through an example __with just three elements__ to show how range( ), len ( ), and for loops work together in this way!\n",
    "\n",
    "__note:__ Pay close attention to the comments in the following code blocks!"
   ]
  },
  {
   "cell_type": "code",
   "execution_count": null,
   "metadata": {},
   "outputs": [],
   "source": [
    "# Below is the data subset\n",
    "stellar_data_kelvin_subset = [5600,5000,-6500,6600,3000,-5708,7000,6300,-5200,5900]\n",
    "\n",
    "\n",
    "for element_index in range(len(stellar_data_kelvin_subset[:3])):\n",
    "    print(\"the loop is on index #:\", element_index)\n",
    "    print(\"The element at this index is:\",stellar_data_kelvin_subset[element_index])\n",
    "    print()"
   ]
  },
  {
   "cell_type": "markdown",
   "metadata": {},
   "source": [
    "#### Example explanation\n",
    "Let's take a close look at __line 5__ of the example:\n",
    "\n",
    "> for element_index in range(len(stellar_data_kelvin_subset[:3])):\n",
    "\n",
    "Lets list what is going on here:\n",
    "\n",
    "> - First, the len(stellar_data_kelvin_subset[:3]) returns the length of the slice of the list. In this case, it is length 3\n",
    "> - Next, range(len(stellar_data_kelvin_subset[:3])) works as if the code was written as range(3) __because__ len(stellar_data_kelvin_subset[:3]) returns the integer 3\n",
    ">> - The fact that the range function is not inclusive is crucial here. range(3) is now an iterable object that returns the following integers: 0, 1, and 2\n",
    "\n",
    "Lets pause a second to simplify the original for loop statement \"for element_index in range(len(stellar_data_kelvin_subset[:3]))\" \n",
    "\n",
    "> original: for element_index in range(len(stellar_data_kelvin_subset[:3])) <br>\n",
    "> simplified: for element_index in range(3):\n",
    "\n",
    "Now lets continue to break down the simplified version!\n",
    "\n",
    "> - range(3) is an iterable object that returns the following integers: 0, 1, and 2\n",
    "> - Therefore, 0 is the first integer that will be saved to the temporary variable \"element_index\", followed by 1 and 2\n",
    ">> - __important__ the integers 0, 1, and 2 are __also__ the indices for a list containing 3 objects\n",
    ">> - For example, fruit_list = ['cherry', 'apple', 'orange] is a list containing 3 objects and therefore has indices 0 (the 0th element is'cherry'), 1 (the 1st element is 'apple'), and lastly 2 (the 2nd element is 'orange') \n",
    "\n",
    "Lets move on to the next stage, what happens after the first integer \"0\" is stored to the temporary variable \"element_index\"? Lets look at the next two print statements, reproduced below, to close out this explanation\n",
    "\n",
    "> print(\"the loop is on index #:\", element_index) <br> \n",
    "> print(\"The element at this index is:\",stellar_data_kelvin_subset[element_index])\n",
    "\n",
    "The first print statement just prints the contents of the temporary variable \"element_index\", which would be the integer \"0\" at first\n",
    "\n",
    "The second print statement __uses__ element_index to access an element in the list \"stellar_data_kelvin_subset\" because element_index is in square brackets next to the list - i.e stellar_data_kelvin_subset[element_index] \n",
    "\n"
   ]
  },
  {
   "cell_type": "markdown",
   "metadata": {},
   "source": [
    "##### Now that we can use range( ), len( ),  and for loops to access list elements, lets take it a step further!\n",
    "In the \"why should I care\" for this section, we talked about an example where you would have to remove negative star temperatures. Now lets actually remove the negative values using the data subset from above and also building on the for loop we used earlier\n",
    "\n",
    "See the code below and pay attention to the comments for an explanation!"
   ]
  },
  {
   "cell_type": "code",
   "execution_count": null,
   "metadata": {},
   "outputs": [],
   "source": [
    "# Below is the data subset\n",
    "stellar_data_kelvin_subset = [5600,5000,-6500,6600,3000,-5708,7000,6300,-5200,5900]\n",
    "\n",
    "# Lets print the original list for reference\n",
    "\n",
    "print(\"The unaltered list is \", stellar_data_kelvin_subset)\n",
    "print()\n",
    "\n",
    "# we will use this list later\n",
    "storage_list = []\n",
    "\n",
    "for element_index in range(len(stellar_data_kelvin_subset)):\n",
    "    \n",
    "    # lets use a conditional statement to check if the temperature is negative\n",
    "    if stellar_data_kelvin_subset[element_index] < 0:\n",
    "        \n",
    "        # lets use an informative print statement for learning purposes\n",
    "        print(\"I found a negative number at index\", element_index)\n",
    "        print ()\n",
    "        \n",
    "        # now that we have an index, we can save the values we want to get rid of later\n",
    "        storage_list.append(stellar_data_kelvin_subset[element_index])\n",
    "        \n",
    "        \n",
    "        \n",
    "# now lets iterate over our list of stored indices and remove the negative values!\n",
    "for negative_value in storage_list:\n",
    "    stellar_data_kelvin_subset.remove(negative_value)\n",
    "        \n",
    "# Lets print our updated list now\n",
    "print(\"after removing negatives, our list is:\", stellar_data_kelvin_subset)"
   ]
  },
  {
   "cell_type": "markdown",
   "metadata": {},
   "source": [
    "##### Recap\n",
    "\n",
    "We wanted only positive stellar temperatures. We used lists, for loops, range( ), and len( ) to arrive at the code outputs above. \n",
    "\n",
    "Lets take a look at the code above, the list of indices, and the original data subset to check that everything worked as expected. You can find this in the code block below."
   ]
  },
  {
   "cell_type": "markdown",
   "metadata": {},
   "source": [
    "In this example, we walked through how to use the following to conveniently select data points from larger data sets:\n",
    "\n",
    "> - lists\n",
    "> - for loops\n",
    "> - len( ) and range( )\n"
   ]
  },
  {
   "cell_type": "markdown",
   "metadata": {},
   "source": [
    "## List comprehension\n",
    "\n",
    "List comprehension is a way to write code with fewer lines (or \"leaner\" code). Comprehensions are a powerful tool for doing operations on lists or even to create new lists. Essentially, list comprehensions allow you to use for loops on lists with fewer lines of code!\n",
    "\n",
    "__Why you should care__\n",
    "\n",
    "Often, writing code with fewer lines can be more easy to read and more efficient for your computer to process. \n",
    "\n",
    "\n",
    "### Walkthrough: Unit Conversions\n",
    "\n",
    "Lets say you are given a list of the masses of 4 objects in kilograms. You find out that you need the objects in grams.  \n",
    "\n",
    "__Note__: we can convert from kilograms to grams by multiplying by 1000!\n",
    "\n",
    "Let's see how we can write a for loop via list comprehension to help us out here!"
   ]
  },
  {
   "cell_type": "code",
   "execution_count": null,
   "metadata": {},
   "outputs": [],
   "source": [
    "data_kilograms_ = [2, 4, 6, 8]\n",
    "\n",
    "# Prints the items in the list without need for a for loop\n",
    "print(\"in kilograms\",[item for item in data_kilograms_])  \n",
    "print()\n",
    "\n",
    " # This will print each item multiplied by 1000\n",
    "print(\"in grams\",[item*1000 for item in data_kilograms_])   "
   ]
  },
  {
   "cell_type": "markdown",
   "metadata": {},
   "source": [
    "And, another way to do the exact same thing, by iterating over the indices of the list:"
   ]
  },
  {
   "cell_type": "code",
   "execution_count": null,
   "metadata": {},
   "outputs": [],
   "source": [
    "data_kilograms_ = [2, 4, 6, 8]\n",
    "print(\"in kilograms\",[data_kilograms_[i] for i in range(len(data_kilograms_))])\n",
    "print(\"in kilograms\",[data_kilograms_[i]*1000 for i in range(len(data_kilograms_))])"
   ]
  },
  {
   "cell_type": "markdown",
   "metadata": {},
   "source": [
    "List comprehension can be a bit trickier to understand because it's compressing the code down to the bare minimum; that's also the power of list comprehension, and why it's worth understanding it well."
   ]
  },
  {
   "cell_type": "markdown",
   "metadata": {},
   "source": [
    "## Your turn! Using Lists and List Comprehensions\n",
    "\n",
    "__Situation:__ \n",
    "You, an astronomer, have been giving a list of distance of the nearest stars (exlcuding the sun) in __light years (Ly)__. \n",
    "\n",
    "__Task:__\n",
    "You will using loops, list comprehensions, and mathematical operations to convert the distances from __light years (Ly)__ to __parsecs (P)__\n",
    "\n",
    "__Hint__: 1 Ly = 0.306601 pc\n",
    "\n",
    "__Note__: Pay close attention to the comments for detailed instructions"
   ]
  },
  {
   "cell_type": "code",
   "execution_count": null,
   "metadata": {},
   "outputs": [],
   "source": [
    "# List nearest stars distances in light years\n",
    "distances_ly = [4.2, 4.2, 4.4, 5.9, 7.8]\n",
    "\n",
    "# By the way, the names of these stars nearest stars are:\n",
    "# (1) Proxima Centauri, (2) Alpha Centauri A, (3) Alpha Centauri B, \n",
    "# (4) Barnard's Star and (5) Wolf 359\n",
    "# Alpha Cen A and B are technically part of a single star system\n",
    "\n",
    "# Conversion factor - from ly to pc\n",
    "ly_to_pc = 0.306601\n",
    "\n"
   ]
  },
  {
   "cell_type": "code",
   "execution_count": null,
   "metadata": {},
   "outputs": [],
   "source": [
    "# Write a FOR LOOP to print each star distance in units of pc using the conversion factor above\n",
    "for FILL IN CODE\n",
    "    FILL IN CODE \n",
    "    "
   ]
  },
  {
   "cell_type": "code",
   "execution_count": null,
   "metadata": {},
   "outputs": [],
   "source": [
    "# Now, print off the distances in units of pc again, but this time using LIST COMPREHENSION\n",
    "print('distances in pc:', FILL IN CODE)\n",
    "\n"
   ]
  },
  {
   "cell_type": "markdown",
   "metadata": {},
   "source": [
    "##### In the above code, we printed the converted values, but we didn't SAVE the converted values\n"
   ]
  },
  {
   "cell_type": "code",
   "execution_count": null,
   "metadata": {},
   "outputs": [],
   "source": [
    "# Using a FOR LOOP, create a NEW list to store the distances in pc, called distances_pc\n",
    "distances_pc = FILL IN CODE    # must first create the new empty list\n",
    "for i in FILL IN CODE:   # here we set up temp variable i for iterating\n",
    "    FILL IN CODE    # hint: use append\n",
    "\n"
   ]
  },
  {
   "cell_type": "code",
   "execution_count": null,
   "metadata": {},
   "outputs": [],
   "source": [
    "# Alternatively, we can change the values of our original list so that all values are in pc\n",
    "for i in FILL IN CODE:\n",
    "    distances_ly[i] = FILL IN CODE\n",
    "\n",
    "\n",
    "\n",
    "\n",
    "\n",
    "\n"
   ]
  },
  {
   "cell_type": "markdown",
   "metadata": {},
   "source": [
    "##### Print out the new list distances_pc and the modified distances array\n",
    "##### They SHOULD be identical!"
   ]
  },
  {
   "cell_type": "code",
   "execution_count": null,
   "metadata": {},
   "outputs": [],
   "source": [
    "print('distances_pc =', FILL IN CODE)\n",
    "print('distances in pc =', FILL IN CODE)"
   ]
  },
  {
   "cell_type": "markdown",
   "metadata": {},
   "source": [
    "##### Now, perform the same two tasks using LIST COMPREHENSION"
   ]
  },
  {
   "cell_type": "code",
   "execution_count": null,
   "metadata": {},
   "outputs": [],
   "source": [
    "# First, let's reset back to our original list in light years\n",
    "distances_ly = [4.2, 4.2, 4.4, 5.9, 7.8]\n",
    "\n",
    "# Using LIST COMPREHENSION, create a NEW list to store the distances in pc, called distances_pc\n",
    "distances_pc = FILL IN CODE"
   ]
  },
  {
   "cell_type": "code",
   "execution_count": null,
   "metadata": {},
   "outputs": [],
   "source": [
    "# Using LIST COMPREHENSION, change the values of our original list so that all values are in pc\n",
    "distances = FILL IN CODE"
   ]
  },
  {
   "cell_type": "markdown",
   "metadata": {},
   "source": [
    "##### Lastly print out the new list distances_pc and the modified distances array\n",
    "##### Again, they SHOULD be identical!"
   ]
  },
  {
   "cell_type": "code",
   "execution_count": null,
   "metadata": {},
   "outputs": [],
   "source": [
    "print('dis_lytances_pc =', FILL IN CODE)\n",
    "print('distances in pc =', FILL IN CODE)"
   ]
  },
  {
   "cell_type": "markdown",
   "metadata": {},
   "source": [
    "## Takeaways\n",
    "> - You can use for loops, range( ), and len( ) to grab indices for list. This can be helpful for a variety of tasks, such as cleaning up data!\n",
    "> - List comprehension are a powerful tool for writing cleaner and more concise code"
   ]
  },
  {
   "cell_type": "code",
   "execution_count": null,
   "metadata": {},
   "outputs": [],
   "source": []
  }
 ],
 "metadata": {
  "kernelspec": {
   "display_name": "Python 3",
   "language": "python",
   "name": "python3"
  },
  "language_info": {
   "codemirror_mode": {
    "name": "ipython",
    "version": 3
   },
   "file_extension": ".py",
   "mimetype": "text/x-python",
   "name": "python",
   "nbconvert_exporter": "python",
   "pygments_lexer": "ipython3",
   "version": "3.8.8"
  },
  "toc": {
   "base_numbering": 1,
   "nav_menu": {},
   "number_sections": true,
   "sideBar": true,
   "skip_h1_title": false,
   "title_cell": "Table of Contents",
   "title_sidebar": "Contents",
   "toc_cell": false,
   "toc_position": {},
   "toc_section_display": true,
   "toc_window_display": false
  },
  "varInspector": {
   "cols": {
    "lenName": 16,
    "lenType": 16,
    "lenVar": 40
   },
   "kernels_config": {
    "python": {
     "delete_cmd_postfix": "",
     "delete_cmd_prefix": "del ",
     "library": "var_list.py",
     "varRefreshCmd": "print(var_dic_list())"
    },
    "r": {
     "delete_cmd_postfix": ") ",
     "delete_cmd_prefix": "rm(",
     "library": "var_list.r",
     "varRefreshCmd": "cat(var_dic_list()) "
    }
   },
   "types_to_exclude": [
    "module",
    "function",
    "builtin_function_or_method",
    "instance",
    "_Feature"
   ],
   "window_display": false
  }
 },
 "nbformat": 4,
 "nbformat_minor": 2
}
