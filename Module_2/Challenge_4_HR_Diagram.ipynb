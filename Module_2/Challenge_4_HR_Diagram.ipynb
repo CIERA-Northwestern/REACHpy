{
  "cells": [
    {
      "cell_type": "code",
      "execution_count": null,
      "metadata": {
        "id": "GvBWg6ErOXL0"
      },
      "outputs": [],
      "source": [
        "# Running in Google Colab? Run this cell\n",
        "!wget https://raw.githubusercontent.com/CIERA-Northwestern/REACHpy/main/Module_2/data/HRstars.csv\n",
        "\n",
        "# If you're not running in Colab, this file should be in the data directory.\n",
        "# Change the loading path of the file to include 'data/' when the file is loaded"
      ]
    },
    {
      "cell_type": "markdown",
      "metadata": {
        "id": "pnu3_HX9OXL0"
      },
      "source": [
        "# The Hertzsprung-Russell Diagram\n",
        "\n",
        "## Section 1: Background\n",
        "\n",
        "In this activity, you are going to make one of the most important tools in Astronomy, a Hertzprung-Russell (HR) diagram. HR diagrams show the relationship between the temperature of a star and a star's luminosity. These diagrams are tremendously useful for studying stars because, different types of stars fall in specific places on an HR diagram.\n",
        "\n"
      ]
    },
    {
      "cell_type": "markdown",
      "source": [
        "## Section 2: Loading data\n",
        "\n",
        "The file `HRstars.csv` contains data for a set of stars arranged in two columns:\n",
        " - the temperature (in Kelvin) and \n",
        " - the luminosity (in solar luminosities).\n",
        "\n",
        "Use `numpy` to read the data file and extract the appropriate data as separate variables. Since this is a comma separated value file, you will need to use `delimiter=','` in your call to `loadtxt`. "
      ],
      "metadata": {
        "id": "fT511BCsP4Wk"
      }
    },
    {
      "cell_type": "code",
      "execution_count": null,
      "metadata": {
        "id": "pPE0drnbOXL0"
      },
      "outputs": [],
      "source": [
        "# Read in file using loadtxt"
      ]
    },
    {
      "cell_type": "markdown",
      "metadata": {
        "id": "1nqNxsenOXL0"
      },
      "source": [
        "## Section 3: Plotting the stellar data\n",
        "\n",
        "Use `scatter` to plot the data with temperature along the x-axis and luminosity against the y-axis.\n",
        "\n",
        "Give your figure the title 'HR Diagram' and label your axes correctly."
      ]
    },
    {
      "cell_type": "code",
      "execution_count": null,
      "metadata": {
        "id": "rx-2WTZWOXL0"
      },
      "outputs": [],
      "source": [
        "# Plot the data\n",
        "\n",
        "# Create title\n",
        "\n",
        "# Create x, y labels with units. \n"
      ]
    },
    {
      "cell_type": "markdown",
      "metadata": {
        "id": "KG2r7o-1OXL0"
      },
      "source": [
        "## Section 4: Adjusting your figure\n",
        "\n",
        "We're going to make some adjustments to your plot. HR diagrams are traditionally plotted with temperature increasing from right to left. \n",
        "\n",
        "Typically, you can adjust your figure's domain by using `plt.xlim([x1, x2])` by adjusting `x1` and `x2` to fit the region you want. \n",
        "Then, reverse the axis by placing a high value for `x1` and a lower value for `x2`. \n",
        "Replot your data and play with different values of `x1` and `x2` until you are happy with the values decreasing from left to right."
      ]
    },
    {
      "cell_type": "code",
      "execution_count": null,
      "metadata": {
        "id": "NTVLWqzKOXL0"
      },
      "outputs": [],
      "source": [
        "# Replot data - you can copy from above\n",
        "\n",
        "# Change limits\n",
        "plt.xlim([,])"
      ]
    },
    {
      "cell_type": "markdown",
      "source": [
        "Also, you might notice that a lot of the data points are crowded around near temperature=5000 K and luminosity = 0. This often occurs in astronomy because values span many \"orders of magnitude\" (i.e. factors of 10). \n",
        "\n",
        "One way to nicely deal with this is to change the axes to a log scale (`plt.xscale('log')` and `plt.yscale('log')`). Create a new version of your figure that uses logarithmic scaling for both axes. You may need to adjust the domain of the figure you chose in the previous step."
      ],
      "metadata": {
        "id": "HHGNJWvSWSzU"
      }
    },
    {
      "cell_type": "code",
      "source": [
        "# Replot data\n",
        "\n",
        "# Change to logarithmic scales"
      ],
      "metadata": {
        "id": "UJ1skCmjXm9Q"
      },
      "execution_count": null,
      "outputs": []
    },
    {
      "cell_type": "markdown",
      "source": [
        "You have created a standard HR diagram that you would find in any textbook."
      ],
      "metadata": {
        "id": "b2tE69FjYz-8"
      }
    },
    {
      "cell_type": "markdown",
      "source": [
        "## Section 5: Adding color"
      ],
      "metadata": {
        "id": "19OicpMkXncg"
      }
    },
    {
      "cell_type": "markdown",
      "metadata": {
        "id": "t-0lknj1OXL0"
      },
      "source": [
        "Lets add some color! Hotter stars are bluer and colder stars are redder, so lets use a color map called `RdYlBu` for the colors of the points. \n",
        "\n",
        "The `scatter` function allows you to change the colors of the points based on an array of input values. Use the `c` and `cmap` arguments in the `scatter` function to add color to your HR diagram. Refer to [Plotting with Matplotlib](https://github.com/CIERA-Northwestern/REACHpy/blob/main/Module_2/Section_3_Plotting_with_Matplotlib.ipynb) notebook for examples of using `scatter`.\n",
        "\n",
        "Play around with the mapping until your hottest stars are blue and coldest stars are red.\n",
        " \n",
        "*Hint: Since our temperatures span orders of magnitude, instead of giving your temperature values directly to `c`, you may want to give the `log10` of the temperature values to `c`.*"
      ]
    },
    {
      "cell_type": "code",
      "execution_count": null,
      "metadata": {
        "id": "plNo1p1eOXL0"
      },
      "outputs": [],
      "source": [
        "cm = plt.cm.get_cmap('RdYlBu')  ##This is the color map for the stars"
      ]
    },
    {
      "cell_type": "markdown",
      "source": [
        "## Section 6: Taking it to the next level"
      ],
      "metadata": {
        "id": "BV464L9bfRiI"
      }
    },
    {
      "cell_type": "markdown",
      "metadata": {
        "id": "A1yR_QL9OXL0"
      },
      "source": [
        "Hotter stars are brighter, but it also turns out bigger stars are brighter because they have more surface area to emit light from. A fundamental relationship in astronomy relates a star's luminosity, radius, and temperature. \n",
        "\n",
        "\\begin{equation} \n",
        "\\frac{L}{L_{\\odot}}=\\Big(\\frac{R}{R_{\\odot}}\\Big)^2\\Big(\\frac{T}{T_{\\odot}}\\Big)^4 \n",
        "\\end{equation} \n",
        "\n",
        "with $T_{\\odot}$ = 5780 K.\n",
        "\n",
        "Note that your data points already express the luminosity in solar luminosities $L_{\\odot}$. \n",
        "\n",
        "Solve for $\\frac{R}{R_{\\odot}}$ using the data already provided.\n",
        "\n",
        "The scatter function also allows you to specify the size of points based on an array of input values.\n",
        "\n"
      ]
    },
    {
      "cell_type": "code",
      "execution_count": null,
      "metadata": {
        "id": "9VXE6UWBOXL0"
      },
      "outputs": [],
      "source": [
        "# Approximate the sizes of the stars with the equation above and multiply them by 15.\n",
        "T_sun=5780. # K\n",
        "r_star=15. * # Fill in the blank"
      ]
    },
    {
      "cell_type": "markdown",
      "source": [
        "Add `s=r_star` to your scatter argument to change the size of the stars in your figure to be representative of the size of the actual stars."
      ],
      "metadata": {
        "id": "hZz1Q5Ajqndg"
      }
    },
    {
      "cell_type": "code",
      "source": [
        "# Replot the data including size argument"
      ],
      "metadata": {
        "id": "sDzexNblqn8w"
      },
      "execution_count": null,
      "outputs": []
    },
    {
      "cell_type": "markdown",
      "metadata": {
        "id": "OwH4Z3K2OXL0"
      },
      "source": [
        "What do you notice about the stars in your H-R Diagram? The features you see in this diagram correspond to different types of stars, as you can see in the HR diagram shown below.\n",
        "\n",
        "!['HR diagram'](https://github.com/CIERA-Northwestern/REACHpy/blob/main/Module_2/images/eso0728c.jpg?raw=1)\n",
        "\n",
        "Each of these different types of stars correspond to interesting physics that happens at different points in the lifetime of stars. The \"main sequence\" is where stars live during the vast majority of their life, while they are fusing Hydrogen as a source of fuel. \"Giant\" stars are what you get when stars near the end of their lives. Though the exact physics is too complicated for this lesson, in short, stars near the end of their lives start burning a huge amount of fuel in a short amount of time, causing them to swell up and get very large and bright. But because the stars are so large, their surfaces also cool down some. \n",
        "\n",
        "Finally, white dwarfs are the remnants of an old giant star when it can no longer produce nuclear reactions. Since they are small (about the size of Earth!), they aren't very bright.\n"
      ]
    }
  ],
  "metadata": {
    "kernelspec": {
      "display_name": "Python 3",
      "language": "python",
      "name": "python3"
    },
    "language_info": {
      "codemirror_mode": {
        "name": "ipython",
        "version": 3
      },
      "file_extension": ".py",
      "mimetype": "text/x-python",
      "name": "python",
      "nbconvert_exporter": "python",
      "pygments_lexer": "ipython3",
      "version": "3.8.5"
    },
    "colab": {
      "provenance": []
    }
  },
  "nbformat": 4,
  "nbformat_minor": 0
}
