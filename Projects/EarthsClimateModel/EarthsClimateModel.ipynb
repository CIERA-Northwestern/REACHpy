{
 "cells": [
  {
   "cell_type": "code",
   "execution_count": null,
   "metadata": {
    "id": "0GwfVYuIEo4H"
   },
   "outputs": [],
   "source": [
    "### Running in Google Colab? You'll want to uncomment and run these cell once each time you start this notebook.\n",
    "\n",
    "\"\"\"\n",
    "!pip uninstall cftime --yes\n",
    "!pip install cftime==1.2.1\n",
    "!pip install nc-time-axis\n",
    "!pip install netcdf4\n",
    "!wget https://github.com/psheehan/CIERA-HS-Program/blob/master/Projects/EarthsClimateModel/tas_Amon_CESM1-WACCM_rcp85_r2i1p1_200601-209912.nc?raw=true\n",
    "!mv tas_Amon_CESM1-WACCM_rcp85_r2i1p1_200601-209912.nc?raw=true tas_Amon_CESM1-WACCM_rcp85_r2i1p1_200601-209912.nc\n",
    "!apt-get install libproj-dev proj-data proj-bin\n",
    "!apt-get install libgeos-dev\n",
    "!pip uninstall shapely cartopy --yes\n",
    "!pip install shapely cartopy --no-binary shapely --no-binary cartopy\n",
    "\"\"\""
   ]
  },
  {
   "cell_type": "markdown",
   "metadata": {
    "id": "aFvrsCuaEo4H"
   },
   "source": [
    "# _Welcome to Earth_\n",
    "\n",
    "\n",
    "\n",
    "## In this module, we'll take the space exploration a little bit closer to home: Earth. \n",
    "\n"
   ]
  },
  {
   "cell_type": "markdown",
   "metadata": {
    "id": "ei98qbjxEo4I"
   },
   "source": [
    "<img src=\"2015_epic_earthmoonstill.jpg\">"
   ]
  },
  {
   "cell_type": "markdown",
   "metadata": {
    "id": "NsfMFSRnEo4I"
   },
   "source": [
    "image from NASA (https://explorer1.jpl.nasa.gov/galleries/earth-from-space/#gallery-16)"
   ]
  },
  {
   "cell_type": "markdown",
   "metadata": {
    "id": "sWI2G1vrEo4I"
   },
   "source": [
    "# What makes the Earth unique?\n",
    "\n",
    "\n",
    "The easiest answer? Us. \n",
    "\n",
    "Humankind has perfectly evolved to thrive in this climate. Arguably, the main components that support this life is the atmospheric composition and the temperatures we experience because of it.\n",
    "\n",
    "\n",
    "# Atmospheric Composition\n",
    "\n",
    "\n",
    "The Earth has this unique atmosphere that allows for life to thrive. The air we breathe is made up of many elements, mainly: nitrogen (78.09%) and oxygen (20.95%). The remaining >1% of the atmosphere is made up of other trace gases like carbon dioxide ($CO_2$), methane ($CH_4$), and water vapor ($H_2O_v$). \n",
    "\n",
    "You've probably heard of these molecules before -- water, $CO_2$, and $CH_4$ are famous greenhouse gases. Though you've probably heard of greenhouse gases, the definition is:\n",
    "\n",
    "**Greenhouse gas:** A gas that absorbs infared energy thus trapping heat.\n",
    "\n",
    "These greenhouse gases are actually necessary for life -- without these gases trapping heat in our atmosphere, we'd experience immensely cooler temperatures. This can be explained with some basic physics principles.\n",
    "\n",
    "1. Above 0 Kelvin (or absolute zero), molecules in an object are moving. Therefore, all objects above 0 Kelvin emit radiation. This includes the Sun and the Earth!\n",
    "\n",
    "\n",
    "2. The radiation ($E$) an object gives off is proportional to its absolute temperature ($T$), as described in the Stefan-Boltzman Law:\n",
    "    $$E = \\sigma T^4 $$ where $\\sigma$ is a constant such that: $\\sigma = 5.67*10^{-8} W/m^2$.\n",
    "    If an object completely absorbs and emits radiation, it's what we call a **black body.**\n",
    "\n",
    "\n",
    "3. The relationship between the object's temperature ($T$) and wavelength ($\\lambda$) is called Wien's Law:\n",
    "    $$ \\lambda = c/T $$\n",
    "    where $c$ is a constant such that: $c = 2897 \\mu m * K$. The wavelength an object emits is what we percieve as the color of the object. The sun emits at a high temperature, so we see the the incoming light in the visible spectrum -- the sun glows yellow, so let's say it's emitting at 570 $nm$. The Earth emits radiation at a lower temperature in the infrared (50 $\\mu m$), so we can't actually see the outgoing radiation. \n",
    "    \n",
    "\n",
    "After rearranging the Stefan-Boltzmann law, we can rearrange the equation to relate stars and black body planets temperatures to: \n",
    "\n",
    "$$ T_{planet} = T_{star} * \\sqrt { R_{sun}/{(2*a_{star-planet}) }}$$\n",
    "\n",
    "\n",
    "With the sun radius of 696,340 km ($696*10^6 m$) and a = 149,598,000 km ($149*10^9 m)$\n",
    "    \n",
    "\n",
    "**Question 1: what is the temperature of the Sun's surface? What is the temperature of the Earth's surface?** \n",
    "\n",
    "Hint: rearrange Stefan-Boltzman and Wien's law with the information you know about the sun and Earth's peak spectra\n",
    "\n",
    "Hint 2: If you're still struggling -- Google stefan-boltzmann surface temperature of the sun! (My advice for all problems you can't figure out) "
   ]
  },
  {
   "cell_type": "code",
   "execution_count": null,
   "metadata": {
    "id": "0QDwpSIyEo4J"
   },
   "outputs": [],
   "source": []
  },
  {
   "cell_type": "markdown",
   "metadata": {
    "id": "yybAlU_cEo4J"
   },
   "source": [
    "**Question 2: Look up the average temperature of the Earth's surface. Do your answers match? Why or why not?**"
   ]
  },
  {
   "cell_type": "code",
   "execution_count": null,
   "metadata": {
    "id": "ntbSMvj5Eo4J"
   },
   "outputs": [],
   "source": []
  },
  {
   "cell_type": "markdown",
   "metadata": {
    "id": "47ckUDtKEo4J"
   },
   "source": [
    "So....\n",
    "\n",
    "\n",
    "These were leading questions obvioulsy to make you think about the power of that >1% atmosphere. Greenhouse gases are essential to making these temperatures habitable on Earth! What you just solved for was the 1-dimensional average temperature of the Earth if we did not have an atmosphere. But we do ... so it gets more complicated. "
   ]
  },
  {
   "cell_type": "markdown",
   "metadata": {
    "id": "mw86AGJwEo4J"
   },
   "source": [
    "\n",
    "<img src=\"1965_TIROS9_NOAA_lib.jpg\">"
   ]
  },
  {
   "cell_type": "markdown",
   "metadata": {
    "id": "19wOnFmzEo4K"
   },
   "source": [
    "image from NASA (https://explorer1.jpl.nasa.gov/galleries/earth-from-space/#gallery-6)"
   ]
  },
  {
   "cell_type": "markdown",
   "metadata": {
    "id": "OrmkDu0NEo4K"
   },
   "source": [
    "# One-dimensional to three\n",
    "\n",
    "The previous exercise gave you a 1-D view of the Earth. But we know that the Earth is a sphere which causes all sorts of fun problems, like the uneven distribution of sunlight as compared to the equators and the north pole. \n",
    "\n",
    "<img src=\"latitude_and_sunlight_large.jpg\">\n",
    "\n",
    "From: http://www.geo.mtu.edu/KeweenawGeoheritage/Lake/Temperature_files/latitude_and_sunlight_large.jpg\n",
    "\n",
    "Solar warming is generally greater at the equator where the sun shines directly and much less at the poles where the sun is low in the sky.  Surfaces that are perpendicular to the sun’s ray path heat faster than those at an angle.  This differential heating is passed on to the air above by conduction which causes air expansion and changes in pressure. Wind is the result of pressure changes in the atmosphere.  Any shoreline is a wind machine, because of solar heating effects.\n",
    "\n",
    "**Question 3: Using your background knowledge, how would you describe the weather at the equator? (More than just temperatures ...)** "
   ]
  },
  {
   "cell_type": "markdown",
   "metadata": {
    "id": "LuV7Q6LMEo4K"
   },
   "source": []
  },
  {
   "cell_type": "markdown",
   "metadata": {
    "id": "wnCHopWfEo4K"
   },
   "source": [
    "This differing temperature thus forces air parcels to move, and then the Earth's rotation creates a deflection on these parcels, giving us atmospheric circulation patterns. \n",
    "\n",
    "The basic principle comes from the ideal gas law:\n",
    "$$ PV = nRT $$\n",
    "Where P = Pressure (atm), V = volume (liters), n = number moles of gas, T = temperature of gas (Kelvin), R = constant, 0.0821 L * atm * K^-1 * mol^-1\n",
    "\n",
    "<img src=\"GeneralCirculation.jpg\">\n",
    "\n",
    "From: https://history.aip.org/climate/xGenCirc.htm\n",
    "\n",
    "\n",
    "**Here is a video explainer of this figure if you do not understand the figure, the last 2 minutes are particularly useful for the next two questions:**\n",
    "\n",
    "\n",
    "https://www.youtube.com/watch?v=ebjKyoQ6YoE"
   ]
  },
  {
   "cell_type": "markdown",
   "metadata": {
    "id": "pExGdvotEo4K"
   },
   "source": [
    "**Question 4: Looking at the figure above, how does the atmospheric circulation converge at the equator (0 degrees)? Think about where the air is going ... what it's bringing ...** \n"
   ]
  },
  {
   "cell_type": "markdown",
   "metadata": {
    "id": "20NKXHPbEo4L"
   },
   "source": []
  },
  {
   "cell_type": "markdown",
   "metadata": {
    "id": "GHkMbit9Eo4L"
   },
   "source": [
    "**Question 5: How about at 30 degrees? Looking at a map, what significant features are found on the 30th latitude? (Hint look to Africa....) Can you explain why this may be happening, given what you know about the way the ideal gas law works and the atmospheric circulation patterns?** "
   ]
  },
  {
   "cell_type": "markdown",
   "metadata": {
    "id": "NBkn7E5HEo4L"
   },
   "source": []
  },
  {
   "cell_type": "markdown",
   "metadata": {
    "id": "kZ-FZuVHEo4L"
   },
   "source": [
    "Unfortunately this perfect circulation model does not work across the entire planet -- think about the temperature of Ireland and Canada -- they're found on the same latitude, but one is so much warmer than the other!\n",
    "\n",
    "Looking at the Earth as a simple cell does not perfectly explain our climate situation -- it would if we were an Aquaplanet without land (orthographic) scale features and a uniform depth in the ocean -- but obviously, our planet is way more complicated than that. And that's why we can't just use the Stefan-Boltzmann and ideal gas law to explain our climate! They are very useful and provide a part of the story about our climate, however, our mathematical models need to integrate the nuance of oceanic circulation, orthographic features, and clouds! As a result, we go look at far more complicated models -- climate models -- in order to better estimate what's happening in our environment."
   ]
  },
  {
   "cell_type": "markdown",
   "metadata": {
    "id": "93oDilaEEo4L"
   },
   "source": [
    "# Intro to Climate Models\n",
    "\n",
    "To reiterate, the energy on Earth comes from the sun, so incoming light -- or radiation, as I'll call it for the rest of this -- is key to controlling temperature. The ultimate amount of warming potential found in the earth is controlled by three knobs:\n",
    "\n",
    "> 1. Incoming radiation: Amount of sunlight reaching Earth -- influenced by sun spots, the distance of the sun to the Earth\n",
    " \n",
    "> 2. Albedo: Amount of reflectivity on Earth's surface -- what kind of landcover is on the planet\n",
    "\n",
    "> 3. Gases that absorb longwave radiation: levels of greenhouse gas concentrations in the atmosphere  trap heat\n",
    "\n",
    "If you change any of these three knobs, you change the climate because you change the radiation balance that we're in!\n",
    "\n",
    "\n",
    "Climate models use this radiation balance to solve the energy balance, but there's also a mass balance that it must solve. This is stolved through the Navier-Stokes equation ... and it's not pretty.\n",
    "\n",
    "\\begin{equation}\n",
    "\\frac{\\partial (\\rho u_{i})}{\\partial t} + \\frac{\\partial[\\rho u_{i}u_{j}]}{\\partial x_{j}} = -\\frac{\\partial p}{\\partial x_{i}} + \\frac{\\partial \\tau_{ij}}{\\partial x_{j}} + \\rho f_{i} \\end{equation}\n",
    "\n",
    "Basically, we're balancing the flow of fluid motion and balancing the speed, pressure, temperature and density of the gases in the atmosphere and the water in the ocean.\n",
    "\n",
    "BUT DON'T WORRY -- I'm not having you solve for this equation. I have model data which has already done this for you! A climate model simultaneously solves for the energy and mass balance over a sphere, giving us an incredible tool to study the atmosphere and climate.\n",
    "\n"
   ]
  },
  {
   "cell_type": "markdown",
   "metadata": {
    "id": "q5IKsqO1Eo4M"
   },
   "source": [
    "## Making Plots with Climate Model Output\n",
    "\n",
    "For this assignment, you are tasked with creating a Python plot of Climate Model Intercomparison Project CMIP data. CMIP is a standard experimental framework for studying the output of coupled atmosphere-ocean general circulation models. This facilitates assessment of the strengths and weaknesses of climate models which can enhance and focus the development of future models. For example, if the models indicate a wide range of values either regionally or globally, then scientists may be able to determine the cause(s) of this uncertainty.\n",
    "\n",
    "## Task:  Your assignment is to plot the average global temperature in the year 2066 using whatver map projection you'd like to use.\n",
    "\n",
    "The CMIP file is called: tas_Amon_CESM1-WACCM_rcp85_r2i1p1_200601-209912.nc\n",
    "\n",
    "Recommended libraries: xarray, netCDF4, cartopy, matplotlib.pyplot, numpy, pandas "
   ]
  },
  {
   "cell_type": "code",
   "execution_count": null,
   "metadata": {
    "id": "7zyC0QJCEo4M",
    "outputId": "ee521160-510a-4463-ad44-e0b6cf86558a"
   },
   "outputs": [
    {
     "ename": "ModuleNotFoundError",
     "evalue": "No module named 'xarray'",
     "output_type": "error",
     "traceback": [
      "\u001b[0;31m---------------------------------------------------------------------------\u001b[0m",
      "\u001b[0;31mModuleNotFoundError\u001b[0m                       Traceback (most recent call last)",
      "\u001b[0;32m<ipython-input-1-afa3affde0bc>\u001b[0m in \u001b[0;36m<module>\u001b[0;34m\u001b[0m\n\u001b[1;32m      2\u001b[0m \u001b[0;32mimport\u001b[0m \u001b[0mcartopy\u001b[0m\u001b[0;34m.\u001b[0m\u001b[0mcrs\u001b[0m \u001b[0;32mas\u001b[0m \u001b[0mccrs\u001b[0m\u001b[0;34m\u001b[0m\u001b[0;34m\u001b[0m\u001b[0m\n\u001b[1;32m      3\u001b[0m \u001b[0;32mimport\u001b[0m \u001b[0mmatplotlib\u001b[0m\u001b[0;34m.\u001b[0m\u001b[0mpyplot\u001b[0m \u001b[0;32mas\u001b[0m \u001b[0mplt\u001b[0m\u001b[0;34m\u001b[0m\u001b[0;34m\u001b[0m\u001b[0m\n\u001b[0;32m----> 4\u001b[0;31m \u001b[0;32mimport\u001b[0m \u001b[0mxarray\u001b[0m \u001b[0;32mas\u001b[0m \u001b[0mxr\u001b[0m\u001b[0;34m\u001b[0m\u001b[0;34m\u001b[0m\u001b[0m\n\u001b[0m",
      "\u001b[0;31mModuleNotFoundError\u001b[0m: No module named 'xarray'"
     ]
    }
   ],
   "source": [
    "# Import libraries\n",
    "import cartopy.crs as ccrs\n",
    "import matplotlib.pyplot as plt\n",
    "import xarray as xr\n",
    "import nc_time_axis\n",
    "import math\n",
    "import numpy as np\n",
    "\n",
    "from netCDF4 import Dataset"
   ]
  },
  {
   "cell_type": "markdown",
   "metadata": {
    "id": "lGjYN4zEEo4N"
   },
   "source": [
    "1. Read in the file using xarray"
   ]
  },
  {
   "cell_type": "code",
   "execution_count": null,
   "metadata": {
    "id": "t_NBblj3Eo4N",
    "outputId": "7b67aa63-26c3-47f2-d172-bbe492bda00a"
   },
   "outputs": [
    {
     "ename": "NameError",
     "evalue": "name 'xr' is not defined",
     "output_type": "error",
     "traceback": [
      "\u001b[0;31m---------------------------------------------------------------------------\u001b[0m",
      "\u001b[0;31mNameError\u001b[0m                                 Traceback (most recent call last)",
      "\u001b[0;32m<ipython-input-2-bd5d6ff9b453>\u001b[0m in \u001b[0;36m<module>\u001b[0;34m\u001b[0m\n\u001b[1;32m      1\u001b[0m \u001b[0mfile_in\u001b[0m \u001b[0;34m=\u001b[0m\u001b[0;34m\"tas_Amon_CESM1-WACCM_rcp85_r2i1p1_200601-209912.nc\"\u001b[0m\u001b[0;34m\u001b[0m\u001b[0;34m\u001b[0m\u001b[0m\n\u001b[0;32m----> 2\u001b[0;31m \u001b[0mDS\u001b[0m\u001b[0;34m=\u001b[0m\u001b[0mxr\u001b[0m\u001b[0;34m.\u001b[0m\u001b[0mopen_dataset\u001b[0m\u001b[0;34m(\u001b[0m\u001b[0mfile_in\u001b[0m\u001b[0;34m)\u001b[0m\u001b[0;34m\u001b[0m\u001b[0;34m\u001b[0m\u001b[0m\n\u001b[0m",
      "\u001b[0;31mNameError\u001b[0m: name 'xr' is not defined"
     ]
    }
   ],
   "source": [
    "file_in = # fill in: filename\n",
    "\n",
    "DS_netcdf = Dataset(file_in)\n",
    "DS=xr.open_dataset(file_in)"
   ]
  },
  {
   "cell_type": "markdown",
   "metadata": {
    "id": "cHxTVWf8Eo4N"
   },
   "source": [
    "I guess we should talk about Xarray before we continue. Climate data file formats are typically netCDF files, a binary file format that makes these huge datasets more portable across different machines but not possible to open with something like excel. Really, the data are stored in a folder...  Xarray is a great tool to open these files up. But it takes a second to get used to this kinda format. "
   ]
  },
  {
   "cell_type": "code",
   "execution_count": null,
   "metadata": {
    "id": "2_ucP0OfEo4N"
   },
   "outputs": [],
   "source": [
    "print(DS)"
   ]
  },
  {
   "cell_type": "markdown",
   "metadata": {
    "id": "Eiya6coUEo4O"
   },
   "source": [
    "Ok so attributes are not necessary for you all to know, but it's basically the metadata attached to the file! Most important part of the file is the data variables. **tas** is the variable we're more interested in -- it's temperature!"
   ]
  },
  {
   "cell_type": "markdown",
   "metadata": {
    "id": "Wo9HEgivEo4O"
   },
   "source": [
    "2. Select the 2066 time slice from the array"
   ]
  },
  {
   "cell_type": "code",
   "execution_count": null,
   "metadata": {
    "id": "3MR4QGbUEo4O"
   },
   "outputs": [],
   "source": [
    "startday= #complete\n",
    "endday= #complete\n",
    "feb66=DS.sel(time=slice(startday,endday))"
   ]
  },
  {
   "cell_type": "markdown",
   "metadata": {
    "id": "DBHbstXVEo4O"
   },
   "source": [
    "3. Average the data over time! (http://xarray.pydata.org/en/stable/generated/xarray.Dataset.mean.html) "
   ]
  },
  {
   "cell_type": "code",
   "execution_count": null,
   "metadata": {
    "id": "Hycg_BxuEo4O",
    "outputId": "8843bd10-dd74-4b23-c3a1-ec5dc72cc083"
   },
   "outputs": [
    {
     "ename": "SyntaxError",
     "evalue": "invalid syntax (<ipython-input-3-fbb0d20baa23>, line 1)",
     "output_type": "error",
     "traceback": [
      "\u001b[0;36m  File \u001b[0;32m\"<ipython-input-3-fbb0d20baa23>\"\u001b[0;36m, line \u001b[0;32m1\u001b[0m\n\u001b[0;31m    feb66_avg=feb66.mean(dim= ) #complete\u001b[0m\n\u001b[0m                              ^\u001b[0m\n\u001b[0;31mSyntaxError\u001b[0m\u001b[0;31m:\u001b[0m invalid syntax\n"
     ]
    }
   ],
   "source": [
    "feb66_avg=feb66.mean(dim= ) #complete\n",
    "print(feb66_avg)"
   ]
  },
  {
   "cell_type": "markdown",
   "metadata": {
    "id": "frOhJjC5Eo4O"
   },
   "source": [
    "4. Now let's map it to make more sense of it..."
   ]
  },
  {
   "cell_type": "code",
   "execution_count": null,
   "metadata": {
    "id": "LTHm6iYyEo4P"
   },
   "outputs": [],
   "source": [
    "#Projection for plot\n",
    "projection= ccrs.PlateCarree(central_longitude=255);\n",
    "# Data projection\n",
    "data_crs = ccrs.PlateCarree()\n",
    "\n",
    "# Open figure object\n",
    "plt.figure(figsize=(10, 6))\n",
    "ax = plt.axes(projection=projection)\n",
    "ax.set_global()\n",
    "ax.coastlines()\n",
    "\n",
    "# Make a contour plot\n",
    "lon= # pull the data from the feb66_avg variable!\n",
    "lat= # complete\n",
    "data= # complete\n",
    "cf=ax.contourf(lon, lat, data, levels=60, transform=data_crs, cbar_kwargs={'label': DS.tas.units})\n",
    "plt.colorbar(cf)\n",
    "ax.set_label(DS.tas.units)\n",
    "\n",
    "# Add the gridlines, title, colorbar\n",
    "ax.set_xticks([-180,-120,-60,0, 60, 120, 180], crs= projection)\n",
    "ax.set_yticks([-90, -60, -30, 0, 30, 60, 90], crs= projection)\n",
    "ax.gridlines(crs=projection,linestyle=\"dotted\")\n",
    "plt.title(\"Temperature\")\n",
    "\n",
    "#Save our figure, show our figure! (Must save before showing)\n",
    "plt.savefig('assignment1_feb66.png')\n",
    "plt.show()"
   ]
  },
  {
   "cell_type": "markdown",
   "metadata": {
    "id": "jK03mOpsEo4P"
   },
   "source": [
    "5. So there you have it! Your first climate plot. Look at your plot and ponder, what is happening in the world? Where is it warm? Where is it cool? Is this expected? "
   ]
  },
  {
   "cell_type": "markdown",
   "metadata": {
    "id": "EJQ7dlvcEo4P"
   },
   "source": []
  },
  {
   "cell_type": "markdown",
   "metadata": {
    "id": "oI9JvBmIEo4P"
   },
   "source": [
    "# Taking off the training wheels! Make your own plots now.\n",
    "\n",
    "Now that you know how to make a plot, now I want to see:\n",
    "\n",
    "(a) A map of average temperature from 2006-2016"
   ]
  },
  {
   "cell_type": "code",
   "execution_count": null,
   "metadata": {
    "id": "TrCxq2RrEo4P"
   },
   "outputs": [],
   "source": [
    "# Code here... don't worry, it's basically written above -- you can do this!\n",
    "\n",
    "\n",
    "\n",
    "\n",
    "## End code"
   ]
  },
  {
   "cell_type": "markdown",
   "metadata": {
    "id": "A8T11HzXEo4P"
   },
   "source": [
    "(b) A map of average temperature from 2089-2099"
   ]
  },
  {
   "cell_type": "code",
   "execution_count": null,
   "metadata": {
    "id": "7FnCgOmZEo4Q"
   },
   "outputs": [],
   "source": []
  },
  {
   "cell_type": "markdown",
   "metadata": {
    "id": "hGK14qj_Eo4Q"
   },
   "source": [
    "(c) The difference between the temperatures in (a) and (b)"
   ]
  },
  {
   "cell_type": "code",
   "execution_count": null,
   "metadata": {
    "id": "UMYq7j0wEo4Q"
   },
   "outputs": [],
   "source": []
  },
  {
   "cell_type": "markdown",
   "metadata": {
    "id": "jxn9fQDMEo4Q"
   },
   "source": [
    "# Time series plot\n",
    "\n",
    "Now we can see how the temperature changes from 2006-2099. In this next plot we'll look at making the global average monthly temperatures from 2006-2099 (an x-y plot). "
   ]
  },
  {
   "cell_type": "code",
   "execution_count": null,
   "metadata": {
    "id": "DvOG1BrGEo4Q"
   },
   "outputs": [],
   "source": [
    "# This will help you later....\n",
    "def weighted_mean(data_da, dim, weights):\n",
    "    r\"\"\"Computes the weighted mean.\n",
    "\n",
    "    We can only do the actual weighted mean over the dimensions that\n",
    "    ``data_da`` and ``weights`` share, so for dimensions in ``dim`` that aren't\n",
    "    included in ``weights`` we must take the unweighted mean.\n",
    "\n",
    "    This functions skips NaNs, i.e. Data points that are NaN have corresponding\n",
    "    NaN weights.\n",
    "\n",
    "    Args:\n",
    "        data_da (xarray.DataArray):\n",
    "            Data to compute a weighted mean for.\n",
    "        dim (str | list[str]):\n",
    "            dimension(s) of the dataarray to reduce over\n",
    "        weights (xarray.DataArray):\n",
    "            a 1-D dataarray the same length as the weighted dim, with dimension\n",
    "            name equal to that of the weighted dim. Must be nonnegative.\n",
    "    Returns:\n",
    "        (xarray.DataArray):\n",
    "            The mean over the given dimension. So it will contain all\n",
    "            dimensions of the input that are not in ``dim``.\n",
    "    Raises:\n",
    "        (IndexError):\n",
    "            If ``weights.dims`` is not a subset of ``dim``.\n",
    "        (ValueError):\n",
    "            If ``weights`` has values that are negative or infinite.\n",
    "    \"\"\"\n",
    "    if isinstance(dim, str):\n",
    "        dim = [dim]\n",
    "    else:\n",
    "        dim = list(dim)\n",
    "\n",
    "    if not set(weights.dims) <= set(dim):\n",
    "        dim_err_msg = (\n",
    "            \"`weights.dims` must be a subset of `dim`. {} are dimensions in \"\n",
    "            \"`weights`, but not in `dim`.\"\n",
    "        ).format(set(weights.dims) - set(dim))\n",
    "        raise IndexError(dim_err_msg)\n",
    "    else:\n",
    "        pass  # `weights.dims` is a subset of `dim`\n",
    "\n",
    "    if (weights < 0).any() or xr.ufuncs.isinf(weights).any():\n",
    "        negative_weight_err_msg = \"Weight must be nonnegative and finite\"\n",
    "        raise ValueError(negative_weight_err_msg)\n",
    "    else:\n",
    "        pass  # `weights` are nonnegative\n",
    "\n",
    "    weight_dims = [\n",
    "        weight_dim for weight_dim in dim if weight_dim in weights.dims\n",
    "    ]\n",
    "\n",
    "    if np.isnan(data_da).any():\n",
    "        expanded_weights, _ = xr.broadcast(weights, data_da)\n",
    "        weights_with_nans = expanded_weights.where(~np.isnan(data_da))\n",
    "    else:\n",
    "        weights_with_nans = weights\n",
    "\n",
    "    mean_da = ((data_da * weights_with_nans).sum(weight_dims, skipna=True)\n",
    "               / weights_with_nans.sum(weight_dims))\n",
    "    other_dims = list(set(dim) - set(weight_dims))\n",
    "    return mean_da.mean(other_dims, skipna=True)"
   ]
  },
  {
   "cell_type": "markdown",
   "metadata": {
    "id": "hS_xeIk9Eo4R"
   },
   "source": [
    "1. Pull time period of interest"
   ]
  },
  {
   "cell_type": "code",
   "execution_count": null,
   "metadata": {
    "id": "bcTc3eRCEo4R"
   },
   "outputs": [],
   "source": [
    "data_2006_2099=DS.sel(time=slice('2006-01-01','2099-12-31')) # 94 years"
   ]
  },
  {
   "cell_type": "markdown",
   "metadata": {
    "id": "WajNdJhnEo4R"
   },
   "source": [
    "2. Assign contents into variables"
   ]
  },
  {
   "cell_type": "code",
   "execution_count": null,
   "metadata": {
    "id": "HbpDLaSHEo4R"
   },
   "outputs": [],
   "source": [
    "lat = # latitude \n",
    "lon = # longitude\n",
    "tas = # near-surface air temperature"
   ]
  },
  {
   "cell_type": "markdown",
   "metadata": {
    "id": "296R6bfkEo4R"
   },
   "source": [
    "3. Calculate the weights according to latitude. There are multiple ways to do this (see here). In this example, we use the cosine of latitudes. Now we use the function defined above to calculate the weighted mean over the latitude, passing the correct parameters"
   ]
  },
  {
   "cell_type": "code",
   "execution_count": null,
   "metadata": {
    "id": "Wi76EhviEo4R"
   },
   "outputs": [],
   "source": [
    "rad  = 4.*math.atan(1.)/180.\n",
    "weights   = np.cos(lat*rad)\n",
    "wmean_lat = weighted_mean(, dim='lat', weights=weights) #complete"
   ]
  },
  {
   "cell_type": "markdown",
   "metadata": {
    "id": "LLQ6u4kdEo4R"
   },
   "source": [
    "4. Since we want a single average value for the year, we also average over the longitudes. This time it does not have to be weighted."
   ]
  },
  {
   "cell_type": "code",
   "execution_count": null,
   "metadata": {
    "id": "ekciPknWEo4S"
   },
   "outputs": [],
   "source": [
    "wmean = wmean_lat.mean(dim='lon')"
   ]
  },
  {
   "cell_type": "markdown",
   "metadata": {
    "id": "I52QSOo8Eo4S"
   },
   "source": [
    "5. Plot time and data from wmean"
   ]
  },
  {
   "cell_type": "code",
   "execution_count": null,
   "metadata": {
    "id": "GBlaASTXEo4S"
   },
   "outputs": [],
   "source": [
    "plt.figure(figsize=(10,3))\n",
    "plt.plot(, , linestyle='-', color='black', linewidth=0.5) #complete\n",
    "plt.xlabel('Time')\n",
    "plt.ylabel('Temperature (K)')\n",
    "plt.title('Global Monthly Mean Temperatures', loc='left')"
   ]
  },
  {
   "cell_type": "markdown",
   "metadata": {
    "id": "FrhAqiFFEo4S"
   },
   "source": [
    "6. Yay! Another plot. Again -- what is happening? Any observations? What's weird about this plot?"
   ]
  },
  {
   "cell_type": "markdown",
   "metadata": {
    "id": "yXY702d7Eo4S"
   },
   "source": []
  },
  {
   "cell_type": "markdown",
   "metadata": {
    "id": "AzsUUoLYEo4S"
   },
   "source": [
    "# Time series plot of temperature anomolies\n",
    "\n",
    "The annual temperature has all of the seasonal cyclicity ... while it's clear the temperature is rising, we can remove the seasonal signal by subtracting a baseline. We can call 2006-2030 temperatures a baseline."
   ]
  },
  {
   "cell_type": "markdown",
   "metadata": {
    "id": "A0Jri22ZEo4S"
   },
   "source": [
    "1. Get the annual temperatures and the baseline"
   ]
  },
  {
   "cell_type": "code",
   "execution_count": null,
   "metadata": {
    "id": "Y-6DHBZtEo4S",
    "outputId": "1114fd68-24ce-4c58-db5e-621941d36c94"
   },
   "outputs": [
    {
     "ename": "NameError",
     "evalue": "name 'wmean' is not defined",
     "output_type": "error",
     "traceback": [
      "\u001b[0;31m---------------------------------------------------------------------------\u001b[0m",
      "\u001b[0;31mNameError\u001b[0m                                 Traceback (most recent call last)",
      "\u001b[0;32m<ipython-input-5-a92d8db5d32b>\u001b[0m in \u001b[0;36m<module>\u001b[0;34m\u001b[0m\n\u001b[0;32m----> 1\u001b[0;31m \u001b[0mannual_wmean\u001b[0m \u001b[0;34m=\u001b[0m \u001b[0mwmean\u001b[0m\u001b[0;34m.\u001b[0m\u001b[0mgroupby\u001b[0m\u001b[0;34m(\u001b[0m\u001b[0;34m'time.year'\u001b[0m\u001b[0;34m)\u001b[0m\u001b[0;34m.\u001b[0m\u001b[0mmean\u001b[0m\u001b[0;34m(\u001b[0m\u001b[0mdim\u001b[0m\u001b[0;34m=\u001b[0m\u001b[0;34m'time'\u001b[0m\u001b[0;34m)\u001b[0m\u001b[0;34m\u001b[0m\u001b[0;34m\u001b[0m\u001b[0m\n\u001b[0m",
      "\u001b[0;31mNameError\u001b[0m: name 'wmean' is not defined"
     ]
    }
   ],
   "source": [
    "annual_wmean = wmean.groupby('time.year').mean(dim='time')\n",
    "\n",
    "baseline = wmean.sel(time=slice('2006-01-01','2035-12-31')).mean(dim='time')"
   ]
  },
  {
   "cell_type": "markdown",
   "metadata": {
    "id": "UCNlsn1XEo4T"
   },
   "source": [
    "2. We then subtract the baseline from the annual weighted mean, to get the anomaly"
   ]
  },
  {
   "cell_type": "code",
   "execution_count": null,
   "metadata": {
    "id": "bv8nU2dCEo4T"
   },
   "outputs": [],
   "source": [
    "anomaly = # complete"
   ]
  },
  {
   "cell_type": "markdown",
   "metadata": {
    "id": "djiLGW2_Eo4T"
   },
   "source": [
    "3. Now plot the anomoly like you did above!"
   ]
  },
  {
   "cell_type": "code",
   "execution_count": null,
   "metadata": {
    "id": "rHfuKvSIEo4T"
   },
   "outputs": [],
   "source": [
    "# complate"
   ]
  },
  {
   "cell_type": "markdown",
   "metadata": {
    "id": "B1QpP8PaEo4T"
   },
   "source": [
    "Now we have global average temperature anomolies. Is it what you expected? Is this climate change? \n",
    "\n",
    "\n",
    "# BONUS\n",
    "If you've made it all the way here and still want more to do ...\n",
    "Plot the global temperature anomoly as a map! This is a combination of the past 3 plots put all together... Good luck."
   ]
  },
  {
   "cell_type": "code",
   "execution_count": null,
   "metadata": {
    "id": "ihxN6qUyEo4T"
   },
   "outputs": [],
   "source": [
    "#bonus"
   ]
  }
 ],
 "metadata": {
  "colab": {
   "name": "EarthsClimateModel.ipynb",
   "provenance": []
  },
  "kernelspec": {
   "display_name": "Python 3",
   "language": "python",
   "name": "python3"
  },
  "language_info": {
   "codemirror_mode": {
    "name": "ipython",
    "version": 3
   },
   "file_extension": ".py",
   "mimetype": "text/x-python",
   "name": "python",
   "nbconvert_exporter": "python",
   "pygments_lexer": "ipython3",
   "version": "3.8.5"
  }
 },
 "nbformat": 4,
 "nbformat_minor": 1
}
