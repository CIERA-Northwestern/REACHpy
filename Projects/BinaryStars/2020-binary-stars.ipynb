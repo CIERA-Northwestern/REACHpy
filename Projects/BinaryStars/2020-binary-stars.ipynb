{
 "cells": [
  {
   "cell_type": "code",
   "execution_count": 1,
   "metadata": {},
   "outputs": [],
   "source": [
    "import pandas as pd\n",
    "import matplotlib.pyplot as plt\n",
    "%matplotlib inline\n",
    "import numpy as np\n"
   ]
  },
  {
   "cell_type": "markdown",
   "metadata": {},
   "source": [
    "\n",
    "<img src=\"https://cdn.mos.cms.futurecdn.net/7u5yfddeXVJP73NzbtNgnE-1024-80.jpg.webp\" style=\"width:30vw\">"
   ]
  },
  {
   "cell_type": "markdown",
   "metadata": {},
   "source": [
    "# 0. Binary Stars!\n",
    "\n",
    "Binary stars are very common in the universe. As a graduate student my work focus on binary stars that evolve to become merging binary black holes!\n",
    "\n",
    "This project is intended to show you one way astronomers use observations of binary black hole mergers to inform our understanding of the universe.\n",
    "\n",
    "\n",
    "#### 0a. Watch this \"Crash Course\" video on binary stars.\n",
    "https://www.youtube.com/watch?v=pIFiCLhJmig\n",
    "\n",
    "\n",
    "#### 0b. Watch this video too. It goes more into detail about how binary stars can interact with one another. \n",
    "\n",
    "At time=3:46 in the video talks about the complicated evolution of binary stars. \n",
    "\n",
    "This is type of evolution is what allows for the formation of binary black hole systems!\n",
    "\n",
    "https://www.youtube.com/watch?v=AnE9EYgXxpU\n"
   ]
  },
  {
   "cell_type": "markdown",
   "metadata": {},
   "source": [
    "#### ~~ Other cool videos about black holes to watch on your own:\n",
    "\n",
    "2017: Graduate student Katie Bouman describing how her team will take a picture of a super massive black hole\n",
    "https://www.youtube.com/watch?v=BIvezCVcsYs \n",
    "\n",
    "2019: Vox video showing \n",
    "https://www.youtube.com/watch?v=pAoEHR4aW8I"
   ]
  },
  {
   "cell_type": "markdown",
   "metadata": {},
   "source": [
    "#  In this notebook you will be using simulation data from the code COSMIC. \n",
    "\n",
    "This code is used to simulate binary evoltion and was developed by graduate students, post-docs, and faculty in CIERA. \n",
    "\n",
    "It builds on previous work to model complicated binary evolution very quickly.\n",
    "\n",
    "Ideally we would model the complicated stellar interactions using fluid simulations like this https://aasnova.org/2016/02/29/featured-image-orbiting-stars-share-an-envelope/ but we don't fully understand the physics involved and those simulations take a long time to finish.\n",
    "\n",
    "The data I am giving you starts with a large initial popultion of stars with initial conditions that are supposed to replicate binary systems in the universe. COSMIC evolves those binaries through time.\n",
    "\n",
    "### 0c. When binary stars were formed in the universe what do you think they looked like? Go on Slack and answer the first 2 anonymous polls. You aren't supposed to know the answer. This is just to get your brain thinking about binary stars!"
   ]
  },
  {
   "cell_type": "markdown",
   "metadata": {},
   "source": [
    "# 1. Histograms "
   ]
  },
  {
   "cell_type": "markdown",
   "metadata": {},
   "source": [
    "## We are going to be using histograms a lot in this exercise to visualize our binary populations. 1a is supposed to help you become comfortable with them.\n",
    "\n",
    "A histogram is a helpful way to bin a list of numbers. \n",
    "\n"
   ]
  },
  {
   "cell_type": "markdown",
   "metadata": {},
   "source": [
    "### 1a. use np.random.randint to make a random list of numbers. \n",
    "\n",
    "low = lower bound for random numbers\n",
    "\n",
    "high = upper bound for random numbers\n",
    "\n",
    "size = how many numbers you want, start with something >20"
   ]
  },
  {
   "cell_type": "code",
   "execution_count": 9,
   "metadata": {},
   "outputs": [
    {
     "ename": "SyntaxError",
     "evalue": "invalid syntax (<ipython-input-9-78eb199af2d8>, line 2)",
     "output_type": "error",
     "traceback": [
      "\u001b[0;36m  File \u001b[0;32m\"<ipython-input-9-78eb199af2d8>\"\u001b[0;36m, line \u001b[0;32m2\u001b[0m\n\u001b[0;31m    data = np.random.randint(low=, high=,size=)\u001b[0m\n\u001b[0m                                 ^\u001b[0m\n\u001b[0;31mSyntaxError\u001b[0m\u001b[0;31m:\u001b[0m invalid syntax\n"
     ]
    }
   ],
   "source": [
    "# make a random list of intergers betweeen 2 numbers\n",
    "data = np.random.randint(low=, high=,size=)\n",
    "print(data)"
   ]
  },
  {
   "cell_type": "markdown",
   "metadata": {},
   "source": [
    "### 1b. Use plt.hist to bin your random numbers\n",
    "\n",
    "data = list of random numbers\n",
    "\n",
    "bins = number of bins"
   ]
  },
  {
   "cell_type": "code",
   "execution_count": null,
   "metadata": {},
   "outputs": [],
   "source": [
    "plt.figure()\n",
    "# feed in the array named data, place the values into 5 bins\n",
    "h = plt.hist(data, bins=5)"
   ]
  },
  {
   "cell_type": "markdown",
   "metadata": {},
   "source": [
    "### 1c. Change the number of bins to a large number to see what happends to the data.   "
   ]
  },
  {
   "cell_type": "code",
   "execution_count": 10,
   "metadata": {},
   "outputs": [
    {
     "ename": "SyntaxError",
     "evalue": "invalid syntax (<ipython-input-10-2ff50df8f21e>, line 3)",
     "output_type": "error",
     "traceback": [
      "\u001b[0;36m  File \u001b[0;32m\"<ipython-input-10-2ff50df8f21e>\"\u001b[0;36m, line \u001b[0;32m3\u001b[0m\n\u001b[0;31m    h = plt.hist(data, bins=)\u001b[0m\n\u001b[0m                            ^\u001b[0m\n\u001b[0;31mSyntaxError\u001b[0m\u001b[0;31m:\u001b[0m invalid syntax\n"
     ]
    }
   ],
   "source": [
    "# change the number of bins here\n",
    "plt.figure()\n",
    "h = plt.hist(data, bins=)"
   ]
  },
  {
   "cell_type": "markdown",
   "metadata": {},
   "source": [
    "# Okay, lets finally read in the COSMIC data."
   ]
  },
  {
   "cell_type": "code",
   "execution_count": 12,
   "metadata": {},
   "outputs": [],
   "source": [
    "# There are three different sections to the data\n",
    "# You will learn what they all mean separately! \n",
    "\n",
    "binaries_initCond = pd.read_hdf('data.h5', key='initCond')\n",
    "binaries_bcm = pd.read_hdf('data.h5', key='bcm')\n",
    "binaries_bpp = pd.read_hdf('data.h5', key='bpp')"
   ]
  },
  {
   "cell_type": "markdown",
   "metadata": {},
   "source": [
    "# binaries_initCond\n",
    "Gives information about the initial conditions of the binaries.  binaries_initCond will show you one possible answer to the questions on the polls.\n",
    "\n",
    "You can look at all the available data by seeing what columns you can access:\n"
   ]
  },
  {
   "cell_type": "code",
   "execution_count": 13,
   "metadata": {},
   "outputs": [
    {
     "data": {
      "text/plain": [
       "Index(['kstar_1', 'kstar_2', 'mass1_binary', 'mass2_binary', 'porb', 'ecc',\n",
       "       'metallicity', 'binfrac', 'tphysf', 'mass0_1',\n",
       "       ...\n",
       "       'fprimc_6', 'fprimc_7', 'fprimc_8', 'fprimc_9', 'fprimc_10',\n",
       "       'fprimc_11', 'fprimc_12', 'fprimc_13', 'fprimc_14', 'fprimc_15'],\n",
       "      dtype='object', length=124)"
      ]
     },
     "execution_count": 13,
     "metadata": {},
     "output_type": "execute_result"
    }
   ],
   "source": [
    "binaries_initCond.columns"
   ]
  },
  {
   "cell_type": "markdown",
   "metadata": {},
   "source": [
    "You can go to this website to see what some of these columns mean: \n",
    "https://cosmic-popsynth.github.io/docs/v3.2.0/output_info/index.html\n",
    "\n",
    "You can Ctrl+F or Command+F to search for the column name\n"
   ]
  },
  {
   "cell_type": "markdown",
   "metadata": {},
   "source": [
    "##  Play around with the data\n",
    "### 1d) Make histograms using plt.hist and plots using plt.scatter to see the initial conditions of these binaries.\n",
    "\n",
    "### 1e) Write a sentence or two about what you see.\n",
    "\n",
    "For example, if you plot **plt.hist(np.log10(binaries_initCond['porb']), bins=10, color='gray')**\n",
    "you can write something like: \n",
    "\n",
    "\"This is the distribution for the initial periods of the binaries.\n",
    "Large periods mean they start far away from each other, small periods mean they start close together.\n",
    "Most of the binaries star with small or medium valued orbital periods and fewer start with large orbital periods\"\n",
    "\n",
    "**check if this is true!**\n",
    "\n",
    "**Some other interesting columns are 'ecc', 'mass0_1, and binaries_initCond['mass0_2']/binaries_initCond['mass0_1']**"
   ]
  },
  {
   "cell_type": "markdown",
   "metadata": {},
   "source": [
    "## Bonus \n",
    "\n",
    "Make your own histogram funtion! (It's a little more ticky than you might think!)\n",
    "There are so many functions that are already made for you but there is value in builing them yourself! This is the best way to really understand what the function is doing\n"
   ]
  },
  {
   "cell_type": "code",
   "execution_count": 14,
   "metadata": {},
   "outputs": [
    {
     "data": {
      "text/plain": [
       "Text(0.5, 0, 'initial orbital period [log(days)]')"
      ]
     },
     "execution_count": 14,
     "metadata": {},
     "output_type": "execute_result"
    },
    {
     "data": {
      "image/png": "[encoded data removed]",
      "text/plain": [
       "<Figure size 432x360 with 1 Axes>"
      ]
     },
     "metadata": {
      "needs_background": "light"
     },
     "output_type": "display_data"
    }
   ],
   "source": [
    "def plot_hist(data, bins ):\n",
    "\n",
    "    return plt, bin_vals\n",
    "    \n",
    "data = np.log10(binaries_initCond['porb'])\n",
    "bins = 20\n",
    "plt, bin_vals = plot_hist(data, bins )\n",
    "plt.xlabel('initial orbital period [log(days)]')\n"
   ]
  },
  {
   "cell_type": "code",
   "execution_count": 15,
   "metadata": {},
   "outputs": [
    {
     "data": {
      "text/plain": [
       "Text(0, 0.5, 'count')"
      ]
     },
     "execution_count": 15,
     "metadata": {},
     "output_type": "execute_result"
    },
    {
     "data": {
      "image/png": "[encoded data removed]",
      "text/plain": [
       "<Figure size 432x288 with 1 Axes>"
      ]
     },
     "metadata": {
      "needs_background": "light"
     },
     "output_type": "display_data"
    }
   ],
   "source": [
    "h = plt.hist()\n",
    "plt.xlabel(, size=18)\n",
    "plt.ylabel(, size=18)\n"
   ]
  },
  {
   "cell_type": "code",
   "execution_count": 16,
   "metadata": {},
   "outputs": [
    {
     "data": {
      "text/plain": [
       "Text(0, 0.5, 'count')"
      ]
     },
     "execution_count": 16,
     "metadata": {},
     "output_type": "execute_result"
    },
    {
     "data": {
      "image/png": "[encoded data removed]",
      "text/plain": [
       "<Figure size 432x288 with 1 Axes>"
      ]
     },
     "metadata": {
      "needs_background": "light"
     },
     "output_type": "display_data"
    }
   ],
   "source": [
    "h = plt.hist()\n",
    "plt.xlabel(, size=18)\n",
    "plt.ylabel(, size=18)"
   ]
  },
  {
   "cell_type": "code",
   "execution_count": 17,
   "metadata": {},
   "outputs": [
    {
     "data": {
      "text/plain": [
       "Text(0, 0.5, 'count')"
      ]
     },
     "execution_count": 17,
     "metadata": {},
     "output_type": "execute_result"
    },
    {
     "data": {
      "image/png": "[encoded data removed]",
      "text/plain": [
       "<Figure size 432x288 with 1 Axes>"
      ]
     },
     "metadata": {
      "needs_background": "light"
     },
     "output_type": "display_data"
    }
   ],
   "source": [
    "h = plt.hist()\n",
    "plt.xlabel(, size=18)\n",
    "plt.ylabel(, size=18)"
   ]
  },
  {
   "cell_type": "code",
   "execution_count": 18,
   "metadata": {},
   "outputs": [
    {
     "data": {
      "text/plain": [
       "Text(0, 0.5, 'count')"
      ]
     },
     "execution_count": 18,
     "metadata": {},
     "output_type": "execute_result"
    },
    {
     "data": {
      "image/png": "[encoded data removed]",
      "text/plain": [
       "<Figure size 432x288 with 1 Axes>"
      ]
     },
     "metadata": {
      "needs_background": "light"
     },
     "output_type": "display_data"
    }
   ],
   "source": [
    "# use this cell to check the answer to Poll #2\n",
    "# to check it you need to plot the mass ratio, q\n",
    "# q = m2/m1 (smaller mass/ larger mass)\n",
    "# values close to 1 mean the masses are similar\n",
    "# values close to 0 mean the masses are very different\n",
    "\n",
    "h = plt.hist()\n",
    "plt.xlabel(, size=18)\n",
    "plt.ylabel(, size=18)"
   ]
  },
  {
   "cell_type": "code",
   "execution_count": 19,
   "metadata": {},
   "outputs": [
    {
     "data": {
      "text/plain": [
       "Text(0, 0.5, 'log10(porb)')"
      ]
     },
     "execution_count": 19,
     "metadata": {},
     "output_type": "execute_result"
    },
    {
     "data": {
      "image/png": "[encoded data removed]",
      "text/plain": [
       "<Figure size 432x288 with 1 Axes>"
      ]
     },
     "metadata": {
      "needs_background": "light"
     },
     "output_type": "display_data"
    }
   ],
   "source": [
    "plt.scatter(, , alpha=0.5, s=0.1)\n",
    "plt.xlabel(, size=18)\n",
    "plt.ylabel(, size=18)"
   ]
  },
  {
   "cell_type": "code",
   "execution_count": 20,
   "metadata": {},
   "outputs": [
    {
     "data": {
      "text/plain": [
       "Text(0, 0.5, 'log10(porb)')"
      ]
     },
     "execution_count": 20,
     "metadata": {},
     "output_type": "execute_result"
    },
    {
     "data": {
      "image/png": "[encoded data removed]",
      "text/plain": [
       "<Figure size 432x288 with 1 Axes>"
      ]
     },
     "metadata": {
      "needs_background": "light"
     },
     "output_type": "display_data"
    }
   ],
   "source": [
    "plt.scatter(, , \n",
    "            alpha=, s=)\n",
    "plt.xlabel(, size=18)\n",
    "plt.ylabel(, size=18)"
   ]
  },
  {
   "cell_type": "markdown",
   "metadata": {},
   "source": [
    "# 2 binaries_bcm\n",
    "\n",
    "binaries_bcm has information about the last timestep in the data, tphys=13700.0. \n",
    "\n",
    "It can tell you things like: There is a black hole with a white dwarf. Their orbital period is 5 solar radii and their eccentricity is 0.2\n",
    "\n",
    "Let's look at the columns again"
   ]
  },
  {
   "cell_type": "code",
   "execution_count": 21,
   "metadata": {},
   "outputs": [
    {
     "data": {
      "text/plain": [
       "Index(['tphys', 'kstar_1', 'mass0_1', 'mass_1', 'lumin_1', 'rad_1', 'teff_1',\n",
       "       'massc_1', 'radc_1', 'menv_1', 'renv_1', 'epoch_1', 'ospin_1',\n",
       "       'deltam_1', 'RROL_1', 'kstar_2', 'mass0_2', 'mass_2', 'lumin_2',\n",
       "       'rad_2', 'teff_2', 'massc_2', 'radc_2', 'menv_2', 'renv_2', 'epoch_2',\n",
       "       'ospin_2', 'deltam_2', 'RROL_2', 'porb', 'sep', 'ecc', 'B_0_1', 'B_0_2',\n",
       "       'SNkick_1', 'SNkick_2', 'Vsys_final', 'SNtheta_final', 'SN_1', 'SN_2',\n",
       "       'bin_state', 'merger_type'],\n",
       "      dtype='object')"
      ]
     },
     "execution_count": 21,
     "metadata": {},
     "output_type": "execute_result"
    }
   ],
   "source": [
    "binaries_bcm.columns"
   ]
  },
  {
   "cell_type": "code",
   "execution_count": 22,
   "metadata": {},
   "outputs": [
    {
     "data": {
      "text/html": [
       "<div>\n",
       "<style scoped>\n",
       "    .dataframe tbody tr th:only-of-type {\n",
       "        vertical-align: middle;\n",
       "    }\n",
       "\n",
       "    .dataframe tbody tr th {\n",
       "        vertical-align: top;\n",
       "    }\n",
       "\n",
       "    .dataframe thead th {\n",
       "        text-align: right;\n",
       "    }\n",
       "</style>\n",
       "<table border=\"1\" class=\"dataframe\">\n",
       "  <thead>\n",
       "    <tr style=\"text-align: right;\">\n",
       "      <th></th>\n",
       "      <th>tphys</th>\n",
       "      <th>kstar_1</th>\n",
       "      <th>mass0_1</th>\n",
       "      <th>mass_1</th>\n",
       "      <th>lumin_1</th>\n",
       "      <th>rad_1</th>\n",
       "      <th>teff_1</th>\n",
       "      <th>massc_1</th>\n",
       "      <th>radc_1</th>\n",
       "      <th>menv_1</th>\n",
       "      <th>...</th>\n",
       "      <th>B_0_1</th>\n",
       "      <th>B_0_2</th>\n",
       "      <th>SNkick_1</th>\n",
       "      <th>SNkick_2</th>\n",
       "      <th>Vsys_final</th>\n",
       "      <th>SNtheta_final</th>\n",
       "      <th>SN_1</th>\n",
       "      <th>SN_2</th>\n",
       "      <th>bin_state</th>\n",
       "      <th>merger_type</th>\n",
       "    </tr>\n",
       "    <tr>\n",
       "      <th>bin_num</th>\n",
       "      <th></th>\n",
       "      <th></th>\n",
       "      <th></th>\n",
       "      <th></th>\n",
       "      <th></th>\n",
       "      <th></th>\n",
       "      <th></th>\n",
       "      <th></th>\n",
       "      <th></th>\n",
       "      <th></th>\n",
       "      <th></th>\n",
       "      <th></th>\n",
       "      <th></th>\n",
       "      <th></th>\n",
       "      <th></th>\n",
       "      <th></th>\n",
       "      <th></th>\n",
       "      <th></th>\n",
       "      <th></th>\n",
       "      <th></th>\n",
       "      <th></th>\n",
       "    </tr>\n",
       "  </thead>\n",
       "  <tbody>\n",
       "    <tr>\n",
       "      <th>43</th>\n",
       "      <td>13700.0</td>\n",
       "      <td>11.0</td>\n",
       "      <td>0.681683</td>\n",
       "      <td>0.681797</td>\n",
       "      <td>1.194858e-06</td>\n",
       "      <td>0.011720</td>\n",
       "      <td>1770.634861</td>\n",
       "      <td>0.681797</td>\n",
       "      <td>0.011720</td>\n",
       "      <td>1.000000e-10</td>\n",
       "      <td>...</td>\n",
       "      <td>0.000000e+00</td>\n",
       "      <td>0.000000e+00</td>\n",
       "      <td>0.0</td>\n",
       "      <td>0.000000</td>\n",
       "      <td>0.0</td>\n",
       "      <td>0.0</td>\n",
       "      <td>0.0</td>\n",
       "      <td>0.0</td>\n",
       "      <td>0</td>\n",
       "      <td>-001</td>\n",
       "    </tr>\n",
       "    <tr>\n",
       "      <th>48</th>\n",
       "      <td>13700.0</td>\n",
       "      <td>11.0</td>\n",
       "      <td>0.561583</td>\n",
       "      <td>0.561583</td>\n",
       "      <td>3.030016e-06</td>\n",
       "      <td>0.013310</td>\n",
       "      <td>2096.700696</td>\n",
       "      <td>0.561583</td>\n",
       "      <td>0.013310</td>\n",
       "      <td>1.000000e-10</td>\n",
       "      <td>...</td>\n",
       "      <td>0.000000e+00</td>\n",
       "      <td>0.000000e+00</td>\n",
       "      <td>0.0</td>\n",
       "      <td>0.000000</td>\n",
       "      <td>0.0</td>\n",
       "      <td>0.0</td>\n",
       "      <td>0.0</td>\n",
       "      <td>0.0</td>\n",
       "      <td>0</td>\n",
       "      <td>-001</td>\n",
       "    </tr>\n",
       "    <tr>\n",
       "      <th>63</th>\n",
       "      <td>13700.0</td>\n",
       "      <td>11.0</td>\n",
       "      <td>0.583973</td>\n",
       "      <td>0.583973</td>\n",
       "      <td>1.376591e-06</td>\n",
       "      <td>0.012997</td>\n",
       "      <td>1741.991851</td>\n",
       "      <td>0.583973</td>\n",
       "      <td>0.012997</td>\n",
       "      <td>1.000000e-10</td>\n",
       "      <td>...</td>\n",
       "      <td>0.000000e+00</td>\n",
       "      <td>0.000000e+00</td>\n",
       "      <td>0.0</td>\n",
       "      <td>0.000000</td>\n",
       "      <td>0.0</td>\n",
       "      <td>0.0</td>\n",
       "      <td>0.0</td>\n",
       "      <td>0.0</td>\n",
       "      <td>0</td>\n",
       "      <td>-001</td>\n",
       "    </tr>\n",
       "    <tr>\n",
       "      <th>67</th>\n",
       "      <td>13700.0</td>\n",
       "      <td>11.0</td>\n",
       "      <td>0.642558</td>\n",
       "      <td>0.642558</td>\n",
       "      <td>1.513869e-06</td>\n",
       "      <td>0.012217</td>\n",
       "      <td>1839.968303</td>\n",
       "      <td>0.642558</td>\n",
       "      <td>0.012217</td>\n",
       "      <td>1.000000e-10</td>\n",
       "      <td>...</td>\n",
       "      <td>0.000000e+00</td>\n",
       "      <td>0.000000e+00</td>\n",
       "      <td>0.0</td>\n",
       "      <td>0.000000</td>\n",
       "      <td>0.0</td>\n",
       "      <td>0.0</td>\n",
       "      <td>0.0</td>\n",
       "      <td>0.0</td>\n",
       "      <td>0</td>\n",
       "      <td>-001</td>\n",
       "    </tr>\n",
       "    <tr>\n",
       "      <th>207</th>\n",
       "      <td>13700.0</td>\n",
       "      <td>12.0</td>\n",
       "      <td>1.342178</td>\n",
       "      <td>1.342529</td>\n",
       "      <td>2.076692e-06</td>\n",
       "      <td>0.002203</td>\n",
       "      <td>4688.965744</td>\n",
       "      <td>1.342529</td>\n",
       "      <td>0.002203</td>\n",
       "      <td>1.000000e-10</td>\n",
       "      <td>...</td>\n",
       "      <td>0.000000e+00</td>\n",
       "      <td>5.918924e+10</td>\n",
       "      <td>0.0</td>\n",
       "      <td>11.936679</td>\n",
       "      <td>0.0</td>\n",
       "      <td>0.0</td>\n",
       "      <td>0.0</td>\n",
       "      <td>2.0</td>\n",
       "      <td>0</td>\n",
       "      <td>-001</td>\n",
       "    </tr>\n",
       "    <tr>\n",
       "      <th>...</th>\n",
       "      <td>...</td>\n",
       "      <td>...</td>\n",
       "      <td>...</td>\n",
       "      <td>...</td>\n",
       "      <td>...</td>\n",
       "      <td>...</td>\n",
       "      <td>...</td>\n",
       "      <td>...</td>\n",
       "      <td>...</td>\n",
       "      <td>...</td>\n",
       "      <td>...</td>\n",
       "      <td>...</td>\n",
       "      <td>...</td>\n",
       "      <td>...</td>\n",
       "      <td>...</td>\n",
       "      <td>...</td>\n",
       "      <td>...</td>\n",
       "      <td>...</td>\n",
       "      <td>...</td>\n",
       "      <td>...</td>\n",
       "      <td>...</td>\n",
       "    </tr>\n",
       "    <tr>\n",
       "      <th>849878</th>\n",
       "      <td>13700.0</td>\n",
       "      <td>13.0</td>\n",
       "      <td>8.942471</td>\n",
       "      <td>1.277515</td>\n",
       "      <td>1.264548e-10</td>\n",
       "      <td>0.000014</td>\n",
       "      <td>5196.242457</td>\n",
       "      <td>1.277515</td>\n",
       "      <td>0.000014</td>\n",
       "      <td>1.000000e-10</td>\n",
       "      <td>...</td>\n",
       "      <td>3.758326e+10</td>\n",
       "      <td>0.000000e+00</td>\n",
       "      <td>0.0</td>\n",
       "      <td>0.000000</td>\n",
       "      <td>0.0</td>\n",
       "      <td>0.0</td>\n",
       "      <td>1.0</td>\n",
       "      <td>0.0</td>\n",
       "      <td>1</td>\n",
       "      <td>0201</td>\n",
       "    </tr>\n",
       "    <tr>\n",
       "      <th>849883</th>\n",
       "      <td>13700.0</td>\n",
       "      <td>11.0</td>\n",
       "      <td>0.932444</td>\n",
       "      <td>0.932444</td>\n",
       "      <td>1.470797e-06</td>\n",
       "      <td>0.008815</td>\n",
       "      <td>2150.501892</td>\n",
       "      <td>0.932444</td>\n",
       "      <td>0.008815</td>\n",
       "      <td>1.000000e-10</td>\n",
       "      <td>...</td>\n",
       "      <td>0.000000e+00</td>\n",
       "      <td>0.000000e+00</td>\n",
       "      <td>0.0</td>\n",
       "      <td>0.000000</td>\n",
       "      <td>0.0</td>\n",
       "      <td>0.0</td>\n",
       "      <td>0.0</td>\n",
       "      <td>0.0</td>\n",
       "      <td>1</td>\n",
       "      <td>0501</td>\n",
       "    </tr>\n",
       "    <tr>\n",
       "      <th>849908</th>\n",
       "      <td>13700.0</td>\n",
       "      <td>11.0</td>\n",
       "      <td>0.933878</td>\n",
       "      <td>0.933878</td>\n",
       "      <td>1.467231e-06</td>\n",
       "      <td>0.008799</td>\n",
       "      <td>2151.153012</td>\n",
       "      <td>0.933878</td>\n",
       "      <td>0.008799</td>\n",
       "      <td>1.000000e-10</td>\n",
       "      <td>...</td>\n",
       "      <td>0.000000e+00</td>\n",
       "      <td>0.000000e+00</td>\n",
       "      <td>0.0</td>\n",
       "      <td>0.000000</td>\n",
       "      <td>0.0</td>\n",
       "      <td>0.0</td>\n",
       "      <td>0.0</td>\n",
       "      <td>0.0</td>\n",
       "      <td>0</td>\n",
       "      <td>-001</td>\n",
       "    </tr>\n",
       "    <tr>\n",
       "      <th>849932</th>\n",
       "      <td>13700.0</td>\n",
       "      <td>11.0</td>\n",
       "      <td>0.585311</td>\n",
       "      <td>0.585311</td>\n",
       "      <td>1.367965e-06</td>\n",
       "      <td>0.012979</td>\n",
       "      <td>1740.490561</td>\n",
       "      <td>0.585311</td>\n",
       "      <td>0.012979</td>\n",
       "      <td>1.000000e-10</td>\n",
       "      <td>...</td>\n",
       "      <td>0.000000e+00</td>\n",
       "      <td>0.000000e+00</td>\n",
       "      <td>0.0</td>\n",
       "      <td>0.000000</td>\n",
       "      <td>0.0</td>\n",
       "      <td>0.0</td>\n",
       "      <td>0.0</td>\n",
       "      <td>0.0</td>\n",
       "      <td>0</td>\n",
       "      <td>-001</td>\n",
       "    </tr>\n",
       "    <tr>\n",
       "      <th>849955</th>\n",
       "      <td>13700.0</td>\n",
       "      <td>15.0</td>\n",
       "      <td>1.023226</td>\n",
       "      <td>0.000000</td>\n",
       "      <td>4.505347e-03</td>\n",
       "      <td>0.006027</td>\n",
       "      <td>19348.923189</td>\n",
       "      <td>1.172685</td>\n",
       "      <td>0.006027</td>\n",
       "      <td>1.000000e-10</td>\n",
       "      <td>...</td>\n",
       "      <td>0.000000e+00</td>\n",
       "      <td>1.211706e+10</td>\n",
       "      <td>0.0</td>\n",
       "      <td>30.387056</td>\n",
       "      <td>0.0</td>\n",
       "      <td>0.0</td>\n",
       "      <td>0.0</td>\n",
       "      <td>2.0</td>\n",
       "      <td>0</td>\n",
       "      <td>-001</td>\n",
       "    </tr>\n",
       "  </tbody>\n",
       "</table>\n",
       "<p>23896 rows × 42 columns</p>\n",
       "</div>"
      ],
      "text/plain": [
       "           tphys  kstar_1   mass0_1    mass_1       lumin_1     rad_1  \\\n",
       "bin_num                                                                 \n",
       "43       13700.0     11.0  0.681683  0.681797  1.194858e-06  0.011720   \n",
       "48       13700.0     11.0  0.561583  0.561583  3.030016e-06  0.013310   \n",
       "63       13700.0     11.0  0.583973  0.583973  1.376591e-06  0.012997   \n",
       "67       13700.0     11.0  0.642558  0.642558  1.513869e-06  0.012217   \n",
       "207      13700.0     12.0  1.342178  1.342529  2.076692e-06  0.002203   \n",
       "...          ...      ...       ...       ...           ...       ...   \n",
       "849878   13700.0     13.0  8.942471  1.277515  1.264548e-10  0.000014   \n",
       "849883   13700.0     11.0  0.932444  0.932444  1.470797e-06  0.008815   \n",
       "849908   13700.0     11.0  0.933878  0.933878  1.467231e-06  0.008799   \n",
       "849932   13700.0     11.0  0.585311  0.585311  1.367965e-06  0.012979   \n",
       "849955   13700.0     15.0  1.023226  0.000000  4.505347e-03  0.006027   \n",
       "\n",
       "               teff_1   massc_1    radc_1        menv_1  ...         B_0_1  \\\n",
       "bin_num                                                  ...                 \n",
       "43        1770.634861  0.681797  0.011720  1.000000e-10  ...  0.000000e+00   \n",
       "48        2096.700696  0.561583  0.013310  1.000000e-10  ...  0.000000e+00   \n",
       "63        1741.991851  0.583973  0.012997  1.000000e-10  ...  0.000000e+00   \n",
       "67        1839.968303  0.642558  0.012217  1.000000e-10  ...  0.000000e+00   \n",
       "207       4688.965744  1.342529  0.002203  1.000000e-10  ...  0.000000e+00   \n",
       "...               ...       ...       ...           ...  ...           ...   \n",
       "849878    5196.242457  1.277515  0.000014  1.000000e-10  ...  3.758326e+10   \n",
       "849883    2150.501892  0.932444  0.008815  1.000000e-10  ...  0.000000e+00   \n",
       "849908    2151.153012  0.933878  0.008799  1.000000e-10  ...  0.000000e+00   \n",
       "849932    1740.490561  0.585311  0.012979  1.000000e-10  ...  0.000000e+00   \n",
       "849955   19348.923189  1.172685  0.006027  1.000000e-10  ...  0.000000e+00   \n",
       "\n",
       "                B_0_2  SNkick_1   SNkick_2  Vsys_final  SNtheta_final  SN_1  \\\n",
       "bin_num                                                                       \n",
       "43       0.000000e+00       0.0   0.000000         0.0            0.0   0.0   \n",
       "48       0.000000e+00       0.0   0.000000         0.0            0.0   0.0   \n",
       "63       0.000000e+00       0.0   0.000000         0.0            0.0   0.0   \n",
       "67       0.000000e+00       0.0   0.000000         0.0            0.0   0.0   \n",
       "207      5.918924e+10       0.0  11.936679         0.0            0.0   0.0   \n",
       "...               ...       ...        ...         ...            ...   ...   \n",
       "849878   0.000000e+00       0.0   0.000000         0.0            0.0   1.0   \n",
       "849883   0.000000e+00       0.0   0.000000         0.0            0.0   0.0   \n",
       "849908   0.000000e+00       0.0   0.000000         0.0            0.0   0.0   \n",
       "849932   0.000000e+00       0.0   0.000000         0.0            0.0   0.0   \n",
       "849955   1.211706e+10       0.0  30.387056         0.0            0.0   0.0   \n",
       "\n",
       "         SN_2  bin_state  merger_type  \n",
       "bin_num                                \n",
       "43        0.0          0         -001  \n",
       "48        0.0          0         -001  \n",
       "63        0.0          0         -001  \n",
       "67        0.0          0         -001  \n",
       "207       2.0          0         -001  \n",
       "...       ...        ...          ...  \n",
       "849878    0.0          1         0201  \n",
       "849883    0.0          1         0501  \n",
       "849908    0.0          0         -001  \n",
       "849932    0.0          0         -001  \n",
       "849955    2.0          0         -001  \n",
       "\n",
       "[23896 rows x 42 columns]"
      ]
     },
     "execution_count": 22,
     "metadata": {},
     "output_type": "execute_result"
    }
   ],
   "source": [
    "binaries_bcm "
   ]
  },
  {
   "cell_type": "code",
   "execution_count": 23,
   "metadata": {},
   "outputs": [
    {
     "data": {
      "text/plain": [
       "array([7.38330000e-07, 2.06408259e-03, 7.34496179e-03, ...,\n",
       "       3.40529724e-05, 2.33898587e-03, 1.00000000e-04])"
      ]
     },
     "execution_count": 23,
     "metadata": {},
     "output_type": "execute_result"
    }
   ],
   "source": [
    "# this is how you would look at all the values from 'RROL_2'\n",
    "binaries_bcm['RROL_2'].values"
   ]
  },
  {
   "cell_type": "markdown",
   "metadata": {},
   "source": [
    "### Using **binaries_initCond** and **binaries_bcm** we can see the initial and final snapshot of each binary. "
   ]
  },
  {
   "cell_type": "markdown",
   "metadata": {},
   "source": [
    "### 2a) Using binaries_initCond find the total mass in stellar objects in the initial conditions\n",
    "for binaries_initCond you will want to use the columns mass0_1 and mass0_2\n",
    "\n",
    "you can use np.sum() to sum up all the values"
   ]
  },
  {
   "cell_type": "code",
   "execution_count": 24,
   "metadata": {},
   "outputs": [
    {
     "name": "stdout",
     "output_type": "stream",
     "text": [
      "188596.28805181838\n"
     ]
    }
   ],
   "source": [
    "mass1_initial_total = \n",
    "mass2_initial_total = \n",
    "\n",
    "total_initial_mass = \n",
    "print(total_initial_mass)"
   ]
  },
  {
   "cell_type": "markdown",
   "metadata": {},
   "source": [
    "### 2b) Go on Slack and fill out the anonymous Poll #3. It asks how much initial mass you found. What are the units?\n",
    "\n",
    "### 2c) Using binaries_bcm find the total mass in stellar object in the final conditions\n",
    "for binaries_bcm you will want to use the columns mass_1 and mass_2"
   ]
  },
  {
   "cell_type": "code",
   "execution_count": 25,
   "metadata": {},
   "outputs": [
    {
     "name": "stdout",
     "output_type": "stream",
     "text": [
      "49517.30877161359\n"
     ]
    }
   ],
   "source": [
    "mass1_final_total = \n",
    "mass2_final_total = \n",
    "\n",
    "total_final_mass = \n",
    "print(total_final_mass)"
   ]
  },
  {
   "cell_type": "markdown",
   "metadata": {},
   "source": [
    "### 2d. Find the ratio of final mass in all binaries to the initial mass.\n",
    "This gives you the fraction of mass that is remaining. It should be less than one. \n"
   ]
  },
  {
   "cell_type": "code",
   "execution_count": null,
   "metadata": {},
   "outputs": [],
   "source": [
    "fraction = total_final_mass/total_initial_mass"
   ]
  },
  {
   "cell_type": "markdown",
   "metadata": {},
   "source": [
    "### 2e Fill out anonymous Poll #4 requesting ideas about how the mass was ejected."
   ]
  },
  {
   "cell_type": "markdown",
   "metadata": {},
   "source": [
    "## Lets look at specific rows in binaries_bcm\n",
    "\n",
    "How do we access the same binary in binaries_initCond and binaries_bcm?"
   ]
  },
  {
   "cell_type": "markdown",
   "metadata": {},
   "source": [
    "Each binary has its own unique number. In this data frame the unique number is its index value (the first column called bin_num). Run this cell to see"
   ]
  },
  {
   "cell_type": "code",
   "execution_count": 27,
   "metadata": {},
   "outputs": [
    {
     "data": {
      "text/html": [
       "<div>\n",
       "<style scoped>\n",
       "    .dataframe tbody tr th:only-of-type {\n",
       "        vertical-align: middle;\n",
       "    }\n",
       "\n",
       "    .dataframe tbody tr th {\n",
       "        vertical-align: top;\n",
       "    }\n",
       "\n",
       "    .dataframe thead th {\n",
       "        text-align: right;\n",
       "    }\n",
       "</style>\n",
       "<table border=\"1\" class=\"dataframe\">\n",
       "  <thead>\n",
       "    <tr style=\"text-align: right;\">\n",
       "      <th></th>\n",
       "      <th>tphys</th>\n",
       "      <th>kstar_1</th>\n",
       "      <th>mass0_1</th>\n",
       "      <th>mass_1</th>\n",
       "      <th>lumin_1</th>\n",
       "      <th>rad_1</th>\n",
       "      <th>teff_1</th>\n",
       "      <th>massc_1</th>\n",
       "      <th>radc_1</th>\n",
       "      <th>menv_1</th>\n",
       "      <th>...</th>\n",
       "      <th>B_0_1</th>\n",
       "      <th>B_0_2</th>\n",
       "      <th>SNkick_1</th>\n",
       "      <th>SNkick_2</th>\n",
       "      <th>Vsys_final</th>\n",
       "      <th>SNtheta_final</th>\n",
       "      <th>SN_1</th>\n",
       "      <th>SN_2</th>\n",
       "      <th>bin_state</th>\n",
       "      <th>merger_type</th>\n",
       "    </tr>\n",
       "    <tr>\n",
       "      <th>bin_num</th>\n",
       "      <th></th>\n",
       "      <th></th>\n",
       "      <th></th>\n",
       "      <th></th>\n",
       "      <th></th>\n",
       "      <th></th>\n",
       "      <th></th>\n",
       "      <th></th>\n",
       "      <th></th>\n",
       "      <th></th>\n",
       "      <th></th>\n",
       "      <th></th>\n",
       "      <th></th>\n",
       "      <th></th>\n",
       "      <th></th>\n",
       "      <th></th>\n",
       "      <th></th>\n",
       "      <th></th>\n",
       "      <th></th>\n",
       "      <th></th>\n",
       "      <th></th>\n",
       "    </tr>\n",
       "  </thead>\n",
       "  <tbody>\n",
       "    <tr>\n",
       "      <th>43</th>\n",
       "      <td>13700.0</td>\n",
       "      <td>11.0</td>\n",
       "      <td>0.681683</td>\n",
       "      <td>0.681797</td>\n",
       "      <td>1.194858e-06</td>\n",
       "      <td>0.011720</td>\n",
       "      <td>1770.634861</td>\n",
       "      <td>0.681797</td>\n",
       "      <td>0.011720</td>\n",
       "      <td>1.000000e-10</td>\n",
       "      <td>...</td>\n",
       "      <td>0.000000e+00</td>\n",
       "      <td>0.000000e+00</td>\n",
       "      <td>0.0</td>\n",
       "      <td>0.000000</td>\n",
       "      <td>0.0</td>\n",
       "      <td>0.0</td>\n",
       "      <td>0.0</td>\n",
       "      <td>0.0</td>\n",
       "      <td>0</td>\n",
       "      <td>-001</td>\n",
       "    </tr>\n",
       "    <tr>\n",
       "      <th>48</th>\n",
       "      <td>13700.0</td>\n",
       "      <td>11.0</td>\n",
       "      <td>0.561583</td>\n",
       "      <td>0.561583</td>\n",
       "      <td>3.030016e-06</td>\n",
       "      <td>0.013310</td>\n",
       "      <td>2096.700696</td>\n",
       "      <td>0.561583</td>\n",
       "      <td>0.013310</td>\n",
       "      <td>1.000000e-10</td>\n",
       "      <td>...</td>\n",
       "      <td>0.000000e+00</td>\n",
       "      <td>0.000000e+00</td>\n",
       "      <td>0.0</td>\n",
       "      <td>0.000000</td>\n",
       "      <td>0.0</td>\n",
       "      <td>0.0</td>\n",
       "      <td>0.0</td>\n",
       "      <td>0.0</td>\n",
       "      <td>0</td>\n",
       "      <td>-001</td>\n",
       "    </tr>\n",
       "    <tr>\n",
       "      <th>63</th>\n",
       "      <td>13700.0</td>\n",
       "      <td>11.0</td>\n",
       "      <td>0.583973</td>\n",
       "      <td>0.583973</td>\n",
       "      <td>1.376591e-06</td>\n",
       "      <td>0.012997</td>\n",
       "      <td>1741.991851</td>\n",
       "      <td>0.583973</td>\n",
       "      <td>0.012997</td>\n",
       "      <td>1.000000e-10</td>\n",
       "      <td>...</td>\n",
       "      <td>0.000000e+00</td>\n",
       "      <td>0.000000e+00</td>\n",
       "      <td>0.0</td>\n",
       "      <td>0.000000</td>\n",
       "      <td>0.0</td>\n",
       "      <td>0.0</td>\n",
       "      <td>0.0</td>\n",
       "      <td>0.0</td>\n",
       "      <td>0</td>\n",
       "      <td>-001</td>\n",
       "    </tr>\n",
       "    <tr>\n",
       "      <th>67</th>\n",
       "      <td>13700.0</td>\n",
       "      <td>11.0</td>\n",
       "      <td>0.642558</td>\n",
       "      <td>0.642558</td>\n",
       "      <td>1.513869e-06</td>\n",
       "      <td>0.012217</td>\n",
       "      <td>1839.968303</td>\n",
       "      <td>0.642558</td>\n",
       "      <td>0.012217</td>\n",
       "      <td>1.000000e-10</td>\n",
       "      <td>...</td>\n",
       "      <td>0.000000e+00</td>\n",
       "      <td>0.000000e+00</td>\n",
       "      <td>0.0</td>\n",
       "      <td>0.000000</td>\n",
       "      <td>0.0</td>\n",
       "      <td>0.0</td>\n",
       "      <td>0.0</td>\n",
       "      <td>0.0</td>\n",
       "      <td>0</td>\n",
       "      <td>-001</td>\n",
       "    </tr>\n",
       "    <tr>\n",
       "      <th>207</th>\n",
       "      <td>13700.0</td>\n",
       "      <td>12.0</td>\n",
       "      <td>1.342178</td>\n",
       "      <td>1.342529</td>\n",
       "      <td>2.076692e-06</td>\n",
       "      <td>0.002203</td>\n",
       "      <td>4688.965744</td>\n",
       "      <td>1.342529</td>\n",
       "      <td>0.002203</td>\n",
       "      <td>1.000000e-10</td>\n",
       "      <td>...</td>\n",
       "      <td>0.000000e+00</td>\n",
       "      <td>5.918924e+10</td>\n",
       "      <td>0.0</td>\n",
       "      <td>11.936679</td>\n",
       "      <td>0.0</td>\n",
       "      <td>0.0</td>\n",
       "      <td>0.0</td>\n",
       "      <td>2.0</td>\n",
       "      <td>0</td>\n",
       "      <td>-001</td>\n",
       "    </tr>\n",
       "    <tr>\n",
       "      <th>...</th>\n",
       "      <td>...</td>\n",
       "      <td>...</td>\n",
       "      <td>...</td>\n",
       "      <td>...</td>\n",
       "      <td>...</td>\n",
       "      <td>...</td>\n",
       "      <td>...</td>\n",
       "      <td>...</td>\n",
       "      <td>...</td>\n",
       "      <td>...</td>\n",
       "      <td>...</td>\n",
       "      <td>...</td>\n",
       "      <td>...</td>\n",
       "      <td>...</td>\n",
       "      <td>...</td>\n",
       "      <td>...</td>\n",
       "      <td>...</td>\n",
       "      <td>...</td>\n",
       "      <td>...</td>\n",
       "      <td>...</td>\n",
       "      <td>...</td>\n",
       "    </tr>\n",
       "    <tr>\n",
       "      <th>849878</th>\n",
       "      <td>13700.0</td>\n",
       "      <td>13.0</td>\n",
       "      <td>8.942471</td>\n",
       "      <td>1.277515</td>\n",
       "      <td>1.264548e-10</td>\n",
       "      <td>0.000014</td>\n",
       "      <td>5196.242457</td>\n",
       "      <td>1.277515</td>\n",
       "      <td>0.000014</td>\n",
       "      <td>1.000000e-10</td>\n",
       "      <td>...</td>\n",
       "      <td>3.758326e+10</td>\n",
       "      <td>0.000000e+00</td>\n",
       "      <td>0.0</td>\n",
       "      <td>0.000000</td>\n",
       "      <td>0.0</td>\n",
       "      <td>0.0</td>\n",
       "      <td>1.0</td>\n",
       "      <td>0.0</td>\n",
       "      <td>1</td>\n",
       "      <td>0201</td>\n",
       "    </tr>\n",
       "    <tr>\n",
       "      <th>849883</th>\n",
       "      <td>13700.0</td>\n",
       "      <td>11.0</td>\n",
       "      <td>0.932444</td>\n",
       "      <td>0.932444</td>\n",
       "      <td>1.470797e-06</td>\n",
       "      <td>0.008815</td>\n",
       "      <td>2150.501892</td>\n",
       "      <td>0.932444</td>\n",
       "      <td>0.008815</td>\n",
       "      <td>1.000000e-10</td>\n",
       "      <td>...</td>\n",
       "      <td>0.000000e+00</td>\n",
       "      <td>0.000000e+00</td>\n",
       "      <td>0.0</td>\n",
       "      <td>0.000000</td>\n",
       "      <td>0.0</td>\n",
       "      <td>0.0</td>\n",
       "      <td>0.0</td>\n",
       "      <td>0.0</td>\n",
       "      <td>1</td>\n",
       "      <td>0501</td>\n",
       "    </tr>\n",
       "    <tr>\n",
       "      <th>849908</th>\n",
       "      <td>13700.0</td>\n",
       "      <td>11.0</td>\n",
       "      <td>0.933878</td>\n",
       "      <td>0.933878</td>\n",
       "      <td>1.467231e-06</td>\n",
       "      <td>0.008799</td>\n",
       "      <td>2151.153012</td>\n",
       "      <td>0.933878</td>\n",
       "      <td>0.008799</td>\n",
       "      <td>1.000000e-10</td>\n",
       "      <td>...</td>\n",
       "      <td>0.000000e+00</td>\n",
       "      <td>0.000000e+00</td>\n",
       "      <td>0.0</td>\n",
       "      <td>0.000000</td>\n",
       "      <td>0.0</td>\n",
       "      <td>0.0</td>\n",
       "      <td>0.0</td>\n",
       "      <td>0.0</td>\n",
       "      <td>0</td>\n",
       "      <td>-001</td>\n",
       "    </tr>\n",
       "    <tr>\n",
       "      <th>849932</th>\n",
       "      <td>13700.0</td>\n",
       "      <td>11.0</td>\n",
       "      <td>0.585311</td>\n",
       "      <td>0.585311</td>\n",
       "      <td>1.367965e-06</td>\n",
       "      <td>0.012979</td>\n",
       "      <td>1740.490561</td>\n",
       "      <td>0.585311</td>\n",
       "      <td>0.012979</td>\n",
       "      <td>1.000000e-10</td>\n",
       "      <td>...</td>\n",
       "      <td>0.000000e+00</td>\n",
       "      <td>0.000000e+00</td>\n",
       "      <td>0.0</td>\n",
       "      <td>0.000000</td>\n",
       "      <td>0.0</td>\n",
       "      <td>0.0</td>\n",
       "      <td>0.0</td>\n",
       "      <td>0.0</td>\n",
       "      <td>0</td>\n",
       "      <td>-001</td>\n",
       "    </tr>\n",
       "    <tr>\n",
       "      <th>849955</th>\n",
       "      <td>13700.0</td>\n",
       "      <td>15.0</td>\n",
       "      <td>1.023226</td>\n",
       "      <td>0.000000</td>\n",
       "      <td>4.505347e-03</td>\n",
       "      <td>0.006027</td>\n",
       "      <td>19348.923189</td>\n",
       "      <td>1.172685</td>\n",
       "      <td>0.006027</td>\n",
       "      <td>1.000000e-10</td>\n",
       "      <td>...</td>\n",
       "      <td>0.000000e+00</td>\n",
       "      <td>1.211706e+10</td>\n",
       "      <td>0.0</td>\n",
       "      <td>30.387056</td>\n",
       "      <td>0.0</td>\n",
       "      <td>0.0</td>\n",
       "      <td>0.0</td>\n",
       "      <td>2.0</td>\n",
       "      <td>0</td>\n",
       "      <td>-001</td>\n",
       "    </tr>\n",
       "  </tbody>\n",
       "</table>\n",
       "<p>23896 rows × 42 columns</p>\n",
       "</div>"
      ],
      "text/plain": [
       "           tphys  kstar_1   mass0_1    mass_1       lumin_1     rad_1  \\\n",
       "bin_num                                                                 \n",
       "43       13700.0     11.0  0.681683  0.681797  1.194858e-06  0.011720   \n",
       "48       13700.0     11.0  0.561583  0.561583  3.030016e-06  0.013310   \n",
       "63       13700.0     11.0  0.583973  0.583973  1.376591e-06  0.012997   \n",
       "67       13700.0     11.0  0.642558  0.642558  1.513869e-06  0.012217   \n",
       "207      13700.0     12.0  1.342178  1.342529  2.076692e-06  0.002203   \n",
       "...          ...      ...       ...       ...           ...       ...   \n",
       "849878   13700.0     13.0  8.942471  1.277515  1.264548e-10  0.000014   \n",
       "849883   13700.0     11.0  0.932444  0.932444  1.470797e-06  0.008815   \n",
       "849908   13700.0     11.0  0.933878  0.933878  1.467231e-06  0.008799   \n",
       "849932   13700.0     11.0  0.585311  0.585311  1.367965e-06  0.012979   \n",
       "849955   13700.0     15.0  1.023226  0.000000  4.505347e-03  0.006027   \n",
       "\n",
       "               teff_1   massc_1    radc_1        menv_1  ...         B_0_1  \\\n",
       "bin_num                                                  ...                 \n",
       "43        1770.634861  0.681797  0.011720  1.000000e-10  ...  0.000000e+00   \n",
       "48        2096.700696  0.561583  0.013310  1.000000e-10  ...  0.000000e+00   \n",
       "63        1741.991851  0.583973  0.012997  1.000000e-10  ...  0.000000e+00   \n",
       "67        1839.968303  0.642558  0.012217  1.000000e-10  ...  0.000000e+00   \n",
       "207       4688.965744  1.342529  0.002203  1.000000e-10  ...  0.000000e+00   \n",
       "...               ...       ...       ...           ...  ...           ...   \n",
       "849878    5196.242457  1.277515  0.000014  1.000000e-10  ...  3.758326e+10   \n",
       "849883    2150.501892  0.932444  0.008815  1.000000e-10  ...  0.000000e+00   \n",
       "849908    2151.153012  0.933878  0.008799  1.000000e-10  ...  0.000000e+00   \n",
       "849932    1740.490561  0.585311  0.012979  1.000000e-10  ...  0.000000e+00   \n",
       "849955   19348.923189  1.172685  0.006027  1.000000e-10  ...  0.000000e+00   \n",
       "\n",
       "                B_0_2  SNkick_1   SNkick_2  Vsys_final  SNtheta_final  SN_1  \\\n",
       "bin_num                                                                       \n",
       "43       0.000000e+00       0.0   0.000000         0.0            0.0   0.0   \n",
       "48       0.000000e+00       0.0   0.000000         0.0            0.0   0.0   \n",
       "63       0.000000e+00       0.0   0.000000         0.0            0.0   0.0   \n",
       "67       0.000000e+00       0.0   0.000000         0.0            0.0   0.0   \n",
       "207      5.918924e+10       0.0  11.936679         0.0            0.0   0.0   \n",
       "...               ...       ...        ...         ...            ...   ...   \n",
       "849878   0.000000e+00       0.0   0.000000         0.0            0.0   1.0   \n",
       "849883   0.000000e+00       0.0   0.000000         0.0            0.0   0.0   \n",
       "849908   0.000000e+00       0.0   0.000000         0.0            0.0   0.0   \n",
       "849932   0.000000e+00       0.0   0.000000         0.0            0.0   0.0   \n",
       "849955   1.211706e+10       0.0  30.387056         0.0            0.0   0.0   \n",
       "\n",
       "         SN_2  bin_state  merger_type  \n",
       "bin_num                                \n",
       "43        0.0          0         -001  \n",
       "48        0.0          0         -001  \n",
       "63        0.0          0         -001  \n",
       "67        0.0          0         -001  \n",
       "207       2.0          0         -001  \n",
       "...       ...        ...          ...  \n",
       "849878    0.0          1         0201  \n",
       "849883    0.0          1         0501  \n",
       "849908    0.0          0         -001  \n",
       "849932    0.0          0         -001  \n",
       "849955    2.0          0         -001  \n",
       "\n",
       "[23896 rows x 42 columns]"
      ]
     },
     "execution_count": 27,
     "metadata": {},
     "output_type": "execute_result"
    }
   ],
   "source": [
    "binaries_bcm"
   ]
  },
  {
   "cell_type": "markdown",
   "metadata": {},
   "source": [
    "You can access the unique index numbers by doing the following"
   ]
  },
  {
   "cell_type": "code",
   "execution_count": 28,
   "metadata": {},
   "outputs": [
    {
     "data": {
      "text/plain": [
       "array([    43,     48,     63, ..., 849908, 849932, 849955])"
      ]
     },
     "execution_count": 28,
     "metadata": {},
     "output_type": "execute_result"
    }
   ],
   "source": [
    "# binaries_bcm.index gives you the numbers, adding .values at the end puts it in to an array\n",
    "# binaries_bcm.index.values\n",
    "\n",
    "binary_index_vals = binaries_bcm.index.values\n",
    "binary_index_vals"
   ]
  },
  {
   "cell_type": "code",
   "execution_count": 29,
   "metadata": {},
   "outputs": [
    {
     "name": "stdout",
     "output_type": "stream",
     "text": [
      "0th element 43\n",
      "1st element 48\n"
     ]
    }
   ],
   "source": [
    "# you can access the elements in the array by doing:\n",
    "\n",
    "print('0th element', binary_index_vals[0])\n",
    "print('1st element', binary_index_vals[1])"
   ]
  },
  {
   "cell_type": "markdown",
   "metadata": {},
   "source": [
    "## If you have the row's index number (binary_index_vals = binaries_bcm.index.values) you use .loc to access the data for that index"
   ]
  },
  {
   "cell_type": "code",
   "execution_count": 30,
   "metadata": {},
   "outputs": [
    {
     "name": "stdout",
     "output_type": "stream",
     "text": [
      "tphys                  13700\n",
      "kstar_1                   11\n",
      "mass0_1             0.681683\n",
      "mass_1              0.681797\n",
      "lumin_1          1.19486e-06\n",
      "rad_1              0.0117203\n",
      "teff_1               1770.63\n",
      "massc_1             0.681797\n",
      "radc_1             0.0117203\n",
      "menv_1                 1e-10\n",
      "renv_1                 1e-10\n",
      "epoch_1              1229.14\n",
      "ospin_1              438.321\n",
      "deltam_1                   0\n",
      "RROL_1           5.92058e-07\n",
      "kstar_2                   11\n",
      "mass0_2              0.55895\n",
      "mass_2               0.55895\n",
      "lumin_2           4.5552e-06\n",
      "rad_2              0.0133478\n",
      "teff_2               2318.42\n",
      "massc_2              0.55895\n",
      "radc_2             0.0133478\n",
      "menv_2                 1e-10\n",
      "renv_2                 1e-10\n",
      "epoch_2              9539.72\n",
      "ospin_2          4.78178e-06\n",
      "deltam_2                   0\n",
      "RROL_2            7.3833e-07\n",
      "porb             1.16106e+06\n",
      "sep                  49960.2\n",
      "ecc                 0.630347\n",
      "B_0_1                      0\n",
      "B_0_2                      0\n",
      "SNkick_1                   0\n",
      "SNkick_2                   0\n",
      "Vsys_final                 0\n",
      "SNtheta_final              0\n",
      "SN_1                       0\n",
      "SN_2                       0\n",
      "bin_state                  0\n",
      "merger_type             -001\n",
      "Name: 43, dtype: object\n"
     ]
    }
   ],
   "source": [
    "print(binaries_bcm.loc[binary_index_vals[0]])\n",
    "\n",
    "# remember binary_index_vals[0] will give you the unique binary values"
   ]
  },
  {
   "cell_type": "markdown",
   "metadata": {},
   "source": [
    "Lets look at the final and initial values for one binary"
   ]
  },
  {
   "cell_type": "code",
   "execution_count": 32,
   "metadata": {},
   "outputs": [
    {
     "name": "stdout",
     "output_type": "stream",
     "text": [
      "Looking at initial conditions:\n",
      "kstar_1             1.000000\n",
      "kstar_2             1.000000\n",
      "mass1_binary        1.228828\n",
      "mass2_binary        0.761809\n",
      "porb            17450.861906\n",
      "                    ...     \n",
      "fprimc_11           0.095238\n",
      "fprimc_12           0.095238\n",
      "fprimc_13           0.095238\n",
      "fprimc_14           0.095238\n",
      "fprimc_15           0.095238\n",
      "Name: 63, Length: 124, dtype: float64 \n",
      "\n",
      "Looking at final conditions:\n",
      "tphys                  13700\n",
      "kstar_1                   11\n",
      "mass0_1             0.583973\n",
      "mass_1              0.583973\n",
      "lumin_1          1.37659e-06\n",
      "rad_1              0.0129972\n",
      "teff_1               1741.99\n",
      "massc_1             0.583973\n",
      "radc_1             0.0129972\n",
      "menv_1                 1e-10\n",
      "renv_1                 1e-10\n",
      "epoch_1              3609.09\n",
      "ospin_1               6.2139\n",
      "deltam_1         6.93998e-17\n",
      "RROL_1           3.05781e-05\n",
      "kstar_2                    3\n",
      "mass0_2             0.836269\n",
      "mass_2              0.836113\n",
      "lumin_2              7.67872\n",
      "rad_2                3.67796\n",
      "teff_2               5032.55\n",
      "massc_2             0.189843\n",
      "radc_2              0.109121\n",
      "menv_2              0.514608\n",
      "renv_2               3.05989\n",
      "epoch_2              1076.28\n",
      "ospin_2              687.034\n",
      "deltam_2        -1.34781e-12\n",
      "RROL_2            0.00734496\n",
      "porb                 4143.01\n",
      "sep                  1220.33\n",
      "ecc               0.00265462\n",
      "B_0_1                      0\n",
      "B_0_2                      0\n",
      "SNkick_1                   0\n",
      "SNkick_2                   0\n",
      "Vsys_final                 0\n",
      "SNtheta_final              0\n",
      "SN_1                       0\n",
      "SN_2                       0\n",
      "bin_state                  0\n",
      "merger_type             -001\n",
      "Name: 63, dtype: object\n"
     ]
    }
   ],
   "source": [
    "print('Looking at initial conditions:')\n",
    "print(binaries_initCond.loc[binary_index_vals[2]],'\\n')\n",
    "\n",
    "\n",
    "print('Looking at final conditions:')\n",
    "print(binaries_bcm.loc[binary_index_vals[2]])\n",
    "\n",
    "# you might get some weird output for the binaries_initCond. This is because I am using an older version of COSMIC\n",
    "# and the developed probably fixed that in the newer version"
   ]
  },
  {
   "cell_type": "markdown",
   "metadata": {},
   "source": [
    "## IMPORTANT: look before moving on\n",
    "\n"
   ]
  },
  {
   "cell_type": "markdown",
   "metadata": {},
   "source": [
    "So far you have looked at entire columns in the data but what if you only want one row in one column?\n",
    "\n",
    ".iloc and .loc are used for that **BUT** .iloc and .loc are very different.\n",
    "\n",
    ".iloc doesn't care about the index (in this case the unique bin_num) of the row. It only cares about the position of the row in the data, similar to how you access a normal array. Use this when you want to call data as if it were in an array\n",
    "\n",
    ".loc is used with the row index (in this case the unique bin_num). \n",
    "\n",
    "make sure you understand this before moving on!\n",
    "\n",
    "There are different ways to access specific rows in your columns. These are the ways it makes the most sense to me:"
   ]
  },
  {
   "cell_type": "code",
   "execution_count": null,
   "metadata": {},
   "outputs": [],
   "source": [
    "# here I look at the column named rad_1\n",
    "print('Entire column:')\n",
    "print(binaries_bcm['rad_1'])\n",
    "\n",
    "# putting the unique index/bin_num values in an array\n",
    "binary_index_vals = binaries_bcm.index.values\n",
    "\n",
    "# here I look at the column rad_1 but only the first row.\n",
    "# to access the first row with loc we use the row's index value: index value = binary_index_vals[0]\n",
    "# remember, since we are using the index values we have to use loc, not iloc\n",
    "print(' -----------')\n",
    "print('Just first row with .loc')\n",
    "index_value = binary_index_vals[0]\n",
    "print('index value = ', index_value)\n",
    "print(binaries_bcm['rad_1'].loc[index_value])\n",
    "\n",
    "\n",
    "# to access the first row with iloc we can access it like a numpy array\n",
    "print(' -----------')\n",
    "print('Just first row with .iloc')\n",
    "i_value = 0\n",
    "print(binaries_bcm['rad_1'].iloc[i_value])"
   ]
  },
  {
   "cell_type": "markdown",
   "metadata": {},
   "source": [
    "### Another important note:\n",
    "\n",
    "Think carefully when you want to use .iloc or .loc.\n",
    "\n",
    "If you are just looking in one data frame then .iloc is probably fine.\n",
    "\n",
    "If you want to access the same binary in the datafram binaries_bcm and binaries_initCond it is better to use .loc. You can use .iloc BUT are you sure that .iloc[0] will give you the same binary every time? It is much more safe to use .loc because you know that the index values are unique to each binary."
   ]
  },
  {
   "cell_type": "markdown",
   "metadata": {},
   "source": [
    "# 3. Mass in black holes"
   ]
  },
  {
   "cell_type": "markdown",
   "metadata": {},
   "source": [
    "The point of this section is to get more comfortable with the accessing the data. \n",
    "\n",
    "### 3a) Use binaries_bcm to find the total mass in the last snapshot that is only in black holes.\n",
    "\n",
    "Tip: You can do this using a for loop but it can be done MUCH faster if you use something like np.where()\n",
    "Look at this stack overflow link on np.where https://stackoverflow.com/questions/34667282/numpy-where-detailed-step-by-step-explanation-examples"
   ]
  },
  {
   "cell_type": "markdown",
   "metadata": {},
   "source": [
    "You can find which objects are black holes using the \"kstar_1\" and \"kstar_2\" columns. Here is what the numbers represent. \n",
    "\n",
    "https://cosmic-popsynth.github.io/docs/v3.2.0/output_info/index.html\n"
   ]
  },
  {
   "cell_type": "code",
   "execution_count": 33,
   "metadata": {},
   "outputs": [
    {
     "name": "stdout",
     "output_type": "stream",
     "text": [
      "a = [0 1 2 3 4 5 6 7 8 9] \n",
      "\n",
      "I want to find the indicies where this condition is met a<5.\n",
      "a<5 = [ True  True  True  True  True False False False False False] \n",
      "\n",
      "Using np.where like this will give you the indicies where the condition is met\n",
      "np.where(a<5)[0] =  [0 1 2 3 4] \n",
      "\n",
      "Now I can go back to my array \"a\" and call those elements\n",
      "[0 1 2 3 4]\n"
     ]
    }
   ],
   "source": [
    "# here is a mini tutorial if you are stuck using np.where\n",
    "\n",
    "\n",
    "a = np.arange(0,10)\n",
    "print('a =', a, '\\n')\n",
    "\n",
    "print('I want to find the indicies where this condition is met a<5.')\n",
    "print('a<5 =', a<5, '\\n')\n",
    "\n",
    "print('Using np.where like this will give you the indicies where the condition is met')\n",
    "where_true = np.where(a<5)[0]\n",
    "print('np.where(a<5)[0] = ', where_true, '\\n')\n",
    "\n",
    "print('Now I can go back to my array \"a\" and call those elements')\n",
    "print(a[where_true])\n"
   ]
  },
  {
   "cell_type": "code",
   "execution_count": 34,
   "metadata": {},
   "outputs": [],
   "source": []
  },
  {
   "cell_type": "code",
   "execution_count": 35,
   "metadata": {},
   "outputs": [],
   "source": []
  },
  {
   "cell_type": "code",
   "execution_count": null,
   "metadata": {},
   "outputs": [],
   "source": []
  },
  {
   "cell_type": "markdown",
   "metadata": {},
   "source": [
    "### 3b) What is the fraction of BH mass at the end of simulation to the total mass at the end of the simulation?"
   ]
  },
  {
   "cell_type": "code",
   "execution_count": null,
   "metadata": {},
   "outputs": [],
   "source": []
  },
  {
   "cell_type": "markdown",
   "metadata": {},
   "source": [
    "### 3c) Go to Slack and answer anonymous Poll  #5 asking what fraction you got."
   ]
  },
  {
   "cell_type": "code",
   "execution_count": null,
   "metadata": {},
   "outputs": [],
   "source": []
  },
  {
   "cell_type": "code",
   "execution_count": null,
   "metadata": {},
   "outputs": [],
   "source": []
  },
  {
   "cell_type": "markdown",
   "metadata": {},
   "source": [
    "# 4. A look at the bpp\n",
    "\n",
    "\n",
    "### We need to learn how to use binaries_bpp\n",
    "\n",
    "binaries_bcm and binaries_iniCond have just one row for each binary. \n",
    "\n",
    "binaries_bpp contains multiple rows for each binary. Every row is a different time and represents a key evolutionary change. "
   ]
  },
  {
   "cell_type": "code",
   "execution_count": 38,
   "metadata": {},
   "outputs": [
    {
     "data": {
      "text/html": [
       "<div>\n",
       "<style scoped>\n",
       "    .dataframe tbody tr th:only-of-type {\n",
       "        vertical-align: middle;\n",
       "    }\n",
       "\n",
       "    .dataframe tbody tr th {\n",
       "        vertical-align: top;\n",
       "    }\n",
       "\n",
       "    .dataframe thead th {\n",
       "        text-align: right;\n",
       "    }\n",
       "</style>\n",
       "<table border=\"1\" class=\"dataframe\">\n",
       "  <thead>\n",
       "    <tr style=\"text-align: right;\">\n",
       "      <th></th>\n",
       "      <th>tphys</th>\n",
       "      <th>mass_1</th>\n",
       "      <th>mass_2</th>\n",
       "      <th>kstar_1</th>\n",
       "      <th>kstar_2</th>\n",
       "      <th>sep</th>\n",
       "      <th>porb</th>\n",
       "      <th>ecc</th>\n",
       "      <th>RROL_1</th>\n",
       "      <th>RROL_2</th>\n",
       "      <th>...</th>\n",
       "      <th>SNkick</th>\n",
       "      <th>SNtheta</th>\n",
       "      <th>aj_1</th>\n",
       "      <th>aj_2</th>\n",
       "      <th>tms_1</th>\n",
       "      <th>tms_2</th>\n",
       "      <th>massc_1</th>\n",
       "      <th>massc_2</th>\n",
       "      <th>rad_1</th>\n",
       "      <th>rad_2</th>\n",
       "    </tr>\n",
       "    <tr>\n",
       "      <th>bin_num</th>\n",
       "      <th></th>\n",
       "      <th></th>\n",
       "      <th></th>\n",
       "      <th></th>\n",
       "      <th></th>\n",
       "      <th></th>\n",
       "      <th></th>\n",
       "      <th></th>\n",
       "      <th></th>\n",
       "      <th></th>\n",
       "      <th></th>\n",
       "      <th></th>\n",
       "      <th></th>\n",
       "      <th></th>\n",
       "      <th></th>\n",
       "      <th></th>\n",
       "      <th></th>\n",
       "      <th></th>\n",
       "      <th></th>\n",
       "      <th></th>\n",
       "      <th></th>\n",
       "    </tr>\n",
       "  </thead>\n",
       "  <tbody>\n",
       "    <tr>\n",
       "      <th>43</th>\n",
       "      <td>986.912261</td>\n",
       "      <td>1.859723</td>\n",
       "      <td>0.911040</td>\n",
       "      <td>2.0</td>\n",
       "      <td>1.0</td>\n",
       "      <td>22386.896696</td>\n",
       "      <td>233049.908929</td>\n",
       "      <td>0.631639</td>\n",
       "      <td>0.000224</td>\n",
       "      <td>0.000120</td>\n",
       "      <td>...</td>\n",
       "      <td>0.0</td>\n",
       "      <td>0.0</td>\n",
       "      <td>986.912261</td>\n",
       "      <td>986.912261</td>\n",
       "      <td>9.869123e+02</td>\n",
       "      <td>8.870279e+03</td>\n",
       "      <td>0.243834</td>\n",
       "      <td>0.000000</td>\n",
       "      <td>2.213133</td>\n",
       "      <td>0.860116</td>\n",
       "    </tr>\n",
       "    <tr>\n",
       "      <th>43</th>\n",
       "      <td>997.787655</td>\n",
       "      <td>1.859667</td>\n",
       "      <td>0.911040</td>\n",
       "      <td>3.0</td>\n",
       "      <td>1.0</td>\n",
       "      <td>22387.345650</td>\n",
       "      <td>233059.256337</td>\n",
       "      <td>0.631639</td>\n",
       "      <td>0.000920</td>\n",
       "      <td>0.000120</td>\n",
       "      <td>...</td>\n",
       "      <td>0.0</td>\n",
       "      <td>0.0</td>\n",
       "      <td>997.868078</td>\n",
       "      <td>997.787654</td>\n",
       "      <td>9.869920e+02</td>\n",
       "      <td>8.870279e+03</td>\n",
       "      <td>0.255926</td>\n",
       "      <td>0.000000</td>\n",
       "      <td>9.101527</td>\n",
       "      <td>0.860356</td>\n",
       "    </tr>\n",
       "    <tr>\n",
       "      <th>43</th>\n",
       "      <td>1012.288406</td>\n",
       "      <td>1.859107</td>\n",
       "      <td>0.911040</td>\n",
       "      <td>4.0</td>\n",
       "      <td>1.0</td>\n",
       "      <td>22391.868768</td>\n",
       "      <td>233153.440622</td>\n",
       "      <td>0.631639</td>\n",
       "      <td>0.002944</td>\n",
       "      <td>0.000120</td>\n",
       "      <td>...</td>\n",
       "      <td>0.0</td>\n",
       "      <td>0.0</td>\n",
       "      <td>1012.368829</td>\n",
       "      <td>1012.288399</td>\n",
       "      <td>9.869920e+02</td>\n",
       "      <td>8.870279e+03</td>\n",
       "      <td>0.347149</td>\n",
       "      <td>0.000000</td>\n",
       "      <td>29.126862</td>\n",
       "      <td>0.860676</td>\n",
       "    </tr>\n",
       "    <tr>\n",
       "      <th>43</th>\n",
       "      <td>1224.072127</td>\n",
       "      <td>1.852237</td>\n",
       "      <td>0.911040</td>\n",
       "      <td>5.0</td>\n",
       "      <td>1.0</td>\n",
       "      <td>22447.542342</td>\n",
       "      <td>234314.268737</td>\n",
       "      <td>0.631639</td>\n",
       "      <td>0.002376</td>\n",
       "      <td>0.000121</td>\n",
       "      <td>...</td>\n",
       "      <td>0.0</td>\n",
       "      <td>0.0</td>\n",
       "      <td>1224.152551</td>\n",
       "      <td>1224.072055</td>\n",
       "      <td>9.869920e+02</td>\n",
       "      <td>8.870279e+03</td>\n",
       "      <td>0.598613</td>\n",
       "      <td>0.000000</td>\n",
       "      <td>23.548494</td>\n",
       "      <td>0.865432</td>\n",
       "    </tr>\n",
       "    <tr>\n",
       "      <th>43</th>\n",
       "      <td>1227.998917</td>\n",
       "      <td>1.844461</td>\n",
       "      <td>0.911042</td>\n",
       "      <td>6.0</td>\n",
       "      <td>1.0</td>\n",
       "      <td>22510.772349</td>\n",
       "      <td>235636.701249</td>\n",
       "      <td>0.631638</td>\n",
       "      <td>0.024281</td>\n",
       "      <td>0.000120</td>\n",
       "      <td>...</td>\n",
       "      <td>0.0</td>\n",
       "      <td>0.0</td>\n",
       "      <td>1228.079341</td>\n",
       "      <td>1227.992002</td>\n",
       "      <td>9.869920e+02</td>\n",
       "      <td>8.870229e+03</td>\n",
       "      <td>0.598613</td>\n",
       "      <td>0.000000</td>\n",
       "      <td>241.090949</td>\n",
       "      <td>0.865523</td>\n",
       "    </tr>\n",
       "    <tr>\n",
       "      <th>...</th>\n",
       "      <td>...</td>\n",
       "      <td>...</td>\n",
       "      <td>...</td>\n",
       "      <td>...</td>\n",
       "      <td>...</td>\n",
       "      <td>...</td>\n",
       "      <td>...</td>\n",
       "      <td>...</td>\n",
       "      <td>...</td>\n",
       "      <td>...</td>\n",
       "      <td>...</td>\n",
       "      <td>...</td>\n",
       "      <td>...</td>\n",
       "      <td>...</td>\n",
       "      <td>...</td>\n",
       "      <td>...</td>\n",
       "      <td>...</td>\n",
       "      <td>...</td>\n",
       "      <td>...</td>\n",
       "      <td>...</td>\n",
       "      <td>...</td>\n",
       "    </tr>\n",
       "    <tr>\n",
       "      <th>849955</th>\n",
       "      <td>199.692137</td>\n",
       "      <td>1.133781</td>\n",
       "      <td>1.834748</td>\n",
       "      <td>11.0</td>\n",
       "      <td>9.0</td>\n",
       "      <td>40.102077</td>\n",
       "      <td>17.070154</td>\n",
       "      <td>0.000000</td>\n",
       "      <td>0.000480</td>\n",
       "      <td>8.654130</td>\n",
       "      <td>...</td>\n",
       "      <td>0.0</td>\n",
       "      <td>0.0</td>\n",
       "      <td>51.132768</td>\n",
       "      <td>5.304651</td>\n",
       "      <td>1.000000e+10</td>\n",
       "      <td>4.878980e+00</td>\n",
       "      <td>1.133781</td>\n",
       "      <td>1.224314</td>\n",
       "      <td>0.006507</td>\n",
       "      <td>146.168357</td>\n",
       "    </tr>\n",
       "    <tr>\n",
       "      <th>849955</th>\n",
       "      <td>199.692731</td>\n",
       "      <td>1.023226</td>\n",
       "      <td>1.762630</td>\n",
       "      <td>15.0</td>\n",
       "      <td>9.0</td>\n",
       "      <td>0.000000</td>\n",
       "      <td>0.000000</td>\n",
       "      <td>0.000000</td>\n",
       "      <td>0.000000</td>\n",
       "      <td>-1.000000</td>\n",
       "      <td>...</td>\n",
       "      <td>0.0</td>\n",
       "      <td>0.0</td>\n",
       "      <td>51.133362</td>\n",
       "      <td>5.305245</td>\n",
       "      <td>1.000000e+10</td>\n",
       "      <td>4.878980e+00</td>\n",
       "      <td>1.172685</td>\n",
       "      <td>1.225379</td>\n",
       "      <td>0.006027</td>\n",
       "      <td>146.645456</td>\n",
       "    </tr>\n",
       "    <tr>\n",
       "      <th>849955</th>\n",
       "      <td>199.773919</td>\n",
       "      <td>0.000000</td>\n",
       "      <td>1.757560</td>\n",
       "      <td>15.0</td>\n",
       "      <td>9.0</td>\n",
       "      <td>37.451687</td>\n",
       "      <td>20.022104</td>\n",
       "      <td>-1.000000</td>\n",
       "      <td>0.000480</td>\n",
       "      <td>8.654130</td>\n",
       "      <td>...</td>\n",
       "      <td>0.0</td>\n",
       "      <td>0.0</td>\n",
       "      <td>51.133362</td>\n",
       "      <td>5.386223</td>\n",
       "      <td>1.000000e+10</td>\n",
       "      <td>4.878980e+00</td>\n",
       "      <td>1.172685</td>\n",
       "      <td>1.439154</td>\n",
       "      <td>0.006027</td>\n",
       "      <td>265.377519</td>\n",
       "    </tr>\n",
       "    <tr>\n",
       "      <th>849955</th>\n",
       "      <td>199.773919</td>\n",
       "      <td>0.000000</td>\n",
       "      <td>1.277515</td>\n",
       "      <td>15.0</td>\n",
       "      <td>13.0</td>\n",
       "      <td>37.451687</td>\n",
       "      <td>23.484526</td>\n",
       "      <td>-1.000000</td>\n",
       "      <td>-1.000000</td>\n",
       "      <td>0.000100</td>\n",
       "      <td>...</td>\n",
       "      <td>0.0</td>\n",
       "      <td>0.0</td>\n",
       "      <td>51.133362</td>\n",
       "      <td>0.000000</td>\n",
       "      <td>1.000000e+10</td>\n",
       "      <td>4.878980e+00</td>\n",
       "      <td>1.172685</td>\n",
       "      <td>1.277515</td>\n",
       "      <td>0.006027</td>\n",
       "      <td>0.000014</td>\n",
       "    </tr>\n",
       "    <tr>\n",
       "      <th>849955</th>\n",
       "      <td>13700.000000</td>\n",
       "      <td>0.000000</td>\n",
       "      <td>1.277515</td>\n",
       "      <td>15.0</td>\n",
       "      <td>13.0</td>\n",
       "      <td>37.451687</td>\n",
       "      <td>23.484526</td>\n",
       "      <td>-1.000000</td>\n",
       "      <td>-1.000000</td>\n",
       "      <td>0.000100</td>\n",
       "      <td>...</td>\n",
       "      <td>0.0</td>\n",
       "      <td>0.0</td>\n",
       "      <td>51.133362</td>\n",
       "      <td>13500.226081</td>\n",
       "      <td>1.000000e+10</td>\n",
       "      <td>1.000000e+10</td>\n",
       "      <td>1.172685</td>\n",
       "      <td>1.277515</td>\n",
       "      <td>0.006027</td>\n",
       "      <td>0.000014</td>\n",
       "    </tr>\n",
       "  </tbody>\n",
       "</table>\n",
       "<p>334677 rows × 23 columns</p>\n",
       "</div>"
      ],
      "text/plain": [
       "                tphys    mass_1    mass_2  kstar_1  kstar_2           sep  \\\n",
       "bin_num                                                                     \n",
       "43         986.912261  1.859723  0.911040      2.0      1.0  22386.896696   \n",
       "43         997.787655  1.859667  0.911040      3.0      1.0  22387.345650   \n",
       "43        1012.288406  1.859107  0.911040      4.0      1.0  22391.868768   \n",
       "43        1224.072127  1.852237  0.911040      5.0      1.0  22447.542342   \n",
       "43        1227.998917  1.844461  0.911042      6.0      1.0  22510.772349   \n",
       "...               ...       ...       ...      ...      ...           ...   \n",
       "849955     199.692137  1.133781  1.834748     11.0      9.0     40.102077   \n",
       "849955     199.692731  1.023226  1.762630     15.0      9.0      0.000000   \n",
       "849955     199.773919  0.000000  1.757560     15.0      9.0     37.451687   \n",
       "849955     199.773919  0.000000  1.277515     15.0     13.0     37.451687   \n",
       "849955   13700.000000  0.000000  1.277515     15.0     13.0     37.451687   \n",
       "\n",
       "                  porb       ecc    RROL_1    RROL_2  ...  SNkick  SNtheta  \\\n",
       "bin_num                                               ...                    \n",
       "43       233049.908929  0.631639  0.000224  0.000120  ...     0.0      0.0   \n",
       "43       233059.256337  0.631639  0.000920  0.000120  ...     0.0      0.0   \n",
       "43       233153.440622  0.631639  0.002944  0.000120  ...     0.0      0.0   \n",
       "43       234314.268737  0.631639  0.002376  0.000121  ...     0.0      0.0   \n",
       "43       235636.701249  0.631638  0.024281  0.000120  ...     0.0      0.0   \n",
       "...                ...       ...       ...       ...  ...     ...      ...   \n",
       "849955       17.070154  0.000000  0.000480  8.654130  ...     0.0      0.0   \n",
       "849955        0.000000  0.000000  0.000000 -1.000000  ...     0.0      0.0   \n",
       "849955       20.022104 -1.000000  0.000480  8.654130  ...     0.0      0.0   \n",
       "849955       23.484526 -1.000000 -1.000000  0.000100  ...     0.0      0.0   \n",
       "849955       23.484526 -1.000000 -1.000000  0.000100  ...     0.0      0.0   \n",
       "\n",
       "                aj_1          aj_2         tms_1         tms_2   massc_1  \\\n",
       "bin_num                                                                    \n",
       "43        986.912261    986.912261  9.869123e+02  8.870279e+03  0.243834   \n",
       "43        997.868078    997.787654  9.869920e+02  8.870279e+03  0.255926   \n",
       "43       1012.368829   1012.288399  9.869920e+02  8.870279e+03  0.347149   \n",
       "43       1224.152551   1224.072055  9.869920e+02  8.870279e+03  0.598613   \n",
       "43       1228.079341   1227.992002  9.869920e+02  8.870229e+03  0.598613   \n",
       "...              ...           ...           ...           ...       ...   \n",
       "849955     51.132768      5.304651  1.000000e+10  4.878980e+00  1.133781   \n",
       "849955     51.133362      5.305245  1.000000e+10  4.878980e+00  1.172685   \n",
       "849955     51.133362      5.386223  1.000000e+10  4.878980e+00  1.172685   \n",
       "849955     51.133362      0.000000  1.000000e+10  4.878980e+00  1.172685   \n",
       "849955     51.133362  13500.226081  1.000000e+10  1.000000e+10  1.172685   \n",
       "\n",
       "          massc_2       rad_1       rad_2  \n",
       "bin_num                                    \n",
       "43       0.000000    2.213133    0.860116  \n",
       "43       0.000000    9.101527    0.860356  \n",
       "43       0.000000   29.126862    0.860676  \n",
       "43       0.000000   23.548494    0.865432  \n",
       "43       0.000000  241.090949    0.865523  \n",
       "...           ...         ...         ...  \n",
       "849955   1.224314    0.006507  146.168357  \n",
       "849955   1.225379    0.006027  146.645456  \n",
       "849955   1.439154    0.006027  265.377519  \n",
       "849955   1.277515    0.006027    0.000014  \n",
       "849955   1.277515    0.006027    0.000014  \n",
       "\n",
       "[334677 rows x 23 columns]"
      ]
     },
     "execution_count": 38,
     "metadata": {},
     "output_type": "execute_result"
    }
   ],
   "source": [
    "binaries_bpp"
   ]
  },
  {
   "cell_type": "markdown",
   "metadata": {},
   "source": [
    "Lets once again get the unique index values so that we can access different binaries."
   ]
  },
  {
   "cell_type": "code",
   "execution_count": 39,
   "metadata": {},
   "outputs": [
    {
     "data": {
      "text/plain": [
       "array([    43,     43,     43, ..., 849955, 849955, 849955])"
      ]
     },
     "execution_count": 39,
     "metadata": {},
     "output_type": "execute_result"
    }
   ],
   "source": [
    "# put the index values in a numpy array for easy access\n",
    "binary_index_not_unique_values = binaries_bpp.index.values \n",
    "binary_index_not_unique_values"
   ]
  },
  {
   "cell_type": "code",
   "execution_count": 40,
   "metadata": {},
   "outputs": [
    {
     "data": {
      "text/plain": [
       "array([    43,     48,     63, ..., 849908, 849932, 849955])"
      ]
     },
     "execution_count": 40,
     "metadata": {},
     "output_type": "execute_result"
    }
   ],
   "source": [
    "# this time we need to use np.unique since many rows have the same index\n",
    "binary_index = np.unique(binaries_bpp.index.values )\n",
    "binary_index"
   ]
  },
  {
   "cell_type": "code",
   "execution_count": 41,
   "metadata": {},
   "outputs": [
    {
     "data": {
      "text/html": [
       "<div>\n",
       "<style scoped>\n",
       "    .dataframe tbody tr th:only-of-type {\n",
       "        vertical-align: middle;\n",
       "    }\n",
       "\n",
       "    .dataframe tbody tr th {\n",
       "        vertical-align: top;\n",
       "    }\n",
       "\n",
       "    .dataframe thead th {\n",
       "        text-align: right;\n",
       "    }\n",
       "</style>\n",
       "<table border=\"1\" class=\"dataframe\">\n",
       "  <thead>\n",
       "    <tr style=\"text-align: right;\">\n",
       "      <th></th>\n",
       "      <th>tphys</th>\n",
       "      <th>mass_1</th>\n",
       "      <th>mass_2</th>\n",
       "      <th>kstar_1</th>\n",
       "      <th>kstar_2</th>\n",
       "      <th>sep</th>\n",
       "      <th>porb</th>\n",
       "      <th>ecc</th>\n",
       "      <th>RROL_1</th>\n",
       "      <th>RROL_2</th>\n",
       "      <th>...</th>\n",
       "      <th>SNkick</th>\n",
       "      <th>SNtheta</th>\n",
       "      <th>aj_1</th>\n",
       "      <th>aj_2</th>\n",
       "      <th>tms_1</th>\n",
       "      <th>tms_2</th>\n",
       "      <th>massc_1</th>\n",
       "      <th>massc_2</th>\n",
       "      <th>rad_1</th>\n",
       "      <th>rad_2</th>\n",
       "    </tr>\n",
       "    <tr>\n",
       "      <th>bin_num</th>\n",
       "      <th></th>\n",
       "      <th></th>\n",
       "      <th></th>\n",
       "      <th></th>\n",
       "      <th></th>\n",
       "      <th></th>\n",
       "      <th></th>\n",
       "      <th></th>\n",
       "      <th></th>\n",
       "      <th></th>\n",
       "      <th></th>\n",
       "      <th></th>\n",
       "      <th></th>\n",
       "      <th></th>\n",
       "      <th></th>\n",
       "      <th></th>\n",
       "      <th></th>\n",
       "      <th></th>\n",
       "      <th></th>\n",
       "      <th></th>\n",
       "      <th></th>\n",
       "    </tr>\n",
       "  </thead>\n",
       "  <tbody>\n",
       "    <tr>\n",
       "      <th>43</th>\n",
       "      <td>986.912261</td>\n",
       "      <td>1.859723</td>\n",
       "      <td>0.911040</td>\n",
       "      <td>2.0</td>\n",
       "      <td>1.0</td>\n",
       "      <td>22386.896696</td>\n",
       "      <td>2.330499e+05</td>\n",
       "      <td>0.631639</td>\n",
       "      <td>2.237501e-04</td>\n",
       "      <td>1.203875e-04</td>\n",
       "      <td>...</td>\n",
       "      <td>0.0</td>\n",
       "      <td>0.0</td>\n",
       "      <td>986.912261</td>\n",
       "      <td>986.912261</td>\n",
       "      <td>9.869123e+02</td>\n",
       "      <td>8.870279e+03</td>\n",
       "      <td>0.243834</td>\n",
       "      <td>0.000000</td>\n",
       "      <td>2.213133</td>\n",
       "      <td>0.860116</td>\n",
       "    </tr>\n",
       "    <tr>\n",
       "      <th>43</th>\n",
       "      <td>997.787655</td>\n",
       "      <td>1.859667</td>\n",
       "      <td>0.911040</td>\n",
       "      <td>3.0</td>\n",
       "      <td>1.0</td>\n",
       "      <td>22387.345650</td>\n",
       "      <td>2.330593e+05</td>\n",
       "      <td>0.631639</td>\n",
       "      <td>9.201613e-04</td>\n",
       "      <td>1.204177e-04</td>\n",
       "      <td>...</td>\n",
       "      <td>0.0</td>\n",
       "      <td>0.0</td>\n",
       "      <td>997.868078</td>\n",
       "      <td>997.787654</td>\n",
       "      <td>9.869920e+02</td>\n",
       "      <td>8.870279e+03</td>\n",
       "      <td>0.255926</td>\n",
       "      <td>0.000000</td>\n",
       "      <td>9.101527</td>\n",
       "      <td>0.860356</td>\n",
       "    </tr>\n",
       "    <tr>\n",
       "      <th>43</th>\n",
       "      <td>1012.288406</td>\n",
       "      <td>1.859107</td>\n",
       "      <td>0.911040</td>\n",
       "      <td>4.0</td>\n",
       "      <td>1.0</td>\n",
       "      <td>22391.868768</td>\n",
       "      <td>2.331534e+05</td>\n",
       "      <td>0.631639</td>\n",
       "      <td>2.944300e-03</td>\n",
       "      <td>1.204290e-04</td>\n",
       "      <td>...</td>\n",
       "      <td>0.0</td>\n",
       "      <td>0.0</td>\n",
       "      <td>1012.368829</td>\n",
       "      <td>1012.288399</td>\n",
       "      <td>9.869920e+02</td>\n",
       "      <td>8.870279e+03</td>\n",
       "      <td>0.347149</td>\n",
       "      <td>0.000000</td>\n",
       "      <td>29.126862</td>\n",
       "      <td>0.860676</td>\n",
       "    </tr>\n",
       "    <tr>\n",
       "      <th>43</th>\n",
       "      <td>1224.072127</td>\n",
       "      <td>1.852237</td>\n",
       "      <td>0.911040</td>\n",
       "      <td>5.0</td>\n",
       "      <td>1.0</td>\n",
       "      <td>22447.542342</td>\n",
       "      <td>2.343143e+05</td>\n",
       "      <td>0.631639</td>\n",
       "      <td>2.376278e-03</td>\n",
       "      <td>1.206814e-04</td>\n",
       "      <td>...</td>\n",
       "      <td>0.0</td>\n",
       "      <td>0.0</td>\n",
       "      <td>1224.152551</td>\n",
       "      <td>1224.072055</td>\n",
       "      <td>9.869920e+02</td>\n",
       "      <td>8.870279e+03</td>\n",
       "      <td>0.598613</td>\n",
       "      <td>0.000000</td>\n",
       "      <td>23.548494</td>\n",
       "      <td>0.865432</td>\n",
       "    </tr>\n",
       "    <tr>\n",
       "      <th>43</th>\n",
       "      <td>1227.998917</td>\n",
       "      <td>1.844461</td>\n",
       "      <td>0.911042</td>\n",
       "      <td>6.0</td>\n",
       "      <td>1.0</td>\n",
       "      <td>22510.772349</td>\n",
       "      <td>2.356367e+05</td>\n",
       "      <td>0.631638</td>\n",
       "      <td>2.428075e-02</td>\n",
       "      <td>1.202276e-04</td>\n",
       "      <td>...</td>\n",
       "      <td>0.0</td>\n",
       "      <td>0.0</td>\n",
       "      <td>1228.079341</td>\n",
       "      <td>1227.992002</td>\n",
       "      <td>9.869920e+02</td>\n",
       "      <td>8.870229e+03</td>\n",
       "      <td>0.598613</td>\n",
       "      <td>0.000000</td>\n",
       "      <td>241.090949</td>\n",
       "      <td>0.865523</td>\n",
       "    </tr>\n",
       "    <tr>\n",
       "      <th>43</th>\n",
       "      <td>1229.137962</td>\n",
       "      <td>0.681683</td>\n",
       "      <td>0.912848</td>\n",
       "      <td>11.0</td>\n",
       "      <td>1.0</td>\n",
       "      <td>38828.635540</td>\n",
       "      <td>7.017290e+05</td>\n",
       "      <td>0.630451</td>\n",
       "      <td>8.529278e-07</td>\n",
       "      <td>5.522411e-05</td>\n",
       "      <td>...</td>\n",
       "      <td>0.0</td>\n",
       "      <td>0.0</td>\n",
       "      <td>0.000000</td>\n",
       "      <td>1220.329478</td>\n",
       "      <td>9.869920e+02</td>\n",
       "      <td>8.806703e+03</td>\n",
       "      <td>0.681683</td>\n",
       "      <td>0.000000</td>\n",
       "      <td>0.011722</td>\n",
       "      <td>0.867220</td>\n",
       "    </tr>\n",
       "    <tr>\n",
       "      <th>43</th>\n",
       "      <td>8815.511569</td>\n",
       "      <td>0.681683</td>\n",
       "      <td>0.912848</td>\n",
       "      <td>11.0</td>\n",
       "      <td>2.0</td>\n",
       "      <td>38828.635541</td>\n",
       "      <td>7.017290e+05</td>\n",
       "      <td>0.630451</td>\n",
       "      <td>8.529278e-07</td>\n",
       "      <td>1.364077e-04</td>\n",
       "      <td>...</td>\n",
       "      <td>0.0</td>\n",
       "      <td>0.0</td>\n",
       "      <td>7586.373607</td>\n",
       "      <td>8806.703085</td>\n",
       "      <td>1.000000e+10</td>\n",
       "      <td>8.806703e+03</td>\n",
       "      <td>0.681683</td>\n",
       "      <td>0.128763</td>\n",
       "      <td>0.011722</td>\n",
       "      <td>2.142100</td>\n",
       "    </tr>\n",
       "    <tr>\n",
       "      <th>43</th>\n",
       "      <td>9008.135114</td>\n",
       "      <td>0.681683</td>\n",
       "      <td>0.912740</td>\n",
       "      <td>11.0</td>\n",
       "      <td>3.0</td>\n",
       "      <td>38831.253715</td>\n",
       "      <td>7.018237e+05</td>\n",
       "      <td>0.630451</td>\n",
       "      <td>8.528464e-07</td>\n",
       "      <td>1.885700e-04</td>\n",
       "      <td>...</td>\n",
       "      <td>0.0</td>\n",
       "      <td>0.0</td>\n",
       "      <td>7778.997151</td>\n",
       "      <td>9003.134210</td>\n",
       "      <td>1.000000e+10</td>\n",
       "      <td>8.810466e+03</td>\n",
       "      <td>0.681683</td>\n",
       "      <td>0.178985</td>\n",
       "      <td>0.011722</td>\n",
       "      <td>2.961362</td>\n",
       "    </tr>\n",
       "    <tr>\n",
       "      <th>43</th>\n",
       "      <td>9424.319419</td>\n",
       "      <td>0.681685</td>\n",
       "      <td>0.874391</td>\n",
       "      <td>11.0</td>\n",
       "      <td>4.0</td>\n",
       "      <td>39788.067808</td>\n",
       "      <td>7.368374e+05</td>\n",
       "      <td>0.630450</td>\n",
       "      <td>8.238804e-07</td>\n",
       "      <td>7.673563e-04</td>\n",
       "      <td>...</td>\n",
       "      <td>0.0</td>\n",
       "      <td>0.0</td>\n",
       "      <td>8195.181457</td>\n",
       "      <td>10986.823858</td>\n",
       "      <td>1.000000e+10</td>\n",
       "      <td>1.031103e+04</td>\n",
       "      <td>0.681685</td>\n",
       "      <td>0.493744</td>\n",
       "      <td>0.011722</td>\n",
       "      <td>12.232420</td>\n",
       "    </tr>\n",
       "    <tr>\n",
       "      <th>43</th>\n",
       "      <td>9534.335149</td>\n",
       "      <td>0.681685</td>\n",
       "      <td>0.866742</td>\n",
       "      <td>11.0</td>\n",
       "      <td>5.0</td>\n",
       "      <td>39984.620072</td>\n",
       "      <td>7.441351e+05</td>\n",
       "      <td>0.630450</td>\n",
       "      <td>8.181253e-07</td>\n",
       "      <td>1.376171e-03</td>\n",
       "      <td>...</td>\n",
       "      <td>0.0</td>\n",
       "      <td>0.0</td>\n",
       "      <td>8305.197187</td>\n",
       "      <td>11096.839588</td>\n",
       "      <td>1.000000e+10</td>\n",
       "      <td>1.031103e+04</td>\n",
       "      <td>0.681685</td>\n",
       "      <td>0.527440</td>\n",
       "      <td>0.011722</td>\n",
       "      <td>22.003416</td>\n",
       "    </tr>\n",
       "    <tr>\n",
       "      <th>43</th>\n",
       "      <td>9538.925307</td>\n",
       "      <td>0.681686</td>\n",
       "      <td>0.856650</td>\n",
       "      <td>11.0</td>\n",
       "      <td>6.0</td>\n",
       "      <td>40246.801105</td>\n",
       "      <td>7.539270e+05</td>\n",
       "      <td>0.630449</td>\n",
       "      <td>8.105451e-07</td>\n",
       "      <td>1.203861e-02</td>\n",
       "      <td>...</td>\n",
       "      <td>0.0</td>\n",
       "      <td>0.0</td>\n",
       "      <td>8309.787345</td>\n",
       "      <td>11101.429746</td>\n",
       "      <td>1.000000e+10</td>\n",
       "      <td>1.031103e+04</td>\n",
       "      <td>0.681686</td>\n",
       "      <td>0.527455</td>\n",
       "      <td>0.011722</td>\n",
       "      <td>193.247450</td>\n",
       "    </tr>\n",
       "    <tr>\n",
       "      <th>43</th>\n",
       "      <td>9539.716436</td>\n",
       "      <td>0.681797</td>\n",
       "      <td>0.558950</td>\n",
       "      <td>11.0</td>\n",
       "      <td>11.0</td>\n",
       "      <td>49960.237590</td>\n",
       "      <td>1.161055e+06</td>\n",
       "      <td>0.630347</td>\n",
       "      <td>5.920577e-07</td>\n",
       "      <td>7.383300e-07</td>\n",
       "      <td>...</td>\n",
       "      <td>0.0</td>\n",
       "      <td>0.0</td>\n",
       "      <td>8310.578474</td>\n",
       "      <td>0.000000</td>\n",
       "      <td>1.000000e+10</td>\n",
       "      <td>1.031103e+04</td>\n",
       "      <td>0.681797</td>\n",
       "      <td>0.558950</td>\n",
       "      <td>0.011720</td>\n",
       "      <td>0.013348</td>\n",
       "    </tr>\n",
       "    <tr>\n",
       "      <th>43</th>\n",
       "      <td>13700.000000</td>\n",
       "      <td>0.681797</td>\n",
       "      <td>0.558950</td>\n",
       "      <td>11.0</td>\n",
       "      <td>11.0</td>\n",
       "      <td>49960.237592</td>\n",
       "      <td>1.161055e+06</td>\n",
       "      <td>0.630347</td>\n",
       "      <td>5.920577e-07</td>\n",
       "      <td>7.383300e-07</td>\n",
       "      <td>...</td>\n",
       "      <td>0.0</td>\n",
       "      <td>0.0</td>\n",
       "      <td>12470.862038</td>\n",
       "      <td>4160.283564</td>\n",
       "      <td>1.000000e+10</td>\n",
       "      <td>1.000000e+10</td>\n",
       "      <td>0.681797</td>\n",
       "      <td>0.558950</td>\n",
       "      <td>0.011720</td>\n",
       "      <td>0.013348</td>\n",
       "    </tr>\n",
       "  </tbody>\n",
       "</table>\n",
       "<p>13 rows × 23 columns</p>\n",
       "</div>"
      ],
      "text/plain": [
       "                tphys    mass_1    mass_2  kstar_1  kstar_2           sep  \\\n",
       "bin_num                                                                     \n",
       "43         986.912261  1.859723  0.911040      2.0      1.0  22386.896696   \n",
       "43         997.787655  1.859667  0.911040      3.0      1.0  22387.345650   \n",
       "43        1012.288406  1.859107  0.911040      4.0      1.0  22391.868768   \n",
       "43        1224.072127  1.852237  0.911040      5.0      1.0  22447.542342   \n",
       "43        1227.998917  1.844461  0.911042      6.0      1.0  22510.772349   \n",
       "43        1229.137962  0.681683  0.912848     11.0      1.0  38828.635540   \n",
       "43        8815.511569  0.681683  0.912848     11.0      2.0  38828.635541   \n",
       "43        9008.135114  0.681683  0.912740     11.0      3.0  38831.253715   \n",
       "43        9424.319419  0.681685  0.874391     11.0      4.0  39788.067808   \n",
       "43        9534.335149  0.681685  0.866742     11.0      5.0  39984.620072   \n",
       "43        9538.925307  0.681686  0.856650     11.0      6.0  40246.801105   \n",
       "43        9539.716436  0.681797  0.558950     11.0     11.0  49960.237590   \n",
       "43       13700.000000  0.681797  0.558950     11.0     11.0  49960.237592   \n",
       "\n",
       "                 porb       ecc        RROL_1        RROL_2  ...  SNkick  \\\n",
       "bin_num                                                      ...           \n",
       "43       2.330499e+05  0.631639  2.237501e-04  1.203875e-04  ...     0.0   \n",
       "43       2.330593e+05  0.631639  9.201613e-04  1.204177e-04  ...     0.0   \n",
       "43       2.331534e+05  0.631639  2.944300e-03  1.204290e-04  ...     0.0   \n",
       "43       2.343143e+05  0.631639  2.376278e-03  1.206814e-04  ...     0.0   \n",
       "43       2.356367e+05  0.631638  2.428075e-02  1.202276e-04  ...     0.0   \n",
       "43       7.017290e+05  0.630451  8.529278e-07  5.522411e-05  ...     0.0   \n",
       "43       7.017290e+05  0.630451  8.529278e-07  1.364077e-04  ...     0.0   \n",
       "43       7.018237e+05  0.630451  8.528464e-07  1.885700e-04  ...     0.0   \n",
       "43       7.368374e+05  0.630450  8.238804e-07  7.673563e-04  ...     0.0   \n",
       "43       7.441351e+05  0.630450  8.181253e-07  1.376171e-03  ...     0.0   \n",
       "43       7.539270e+05  0.630449  8.105451e-07  1.203861e-02  ...     0.0   \n",
       "43       1.161055e+06  0.630347  5.920577e-07  7.383300e-07  ...     0.0   \n",
       "43       1.161055e+06  0.630347  5.920577e-07  7.383300e-07  ...     0.0   \n",
       "\n",
       "         SNtheta          aj_1          aj_2         tms_1         tms_2  \\\n",
       "bin_num                                                                    \n",
       "43           0.0    986.912261    986.912261  9.869123e+02  8.870279e+03   \n",
       "43           0.0    997.868078    997.787654  9.869920e+02  8.870279e+03   \n",
       "43           0.0   1012.368829   1012.288399  9.869920e+02  8.870279e+03   \n",
       "43           0.0   1224.152551   1224.072055  9.869920e+02  8.870279e+03   \n",
       "43           0.0   1228.079341   1227.992002  9.869920e+02  8.870229e+03   \n",
       "43           0.0      0.000000   1220.329478  9.869920e+02  8.806703e+03   \n",
       "43           0.0   7586.373607   8806.703085  1.000000e+10  8.806703e+03   \n",
       "43           0.0   7778.997151   9003.134210  1.000000e+10  8.810466e+03   \n",
       "43           0.0   8195.181457  10986.823858  1.000000e+10  1.031103e+04   \n",
       "43           0.0   8305.197187  11096.839588  1.000000e+10  1.031103e+04   \n",
       "43           0.0   8309.787345  11101.429746  1.000000e+10  1.031103e+04   \n",
       "43           0.0   8310.578474      0.000000  1.000000e+10  1.031103e+04   \n",
       "43           0.0  12470.862038   4160.283564  1.000000e+10  1.000000e+10   \n",
       "\n",
       "          massc_1   massc_2       rad_1       rad_2  \n",
       "bin_num                                              \n",
       "43       0.243834  0.000000    2.213133    0.860116  \n",
       "43       0.255926  0.000000    9.101527    0.860356  \n",
       "43       0.347149  0.000000   29.126862    0.860676  \n",
       "43       0.598613  0.000000   23.548494    0.865432  \n",
       "43       0.598613  0.000000  241.090949    0.865523  \n",
       "43       0.681683  0.000000    0.011722    0.867220  \n",
       "43       0.681683  0.128763    0.011722    2.142100  \n",
       "43       0.681683  0.178985    0.011722    2.961362  \n",
       "43       0.681685  0.493744    0.011722   12.232420  \n",
       "43       0.681685  0.527440    0.011722   22.003416  \n",
       "43       0.681686  0.527455    0.011722  193.247450  \n",
       "43       0.681797  0.558950    0.011720    0.013348  \n",
       "43       0.681797  0.558950    0.011720    0.013348  \n",
       "\n",
       "[13 rows x 23 columns]"
      ]
     },
     "execution_count": 41,
     "metadata": {},
     "output_type": "execute_result"
    }
   ],
   "source": [
    "# remember, since we are using the index values we have to use loc, NOT iloc\n",
    "binaries_bpp.loc[binary_index[0]]"
   ]
  },
  {
   "cell_type": "markdown",
   "metadata": {},
   "source": [
    "### 4a) Choose any binary you want. Make a plot  showing how the mass of the primary star \"mass_1\" changes over time \"tphys\".  Make sure you label you plots! What are the units?\n"
   ]
  },
  {
   "cell_type": "markdown",
   "metadata": {},
   "source": [
    "**Tips:** \n",
    "\n",
    "You can access the data by doing:\n",
    "\n",
    "binaries_bpp[\"column_name\"].loc[binary_index_num].values"
   ]
  },
  {
   "cell_type": "code",
   "execution_count": null,
   "metadata": {},
   "outputs": [],
   "source": [
    "x = \n",
    "y = \n",
    "\n",
    "plt.plot(x, y)\n",
    "plt.xlabel(, size=18)\n",
    "plt.ylabel(, size=18)"
   ]
  },
  {
   "cell_type": "markdown",
   "metadata": {},
   "source": [
    "### 4b) Make a plot showing how the mass of the primary star \"mass_1\" and secondary star \"mass_2\" changes over time \"tphys\". Add labels so you can tell them apart\n",
    "\n",
    "### Look through the binaries until you find a system like this:\n",
    "\n",
    "<img src=\"mass_evolution.png\">\n",
    "\n",
    "### One mass is increasing while the other decreases. From the videos you watched, can you describe what is happening?\n",
    "\n",
    "### 4c) Go to Slack and fill out the anonymous free response poll (Poll #6) asking what binary interaction explains the changes in mass"
   ]
  },
  {
   "cell_type": "code",
   "execution_count": 42,
   "metadata": {},
   "outputs": [
    {
     "data": {
      "text/plain": [
       "<matplotlib.legend.Legend at 0x1187d5590>"
      ]
     },
     "execution_count": 42,
     "metadata": {},
     "output_type": "execute_result"
    },
    {
     "data": {
      "image/png": "[encoded data removed]",
      "text/plain": [
       "<Figure size 432x288 with 1 Axes>"
      ]
     },
     "metadata": {
      "needs_background": "light"
     },
     "output_type": "display_data"
    }
   ],
   "source": [
    "i = 1\n",
    "x = \n",
    "y1 = \n",
    "y2 = \n",
    "\n",
    "plt.plot(x, y1, label=, linewidth=3)\n",
    "plt.plot(x, y2, label=, linewidth=3)\n",
    "plt.xlabel(, size=18)\n",
    "plt.ylabel(, size=18)\n",
    "plt.legend()"
   ]
  },
  {
   "cell_type": "markdown",
   "metadata": {},
   "source": [
    "# 5. Merging Binary Black holes"
   ]
  },
  {
   "cell_type": "markdown",
   "metadata": {},
   "source": [
    "Watch these two videos about LIGO/Gravitational waves. \n",
    "\n",
    "https://www.youtube.com/watch?v=B4XzLDM3Py8\n",
    "\n",
    "https://www.youtube.com/watch?v=4GbWfNHtHRg\n"
   ]
  },
  {
   "cell_type": "markdown",
   "metadata": {},
   "source": [
    "### Now lets do something more challenging!\n",
    "\n",
    "\n",
    "The goal of this section is for you to find out which binary black hole systems will merge within a Hubble time. What causes these black holes to merge? Gravitational waves emitted by the black holes orbiting each other take away energy from the orbit. When this happens the orbit shrinks. We can calculate how long it will take for two black holes to merge if gravitational waves are the only thing causing the orbit to lose energy.\n",
    "\n",
    "Hubble time = the age of the universe = 13.8 billion years\n",
    "\n",
    "\n",
    "You will need to find all the binaries where in the last timestep both objects are black holes. You then need to calculate the merger time ($t_{\\rm merger}$) with the equations provided. "
   ]
  },
  {
   "cell_type": "markdown",
   "metadata": {},
   "source": [
    "### 5a) Calculate which binary black hole systems will merge within the age of the universe. Use the direction/tips below\n",
    "### You need to create 3 arrays. \n",
    "\n",
    "- array to store the binary index of the merged binaries\n",
    "\n",
    "- array to store the mass of the most massive BH before merger\n",
    "\n",
    "- array to store the smaller mass BH before merger. \n",
    "\n",
    "A guide/tips: \n",
    "\n",
    "#### 1) You will need to access each binary similar to how you made the plots:\n",
    "\n",
    "binaries_bpp[\"column_name\"].loc[binary_index_number].values\n",
    "\n",
    "\n",
    "#### 2) You need to check that both objects are black holes **kstar_1 == 14** and **kstar_2 == 14** in the last timestep\n",
    "\n",
    "To look at the last element in an array you use array[-1]\n",
    "\n",
    "Here it looks like binaries_bpp['column_name'].loc[binary_index_number].values**[-1]**\n",
    "\n",
    "or \n",
    "\n",
    "np.array(binaries_bpp['column_name'].loc[binary_index_number])**[-1]**\n",
    "\n",
    "#### 3) You need to get the values of eccentricity, separation, M1, M1, and time in the last timestep. Put them in CGS units\n",
    "http://www.astro.wisc.edu/~dolan/constants.html\n",
    "\n",
    "\n",
    "#### 4) Calculate t_merger\n",
    "For circular orbits \n",
    "\n",
    "$$ t_{\\rm merger, circular} = \\frac{a^4}{4 \\beta} $$\n",
    "\n",
    "where $\\beta = \\frac{64}{5} \\frac{G^3 m_1 m_2 (m_1 + m_2)}{c^5}$, $a$ is separation, $G$ is the gravitational constant, and $c$ is the speed of light. It is unlikely that a binary will be perfectly circular. \n",
    "\n",
    "For eccentricity < 0.5 use:\n",
    "\n",
    "\n",
    "$$ t_{\\rm merger} = \\frac{c_{0}^4 }{4 \\beta} e ^{48/19} $$\n",
    "\n",
    "where $$c_{0} = \\frac{a (1 - e^2)} { e^{12/19} \\left[1 + \\frac{121}{304}e^2 \\right]^{870/2299} } $$\n",
    "\n",
    "\n",
    "for eccentricity > 0.5 use:\n",
    "\n",
    "$$ t_{\\rm merger} = \\frac{768}{425} t_{\\rm merger, circular} (1 - e^2)^{7/2} $$\n",
    "\n",
    "***These equations are from a paper from 1964! https://ui.adsabs.harvard.edu/abs/1964PhRv..136.1224P/abstract***\n",
    "\n",
    "*** Notes:  ***\n",
    "\n",
    " - Some eccentricities = -1. This is not physical and means the black holes are not orbiting each other anymore. Find a way to ignore these. \n",
    "\n",
    "- You will have to keep track of the units. To do this you can change all simulation variables to cgs. The output of your t_merger calcuations will be in seconds\n",
    "\n",
    "#### 5) Add your calculated t_merger to the time in the last timestep. Check if that sum is less than the age of the universe, 13.8 billion years. (remember that your t_merger is in seconds )\n",
    "\n",
    "#### 6) If the time is less than 13.8 billion years, congratulations! You found a merging black hole binary system! \n",
    "\n",
    "#### 7) When you find a merging system save its data! In one array save the index of the merging binary. In another array save the mass of the more massive black hole before the merger, this is called the primary BH. In another array save the mass of the lower mass BH, this one is called the secondary  "
   ]
  },
  {
   "cell_type": "code",
   "execution_count": 43,
   "metadata": {},
   "outputs": [
    {
     "name": "stdout",
     "output_type": "stream",
     "text": [
      "100\n",
      "50.0\n",
      "*****NOTE****\n",
      "this is NOT how you should calculate (x**2) / 2\n",
      "this is just an example of how you may use functions for this exercise\n"
     ]
    }
   ],
   "source": [
    "# it is much easier and neater to write up equations in a function \n",
    "# when you are trying to calculate something many times\n",
    "\n",
    "# see how you can make a function here \n",
    "def number_squared( x ):\n",
    "    return x**2\n",
    "\n",
    "\n",
    "# you can call functions inside other functions\n",
    "def divide_by_2_after_square(x):\n",
    "    squared = number_squared(x)\n",
    "    return squared/2\n",
    "\n",
    "number = 10 \n",
    "print(number_squared( number ))\n",
    "print(divide_by_2_after_square( number ))\n",
    "\n",
    "print('*****NOTE****')\n",
    "print('this is NOT how you should calculate (x**2) / 2')\n",
    "print('this is just an example of how you may use functions for this exercise')"
   ]
  },
  {
   "cell_type": "code",
   "execution_count": 50,
   "metadata": {},
   "outputs": [],
   "source": [
    "# Here is the function for beta to get you started, you just need to fill in G and c in cgs\n",
    "def calc_beta(m1,m2):\n",
    "    G = \n",
    "    c = \n",
    "    return (64./5.) * ( (G**3 * m1 * m2 * (m1+m2) ) /c**5 )\n",
    "    \n",
    "def calc_t_merger_small_e():\n",
    "\n",
    "    return \n",
    "\n",
    "def calc_t_merger_big_e():\n",
    "\n",
    "    \n",
    "    return "
   ]
  },
  {
   "cell_type": "code",
   "execution_count": 60,
   "metadata": {
    "scrolled": true
   },
   "outputs": [
    {
     "name": "stdout",
     "output_type": "stream",
     "text": [
      "this binary has disrupted!\n"
     ]
    },
    {
     "name": "stderr",
     "output_type": "stream",
     "text": [
      "/opt/anaconda3/lib/python3.7/site-packages/ipykernel_launcher.py:20: RuntimeWarning: invalid value encountered in double_scalars\n",
      "/opt/anaconda3/lib/python3.7/site-packages/ipykernel_launcher.py:22: RuntimeWarning: invalid value encountered in double_scalars\n"
     ]
    },
    {
     "name": "stdout",
     "output_type": "stream",
     "text": [
      "this binary has disrupted!\n"
     ]
    }
   ],
   "source": [
    "Msun = 1.99e33\n",
    "Rsun = 6.96e10\n",
    "sec_in_year = 3.154e7\n",
    "\n",
    "# this is here incase you need something to get your started. you don't have to use a for loop \n",
    "\n",
    "merging_binaries=[]\n",
    "primary_mass = []\n",
    "secondary_mass = []\n",
    "\n",
    "for  in :\n",
    "    \n",
    "    if binaries_bpp['kstar_1'].loc[index].values[-1] == 14:\n",
    "\n"
   ]
  },
  {
   "cell_type": "markdown",
   "metadata": {},
   "source": [
    "### 5b) Find the fraction of binaries from your initial population that resulted in BBH mergers.\n",
    "\n",
    "- Sum up the total number of binary black hole mergers. \n",
    "- Divide that number by the total number of initial binaries in the population.\n",
    "    - Hint: Remember that each binary has a unique index.\n",
    "\n",
    "\n",
    "### 5c) Go to Slack and fill out the anonymous poll 7 asking: what fraction of the initial binaries merged as BBHs."
   ]
  },
  {
   "cell_type": "markdown",
   "metadata": {},
   "source": [
    "# 6a. Use plt.hist to compare the initial conditions of the binaries that ended up merging to the initial conditions of the entire population\n",
    "\n",
    "Tips:\n",
    "- you should probably make two different histograms inside of plotted one on top of the other\n",
    "- remember you can use the binary index and .loc to get specific binaries\n"
   ]
  },
  {
   "cell_type": "code",
   "execution_count": 56,
   "metadata": {},
   "outputs": [
    {
     "data": {
      "text/plain": [
       "Text(0.5, 1.0, 'initial condition of bbh merger population')"
      ]
     },
     "execution_count": 56,
     "metadata": {},
     "output_type": "execute_result"
    },
    {
     "data": {
      "image/png": "[encoded data removed]",
      "text/plain": [
       "<Figure size 432x288 with 1 Axes>"
      ]
     },
     "metadata": {
      "needs_background": "light"
     },
     "output_type": "display_data"
    },
    {
     "data": {
      "image/png": "[encoded data removed]",
      "text/plain": [
       "<Figure size 432x288 with 1 Axes>"
      ]
     },
     "metadata": {
      "needs_background": "light"
     },
     "output_type": "display_data"
    }
   ],
   "source": [
    "plt.figure()\n",
    "h = plt.hist(, range=())\n",
    "plt.xlabel(, size=18)\n",
    "plt.ylabel(, size=18)\n",
    "plt.title('initial population', size=18)\n",
    "\n",
    "plt.figure()\n",
    "h = plt.hist(, range=())\n",
    "plt.xlabel(, size=18)\n",
    "plt.ylabel(, size=18)\n",
    "plt.title('initial condition of bbh merger population', size=18)"
   ]
  },
  {
   "cell_type": "code",
   "execution_count": 57,
   "metadata": {},
   "outputs": [
    {
     "data": {
      "text/plain": [
       "Text(0.5, 1.0, 'initial condition of bbh merger population')"
      ]
     },
     "execution_count": 57,
     "metadata": {},
     "output_type": "execute_result"
    },
    {
     "data": {
      "image/png": "[encoded data removed]",
      "text/plain": [
       "<Figure size 432x288 with 1 Axes>"
      ]
     },
     "metadata": {
      "needs_background": "light"
     },
     "output_type": "display_data"
    },
    {
     "data": {
      "image/png": "[encoded data removed]",
      "text/plain": [
       "<Figure size 432x288 with 1 Axes>"
      ]
     },
     "metadata": {
      "needs_background": "light"
     },
     "output_type": "display_data"
    }
   ],
   "source": []
  },
  {
   "cell_type": "markdown",
   "metadata": {},
   "source": [
    "### 6b) Make a histogram of only the primary masses you saved (the more massive BH). \n",
    "\n",
    "- remember, you were asked to save the index of the binaries that merged and the mass of the more massive black hole before the merger"
   ]
  },
  {
   "cell_type": "code",
   "execution_count": 59,
   "metadata": {},
   "outputs": [
    {
     "data": {
      "text/plain": [
       "Text(0.5, 1.0, 'BH masses before merger')"
      ]
     },
     "execution_count": 59,
     "metadata": {},
     "output_type": "execute_result"
    },
    {
     "data": {
      "image/png": "[encoded data removed]",
      "text/plain": [
       "<Figure size 432x288 with 1 Axes>"
      ]
     },
     "metadata": {
      "needs_background": "light"
     },
     "output_type": "display_data"
    }
   ],
   "source": [
    "h = plt.hist()\n",
    "plt.xlabel(, size=18)\n",
    "plt.ylabel(, size=18)\n",
    "plt.title('primary mass before BBH merger', size=18)"
   ]
  },
  {
   "cell_type": "markdown",
   "metadata": {},
   "source": [
    "### 6c) compare your plot to this one. \n",
    "\n",
    "![primary_mass](https://www.ligo.org/science/Publication-O2BBHPop/images/fig2.png)\n",
    "\n"
   ]
  },
  {
   "cell_type": "markdown",
   "metadata": {},
   "source": [
    "This plot shows the rate of BBH mergers per volume per year per primary mass. You can think of this plot as how likely you are to see a binary black hole merger with a specific primary mass. This plot was made using LIGO observations of real BBH mergers. The different colors correspond to different models. Each model has different assuptions, just to name a few: Model A assumed that BHs with masses below 5$M_{\\odot}$ do not exist. Model B assumed a different initial distribution of black holes.\n",
    "\n",
    "\n",
    "Your histogram is similar to this plot because a histogram can tell you there are many more mergers with primary masses around 5$M_{\\odot}$. This is similar to saying, if you had to guess it is more likely you will see a BBH merger with a primary mass around 5$M_{\\odot}$.\n",
    "\n",
    "This is not a perfect comparison but it is good enough! **What comments can you make about it?** Remember you are comparing simulation data to data informed by real events!\n",
    "\n",
    "This figure comes from this paper: https://dcc.ligo.org/public/0156/P1800324/009/O2RandP.pdf you don't have to read it. it is just for your reference"
   ]
  },
  {
   "cell_type": "markdown",
   "metadata": {},
   "source": [
    "### 6d) Make a histogram of the mass ratio, q = secondary_mass/primary_mass\n",
    "\n",
    "If your numbers are in an array you can simply divide the arrays. "
   ]
  },
  {
   "cell_type": "code",
   "execution_count": 69,
   "metadata": {
    "scrolled": true
   },
   "outputs": [
    {
     "data": {
      "text/plain": [
       "Text(0.5, 1.0, 'BH masses before merger')"
      ]
     },
     "execution_count": 69,
     "metadata": {},
     "output_type": "execute_result"
    },
    {
     "data": {
      "image/png": "[encoded data removed]",
      "text/plain": [
       "<Figure size 432x288 with 1 Axes>"
      ]
     },
     "metadata": {
      "needs_background": "light"
     },
     "output_type": "display_data"
    }
   ],
   "source": [
    "q = \n"
   ]
  },
  {
   "cell_type": "markdown",
   "metadata": {},
   "source": [
    "### 6e) Compare your plot to this one"
   ]
  },
  {
   "cell_type": "markdown",
   "metadata": {},
   "source": [
    "\n",
    "\n",
    "<img src=\"q_distribution.png\">"
   ]
  },
  {
   "cell_type": "markdown",
   "metadata": {},
   "source": [
    "This plot shows the rate of BBH mergers per volume per year per **mass ratio**. This is the same as the first plot. Again, you can think of this plot as how likely you are to see a binary black hole merger with a specific **mass ratio**. The colors here correspond to the same models as above. \n",
    "\n",
    "\n",
    "What comments can you make about this comparison? Do any of the models look similar to your histogram?\n"
   ]
  },
  {
   "cell_type": "markdown",
   "metadata": {},
   "source": [
    "### 6f) Read this short article on the mass distribution of the resulting BH mass after a merger.\n",
    "\n",
    "https://aasnova.org/2019/07/10/exploring-a-black-hole-mass-conundrum/\n",
    "\n"
   ]
  },
  {
   "cell_type": "markdown",
   "metadata": {},
   "source": [
    "### 6g) Make a histogram of the resulting BH mass in each merger.\n",
    "\n",
    "If your numbers are in an array you can simply add them. Adding arrays will add the numbers element by element"
   ]
  },
  {
   "cell_type": "code",
   "execution_count": 65,
   "metadata": {},
   "outputs": [],
   "source": [
    "total_mass = \n"
   ]
  },
  {
   "cell_type": "code",
   "execution_count": 70,
   "metadata": {},
   "outputs": [
    {
     "data": {
      "text/plain": [
       "Text(0.5, 1.0, 'BH masses before merger')"
      ]
     },
     "execution_count": 70,
     "metadata": {},
     "output_type": "execute_result"
    },
    {
     "data": {
      "image/png": "[encoded data removed]",
      "text/plain": [
       "<Figure size 432x288 with 1 Axes>"
      ]
     },
     "metadata": {
      "needs_background": "light"
     },
     "output_type": "display_data"
    }
   ],
   "source": [
    "h = plt.hist()\n",
    "plt.xlabel(, size=18)\n",
    "plt.ylabel(, size=18)\n",
    "plt.title(, size=18)"
   ]
  },
  {
   "cell_type": "markdown",
   "metadata": {},
   "source": [
    "### 6h) Compare your plot to this\n"
   ]
  },
  {
   "cell_type": "markdown",
   "metadata": {},
   "source": [
    "\n",
    "\n",
    "<img src=\"https://3iom3142cnb81rlnt6w4mtlr-wpengine.netdna-ssl.com/wp-content/uploads/2019/07/apjlab2336f5_hr.jpg\" style=\"width:30vw\">\n",
    "\n",
    "This is the last plot from the article you read.\n",
    "\n",
    "It comes from this scientific paper https://arxiv.org/pdf/1901.03345.pdf. You don't have to read this\n",
    "\n",
    "In this plot the y-axis shows a similar idea to the last image. It shows model predictions for the distribution of the observed total mass of 10 mergers. Similar to the last image you can think of it as how likely it is to see a certain distribution of total final BH masses. The different colors are again different models. The black line is informed by the observed values from LIGO detections.\n",
    "\n",
    "This is not a perfect comparison but it is good enough! What comments can you make about your total mass distribution and the figure? What range do you have on the x-axis and what range does the other plot have?\n"
   ]
  },
  {
   "cell_type": "markdown",
   "metadata": {},
   "source": [
    "## 7. Do this same comparison with the different initial populations I have provided. \n",
    "#### You do not have to redo all the poll questions.\n",
    "\n",
    "#### This is meant for you to see how your results can change if you make different assumptions about the initial population.\n",
    "#### Changing parameters like this is one way astronomers can tune their assumptions to better match observations. This helps us have a better understanding of the universe by ruling out assumptions that don't match observations.\n",
    "\n",
    "**data_diff_imf.h5** has a completely different initial population of the binaries. The initial orbital periods, eccentricities, and mass ratios, among others.\n",
    "\n",
    "**data_lowZ.h5** has a different metallicity. It is 100x smaller amount of metals\n",
    "\n",
    "**data_wkicks.h5** this one includes \"kicks\". When stars explode as super nova the explosion can \"kick\" the remaining black hole.\n",
    "\n",
    "## Which file gave a better comparison to the plots from scientific papers?\n",
    "## Answer the final poll (yay!), Poll #8.  "
   ]
  },
  {
   "cell_type": "code",
   "execution_count": null,
   "metadata": {},
   "outputs": [],
   "source": []
  }
 ],
 "metadata": {
  "anaconda-cloud": {},
  "kernelspec": {
   "display_name": "Python 3",
   "language": "python",
   "name": "python3"
  },
  "language_info": {
   "codemirror_mode": {
    "name": "ipython",
    "version": 3
   },
   "file_extension": ".py",
   "mimetype": "text/x-python",
   "name": "python",
   "nbconvert_exporter": "python",
   "pygments_lexer": "ipython3",
   "version": "3.7.6"
  }
 },
 "nbformat": 4,
 "nbformat_minor": 1
}
