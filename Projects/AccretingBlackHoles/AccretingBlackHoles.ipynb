{
  "cells": [
    {
      "cell_type": "markdown",
      "id": "28e3eda0",
      "metadata": {
        "id": "28e3eda0"
      },
      "source": [
        "# Accreting Black Holes\n",
        "\n",
        "## 0. GENERAL BACKGROUND\n",
        "\n",
        "Binary star systems consist of two stars that orbit one another. Depending on the mass of these stars, one or more of them may explode in a supernova and form a black hole late in their lifetime. This is generally the case for stars with initial masses greater than 20 times that of the sun, or 20 solar masses ($M_\\odot$). \n",
        "\n",
        "In the majority of these binary systems, black hole formation occurs asynchronously. This implies that the binary undergoes a period time where one object is a black hole and one object is still a star. This stage of evolution is called the x-ray binary phase, and the system is referred to as an **x-ray binary**.\n",
        "\n",
        "Why do we call these systems x-ray binaries? During this evolutionary stage, the black hole accretes matter from its companion star due to its strong gravitational pull. The accretion process heats transferred material through gravitational and frictional forces, which in turn triggers the emission of x-rays. Below is a helpful illustration of this process:\n",
        "\n",
        "![HMXB_illustration](HMXB_illustration.jpg)\n",
        "\n",
        "Because the matter surrounding these black holes emits brightly in the x-ray band of the electromagnetic spectrum, x-ray observatories (such as the Chandra Observatory) search for this emission to identify binary systems that house black holes. The brightness, or luminosity, that astronomers observe in these binaries is called the **accretion luminosity**, as it is the luminosity that results from the accretion process of stellar material onto the black hole. These observations help astronomers learn about the properties of these systems and predict their possible courses of evolution. For example, some astronomers are interested in finding systems like these that will eventually form colliding black holes, which can be observed with gravitational wave detections.\n",
        "\n",
        "In this project, we will take a closer look at how we can predict the luminosity of these black hole systems using computational methods and data from simulations.  Theoretical calculations like these help astronomers target their observations towards certain luminosities so that they can better identify these systems in the sky. These calculations also help astronomers compare their theoretical predictions with observations so that they can better understand if there are flaws in their theoretical or observational methods."
      ]
    },
    {
      "cell_type": "markdown",
      "id": "612892ad",
      "metadata": {
        "id": "612892ad"
      },
      "source": [
        "## 1. INTRODUCTION AND DEFINITIONS\n",
        "\n",
        "### 1.1  Some theoretical background\n",
        "As it turns out, black holes are not necessarily entirely dark! \n",
        "\n",
        "Indeed, black holes that are being feed material are able to emit light by a process that we call **\"mass-to-energy conversion\"**. In this process, a black hole is able to *accrete* (that is, increase its mass) via an **accretion disk** that transports material from large distances all the way down to the edge of the black hole, near its **event horizon**. By being moved around, the material loses energy, which is released in the form of emitted light. Therefore, the amount of light emitted -- which we call the **accretion luminosity** $L_{\\rm acc}$-- must be proportional to the so-called accretion rate of the disk  $\\dot{M}_{\\rm acc}$. In order to fall into the black hole, the material loses *so much energy*, that this must be released at the expense of the material's own (rest) mass. This process literally converts mass into light!\n",
        "\n",
        "If we put it into equation form:\n",
        "\n",
        "$L_{\\rm acc} = \\eta \\dot{M}_{\\rm acc}c^2$\n",
        "\n",
        "where $c$ is the speed of light and $\\eta$ is a scale factor which represents the **efficiency of mass-to-energy conversion**.\n",
        "\n",
        "As black holes evolve and increase their mass via accretion, their efficiency $\\eta$ is thought to increase as well (the reasons are beyond the scope of this project, but they have to do with the black hole being spun up as it grows in mass, and spinning black holes are more efficient at converting mass into energy than non-spinning ones). An approximate way to relate the evolving efficiency to the evolving black hole mass is:\n",
        "\n",
        "$$\\eta = 1 - \\sqrt{1 - \\bigg(\\frac{M_{\\rm BH}}{3M_{\\rm BH,0}}\\bigg)^2}$$\n",
        "\n",
        "Since mass is literally being converted into light, it turns out the the black hole doesn't get to eat all the mass that was originally fed to it from a large distance. Instead, the black hole only accretes the material that **was not** converted into light. Or, in equation form, \n",
        "\n",
        "$$ \\dot{M}_{\\rm BH} = \\dot{M}_{\\rm acc}(1 - \\eta)$$\n",
        "\n",
        "\n",
        "You will need to use (and understand!) these three equations to carry out the following research project.\n",
        "\n",
        "### 1.2 Defining your own Python functions\n",
        "First, we need to write a function that calculates and returns the accretion luminosity of a black hole in a binary system. We need something like the following:"
      ]
    },
    {
      "cell_type": "markdown",
      "id": "0013e82e",
      "metadata": {
        "id": "0013e82e"
      },
      "source": [
        "```python\n",
        "def calc_Lacc(<function arguments>):\n",
        "\n",
        "  < calculate Lacc using the above formulae >\n",
        "\n",
        "  return Lacc\n",
        "```"
      ]
    },
    {
      "cell_type": "markdown",
      "id": "bd39630f",
      "metadata": {
        "id": "bd39630f"
      },
      "source": [
        "The parameters being fed to our function are $M_{\\rm BH}$, $M_{\\rm BH,0}$, and $\\dot{M}_{\\rm BH}$ (see definitions above). And we need the function to output $L_{\\rm acc}$ according to the equation above. Thus we need something like:\n",
        "```python\n",
        "def calc_Lacc(Mbh,Mbh0,Mdotbh):\n",
        "\n",
        "  Lacc = eta * Mdotacc * c**2\n",
        "\n",
        "  return Lacc\n",
        "```\n",
        "where you we need to look up the value of ``c``. But most importantly, we also need to know where ``eta`` and ``Mdotacc`` come from! \n",
        "\n",
        "So, a more complete definition of the function is something that may look like:\n",
        "\n",
        "```python\n",
        "def calc_Lacc(Mbh,Mbh0,Mdotbh):\n",
        "  eta = 1 - (1 - (Mbh/3/Mbh0)**2)**0.5\n",
        "  Mdotacc = Mdotbh/(1- eta)\n",
        "  Lacc = eta * Mdotacc * c**2\n",
        "\n",
        "  return Lacc\n",
        "```\n",
        "\n",
        "\n",
        "Now it's your turn to make this function work."
      ]
    },
    {
      "cell_type": "code",
      "execution_count": null,
      "id": "6dc073b5",
      "metadata": {
        "id": "6dc073b5"
      },
      "outputs": [],
      "source": [
        "# define your function in this code cell\n",
        "# \n",
        "def calc_Lacc(Mbh,Mbh0,Mdotbh):\n",
        "  eta = 1 - (1 - (Mbh/3/Mbh0)**2)**0.5\n",
        "  Mdotacc = Mdotbh/(1- eta)\n",
        "  Lacc = eta * Mdotacc * c**2\n",
        "\n",
        "  return Lacc"
      ]
    },
    {
      "cell_type": "markdown",
      "id": "3ff0e23f",
      "metadata": {
        "id": "3ff0e23f"
      },
      "source": [
        "Note that ``eta`` and ``Mdotacc`` are computed from other quantities, so they can be defined as functions themselves! \n",
        "Now, try something like this:\n",
        "\n",
        "```python\n",
        "def calc_eta( <...>):\n",
        "  <...>\n",
        "  return eta\n",
        "\n",
        "def calc_Mdotacc( <...>):\n",
        "  <...>\n",
        "  return Mdotacc\n",
        "\n",
        "\n",
        "def calc_Lacc( <...>):\n",
        "  <...>\n",
        "  Lacc = calc_eta(<...>) * calc_Mdotacc(<...>) * c**2\n",
        "\n",
        "  return Lacc\n",
        "```"
      ]
    },
    {
      "cell_type": "code",
      "execution_count": null,
      "id": "1f204e7b",
      "metadata": {
        "id": "1f204e7b"
      },
      "outputs": [],
      "source": [
        "# define your function in this code cell\n",
        "# ...\n",
        "\n",
        "c = 2.99792458e10 # in cm/s\n",
        "Msun = 1.989e33 # in g\n",
        "year = 3.156e7 # in sec\n",
        "\n",
        "def calc_Lacc(Mbh,Mbh0,Mdotbh):\n",
        "  eta = 1 - (1 - (Mbh/3/Mbh0)**2)**0.5\n",
        "  Mdotacc = Mdotbh/(1- eta)\n",
        "  Lacc = eta * Mdotacc * c**2\n",
        "\n",
        "  return Lacc"
      ]
    },
    {
      "cell_type": "markdown",
      "id": "f32f9c9b",
      "metadata": {
        "id": "f32f9c9b"
      },
      "source": [
        "To test your function, use it to calculate the accretion luminosity for a system with $M_{\\rm BH} = 11.645$ M$_{\\odot}$, $M_{\\rm BH,0} = 11.611$ M$_{\\odot}$, $\\dot{M}_{\\rm BH} = 3.026\\times10^{-7} M_{\\odot}$ yr$^{-1}$. \n",
        "What is the value of $L_{\\rm acc}$? (The quantity $M_\\odot=1.98847\\times10^{33}$ gr corresponds to the mass of the Sun and is referred to as a \"solar mass\")"
      ]
    },
    {
      "cell_type": "code",
      "execution_count": null,
      "id": "985a77f8",
      "metadata": {
        "id": "985a77f8",
        "outputId": "a916a049-e347-420d-a6c3-4d9539264d71"
      },
      "outputs": [
        {
          "data": {
            "text/plain": [
              "1.0463766110464895e+39"
            ]
          },
          "execution_count": 3,
          "metadata": {},
          "output_type": "execute_result"
        }
      ],
      "source": [
        "# test your function here\n",
        "# ...\n",
        "\n",
        "calc_Lacc(11.645* Msun,11.611*Msun,3.026e-7*Msun/year)"
      ]
    },
    {
      "cell_type": "markdown",
      "id": "bdc5da1c",
      "metadata": {
        "id": "bdc5da1c"
      },
      "source": [
        "### 1.3 Reading-in data files\n",
        "For this project, we are going to use data generated by a general theoretical modelling tool called COSMIC. This software generales CSV files (comma separated values) that we can read using pandas.\n",
        "\n"
      ]
    },
    {
      "cell_type": "markdown",
      "id": "67357252",
      "metadata": {
        "id": "67357252"
      },
      "source": [
        "``` python\n",
        "import pandas as pd\n",
        "df1 = pd.read_csv('cosmic_data_1.csv')\n",
        "print(df1.columns)\n",
        "```\n"
      ]
    },
    {
      "cell_type": "code",
      "execution_count": null,
      "id": "5bf1d428",
      "metadata": {
        "id": "5bf1d428",
        "outputId": "93593449-078e-41bb-8e4e-3f9462f8b61c"
      },
      "outputs": [
        {
          "name": "stdout",
          "output_type": "stream",
          "text": [
            "Index(['tphys', 'kstar_1', 'mass0_1', 'mass_1', 'lum_1', 'rad_1', 'teff_1',\n",
            "       'massc_1', 'radc_1', 'menv_1', 'renv_1', 'epoch_1', 'omega_spin_1',\n",
            "       'deltam_1', 'RRLO_1', 'kstar_2', 'mass0_2', 'mass_2', 'lum_2', 'rad_2',\n",
            "       'teff_2', 'massc_2', 'radc_2', 'menv_2', 'renv_2', 'epoch_2',\n",
            "       'omega_spin_2', 'deltam_2', 'RRLO_2', 'porb', 'sep', 'ecc', 'B_1',\n",
            "       'B_2', 'SN_1', 'SN_2', 'bin_state', 'merger_type', 'bin_num'],\n",
            "      dtype='object')\n"
          ]
        }
      ],
      "source": [
        "# copy the snipet above into this code cell\n",
        "# ...\n",
        "import pandas as pd\n",
        "df1 = pd.read_csv('cosmic_data_1.csv')\n",
        "print(df1.columns)"
      ]
    },
    {
      "cell_type": "markdown",
      "id": "733a4a20",
      "metadata": {
        "id": "733a4a20"
      },
      "source": [
        "Some of the relevant columns are the time ``tphys``, the masses of the primary and secondary **when they were still stars** are  ``mass0_1`` and ``mass0_2`` respectively, and the masses of the primary and secondary  at the current time ``tphys`` are ``mass1`` and ``mass2``, respectively. The rate of change of mass (i.e., the \"accretion rate\") of the primary and secondary are ``deltam_1`` and ``deltam_2``, respectively."
      ]
    },
    {
      "cell_type": "markdown",
      "id": "0f09a4ad",
      "metadata": {
        "id": "0f09a4ad"
      },
      "source": [
        "### 1.4 Plotting data"
      ]
    },
    {
      "cell_type": "markdown",
      "id": "da815466",
      "metadata": {
        "id": "da815466"
      },
      "source": [
        "Using what you have learned about matplotlib, try plotting any two columns contained in the datafile ``cosmic_data_1.csv``. For instance, you can plot the masses of the primary and secondary as a function of time:\n",
        "\n",
        "```python\n",
        "import matplotlib.pyplot as plt\n",
        "\n",
        "plt.plot(df1['tphys'],df1['mass_1'])\n",
        "plt.plot(df1['tphys'],df1['mass_2'])\n",
        "```\n",
        "\n",
        "\n"
      ]
    },
    {
      "cell_type": "code",
      "execution_count": null,
      "id": "83a3550f",
      "metadata": {
        "id": "83a3550f",
        "outputId": "e3d69862-1a71-4c5a-cb3a-455444a3fc6b"
      },
      "outputs": [
        {
          "data": {
            "text/plain": [
              "[<matplotlib.lines.Line2D at 0x1177624f0>]"
            ]
          },
          "execution_count": 5,
          "metadata": {},
          "output_type": "execute_result"
        },
        {
          "data": {
            "image/png": "[encoded data removed]",
            "text/plain": [
              "<Figure size 432x288 with 1 Axes>"
            ]
          },
          "metadata": {
            "needs_background": "light"
          },
          "output_type": "display_data"
        }
      ],
      "source": [
        "# try to make a plot here\n",
        "# ...\n",
        "import matplotlib.pyplot as plt\n",
        "\n",
        "plt.plot(df1['tphys'],df1['mass_1'])\n",
        "plt.plot(df1['tphys'],df1['mass_2'])"
      ]
    },
    {
      "cell_type": "markdown",
      "id": "0c3f2bae",
      "metadata": {
        "id": "0c3f2bae"
      },
      "source": [
        "## 2. YOUR TURN TO DO RESEARCH!\n",
        "\n",
        "### 2.1 Use  what you have learned so far\n",
        "\n",
        "#### 2.2.1 Modify your functions\n",
        "The value of $\\eta$ as defined above becomes imaginary if $M_{\\rm BH}>3M_{\\rm BH,0}$. But in practice, this equation stops being valid much earlier. Specifically, according to black hole theory $\\eta$ cannot exceed a value of 0.42 (which takes place for a so-called **maximally spinning black hole**, for which the event horizon rotates at the speed of light!). Thus, $\\eta$ is taken to be $0.42$\n",
        "for all black hole masses of $\\sqrt{6}M_{BH,0}$ and above (you cannot spin faster than a maximally spinning black hole!).\n",
        "\n",
        "So, you need to ammend your old function below to capture this new condition on $\\eta$:\n"
      ]
    },
    {
      "cell_type": "code",
      "execution_count": null,
      "id": "70d78e05",
      "metadata": {
        "id": "70d78e05"
      },
      "outputs": [],
      "source": [
        "# code an ammended function here that does not allow eta to be larger than 0.42\n",
        "#...\n",
        "\n",
        "def calc_Lacc(Mbh,Mbh0,Mdotbh):\n",
        "  if (Mbh <= 6**0.5 * Mbh0):\n",
        "      eta = 1 - (1 - (Mbh/3/Mbh0)**2)**0.5\n",
        "  else:\n",
        "    eta = 0.42\n",
        "  Mdotacc = Mdotbh/(1- eta)\n",
        "  Lacc = eta * Mdotacc * c**2\n",
        "\n",
        "  return Lacc\n",
        "\n"
      ]
    },
    {
      "cell_type": "markdown",
      "id": "e220cec9",
      "metadata": {
        "id": "e220cec9"
      },
      "source": [
        "Another ammendment that we need to implement is what called  **bolometric correction** to the luminosity. A bolometric correction is a multiplicative factor that accounts for differences between the visible luminosity that we observe and the true brightness of the observed source. For binaries with accreting black holes, this correction is $0.8$. Copy and paste your old function below, and then multiply your final accretion luminosity by this factor before returning it. "
      ]
    },
    {
      "cell_type": "code",
      "execution_count": null,
      "id": "8d11ee9a",
      "metadata": {
        "id": "8d11ee9a"
      },
      "outputs": [],
      "source": [
        "# code an ammended function here that takes the bolometric correction into account\n",
        "#...\n",
        "\n",
        "def calc_Lacc(Mbh,Mbh0,Mdotbh):\n",
        "  if (Mbh <= 6**0.5 * Mbh0):\n",
        "      eta = 1 - (1 - (Mbh/3/Mbh0)**2)**0.5\n",
        "  else:\n",
        "    eta = 0.42\n",
        "  Mdotacc = Mdotbh/(1- eta)\n",
        "  Lacc = eta * Mdotacc * c**2\n",
        "  Lacc *= 0.8\n",
        "    \n",
        "  return Lacc\n",
        "\n"
      ]
    },
    {
      "cell_type": "markdown",
      "id": "56615b8c",
      "metadata": {
        "id": "56615b8c"
      },
      "source": [
        "What is the value of $L_{\\rm acc}$ for the same values as above ( $M_{\\rm BH} = 11.645$ M$_{\\odot}$, $M_{\\rm BH,0} = 11.611$ M$_{\\odot}$, $\\dot{M}_{\\rm BH} = 3.026\\times10^{-7} M_{\\odot}$ yr$^{-1}$) now that you have ammended your function?"
      ]
    },
    {
      "cell_type": "code",
      "execution_count": null,
      "id": "c18d4592",
      "metadata": {
        "id": "c18d4592",
        "outputId": "d1f9e9f7-0307-4fcb-f34d-19799694c10d"
      },
      "outputs": [
        {
          "data": {
            "text/plain": [
              "8.371012888371916e+38"
            ]
          },
          "execution_count": 8,
          "metadata": {},
          "output_type": "execute_result"
        }
      ],
      "source": [
        "# test your ammended function here\n",
        "# ...\n",
        "\n",
        "calc_Lacc(11.645* Msun,11.611*Msun,3.026e-7*Msun/year)"
      ]
    },
    {
      "cell_type": "markdown",
      "id": "1359589a",
      "metadata": {
        "id": "1359589a"
      },
      "source": [
        "#### 2.2.2 Apply your functions to datasets\n",
        "\n",
        "We want to apply your function ``calc_Lacc`` to the data frame ``df1`` that contains the dataset ``cosmic_data_1.csv``. \n",
        "\n",
        "Since the secondary is the accreting black hole, the parameters we need are ```mass_2``` and ```deltam_2```. One way we can acquire luminosity information is to loop through the dataframe, row by row, and calculate the luminosity at each time step using our function.\n",
        "\n",
        "First, write a ```for``` loop that goes through each row of the data frame and applies your luminosity function at each iteration. We will try the pandas function ```iterrows()```.* \n",
        "\n",
        "For example, the following loop print out the value of ```mass_2``` for each and every row in the data frame alongside the initial value of ```mass_2```\n",
        "\n",
        "```python\n",
        "for index,row in df1.iterrows():\n",
        "    print(row['mass_2'],df1['mass_2'][0])\n",
        "```\n",
        "\n",
        "Now try it yourself:"
      ]
    },
    {
      "cell_type": "code",
      "execution_count": null,
      "id": "d9188aa5",
      "metadata": {
        "id": "d9188aa5",
        "outputId": "38aec57a-388c-411f-f06c-027be9da29a3"
      },
      "outputs": [
        {
          "name": "stdout",
          "output_type": "stream",
          "text": [
            "5.849342201266905 11.611779387990982\n",
            "5.859342201266905 11.611779801850762\n",
            "5.869342201266905 11.611780221423343\n",
            "5.879342201266905 11.611780646810866\n",
            "5.8893422012669046 11.611781078117533\n",
            "5.899342201266904 11.611781515449646\n",
            "5.909342201266904 11.611781958915634\n",
            "5.919342201266904 11.61178240862611\n",
            "5.929342201266904 11.611782864693888\n",
            "5.939342201266904 11.611783327234026\n",
            "5.949342201266902 11.611783796363854\n",
            "5.959342201266903 11.611784272203035\n",
            "5.969342201266903 11.611784754873565\n",
            "5.979342201266903 11.611785244499831\n",
            "5.989342201266902 11.611785741208635\n",
            "5.999342201266903 11.611786245129217\n",
            "6.009342201266903 11.611786756393304\n",
            "6.019342201266903 11.61178727513512\n",
            "6.029342201266903 11.611787801491436\n",
            "6.039342201266901 11.611788335601563\n",
            "6.049342201266901 11.611788877607417\n",
            "6.059342201266903 11.611789427653497\n",
            "6.069342201266903 11.611789985886938\n",
            "6.0793422012669005 11.611790552457506\n",
            "6.0893422012669 11.611791127517614\n",
            "6.0993422012669 11.611791711222356\n",
            "6.1093422012669 11.611792303729464\n",
            "6.1193422012669005 11.611792905199358\n",
            "6.129342201266898 11.611793515795116\n",
            "6.139342201266898 11.611794135682471\n",
            "6.149342201266898 11.611794765029805\n",
            "6.159342201266898 11.611795404008124\n",
            "6.169342201266898 11.611796052791023\n",
            "6.1793422012668975 11.611796711554682\n",
            "6.189342201266898 11.611797380477798\n",
            "6.199342201266898 11.611798059741552\n",
            "6.209342201266898 11.611798749529544\n",
            "6.2193422012668975 11.611799450027744\n",
            "6.229342201266898 11.611800161424398\n",
            "6.239342201266898 11.611800883909943\n",
            "6.249342201266898 11.611801617676926\n",
            "6.2593422012668976 11.611802362919876\n",
            "6.2693422012668965 11.611803119835177\n",
            "6.279342201266898 11.611803888620951\n",
            "6.289342201266898 11.611804669476896\n",
            "6.299342201266898 11.611805462604089\n",
            "6.3093422012668965 11.611806268204829\n",
            "6.319342201266895 11.611807086482422\n",
            "6.329342201266893 11.611807917640952\n",
            "6.339342201266893 11.611808761885026\n",
            "6.349342201266895 11.611809619419512\n",
            "6.359342201266895 11.61181049044924\n",
            "6.369342201266893 11.611811375178675\n",
            "6.379342201266893 11.611812273811584\n",
            "6.389342201266893 11.611813186550634\n",
            "6.399342201266893 11.611814113597006\n",
            "6.4093422012668935 11.61181505514994\n",
            "6.419342201266893 11.611816011406276\n",
            "6.429342201266893 11.61181698255993\n",
            "6.439342201266893 11.611817968801343\n",
            "6.4493422012668935 11.611818970316907\n",
            "6.459342201266893 11.611819987288328\n",
            "6.469342201266893 11.611821019891948\n",
            "6.479342201266893 11.611822068298023\n",
            "6.4893422012668935 11.61182313266998\n",
            "6.499342201266893 11.61182421316357\n",
            "6.509342201266893 11.611825309926026\n",
            "6.519342201266893 11.611826423095096\n",
            "6.529342201266894 11.61182755279813\n",
            "6.539342201266893 11.611828699151\n",
            "6.5493422012668905 11.611829862257006\n",
            "6.5593422012668885 11.611831042205743\n",
            "6.569342201266888 11.611832239071871\n",
            "6.57934220126689 11.611833452913832\n",
            "6.58934220126689 11.611834683772509\n",
            "6.5993422012668885 11.61183593166982\n",
            "6.609342201266887 11.611837196607238\n",
            "6.619342201266887 11.611838478564255\n",
            "6.629342201266889 11.611839777496767\n",
            "6.639342201266889 11.61184109333542\n",
            "6.649342201266888 11.61184242598387\n",
            "6.659342201266887 11.611843775316984\n",
            "6.669342201266887 11.61184514117901\n",
            "6.679342201266887 11.611846523381654\n",
            "6.689342201266888 11.611847921702145\n",
            "6.699342201266887 11.611849335881214\n",
            "6.709342201266887 11.611850768220954\n",
            "6.719342201266887 11.611852236520686\n",
            "6.729342201266888 11.611853757764491\n",
            "6.739342201266887 11.611855314570564\n",
            "6.749342201266887 11.61491592607922\n",
            "6.759342201266887 11.617492590250531\n",
            "6.769342201266888 11.620114317271089\n",
            "6.779342201266887 11.62278064061094\n",
            "6.7893422012668845 11.625491091725998\n",
            "6.799342201266885 11.628245203104427\n",
            "6.809342201266885 11.631042510433607\n",
            "6.819342201266885 11.633882553860436\n",
            "6.8293422012668845 11.636764878330853\n",
            "6.8393422012668825 11.639689033001762\n",
            "6.849342201266882 11.642654569719983\n",
            "6.859342201266884 11.64566104056057\n",
            "6.869342201266884 11.648707994411357\n",
            "6.8793422012668834 11.65179497258326\n",
            "6.889342201266882 11.654921503417524\n",
            "6.899342201266882 11.658087095852649\n",
            "6.909342201266883 11.661291231905498\n",
            "6.919342201266883 11.66453335801378\n",
            "6.929342201266882 11.667812875180609\n",
            "6.939342201266882 11.67112912785664\n",
            "6.949342201266883 11.6744813914912\n",
            "6.959342201266883 11.677868858681052\n",
            "6.9693422012668815 11.681290623843566\n",
            "6.979342201266881 11.684745666340708\n",
            "6.989342201266881 11.688232831980368\n",
            "6.999342201266881 11.69175081410462\n",
            "7.0093422012668825 11.69529812997422\n",
            "7.0193422012668805 11.698873096154678\n",
            "7.02934220126688 11.702473803959167\n",
            "7.03934220126688 11.706098091792866\n",
            "7.04934220126688 11.709743515481923\n",
            "7.05934220126688 11.713407316533212\n",
            "7.069342201266879 11.717086388273444\n",
            "7.079342201266879 11.720777239818256\n",
            "7.089342201266879 11.724475957822072\n",
            "7.099342201266879 11.72817816595844\n",
            "7.109342201266879 11.731878982077369\n",
            "7.119342201266877 11.735572972982077\n",
            "7.129342201266877 11.739254106762836\n",
            "7.139342201266878 11.742915702624098\n",
            "7.149342201266878 11.746550378146974\n",
            "7.1593422012668775 11.750149993952911\n"
          ]
        }
      ],
      "source": [
        "# Write a for loop here\n",
        "# ...\n",
        "for index,row in df1.iterrows():\n",
        "    print(row['tphys'],row['mass_2'])"
      ]
    },
    {
      "cell_type": "markdown",
      "id": "9502bd93",
      "metadata": {
        "id": "9502bd93"
      },
      "source": [
        "You can operate functions on each value of ``mass_2``. For instance, what if you want to compute ``mass_2`` to the fourth power? You can print it out like this:\n",
        "```python\n",
        "for index,row in df1.iterrows():\n",
        "    print(row['mass_2']**4)\n",
        "```\n",
        "Instead of printint the result to the screen, you can save them into an array instead!\n",
        "```python\n",
        "import numpy as np\n",
        "result = np.zeros(len(df1))\n",
        "for index,row in df1.iterrows():\n",
        "    result[index]=row['mass_2']**4\n",
        "print(result)\n",
        "```\n",
        "\n",
        "Now it is your turn to try operating functions on the data frame"
      ]
    },
    {
      "cell_type": "code",
      "execution_count": null,
      "id": "809b1666",
      "metadata": {
        "scrolled": true,
        "id": "809b1666",
        "outputId": "958a6165-c216-4a37-df78-7de76a8eba1a"
      },
      "outputs": [
        {
          "name": "stdout",
          "output_type": "stream",
          "text": [
            "[ 0.90979593  0.9098654   0.9099358   0.91000716  0.91007947  0.91015277\n",
            "  0.91022707  0.91030239  0.91037874  0.91045614  0.91053461  0.91061417\n",
            "  0.91069483  0.91077663  0.91085957  0.91094368  0.91102897  0.91111547\n",
            "  0.9112032   0.91129219  0.91138244  0.91147399  0.91156685  0.91166105\n",
            "  0.91175662  0.91185357  0.91195193  0.91205173  0.91215298  0.91225572\n",
            "  0.91235997  0.91246576  0.9125731   0.91268203  0.91279258  0.91290476\n",
            "  0.91301861  0.91313416  0.91325143  0.91337045  0.91349125  0.91361386\n",
            "  0.9137383   0.91386461  0.91399281  0.91412293  0.914255    0.91438905\n",
            "  0.9145251   0.9146632   0.91480335  0.9149456   0.91508998  0.9152365\n",
            "  0.91538519  0.91553609  0.91568922  0.91584461  0.91600227  0.91616224\n",
            "  0.91632454  0.91648919  0.91665621  0.91682563  0.91699745  0.9171717\n",
            "  0.9173484   0.91752756  0.91770919  0.9178933   0.9180799   0.91826899\n",
            "  0.91846058  0.91865467  0.91885125  0.91905032  0.91925187  0.91945589\n",
            "  0.91966235  0.91987125  0.92008254  0.92029621  0.92051222  0.92073053\n",
            "  0.92095109  0.92117385  0.92139917  0.92162982  0.92186844  0.92211229\n",
            "  0.66666641 -0.3082268  -0.98091274 -0.63357574  0.40094354  0.9991467\n",
            "  0.45921769 -0.62550619 -0.9622573  -0.10675926  0.89060682  0.73114932\n",
            " -0.40777497 -0.99436703 -0.18969306  0.89098794  0.67079863 -0.55447431\n",
            " -0.93731317  0.13949258  0.99816647  0.24342011 -0.91456256 -0.54165206\n",
            "  0.75546767  0.74661946 -0.57466785 -0.87332873  0.40490832  0.94422632\n",
            " -0.26080571 -0.97993679  0.14417645  0.99553673 -0.04853334 -0.99998754\n",
            " -0.03816964  0.99654041  0.1321989  -0.98217445 -0.25302437  0.94404672]\n"
          ]
        }
      ],
      "source": [
        "# apply functions to df1 here\n",
        "# ...\n",
        "\n",
        "import numpy as np\n",
        "from math import sin\n",
        "\n",
        "result = np.zeros(len(df1))\n",
        "for index,row in df1.iterrows():\n",
        "    result[index]=sin(row['mass_2']**3)\n",
        "print(result)"
      ]
    },
    {
      "cell_type": "markdown",
      "id": "b571cc0d",
      "metadata": {
        "id": "b571cc0d"
      },
      "source": [
        "Now, do this for the function ``calc_Lacc`` and save your calculated luminosities in an array. Print your final array of luminosities to check that they are reasonable. Reasonable luminosities should fall between $10^{30}$ and $10^{45}$ (the units are erg s$^{-1}$).\n"
      ]
    },
    {
      "cell_type": "code",
      "execution_count": null,
      "id": "0c24e91f",
      "metadata": {
        "id": "0c24e91f",
        "outputId": "c6933866-9b1c-4633-db43-5d6c99571b92"
      },
      "outputs": [
        {
          "name": "stdout",
          "output_type": "stream",
          "text": [
            "[7.98811035e+34 8.09818683e+34 8.21022958e+34 8.32427831e+34\n",
            " 8.44037348e+34 8.55855622e+34 8.67886842e+34 8.80135266e+34\n",
            " 8.92605220e+34 9.05301104e+34 9.18227382e+34 9.31388589e+34\n",
            " 9.44789325e+34 9.58434253e+34 9.72328100e+34 9.86475652e+34\n",
            " 1.00088175e+35 1.01555130e+35 1.03048925e+35 1.04570059e+35\n",
            " 1.06119036e+35 1.07696365e+35 1.09302556e+35 1.10938124e+35\n",
            " 1.12603585e+35 1.14299456e+35 1.16026256e+35 1.17784502e+35\n",
            " 1.19574712e+35 1.21397401e+35 1.23253080e+35 1.25142257e+35\n",
            " 1.27065433e+35 1.29023105e+35 1.31015757e+35 1.33043866e+35\n",
            " 1.35107896e+35 1.37208298e+35 1.39345506e+35 1.41519936e+35\n",
            " 1.43731986e+35 1.45982027e+35 1.48270408e+35 1.50597447e+35\n",
            " 1.52963432e+35 1.55368614e+35 1.57813208e+35 1.60297385e+35\n",
            " 1.62821270e+35 1.65384936e+35 1.67988403e+35 1.70631628e+35\n",
            " 1.73314507e+35 1.76036859e+35 1.78798433e+35 1.81598890e+35\n",
            " 1.84437805e+35 1.87314655e+35 1.90228814e+35 1.93179548e+35\n",
            " 1.96166000e+35 1.99187190e+35 2.02241998e+35 2.05329163e+35\n",
            " 2.08447268e+35 2.11594732e+35 2.14769798e+35 2.17970526e+35\n",
            " 2.21194779e+35 2.24440213e+35 2.27704264e+35 2.30984138e+35\n",
            " 2.34276796e+35 2.37578944e+35 2.40887022e+35 2.44197186e+35\n",
            " 2.47505299e+35 2.50806919e+35 2.54097284e+35 2.57371301e+35\n",
            " 2.60623536e+35 2.63848197e+35 2.67039130e+35 2.70189805e+35\n",
            " 2.73293306e+35 2.76342327e+35 2.81331903e+35 2.90664391e+35\n",
            " 3.01093793e+35 2.99919203e+35 4.96351101e+38 5.05140141e+38\n",
            " 5.14116910e+38 5.23015275e+38 5.31835192e+38 5.40577123e+38\n",
            " 5.49241867e+38 5.57830373e+38 5.66343568e+38 5.74782167e+38\n",
            " 5.83146493e+38 5.91436284e+38 5.99650507e+38 6.07787158e+38\n",
            " 6.15843053e+38 6.23813621e+38 6.31692674e+38 6.39472171e+38\n",
            " 6.47141964e+38 6.54689538e+38 6.62099725e+38 6.69354407e+38\n",
            " 6.76432205e+38 6.83308148e+38 6.89953326e+38 6.96093069e+38\n",
            " 7.02185675e+38 7.07935391e+38 7.13294023e+38 7.18207497e+38\n",
            " 7.22615421e+38 7.26450644e+38 7.29638798e+38 7.32097823e+38\n",
            " 7.33737498e+38 7.34458938e+38 7.34154103e+38 7.32705277e+38\n",
            " 7.29984544e+38 7.25853255e+38 7.20161482e+38 7.12747479e+38]\n"
          ]
        }
      ],
      "source": [
        "# compute Lacc for the entire data frame using iterrows\n",
        "# ...\n",
        "\n",
        "import numpy as np\n",
        "Lacc_array = np.zeros(len(df1))\n",
        "for index,row in df1.iterrows():\n",
        "    Lacc_array[index]= calc_Lacc(row[\"mass_2\"]*Msun,row[\"mass0_2\"]*Msun,row[\"deltam_2\"]*Msun/year)\n",
        "print(Lacc_array)"
      ]
    },
    {
      "cell_type": "markdown",
      "id": "29a0f83a",
      "metadata": {
        "id": "29a0f83a"
      },
      "source": [
        "Now that we have the accretion luminosity data for our binary, let's plot it to see how the system's emission changes over time. Using matplotlib, make a time series plot using the ```tphys``` column from the simulation output along with your array of luminosities. Make sure to properly label your plot!B *Hint: Use a log scale when plotting your luminosities so that you can better visualize the emission behavior.*"
      ]
    },
    {
      "cell_type": "code",
      "execution_count": null,
      "id": "690561f1",
      "metadata": {
        "id": "690561f1",
        "outputId": "1218bb6e-4760-4c68-ecd1-ed6054fd913e"
      },
      "outputs": [
        {
          "data": {
            "text/plain": [
              "[<matplotlib.lines.Line2D at 0x11786e4c0>]"
            ]
          },
          "execution_count": 12,
          "metadata": {},
          "output_type": "execute_result"
        },
        {
          "data": {
            "image/png": "[encoded data removed]",
            "text/plain": [
              "<Figure size 432x288 with 1 Axes>"
            ]
          },
          "metadata": {
            "needs_background": "light"
          },
          "output_type": "display_data"
        }
      ],
      "source": [
        "# use matplotlib to plot the accretion luminosity as a function of time\n",
        "# ...\n",
        "plt.plot(df1['tphys'],Lacc_array)"
      ]
    },
    {
      "cell_type": "markdown",
      "id": "172743c3",
      "metadata": {
        "id": "172743c3"
      },
      "source": [
        "One question researchers might ask is if a given binary system is observable. For a system to be observed by an x-ray observatory, it must reach a maximum luminosity above an observable threshold. Let's take our observable threshold to be $10^{37} erg$ $s^{-1}$, which is a common threshold used for the Chandra Observatory. Using your calculations, find the maximum luminosity of your biBnary system. Is it observable?"
      ]
    },
    {
      "cell_type": "code",
      "execution_count": null,
      "id": "b127c319",
      "metadata": {
        "id": "b127c319",
        "outputId": "f5f12805-09f3-42f3-c31d-9a7e004f66a8"
      },
      "outputs": [
        {
          "data": {
            "image/png": "[encoded data removed]",
            "text/plain": [
              "<Figure size 432x288 with 1 Axes>"
            ]
          },
          "metadata": {
            "needs_background": "light"
          },
          "output_type": "display_data"
        }
      ],
      "source": [
        "# plot again here and check if this binary system is observable (Hint: make the y-axis logarithmic in scale)\n",
        "# ...\n",
        "plt.plot(df1['tphys'],Lacc_array)\n",
        "plt.xlabel(\"Time (Myr)\", fontsize=14)\n",
        "plt.ylabel(\"$L_{acc}$ (ergs s$^{1}$)\", fontsize=14)\n",
        "plt.axhline(1.0e37, linestyle=\"--\", color=\"black\")\n",
        "plt.tick_params(\"both\", labelsize=14)\n",
        "plt.yscale('log')"
      ]
    },
    {
      "cell_type": "markdown",
      "id": "408d29ff",
      "metadata": {
        "id": "408d29ff"
      },
      "source": [
        "### 2.2 Expand on  what you have learned so far\n",
        "\n",
        "As it turns out, looping over dataframes using ```iterrows()``` is actually pretty slow. In the following, we will try an alternative method that we may call **\"the array method**.\n",
        "\n",
        "As an example, consider the following function ```func(y,a)```, where ```y``` is the independent variable and ```a``` is an additional parameter. Note that we define an **internal** variable ```b``` inside the function.\n",
        "\n",
        "```python\n",
        "from math import sin\n",
        "\n",
        "def func(y,a):\n",
        "    if (abs(a) < 1):\n",
        "        b = 1\n",
        "    else:\n",
        "        b  = 2\n",
        "\n",
        "    return sin(y/a)**b\n",
        "```\n",
        "\n",
        "Now you have multiple values of ```y``` (as you do values of mass in ```df1``` above) and **also** multiple value of ```a```:\n",
        "\n",
        "```python\n",
        "y = np.linspace(0,10,100)\n",
        "a = np.random.random(100)\n",
        "\n",
        "```\n",
        "You can repeat the loop method to evaluate  ```func``` for all these values of ```y``` and ```a```:\n",
        "\n",
        "```python\n",
        "for index in range(len(y)):\n",
        "    result[index] = func(y[index],a[index])\n",
        "```\n",
        "But, as mentioned before, this approach is very slow. ```numpy```, however, should allow you to operate the function directly on the arrays and do something like:\n",
        "\n",
        "```python\n",
        "result = func(y,a)\n",
        "```\n",
        "but that will not work. Do you know why?"
      ]
    },
    {
      "cell_type": "code",
      "execution_count": null,
      "id": "09498805",
      "metadata": {
        "id": "09498805"
      },
      "outputs": [],
      "source": [
        "# test that the numpy operation will not work off the bat\n",
        "#...\n",
        "from math import sin\n",
        "\n",
        "def func(y,a):\n",
        "    if (abs(a) < 1):\n",
        "        b = 1\n",
        "    else:\n",
        "        b  = 2\n",
        "\n",
        "    return sin(y/a)**b\n",
        "y = np.linspace(0,10,20)\n",
        "a = np.random.random(20)\n",
        "#result = func(y,a)\n"
      ]
    },
    {
      "cell_type": "markdown",
      "id": "fad88fa0",
      "metadata": {
        "id": "fad88fa0"
      },
      "source": [
        "We will solve this problem using what you learned about **array slicing**. For example, let's say I have two arrays of the same size called ```x``` and ```y```. If want to know which values of ```x``` are less than their corresponding values in ```y```, you can write:\n",
        "\n",
        "``` python\n",
        "x_lower_values = x < y\n",
        "```\n",
        "The quantity ```x_lower_values``` is a **boolean array** or an array of zeros and ones --or yeas and nays-- telling your where x is less than y (True) and when x is not less than y (False). Similarly, there is the ```numpy``` function ```where()```. \n",
        "\n",
        "Now rewrite the example function as:\n",
        "\n",
        "```python\n",
        "def func(y,a):\n",
        "    b = np.ones(len(a))\n",
        "    a_higher_values = a > 1\n",
        "\n",
        "    b[a_higher_values] = 2\n",
        "\n",
        "    return np.sin(y/a)**b\n",
        "```\n",
        "\n",
        "Alternatively, if you want to use ```where```, you could write:\n",
        "\n",
        "```python\n",
        "def func(y,a):\n",
        "    b = np.ones(len(a))\n",
        "    b = np.where(a > 1,2,1)\n",
        "    return np.sin(y/a)**b\n",
        "```\n",
        "Make sure these two functions work"
      ]
    },
    {
      "cell_type": "code",
      "execution_count": null,
      "id": "5bab57ea",
      "metadata": {
        "id": "5bab57ea",
        "outputId": "eb956fd3-affd-426f-fe39-aa44cd4967bb"
      },
      "outputs": [
        {
          "name": "stdout",
          "output_type": "stream",
          "text": [
            "[ 0.          0.72249766  0.78075766  0.70898435  0.71885156 -0.77676599\n",
            " -0.8698916   0.08286251  0.40163402  0.06231214 -0.99990929  0.28789052\n",
            " -0.21381493 -0.32425455 -0.97565754  0.41386193  0.05993288  0.65454045\n",
            " -0.04183744 -0.96353918]\n",
            "[ 0.          0.72249766  0.78075766  0.70898435  0.71885156 -0.77676599\n",
            " -0.8698916   0.08286251  0.40163402  0.06231214 -0.99990929  0.28789052\n",
            " -0.21381493 -0.32425455 -0.97565754  0.41386193  0.05993288  0.65454045\n",
            " -0.04183744 -0.96353918]\n"
          ]
        }
      ],
      "source": [
        "# code here\n",
        "#...\n",
        "def func(y,a):\n",
        "    b = np.ones(len(a))\n",
        "    a_higher_values = a > 1\n",
        "\n",
        "    b[a_higher_values] = 2\n",
        "\n",
        "    return np.sin(y/a)**b\n",
        "print(func(y,a))\n",
        "\n",
        "def func(y,a):\n",
        "    b = np.ones(len(a))\n",
        "    b = np.where(a > 1,2,1)\n",
        "    return np.sin(y/a)**b\n",
        "print(func(y,a))"
      ]
    },
    {
      "cell_type": "markdown",
      "id": "ba2d4da2",
      "metadata": {
        "id": "ba2d4da2"
      },
      "source": [
        "Now, ammend your ```calc_Lacc``` function once more such that you can call it in just one line\n",
        "```python\n",
        "def calc_Lacc_np(Mbh,Mbh0,Mdotbh):\n",
        "    ...\n",
        "```"
      ]
    },
    {
      "cell_type": "code",
      "execution_count": null,
      "id": "ea722719",
      "metadata": {
        "id": "ea722719"
      },
      "outputs": [],
      "source": [
        "# code your improved function here\n",
        "#...\n",
        "def calc_Lacc_np(Mbh,Mbh0,Mdotbh):\n",
        "  eta = np.where(Mbh > 6.**0.5*Mbh0, 0.42, 1. - (1. - (Mbh/(3*Mbh0))**2)**0.5)\n",
        "  Mdotacc = Mdotbh/(1- eta)\n",
        "  Lacc = eta * Mdotacc * c**2\n",
        "  Lacc *= 0.8\n",
        "    \n",
        "  return Lacc"
      ]
    },
    {
      "cell_type": "markdown",
      "id": "8f88d7ed",
      "metadata": {
        "id": "8f88d7ed"
      },
      "source": [
        "Apply your new and improved function to the same data set above. You should now only need one line of code to calculate your array of accretion luminosities. Print your final array of luminosities to check that they are reasonable. *Hint: you may need to create an array for $M_{BH,0}$ that is the same length as your arrays for $M_{BH}$ and $\\dot M_{BH}$ in order to pass it to your function.*"
      ]
    },
    {
      "cell_type": "code",
      "execution_count": null,
      "id": "1fac0c59",
      "metadata": {
        "id": "1fac0c59"
      },
      "outputs": [],
      "source": [
        "# code here\n",
        "# ...\n",
        "Lacc_array_np = calc_Lacc_np(df1[\"mass_2\"]*Msun,df1[\"mass0_2\"]*Msun,df1[\"deltam_2\"]*Msun/year)"
      ]
    },
    {
      "cell_type": "markdown",
      "id": "0ae4ebf9",
      "metadata": {
        "id": "0ae4ebf9"
      },
      "source": [
        "Plot the accretion luminosities you obtained with the ```for``` loop method as well as those you obtained with the array method. They should appear to be the same line on your plot! Make sure to properly label your plot."
      ]
    },
    {
      "cell_type": "code",
      "execution_count": null,
      "id": "b3c8d58a",
      "metadata": {
        "id": "b3c8d58a",
        "outputId": "93c16e71-f7e8-4967-a722-280781f2a41e"
      },
      "outputs": [
        {
          "data": {
            "image/png": "[encoded data removed]",
            "text/plain": [
              "<Figure size 432x288 with 1 Axes>"
            ]
          },
          "metadata": {
            "needs_background": "light"
          },
          "output_type": "display_data"
        }
      ],
      "source": [
        "# code here\n",
        "# ...\n",
        "plt.plot(df1[\"tphys\"],Lacc_array,ls='-')\n",
        "plt.plot(df1[\"tphys\"],Lacc_array_np,ls='--')\n",
        "plt.xlabel(\"Time (Myr)\", fontsize=14)\n",
        "plt.ylabel(\"$L_{acc}$ (ergs s$^{1}$)\", fontsize=14)\n",
        "plt.axhline(1.0e37, linestyle=\"--\", color=\"black\")\n",
        "plt.tick_params(\"both\", labelsize=14)\n",
        "plt.yscale('log')"
      ]
    },
    {
      "cell_type": "markdown",
      "id": "a4598027",
      "metadata": {
        "id": "a4598027"
      },
      "source": [
        "Copy and paste your pieces of code that run your different luminosity functions below. Import the python ```time``` module and use the ```time()``` function to determine the runtime of each code segment. Print both runtimes to compare them."
      ]
    },
    {
      "cell_type": "code",
      "execution_count": null,
      "id": "6a94fbe0",
      "metadata": {
        "id": "6a94fbe0",
        "outputId": "c813f99f-24ea-47bc-aec4-3fabe6463422"
      },
      "outputs": [
        {
          "name": "stdout",
          "output_type": "stream",
          "text": [
            "For loop time:  0.016406774520874023 seconds\n",
            "Numpy time:  0.0031671524047851562 seconds\n"
          ]
        }
      ],
      "source": [
        "# code here\n",
        "# ...\n",
        "import time\n",
        "\n",
        "t1 = time.time()\n",
        "\n",
        "Lacc = []\n",
        "for i, row in df1.iterrows():\n",
        "    Lacc.append(calc_Lacc(row[\"mass_2\"]*Msun,row[\"mass0_2\"]*Msun,row[\"deltam_2\"]*Msun/year))    \n",
        "\n",
        "t2 = time.time()\n",
        "\n",
        "Lacc_np = calc_Lacc_np(df1[\"mass_2\"]*Msun, df1[\"mass0_2\"]*Msun, df1[\"deltam_2\"]*Msun/year)\n",
        "\n",
        "t3 = time.time()\n",
        "\n",
        "print(\"For loop time: \", t2 - t1,\"seconds\")\n",
        "print(\"Numpy time: \", t3 - t2,\"seconds\")"
      ]
    },
    {
      "cell_type": "markdown",
      "id": "215a138f",
      "metadata": {
        "id": "215a138f"
      },
      "source": [
        "Even though the difference in runtimes may seem small, it is actually quite noticeable when applied to many systems. Calculate how long each method would take to analyze the luminosities of a full population of 50,000 binaries. What's the computing time in hours?"
      ]
    },
    {
      "cell_type": "code",
      "execution_count": null,
      "id": "1dadb01c",
      "metadata": {
        "id": "1dadb01c",
        "outputId": "0222d67b-2209-42f6-e88d-51f4f9e74ca5"
      },
      "outputs": [
        {
          "name": "stdout",
          "output_type": "stream",
          "text": [
            "For loop time for 50,000 binaries:  0.19294354650709364 hours\n",
            "Numpy time for 50,000 binaries:  0.031905041800604925 hours\n"
          ]
        }
      ],
      "source": [
        "# code here\n",
        "# ...\n",
        "hour_in_seconds = 3600\n",
        "total_time  = 50000*(t2 - t1)/hour_in_seconds\n",
        "total_time_np = 50000*(t3 - t2)/hour_in_seconds\n",
        "print(\"For loop time for 50,000 binaries: \", total_time,\"hours\")\n",
        "print(\"Numpy time for 50,000 binaries: \", total_time_np,\"hours\")"
      ]
    },
    {
      "cell_type": "markdown",
      "id": "28c8ecc9",
      "metadata": {
        "id": "28c8ecc9"
      },
      "source": [
        "Now, suppose we run a total of 10 different simulations, and need to analyze the luminosities of all systems in each simulation. How long does each method take to complete these calculations? Were the improvements to your luminosity function worth it?"
      ]
    },
    {
      "cell_type": "code",
      "execution_count": null,
      "id": "ecd02e4f",
      "metadata": {
        "id": "ecd02e4f",
        "outputId": "6feb5488-e8e3-4be7-a1dd-3cc63d572f0b"
      },
      "outputs": [
        {
          "name": "stdout",
          "output_type": "stream",
          "text": [
            "For loop time for 50,000 binaries:  2.2787186834547253 hours\n",
            "Numpy time for 50,000 binaries:  0.4398822784423828 hours\n"
          ]
        }
      ],
      "source": [
        "# code here\n",
        "# ...\n",
        "total_time  = 10*50000*(t2 - t1)/hour_in_seconds\n",
        "total_time_np = 10*50000*(t3 - t2)/hour_in_seconds\n",
        "print(\"For loop time for 50,000 binaries: \", total_time,\"hours\")\n",
        "print(\"Numpy time for 50,000 binaries: \", total_time_np,\"hours\")"
      ]
    },
    {
      "cell_type": "markdown",
      "id": "00162663",
      "metadata": {
        "id": "00162663"
      },
      "source": [
        "## 3. BONUS RESEARCH PROJECT\n",
        "\n",
        "The file ```cosmic_data_1.csv``` is actually a very small portion of a full simulation output file. Normally, researchers want information about the entire evolution of a binary system so that characteristics of its behavior, such as its merge status, emission properties, etc. are placed in context with one other. This allows correlations to be drawn between evolutionary behaviors and facilitates a more complete understanding of how binary evolution works.\n",
        "\n",
        "Read-in the simulation data file ```cosmic_data_2.csv```, also located in this project folder, and store it as a ```pandas``` dataframe (it may take a couple of minutes to upload). Open the file and examine its format, including column titles, the number of rows, etc. \n",
        "\n",
        "```python\n",
        "df2 = pd.read_csv('cosmic_data_2.csv')\n",
        "print(df2.columns)\n",
        "```"
      ]
    },
    {
      "cell_type": "code",
      "execution_count": null,
      "id": "855ed217",
      "metadata": {
        "scrolled": true,
        "id": "855ed217",
        "outputId": "3261eb1a-1eb5-46cc-9dce-15bcac238f7e"
      },
      "outputs": [
        {
          "name": "stdout",
          "output_type": "stream",
          "text": [
            "Index(['tphys', 'kstar_1', 'mass0_1', 'mass_1', 'lum_1', 'rad_1', 'teff_1',\n",
            "       'massc_1', 'radc_1', 'menv_1', 'renv_1', 'epoch_1', 'omega_spin_1',\n",
            "       'deltam_1', 'RRLO_1', 'kstar_2', 'mass0_2', 'mass_2', 'lum_2', 'rad_2',\n",
            "       'teff_2', 'massc_2', 'radc_2', 'menv_2', 'renv_2', 'epoch_2',\n",
            "       'omega_spin_2', 'deltam_2', 'RRLO_2', 'porb', 'sep', 'ecc', 'B_1',\n",
            "       'B_2', 'SN_1', 'SN_2', 'bin_state', 'merger_type', 'bin_num'],\n",
            "      dtype='object')\n",
            "27515 132\n"
          ]
        }
      ],
      "source": [
        "# read-in your data frame here\n",
        "df2 = pd.read_csv('cosmic_data_2.csv')\n",
        "print(df2.columns)\n",
        "print(len(df2),len(df1))"
      ]
    },
    {
      "cell_type": "markdown",
      "id": "a25a3f3b",
      "metadata": {
        "id": "a25a3f3b"
      },
      "source": [
        "This file is clearly far more massive than the previous one - and it is still a reduced version of the full simulation output! "
      ]
    },
    {
      "cell_type": "markdown",
      "id": "5d6c41fb",
      "metadata": {
        "id": "5d6c41fb"
      },
      "source": [
        "The bonus portion of this project involves identifying the x-ray binary phase of the system and applying our luminosity function to the appropriate subset of the extended data file. \n",
        "\n",
        "First, we need to identify when the x-ray binary phase begins. We can do this by finding the timestep when the first black hole is formed, which is recorded in the ```kstar_1``` and ```kstar_2``` columns of the data file. If ```kstar_1``` or ```kstar_2``` equals $14$, then that respective object is a black hole. The x-ray binary phase begins when the first black hole's accretion rate becomes greater than zero.\n",
        "\n",
        "We will use the ```numpy.where()``` function to identify **3 separate instances** of interest in the evolution of this binary:\n",
        "* The time (or array index) at which one of the two stars first becomes a black hole.\n",
        "* The time (or array index) at which the first black hole to form starts to accrete (gain) mass.\n",
        "* The time (or array index) at which the first black hole to form ceases to accrete mass.\n",
        "\n",
        "Write a piece of code that identifies the timestep or index of the data file at which each object in the binary becomes a black hole. Store each index as a variable. Then compare the indices or timesteps you found and determine which black hole formed first. Do both Object 1 and Object 2 become black holes?"
      ]
    },
    {
      "cell_type": "code",
      "execution_count": null,
      "id": "9be45d62",
      "metadata": {
        "id": "9be45d62",
        "outputId": "f4c2df8f-e9cd-4b62-96eb-9977c43f072c"
      },
      "outputs": [
        {
          "name": "stdout",
          "output_type": "stream",
          "text": [
            "kstar_1 becomes 14 for the first time at index  128\n",
            "kstar_2 becomes 14 for the first time at index  12\n",
            "Object 2 becomes a black hole before Object 1\n"
          ]
        }
      ],
      "source": [
        "# Use np.where() to find where in the dataframe the *first time* the quantities kstar_1 and kstar_2 are equal to 14\n",
        "# ...\n",
        "ind0_1 = np.where(df2[\"kstar_1\"] == 14)[0][0]\n",
        "ind0_2 = np.where(df2[\"kstar_2\"] == 14)[0][0]\n",
        "print(\"kstar_1 becomes 14 for the first time at index \",ind0_1)\n",
        "print(\"kstar_2 becomes 14 for the first time at index \",ind0_2)\n",
        "if (ind0_1 < ind0_2):\n",
        "    print(\"Object 1 becomes a black hole before Object 2\")\n",
        "else:\n",
        "    print(\"Object 2 becomes a black hole before Object 1\")"
      ]
    },
    {
      "cell_type": "markdown",
      "id": "87978dcb",
      "metadata": {
        "id": "87978dcb"
      },
      "source": [
        "Now, identify the indices that correspond to the beginning and end of the mass accretion phase. This is the **x-ray binary phase**. Do both Object 1 and Object 2 experience a period of mass accretion?"
      ]
    },
    {
      "cell_type": "code",
      "execution_count": null,
      "id": "f5833069",
      "metadata": {
        "id": "f5833069",
        "outputId": "cc8c6507-031b-4520-91be-5cca627a0095"
      },
      "outputs": [
        {
          "name": "stdout",
          "output_type": "stream",
          "text": [
            "Object 2: Mass accretion phase begins at index  12 , and ends at index  127\n"
          ]
        }
      ],
      "source": [
        "# code here\n",
        "# ...\n",
        "ind1_2 = np.where(df2[\"deltam_2\"] > 0)[0][0] # second object's accretion phase begins\n",
        "ind2_2 = np.where(df2[\"deltam_2\"] > 0)[0][-1] # second object's accretion phase ends\n",
        "\n",
        "print(\"Object 2: Mass accretion phase begins at index \",ind1_2,\", and ends at index \",ind2_2)"
      ]
    },
    {
      "cell_type": "markdown",
      "id": "e2d46e69",
      "metadata": {
        "id": "e2d46e69"
      },
      "source": [
        "Create 3 variables $M_{BH}$, $M_{BH,0}$ and $\\dot{M}_{BH}$, and using ```if``` statements, assign to them the corresponding columns of Object 1 or Object 2 **during x-ray binary (mass accretion) phase**. Hint: use indexing to select only the relevant part of each column"
      ]
    },
    {
      "cell_type": "code",
      "execution_count": null,
      "id": "9d4d12c9",
      "metadata": {
        "id": "9d4d12c9"
      },
      "outputs": [],
      "source": [
        "# code here\n",
        "# ...\n",
        "M_BH = df2[\"mass_2\"][ind1_2:ind2_2+1]\n",
        "M_BH0 = df2[\"mass0_2\"][ind1_2:ind2_2+1]\n",
        "Mdot_BH = df2[\"deltam_2\"][ind1_2:ind2_2+1]"
      ]
    },
    {
      "cell_type": "markdown",
      "id": "580dc997",
      "metadata": {
        "id": "580dc997"
      },
      "source": [
        "Using your numpy-compatible function, calculate the accretion luminosity of the binary during the x-ray binary phase, and print the resulting array of luminosities. Determine if this system is observable."
      ]
    },
    {
      "cell_type": "code",
      "execution_count": null,
      "id": "c72b2dc4",
      "metadata": {
        "id": "c72b2dc4",
        "outputId": "cdbd6c74-5c7e-46df-ade7-f87c0617452f"
      },
      "outputs": [
        {
          "name": "stdout",
          "output_type": "stream",
          "text": [
            "6.4019797359638224e+38\n",
            "The system is observable!\n"
          ]
        }
      ],
      "source": [
        "# code here\n",
        "# ...\n",
        "Lacc_np = calc_Lacc_np(M_BH*Msun , M_BH0*Msun, Mdot_BH*Msun/year)\n",
        "print(Lacc_np.max())\n",
        "if (Lacc_np.max() > 1e37):\n",
        "    print(\"The system is observable!\")\n",
        "                      "
      ]
    },
    {
      "cell_type": "markdown",
      "id": "7d7b95ab",
      "metadata": {
        "id": "7d7b95ab"
      },
      "source": [
        "As a last step, compare your new luminosities to those you found above with the ```cosmic_data_1.csv``` data set. Use ```matplotlib``` to plot a time series of the binary emission over time, and label your plot accordingly. *Hint: you will need to apply the same cuts to the ```tphys``` column of ```cosmic_data_2.csv``` that you applied to your luminosity input parameters in order to plot your luminosities.*\n",
        "\n",
        "What are some similarities and differences between the emission of the first and second binary system?"
      ]
    },
    {
      "cell_type": "code",
      "execution_count": null,
      "id": "1f338db4",
      "metadata": {
        "id": "1f338db4",
        "outputId": "03b859c0-6547-4908-e323-98edac632b94"
      },
      "outputs": [
        {
          "data": {
            "image/png": "[encoded data removed]",
            "text/plain": [
              "<Figure size 432x288 with 1 Axes>"
            ]
          },
          "metadata": {
            "needs_background": "light"
          },
          "output_type": "display_data"
        }
      ],
      "source": [
        "# code here\n",
        "# ...\n",
        "time = df2[\"tphys\"][ind1_2:ind2_2+1]\n",
        "\n",
        "plt.plot(time, Lacc_np, \"-\")\n",
        "plt.axhline(1.0e37, linestyle=\"--\", color=\"black\")\n",
        "plt.xlabel(\"Time (Myr)\", fontsize=14)\n",
        "plt.ylabel(\"L$_{acc}$ (ergs s$^{-1}$)\", fontsize=14)\n",
        "plt.tick_params('both', labelsize=14)\n",
        "plt.yscale(\"log\")"
      ]
    },
    {
      "cell_type": "markdown",
      "id": "f011827a",
      "metadata": {
        "id": "f011827a"
      },
      "source": [
        "Congratulations, you have completed this project! I hoped you have learned some new information about x-ray binary systems, and have also sharpened your coding skills by experimenting with computational methods commonly used in research. If you are looking for more challenges, ask Camille and she will happily give you some!"
      ]
    },
    {
      "cell_type": "code",
      "execution_count": null,
      "id": "d5d99cd0",
      "metadata": {
        "id": "d5d99cd0"
      },
      "outputs": [],
      "source": [
        ""
      ]
    }
  ],
  "metadata": {
    "kernelspec": {
      "display_name": "Python 3 (ipykernel)",
      "language": "python",
      "name": "python3"
    },
    "language_info": {
      "codemirror_mode": {
        "name": "ipython",
        "version": 3
      },
      "file_extension": ".py",
      "mimetype": "text/x-python",
      "name": "python",
      "nbconvert_exporter": "python",
      "pygments_lexer": "ipython3",
      "version": "3.8.9"
    },
    "colab": {
      "name": "AccretingBlackHoles.ipynb",
      "provenance": []
    }
  },
  "nbformat": 4,
  "nbformat_minor": 5
}