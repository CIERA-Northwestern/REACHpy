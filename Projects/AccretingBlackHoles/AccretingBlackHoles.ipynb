{
 "cells": [
  {
   "cell_type": "markdown",
   "metadata": {
    "colab_type": "text",
    "id": "view-in-github"
   },
   "source": [
    "<a href=\"https://colab.research.google.com/github/psheehan/CIERA-HS-Program/blob/master/Projects/camille_liotine/AccretingBlackHoles.ipynb\" target=\"_parent\"><img src=\"https://colab.research.google.com/assets/colab-badge.svg\" alt=\"Open In Colab\"/></a>"
   ]
  },
  {
   "cell_type": "code",
   "execution_count": null,
   "metadata": {},
   "outputs": [],
   "source": [
    "### Running in Google Colab? You'll want to uncomment and run these cell once each time you start this notebook.\n",
    "\n",
    "\"\"\"\n",
    "!wget https://raw.githubusercontent.com/psheehan/CIERA-HS-Program/master/Projects/AccretingBlackHoles/cosmic_data_1.csv\n",
    "!wget https://raw.githubusercontent.com/psheehan/CIERA-HS-Program/master/Projects/AccretingBlackHoles/cosmic_data_2.csv\n",
    "\"\"\""
   ]
  },
  {
   "cell_type": "markdown",
   "metadata": {
    "colab_type": "text",
    "id": "x4U696dfojrB"
   },
   "source": [
    "# **How Bright are Accreting Black Holes in Binary Systems?**\n",
    "## ***A Computational Investigation***\n",
    "Leader: Camille Liotine"
   ]
  },
  {
   "cell_type": "markdown",
   "metadata": {
    "colab_type": "text",
    "id": "dCH6Fc67qLaz"
   },
   "source": [
    "#### **Background**\n",
    "\n",
    "Binary star systems consist of two stars that orbit one another. Depending on the mass of these stars, one or more of them may explode in a supernova and form a black hole late in their lifetime. This is generally the case for stars with initial masses greater than 20 times that of the sun, or 20 solar masses ($M_\\odot$). \n",
    "\n",
    "In the majority of these binary systems, black hole formation occurs asynchronously. This implies that the binary undergoes a period time where one object is a black hole and one object is still a star. This stage of evolution is called the x-ray binary phase, and the system is referred to as an **x-ray binary**.\n",
    "\n",
    "Why do we call these systems x-ray binaries? During this evolutionary stage, the black hole accretes matter from its companion star due to its strong gravitational pull. The accretion process heats transferred material through gravitational and frictional forces, which in turn triggers the emission of x-rays. Below is a helpful illustration of this process:\n",
    "\n",
    "<img src=\"HMXB_illustration.jpg\">\n"
   ]
  },
  {
   "cell_type": "markdown",
   "metadata": {
    "colab_type": "text",
    "id": "hA2c3Rki4CeN"
   },
   "source": [
    "Because the matter surrounding these black holes emits brightly in the x-ray band of the electromagnetic spectrum, x-ray observatories (such as the Chandra Observatory) search for this emission to identify binary systems that house black holes. The brightness, or luminosity, that astronomers observe in these binaries is called the **accretion luminosity**, as it is the luminosity that results from the accretion process of stellar material onto the black hole. These observations help astronomers learn about the properties of these systems and predict their possible courses of evolution. For example, some astronomers are interested in finding systems like these that will eventually form colliding black holes, which can be observed with gravitational wave detections.\n",
    "\n",
    "In this project, we will take a closer look at how we can predict the luminosity of these black hole systems using computational methods and data from simulations.  Theoretical calculations like these help astronomers target their observations towards certain luminosities so that they can better identify these systems in the sky. These calculations also help astronomers compare their theoretical predictions with observations so that they can better understand if there are flaws in their theoretical or observational methods."
   ]
  },
  {
   "cell_type": "markdown",
   "metadata": {
    "colab_type": "text",
    "id": "KDFv0DeB8G_C"
   },
   "source": [
    "#### **Building a Luminosity Function**\n",
    "\n",
    "First, we need to write a function that calculates and returns the accretion luminosity of a black hole in a binary system. Once we have this function, we can apply it to simulation data in multiple different ways. Previous theoretical work tells us that the black hole accretion luminosity is calculated by:\n",
    "\n",
    "\n",
    "\n",
    "\n"
   ]
  },
  {
   "cell_type": "markdown",
   "metadata": {
    "colab_type": "text",
    "id": "a6-7Hd7V-o0i"
   },
   "source": [
    "$L_{acc} = \\eta \\dot{M}_{acc}c^2$\n",
    "\n",
    "where $L_{acc}$ is the accretion luminosity, $\\eta$ is a scale factor derived from relativistic properties of the black hole, $\\dot{M}_{acc}$ is the accretion rate of material onto the black hole, and $c$ is the speed of light.\n",
    "\n"
   ]
  },
  {
   "cell_type": "markdown",
   "metadata": {
    "colab_type": "text",
    "id": "hXTKje-mBbvf"
   },
   "source": [
    "The parameters $\\eta$ and $\\dot{M}_{acc}$ are calculated by:"
   ]
  },
  {
   "cell_type": "markdown",
   "metadata": {
    "colab_type": "text",
    "id": "dM0P_VrYimVx"
   },
   "source": [
    "$\\eta = 1 - \\sqrt{1 - \\bigg(\\frac{M_{BH}}{3M_{BH,0}}\\bigg)^2}$"
   ]
  },
  {
   "cell_type": "markdown",
   "metadata": {
    "colab_type": "text",
    "id": "UxC08RpLivXt"
   },
   "source": [
    "$\\dot{M}_{acc} = \\frac{\\dot{M}_{BH}}{1 - \\eta}$\n",
    "\n",
    "where $M_{BH}$ is the current black hole mass, $M_{BH,0}$ is the initial black hole mass, and $\\dot{M}_{BH}$ is the rate of change of the black hole mass."
   ]
  },
  {
   "cell_type": "markdown",
   "metadata": {
    "colab_type": "text",
    "id": "FfgrCnN3jwxR"
   },
   "source": [
    "The parameters provided in our simulation output are $M_{BH}$, $M_{BH,0}$, and $\\dot{M}_{BH}$. Using this information and the equations above, define a function in python that takes the appropriate input parameters, calculates $L_{acc}$, $\\eta$, and $\\dot{M}_{acc}$ in the proper order, and returns the accretion luminosity. The general format of the function should look like:"
   ]
  },
  {
   "cell_type": "markdown",
   "metadata": {
    "colab_type": "text",
    "id": "ROcS1OF7L1Sl"
   },
   "source": [
    "\n",
    "\n",
    "```\n",
    "def calc_Lacc(<function arguments>):\n",
    "\n",
    "  < calculate Lacc using the above formulae >\n",
    "\n",
    "  return Lacc\n",
    "```\n",
    "\n"
   ]
  },
  {
   "cell_type": "markdown",
   "metadata": {
    "colab_type": "text",
    "id": "AOrSpzMbdZ0M"
   },
   "source": [
    "Don't worry about defining numeric quantities for constants yet. "
   ]
  },
  {
   "cell_type": "code",
   "execution_count": null,
   "metadata": {
    "colab": {},
    "colab_type": "code",
    "id": "YMWymO18lEfy"
   },
   "outputs": [],
   "source": [
    "def calc_Lacc(M_BH, M_BH0, Mdot_BH):\n",
    "    # Calculate eta\n",
    "    eta = 1. - (1. - (M_BH/(3*M_BH0))**2)**0.5\n",
    "    \n",
    "    # Calculate Mdot_acc\n",
    "    Mdot_acc = Mdot_BH / (1 - eta)\n",
    "    \n",
    "    # Calculate L_acc\n",
    "    L_acc = eta * Mdot_acc * c**2\n",
    "    \n",
    "    return L_acc"
   ]
  },
  {
   "cell_type": "markdown",
   "metadata": {
    "colab_type": "text",
    "id": "4Bvp3mhtlFCc"
   },
   "source": [
    "There are a couple refinements we need to make to our function before we can apply it to our simulation data. The first is that there is an upper limit for $\\eta$. Specifically, if $M_{BH}$ exceeds $\\sqrt{6}M_{BH,0}$, then $\\eta$ is taken to be $0.42$. Copy and paste your old function below, and then add this condition into your calculation for $\\eta$."
   ]
  },
  {
   "cell_type": "code",
   "execution_count": null,
   "metadata": {
    "colab": {},
    "colab_type": "code",
    "id": "AnRNrT7Qqjau"
   },
   "outputs": [],
   "source": [
    "def calc_Lacc(M_BH, M_BH0, Mdot_BH):\n",
    "    # Calculate eta\n",
    "    if M_BH > 6.**0.5 * M_BH0:\n",
    "        eta = 0.42\n",
    "    else:\n",
    "        eta = 1. - (1. - (M_BH/(3*M_BH0))**2)**0.5\n",
    "    \n",
    "    # Calculate Mdot_acc\n",
    "    Mdot_acc = Mdot_BH / (1 - eta)\n",
    "    \n",
    "    # Calculate L_acc\n",
    "    L_acc = eta * Mdot_acc * c**2\n",
    "    \n",
    "    return L_acc"
   ]
  },
  {
   "cell_type": "markdown",
   "metadata": {
    "colab_type": "text",
    "id": "vKiqrnHtnE0U"
   },
   "source": [
    "Next, we need to apply a **bolometric correction** to our calculated luminosity. A bolometric correction is a multiplicative factor that accounts for differences between the visible luminosity that we observe and the true brightness of the observed source. Bolometric corrections usually vary depending on the observing apparatus and specific properties of the observed object. However, since we are simulating binaries and not observing them, we take the bolometric correction factor to be constant for all sources. For binaries with accreting black holes, this correction is $0.8$. Copy and paste your old function below, and then multiply your final accretion luminosity by this factor before returning it. "
   ]
  },
  {
   "cell_type": "code",
   "execution_count": null,
   "metadata": {
    "colab": {},
    "colab_type": "code",
    "id": "xhC9K05BnqYo"
   },
   "outputs": [],
   "source": [
    "def calc_Lacc(M_BH, M_BH0, Mdot_BH):\n",
    "    # Calculate eta\n",
    "    if M_BH > 6.**0.5 * M_BH0:\n",
    "        eta = 0.42\n",
    "    else:\n",
    "        eta = 1. - (1. - (M_BH/(3*M_BH0))**2)**0.5\n",
    "    \n",
    "    # Calculate Mdot_acc\n",
    "    Mdot_acc = Mdot_BH / (1 - eta)\n",
    "    \n",
    "    # Calculate L_acc\n",
    "    L_acc = eta * Mdot_acc * c**2\n",
    "    \n",
    "    # Apply a bolometric correction\n",
    "    L_acc *= 0.8\n",
    "    \n",
    "    return L_acc"
   ]
  },
  {
   "cell_type": "markdown",
   "metadata": {
    "colab_type": "text",
    "id": "pc8lKq4ZqkPs"
   },
   "source": [
    "Lastly, we need to adjust the units of our calculation so that our final accretion luminosity has the traditional units of x-ray observations. To do this, we need to know the units of our simulation variables. Below is a list of the units for our simulation output data:\n",
    "\n",
    "$M_{BH}$ ---> [$M_\\odot$]\n",
    "\n",
    "$M_{BH,0}$ ---> [$M_\\odot$]\n",
    "\n",
    "$\\dot{M}_{BH}$ ---> [$M_\\odot yr^{-1}$]\n",
    "\n",
    "We want our final luminosity to be in **ergs per second**, or $erg$  $s^{-1}$, which is a common unit of measure for luminosities in astronomy. A helpful unit conversion for one $erg$ is:\n",
    "\n",
    "[$erg$] = [$g$ $cm^2$ $s^{-2}$]"
   ]
  },
  {
   "cell_type": "markdown",
   "metadata": {
    "colab_type": "text",
    "id": "U09qQHuKuwsE"
   },
   "source": [
    "Unforunately, it looks like we have a lot of converting to do! Alas, if you continue with astronomy or astrophysics, you'll find this is a common practice, as astronomers like to use a plethora of unique and often inconvenient units. "
   ]
  },
  {
   "cell_type": "markdown",
   "metadata": {
    "colab_type": "text",
    "id": "i0JSeDLWvlHX"
   },
   "source": [
    "Using dimensional analysis, work out any additional multiplicative constants you may need to add to your calculations so that your returned accretion luminosity has the correct units. You can choose the units of $c$ to be whatever is most convenient for your calculations. Copy and paste your old function below, and then write in your unit adjustments. Once you are done, define numeric quantities for your constants at the beginning of your function."
   ]
  },
  {
   "cell_type": "code",
   "execution_count": 37,
   "metadata": {
    "colab": {},
    "colab_type": "code",
    "id": "yNdeKKktw0WV"
   },
   "outputs": [],
   "source": [
    "def calc_Lacc(M_BH, M_BH0, Mdot_BH):\n",
    "    # Units that might be useful.\n",
    "    c = 2.9959e10\n",
    "    M_sun = 1.989e+33\n",
    "    year = 3.154e+7\n",
    "    \n",
    "    # Calculate eta\n",
    "    if M_BH > 6.**0.5 * M_BH0:\n",
    "        eta = 0.42\n",
    "    else:\n",
    "        eta = 1. - (1. - (M_BH/(3*M_BH0))**2)**0.5\n",
    "    \n",
    "    # Calculate Mdot_acc\n",
    "    Mdot_acc = Mdot_BH*M_sun/year / (1 - eta)\n",
    "    \n",
    "    # Calculate L_acc\n",
    "    L_acc = eta * Mdot_acc * c**2\n",
    "    \n",
    "    # Apply a bolometric correction\n",
    "    L_acc *= 0.8\n",
    "    \n",
    "    return L_acc"
   ]
  },
  {
   "cell_type": "markdown",
   "metadata": {},
   "source": [
    "To test your function, use it to calculate the accretion luminosity for a system with $M_{BH} = 11.645$ M$_{\\odot}$, $M_{BH,0} = 11.611$ M$_{\\odot}$, $\\dot{M}_{BH} = 3.026\\times10^{-7}$ M$_{\\odot}$ yr$^{-1}$, and check with a supervisor that this value is correct."
   ]
  },
  {
   "cell_type": "code",
   "execution_count": 38,
   "metadata": {},
   "outputs": [
    {
     "data": {
      "text/plain": [
       "8.36501138194697e+38"
      ]
     },
     "execution_count": 38,
     "metadata": {},
     "output_type": "execute_result"
    }
   ],
   "source": [
    "calc_Lacc(11.645,11.611,3.026e-7)"
   ]
  },
  {
   "cell_type": "markdown",
   "metadata": {
    "colab_type": "text",
    "id": "8EqAlLuYynDl"
   },
   "source": [
    "Your function is now ready to go! Let's put it to work with some simulation data."
   ]
  },
  {
   "cell_type": "markdown",
   "metadata": {
    "colab_type": "text",
    "id": "Oy0RejEMyzrU"
   },
   "source": [
    "#### **Applying Your Luminosity Function to Data: ```for``` Loop Method**"
   ]
  },
  {
   "cell_type": "markdown",
   "metadata": {
    "colab_type": "text",
    "id": "OsOf957R4FSW"
   },
   "source": [
    "First, read-in the simulation data file called ```\"cosmic_data_1.csv\"```, located in this Github project folder, and store it as a ```pandas``` dataframe. Make sure to import ```pandas``` and any other packages you might need first! "
   ]
  },
  {
   "cell_type": "code",
   "execution_count": 3,
   "metadata": {
    "colab": {},
    "colab_type": "code",
    "id": "3AmDCjWW-7yT"
   },
   "outputs": [],
   "source": [
    "import pandas\n",
    "\n",
    "data = pandas.read_csv(\"cosmic_data_1.csv\")"
   ]
  },
  {
   "cell_type": "markdown",
   "metadata": {
    "colab_type": "text",
    "id": "6IpToycU4hbw"
   },
   "source": [
    "Now, open the file and examine its format, including column titles, the number of rows, etc. "
   ]
  },
  {
   "cell_type": "code",
   "execution_count": 4,
   "metadata": {
    "colab": {},
    "colab_type": "code",
    "id": "LS4NGhPBGIwo"
   },
   "outputs": [
    {
     "name": "stdout",
     "output_type": "stream",
     "text": [
      "<class 'pandas.core.frame.DataFrame'>\n",
      "RangeIndex: 132 entries, 0 to 131\n",
      "Data columns (total 39 columns):\n",
      " #   Column        Non-Null Count  Dtype  \n",
      "---  ------        --------------  -----  \n",
      " 0   tphys         132 non-null    float64\n",
      " 1   kstar_1       132 non-null    float64\n",
      " 2   mass0_1       132 non-null    float64\n",
      " 3   mass_1        132 non-null    float64\n",
      " 4   lum_1         132 non-null    float64\n",
      " 5   rad_1         132 non-null    float64\n",
      " 6   teff_1        132 non-null    float64\n",
      " 7   massc_1       132 non-null    float64\n",
      " 8   radc_1        132 non-null    float64\n",
      " 9   menv_1        132 non-null    float64\n",
      " 10  renv_1        132 non-null    float64\n",
      " 11  epoch_1       132 non-null    float64\n",
      " 12  omega_spin_1  132 non-null    float64\n",
      " 13  deltam_1      132 non-null    float64\n",
      " 14  RRLO_1        132 non-null    float64\n",
      " 15  kstar_2       132 non-null    float64\n",
      " 16  mass0_2       132 non-null    float64\n",
      " 17  mass_2        132 non-null    float64\n",
      " 18  lum_2         132 non-null    float64\n",
      " 19  rad_2         132 non-null    float64\n",
      " 20  teff_2        132 non-null    float64\n",
      " 21  massc_2       132 non-null    float64\n",
      " 22  radc_2        132 non-null    float64\n",
      " 23  menv_2        132 non-null    float64\n",
      " 24  renv_2        132 non-null    float64\n",
      " 25  epoch_2       132 non-null    float64\n",
      " 26  omega_spin_2  132 non-null    float64\n",
      " 27  deltam_2      132 non-null    float64\n",
      " 28  RRLO_2        132 non-null    float64\n",
      " 29  porb          132 non-null    float64\n",
      " 30  sep           132 non-null    float64\n",
      " 31  ecc           132 non-null    float64\n",
      " 32  B_1           132 non-null    float64\n",
      " 33  B_2           132 non-null    float64\n",
      " 34  SN_1          132 non-null    float64\n",
      " 35  SN_2          132 non-null    float64\n",
      " 36  bin_state     132 non-null    int64  \n",
      " 37  merger_type   132 non-null    int64  \n",
      " 38  bin_num       132 non-null    int64  \n",
      "dtypes: float64(36), int64(3)\n",
      "memory usage: 40.3 KB\n"
     ]
    }
   ],
   "source": [
    "data.info()"
   ]
  },
  {
   "cell_type": "markdown",
   "metadata": {
    "colab_type": "text",
    "id": "84WqaUoO5CZI"
   },
   "source": [
    "This file contains the evolutionary data for a single simulated binary system during its x-ray binary phase. Each row represents one timestep of the simulation, which you can see by looking at the ```tphys``` column. ```tphys``` is the time, in millions of years (Myr), since the binary began its evolution. As a warm-up to practice working with the data, use ```pandas``` operations to calculate how long this system was in the x-ray binary phase, and print your result. *Hint: You can access columns in ```pandas``` using ```data['column_name']```, and you can access specific rows using ```.iloc[row_number]```*.\n",
    "\n",
    "\n",
    "\n"
   ]
  },
  {
   "cell_type": "code",
   "execution_count": 13,
   "metadata": {
    "colab": {},
    "colab_type": "code",
    "id": "GApt0Ylmo0xq"
   },
   "outputs": [
    {
     "data": {
      "text/plain": [
       "1.309999999999972"
      ]
     },
     "execution_count": 13,
     "metadata": {},
     "output_type": "execute_result"
    }
   ],
   "source": [
    "data['tphys'].max() - data['tphys'].min()"
   ]
  },
  {
   "cell_type": "markdown",
   "metadata": {
    "colab_type": "text",
    "id": "UZTn11Keo0Eq"
   },
   "source": [
    "The parameters we will need to calculate the accretion luminosity are ```mass_2```, which represents the black hole mass, and ```deltam_2```, which represents the rate of change in the black hole mass. One way we can acquire luminosity information is to loop through the dataframe, row by row, and calculate the luminosity at each time step using our function.\n",
    "\n",
    "First, write a ```for``` loop that goes through each row of the data frame and applies your luminosity function at each iteration. Save your calculated luminosities in an array. Print your final array of luminosities to check that they are reasonable. Reasonable luminosities should fall between $10^{30}$ and $10^{45}$ $erg$ $s^{-1}$. *Hint: you will need to use a special iterator for your dataframe. Try the pandas function ```iterrows()```.* "
   ]
  },
  {
   "cell_type": "code",
   "execution_count": 40,
   "metadata": {
    "colab": {},
    "colab_type": "code",
    "id": "mAsumTZm9NzX"
   },
   "outputs": [
    {
     "name": "stdout",
     "output_type": "stream",
     "text": [
      "[7.982383363771417e+34, 8.092380927389945e+34, 8.204343345023788e+34, 8.318310312639689e+34, 8.434322241979607e+34, 8.552420259562646e+34, 8.672646204254263e+34, 8.795042623268788e+34, 8.919652766461458e+34, 9.046520578756893e+34, 9.17569069054849e+34, 9.307208405892672e+34, 9.441119688310311e+34, 9.577471143991956e+34, 9.71631000219356e+34, 9.857684092590819e+34, 1.0001641819348302e+35, 1.0148232131640087e+35, 1.0297504490344743e+35, 1.044950883061555e+35, 1.0604295520011179e+35, 1.0761915311849767e+35, 1.092241929342902e+35, 1.1085858828731709e+35, 1.1252285495214875e+35, 1.142175101425354e+35, 1.1594307174786346e+35, 1.177000574968371e+35, 1.1948898404330098e+35, 1.2131036596883418e+35, 1.2316471469646577e+35, 1.2505253730950902e+35, 1.2697433526923392e+35, 1.2893060302473663e+35, 1.309218265080354e+35, 1.3294848150707012e+35, 1.3501103190892861e+35, 1.3710992780526033e+35, 1.3924560345146634e+35, 1.414184750708967e+35, 1.4362893849491022e+35, 1.4587736662928867e+35, 1.481641067371313e+35, 1.5048947752802507e+35, 1.5285376604292789e+35, 1.5525722432389564e+35, 1.57700065857494e+35, 1.601824617804635e+35, 1.6270453683599286e+35, 1.6526636506876794e+35, 1.678679652468391e+35, 1.7050929599829186e+35, 1.731902506507157e+35, 1.7591065176157913e+35, 1.7867024532780324e+35, 1.814686946631714e+35, 1.8430557393264037e+35, 1.8718036133325513e+35, 1.9009243191211936e+35, 1.930410500128717e+35, 1.9602536134328786e+35, 1.9904438465808688e+35, 2.0209700305271527e+35, 2.0518195486589976e+35, 2.082978241911112e+35, 2.1144303099978415e+35, 2.1461582088230816e+35, 2.1781425441630476e+35, 2.210361961758497e+35, 2.242793033998084e+35, 2.275410143426795e+35, 2.308185363370724e+35, 2.3410883360342274e+35, 2.3740861484967896e+35, 2.4071432071161367e+35, 2.4402211109310715e+35, 2.4732785247529726e+35, 2.5062710527388516e+35, 2.539151113352338e+35, 2.571867816740992e+35, 2.604366845690334e+35, 2.636590341456377e+35, 2.668476795928627e+35, 2.6999609517352944e+35, 2.7309737120705117e+35, 2.7614420621989797e+35, 2.8113020497733395e+35, 2.9045600228852964e+35, 3.008779274466254e+35, 2.9970417939827692e+35, 4.95995247161748e+38, 5.047779862352194e+38, 5.137483194491227e+38, 5.22640304880699e+38, 5.314538982373343e+38, 5.401895624399566e+38, 5.488480936386892e+38, 5.574304427223719e+38, 5.659375342572675e+38, 5.743700836462729e+38, 5.827284123616041e+38, 5.910122603944241e+38, 5.992205945791315e+38, 6.07351411163869e+38, 6.154015308789999e+38, 6.2336638476528866e+38, 6.312397891282449e+38, 6.390137081546427e+38, 6.4667800293602276e+38, 6.542201658737634e+38, 6.616250396765578e+38, 6.688745203947772e+38, 6.759472441607725e+38, 6.828182575162891e+38, 6.894586714044901e+38, 6.955940125195462e+38, 7.016822504715781e+38, 7.074278444384389e+38, 7.127826350534934e+38, 7.176925857896301e+38, 7.220973496436301e+38, 7.259298235344042e+38, 7.291156910384243e+38, 7.31572953920938e+38, 7.33211452693097e+38, 7.339323761603064e+38, 7.336277596925581e+38, 7.321799718747427e+38, 7.294611895214673e+38, 7.253328621680742e+38, 7.1964516972672e+38, 7.12236482037524e+38]\n"
     ]
    }
   ],
   "source": [
    "Lacc = []\n",
    "\n",
    "for i, row in data.iterrows():\n",
    "    Lacc.append(calc_Lacc(row[\"mass_2\"],row[\"mass0_2\"],row[\"deltam_2\"]))\n",
    "    \n",
    "print(Lacc)"
   ]
  },
  {
   "cell_type": "markdown",
   "metadata": {
    "colab_type": "text",
    "id": "xkOQEOjDu45X"
   },
   "source": [
    "Now that we have the accretion luminosity data for our binary, let's plot it to see how the system's emission changes over time. Using ```matplotlib```, make a time series plot using the ```tphys``` column from the simulation output along with your array of luminosities. Make sure to properly label your plot! *Hint: Use a log scale when plotting your luminosities so that you can better visualize the emission behavior.*"
   ]
  },
  {
   "cell_type": "code",
   "execution_count": 39,
   "metadata": {
    "colab": {},
    "colab_type": "code",
    "id": "hcamDOADv23K"
   },
   "outputs": [
    {
     "data": {
      "image/png": "[encoded data removed]",
      "text/plain": [
       "<Figure size 432x288 with 1 Axes>"
      ]
     },
     "metadata": {
      "needs_background": "light"
     },
     "output_type": "display_data"
    }
   ],
   "source": [
    "import matplotlib.pyplot as plt\n",
    "\n",
    "fig, ax = plt.subplots(nrows=1, ncols=1)\n",
    "\n",
    "ax.plot(data[\"tphys\"], Lacc, \"-\")\n",
    "\n",
    "ax.set_xlabel(\"Time (Myr)\", fontsize=14)\n",
    "ax.set_ylabel(\"L$_{acc}$ (ergs s$^{1}$)\", fontsize=14)\n",
    "\n",
    "ax.axhline(1.0e37, linestyle=\"--\", color=\"black\")\n",
    "\n",
    "ax.tick_params(\"both\", labelsize=14)\n",
    "\n",
    "ax.set_yscale('log')"
   ]
  },
  {
   "cell_type": "markdown",
   "metadata": {
    "colab_type": "text",
    "id": "gCbDIRjiv3Mf"
   },
   "source": [
    "One question researchers might ask is if a given binary system is observable. For a system to be observed by an x-ray observatory, it must reach a maximum luminosity above an observable threshold. Let's take our observable threshold to be $10^{37} erg$ $s^{-1}$, which is a common threshold used for the Chandra Observatory. Using your calculations, find the maximum luminosity of your binary system. Is it observable?"
   ]
  },
  {
   "cell_type": "code",
   "execution_count": 32,
   "metadata": {
    "colab": {},
    "colab_type": "code",
    "id": "2NcSBg-kxYmR"
   },
   "outputs": [
    {
     "name": "stdout",
     "output_type": "stream",
     "text": [
      "7.339323761603064e+38\n"
     ]
    }
   ],
   "source": [
    "print(max(Lacc))"
   ]
  },
  {
   "cell_type": "markdown",
   "metadata": {
    "colab_type": "text",
    "id": "YG8bY1a8xNn5"
   },
   "source": [
    "#### **Applying Your Luminosity Function to Data: Array Method**"
   ]
  },
  {
   "cell_type": "markdown",
   "metadata": {
    "colab_type": "text",
    "id": "3Eaig27IxoEe"
   },
   "source": [
    "It turns out that ```for``` loops are too computationally slow to analyze very large files or many files in one run. Luckily, we can speed-up our code by passing arrays to our luminosity function instead of passing values at each timestep of the data. This will allow us to calculate all luminosities for the binary in one step! However, this method will require some alteration to your luminosity function.\n",
    "\n",
    "Primarily, now that your function takes arrays as parameters instead of values, you can no longer use conditional logic to determine what $\\eta$ should be. Instead, you should use boolean array logic, which is a standard application of ```numpy``` arrays. "
   ]
  },
  {
   "cell_type": "markdown",
   "metadata": {
    "colab_type": "text",
    "id": "8kCgNfvq5CQt"
   },
   "source": [
    "For example, let's say I have two arrays of the same size called ```x``` and ```y```. If want to know which values of ```x``` are less than their corresponding values in ```y```, I can write:\n",
    "\n",
    "```x_lower_values = x < y```\n",
    "\n",
    "```x_lower_values``` is an array of the same size as ```x``` and ```y```. It it contains ```True/False``` entries that tell me if the corresponding entry in ```x``` is less than that in ```y```. \n",
    "\n",
    "Another useful tool that might help you rework your luminosity function is the ```numpy``` function ```where()```. This function takes as parameters a boolean array (such as ```x_lower_values``` in the example above) and two possible outcomes. It returns an array of these two outcomes, and outcomes are assigned to an array entry depending on if that entry is ```True``` or ```False```."
   ]
  },
  {
   "cell_type": "markdown",
   "metadata": {
    "colab_type": "text",
    "id": "L7yufO2I5FUK"
   },
   "source": [
    "Copy and paste your old luminosity function below. Then, using the tools described above and/or any other methods you prefer, alter you luminosity function so that it takes array parameters and then calculates and returns an array of accretion luminosities using array operations."
   ]
  },
  {
   "cell_type": "code",
   "execution_count": 41,
   "metadata": {
    "colab": {},
    "colab_type": "code",
    "id": "efJvJiShyXFD"
   },
   "outputs": [],
   "source": [
    "import numpy\n",
    "\n",
    "def calc_Lacc_numpy(M_BH, M_BH0, Mdot_BH):\n",
    "    # Units that might be useful.\n",
    "    c = 2.9959e10\n",
    "    M_sun = 1.989e+33\n",
    "    year = 3.154e+7\n",
    "    \n",
    "    # Calculate eta\n",
    "    eta = numpy.where(M_BH > 6.**0.5*M_BH0, 0.42, 1. - (1. - (M_BH/(3*M_BH0))**2)**0.5)\n",
    "    \n",
    "    # Calculate Mdot_acc\n",
    "    Mdot_acc = Mdot_BH*M_sun/year / (1 - eta)\n",
    "    \n",
    "    # Calculate L_acc\n",
    "    L_acc = eta * Mdot_acc * c**2\n",
    "    \n",
    "    # Apply a bolometric correction\n",
    "    L_acc *= 0.8\n",
    "    \n",
    "    return L_acc\n"
   ]
  },
  {
   "cell_type": "markdown",
   "metadata": {
    "colab_type": "text",
    "id": "QWH1I7dV6IJR"
   },
   "source": [
    "Now, apply your new and improved function to the data set above. You should now only need one line of code to calculate your array of accretion luminosities. Print your final array of luminosities to check that they are reasonable. *Hint: you may need to create an array for $M_{BH,0}$ that is the same length as your arrays for $M_{BH}$ and $\\dot M_{BH}$ in order to pass it to your function.*"
   ]
  },
  {
   "cell_type": "code",
   "execution_count": 42,
   "metadata": {
    "colab": {},
    "colab_type": "code",
    "id": "cTuX1j3l64HE"
   },
   "outputs": [],
   "source": [
    "Lacc_numpy = calc_Lacc_numpy(data[\"mass_2\"], data[\"mass0_2\"], data[\"deltam_2\"])"
   ]
  },
  {
   "cell_type": "markdown",
   "metadata": {
    "colab_type": "text",
    "id": "tmzev_DX5pIH"
   },
   "source": [
    "To double check that your improved function is working correctly, make another time series plot using ```matplotlib```. This time, plot the accretion luminosities you obtained with the ```for``` loop method as well as those you obtained with the array method. They should appear to be the same line on your plot! Make sure to properly label your plot."
   ]
  },
  {
   "cell_type": "code",
   "execution_count": 43,
   "metadata": {
    "colab": {},
    "colab_type": "code",
    "id": "0i2GSkgI7m7Z"
   },
   "outputs": [
    {
     "data": {
      "image/png": "[encoded data removed]",
      "text/plain": [
       "<Figure size 432x288 with 1 Axes>"
      ]
     },
     "metadata": {
      "needs_background": "light"
     },
     "output_type": "display_data"
    }
   ],
   "source": [
    "import matplotlib.pyplot as plt\n",
    "\n",
    "fig, ax = plt.subplots(nrows=1, ncols=1)\n",
    "\n",
    "ax.plot(data[\"tphys\"], Lacc, \"-\")\n",
    "ax.plot(data[\"tphys\"], Lacc_numpy, \"--\")\n",
    "\n",
    "ax.set_xlabel(\"Time (Myr)\", fontsize=14)\n",
    "ax.set_ylabel(\"L$_{acc}$ (ergs s$^{1}$)\", fontsize=14)\n",
    "\n",
    "ax.axhline(1.0e37, linestyle=\"--\", color=\"black\")\n",
    "\n",
    "ax.tick_params(\"both\", labelsize=14)\n",
    "\n",
    "ax.set_yscale('log')"
   ]
  },
  {
   "cell_type": "markdown",
   "metadata": {
    "colab_type": "text",
    "id": "5ABzzKwF7uXF"
   },
   "source": [
    "One fun way to examine the computational difference between your two luminosity functions is to time how long each of them takes to run. Copy and paste your pieces of code that run your different luminosity functions below. Import the python ```time``` module and use the ```time()``` function to determine the runtime of each code segment. Print both runtimes to compare them."
   ]
  },
  {
   "cell_type": "code",
   "execution_count": 44,
   "metadata": {
    "colab": {},
    "colab_type": "code",
    "id": "CK1cYXGV9ebB"
   },
   "outputs": [
    {
     "name": "stdout",
     "output_type": "stream",
     "text": [
      "For loop time:  0.005583047866821289\n",
      "Numpy time:  0.0014309883117675781\n"
     ]
    }
   ],
   "source": [
    "import time\n",
    "\n",
    "t1 = time.time()\n",
    "\n",
    "Lacc = []\n",
    "for i, row in data.iterrows():\n",
    "    Lacc.append(calc_Lacc(row[\"mass_2\"],row[\"mass0_2\"],row[\"deltam_2\"]))    \n",
    "\n",
    "t2 = time.time()\n",
    "\n",
    "Lacc_numpy = calc_Lacc_numpy(data[\"mass_2\"], data[\"mass0_2\"], data[\"deltam_2\"])\n",
    "\n",
    "t3 = time.time()\n",
    "\n",
    "print(\"For loop time: \", t2 - t1)\n",
    "print(\"Numpy time: \", t3 - t2)"
   ]
  },
  {
   "cell_type": "markdown",
   "metadata": {
    "colab_type": "text",
    "id": "QL6IDwXu9e8V"
   },
   "source": [
    "Even though the difference in runtimes may seem small, it is actually quite noticeable when applied to many systems. For example, one standard simulation run contains a population of ~50,000 binaries. Calculate how long each method would take to analyze the luminosities of a full population of binaries, and convert the resulting times (in seconds) to more useful units. "
   ]
  },
  {
   "cell_type": "code",
   "execution_count": 45,
   "metadata": {
    "colab": {},
    "colab_type": "code",
    "id": "is8KkO9X-Qq5"
   },
   "outputs": [
    {
     "name": "stdout",
     "output_type": "stream",
     "text": [
      "For loop time for 50,000 binaries:  279.15239334106445\n",
      "Numpy time for 50,000 binaries:  71.5494155883789\n"
     ]
    }
   ],
   "source": [
    "print(\"For loop time for 50,000 binaries: \", 50000*(t2 - t1))\n",
    "print(\"Numpy time for 50,000 binaries: \", 50000*(t3 - t2))"
   ]
  },
  {
   "cell_type": "markdown",
   "metadata": {
    "colab_type": "text",
    "id": "_q6Jv5pgFYaj"
   },
   "source": [
    "Now, suppose we run a total of 10 different simulations, and need to analyze the luminosities of all systems in each simulation. How long does each method take to complete these calculations? Were the improvements to your luminosity function worth it?"
   ]
  },
  {
   "cell_type": "code",
   "execution_count": 46,
   "metadata": {
    "colab": {},
    "colab_type": "code",
    "id": "_UqL8EYAFZGX"
   },
   "outputs": [
    {
     "name": "stdout",
     "output_type": "stream",
     "text": [
      "For loop time for 50,000 binaries:  2791.5239334106445\n",
      "Numpy time for 50,000 binaries:  715.4941558837891\n"
     ]
    }
   ],
   "source": [
    "print(\"For loop time for 50,000 binaries: \", 10*50000*(t2 - t1))\n",
    "print(\"Numpy time for 50,000 binaries: \", 10*50000*(t3 - t2))"
   ]
  },
  {
   "cell_type": "markdown",
   "metadata": {
    "colab_type": "text",
    "id": "hLblF7X-yOJc"
   },
   "source": [
    "#### **Bonus: Extended Data File**"
   ]
  },
  {
   "cell_type": "markdown",
   "metadata": {
    "colab_type": "text",
    "id": "wkida8B2-6Ml"
   },
   "source": [
    "The file ```cosmic_data_1.csv``` is actually a very small portion of a full simulation output file. Normally, researchers want information about the entire evolution of a binary system so that characteristics of its behavior, such as its merge status, emission properties, etc. are placed in context with one other. This allows correlations to be drawn between evolutionary behaviors and facilitates a more complete understanding of how binary evolution works.\n",
    "\n",
    "Read-in the simulation data file ```cosmic_data_2.csv```, also located in this project folder, and store it as a ```pandas``` dataframe (it may take a couple of minutes to upload). Open the file and examine its format, including column titles, the number of rows, etc. "
   ]
  },
  {
   "cell_type": "code",
   "execution_count": 54,
   "metadata": {
    "colab": {},
    "colab_type": "code",
    "id": "8jgUik8uIniA"
   },
   "outputs": [
    {
     "name": "stdout",
     "output_type": "stream",
     "text": [
      "<class 'pandas.core.frame.DataFrame'>\n",
      "RangeIndex: 27515 entries, 0 to 27514\n",
      "Data columns (total 39 columns):\n",
      " #   Column        Non-Null Count  Dtype  \n",
      "---  ------        --------------  -----  \n",
      " 0   tphys         27515 non-null  float64\n",
      " 1   kstar_1       27515 non-null  float64\n",
      " 2   mass0_1       27515 non-null  float64\n",
      " 3   mass_1        27515 non-null  float64\n",
      " 4   lum_1         27515 non-null  float64\n",
      " 5   rad_1         27515 non-null  float64\n",
      " 6   teff_1        27515 non-null  float64\n",
      " 7   massc_1       27515 non-null  float64\n",
      " 8   radc_1        27515 non-null  float64\n",
      " 9   menv_1        27515 non-null  float64\n",
      " 10  renv_1        27515 non-null  float64\n",
      " 11  epoch_1       27515 non-null  float64\n",
      " 12  omega_spin_1  27515 non-null  float64\n",
      " 13  deltam_1      27515 non-null  float64\n",
      " 14  RRLO_1        27515 non-null  float64\n",
      " 15  kstar_2       27515 non-null  float64\n",
      " 16  mass0_2       27515 non-null  float64\n",
      " 17  mass_2        27515 non-null  float64\n",
      " 18  lum_2         27515 non-null  float64\n",
      " 19  rad_2         27515 non-null  float64\n",
      " 20  teff_2        27515 non-null  float64\n",
      " 21  massc_2       27515 non-null  float64\n",
      " 22  radc_2        27515 non-null  float64\n",
      " 23  menv_2        27515 non-null  float64\n",
      " 24  renv_2        27515 non-null  float64\n",
      " 25  epoch_2       27515 non-null  float64\n",
      " 26  omega_spin_2  27515 non-null  float64\n",
      " 27  deltam_2      27515 non-null  float64\n",
      " 28  RRLO_2        27515 non-null  float64\n",
      " 29  porb          27515 non-null  float64\n",
      " 30  sep           27515 non-null  float64\n",
      " 31  ecc           27515 non-null  float64\n",
      " 32  B_1           27515 non-null  float64\n",
      " 33  B_2           27515 non-null  float64\n",
      " 34  SN_1          27515 non-null  float64\n",
      " 35  SN_2          27515 non-null  float64\n",
      " 36  bin_state     27515 non-null  int64  \n",
      " 37  merger_type   27515 non-null  int64  \n",
      " 38  bin_num       27515 non-null  int64  \n",
      "dtypes: float64(36), int64(3)\n",
      "memory usage: 8.2 MB\n"
     ]
    }
   ],
   "source": [
    "data = pandas.read_csv(\"cosmic_data_2.csv\")\n",
    "\n",
    "data.info()"
   ]
  },
  {
   "cell_type": "markdown",
   "metadata": {
    "colab_type": "text",
    "id": "w9Knrp97A5fW"
   },
   "source": [
    "This file is clearly far more massive than the previous one - and it is still a reduced version of the full simulation output! To work with the complete data set, we would need a supercomputer. However, this reduction will be suitable for the remainder of our investigation. The bonus portion of this project will involve identifying the x-ray binary phase of the system ourselves and applying our luminosity function to the appropriate subset of the extended data file. \n",
    "\n",
    "First, we need to identify when the x-ray binary phase begins. We can do this by finding the timestep when the first black hole is formed, which is recorded in the ```kstar_1``` and ```kstar_2``` columns of the data file. If ```kstar_1``` or ```kstar_2``` equals $14$, then that respective object is a black hole. The x-ray binary phase begins when the first black hole's accretion rate becomes greater than zero.\n",
    "\n",
    "Write a piece of code that identifies the timestep or index of the data file at which each object in the binary becomes a black hole. Store each index as a variable.\n",
    "\n",
    "\n",
    "\n"
   ]
  },
  {
   "cell_type": "code",
   "execution_count": 57,
   "metadata": {
    "colab": {},
    "colab_type": "code",
    "id": "6zD_jiSxScc4"
   },
   "outputs": [],
   "source": [
    "ind0_1 = numpy.where(data[\"kstar_1\"] == 14)[0].min()\n",
    "ind0_2 = numpy.where(data[\"kstar_2\"] == 14)[0].min()"
   ]
  },
  {
   "cell_type": "markdown",
   "metadata": {
    "colab_type": "text",
    "id": "BYoiY_GUSU1_"
   },
   "source": [
    "Using conditional logic, compare the indicies or timesteps you found above, and determine which black hole formed first. Then, using this information, identify the data columns for $M_{BH}$ and $\\dot{M}_{BH}$ that correspond to the first black hole object. Also store the first and second black hole formation indicies as separate variables. "
   ]
  },
  {
   "cell_type": "code",
   "execution_count": 58,
   "metadata": {
    "colab": {},
    "colab_type": "code",
    "id": "EUb3c30uTIcU"
   },
   "outputs": [
    {
     "name": "stdout",
     "output_type": "stream",
     "text": [
      "Object 2 formed a black hole first.\n"
     ]
    }
   ],
   "source": [
    "if ind0_1 < ind0_2:\n",
    "    print(\"Object 1 formed a black hole first.\")\n",
    "else:\n",
    "    print(\"Object 2 formed a black hole first.\")"
   ]
  },
  {
   "cell_type": "markdown",
   "metadata": {
    "colab_type": "text",
    "id": "P8VcNwzGTmUx"
   },
   "source": [
    "Now, using the appropriate data columns, identify the index when the black hole accretion rate becomes positive. This index signifies the beginning of the x-ray binary phase. Store this index as a separate variable. "
   ]
  },
  {
   "cell_type": "code",
   "execution_count": 61,
   "metadata": {
    "colab": {},
    "colab_type": "code",
    "id": "LX5uTZ4rUVa8"
   },
   "outputs": [],
   "source": [
    "ind1_2 = numpy.where(data[\"deltam_2\"] > 0)[0].min()"
   ]
  },
  {
   "cell_type": "markdown",
   "metadata": {
    "colab_type": "text",
    "id": "yz_w9wqIjhrt"
   },
   "source": [
    "The x-ray binary phase terminates when the black hole accretion rate is no longer positive. Using similar methods as above, identify the index when the x-ray binary phase ends. Store this index as a separate variable. To check that your indicies make sense, print the indicies of black hole formation as well as those identifying the x-ray binary phase and make sure they fall in the correct chronological order."
   ]
  },
  {
   "cell_type": "code",
   "execution_count": 63,
   "metadata": {
    "colab": {},
    "colab_type": "code",
    "id": "a9TjLhA3jlMQ"
   },
   "outputs": [
    {
     "name": "stdout",
     "output_type": "stream",
     "text": [
      "12 12 127\n"
     ]
    }
   ],
   "source": [
    "ind2_2 = numpy.where(data[\"deltam_2\"] > 0)[0].max()\n",
    "\n",
    "print(ind0_2, ind1_2, ind2_2)"
   ]
  },
  {
   "cell_type": "markdown",
   "metadata": {
    "colab_type": "text",
    "id": "4NqgBHvyTIvV"
   },
   "source": [
    "Cut the data you need to calculate the accretion luminosity using the indices you found above so that the data begins and ends with the x-ray binary phase. Store your reduced data in separate arrays."
   ]
  },
  {
   "cell_type": "code",
   "execution_count": 65,
   "metadata": {
    "colab": {},
    "colab_type": "code",
    "id": "p5yE4kxgVDN9"
   },
   "outputs": [],
   "source": [
    "M_BH = data[\"mass_2\"][ind1_2:ind2_2+1]\n",
    "M_BH0 = data[\"mass0_2\"][ind1_2:ind2_2+1]\n",
    "Mdot_BH = data[\"deltam_2\"][ind1_2:ind2_2+1]"
   ]
  },
  {
   "cell_type": "markdown",
   "metadata": {
    "colab_type": "text",
    "id": "sSHcjLPdVmtG"
   },
   "source": [
    "You should now be able to pass your reduced data arrays directly to your function! Do this to calculate the accretion luminosity of the binary during the x-ray binary phase, and print the resulting array of luminosities. Determine if this system is observable."
   ]
  },
  {
   "cell_type": "code",
   "execution_count": 67,
   "metadata": {
    "colab": {},
    "colab_type": "code",
    "id": "Wt6w8zUhWepk"
   },
   "outputs": [
    {
     "name": "stdout",
     "output_type": "stream",
     "text": [
      "6.397389906390028e+38\n"
     ]
    }
   ],
   "source": [
    "Lacc = calc_Lacc_numpy(M_BH, M_BH0, Mdot_BH)\n",
    "print(Lacc.max())"
   ]
  },
  {
   "cell_type": "markdown",
   "metadata": {
    "colab_type": "text",
    "id": "ZmoNLGt4We_9"
   },
   "source": [
    "As a last step, compare your new luminosities to those you found above with the ```cosmic_data_1.csv``` data set. Use ```matplotlib``` to plot a time series of the binary emission over time, and label your plot accordingly. *Hint: you will need to apply the same cuts to the ```tphys``` column of ```cosmic_data_2.csv``` that you applied to your luminosity input parameters in order to plot your luminosities.*\n",
    "\n",
    "What are some similarities and differences between the emission of the first and second binary system?"
   ]
  },
  {
   "cell_type": "code",
   "execution_count": 74,
   "metadata": {
    "colab": {},
    "colab_type": "code",
    "id": "R4mI0rPKW_wQ"
   },
   "outputs": [
    {
     "data": {
      "image/png": "[encoded data removed]",
      "text/plain": [
       "<Figure size 432x288 with 1 Axes>"
      ]
     },
     "metadata": {
      "needs_background": "light"
     },
     "output_type": "display_data"
    }
   ],
   "source": [
    "time = data[\"tphys\"][ind1_2:ind2_2+1]\n",
    "\n",
    "fig, ax = plt.subplots(nrows=1, ncols=1)\n",
    "\n",
    "ax.plot(time, Lacc, \"-\")\n",
    "\n",
    "ax.axhline(1.0e37, linestyle=\"--\", color=\"black\")\n",
    "\n",
    "ax.set_xlabel(\"Time (Myr)\", fontsize=14)\n",
    "ax.set_ylabel(\"L$_{acc}$ (ergs s$^{-1}$)\", fontsize=14)\n",
    "\n",
    "ax.tick_params('both', labelsize=14)\n",
    "\n",
    "ax.set_yscale(\"log\")"
   ]
  },
  {
   "cell_type": "markdown",
   "metadata": {
    "colab_type": "text",
    "id": "GIqAS9RyXACL"
   },
   "source": [
    "Congratulations, you have completed this project! I hoped you have learned some new information about x-ray binary systems, and have also sharpened your coding skills by experimenting with computational methods commonly used in research. If you are looking for more challenges, ask Camille and she will happily give you some!"
   ]
  }
 ],
 "metadata": {
  "colab": {
   "authorship_tag": "ABX9TyMvsIDiVUF5+osFnOE/VXmP",
   "collapsed_sections": [],
   "include_colab_link": true,
   "name": "AccretingBlackHoles.ipynb",
   "provenance": []
  },
  "kernelspec": {
   "display_name": "Python 3",
   "language": "python",
   "name": "python3"
  },
  "language_info": {
   "codemirror_mode": {
    "name": "ipython",
    "version": 3
   },
   "file_extension": ".py",
   "mimetype": "text/x-python",
   "name": "python",
   "nbconvert_exporter": "python",
   "pygments_lexer": "ipython3",
   "version": "3.8.5"
  }
 },
 "nbformat": 4,
 "nbformat_minor": 1
}
