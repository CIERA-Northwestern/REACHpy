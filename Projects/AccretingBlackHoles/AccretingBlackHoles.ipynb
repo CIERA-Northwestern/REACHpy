{
  "cells": [
    {
      "cell_type": "markdown",
      "id": "28e3eda0",
      "metadata": {
        "id": "28e3eda0"
      },
      "source": [
        "# Accreting Black Holes\n",
        "\n",
        "## 0. GENERAL BACKGROUND\n",
        "\n",
        "Binary star systems consist of two stars that orbit one another. Depending on the mass of these stars, one or more of them may explode in a supernova and form a black hole late in their lifetime. This is generally the case for stars with initial masses greater than 20 times that of the sun, or 20 solar masses ($M_\\odot$).\n",
        "\n",
        "In the majority of these binary systems, black hole formation occurs asynchronously. This implies that the binary undergoes a period time where one object is a black hole and one object is still a star. This stage of evolution is called the x-ray binary phase, and the system is referred to as an **x-ray binary**.\n",
        "\n",
        "Why do we call these systems x-ray binaries? During this evolutionary stage, the black hole accretes matter from its companion star due to its strong gravitational pull. The accretion process heats transferred material through gravitational and frictional forces, which in turn triggers the emission of x-rays. Below is a helpful illustration of this process:\n",
        "\n",
        "![HMXB_illustration](https://github.com/CIERA-Northwestern/REACHpy/blob/main/Projects/AccretingBlackHoles/HMXB_illustration.jpg?raw=1)\n",
        "\n",
        "Because the matter surrounding these black holes emits brightly in the x-ray band of the electromagnetic spectrum, x-ray observatories (such as the Chandra Observatory) search for this emission to identify binary systems that house black holes. The brightness, or luminosity, that astronomers observe in these binaries is called the **accretion luminosity**, as it is the luminosity that results from the accretion process of stellar material onto the black hole. These observations help astronomers learn about the properties of these systems and predict their possible courses of evolution. For example, some astronomers are interested in finding systems like these that will eventually form colliding black holes, which can be observed with gravitational wave detections.\n",
        "\n",
        "In this project, we will take a closer look at how we can predict the luminosity of these black hole systems using computational methods and data from simulations.  Theoretical calculations like these help astronomers target their observations towards certain luminosities so that they can better identify these systems in the sky. These calculations also help astronomers compare their theoretical predictions with observations so that they can better understand if there are flaws in their theoretical or observational methods."
      ]
    },
    {
      "cell_type": "markdown",
      "id": "612892ad",
      "metadata": {
        "id": "612892ad"
      },
      "source": [
        "## 1. INTRODUCTION AND DEFINITIONS\n",
        "\n",
        "### 1.1  Some theoretical background\n",
        "As it turns out, black holes are not necessarily entirely dark!\n",
        "\n",
        "Indeed, black holes that are being feed material are able to emit light by a process that we call **\"mass-to-energy conversion\"**. In this process, a black hole is able to *accrete* (that is, increase its mass) via an **accretion disk** that transports material from large distances all the way down to the edge of the black hole, near its **event horizon**. By being moved around, the material loses energy, which is released in the form of emitted light. Therefore, the amount of light emitted -- which we call the **accretion luminosity** $L_{\\rm acc}$-- must be proportional to the so-called accretion rate of the disk  $\\dot{M}_{\\rm acc}$. In order to fall into the black hole, the material loses *so much energy*, that this must be released at the expense of the material's own (rest) mass. This process literally converts mass into light!\n",
        "\n",
        "If we put it into equation form:\n",
        "\n",
        "$L_{\\rm acc} = \\eta \\dot{M}_{\\rm acc}c^2$\n",
        "\n",
        "where $c$ is the speed of light and $\\eta$ is a scale factor which represents the **efficiency of mass-to-energy conversion**.\n",
        "\n",
        "As black holes evolve and increase their mass via accretion, their efficiency $\\eta$ is thought to increase as well (the reasons are beyond the scope of this project, but they have to do with the black hole being spun up as it grows in mass, and spinning black holes are more efficient at converting mass into energy than non-spinning ones). An approximate way to relate the evolving efficiency to the evolving black hole mass is:\n",
        "\n",
        "$$\\eta = 1 - \\sqrt{1 - \\bigg(\\frac{M_{\\rm BH}}{3M_{\\rm BH,0}}\\bigg)^2}$$\n",
        "\n",
        "Since mass is literally being converted into light, it turns out the the black hole doesn't get to eat all the mass that was originally fed to it from a large distance. Instead, the black hole only accretes the material that **was not** converted into light. Or, in equation form,\n",
        "\n",
        "$$ \\dot{M}_{\\rm BH} = \\dot{M}_{\\rm acc}(1 - \\eta)$$\n",
        "\n",
        "\n",
        "You will need to use (and understand!) these three equations to carry out the following research project.\n",
        "\n",
        "### 1.2 Defining your own Python functions\n",
        "First, we need to write a function that calculates and returns the accretion luminosity of a black hole in a binary system. We need something like the following:"
      ]
    },
    {
      "cell_type": "markdown",
      "id": "0013e82e",
      "metadata": {
        "id": "0013e82e"
      },
      "source": [
        "```python\n",
        "def calc_Lacc(<function arguments>):\n",
        "\n",
        "  < calculate Lacc using the above formulae >\n",
        "\n",
        "  return Lacc\n",
        "```"
      ]
    },
    {
      "cell_type": "markdown",
      "id": "bd39630f",
      "metadata": {
        "id": "bd39630f"
      },
      "source": [
        "The parameters being fed to our function are $M_{\\rm BH}$, $M_{\\rm BH,0}$, and $\\dot{M}_{\\rm BH}$ (see definitions above). And we need the function to output $L_{\\rm acc}$ according to the equation above. Thus we need something like:\n",
        "```python\n",
        "def calc_Lacc(Mbh,Mbh0,Mdotbh):\n",
        "\n",
        "  Lacc = eta * Mdotacc * c**2\n",
        "\n",
        "  return Lacc\n",
        "```\n",
        "where you we need to look up the value of ``c``. But most importantly, we also need to know where ``eta`` and ``Mdotacc`` come from!\n",
        "\n",
        "So, a more complete definition of the function is something that may look like:\n",
        "\n",
        "```python\n",
        "def calc_Lacc(Mbh,Mbh0,Mdotbh):\n",
        "  eta = 1 - (1 - (Mbh/3/Mbh0)**2)**0.5\n",
        "  Mdotacc = Mdotbh/(1- eta)\n",
        "  Lacc = eta * Mdotacc * c**2\n",
        "\n",
        "  return Lacc\n",
        "```\n",
        "\n",
        "\n",
        "Now it's your turn to make this function work."
      ]
    },
    {
      "cell_type": "code",
      "execution_count": null,
      "id": "6dc073b5",
      "metadata": {
        "id": "6dc073b5"
      },
      "outputs": [],
      "source": [
        "# define your function in this code cell\n",
        "# ..."
      ]
    },
    {
      "cell_type": "markdown",
      "id": "3ff0e23f",
      "metadata": {
        "id": "3ff0e23f"
      },
      "source": [
        "Note that ``eta`` and ``Mdotacc`` are computed from other quantities, so they can be defined as functions themselves!\n",
        "Now, try something like this:\n",
        "\n",
        "```python\n",
        "def calc_eta( <...>):\n",
        "  <...>\n",
        "  return eta\n",
        "\n",
        "def calc_Mdotacc( <...>):\n",
        "  <...>\n",
        "  return Mdotacc\n",
        "\n",
        "\n",
        "def calc_Lacc( <...>):\n",
        "  <...>\n",
        "  Lacc = calc_eta(<...>) * calc_Mdotacc(<...>) * c**2\n",
        "\n",
        "  return Lacc\n",
        "```"
      ]
    },
    {
      "cell_type": "code",
      "execution_count": null,
      "id": "1f204e7b",
      "metadata": {
        "id": "1f204e7b"
      },
      "outputs": [],
      "source": [
        "# define your function in this code cell\n",
        "# ..."
      ]
    },
    {
      "cell_type": "markdown",
      "id": "f32f9c9b",
      "metadata": {
        "id": "f32f9c9b"
      },
      "source": [
        "To test your function, use it to calculate the accretion luminosity for a system with $M_{\\rm BH} = 11.645$ M$_{\\odot}$, $M_{\\rm BH,0} = 11.611$ M$_{\\odot}$, $\\dot{M}_{\\rm BH} = 3.026\\times10^{-7} M_{\\odot}$ yr$^{-1}$.\n",
        "What is the value of $L_{\\rm acc}$? (The quantity $M_\\odot=1.98847\\times10^{33}$ g corresponds to the mass of the Sun and is referred to as a \"solar mass\")"
      ]
    },
    {
      "cell_type": "code",
      "execution_count": null,
      "id": "c5386864",
      "metadata": {
        "id": "c5386864"
      },
      "outputs": [],
      "source": [
        "# test your function here\n",
        "# ..."
      ]
    },
    {
      "cell_type": "markdown",
      "id": "bdc5da1c",
      "metadata": {
        "id": "bdc5da1c"
      },
      "source": [
        "### 1.3 Reading-in data files\n",
        "For this project, we are going to use data generated by a general theoretical modelling tool called COSMIC. This software generales CSV files (comma separated values) that we can read using pandas.\n",
        "\n"
      ]
    },
    {
      "cell_type": "code",
      "source": [
        "# Running in Google Colab? Run this cell to download the file\n",
        "!wget https://raw.githubusercontent.com/CIERA-Northwestern/REACHpy/main/Projects/AccretingBlackHoles/data/cosmic_data_1.csv\n",
        "!wget https://raw.githubusercontent.com/CIERA-Northwestern/REACHpy/main/Projects/AccretingBlackHoles/data/cosmic_data_2.csv\n",
        "\n",
        "# If you're not running in Colab, these files should be in the data directory.\n",
        "# Change the loading path of the file to include 'data/' when the file is loaded"
      ],
      "metadata": {
        "id": "Wsi0L3u0QNu2"
      },
      "id": "Wsi0L3u0QNu2",
      "execution_count": null,
      "outputs": []
    },
    {
      "cell_type": "markdown",
      "id": "67357252",
      "metadata": {
        "id": "67357252"
      },
      "source": [
        "``` python\n",
        "import pandas as pd\n",
        "df1 = pd.read_csv('cosmic_data_1.csv')\n",
        "print(df1.columns)\n",
        "```\n"
      ]
    },
    {
      "cell_type": "code",
      "execution_count": null,
      "id": "5bf1d428",
      "metadata": {
        "id": "5bf1d428"
      },
      "outputs": [],
      "source": [
        "# copy the snipet above into this code cell\n",
        "# ..."
      ]
    },
    {
      "cell_type": "markdown",
      "id": "733a4a20",
      "metadata": {
        "id": "733a4a20"
      },
      "source": [
        "Some of the relevant columns are the time ``tphys``, the masses of the primary and secondary **when they were still stars** are  ``mass0_1`` and ``mass0_2`` respectively, and the masses of the primary and secondary  at the current time ``tphys`` are ``mass1`` and ``mass2``, respectively. The rate of change of mass (i.e., the \"accretion rate\") of the primary and secondary are ``deltam_1`` and ``deltam_2``, respectively."
      ]
    },
    {
      "cell_type": "markdown",
      "id": "0f09a4ad",
      "metadata": {
        "id": "0f09a4ad"
      },
      "source": [
        "### 1.4 Plotting data"
      ]
    },
    {
      "cell_type": "markdown",
      "id": "da815466",
      "metadata": {
        "id": "da815466"
      },
      "source": [
        "Using what you have learned about matplotlib, try plotting any two columns contained in the datafile ``cosmic_data_1.csv``. For instance, you can plot the masses of the primary and secondary as a function of time:\n",
        "\n",
        "```python\n",
        "import matplotlib.pyplot as plt\n",
        "\n",
        "plt.plot(df1['tphys'],df1['mass_1'])\n",
        "plt.plot(df1['tphys'],df1['mass_2'])\n",
        "```\n",
        "\n",
        "\n"
      ]
    },
    {
      "cell_type": "code",
      "execution_count": null,
      "id": "83a3550f",
      "metadata": {
        "id": "83a3550f"
      },
      "outputs": [],
      "source": [
        "# try to make a plot here\n"
      ]
    },
    {
      "cell_type": "markdown",
      "id": "0c3f2bae",
      "metadata": {
        "id": "0c3f2bae"
      },
      "source": [
        "## 2. YOUR TURN TO DO RESEARCH!\n",
        "\n",
        "### 2.1 Use  what you have learned so far\n",
        "\n",
        "#### 2.2.1 Modify your functions\n",
        "The value of $\\eta$ as defined above becomes imaginary if $M_{\\rm BH}>3M_{\\rm BH,0}$. But in practice, this equation stops being valid much earlier. Specifically, according to black hole theory $\\eta$ cannot exceed a value of 0.42 (which takes place for a so-called **maximally spinning black hole**, for which the event horizon rotates at the speed of light!). Thus, $\\eta$ is taken to be $0.42$\n",
        "for all black hole masses of $\\sqrt{6}M_{BH,0}$ and above (you cannot spin faster than a maximally spinning black hole!).\n",
        "\n",
        "So, you need to ammend your old function below to capture this new condition on $\\eta$:\n"
      ]
    },
    {
      "cell_type": "code",
      "execution_count": null,
      "id": "70d78e05",
      "metadata": {
        "id": "70d78e05"
      },
      "outputs": [],
      "source": [
        "# code an ammended function here that does not allow eta to be larger than 0.42\n",
        "#..."
      ]
    },
    {
      "cell_type": "markdown",
      "id": "e220cec9",
      "metadata": {
        "id": "e220cec9"
      },
      "source": [
        "Another ammendment that we need to implement is what called  **bolometric correction** to the luminosity. A bolometric correction is a multiplicative factor that accounts for differences between the visible luminosity that we observe and the true brightness of the observed source. For binaries with accreting black holes, this correction is $0.8$. Copy and paste your old function below, and then multiply your final accretion luminosity by this factor before returning it."
      ]
    },
    {
      "cell_type": "code",
      "execution_count": null,
      "id": "8d11ee9a",
      "metadata": {
        "id": "8d11ee9a"
      },
      "outputs": [],
      "source": [
        "# code an ammended function here that takes the bolometric correction into account\n",
        "#..."
      ]
    },
    {
      "cell_type": "markdown",
      "id": "bccac5d7",
      "metadata": {
        "id": "bccac5d7"
      },
      "source": [
        "What is the value of $L_{\\rm acc}$ for the same values as above ( $M_{\\rm BH} = 11.645$ M$_{\\odot}$, $M_{\\rm BH,0} = 11.611$ M$_{\\odot}$, $\\dot{M}_{\\rm BH} = 3.026\\times10^{-7} M_{\\odot}$ yr$^{-1}$) now that you have ammended your function?"
      ]
    },
    {
      "cell_type": "code",
      "execution_count": null,
      "id": "90225491",
      "metadata": {
        "id": "90225491"
      },
      "outputs": [],
      "source": [
        "# test your ammended function here\n",
        "# ..."
      ]
    },
    {
      "cell_type": "markdown",
      "id": "1359589a",
      "metadata": {
        "id": "1359589a"
      },
      "source": [
        "#### 2.2.2 Apply your functions to datasets\n",
        "\n",
        "We want to apply your function ``calc_Lacc`` to the data frame ``df1`` that contains the dataset ``cosmic_data_1.csv``.\n",
        "\n",
        "Since the secondary is the accreting black hole, the parameters we need are ```mass_2``` and ```deltam_2```. One way we can acquire luminosity information is to loop through the dataframe, row by row, and calculate the luminosity at each time step using our function.\n",
        "\n",
        "First, write a ```for``` loop that goes through each row of the data frame and applies your luminosity function at each iteration. We will try the pandas function ```iterrows()```.*\n",
        "\n",
        "For example, the following loop print out the value of ```mass_2``` for each and every row in the data frame alongside the initial value of ```mass_2```\n",
        "\n",
        "```python\n",
        "for index,row in df1.iterrows():\n",
        "    print(row['mass_2'],df1['mass_2'][0])\n",
        "```\n",
        "\n",
        "Now try it yourself:"
      ]
    },
    {
      "cell_type": "code",
      "execution_count": null,
      "id": "d9188aa5",
      "metadata": {
        "id": "d9188aa5"
      },
      "outputs": [],
      "source": [
        "# Write a for loop here\n",
        "# ...\n"
      ]
    },
    {
      "cell_type": "markdown",
      "id": "9502bd93",
      "metadata": {
        "id": "9502bd93"
      },
      "source": [
        "You can operate functions on each value of ``mass_2``. For instance, what if you want to compute ``mass_2`` to the fourth power? You can print it out like this:\n",
        "```python\n",
        "for index,row in df1.iterrows():\n",
        "    print(row['mass_2']**4)\n",
        "```\n",
        "Instead of printint the result to the screen, you can save them into an array instead!\n",
        "```python\n",
        "import numpy as np\n",
        "result = np.zeros(len(df1))\n",
        "for index,row in df1.iterrows():\n",
        "    result[index]=row['mass_2']**4\n",
        "print(result)\n",
        "```\n",
        "\n",
        "Now it is your turn to try operating functions on the data frame"
      ]
    },
    {
      "cell_type": "code",
      "execution_count": null,
      "id": "809b1666",
      "metadata": {
        "id": "809b1666"
      },
      "outputs": [],
      "source": [
        "# apply functions to df1 here\n",
        "# ..."
      ]
    },
    {
      "cell_type": "markdown",
      "id": "b571cc0d",
      "metadata": {
        "id": "b571cc0d"
      },
      "source": [
        "Now, do this for the function ``calc_Lacc`` and save your calculated luminosities in an array. Print your final array of luminosities to check that they are reasonable. Reasonable luminosities should fall between $10^{30}$ and $10^{45}$ (the units are $erg$ $s^{-1}$).\n"
      ]
    },
    {
      "cell_type": "code",
      "execution_count": null,
      "id": "0c24e91f",
      "metadata": {
        "id": "0c24e91f"
      },
      "outputs": [],
      "source": [
        "# compute Lacc for the entire data frame using iterrows\n",
        "# ..."
      ]
    },
    {
      "cell_type": "markdown",
      "id": "29a0f83a",
      "metadata": {
        "id": "29a0f83a"
      },
      "source": [
        "Now that we have the accretion luminosity data for our binary, let's plot it to see how the system's emission changes over time. Using matplotlib, make a time series plot using the ```tphys``` column from the simulation output along with your array of luminosities. Make sure to properly label your plot!B *Hint: Use a log scale when plotting your luminosities so that you can better visualize the emission behavior.*"
      ]
    },
    {
      "cell_type": "code",
      "execution_count": null,
      "id": "690561f1",
      "metadata": {
        "id": "690561f1"
      },
      "outputs": [],
      "source": [
        "# use matplotlib to plot the accretion luminosity as a function of time\n",
        "# ..."
      ]
    },
    {
      "cell_type": "markdown",
      "id": "172743c3",
      "metadata": {
        "id": "172743c3"
      },
      "source": [
        "One question researchers might ask is if a given binary system is observable. For a system to be observed by an x-ray observatory, it must reach a maximum luminosity above an observable threshold. Let's take our observable threshold to be $10^{37} erg$ $s^{-1}$, which is a common threshold used for the Chandra Observatory. Using your calculations, find the maximum luminosity of your binary system. Is it observable?"
      ]
    },
    {
      "cell_type": "code",
      "execution_count": null,
      "id": "c6834f35",
      "metadata": {
        "id": "c6834f35"
      },
      "outputs": [],
      "source": [
        "# plot again here and check if this binary system is observable (Hint: make the y-axis logarithmic in scale)\n",
        "# ..."
      ]
    },
    {
      "cell_type": "markdown",
      "id": "370c0ebf",
      "metadata": {
        "id": "370c0ebf"
      },
      "source": [
        "### 2.2 Expand on  what you have learned so far\n",
        "\n",
        "As it turns out, looping over dataframes using ```iterrows()``` is actually pretty slow. In the following, we will try an alternative method that we may call **\"the array method**.\n",
        "\n",
        "As an example, consider the following function ```func(y,a)```, where ```y``` is the independent variable and ```a``` is an additional parameter. Note that we define an **internal** variable ```b``` inside the function.\n",
        "\n",
        "```python\n",
        "from math import sin\n",
        "\n",
        "def func(y,a):\n",
        "    if (abs(a) < 1):\n",
        "        b = 1\n",
        "    else:\n",
        "        b  = 2\n",
        "\n",
        "    return sin(y/a)**b\n",
        "```\n",
        "\n",
        "Now you have multiple values of ```y``` (as you do values of mass in ```df1``` above) and **also** multiple value of ```a```:\n",
        "\n",
        "```python\n",
        "y = np.linspace(0,10,20)\n",
        "a = np.random.random(20)\n",
        "\n",
        "```\n",
        "You can repeat the loop method to evaluate ```func``` for all these values of ```y``` and ```a```:\n",
        "\n",
        "```python\n",
        "for index in range(len(y)):\n",
        "    result[index] = func(y[index],a[index])\n",
        "```\n",
        "But, as mentioned before, this approach is very slow. ```numpy```, however, should allow you to operate the function directly on the arrays and do something like:\n",
        "\n",
        "```python\n",
        "result = func(y,a)\n",
        "```\n",
        "but that will not work. Do you know why?"
      ]
    },
    {
      "cell_type": "code",
      "execution_count": null,
      "id": "dad994e4",
      "metadata": {
        "id": "dad994e4"
      },
      "outputs": [],
      "source": [
        "# test that the numpy operation will not work off the bat\n",
        "#..."
      ]
    },
    {
      "cell_type": "markdown",
      "id": "fad88fa0",
      "metadata": {
        "id": "fad88fa0"
      },
      "source": [
        "We will solve this problem using what you learned about **array slicing**. For example, let's say I have two arrays of the same size called ```x``` and ```y```. If want to know which values of ```x``` are less than their corresponding values in ```y```, you can write:\n",
        "\n",
        "``` python\n",
        "x_lower_values = x < y\n",
        "```\n",
        "The quantity ```x_lower_values``` is a **boolean array** or an array of zeros and ones --or yeas and nays-- telling your where x is less than y (True) and when x is not less than y (False). Similarly, there is the ```numpy``` function ```where()```.\n",
        "\n",
        "Now rewrite the example function as:\n",
        "\n",
        "```python\n",
        "from math import sin\n",
        "\n",
        "def func(y,a):\n",
        "    b = np.ones(len(a))\n",
        "    a_higher_values = a > 1\n",
        "\n",
        "    b[a_higher_values] = 2\n",
        "\n",
        "    return np.sin(y/a)**b\n",
        "```\n",
        "\n",
        "Alternatively, if you want to use ```where```, you could write:\n",
        "\n",
        "```python\n",
        "def func(y,a):\n",
        "    b = np.ones(len(a))\n",
        "    b = np.where(a > 1,2,1)\n",
        "    return np.sin(y/a)**b\n",
        "```\n",
        "Make sure these two functions work"
      ]
    },
    {
      "cell_type": "code",
      "execution_count": null,
      "id": "f8f3e11c",
      "metadata": {
        "id": "f8f3e11c"
      },
      "outputs": [],
      "source": [
        "# code here\n",
        "# ..."
      ]
    },
    {
      "cell_type": "markdown",
      "id": "ba2d4da2",
      "metadata": {
        "id": "ba2d4da2"
      },
      "source": [
        "Now, ammend your ```calc_Lacc``` function once more such that you can call it in just one line\n",
        "```python\n",
        "def calc_Lacc_np(Mbh,Mbh0,Mdotbh):\n",
        "    ...\n",
        "```"
      ]
    },
    {
      "cell_type": "code",
      "execution_count": null,
      "id": "ea722719",
      "metadata": {
        "id": "ea722719"
      },
      "outputs": [],
      "source": [
        "# code your improved function here\n",
        "#..."
      ]
    },
    {
      "cell_type": "markdown",
      "id": "ce3798e5",
      "metadata": {
        "id": "ce3798e5"
      },
      "source": [
        "Apply your new and improved function to the same data set above. You should now only need one line of code to calculate your array of accretion luminosities. Print your final array of luminosities to check that they are reasonable. *Hint: you may need to create an array for $M_{BH,0}$ that is the same length as your arrays for $M_{BH}$ and $\\dot M_{BH}$ in order to pass it to your function.*"
      ]
    },
    {
      "cell_type": "code",
      "execution_count": null,
      "id": "c20a26f9",
      "metadata": {
        "id": "c20a26f9"
      },
      "outputs": [],
      "source": [
        "# code here\n",
        "#..."
      ]
    },
    {
      "cell_type": "markdown",
      "id": "0ae4ebf9",
      "metadata": {
        "id": "0ae4ebf9"
      },
      "source": [
        "Plot the accretion luminosities you obtained with the ```for``` loop method as well as those you obtained with the array method. They should agree. Make sure to properly label your plot."
      ]
    },
    {
      "cell_type": "code",
      "execution_count": null,
      "id": "b3c8d58a",
      "metadata": {
        "id": "b3c8d58a"
      },
      "outputs": [],
      "source": [
        "# code here\n",
        "# ..."
      ]
    },
    {
      "cell_type": "markdown",
      "id": "a4598027",
      "metadata": {
        "id": "a4598027"
      },
      "source": [
        "Copy and paste your pieces of code that run your different luminosity functions below. Import the python ```time``` module and use the ```time()``` function to determine the runtime of each code segment. Print both runtimes to compare them."
      ]
    },
    {
      "cell_type": "code",
      "execution_count": null,
      "id": "6a94fbe0",
      "metadata": {
        "id": "6a94fbe0"
      },
      "outputs": [],
      "source": [
        "# code here\n",
        "# ..."
      ]
    },
    {
      "cell_type": "markdown",
      "id": "215a138f",
      "metadata": {
        "id": "215a138f"
      },
      "source": [
        "Even though the difference in runtimes may seem small, it is actually quite noticeable when applied to many systems. Calculate how long each method would take to analyze the luminosities of a full population of 50,000 binaries. What's the computing time in hours?"
      ]
    },
    {
      "cell_type": "code",
      "execution_count": null,
      "id": "1dadb01c",
      "metadata": {
        "id": "1dadb01c"
      },
      "outputs": [],
      "source": [
        "# code here\n",
        "# ..."
      ]
    },
    {
      "cell_type": "markdown",
      "id": "28c8ecc9",
      "metadata": {
        "id": "28c8ecc9"
      },
      "source": [
        "Now, suppose we run a total of 10 different simulations, and need to analyze the luminosities of all systems in each simulation. How long does each method take to complete these calculations? Were the improvements to your luminosity function worth it?"
      ]
    },
    {
      "cell_type": "code",
      "execution_count": null,
      "id": "ecd02e4f",
      "metadata": {
        "id": "ecd02e4f"
      },
      "outputs": [],
      "source": [
        "# code here\n",
        "# ..."
      ]
    },
    {
      "cell_type": "markdown",
      "id": "00162663",
      "metadata": {
        "id": "00162663"
      },
      "source": [
        "## 3. BONUS RESEARCH PROJECT\n",
        "\n",
        "The file ```cosmic_data_1.csv``` is actually a very small portion of a full simulation output file. Now, read-in the simulation data file ```cosmic_data_2.csv```, also located in this project folder, and store it as a ```pandas``` dataframe (it may take a couple of minutes to upload). Open the file and examine its format, including column titles, the number of rows, etc.\n",
        "\n",
        "```python\n",
        "df2 = pd.read_csv('cosmic_data_2.csv')\n",
        "print(df2.columns)\n",
        "```"
      ]
    },
    {
      "cell_type": "code",
      "execution_count": null,
      "id": "855ed217",
      "metadata": {
        "id": "855ed217"
      },
      "outputs": [],
      "source": [
        "# read-in your data frame here\n"
      ]
    },
    {
      "cell_type": "markdown",
      "id": "a25a3f3b",
      "metadata": {
        "id": "a25a3f3b"
      },
      "source": [
        "This file is clearly far more massive than the previous one - and it is still a reduced version of the full simulation output!"
      ]
    },
    {
      "cell_type": "markdown",
      "id": "5d6c41fb",
      "metadata": {
        "id": "5d6c41fb"
      },
      "source": [
        "The bonus portion of this project involves identifying the x-ray binary phase of the system and applying our luminosity function to the appropriate subset of the extended data file.\n",
        "\n",
        "First, we need to identify when the x-ray binary phase begins. We can do this by finding the timestep when the first black hole is formed, which is recorded in the ```kstar_1``` and ```kstar_2``` columns of the data file. If ```kstar_1``` or ```kstar_2``` equals $14$, then that respective object is a black hole. The x-ray binary phase begins when the first black hole's accretion rate becomes greater than zero.\n",
        "\n",
        "We will use the ```numpy.where()``` function to identify **3 separate instances** of interest in the evolution of this binary:\n",
        "* The time (or array index) at which one of the two stars first becomes a black hole.\n",
        "* The time (or array index) at which the first black hole to form starts to accrete (gain) mass.\n",
        "* The time (or array index) at which the first black hole to form ceases to accrete mass.\n",
        "\n",
        "Write a piece of code that identifies the timestep or index of the data file at which each object in the binary becomes a black hole. Store each index as a variable. Then compare the indices or timesteps you found and determine which black hole formed first. Do both Object 1 and Object 2 become black holes?"
      ]
    },
    {
      "cell_type": "code",
      "execution_count": null,
      "id": "9be45d62",
      "metadata": {
        "id": "9be45d62"
      },
      "outputs": [],
      "source": [
        "# Use np.where() to find where in the dataframe the quantities kstar_1 and kstar_2 are equal to 14\n",
        "# ...\n"
      ]
    },
    {
      "cell_type": "markdown",
      "id": "55e31159",
      "metadata": {
        "id": "55e31159"
      },
      "source": [
        "Now, identify the indices that correspond to the beginning and end of the mass accretion phase. This is the **x-ray binary phase**. Do both Object 1 and Object 2 experience a period of mass accretion?"
      ]
    },
    {
      "cell_type": "code",
      "execution_count": null,
      "id": "a6bb626b",
      "metadata": {
        "id": "a6bb626b"
      },
      "outputs": [],
      "source": [
        "# code here\n",
        "# ..."
      ]
    },
    {
      "cell_type": "markdown",
      "id": "9b40762b",
      "metadata": {
        "id": "9b40762b"
      },
      "source": [
        "Create 3 variables $M_{BH}$, $M_{BH,0}$ and $\\dot{M}_{BH}$, and using ```if``` statements, assign to them the corresponding columns of Object 1 or Object 2 **during the x-ray binary (mass accretion)  phase**. Hint: use indexing to select only the relevant part of each column"
      ]
    },
    {
      "cell_type": "code",
      "execution_count": null,
      "id": "9d4d12c9",
      "metadata": {
        "id": "9d4d12c9"
      },
      "outputs": [],
      "source": [
        "# code here\n",
        "# ..."
      ]
    },
    {
      "cell_type": "markdown",
      "id": "61da53f4",
      "metadata": {
        "id": "61da53f4"
      },
      "source": [
        "Using your numpy-compatible function, calculate the accretion luminosity of the binary during the x-ray binary phase, and print the resulting array of luminosities. Determine if this system is observable."
      ]
    },
    {
      "cell_type": "code",
      "execution_count": null,
      "id": "49525a78",
      "metadata": {
        "id": "49525a78"
      },
      "outputs": [],
      "source": [
        "# code here\n",
        "# ..."
      ]
    },
    {
      "cell_type": "markdown",
      "id": "7d7b95ab",
      "metadata": {
        "id": "7d7b95ab"
      },
      "source": [
        "As a last step, compare your new luminosities to those you found above with the ```cosmic_data_1.csv``` data set. Use ```matplotlib``` to plot a time series of the binary emission over time, and label your plot accordingly. *Hint: you will need to apply the same cuts to the ```tphys``` column of ```cosmic_data_2.csv``` that you applied to your luminosity input parameters in order to plot your luminosities.*\n",
        "\n",
        "What are some similarities and differences between the emission of the first and second binary system?"
      ]
    },
    {
      "cell_type": "code",
      "execution_count": null,
      "id": "1f338db4",
      "metadata": {
        "id": "1f338db4"
      },
      "outputs": [],
      "source": [
        "# code here\n",
        "# ..."
      ]
    },
    {
      "cell_type": "markdown",
      "id": "f011827a",
      "metadata": {
        "id": "f011827a"
      },
      "source": [
        "Congratulations, you have completed this project! I hoped you have learned some new information about x-ray binary systems, and have also sharpened your coding skills by experimenting with computational methods commonly used in research. If you are looking for more challenges, ask Camille and she will happily give you some!"
      ]
    }
  ],
  "metadata": {
    "kernelspec": {
      "display_name": "Python 3 (ipykernel)",
      "language": "python",
      "name": "python3"
    },
    "language_info": {
      "codemirror_mode": {
        "name": "ipython",
        "version": 3
      },
      "file_extension": ".py",
      "mimetype": "text/x-python",
      "name": "python",
      "nbconvert_exporter": "python",
      "pygments_lexer": "ipython3",
      "version": "3.8.9"
    },
    "colab": {
      "provenance": []
    }
  },
  "nbformat": 4,
  "nbformat_minor": 5
}
