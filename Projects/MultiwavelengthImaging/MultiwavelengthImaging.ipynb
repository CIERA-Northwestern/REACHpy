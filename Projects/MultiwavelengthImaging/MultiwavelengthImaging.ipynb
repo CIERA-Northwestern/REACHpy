{
  "nbformat": 4,
  "nbformat_minor": 0,
  "metadata": {
    "colab": {
      "name": "MultiwavelengthImaging.ipynb",
      "provenance": [],
      "collapsed_sections": [],
      "authorship_tag": "ABX9TyOI1xDl3BtQOfDyKK6CvCU+"
    },
    "kernelspec": {
      "name": "python3",
      "display_name": "Python 3"
    },
    "language_info": {
      "name": "python"
    }
  },
  "cells": [
    {
      "cell_type": "markdown",
      "metadata": {
        "id": "ykVUzMHnMZG0"
      },
      "source": [
        "# Viewing the universe in different colors and wavelengths\n",
        "---\n",
        "<div>Michael C. Stroh</br>\n",
        "michael.stroh@northwestern.edu</br>\n",
        "Center for Interdisciplinary Exploration and Research in Astrophysics</br>\n",
        "Northwestern University</br>\n",
        "2021\n",
        "</div>\n",
        "\n",
        "---\n"
      ]
    },
    {
      "cell_type": "markdown",
      "metadata": {
        "id": "MyyJq39CMVFo"
      },
      "source": [
        "## Section 1: Background"
      ]
    },
    {
      "cell_type": "markdown",
      "metadata": {
        "id": "rmRj-hC_sonh"
      },
      "source": [
        "### Section 1.1: The Electromagnetic Spectrum"
      ]
    },
    {
      "cell_type": "markdown",
      "metadata": {
        "id": "OVc7qhpbPhF7"
      },
      "source": [
        "Since the Sun shines in the the optical portion of the electromagnetic spectrum, we have evolved to observe optical light. \n",
        "Radio, infrared, ultraviolet, X-rays and gamma rays are also important types of light, that we can also use to study the universe.\n",
        "In this project, you will create images from different parts of the electromagnetic spectrum."
      ]
    },
    {
      "cell_type": "markdown",
      "metadata": {
        "id": "sjmvUec0OOCQ"
      },
      "source": [
        "![](https://upload.wikimedia.org/wikipedia/commons/9/99/EM_Spectrum3-new.jpg)"
      ]
    },
    {
      "cell_type": "markdown",
      "metadata": {
        "id": "0VqnZSuRkp5O"
      },
      "source": [
        "Above is a cartoon from NASA that shows different ways to characterize the electromagnetic spectrum.\n",
        "\n",
        "* Hotter things are 'bluer,' while colder things are 'redder.'\n",
        "* Temperature is related to the frequency. Frequency is often specified in units of Hz (hertz) and 1 Hz is equal to units of s$^{-1}$. In the case of light, the frequency specifies how often the light peaks in one second if using units of Hz."
      ]
    },
    {
      "cell_type": "markdown",
      "metadata": {
        "id": "bQHbCE54r6Ci"
      },
      "source": [
        "We have two key equations to convert between energy, frequency and wavelength:\n",
        "1. $E=hf$, and \n",
        "2. $c = f\\lambda$.\n",
        "\n",
        "* $E$ is the energy (units of Joules which is equal to $\\textrm{kg}\\,\\textrm{m}^2\\,\\textrm{s}^{-2}$ in SI).\n",
        "* $h$ is Plank's constant ($6.626\\times10^{-34}\\,\\textrm{m}^2\\,\\textrm{kg}\\,\\textrm{s}^{-1}$ in SI).\n",
        "* $f$ is the frequency (units of Hz or s$^{-1}$ in SI).\n",
        "* $c$ is the speed of light ($2.9979\\times10^{8}\\,\\textrm{m/s}$ in SI)\n",
        "* $\\lambda$ is the wavelength (units of meters in SI)."
      ]
    },
    {
      "cell_type": "markdown",
      "metadata": {
        "id": "kvkH_N6wr9K1"
      },
      "source": [
        "Combining these two equations and the image above, you should be able to think of these properties as:\n",
        "\n",
        "* Redder things emit longer wavelength light, but lower frequencies.\n",
        "* Bluer things emit smaller wavelength light, but higher frequencies.\n",
        "\n",
        "Astronomers often need to convert between energy, frequency and wavelength. Some astronomers also are more comfortable viewing astronomy in terms of one of these quantities and convert as necessary."
      ]
    },
    {
      "cell_type": "markdown",
      "metadata": {
        "id": "UQ-r-TUus3OG"
      },
      "source": [
        "### Section 1.2: Different types of telescopes"
      ]
    },
    {
      "cell_type": "markdown",
      "metadata": {
        "id": "4xNVR2sFtD2y"
      },
      "source": [
        "In this project, you will use images from the following telescopes."
      ]
    },
    {
      "cell_type": "markdown",
      "metadata": {
        "id": "rHxz1Ok7tQOn"
      },
      "source": [
        "#### Pan-STARRS\n",
        "![](https://outerspace.stsci.edu/download/attachments/10257385/PanSTARRS1_dome_small.jpg?version=2&modificationDate=1482088820000&api=v2)\n",
        "\n",
        "The Panoramic Survey Telescope and Rapid Response System (referred to as Pan-STARRS) is located in Hawaii and observes the sky in optical and infrared filters. More information can be found at [https://panstarrs.stsci.edu/](https://panstarrs.stsci.edu/)."
      ]
    },
    {
      "cell_type": "markdown",
      "metadata": {
        "id": "XR67GGa4vrwW"
      },
      "source": [
        "#### The VLA\n",
        "![](https://science.nrao.edu/facilities/vla/images/vla_panorama_lo.jpg/image_large)\n",
        "\n",
        "The Karl G. Jansky Very Large Array (referred to as the VLA) consists of 27 large radio telescopes in New Mexico. The VLA combines the signal from all of the dishes to act as a much larger telescope. More information on the VLA can be found at [https://public.nrao.edu/telescopes/vla/](https://public.nrao.edu/telescopes/vla/)."
      ]
    },
    {
      "cell_type": "markdown",
      "metadata": {
        "id": "JYAGFIZHwcxt"
      },
      "source": [
        "####Chandra\n",
        "![](https://svs.gsfc.nasa.gov/vis/a010000/a011100/a011185/Image4_1024x576.jpg)\n",
        "\n",
        "The Chandra X-ray Observatory is NASA's premier X-ray observatory and orbits the Earth in a 64 hour orbit."
      ]
    },
    {
      "cell_type": "markdown",
      "metadata": {
        "id": "1OJFSHay7PMX"
      },
      "source": [
        "### Section 1.3: The Crab Nebula"
      ]
    },
    {
      "cell_type": "markdown",
      "metadata": {
        "id": "e2oVazAf7UwZ"
      },
      "source": [
        "In this project, you will be using images of the Crab Nebula.\n",
        "The Crab Nebula was created by a supernova that happened in 1054 AD, and was was observed by Chinese astronomers.\n",
        "at the center of the supernova remnant lies a pulsar (a spinning neutron star). This pulsar, the Crab pulsar, is the collapsed remains of the star. \n",
        "\n",
        "More information about the Crab Nebula can be found at the following links:\n",
        "* [NASA page on the Crab Nebula](https://www.nasa.gov/feature/goddard/2017/messier-1-the-crab-nebula)\n",
        "* [Wikipedia Crab Nebula page](https://en.wikipedia.org/wiki/Crab_Nebula)\n"
      ]
    },
    {
      "cell_type": "markdown",
      "metadata": {
        "id": "iqdPuR5XMnF_"
      },
      "source": [
        "## Section 2: Optical images - a wavelength view of the electromagnetic spectrum"
      ]
    },
    {
      "cell_type": "markdown",
      "metadata": {
        "id": "FthoxawrNy1V"
      },
      "source": [
        "\n",
        "![](https://outerspace.stsci.edu/download/attachments/10257347/tonryphotometricsystem.jpg?version=1&modificationDate=1481813549000&api=v2)\n",
        "\n",
        "This figure is from [Tonry et al. (2012)](https://ui.adsabs.harvard.edu/abs/2012ApJ...750...99T/abstract).\n",
        "\n",
        "Each line in the figure corresponds to a filter used by Pan-STARRS.\n",
        "The filters we will use are the g (shown in light blue), r (shown in red), i (shown in yellow).\n",
        "The x-axis in the figure indicates the wavelengths (in nanometers) covered by the Pan-STARRS filters.\n",
        "The y-axis can be thought of how sensitive the telescope is to detecting light at each filter at that wavelength. \n",
        "As an example, you can see that the red filter covers wavelengths from around 550 to 700 nm.\n"
      ]
    },
    {
      "cell_type": "markdown",
      "metadata": {
        "id": "OmTG1bAJN3Di"
      },
      "source": [
        "### Section 2.1: Downloading an image"
      ]
    },
    {
      "cell_type": "markdown",
      "metadata": {
        "id": "fnjwPD1coh1m"
      },
      "source": [
        "Run the following cell to download three images taken by PanSTARRS taken in the g, r, and i filters."
      ]
    },
    {
      "cell_type": "code",
      "metadata": {
        "id": "PCurwz1m0fRU"
      },
      "source": [
        "!wget -O crab_nebula_i.fits \"https://ps1images.stsci.edu/cgi-bin/fitscut.cgi?ra=83.63308333333332&dec=22.0145&size=1200&format=fits&red=/rings.v3.skycell/1784/059/rings.v3.skycell.1784.059.stk.i.unconv.fits\"\n",
        "!wget -O crab_nebula_r.fits \"https://ps1images.stsci.edu/cgi-bin/fitscut.cgi?ra=83.63308333333332&dec=22.0145&size=1200&format=fits&red=/rings.v3.skycell/1784/059/rings.v3.skycell.1784.059.stk.r.unconv.fits\"\n",
        "!wget -O crab_nebula_g.fits \"https://ps1images.stsci.edu/cgi-bin/fitscut.cgi?ra=83.63308333333332&dec=22.0145&size=1200&format=fits&red=/rings.v3.skycell/1784/059/rings.v3.skycell.1784.059.stk.g.unconv.fits\""
      ],
      "execution_count": null,
      "outputs": []
    },
    {
      "cell_type": "markdown",
      "metadata": {
        "id": "OnowXsj81nm1"
      },
      "source": [
        "Run the next cell to see a list of the files in your directory. You should now see crab_nebula_i.fits, crab_nebula_r.fits, and crab_nebula_g.fits corresponding to the three different filters we will use (i, r, and g)."
      ]
    },
    {
      "cell_type": "code",
      "metadata": {
        "id": "GlRIc3WX1nU1"
      },
      "source": [
        "!ls"
      ],
      "execution_count": null,
      "outputs": []
    },
    {
      "cell_type": "markdown",
      "metadata": {
        "id": "CvfAqEWVss73"
      },
      "source": [
        "### Section 2.2: Create your first image"
      ]
    },
    {
      "cell_type": "markdown",
      "metadata": {
        "id": "Id95RJeWszfY"
      },
      "source": [
        "Create an image using one of the three optical files you have downloaded.\n",
        "\n",
        "You may find it useful to reference the [astropy imaging notebook](https://github.com/psheehan/CIERA-HS-Program/blob/master/AstropyModule/Astropy-images.ipynb).\n",
        "\n",
        "It is also recommended to use `norm=LogNorm()` when you use `imshow()` as is demonstrated in the [astropy imaging notebook](https://github.com/psheehan/CIERA-HS-Program/blob/master/AstropyModule/Astropy-images.ipynb)."
      ]
    },
    {
      "cell_type": "code",
      "metadata": {
        "id": "0RTLWAeOmf_Z"
      },
      "source": [
        "#\n",
        "# Some code to help get you started\n",
        "#\n",
        "\n",
        "# Set up matplotlib\n",
        "import matplotlib\n",
        "import matplotlib.pyplot as plt\n",
        "%matplotlib inline\n",
        "\n",
        "# Import astropy modules\n",
        "from astropy.io import fits\n",
        "from matplotlib.colors import LogNorm\n",
        "from matplotlib.colors import *"
      ],
      "execution_count": null,
      "outputs": []
    },
    {
      "cell_type": "markdown",
      "metadata": {
        "id": "aig8ADNv6ihS"
      },
      "source": [
        "Do you notice anything weird about the areas outside of the Crab Nebula in your images?"
      ]
    },
    {
      "cell_type": "code",
      "metadata": {
        "id": "MvdRmLVY7NFy"
      },
      "source": [
        "#\n",
        "# Placeholder for code or comments\n",
        "#"
      ],
      "execution_count": null,
      "outputs": []
    },
    {
      "cell_type": "markdown",
      "metadata": {
        "id": "6J4_ZLZSPhjY"
      },
      "source": [
        "Use the figure at the beginning of Section 2. For the image you chose answer the following questions:\n",
        "* What is the average wavelength sampled by the filter? Use the green line for the g filter, the red line for the r filter, and yellow for the i filter. \n",
        "* What is the frequency of light at this wavelength in $m/s$?\n",
        "* What is the energy of light observed at this wavelength in Joules?"
      ]
    },
    {
      "cell_type": "markdown",
      "metadata": {
        "id": "Rc0ebjwp8nss"
      },
      "source": [
        "### Section 2.3: Troubleshooting your image"
      ]
    },
    {
      "cell_type": "markdown",
      "metadata": {
        "id": "eZDF2aqLnkwb"
      },
      "source": [
        "#### Section 2.3.1: Selecting portions of numpy arrays based on their values"
      ]
    },
    {
      "cell_type": "markdown",
      "metadata": {
        "id": "-MWB4LPunqP_"
      },
      "source": [
        "You can use numpy and pandas to find and select parts of your array that you are interested in based on the values given. For instance, suppose we have the simple numpy array from 1-10 but we want to create new arrays from subsets of the initial array."
      ]
    },
    {
      "cell_type": "code",
      "metadata": {
        "id": "Xt79RD3ynxPs"
      },
      "source": [
        "# Create basic array using numpy\n",
        "one_to_nine_array = np.linspace(1,10,10)\n",
        "print(one_to_nine_array)\n",
        "\n",
        "# Consider which parts of the array have values <=3\n",
        "one_to_three_indices = one_to_nine_array <= 3\n",
        "print(one_to_three_indices)\n",
        "\n",
        "# Now select part of the arrray using those values\n",
        "one_to_three_array = one_to_nine_array[one_to_nine_array <= 3]\n",
        "print(one_to_three_array)\n"
      ],
      "execution_count": null,
      "outputs": []
    },
    {
      "cell_type": "markdown",
      "metadata": {
        "id": "fB-Y1_lWnzBg"
      },
      "source": [
        "If we wanted [4,5] using two conditions we can use two tests with an '&' symbol which acts as an 'and' and combines your tests. You can also use '|' when you are interested in using an or between your tests.\n"
      ]
    },
    {
      "cell_type": "code",
      "metadata": {
        "id": "Bwf1NqDpn1hJ"
      },
      "source": [
        "four_and_five_array = one_to_nine_array[(one_to_nine_array > 3) & (one_to_nine_array < 6)]\n",
        "print(four_and_five_array)"
      ],
      "execution_count": null,
      "outputs": []
    },
    {
      "cell_type": "markdown",
      "metadata": {
        "id": "6ORht9UKn32K"
      },
      "source": [
        "We can also select the [4, 5, 6, 7, 8, 9] array by using the ~ operator which acts as a 'not' or 'opposite' on the indexing."
      ]
    },
    {
      "cell_type": "code",
      "metadata": {
        "id": "EKJ9foldn4LB"
      },
      "source": [
        "greater_than_three_array = one_to_nine_array[~(one_to_nine_array <= 3)]\n",
        "print(greater_than_three_array)\n"
      ],
      "execution_count": null,
      "outputs": []
    },
    {
      "cell_type": "markdown",
      "metadata": {
        "id": "1EZvG1gUnsv3"
      },
      "source": [
        "#### Section 2.3.2: Back to your image"
      ]
    },
    {
      "cell_type": "markdown",
      "metadata": {
        "id": "Evaor5pq7Q-8"
      },
      "source": [
        "An optical image can be thought of as a grid made up of individual pixels that record the amount of light reaching it. The data recorded from the pixels is combined to form the fits image you are plotting.\n",
        "\n",
        "There may be pixels without recorded values. These would show up as `null` values in your table. The numpy function `isnan()` may be useful to answer the following questions.\n",
        "* How many pixels have `null` values?\n",
        "* Create a version of your table without the null values."
      ]
    },
    {
      "cell_type": "code",
      "metadata": {
        "id": "ruI3lCKM9gOS"
      },
      "source": [
        "#\n",
        "# Placeholder for code or comments\n",
        "#"
      ],
      "execution_count": null,
      "outputs": []
    },
    {
      "cell_type": "markdown",
      "metadata": {
        "id": "VzTQXYzY8le2"
      },
      "source": [
        "Unfortunately, plotting your new table likely won't change the image because the pixels still have nothing there. But we are now in a much better place to start these next steps:\n",
        "\n",
        "* To start to understand what is happening to the areas outside of the Crab Nebula, create a histogram of the pixel values."
      ]
    },
    {
      "cell_type": "code",
      "metadata": {
        "id": "VAtN9t8Z7zPZ"
      },
      "source": [
        "#\n",
        "# Placeholder for code or comments\n",
        "#"
      ],
      "execution_count": null,
      "outputs": []
    },
    {
      "cell_type": "markdown",
      "metadata": {
        "id": "ESRXTJYZ71QW"
      },
      "source": [
        "What are the lowest and highest values recorded in your image?\n",
        "\n",
        "<font color='blue'>Hint: You can use numpy `min()` and `max()` functions to help find these values.</font>"
      ]
    },
    {
      "cell_type": "code",
      "metadata": {
        "id": "iziiddB49wI2"
      },
      "source": [
        "#\n",
        "# Placeholder for code or comments\n",
        "#"
      ],
      "execution_count": null,
      "outputs": []
    },
    {
      "cell_type": "markdown",
      "metadata": {
        "id": "aeXPMAe891UO"
      },
      "source": [
        "In Section 2.2 we suggested using `norm=LogNorm()` when using `imshow`. \n",
        "With the default linear scaling, something twice as bright will be twice as bright in your image. However, when using `norm=LogNorm()`, matplotlib converts the normal (linear) scaling to a logarithmic one. Thus objects generally need to be 10 times as bright to be significantly brighter in your image. This helps us see both the really bright and really faint regions of the sky you are looking at.\n",
        "* What happens when you take the logarithm of your minimum and maximum cell values that you found in the previous step? The numpy `log10()` function may be useful here."
      ]
    },
    {
      "cell_type": "code",
      "metadata": {
        "id": "Va3CAngf-Orm"
      },
      "source": [
        " #\n",
        "# Placeholder for code or comments\n",
        "#"
      ],
      "execution_count": null,
      "outputs": []
    },
    {
      "cell_type": "markdown",
      "metadata": {
        "id": "YZ9lNyBm-QX3"
      },
      "source": [
        "You now know which values are causing the problem with our chosen scaling.\n",
        "* Create a new table that adds or subtracts to the image by an amount so that the scaling does not cause problems.\n",
        "\n",
        "* Plot this new image.\n",
        "\n",
        "* How does it look now?\n",
        "\n",
        "* What is the minimum value you need to adjust your image by for it to look better?"
      ]
    },
    {
      "cell_type": "code",
      "metadata": {
        "id": "qpN8g5NO-P9T"
      },
      "source": [
        "#\n",
        "# Placeholder for code or comments\n",
        "#"
      ],
      "execution_count": null,
      "outputs": []
    },
    {
      "cell_type": "markdown",
      "metadata": {
        "id": "LIGJo8Z1tCxK"
      },
      "source": [
        "### Section 2.4: Create images from all three filters"
      ]
    },
    {
      "cell_type": "markdown",
      "metadata": {
        "id": "D_icQO_BuYhK"
      },
      "source": [
        "Now that you've successfully created an image for one filter. \n",
        "\n",
        "* Create images for **each** of the three filters you downloaded earlier. \n",
        "\n",
        "<font color='blue'>Hint: It might save work for you to place your plotting code from the previous sections into a function and/or loop to save you time and create consistency.</font>"
      ]
    },
    {
      "cell_type": "code",
      "metadata": {
        "id": "yHBJtZdr0D-T"
      },
      "source": [
        "#\n",
        "# Placeholder for code or comments\n",
        "#"
      ],
      "execution_count": null,
      "outputs": []
    },
    {
      "cell_type": "markdown",
      "metadata": {
        "id": "N3klHzPXQdBA"
      },
      "source": [
        "For *all three images*:\n",
        "\n",
        "* What is the frequency of light at this wavelength in $m/s$?\n",
        "* What is the energy of the photons observed at this wavelength in Joules?\n",
        "\n",
        "<font color='blue'>Hint: You should have already calculated this for one of the images you created.</font>"
      ]
    },
    {
      "cell_type": "code",
      "metadata": {
        "id": "eBzlk_lfQuHV"
      },
      "source": [
        "#\n",
        "# Placeholder for code or comments\n",
        "#"
      ],
      "execution_count": null,
      "outputs": []
    },
    {
      "cell_type": "markdown",
      "metadata": {
        "id": "qCQUPNAH0C1q"
      },
      "source": [
        "Some questions to reflect on:\n",
        "*   Are there parts *within* the Crab Nebula that you see better in one image than the others?\n",
        "*   Are there regions *outside* of the Crab Nebula that appear better in one filter than the others?\n",
        "*   Do you have an image that you think looks best overall?"
      ]
    },
    {
      "cell_type": "code",
      "metadata": {
        "id": "XDjtH9Kk0RpJ"
      },
      "source": [
        "#\n",
        "# Placeholder for code or comments\n",
        "#"
      ],
      "execution_count": null,
      "outputs": []
    },
    {
      "cell_type": "markdown",
      "metadata": {
        "id": "c8hyOh7x8Yx4"
      },
      "source": [
        "## Section 3: Radio observations - a frequency view of the electromagnetic spectrum"
      ]
    },
    {
      "cell_type": "markdown",
      "metadata": {
        "id": "TTvKfIjmAv_6"
      },
      "source": [
        "In this section we will use an image of the Crab Nebula from the VLA. In particular, this image is from the NRAO VLA Sky Survey, which is typically shortened to [NVSS](https://www.cv.nrao.edu/nvss/). You can download an image by running the following cell."
      ]
    },
    {
      "cell_type": "code",
      "metadata": {
        "id": "SkbP9BOGBNsN"
      },
      "source": [
        "!wget https://github.com/mcstroh/python-tutorials/raw/master/multiwavelength_imaging/images/crab_nvss.fits"
      ],
      "execution_count": null,
      "outputs": []
    },
    {
      "cell_type": "markdown",
      "metadata": {
        "id": "jtkJqUPVBPJC"
      },
      "source": [
        "Create an image of this file and compare it to the optical images."
      ]
    },
    {
      "cell_type": "code",
      "metadata": {
        "id": "VvI0LGaeN5yz"
      },
      "source": [
        "#\n",
        "# Placeholder for code or comments\n",
        "#"
      ],
      "execution_count": null,
      "outputs": []
    },
    {
      "cell_type": "markdown",
      "metadata": {
        "id": "Q5lQ6UTFN7b-"
      },
      "source": [
        "How does this image compare to the optical images?"
      ]
    },
    {
      "cell_type": "code",
      "metadata": {
        "id": "dbWdCU5BN_dI"
      },
      "source": [
        "#\n",
        "# Placeholder for code or comments\n",
        "#"
      ],
      "execution_count": null,
      "outputs": []
    },
    {
      "cell_type": "markdown",
      "metadata": {
        "id": "ZCL3V9rvRZ3N"
      },
      "source": [
        "We can measure the size of the pixels in arcseconds. One arcsecond is equal to 1/3600 of a degree.\n",
        "\n",
        "The NVSS image originally had pixels that are approximately 15 arcseconds across. The optical images had pixels that were approximately 0.26 arcseconds across. Does this help explain the difference between the optical and radio images?"
      ]
    },
    {
      "cell_type": "code",
      "metadata": {
        "id": "Khi7j6z7RZkl"
      },
      "source": [
        "#\n",
        "# Placeholder for code or comments\n",
        "#"
      ],
      "execution_count": null,
      "outputs": []
    },
    {
      "cell_type": "markdown",
      "metadata": {
        "id": "4Emi9oiYOAW_"
      },
      "source": [
        "This radio image was taken at a frequency of 1 GHz or $10^{9}\\,\\textrm{Hz}.$ \n",
        "\n",
        "* What is the energy of the photons observed at this frequency in Joules?\n",
        "* What is the wavelength of light at this frequency in meters?\n",
        "* How much larger is the wavelength of the radio observations than the optical images you created in the previous section?"
      ]
    },
    {
      "cell_type": "markdown",
      "metadata": {
        "id": "NSm3pZIT_Eda"
      },
      "source": [
        "## Section 4: X-ray observations - an energy view of the electromagnetic spectrum"
      ]
    },
    {
      "cell_type": "markdown",
      "metadata": {
        "id": "0MsqfC5_J6BK"
      },
      "source": [
        "We will download an image taken by the [Chandra X-ray Observatory](https://chandra.harvard.edu/). \n",
        "\n",
        "Run the following cell to download a file named `chandra_b_bandpass.fits` that you will use in the following steps."
      ]
    },
    {
      "cell_type": "code",
      "metadata": {
        "id": "Wh5VBE0IJzjr"
      },
      "source": [
        "!wget -O chandra_b_bandpass.fits 'https://cda.cfa.harvard.edu/csccli/retrieveFile?filename=acisf13210_000N020_b_img3.fits&filetype=ecorrimg&version=cur'"
      ],
      "execution_count": null,
      "outputs": []
    },
    {
      "cell_type": "markdown",
      "metadata": {
        "id": "aRbSORUzK9qU"
      },
      "source": [
        "### Section 4.1: Create an image"
      ]
    },
    {
      "cell_type": "markdown",
      "metadata": {
        "id": "p5PFCQs0LHQL"
      },
      "source": [
        "Create an image of the region in X-rays."
      ]
    },
    {
      "cell_type": "code",
      "metadata": {
        "id": "8sgJISl_LDV5"
      },
      "source": [
        "#\n",
        "# Placeholder for your code\n",
        "#"
      ],
      "execution_count": null,
      "outputs": []
    },
    {
      "cell_type": "markdown",
      "metadata": {
        "id": "EzMGzNnAL2I-"
      },
      "source": [
        "Compare this image to the optical and radio images you created. Is it similar or does it look significantly different?"
      ]
    },
    {
      "cell_type": "code",
      "metadata": {
        "id": "6wA-Bn83MBvL"
      },
      "source": [
        "#\n",
        "# Placeholder for code or comments\n",
        "#"
      ],
      "execution_count": null,
      "outputs": []
    },
    {
      "cell_type": "markdown",
      "metadata": {
        "id": "8k6brMVpLcSr"
      },
      "source": [
        "Are there any irregularities in this image (gaps, missing data, or anything else)? If so, describe these problems and how they are different than the issues we found with the optical images."
      ]
    },
    {
      "cell_type": "code",
      "metadata": {
        "id": "_teMO8GYLrp_"
      },
      "source": [
        "#\n",
        "# Placeholder for code or comments\n",
        "#"
      ],
      "execution_count": null,
      "outputs": []
    },
    {
      "cell_type": "markdown",
      "metadata": {
        "id": "F_ZWkuBgC_EX"
      },
      "source": [
        "X-ray astronomers usually describe the part of the electromagnetic spectrum they are observing in terms of the energies they are observing in units of electron volts (eV). $1\\,\\textrm{eV} = 1.6022\\times10^{−19}\\,\\textrm{J}$.\n",
        "\n",
        "This image contains observations at approximately 2.3 keV (or $2.3\\times10^3\\,$eV).\n",
        "By combining equations 1 and 2 from the introduction, and converting our equations from Joules (SI units) to electron volts (favored by X-ray astronomers), we have the following:\n",
        "\n",
        "$\\lambda = \\frac{h c}{E}$\n",
        "\n",
        "where \n",
        "* E is the energy, \n",
        "* h is Planck's constant ($4.1357\\times10^{-15}\\,\\textrm{eV}\\,\\textrm{s}$), and\n",
        "* c is the speed of light ($2.9979\\times10^{8}\\,\\textrm{m/s}$)."
      ]
    },
    {
      "cell_type": "markdown",
      "metadata": {
        "id": "_53RfvPsQEA-"
      },
      "source": [
        "Aided with the equations 1, 2 and the equation above:\n",
        "\n",
        "* Calculate the wavelength and frequency of the X-ray light."
      ]
    },
    {
      "cell_type": "code",
      "metadata": {
        "id": "QeULMnuYImcB"
      },
      "source": [
        "#\n",
        "# Placeholder for code or comments\n",
        "#"
      ],
      "execution_count": null,
      "outputs": []
    },
    {
      "cell_type": "markdown",
      "metadata": {
        "id": "qqD3yE-zIo16"
      },
      "source": [
        "Final questions:\n",
        "* How much more energetic are the X-ray photons you are observing compared to the optical and radio photons?\n",
        "* How does the frequency compare to the optical and radio images?"
      ]
    },
    {
      "cell_type": "code",
      "metadata": {
        "id": "OcHMkl-AIq8G"
      },
      "source": [
        "#\n",
        "# Placeholder for code or comments\n",
        "#"
      ],
      "execution_count": null,
      "outputs": []
    },
    {
      "cell_type": "markdown",
      "metadata": {
        "id": "GMPThvd9lwx4"
      },
      "source": [
        "## Section 6: More information"
      ]
    },
    {
      "cell_type": "markdown",
      "metadata": {
        "id": "OsFbVMCvl0co"
      },
      "source": [
        "Here are some additional links:\n",
        "\n",
        "*   [Radio/infrared/optical/ultraviolet/X-ray Crab Nebula](https://public.nrao.edu/gallery/a-new-look-at-the-crab-nebula-individual-wavelength-thumbnails/)\n",
        "*   [Astronomy picture of the day](https://apod.nasa.gov/apod/astropix.html)\n"
      ]
    }
  ]
}