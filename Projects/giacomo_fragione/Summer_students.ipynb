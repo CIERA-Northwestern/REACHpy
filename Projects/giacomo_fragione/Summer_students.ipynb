{
 "cells": [
  {
   "cell_type": "markdown",
   "metadata": {},
   "source": [
    "# The habitable zone of other worlds in the cosmos"
   ]
  },
  {
   "cell_type": "markdown",
   "metadata": {},
   "source": [
    "An exoplanet or extrasolar planet is a planet outside the Solar System. The first confirmation of detection occurred in 1992. As of 8 June 2020, there are 3262 confirmed exoplanets, with more than 700 systems having more than one planet. The discovery of exoplanets has intensified interest in the search for extraterrestrial life. There is special interest in planets that orbit in a star's habitable zone, where it is possible for liquid water, a prerequisite for life on Earth, to exist on the surface. The study of planetary habitability also considers a wide range of other factors in determining the suitability of a planet for hosting life. Rogue planets do not orbit any star. Such objects are considered as a separate category of planet. The rogue planets in the Milky Way possibly number in the billions or more."
   ]
  },
  {
   "cell_type": "markdown",
   "metadata": {},
   "source": [
    "### Detection techniques\n",
    "\n",
    "There are many methods of detecting exoplanets. Transit photometry and Doppler spectroscopy have found the most.\n",
    "\n",
    "\n",
    "![alt text](Exoplanets_discovery_methods_chart.png \"Title\")\n",
    "\n",
    "__Transit photometry__ is a phenomenon when a celestial body passes directly between a larger body and the observer. __Doppler spectroscopy__ is an indirect method for finding extrasolar planets from radial-velocity measurements via observation of Doppler shifts in the spectrum of the planet's parent star.\n",
    "\n",
    "![alt text](radtrans.png \"Title\")"
   ]
  },
  {
   "cell_type": "markdown",
   "metadata": {},
   "source": [
    "The transit probability is\n",
    "\n",
    "#### $P_\\mathrm{Transit}=\\frac{R_\\mathrm{*}}{A_\\mathrm{Planet}(1-E^{2}_\\mathrm{Planet})}\\,,$\n",
    "\n",
    "where $R_\\mathrm{*}$ is the radius of the host star, $A_\\mathrm{Planet}$ the planet semi-major axis, and $E_\\mathrm{Planet}$ the planet eccentricity. The depth of the transit is\n",
    "\n",
    "#### $D_\\mathrm{Transit}=\\left(\\frac{R_\\mathrm{planet}}{R_\\mathrm{*}}\\right)^2\\,,$\n",
    "\n",
    "where $R_\\mathrm{planet}$ is the planet radius.\n",
    "\n",
    "__EX. 1__ In the following, compute the probability and the depth of a transit. The current example is for a Jupiter-like planet orbiting a Sun-like star. Consider different masses for planets and stars. For determining planetary radii from planetary masses use the scaling relation\n",
    "\n",
    "#### $R_\\mathrm{planet}=(M_\\mathrm{planet}/\\mathrm{M_{\\bigoplus}})^{0.485}\\ R_{\\bigoplus}\\,,$\n",
    "\n",
    "where $\\mathrm{M_{\\bigoplus}}$ and $\\mathrm{R_{\\bigoplus}}$ are the Earth's mass and radius. Use the scaling relation\n",
    "\n",
    "#### $R_*=\\begin{cases}\n",
    "1.06\\ {\\rm R}_\\odot\\ (M_*/{\\rm M}_\\odot)^{0.945}& \\text{$ M_*< 1.66\\ \\mathrm{M}_{\\odot}$}\\\\\n",
    "1.33\\ {\\rm R}_\\odot\\ (M_*/{\\rm M}_\\odot)^{0.555}& \\text{$ M_*> 1.66\\ \\mathrm{M}_{\\odot}$}\n",
    "\\end{cases}\\,,$\n",
    "\n",
    "for determining stellar radii from stellar masses. Tip: remember to convert the units."
   ]
  },
  {
   "cell_type": "code",
   "execution_count": 9,
   "metadata": {},
   "outputs": [
    {
     "name": "stdout",
     "output_type": "stream",
     "text": [
      "(0.004697444444444445, 0.0100902025)\n"
     ]
    }
   ],
   "source": [
    "RsuntoAU=0.00465047 # from Rsun to AU\n",
    "RjuptoRsun=0.10045 # from Rjup to Rsun\n",
    "RjuptoRearth=10.973 # from Rjup to Rearth\n",
    "MjuptoMearth=317.83 # from Mjup to Mearth\n",
    "\n",
    "Rstar=1 # in Solar radii\n",
    "RstarAU=Rstar*RsuntoAU # in AU\n",
    "\n",
    "Rplanet=1 # in Jupiter radii\n",
    "RplanetRsun=Rplanet*RjuptoRsun # in Solar radii\n",
    "Aplanet=1 # in AU\n",
    "Eplanet=0.1\n",
    "\n",
    "Ptransit=RstarAU/Aplanet/(1-Eplanet**2)\n",
    "Dtransit=(RplanetRsun/Rstar)**2\n",
    "\n",
    "print(Ptransit,Dtransit)"
   ]
  },
  {
   "cell_type": "markdown",
   "metadata": {},
   "source": [
    "The shift in velocity due to the gravitational pull of the exoplanet is\n",
    "\n",
    "#### $K=\\sqrt{\\frac{G}{A_\\mathrm{Planet}(1-E^{2}_\\mathrm{Planet})}} \\frac{M_\\mathrm{planet}\\sin I}{M_\\mathrm{*}^{1/2}}\\,,$\n",
    "\n",
    "where $G$ is the gravitational constant, $M_\\mathrm{*}$ the mass of the host star, $M_\\mathrm{planet}$ the mass of the planet, and $I$ the inclination of the system with respect to the observer.\n",
    "\n",
    "__EX. 2__ In the following, compute the shift in velocity. The current example is for a Jupiter-like planet orbiting a Sun-like star. Consider different masses for planets and stars, using the scaling relations previously discussed. Tip: remember to convert the units."
   ]
  },
  {
   "cell_type": "code",
   "execution_count": 12,
   "metadata": {},
   "outputs": [
    {
     "name": "stdout",
     "output_type": "stream",
     "text": [
      "0.01016347781552683\n"
     ]
    }
   ],
   "source": [
    "import numpy as np  \n",
    "\n",
    "G=960 # in AU*(km/s)^2/Msun\n",
    "MjuptoMsun=0.0009543 # from Mjup to Msun\n",
    "\n",
    "Mstar=1 # in Solar masses\n",
    "\n",
    "Mplanet=1 # in Jupiter masses\n",
    "MplanetMsun=Mplanet*MjuptoMsun # in Solar masses\n",
    "Aplanet=1 # in AU\n",
    "Eplanet=0.1\n",
    "I=20*(3.1415/180) # in radians\n",
    "\n",
    "K=(G/Aplanet/(1-Eplanet**2))**0.5*MplanetMsun*np.sin(I)/Mstar\n",
    "\n",
    "print(K)"
   ]
  },
  {
   "cell_type": "markdown",
   "metadata": {},
   "source": [
    "__EX. 3__ Now, go to https://ssd.jpl.nasa.gov/?planet_phys_par and repeat the calculations for all the planets in our Solar System. Which has the largest probability for transits and/or radial velocity? Assume in the calculations $E_\\mathrm{planet}=0$ and $I=90$ deg."
   ]
  },
  {
   "cell_type": "code",
   "execution_count": null,
   "metadata": {},
   "outputs": [],
   "source": [
    "Mplanet=[] # use lists\n",
    "Aplanet=[] # use lists\n",
    "\n",
    "# use a loop to compute and print the results for each planet"
   ]
  },
  {
   "cell_type": "markdown",
   "metadata": {},
   "source": [
    "### The habitable zone\n",
    "\n",
    "The circumstellar habitable zone, or simply the habitable zone, is the range of orbits around a star within which a planetary surface can support liquid water given sufficient atmospheric pressure.\n",
    "\n",
    "![alt text](habitable_zone.png \"Title\")\n"
   ]
  },
  {
   "cell_type": "markdown",
   "metadata": {},
   "source": [
    "The size and location of the habitable zone depends on the host star luminosity: the more luminous the host star, the further the habitable zone. The luminosity of a star is connected to its mass\n",
    "\n",
    "#### $\\frac{L}{L_\\odot}=\\left(\\frac{M}{M_\\odot}\\right)^{3.5}\\,,$\n",
    "\n",
    "where $L_\\odot$ and $M_\\odot$ are the Sun's luminosity and mass, respectively.\n",
    "\n",
    "The distance at which there is a given temperature due to the star's luminosity is\n",
    "\n",
    "#### $r=\\left(\\frac{L}{4\\pi\\sigma T^4}\\right)^{1/2}\\,,$\n",
    "\n",
    "where $\\pi=3.1415$, $\\sigma=3.31\\times 10^{-12}$ L$_\\odot$ AU$^{-2}$ K$^{-4}$ is the Stefen-Boltzmann constant, and $T$ is the temperature.\n",
    "\n",
    "__EX. 4__ Assuming that water boils at $373$ K and freezes at $273$ K, compute the habitable zone for our solar system.\n"
   ]
  },
  {
   "cell_type": "code",
   "execution_count": 15,
   "metadata": {},
   "outputs": [
    {
     "name": "stdout",
     "output_type": "stream",
     "text": [
      "(1.1144736681845087, 2.0804734664471884)\n"
     ]
    }
   ],
   "source": [
    "pi=3.1415\n",
    "sigma=3.31*10**(-12) # Stefen-Boltzmann constant in Lsun/AU^2/K^4\n",
    "\n",
    "Mstar=1 # in Solar masses\n",
    "Lstar=(Mstar)**3.5 # in Solar luminosities\n",
    "\n",
    "Tmin=273 # T water freezes in K\n",
    "Tmax=373 # T water boils in K\n",
    "\n",
    "rmin=(Lstar/4/pi/sigma/Tmax**4)**0.5\n",
    "rmax=(Lstar/4/pi/sigma/Tmin**4)**0.5\n",
    "\n",
    "print(rmin,rmax)"
   ]
  },
  {
   "cell_type": "markdown",
   "metadata": {},
   "source": [
    "The calculation of the expected temperature of a planet involves a couple of subtleties. One is __albedo__, which is the degree to which a planet or moon reflects light without absorbing it. Earth reflects about $37\\%$ of light, whereas the Moon reflects only $12\\%$. More reflection leads to a colder planet. Another issue is the __greenhouse effect__. If radiation is trapped then the planet heats up beyond the temperature it would normally acquire. An obvious example is that of Venus. Finally, the temperature can vary substantially over the surface of a planet, as it is obvious from a comparison between Death Valley and Antarctica. Atmospheres smooth out the difference (compare the Earth with the airless Moon, where the mean daytime temperature is $380$ K and the mean nighttime temperature is $120$ K). Therefore, a planet such as Earth can have both \"habitable\" and \"uninhabitable\" spots on it simultaneously."
   ]
  },
  {
   "cell_type": "markdown",
   "metadata": {},
   "source": [
    "__EX. 5__ Repeat __EX. 4__ for different substances. For example, you can find melting and boiling temperatures for some substances here https://www.engineeringtoolbox.com/melting-boiling-temperatures-d_390.html . Feel free to look for more."
   ]
  },
  {
   "cell_type": "code",
   "execution_count": null,
   "metadata": {},
   "outputs": [],
   "source": [
    "Tmelt=[] # use lists for different material\n",
    "Tboil=[]"
   ]
  },
  {
   "cell_type": "markdown",
   "metadata": {},
   "source": [
    "__EX. 6__ Repeat __EX. 4__ and __EX. 5__ for different stellar masses, using the scaling relations provided above."
   ]
  },
  {
   "cell_type": "markdown",
   "metadata": {},
   "source": [
    "### Exoplanets catalogs\n",
    "\n",
    "As of 8 June 2020, there are 3262 confirmed exoplanets! About $1$ in $5$ Sun-like stars have an \"Earth-sized\" planet in the habitable zone. Assuming there are $200$ billion stars in the Milky Way, it can be hypothesized that there are $11$ billion potentially habitable Earth-sized planets in the Milky Way. Almost all of the planets detected so far are within the Milky Way. The nearest exoplanet is Proxima Centauri b, located $4.2$ light-years ($2.6\\times 10^5$ AU) from Earth and orbiting Proxima Centauri, the closest star to the Sun.\n",
    "\n",
    "There are various sources where to find a list of known and confirmed exoplantes, but probably the most complete and updated is __exoplanets.org__. Go to http://exoplanets.org/ .\n",
    "\n",
    "\n",
    "![alt text](exoplanets_org.png \"Title\")"
   ]
  },
  {
   "cell_type": "markdown",
   "metadata": {},
   "source": [
    "Selecting __Plots__, you can access a user-friendly interface where you can plot the measured characteristics of the exoplantes that have been found so far. You can also download the plots you produce and the relative data.\n",
    "\n",
    "\n",
    "![alt text](plots.png \"Title\")"
   ]
  },
  {
   "cell_type": "markdown",
   "metadata": {},
   "source": [
    "For example, I am plotting here the mass of the detected exoplanets versus their orbital semi-major axis. Tip: when plotting, it could be necessary to use the log-scale on one or both the axis.\n",
    "\n",
    "\n",
    "![alt text](mass-sma.png \"Title\")"
   ]
  },
  {
   "cell_type": "markdown",
   "metadata": {},
   "source": [
    "__EX. 7__ Produce 3 different plots, in http://exoplanets.org/ . Download them for your personal reference."
   ]
  },
  {
   "cell_type": "markdown",
   "metadata": {},
   "source": [
    "__EX. 8__ Look at a data tables for known exoplanets and repeat __EX. 1__, __EX. 2__, __EX. 4__, __EX. 5__ for some of them. Tip: create a file to read, and use a loop.\n",
    "\n",
    "\n",
    "![alt text](table.png \"Title\")"
   ]
  },
  {
   "cell_type": "code",
   "execution_count": null,
   "metadata": {},
   "outputs": [],
   "source": [
    "import matplotlib.pyplot as plt\n",
    "import matplotlib.colors as cl\n",
    "import numpy as np\n",
    "\n",
    "# create table\n",
    "\n",
    "# loop and print results\n",
    "\n",
    "# plot results"
   ]
  },
  {
   "cell_type": "markdown",
   "metadata": {},
   "source": [
    "Giordano Bruno, who was an Italian philosopher, was burnt alive for suggesting that there are many other worlds out there (https://en.wikipedia.org/wiki/Giordano_Bruno). Nowadays, we know for sure there is plenty of exoplanets in the Universe. The question whether they can host and sustain life has enormous social, ethical, and religious implications. From a purely scientific point of view, we can only estimate how many exoplanets can host life, as we know it.\n",
    "\n",
    "#### 1) How many of the currently known exoplanets are in the habitable zone?\n",
    "#### 2) Are there particular planetary properties that tend to be in the habitable zone? \n",
    "\n",
    "Imagine now that water or oxygen are not necessary to sustain life for some living beings. You can find some simple explanation here https://biologydictionary.net/anaerobic-organism/.\n",
    "\n",
    "#### 3) Which kind of metabolisms can be sustained without oxygen?\n",
    "#### 4) Which exoplanets could sustain the growth of anaerobic organisms?\n"
   ]
  },
  {
   "cell_type": "code",
   "execution_count": null,
   "metadata": {},
   "outputs": [],
   "source": []
  }
 ],
 "metadata": {
  "kernelspec": {
   "display_name": "Python 3",
   "language": "python",
   "name": "python3"
  },
  "language_info": {
   "codemirror_mode": {
    "name": "ipython",
    "version": 2
   },
   "file_extension": ".py",
   "mimetype": "text/x-python",
   "name": "python",
   "nbconvert_exporter": "python",
   "pygments_lexer": "ipython2",
   "version": "2.7.17"
  }
 },
 "nbformat": 4,
 "nbformat_minor": 2
}
