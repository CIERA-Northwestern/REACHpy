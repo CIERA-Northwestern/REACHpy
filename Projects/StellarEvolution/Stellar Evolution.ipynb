{
 "cells": [
  {
   "cell_type": "code",
   "execution_count": null,
   "metadata": {},
   "outputs": [],
   "source": [
    "### Running in Google Colab? You'll want to uncomment and run these cell once each time you start this notebook.\n",
    "\n",
    "\"\"\"\n",
    "!wget https://raw.githubusercontent.com/psheehan/CIERA-HS-Program/master/Projects/StellarEvolution/gaia_M45-result.csv\n",
    "!wget https://raw.githubusercontent.com/psheehan/CIERA-HS-Program/master/Projects/StellarEvolution/gaia_NGC-2360-result.csv\n",
    "!wget https://raw.githubusercontent.com/psheehan/CIERA-HS-Program/master/Projects/StellarEvolution/gaia_NGC-2682-result.csv\n",
    "\"\"\""
   ]
  },
  {
   "cell_type": "markdown",
   "metadata": {},
   "source": [
    "# $\\textit{Stellar Evolution - The dynamic lives of stars!} $\n",
    "### Project Lead: Kyle Akira Rocha\n",
    "\n",
    "#### I want this lesson to be an opportunity for you to think creatively. This is not supposed to be a test of how much you know.  I want you to be currious and try to answer the questions even if you don't know the answers. The point is not for you to struggle in silence, however. If something is unclear or you have questions please ask me or other students! \n",
    "\n",
    "\n",
    "Overview:\n",
    " - Exercise 1 - Exploring GAIA Data\n",
    "     - Using GAIA data\n",
    "     - Performing \"data cuts\" to find clusters\n",
    "     - Plotting a CMD\n",
    " - Exercise 2 - MIST models\n",
    "     - Using MIST models\n",
    "     - Stellar evolution theory\n",
    "     - Identifying evolutionary stages\n",
    "     - HR Diagram\n",
    " - Summary\n"
   ]
  },
  {
   "cell_type": "markdown",
   "metadata": {},
   "source": [
    "----------\n",
    "\n",
    "## Exercise 1: Exploring GAIA Data\n",
    "\n",
    "In this exercise we will be looking at data from the **Pleiades** taken by the GAIA space observatory! Please watch [this video](https://www.youtube.com/watch?v=oGri4YNggoc&feature=emb_rel_end) to learn more [*20 min*] about GAIA.\n",
    "<br>\n",
    "<br>\n",
    "The point of this section is to investigate the data and think creativly! You are not expected to know the answers to all the questions at the end of this section. I would like you to pretend you are the first person researching stars and try to understand why they look and behave the way they do.\n",
    "<br>\n",
    "<br>\n",
    "__(a.) Load in the data `gaia_M45-result.csv` and print out the columns.__"
   ]
  },
  {
   "cell_type": "code",
   "execution_count": null,
   "metadata": {},
   "outputs": [],
   "source": [
    "import matplotlib.pyplot as plt\n",
    "import numpy as np\n",
    "import pandas as pd\n",
    "\n",
    "gaia_m45_data = pd.read_csv( , delimiter = \",\" )\n",
    "gaia_m45_data.columns\n",
    "\n",
    "# gaia_m45_data = np.genfromtxt( , dtype=float, delimiter=\",\",names=True)\n",
    "# gaia_m45_data.dtype.names"
   ]
  },
  {
   "cell_type": "markdown",
   "metadata": {},
   "source": [
    "Our data set is not a complete list of objects GAIA can see but has been cut to minmize the number of sources with high errors or qualities that make analysis challenging (e.g. high extinction, variability). Some important attributes we will be interested in include the following:\n",
    "- `ra` - Right ascension\n",
    "- `dec` - Declination\n",
    "- `parallax` - The *apparent* motion of stars (relative to distant, unmoving stars) caused by our changing viewing angle as we move around the sun. Large [parallax](https://en.wikipedia.org/wiki/Parallax) means the star is close. [mas]\n",
    "- `phot_g_mean_mag` - aparent G-band mean [magnitude (how bright a star appears)](https://en.wikipedia.org/wiki/Magnitude_(astronomy)) \n",
    "- `phot_bp_mean_mag` - Integrated BP band mean magnitude\n",
    "- `phot_rp_mean_mag` - Integrated RP band mean magnitude\n",
    "- `pmra` - Proper motion in RA [km/s] \n",
    "- `decra` - Proper motion in DEC [km/s] \n",
    "\n",
    "Below is a series of observations taken 5 years apart that show Barnard's Star as it moves relative to other unmoving stars in the background. This is due to the intrinsic motion of the star relative to the center of mass of our solar system which we call proper motion. In order to calculate proper motion you must subtract out the motion of the satelite as it orbits the sun in order to see if the star is actually moving across the sky.\n",
    "\n",
    "![ProperMotion](https://upload.wikimedia.org/wikipedia/commons/6/6c/Barnard2005.gif \"Proper Motion Example\")\n",
    "\n",
    "\n",
    "<br>\n",
    "<br>\n",
    "\n",
    "\n",
    "__(b.) Add a scatter plot to visualize the sources in this data set. Use the \"ra\" and \"dec\" as x and y axes. Change the size of the points and or their alpha until you can properly see all the stars. To get a sense of scale, the gray circle is about the angular size of the moon on the sky.__\n"
   ]
  },
  {
   "cell_type": "code",
   "execution_count": null,
   "metadata": {},
   "outputs": [],
   "source": [
    "%matplotlib inline\n",
    "plt.figure(figsize=(6,5),dpi=150)\n",
    "\n",
    "# Your scatter plot here!\n",
    "plt.scatter( )\n",
    "\n",
    "plt.axis(\"equal\")\n",
    "plt.xlabel(\"RA [deg]\")\n",
    "plt.ylabel(\"DEC [deg]\")\n",
    "plt.grid(alpha = 0.25, zorder=1)\n",
    "ax = plt.gca()\n",
    "ax.add_artist( plt.Circle((54.5,22.5),radius=0.518/2,facecolor=\"gray\", zorder=2) )\n",
    "plt.show()"
   ]
  },
  {
   "cell_type": "markdown",
   "metadata": {},
   "source": [
    "<br>\n",
    "\n",
    "The Pleiades is an open cluster meaning it is comprised of a few thousand gravitationaly bound stars that *all formed out of the same molecular cloud at roughly the same time*. Open clusters are a great tool for studing stellar evolution because of these properties. Open clusters are loosley bound and can become disrupted over their lifetime through interactions with other clusters or giant molecular clouds. Open clusters tend to contain younger stars because they can easily be disrupted before aging significantly.\n",
    "\n",
    "<br>\n",
    "<br>\n",
    "\n",
    "Note that not all of the stars in our data are part of the Pleiades! Other stars happen to be in our line of sight and may be closer or further than the Pleiades. In order to isolate the stars we want to study, we will look at their distances and proper motions. We know that the stars in the Pleiades should all be around the same distance and have similar proper motions (born from the same molecular cloud). We also know that the distance to the Pleiades is about 136 parsecs away. Below is the relation between distance $d$ in parsecs and the parallax angle $\\omega$ in arcseconds.\n",
    "\n",
    "### $$ d = 1 / \\omega $$\n",
    "\n",
    "<br>\n",
    "\n",
    "__(c.) Make a figure with two plots: a histogram of the parallax and a scatter plot of the RA and DEC proper motions of each star. Locate the cluster of stars in your data using the plots and information given above. You can make a cut in parallax or proper motion or both to indentify the stars. Identify in your plot, which stars you are selecting to be in the cluster (e.g. change of color). Share your plots with others and how you identified the cluster stars.__\n",
    "\n",
    "__Note: you will need to change the axes of the proper motion plot to zoom in and find the cluster. You can use `%matplotlib notebook` to make this easier.__\n"
   ]
  },
  {
   "cell_type": "code",
   "execution_count": null,
   "metadata": {},
   "outputs": [],
   "source": [
    "fig, subs = plt.subplots(nrows=1, ncols=2, figsize=(8,3.5), dpi=120)\n",
    "#subs[0].hist( , bins=100, range=(0,10) )\n",
    "subs[0].set_xlabel(\"parallax\")\n",
    "subs[0].set_ylabel(\"Counts\")\n",
    "#subs[1].scatter( , , s=0.4 )\n",
    "subs[1].set_xlabel(\"pmra\")\n",
    "subs[1].set_ylabel(\"pmdec\")\n",
    "fig.subplots_adjust(wspace=0.33)\n",
    "plt.show()"
   ]
  },
  {
   "cell_type": "code",
   "execution_count": null,
   "metadata": {},
   "outputs": [],
   "source": [
    "# A histogram of distance also helps"
   ]
  },
  {
   "cell_type": "markdown",
   "metadata": {},
   "source": [
    "<br>\n",
    "Now that you know which stars are in the Pleiades we can take a closter look at trends in the data. The next plot we will look at compares a star's brightness in the G band to its \"color\". From an observer's perspective, stars have different brightnesses based on both the star's individual properties and their distance to the observer. An intrinsically bright star may apear dim if it is far away and a dim star may apear bright up close. In order to break this degeneracy, we can calculate the absolute magnitude ($M$) of a star to quantify its true brightness using the aparent magnitude ($m$) and parallax ($\\omega$). The equation relating absolute magnitude and aparent magnitude is given below ($\\omega_{mas} = $ parallax in milli arcseconds):\n",
    "\n",
    "## $$ M = m - 5 \\log_{10}\\left(d_{\\rm pc}\\right) + 5$$\n",
    "\n",
    "<div class=\"alert alert-info\" role=\"alert\">\n",
    "<strong>Bonus</strong>: The above equation can be reduced to what is shown below. Derive the equation and verify that this is correct.\n",
    "</div>\n",
    "\n",
    "## $$ M = m - 5 \\log_{10}\\left( 1e2 / \\omega_{mas} \\right) $$\n",
    "\n",
    "\n",
    "If you have ever looked at stars through a telescope you may have been able to tell that some stars have different colors than others. They may range from red to yellow to white to blue. This color is a real property of stars and has something to do with how hot the star is. This is essentially what you will be using as the x-axis of your plots by taking the difference between the BP and RP bands (G_bp - G_rp). Small values if thus difference are bluer and large values are redder. The image below is of the globular cluster NGC 1898! Notice the varied colors and brightnesses of the immense number of stars!\n",
    "\n",
    "![ngc1898](https://www.nasa.gov/sites/default/files/thumbnails/image/potw1840a.jpg)\n",
    "\n",
    "<br>\n",
    "\n",
    "__(d.) First complete the function `get_absolute_mag` to calculate the absolute magnitude using the aparent magnitude (`phot_g_mean_mag`) measured by GAIA and the parallax. Then calculate the color of each star by taking the difference between the BP and RP bands (G_bp - G_rp).__\n",
    "\n",
    "__Make a figure with two scatter plots of the absolute magnitude as a function of color as y and x axes respectively. One plot should have the stars you have identified as inside the cluster and the other plot contains the rest of the stars.__\n",
    "\n",
    "__Note:You will need to invert the y axis for magnitude. Because we are astronomers we have made the magnitude scale such that negative numbers are brighter and positive numbers are dimmer.__\n"
   ]
  },
  {
   "cell_type": "code",
   "execution_count": null,
   "metadata": {},
   "outputs": [],
   "source": [
    "def get_absolute_mag(apparent_magnitude, parallax):\n",
    "    \"\"\" This function calculates the absolute magnitude from the apparent\n",
    "    magnitude and the astrometric parallax\n",
    "    \n",
    "    Parameters\n",
    "    ----------\n",
    "    apparent_magnitude : float (mag)\n",
    "        The apparent magnitude of the star. This can be in any band\n",
    "        \n",
    "    parallax : float (mas)\n",
    "        The astrometric parallax of the star.\n",
    "        \n",
    "    Returns\n",
    "    -------\n",
    "    absolute_magnitude : float\n",
    "        The absolute magnitude of the star\n",
    "    \"\"\"\n",
    "    \n",
    "    absolute_magnitude = \n",
    "    \n",
    "    return absolute_magnitude\n",
    "\n",
    "\n",
    "fig, subs = plt.subplots(nrows=1, ncols=2, figsize=(8,3.5), dpi=130)\n",
    "subs[0].set_title(\"out of cluster\")\n",
    "subs[1].set_title(\"Pleiades Stars\")\n",
    "# Your code here!\n",
    "\n",
    "for i in range(2):\n",
    "    subs[i].set_xlabel(\"G_bp - G_rp\")\n",
    "    subs[i].set_ylabel(\"G Absolute Magnitude\")\n",
    "    subs[i].invert_yaxis()\n",
    "plt.show()"
   ]
  },
  {
   "cell_type": "markdown",
   "metadata": {},
   "source": [
    "Before we explore the meaning behind these plots I ask that you really try and think about the following questions. Don't worry if you don't know the answer because I have intentionally left the vital information out. Put your best guess or questions that you have while thinking and feel free to discuss with others!\n",
    "\n",
    "- **Now that you have created a color magnitude diagram (CMD), what trends can you identify in the data? Compare and contrast the two CMDs for stars in the cluster and those not associated with the cluster.**\n",
    "\n",
    "- **How are magnitude and color corelated?**\n",
    "\n",
    "- **What might it mean for a star to be redder or bluer?**\n",
    "\n",
    "- **Do you see any outliers in the data from stars outside of the cluster?**\n",
    "\n",
    "\n",
    "If you are curious you may see what other variables exist in the data that I havn't mentioned and make plots of your own! For example, try adding the `radius_val` as the size for scatter points in the CMD above!\n",
    "\n",
    "<br>\n",
    "\n",
    "<div class=\"alert alert-info\" role=\"alert\">\n",
    "<strong>Bonus</strong>: Perform the steps of Exercise 1 again but with another 2 clusters using the data files \"gaia_NGC-2682-result.csv\" and \"gaia_NGC-2360-result.csv\". Create a CMD comparing the Pleiades to the stars in another cluster. What differences can you find?\n",
    "</div>\n"
   ]
  },
  {
   "cell_type": "code",
   "execution_count": null,
   "metadata": {},
   "outputs": [],
   "source": []
  },
  {
   "cell_type": "markdown",
   "metadata": {},
   "source": [
    "-------------\n",
    "\n",
    "## Exercise 2: Stellar Evolution Theory with MIST models\n",
    "\n",
    "[MIST models](http://waps.cfa.harvard.edu/MIST/index.html) are data files produced from the stellar evolution code Modules for Experiments in Stellar Astrophysics (MESA). MESA is an open source software available for anyone to download and use that numerically simulates stellar evolution. The data conatins a few of the star's properties at many times throughout its life allowing us to track how different variables change.\n",
    "\n",
    "Unlike observational data, we have precise information about everything going on in the star. However, our precise information is based off of how we *model* stars which is generally different from how they work in real life. For example, MESA models a star in 1 dimension but we know stars are sperical and they exist in 3D. These and many other simplifications are made to maximise scientific accuracy while allowing the simulations to run in a reasonable amount of time.\n",
    "\n",
    "\n",
    "__(a.) Load in the solar (like our sun) MIST model `00100M.track.eep`. Make plots of `log_L`, `log_Teff`, and `log_R` as a function of `star_age`. Use log scale in the x axis (e.g. `plt.xscale('log')`). You can also plot other variables (mass, central temperature, central abundances, etc.) and explore the data!__\n",
    "\n",
    "- Notice how much the star's luminoisty and radius change as it evolves.\n"
   ]
  },
  {
   "cell_type": "code",
   "execution_count": null,
   "metadata": {},
   "outputs": [],
   "source": [
    "import pandas as pd\n",
    "import numpy as np\n",
    "import matplotlib.pyplot as plt\n",
    "\n",
    "mist_file = \"modified_MIST_v1.2_feh_p0.00_afe_p0.0_vvcrit0.0_EEPS/00100M.track.eep\"\n",
    "mist_solar_model = pd.read_csv( mist_file, comment=\"#\", delim_whitespace=True, \n",
    "                             names=np.loadtxt(mist_file,max_rows=1,skiprows=11,comments=None,dtype=str)[1::] )\n",
    "mist_solar_model.columns"
   ]
  },
  {
   "cell_type": "markdown",
   "metadata": {},
   "source": [
    "If you are wondering what some of these variables are, feel free to look at the `README_tables.pdf` that gives units and very short descriptions."
   ]
  },
  {
   "cell_type": "code",
   "execution_count": null,
   "metadata": {},
   "outputs": [],
   "source": []
  },
  {
   "cell_type": "markdown",
   "metadata": {},
   "source": [
    "__(b.) Watch [this video](https://www.youtube.com/watch?v=4xIQGbYur9Q) about stellar evolution to learn about the different stages a star goes through! Don't worry about understanding every detail. If you have questions about anything in the video let me know!__\n",
    "\n",
    "Here are a few takeaways I would like to highlight from the video:\n",
    "- Stars are responsible for the synthesis of many heavy elements.\n",
    "- A star's evolution is linked closely to its initial mass.\n",
    "- Stars with different masses live and go through evolution at different rates.\n",
    "- Stellar deaths produce some of the most extreme systems in the universe: white dwarfs, neutron stars, black holes, and supernovae!\n",
    "\n",
    "\n",
    "\n",
    "__(c.) Find at least 3 of the following stages of stellar evolution in the solar type MIST model by looking at each stage's description and using the plots from before as a guide. You should find the index in the arrays that corresponds to each stage of evolution (or the time when the stage occurs). Mark the stages of stellar evolution as points on your plots (e.g. `plt.scatter()`).__\n",
    "\n",
    "1. Pre-Main-Sequence (PreMS):\n",
    "    - This is where the MIST models start! The stellar models start as a cloud of gas collapsing under gravity. The central temperature $T_c$ and central density $\\rho_c$ both increase as the star contracts. Although $T_c$, $\\rho_c$ are extreme compared to quantities we encounter here on earth, they are not high enough to cause atoms to fuse together just yet.\n",
    "    \n",
    "    \n",
    "2. Zero Age Main Sequence (ZAMS): \n",
    "    - ZAMS is when the core temperature and density rise high enough for hydrogen fusion to begin. Hydorgen fusion in the core generates thermal energy which provides pressure support pushing out against gravity, halting the collapse.\n",
    "    - Both $\\rho_c$, $T_c$ stop changing and remain stable during the MS. You will also see that the central hydrogen abundance just begins to decrease. _Note: ZAMS is the beginning of the MS so try and find the first time hydogren fusion begins!_\n",
    "    \n",
    "    \n",
    "3. Terminal Age Main Sequence (TAMS):\n",
    "    - The MS ends at the TAMS when central hydrogen has been burned through fusion into helium. This may leave a core of helium surrounded by a layer of hydrogen. You can find this part of the evolution by looking at the central abundance of hydrogen which should be depleted. You may also plot the central abundance of helium and see how it relates to the central abundance of hydrogen as a function of time.\n",
    "    \n",
    "\n",
    "4. Red Giant Branch Tip (RGBtip):\n",
    "    - After a star ends the MS phase, it has converted its core of hydrogen into helium. However, the helium is not burning yet because $\\rho_c$, $T_c$ are not high enough to begin helium fusion. The hydrogen sitting ontop of the helium is hot enough to fuse and so fusion occurs in a shell around the core while the core contracts. Then the star will start to expand into its giant phase characterized by a sharp increase in luminoisty and radius and a modest decrease in effective temperature.\n",
    "    - This point may be hard to find! Don't worry if you can't find it 100% correct. If you are trying you may want to plot just the end of the evolution of the star after ~1.1e10 years.\n",
    "    \n",
    "    \n",
    "5. White Dwarf Cooling Sequence (WDCS):\n",
    "    - A WD is the final stage of evolution for a solar type star. WDs are very dense objects that are made of mostly carbon and oxygen (or sometimes oxygen and neon). They do not fuse elements in their core to support themselves from gravitaitonal collapse. Electron degeneracy pressure provides the support they need meaning these objects are theoretically stable for the age of the universe if left undisturbed.\n",
    "\n",
    "\n",
    "<div class=\"alert alert-info\" role=\"alert\">\n",
    "<strong>Bonus</strong>: Calculate the time between ZAMS and TAMS or the Main Sequence Lifetime and compare it to the total lifetime of the star.\n",
    "</div>"
   ]
  },
  {
   "cell_type": "code",
   "execution_count": null,
   "metadata": {},
   "outputs": [],
   "source": [
    "def find_nearest_index(array, value):\n",
    "    \"\"\"Given an array and a floating point number value\n",
    "    find the index of the element closest to the value.\n",
    "    \n",
    "    Parameters\n",
    "    ----------\n",
    "    array : array\n",
    "        Numpy array to search in.\n",
    "    value : float\n",
    "        A floating point number compared \n",
    "        with valid entries in the array.\n",
    "        \n",
    "    Returns\n",
    "    -------\n",
    "    loc_where_min : int\n",
    "        Index in array of item closest to value.\n",
    "    \"\"\"\n",
    "    abs_diff = np.abs( array - value )\n",
    "    loc_where_min = np.argmin( abs_diff )\n",
    "    return loc_where_min\n"
   ]
  },
  {
   "cell_type": "markdown",
   "metadata": {},
   "source": [
    "__(d.) Plot a Hertzsprung-Russell Diagram (HRD) of the solar MIST model. An HRD plot has $T_{\\rm eff}$ as the x axis and $L$ as the y axis (usually in log). Flip the x axis so that effective temperature increases to the left. Plot the stages of stellar evolution you have indentified from part c on the same plot. You should get something that looks like the image below.__\n",
    "\n",
    "<img src=\"HRD-1msun.png\" >"
   ]
  },
  {
   "cell_type": "code",
   "execution_count": null,
   "metadata": {},
   "outputs": [],
   "source": []
  },
  {
   "cell_type": "markdown",
   "metadata": {},
   "source": [
    "Now we are going to look at the properties of multiple stars but at different times in their evolution. Below I have sorted some of the data that I want you to use for this exercise.\n",
    "\n",
    "__(e.) For each MIST model, find the $L$, $T_{\\rm eff}$, and $M$ at the specified ages and plot each star as a point on an HRD scatter plot. Make the size of each point related to the star's mass (you can scale it up if the points are small). The stars should form a line at the first age (close to the main sequence). What do you notice about how the stars change as they age? Which stars change the most and what happens to the main sequence of stars at late times?__"
   ]
  },
  {
   "cell_type": "code",
   "execution_count": null,
   "metadata": {},
   "outputs": [],
   "source": [
    "import os\n",
    "\n",
    "AGES = [2e7, 1e8, 3.5e8, 9e8, 1e10 ] #years\n",
    "all_files = os.listdir(\"modified_MIST_v1.2_feh_p0.00_afe_p0.0_vvcrit0.0_EEPS\")\n",
    "all_files.sort()\n",
    "good_mist_files = [f for f in all_files if \"eep\" in f][0:-10]\n",
    "# These are the files I want you to use\n",
    "print( good_mist_files )\n",
    "\n",
    "for age in AGES:\n",
    "    print(age)\n",
    "    for file_name in good_mist_files:\n",
    "        rnd_path = \"modified_MIST_v1.2_feh_p0.00_afe_p0.0_vvcrit0.0_EEPS/\" + file_name\n",
    "#         rnd_data = pd.read_csv( rnd_path, comment=\"#\", delim_whitespace=True, \n",
    "#                                  names=np.loadtxt(rnd_path, max_rows=1, skiprows=11, comments=None, dtype=str)[1::] )\n",
    "    \n",
    "print(\"DONE\")"
   ]
  },
  {
   "cell_type": "code",
   "execution_count": null,
   "metadata": {},
   "outputs": [],
   "source": [
    "# Replace YOUR_TEFF_ARRAY, YOUR_LOGL_ARRAY, and YOUR_MASS_ARRAY!\n",
    "\n",
    "# 'sharex=True' allows the plots to all have the same x axis range\n",
    "fig, subs = plt.subplots( nrows=len(AGES), ncols=1, sharex=True, dpi=120, figsize=(5,10) )\n",
    "for i, age in enumerate(AGES):\n",
    "    \n",
    "#     subs[i].scatter(YOUR_TEFF_ARRAY[i], YOUR_LOGL_ARRAY[i], \n",
    "#                     label=\"{:.1e} yr\".format(AGES[i]),\n",
    "#                     s = YOUR_MASS_ARRAY*10, \n",
    "#                     marker=\"o\", facecolors=\"none\", edgecolor=\"C\"+str(i) )\n",
    "    \n",
    "    subs[i].set_ylabel(\"log_L\")\n",
    "    subs[i].grid(alpha=0.25)\n",
    "    subs[i].legend(loc='upper left')\n",
    "    subs[i].set_ylim(-2.5, 5.5)\n",
    "subs[-1].set_xlabel(\"log_Teff\")\n",
    "subs[-1].invert_xaxis()\n",
    "fig.subplots_adjust(hspace=0)\n",
    "plt.show()"
   ]
  },
  {
   "cell_type": "markdown",
   "metadata": {},
   "source": [
    "<div class=\"alert alert-info\" role=\"alert\">\n",
    "    <h4 class=\"alert-heading\"> Bonus: Estimating Ages of Star Clusters </h4>\n",
    "  <p> <strong>(a.)</strong> First you must write code to plot a MIST track and the GAIA data on the same HR diagram. To do this you will need to use the \"teff_val\" and \"lum_val\" given in the GAIA data. You will also need to make sure all the data are in the same units between MIST and GAIA!</p>\n",
    "  <p> <strong>(b.)</strong> Next you will change the stellar track you are plotting to match the cluster data. I have added code that marks the ZAMS location in every track as a black star on the plot. For a given cluster, find a stellar track such that the ZAMS location of the track in the HRD is at the peak of the Main Sequence band of the stars in the cluster. Then calculate the MS lifetime of the track. (ZAMS is at index `201` in the tracks and TAMS is at index `453`) </p>\n",
    "   <p> <strong>(c.)</strong> Now that you have the MS lifetime, this should be close to the age of the cluster. Check this by calculating $t_{\\rm MS} / t_{\\rm age}$ </p>\n",
    "\n",
    "   <p> $$t_{\\rm age}(\\text{Pleiades}) = 75 - 150 \\text{ million yrs} $$ </p>\n",
    "    \n",
    "   <p> $$t_{\\rm age}(\\text{NGC 2360}) = 2.2 \\text{ billion yrs} $$ </p>\n",
    "\n",
    "   <p> $$t_{\\rm age}(\\text{NGC 2682}) = 3.69 \\text{ billion yrs} $$ </p>\n",
    "\n",
    "<p> <strong>Why is it that $t_{\\rm MS}$ is a good measure of the age of a cluster? Think about how a young cluster looks compared to an old cluster.</strong> </p>\n",
    "</div>"
   ]
  },
  {
   "cell_type": "code",
   "execution_count": null,
   "metadata": {},
   "outputs": [],
   "source": []
  },
  {
   "cell_type": "markdown",
   "metadata": {},
   "source": [
    "# Please only read if you are done with the lesson!\n",
    "\n",
    "-----------------\n",
    "\n",
    "## Summary \n",
    "\n",
    "You may have noticed that the color magnitude diagram and the HR diagram look very similar and this is because they are closely related. Absolute magnitude and luminoisty are both measuring the absolute brightness of a star. Color and effective temperature are related by the radiation physics of stars (if you are interested, we see that stars emit [black body radiation](https://en.wikipedia.org/wiki/Black-body_radiation)). The image below shows stars from the Hipparcos and Gliese Catalogue of nearby stars in a plot with axes of an HRD and CMD.\n",
    "\n",
    "\n",
    "\\![HRD_CMD](https://upload.wikimedia.org/wikipedia/commons/6/6b/HRDiagram.png) Open this cell and remove \\ to show image!\n",
    "\n",
    "\n",
    "The final part of Exercise 2 is meant to show how stars of different masses evolve on different time scales. Higher mass stars evolve more quickly than low mass stars. If we considered a cluster of stars with many different masses ranging from low to high we might see the first plot in Exercise 2 (e.) where all the stars are still on the main sequence. However, at later times the massive stars have evolved and ended their lives as WDs while low mass stars are essentially unchanged and still on the main sequence. This behavior is known as the [**main sequence turn-off**](https://en.wikipedia.org/wiki/Turnoff_point). By finding the most massive star in a cluster still on the MS you can estimate the lifetime of the cluster!\n",
    "\n",
    "\\![turn-off](https://upload.wikimedia.org/wikipedia/commons/2/27/Open_cluster_HR_diagram_ages.gif) Open this cell and remove \\ to show image!\n",
    "\n",
    "\n",
    "##### Congratulations on making it to the end of this lesson! :) "
   ]
  },
  {
   "cell_type": "code",
   "execution_count": null,
   "metadata": {},
   "outputs": [],
   "source": []
  }
 ],
 "metadata": {
  "kernelspec": {
   "display_name": "Python 3",
   "language": "python",
   "name": "python3"
  },
  "language_info": {
   "codemirror_mode": {
    "name": "ipython",
    "version": 3
   },
   "file_extension": ".py",
   "mimetype": "text/x-python",
   "name": "python",
   "nbconvert_exporter": "python",
   "pygments_lexer": "ipython3",
   "version": "3.8.5"
  }
 },
 "nbformat": 4,
 "nbformat_minor": 4
}
