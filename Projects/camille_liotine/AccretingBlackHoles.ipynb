{
  "nbformat": 4,
  "nbformat_minor": 0,
  "metadata": {
    "colab": {
      "name": "AccretingBlackHoles.ipynb",
      "provenance": [],
      "collapsed_sections": [],
      "authorship_tag": "ABX9TyMHfxSxQfelWxlnwvbvpHMz",
      "include_colab_link": true
    },
    "kernelspec": {
      "name": "python3",
      "display_name": "Python 3"
    }
  },
  "cells": [
    {
      "cell_type": "markdown",
      "metadata": {
        "id": "view-in-github",
        "colab_type": "text"
      },
      "source": [
        "<a href=\"https://colab.research.google.com/github/psheehan/CIERA-HS-Program/blob/master/Projects/camille_liotine/AccretingBlackHoles.ipynb\" target=\"_parent\"><img src=\"https://colab.research.google.com/assets/colab-badge.svg\" alt=\"Open In Colab\"/></a>"
      ]
    },
    {
      "cell_type": "markdown",
      "metadata": {
        "id": "x4U696dfojrB",
        "colab_type": "text"
      },
      "source": [
        "# **How Bright are Accreting Black Holes in Binary Systems?**\n",
        "## ***A Computational Investigation***\n",
        "Leader: Camille Liotine"
      ]
    },
    {
      "cell_type": "markdown",
      "metadata": {
        "id": "dCH6Fc67qLaz",
        "colab_type": "text"
      },
      "source": [
        "#### **Background**\n",
        "\n",
        "Binary star systems consist of two stars that orbit one another. Depending on the mass of these stars, one or more of them may explode in a supernova and form a black hole late in their lifetime. This is generally the case for stars with initial masses greater than 20 times that of the sun, or 20 solar masses ($M_\\odot$). \n",
        "\n",
        "In the majority of these binary systems, black hole formation occurs asynchronously. This implies that the binary undergoes a period time where one object is a black hole and one object is still a star. This stage of evolution is called the x-ray binary phase, and the system is referred to as an **x-ray binary**.\n",
        "\n",
        "Why do we call these systems x-ray binaries? During this evolutionary stage, the black hole accretes matter from its companion star due to its strong gravitational pull. The accretion process heats transferred material through gravitational and frictional forces, which in turn triggers the emission of x-rays. Below is a helpful illustration of this process:\n",
        "\n",
        "![photo1](https://drive.google.com/uc?export=view&id=1ya2mtVhdkbPInwV-kysQbDaqj-DYc--v)\n"
      ]
    },
    {
      "cell_type": "markdown",
      "metadata": {
        "id": "hA2c3Rki4CeN",
        "colab_type": "text"
      },
      "source": [
        "Because the matter surrounding these black holes emits brightly in the x-ray band of the electromagnetic spectrum, x-ray observatories (such as the Chandra Observatory) search for this emission to identify binary systems that house black holes. The brightness, or luminosity, that astronomers observe in these binaries is called the **accretion luminosity**, as it is the luminosity that results from the accretion process of stellar material onto the black hole. These observations help astronomers learn about the properties of these systems and predict their possible courses of evolution. For example, some astronomers are interested in finding systems like these that will eventually form colliding black holes, which can be observed with gravitational wave detections.\n",
        "\n",
        "In this project, we will take a closer look at how we can predict the luminosity of these black hole systems using computational methods and data from simulations.  Theoretical calculations like these help astronomers target their observations towards certain luminosities so that they can better identify these systems in the sky. These calculations also help astronomers compare their theoretical predictions with observations so that they can better understand if there are flaws in their theoretical or observational methods."
      ]
    },
    {
      "cell_type": "markdown",
      "metadata": {
        "id": "KDFv0DeB8G_C",
        "colab_type": "text"
      },
      "source": [
        "#### **Building a Luminosity Function**\n",
        "\n",
        "First, we need to write a function that calculates and returns the accretion luminosity of a black hole in a binary system. Once we have this function, we can apply it to simulation data in multiple different ways. Previous theoretical work tells us that the black hole accretion luminosity is calculated by:\n",
        "\n",
        "\n",
        "\n",
        "\n"
      ]
    },
    {
      "cell_type": "markdown",
      "metadata": {
        "id": "a6-7Hd7V-o0i",
        "colab_type": "text"
      },
      "source": [
        "$L_{acc} = \\eta \\dot{M}_{acc}c^2$\n",
        "\n",
        "where $L_{acc}$ is the accretion luminosity, $\\eta$ is a scale factor derived from relativistic properties of the black hole, $\\dot{M}_{acc}$ is the accretion rate of material onto the black hole, and $c$ is the speed of light.\n",
        "\n"
      ]
    },
    {
      "cell_type": "markdown",
      "metadata": {
        "id": "hXTKje-mBbvf",
        "colab_type": "text"
      },
      "source": [
        "The parameters $\\eta$ and $\\dot{M}_{acc}$ are calculated by:"
      ]
    },
    {
      "cell_type": "markdown",
      "metadata": {
        "id": "dM0P_VrYimVx",
        "colab_type": "text"
      },
      "source": [
        "$\\eta = 1 - \\sqrt{1 - \\bigg(\\frac{M_{BH}}{3M_{BH,0}}\\bigg)^2}$"
      ]
    },
    {
      "cell_type": "markdown",
      "metadata": {
        "id": "UxC08RpLivXt",
        "colab_type": "text"
      },
      "source": [
        "$\\dot{M}_{acc} = \\frac{\\dot{M}_{BH}}{1 - \\eta}$\n",
        "\n",
        "where $M_{BH}$ is the current black hole mass, $M_{BH,0}$ is the initial black hole mass, and $\\dot{M}_{BH}$ is the rate of change of the black hole mass."
      ]
    },
    {
      "cell_type": "markdown",
      "metadata": {
        "id": "FfgrCnN3jwxR",
        "colab_type": "text"
      },
      "source": [
        "The parameters provided in our simulation output are $M_{BH}$, $M_{BH,0}$, and $\\dot{M}_{BH}$. Using this information and the equations above, define a function in python that takes the appropriate input parameters, calculates $L_{acc}$, $\\eta$, and $\\dot{M}_{acc}$ in the proper order, and returns the accretion luminosity. Don't worry about defining numeric quantities for constants yet. "
      ]
    },
    {
      "cell_type": "code",
      "metadata": {
        "id": "YMWymO18lEfy",
        "colab_type": "code",
        "colab": {}
      },
      "source": [
        ""
      ],
      "execution_count": null,
      "outputs": []
    },
    {
      "cell_type": "markdown",
      "metadata": {
        "id": "4Bvp3mhtlFCc",
        "colab_type": "text"
      },
      "source": [
        "There are a couple refinements we need to make to our function before we can apply it to our simulation data. The first is that there is an upper limit for $\\eta$. Specifically, if $M_{BH}$ exceeds $\\sqrt{6}M_{BH,0}$, then $\\eta$ is taken to be $0.42$. Copy and paste your old function below, and then add this condition into your calculation for $\\eta$."
      ]
    },
    {
      "cell_type": "code",
      "metadata": {
        "id": "AnRNrT7Qqjau",
        "colab_type": "code",
        "colab": {}
      },
      "source": [
        ""
      ],
      "execution_count": null,
      "outputs": []
    },
    {
      "cell_type": "markdown",
      "metadata": {
        "id": "vKiqrnHtnE0U",
        "colab_type": "text"
      },
      "source": [
        "Next, we need to apply a **bolometric correction** to our calculated luminosity. A bolometric correction is a multiplicative factor that accounts for differences between the visible luminosity that we observe and the true brightness of the observed source. Bolometric corrections usually vary depending on the observing apparatus and specific properties of the observed object. However, since we are simulating binaries and not observing them, we take the bolometric correction factor to be constant for all sources. For binaries with accreting black holes, this correction is $0.8$. Copy and paste your old function below, and then multiply your final accretion luminosity by this factor before returning it. "
      ]
    },
    {
      "cell_type": "code",
      "metadata": {
        "id": "xhC9K05BnqYo",
        "colab_type": "code",
        "colab": {}
      },
      "source": [
        ""
      ],
      "execution_count": null,
      "outputs": []
    },
    {
      "cell_type": "markdown",
      "metadata": {
        "id": "pc8lKq4ZqkPs",
        "colab_type": "text"
      },
      "source": [
        "Lastly, we need to adjust the units of our calculation so that our final accretion luminosity has the traditional units of x-ray observations. To do this, we need to know the units of our simulation variables. Below is a list of the units for our simulation output data:\n",
        "\n",
        "$M_{BH}$ ---> [$M_\\odot$]\n",
        "\n",
        "$M_{BH,0}$ ---> [$M_\\odot$]\n",
        "\n",
        "$\\dot{M}_{BH}$ ---> [$M_\\odot yr^{-1}$]\n",
        "\n",
        "We want our final luminosity to be in **ergs per second**, or $erg$  $s^{-1}$, which is a common unit of measure for luminosities in astronomy. A helpful unit conversion for one $erg$ is:\n",
        "\n",
        "[$erg$] = [$g$ $cm^2$ $s^{-2}$]"
      ]
    },
    {
      "cell_type": "markdown",
      "metadata": {
        "id": "U09qQHuKuwsE",
        "colab_type": "text"
      },
      "source": [
        "Unforunately, it looks like we have a lot of converting to do! Alas, if you continue with astronomy or astrophysics, you'll find this is a common practice, as astronomers like to use a plethora of unique and often inconvenient units. "
      ]
    },
    {
      "cell_type": "markdown",
      "metadata": {
        "id": "i0JSeDLWvlHX",
        "colab_type": "text"
      },
      "source": [
        "Using dimensional analysis, work out any additional multiplicative constants you may need to add to your calculations so that your returned accretion luminosity has the correct units. You can choose the units of $c$ to be whatever is most convenient for your calculations. Copy and paste your old function below, and then write in your unit adjustments. Once you are done, define numeric quantities for your constants at the beginning of your function."
      ]
    },
    {
      "cell_type": "code",
      "metadata": {
        "id": "yNdeKKktw0WV",
        "colab_type": "code",
        "colab": {}
      },
      "source": [
        ""
      ],
      "execution_count": null,
      "outputs": []
    },
    {
      "cell_type": "markdown",
      "metadata": {
        "id": "8EqAlLuYynDl",
        "colab_type": "text"
      },
      "source": [
        "Your function is now ready to go! Let's put it to work with some simulation data."
      ]
    },
    {
      "cell_type": "markdown",
      "metadata": {
        "id": "Oy0RejEMyzrU",
        "colab_type": "text"
      },
      "source": [
        "#### **Applying Your Luminosity Function to Data: ```for``` Loop Method**"
      ]
    },
    {
      "cell_type": "markdown",
      "metadata": {
        "id": "OsOf957R4FSW",
        "colab_type": "text"
      },
      "source": [
        "First, read-in the simulation data file called ```\"cosmic_data_1.csv\"```, located in this Github project folder, and store it as a ```pandas``` dataframe. You can import the file directly from Github by opening the file and clicking on \"View Raw.\" Copy the url of this \"raw\" webpage and pass it directly to the ```pandas``` function ```read_csv()```. Make sure to import ```pandas``` and any other packages you might need first! "
      ]
    },
    {
      "cell_type": "code",
      "metadata": {
        "id": "3AmDCjWW-7yT",
        "colab_type": "code",
        "colab": {}
      },
      "source": [
        ""
      ],
      "execution_count": null,
      "outputs": []
    },
    {
      "cell_type": "markdown",
      "metadata": {
        "id": "6IpToycU4hbw",
        "colab_type": "text"
      },
      "source": [
        "Now, open the file and examine its format, including column titles, the number of rows, etc. "
      ]
    },
    {
      "cell_type": "code",
      "metadata": {
        "id": "LS4NGhPBGIwo",
        "colab_type": "code",
        "colab": {}
      },
      "source": [
        ""
      ],
      "execution_count": null,
      "outputs": []
    },
    {
      "cell_type": "markdown",
      "metadata": {
        "id": "84WqaUoO5CZI",
        "colab_type": "text"
      },
      "source": [
        "This file contains the evolutionary data for a single simulated binary system during its x-ray binary phase. Each row represents one timestep of the simulation, which you can see by looking at the ```tphys``` column. ```tphys``` is the time, in millions of years (Myr), since the binary began its evolution. As a warm-up to practice working with the data, use ```pandas``` operations to calculate how long this system was in the x-ray binary phase, and print your result.\n",
        "\n",
        "\n",
        "\n"
      ]
    },
    {
      "cell_type": "code",
      "metadata": {
        "id": "GApt0Ylmo0xq",
        "colab_type": "code",
        "colab": {}
      },
      "source": [
        ""
      ],
      "execution_count": null,
      "outputs": []
    },
    {
      "cell_type": "markdown",
      "metadata": {
        "id": "UZTn11Keo0Eq",
        "colab_type": "text"
      },
      "source": [
        "The parameters we will need to calculate the accretion luminosity are ```mass_2```, which represents the black hole mass, and ```deltam_2```, which represents the rate of change in the black hole mass. One way we can acquire luminosity information is to loop through the dataframe, row by row, and calculate the luminosity at each time step using our function.\n",
        "\n",
        "First, write a ```for``` loop that goes through each row of the data frame and applies your luminosity function at each iteration. Save your calculated luminosities in an array. Print your final array of luminosities to check that they are reasonable. Reasonable luminosities should fall between $10^{30}$ and $10^{45}$ $erg$ $s^{-1}$. *Hint: you will need to use a special iterator for your dataframe. Try the pandas function iterrows().* "
      ]
    },
    {
      "cell_type": "code",
      "metadata": {
        "id": "mAsumTZm9NzX",
        "colab_type": "code",
        "colab": {}
      },
      "source": [
        ""
      ],
      "execution_count": null,
      "outputs": []
    },
    {
      "cell_type": "markdown",
      "metadata": {
        "id": "xkOQEOjDu45X",
        "colab_type": "text"
      },
      "source": [
        "Now that we have the accretion luminosity data for our binary, let's plot it to see how the system's emission changes over time. Using ```matplotlib```, make a time series plot using the ```tphys``` column from the simulation output along with your array of luminosities. Make sure to properly label your plot! *Hint: Use a log scale when plotting your luminosities so that you can better visualize the emission behavior.*"
      ]
    },
    {
      "cell_type": "code",
      "metadata": {
        "id": "hcamDOADv23K",
        "colab_type": "code",
        "colab": {}
      },
      "source": [
        ""
      ],
      "execution_count": null,
      "outputs": []
    },
    {
      "cell_type": "markdown",
      "metadata": {
        "id": "gCbDIRjiv3Mf",
        "colab_type": "text"
      },
      "source": [
        "One question researchers might ask is if a given binary system is observable. For a system to be observed by an x-ray observatory, it must reach a maximum luminosity above an observable threshold. Let's take our observable threshold to be $10^{37} erg$ $s^{-1}$, which is a common threshold used for the Chandra Observatory. Using your calculations, find the maximum luminosity of your binary system. Is it observable?"
      ]
    },
    {
      "cell_type": "code",
      "metadata": {
        "id": "2NcSBg-kxYmR",
        "colab_type": "code",
        "colab": {}
      },
      "source": [
        ""
      ],
      "execution_count": null,
      "outputs": []
    },
    {
      "cell_type": "markdown",
      "metadata": {
        "id": "YG8bY1a8xNn5",
        "colab_type": "text"
      },
      "source": [
        "#### **Applying Your Luminosity Function to Data: Array Method**"
      ]
    },
    {
      "cell_type": "markdown",
      "metadata": {
        "id": "3Eaig27IxoEe",
        "colab_type": "text"
      },
      "source": [
        "It turns out that ```for``` loops are too computationally slow to analyze very large files or many files in one run. Luckily, we can speed-up our code by passing arrays to our luminosity function instead of passing values at each timestep of the data. This will allow us to calculate all luminosities for the binary in one step! However, this method will require some alteration to your luminosity function.\n",
        "\n",
        "Primarily, now that your function takes arrays as parameters instead of values, you can no longer use conditional logic to determine what $\\eta$ should be. Instead, you should use boolean array logic, which is a standard application of ```numpy``` arrays. "
      ]
    },
    {
      "cell_type": "markdown",
      "metadata": {
        "id": "8kCgNfvq5CQt",
        "colab_type": "text"
      },
      "source": [
        "For example, let's say I have two arrays of the same size called ```x``` and ```y```. If want to know which values of ```x``` are less than their corresponding values in ```y```, I can write:\n",
        "\n",
        "```x_lower_values = x < y```\n",
        "\n",
        "```x_lower_values``` is an array of the same size as ```x``` and ```y```. It it contains ```True/False``` entries that tell me if the corresponding entry in ```x``` is less than that in ```y```. \n",
        "\n",
        "Another useful tool that might help you rework your luminosity function is ```np.where()```. This function takes a boolean array (such as ```x_lower_values``` in the example above) and returns an array that yields entries with two possible outcomes, which are also function parameters. The outcome assigned to an array entry depends on if the given entry is ```True``` or ```False```."
      ]
    },
    {
      "cell_type": "markdown",
      "metadata": {
        "id": "L7yufO2I5FUK",
        "colab_type": "text"
      },
      "source": [
        "Copy and paste your old luminosity function below. Then, using the tools described above and/or any other methods you prefer, alter you luminosity function so that it takes array parameters and then calculates and returns an array of accretion luminosities using array operations."
      ]
    },
    {
      "cell_type": "code",
      "metadata": {
        "id": "efJvJiShyXFD",
        "colab_type": "code",
        "colab": {}
      },
      "source": [
        "\n"
      ],
      "execution_count": null,
      "outputs": []
    },
    {
      "cell_type": "markdown",
      "metadata": {
        "id": "QWH1I7dV6IJR",
        "colab_type": "text"
      },
      "source": [
        "Now, apply your new and improved function to the data set above. You should now only need one line of code to calculate your array of accretion luminosities. Print your final array of luminosities to check that they are reasonable. *Hint: you may need to create an array for $M_{BH,0}$ that is the same length as your arrays for $M_{BH}$ and $\\dot M_{BH}$ in order to pass it to your function.*"
      ]
    },
    {
      "cell_type": "code",
      "metadata": {
        "id": "cTuX1j3l64HE",
        "colab_type": "code",
        "colab": {}
      },
      "source": [
        ""
      ],
      "execution_count": null,
      "outputs": []
    },
    {
      "cell_type": "markdown",
      "metadata": {
        "id": "tmzev_DX5pIH",
        "colab_type": "text"
      },
      "source": [
        "To double check that your improved function is working correctly, make another time series plot using ```matplotlib```. This time, plot the accretion luminosities you obtained with the ```for``` loop method as well as those you obtained with the array method. They should appear to be the same line on your plot! Make sure to properly label your plot."
      ]
    },
    {
      "cell_type": "code",
      "metadata": {
        "id": "0i2GSkgI7m7Z",
        "colab_type": "code",
        "colab": {}
      },
      "source": [
        ""
      ],
      "execution_count": null,
      "outputs": []
    },
    {
      "cell_type": "markdown",
      "metadata": {
        "id": "5ABzzKwF7uXF",
        "colab_type": "text"
      },
      "source": [
        "One fun way to examine the computational difference between your two luminosity functions is to time how long each of them takes to run. Copy and paste your pieces of code that run your different luminosity functions below. Import the python ```time``` module and use the ```time()``` function to determine the runtime of each code segment. Print both runtimes to compare them."
      ]
    },
    {
      "cell_type": "code",
      "metadata": {
        "id": "CK1cYXGV9ebB",
        "colab_type": "code",
        "colab": {}
      },
      "source": [
        "\n",
        "\n"
      ],
      "execution_count": null,
      "outputs": []
    },
    {
      "cell_type": "markdown",
      "metadata": {
        "id": "QL6IDwXu9e8V",
        "colab_type": "text"
      },
      "source": [
        "Even though the difference in runtimes may seem small, it is actually quite noticeable when applied to many systems. For example, one standard simulation run contains a population of ~50,000 binaries. Calculate how long each method would take to analyze the luminosities of a full population of binaries, and convert the resulting times (in seconds) to more useful units. "
      ]
    },
    {
      "cell_type": "code",
      "metadata": {
        "id": "is8KkO9X-Qq5",
        "colab_type": "code",
        "colab": {}
      },
      "source": [
        ""
      ],
      "execution_count": null,
      "outputs": []
    },
    {
      "cell_type": "markdown",
      "metadata": {
        "id": "_q6Jv5pgFYaj",
        "colab_type": "text"
      },
      "source": [
        "Now, suppose we run a total of 10 different simulations, and need to analyze the luminosities of all systems in each simulation. How long does each method take to complete these calculations? Were the improvements to your luminosity function worth it?"
      ]
    },
    {
      "cell_type": "code",
      "metadata": {
        "id": "_UqL8EYAFZGX",
        "colab_type": "code",
        "colab": {}
      },
      "source": [
        ""
      ],
      "execution_count": null,
      "outputs": []
    },
    {
      "cell_type": "markdown",
      "metadata": {
        "id": "hLblF7X-yOJc",
        "colab_type": "text"
      },
      "source": [
        "#### **Bonus: Extended Data File**"
      ]
    },
    {
      "cell_type": "markdown",
      "metadata": {
        "id": "wkida8B2-6Ml",
        "colab_type": "text"
      },
      "source": [
        "The file ```cosmic_data_1.csv``` is actually a very small portion of a full simulation output file. Normally, researchers want information about the entire evolution of a binary system so that characteristics of its behavior, such as its merge status, emission properties, etc. are placed in context with one other. This allows correlations to be drawn between evolutionary behaviors and facilitates a more complete understanding of how binary evolution works.\n",
        "\n",
        "Read-in the simulation data file ```cosmic_data_2.csv```, also located in this project folder, and store it as a ```pandas``` dataframe (it may take a couple of minutes to upload). Open the file and examine its format, including column titles, the number of rows, etc. "
      ]
    },
    {
      "cell_type": "code",
      "metadata": {
        "id": "8jgUik8uIniA",
        "colab_type": "code",
        "colab": {}
      },
      "source": [
        ""
      ],
      "execution_count": null,
      "outputs": []
    },
    {
      "cell_type": "markdown",
      "metadata": {
        "id": "w9Knrp97A5fW",
        "colab_type": "text"
      },
      "source": [
        "This file is clearly far more massive than the previous one - and it is still a reduced version of the full simulation output! To work with the complete data set, we would need a supercomputer. However, this reduction will be suitable for the remainder of our investigation. The bonus portion of this project will involve identifying the x-ray binary phase of the system ourselves and applying our luminosity function to the appropriate subset of the extended data file. \n",
        "\n",
        "First, we need to identify when the x-ray binary phase begins. We can do this by finding the timestep when the first black hole is formed, which is recorded in the ```kstar_1``` and ```kstar_2``` columns of the data file. If ```kstar_1``` or ```kstar_2``` equals $14$, then that respective object is a black hole. The x-ray binary phase begins when the first black hole's accretion rate becomes greater than zero.\n",
        "\n",
        "Write a piece of code that identifies the timestep or index of the data file at which each object in the binary becomes a black hole. Store each index as a variable.\n",
        "\n",
        "\n",
        "\n"
      ]
    },
    {
      "cell_type": "code",
      "metadata": {
        "id": "6zD_jiSxScc4",
        "colab_type": "code",
        "colab": {}
      },
      "source": [
        ""
      ],
      "execution_count": null,
      "outputs": []
    },
    {
      "cell_type": "markdown",
      "metadata": {
        "id": "BYoiY_GUSU1_",
        "colab_type": "text"
      },
      "source": [
        "Using conditional logic, compare the indicies or timesteps you found above, and determine which one occurred first. Then, using this information, identify the data columns for $M_{BH}$ and $\\dot{M}_{BH}$ that correspond to the first black hole object. Also store the first and second black hole formation indicies as separate variables. "
      ]
    },
    {
      "cell_type": "code",
      "metadata": {
        "id": "EUb3c30uTIcU",
        "colab_type": "code",
        "colab": {}
      },
      "source": [
        ""
      ],
      "execution_count": null,
      "outputs": []
    },
    {
      "cell_type": "markdown",
      "metadata": {
        "id": "P8VcNwzGTmUx",
        "colab_type": "text"
      },
      "source": [
        "Now, using the appropriate data columns, identify the index when the black hole accretion rate becomes positive. This index signifies the beginning of the x-ray binary phase. Store this index as a separate variable. "
      ]
    },
    {
      "cell_type": "code",
      "metadata": {
        "id": "LX5uTZ4rUVa8",
        "colab_type": "code",
        "colab": {}
      },
      "source": [
        ""
      ],
      "execution_count": null,
      "outputs": []
    },
    {
      "cell_type": "markdown",
      "metadata": {
        "id": "yz_w9wqIjhrt",
        "colab_type": "text"
      },
      "source": [
        "The x-ray binary phase terminates when the black hole accretion rate is no longer positive. Using similar methods as above, identify the index when the x-ray binary phase ends. Store this index as a separate variable. To check that you indicies make sense, print the indicies of black hole formation as well as those identifying the x-ray binary phase."
      ]
    },
    {
      "cell_type": "code",
      "metadata": {
        "id": "a9TjLhA3jlMQ",
        "colab_type": "code",
        "colab": {}
      },
      "source": [
        ""
      ],
      "execution_count": null,
      "outputs": []
    },
    {
      "cell_type": "markdown",
      "metadata": {
        "id": "4NqgBHvyTIvV",
        "colab_type": "text"
      },
      "source": [
        "Cut the data you need to calculate the accretion luminosity using the indices you found above so that the data begins and ends with the x-ray binary phase. Store your reduced data in separate arrays."
      ]
    },
    {
      "cell_type": "code",
      "metadata": {
        "id": "p5yE4kxgVDN9",
        "colab_type": "code",
        "colab": {}
      },
      "source": [
        ""
      ],
      "execution_count": null,
      "outputs": []
    },
    {
      "cell_type": "markdown",
      "metadata": {
        "id": "sSHcjLPdVmtG",
        "colab_type": "text"
      },
      "source": [
        "You should now be able to pass your reduced data arrays directly to your function! Do this to calculate the accretion luminosity of the binary during the x-ray binary phase, and print the resulting array of luminosities. Determine if this system is observable."
      ]
    },
    {
      "cell_type": "code",
      "metadata": {
        "id": "Wt6w8zUhWepk",
        "colab_type": "code",
        "colab": {}
      },
      "source": [
        ""
      ],
      "execution_count": null,
      "outputs": []
    },
    {
      "cell_type": "markdown",
      "metadata": {
        "id": "ZmoNLGt4We_9",
        "colab_type": "text"
      },
      "source": [
        "As a last step, compare your new luminosities to those you found above with the ```cosmic_data_1.csv``` data set. Use ```matplotlib``` to plot a time series of the binary emission over time, and label your plot accordingly. *Hint: you will need to apply the same cuts to the ```tphys``` column of ```cosmic_data_2.csv``` that you applied to your luminosity input parameters in order to plot your luminosities.*\n",
        "\n",
        "What are some similarities and differences between the emission of the first and second binary system?"
      ]
    },
    {
      "cell_type": "code",
      "metadata": {
        "id": "R4mI0rPKW_wQ",
        "colab_type": "code",
        "colab": {}
      },
      "source": [
        ""
      ],
      "execution_count": null,
      "outputs": []
    },
    {
      "cell_type": "markdown",
      "metadata": {
        "id": "GIqAS9RyXACL",
        "colab_type": "text"
      },
      "source": [
        "Congratulations, you have completed this project! I hoped you have learned some new information about x-ray binary systems, and have also sharpened your coding skills by experimenting with computational methods commonly used in research. If you are looking for more challenges, ask Camille and she will happily give you some!"
      ]
    }
  ]
}