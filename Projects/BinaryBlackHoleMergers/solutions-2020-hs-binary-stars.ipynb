{
 "cells": [
  {
   "cell_type": "code",
   "execution_count": 2,
   "metadata": {},
   "outputs": [],
   "source": [
    "import pandas as pd\n",
    "import matplotlib.pyplot as plt\n",
    "%matplotlib inline\n",
    "import numpy as np\n"
   ]
  },
  {
   "cell_type": "markdown",
   "metadata": {},
   "source": [
    "![binary_merger](https://cdn.mos.cms.futurecdn.net/7u5yfddeXVJP73NzbtNgnE-1024-80.jpg.webp)"
   ]
  },
  {
   "cell_type": "markdown",
   "metadata": {},
   "source": [
    "# 0. Binary Stars!\n",
    "\n",
    "Binary stars are very common in the universe. As a graduate student my work focus on binary stars that evolve to become merging binary black holes!\n",
    "\n",
    "This project is intended to show you one way astronomers use observations of binary black hole mergers to inform our understanding of the universe.\n",
    "\n",
    "\n",
    "#### 0a. Watch this \"Crash Course\" video on binary stars.\n",
    "https://www.youtube.com/watch?v=pIFiCLhJmig\n",
    "\n",
    "\n",
    "#### 0b. Watch this video too. It goes more into detail about how binary stars can interact with one another. \n",
    "\n",
    "At time=3:46 in the video talks about the complicated evolution of binary stars. \n",
    "\n",
    "This is type of evolution is what allows for the formation of binary black hole systems!\n",
    "\n",
    "https://www.youtube.com/watch?v=AnE9EYgXxpU\n"
   ]
  },
  {
   "cell_type": "markdown",
   "metadata": {},
   "source": [
    "#### ~~ Other cool videos about black holes to watch on your own:\n",
    "\n",
    "2017: Graduate student Katie Bouman describing how her team will take a picture of a super massive black hole\n",
    "https://www.youtube.com/watch?v=BIvezCVcsYs \n",
    "\n",
    "2019: Vox video showing \n",
    "https://www.youtube.com/watch?v=pAoEHR4aW8I"
   ]
  },
  {
   "cell_type": "markdown",
   "metadata": {},
   "source": [
    "#  In this notebook you will be using simulation data from the code COSMIC. \n",
    "\n",
    "This code is used to simulate binary evoltion and was developed by graduate students, post-docs, and faculty in CIERA. \n",
    "\n",
    "It builds on previous work to model complicated binary evolution very quickly.\n",
    "\n",
    "Ideally we would model the complicated stellar interactions using fluid simulations like this https://aasnova.org/2016/02/29/featured-image-orbiting-stars-share-an-envelope/ but we don't fully understand the physics involved and those simulations take a long time to finish.\n",
    "\n",
    "The data I am giving you starts with a large initial popultion of stars with initial conditions that are supposed to replicate binary systems in the universe.\n",
    "\n",
    "#### 0c. How do you binary systems in the universe look like? Go on Slack and answer the first 3 polls. You aren't supposed to know the answer. This is just to get your brain thinking about binary stars!"
   ]
  },
  {
   "cell_type": "markdown",
   "metadata": {},
   "source": [
    "# 1. Histograms "
   ]
  },
  {
   "cell_type": "markdown",
   "metadata": {},
   "source": [
    "## We are going to be using histograms a lot in this exercise to visualize our binary populations. 1a is supposed to help you become comfortable with them.\n",
    "\n",
    "A histogram is a helpful way to bin a list of numbers. \n",
    "\n"
   ]
  },
  {
   "cell_type": "markdown",
   "metadata": {},
   "source": [
    "### 1a. use np.random.randint to make a random list of numbers. \n",
    "\n",
    "low = lower bound for random numbers\n",
    "\n",
    "high = upper bound for random numbers\n",
    "\n",
    "size = how many numbers you want, start with something >20\n",
    "\n",
    "### 1b. Use plt.hist to bin your random numbers\n",
    "\n",
    "data = list of random numbers\n",
    "\n",
    "bins = number of bins\n",
    "\n",
    "### 1c. Change the number of bins to a large number to see what happends to the data.   "
   ]
  },
  {
   "cell_type": "code",
   "execution_count": 3,
   "metadata": {},
   "outputs": [
    {
     "name": "stdout",
     "output_type": "stream",
     "text": [
      "[ 46 -62  70 -39  52  84 -15 -93  92  34 -16   7 -42   1  60 -35  84   3\n",
      " -39  -1 -93 -89  43  65  42 -45  16 -77 -75  47  52  19  30  12 -95  -6\n",
      "  68 -96  35  64  74  38 -13 -74  96  43 -49  57  -2 -99 -52 -45 -90 -23\n",
      " -57  62 -74  46 -23  48   1  83  96 -10 -23 -57  46 -49  -2  75]\n"
     ]
    }
   ],
   "source": [
    "# make a random list of intergers betweeen 2 numbers\n",
    "data = np.random.randint(low=-100, high=100,size=70)\n",
    "\n",
    "\n",
    "print(data)"
   ]
  },
  {
   "cell_type": "code",
   "execution_count": 4,
   "metadata": {},
   "outputs": [
    {
     "data": {
      "image/png": "[encoded data removed]",
      "text/plain": [
       "<Figure size 432x288 with 1 Axes>"
      ]
     },
     "metadata": {
      "needs_background": "light"
     },
     "output_type": "display_data"
    }
   ],
   "source": [
    "plt.figure()\n",
    "# feed in the array named data, place the values into 5 bins\n",
    "h = plt.hist(data, bins=5)"
   ]
  },
  {
   "cell_type": "code",
   "execution_count": 5,
   "metadata": {},
   "outputs": [
    {
     "data": {
      "image/png": "[encoded data removed]",
      "text/plain": [
       "<Figure size 432x288 with 1 Axes>"
      ]
     },
     "metadata": {
      "needs_background": "light"
     },
     "output_type": "display_data"
    }
   ],
   "source": [
    "# change the number of bins here\n",
    "plt.figure()\n",
    "h = plt.hist(data, bins=20)"
   ]
  },
  {
   "cell_type": "markdown",
   "metadata": {},
   "source": [
    "# Okay, lets finally read in the COSMIC data."
   ]
  },
  {
   "cell_type": "code",
   "execution_count": 6,
   "metadata": {},
   "outputs": [],
   "source": [
    "binaries_initCond = pd.read_hdf('data_lowZ.h5', key='initCond')\n",
    "binaries_bcm = pd.read_hdf('data_lowZ.h5', key='bcm')\n",
    "binaries_bpp = pd.read_hdf('data_lowZ.h5', key='bpp')"
   ]
  },
  {
   "cell_type": "markdown",
   "metadata": {},
   "source": [
    "# binaries_initCond\n",
    "Gives information about the initial conditions of the binaries.  binaries_initCond will show you one possible answer to the questions on the polls.\n",
    "\n",
    "You can look at all the available data by seeing what columns you can access:\n"
   ]
  },
  {
   "cell_type": "code",
   "execution_count": 7,
   "metadata": {},
   "outputs": [
    {
     "data": {
      "text/plain": [
       "Index(['kstar_1', 'kstar_2', 'porb', 'ecc', 'metallicity', 'binfrac', 'tphysf',\n",
       "       'mass0_1', 'mass0_2', 'rad1', 'rad2', 'lumin1', 'lumin2', 'massc1',\n",
       "       'massc2', 'radc1', 'radc2', 'menv1', 'menv2', 'renv1', 'renv2',\n",
       "       'ospin1', 'ospin2'],\n",
       "      dtype='object')"
      ]
     },
     "execution_count": 7,
     "metadata": {},
     "output_type": "execute_result"
    }
   ],
   "source": [
    "binaries_initCond.columns"
   ]
  },
  {
   "cell_type": "markdown",
   "metadata": {},
   "source": [
    "You can go to this website to see what some of these columns mean: \n",
    "https://cosmic-popsynth.github.io/docs/v3.2.0/output_info/index.html\n",
    "\n",
    "You can Ctrl+F to search for the column name\n"
   ]
  },
  {
   "cell_type": "markdown",
   "metadata": {},
   "source": [
    "##  Play around with the data\n",
    "### 1d) Make histograms using plt.hist and plots using plt.scatter to see the initial conditions of these binaries.\n",
    "\n",
    "### 1e) Write a sentence or two about what you see.\n",
    "\n",
    "For example, if you plot **plt.hist(np.log10(binaries_initCond['porb']), bins=10, color='gray')**\n",
    "you can write something like: \n",
    "\n",
    "\"This is the distribution for the initial periods of the binaries.\n",
    "Large periods mean they start far away from each other, small periods mean they start close together.\n",
    "Most of the binaries star with small or medium valued orbital periods and fewer start with large orbital periods\"\n",
    "\n",
    "**check if this is true!**\n",
    "\n",
    "**Some other interesting columns are 'ecc', 'mass0_1, and binaries_initCond['mass0_2']/binaries_initCond['mass0_1']**"
   ]
  },
  {
   "cell_type": "markdown",
   "metadata": {},
   "source": [
    "## Bonus \n",
    "\n",
    "Make your own histogram funtion! (It's a little more ticky than you might have thought!)\n",
    "There are so many functions that are already made for you but there is value in builing them yourself! This is the best way to really understand what the function is doing\n"
   ]
  },
  {
   "cell_type": "code",
   "execution_count": 8,
   "metadata": {},
   "outputs": [
    {
     "data": {
      "text/plain": [
       "Text(0.5, 0, 'initial orbital period [log(days)]')"
      ]
     },
     "execution_count": 8,
     "metadata": {},
     "output_type": "execute_result"
    },
    {
     "data": {
      "image/png": "[encoded data removed]",
      "text/plain": [
       "<Figure size 432x360 with 1 Axes>"
      ]
     },
     "metadata": {
      "needs_background": "light"
     },
     "output_type": "display_data"
    }
   ],
   "source": [
    "def plot_hist(data, bins ):\n",
    "\n",
    "    min_val = min(data)\n",
    "    max_val = max(data)\n",
    "\n",
    "    bin_edges = np.linspace(min_val, max_val, bins+1) # for 10 bins you need 11 numbers to represent each edge\n",
    "    num_edges = len(bin_edges)\n",
    "    bin_vals = []\n",
    "\n",
    "    for i in range(bins): # -1 because we use i+1 in the code\n",
    "        count = len(np.where( np.logical_and(data>=bin_edges[i],  data<bin_edges[i+1])  )[0])\n",
    "        \n",
    "        if i == (bins-1): # if last bin overwrite count to include the last edge \n",
    "            # np.logical_and gives array of true or false\n",
    "            # np.sum of this array will sum up all the elements where the value is true \n",
    "            count = np.sum( np.logical_and(data>=bin_edges[i],  data<=bin_edges[i+1]) )\n",
    "            \n",
    "        bin_vals.append(count)\n",
    "        \n",
    "\n",
    "    fig = plt.figure(figsize=(6,5))\n",
    "    for i in range(num_edges-1):\n",
    "        x = [bin_edges[i], bin_edges[i+1]]\n",
    "        y_top = bin_vals[i]\n",
    "        plt.fill_between(x, y_top, y2=0, color='gray')\n",
    "    return plt, bin_vals\n",
    "    \n",
    "data = np.log10(binaries_initCond['porb'])\n",
    "bins = 20\n",
    "plt, bin_vals = plot_hist(data, bins )\n",
    "plt.xlabel('initial orbital period [log(days)]')\n"
   ]
  },
  {
   "cell_type": "code",
   "execution_count": 9,
   "metadata": {},
   "outputs": [
    {
     "data": {
      "text/plain": [
       "Text(0, 0.5, 'count')"
      ]
     },
     "execution_count": 9,
     "metadata": {},
     "output_type": "execute_result"
    },
    {
     "data": {
      "image/png": "[encoded data removed]",
      "text/plain": [
       "<Figure size 432x288 with 1 Axes>"
      ]
     },
     "metadata": {
      "needs_background": "light"
     },
     "output_type": "display_data"
    }
   ],
   "source": [
    "h = plt.hist(binaries_initCond['ecc'])\n",
    "plt.xlabel('eccentricity', size=18)\n",
    "plt.ylabel('count', size=18)\n"
   ]
  },
  {
   "cell_type": "code",
   "execution_count": 10,
   "metadata": {},
   "outputs": [
    {
     "data": {
      "text/plain": [
       "Text(0, 0.5, 'count')"
      ]
     },
     "execution_count": 10,
     "metadata": {},
     "output_type": "execute_result"
    },
    {
     "data": {
      "image/png": "[encoded data removed]",
      "text/plain": [
       "<Figure size 432x288 with 1 Axes>"
      ]
     },
     "metadata": {
      "needs_background": "light"
     },
     "output_type": "display_data"
    }
   ],
   "source": [
    "h = plt.hist(binaries_initCond['mass0_1'])\n",
    "plt.xlabel('mass1', size=18)\n",
    "plt.ylabel('count', size=18)"
   ]
  },
  {
   "cell_type": "code",
   "execution_count": 11,
   "metadata": {},
   "outputs": [
    {
     "data": {
      "text/plain": [
       "Text(0, 0.5, 'count')"
      ]
     },
     "execution_count": 11,
     "metadata": {},
     "output_type": "execute_result"
    },
    {
     "data": {
      "image/png": "[encoded data removed]",
      "text/plain": [
       "<Figure size 432x288 with 1 Axes>"
      ]
     },
     "metadata": {
      "needs_background": "light"
     },
     "output_type": "display_data"
    }
   ],
   "source": [
    "h = plt.hist(binaries_initCond['mass0_2'])\n",
    "plt.xlabel('mass2', size=18)\n",
    "plt.ylabel('count', size=18)"
   ]
  },
  {
   "cell_type": "code",
   "execution_count": 12,
   "metadata": {},
   "outputs": [
    {
     "data": {
      "text/plain": [
       "Text(0, 0.5, 'count')"
      ]
     },
     "execution_count": 12,
     "metadata": {},
     "output_type": "execute_result"
    },
    {
     "data": {
      "image/png": "[encoded data removed]",
      "text/plain": [
       "<Figure size 432x288 with 1 Axes>"
      ]
     },
     "metadata": {
      "needs_background": "light"
     },
     "output_type": "display_data"
    }
   ],
   "source": [
    "h = plt.hist(binaries_initCond['mass0_2']/binaries_initCond['mass0_1'])\n",
    "plt.xlabel('q [mass2/mass1]', size=18)\n",
    "plt.ylabel('count', size=18)"
   ]
  },
  {
   "cell_type": "code",
   "execution_count": 13,
   "metadata": {},
   "outputs": [
    {
     "data": {
      "text/plain": [
       "Text(0, 0.5, 'log10(porb)')"
      ]
     },
     "execution_count": 13,
     "metadata": {},
     "output_type": "execute_result"
    },
    {
     "data": {
      "image/png": "[encoded data removed]",
      "text/plain": [
       "<Figure size 432x288 with 1 Axes>"
      ]
     },
     "metadata": {
      "needs_background": "light"
     },
     "output_type": "display_data"
    }
   ],
   "source": [
    "plt.scatter(binaries_initCond['ecc'], np.log10(binaries_initCond['porb']), alpha=0.5, s=0.1)\n",
    "plt.xlabel('ecc', size=18)\n",
    "plt.ylabel('log10(porb)', size=18)"
   ]
  },
  {
   "cell_type": "code",
   "execution_count": 14,
   "metadata": {},
   "outputs": [
    {
     "data": {
      "text/plain": [
       "Text(0, 0.5, 'log10(porb)')"
      ]
     },
     "execution_count": 14,
     "metadata": {},
     "output_type": "execute_result"
    },
    {
     "data": {
      "image/png": "[encoded data removed]",
      "text/plain": [
       "<Figure size 432x288 with 1 Axes>"
      ]
     },
     "metadata": {
      "needs_background": "light"
     },
     "output_type": "display_data"
    }
   ],
   "source": [
    "plt.scatter(binaries_initCond['mass0_2']/binaries_initCond['mass0_1'], np.log10(binaries_initCond['porb']), \n",
    "            alpha=0.5, s=0.1)\n",
    "plt.xlabel('q', size=18)\n",
    "plt.ylabel('log10(porb)', size=18)"
   ]
  },
  {
   "cell_type": "markdown",
   "metadata": {},
   "source": [
    "# 2 binaries_bcm\n",
    "\n",
    "binaries_bcm has information about the last timestep in the data, tphys=13700.0. \n",
    "\n",
    "It can tell you things like: There is a black hole with a white dwarf. Their orbital period is 5 solar radii and their eccentricity is 0.2\n",
    "\n",
    "Let's look at the columns again"
   ]
  },
  {
   "cell_type": "code",
   "execution_count": 15,
   "metadata": {},
   "outputs": [
    {
     "data": {
      "text/plain": [
       "Index(['tphys', 'kstar_1', 'mass0_1', 'mass_1', 'lumin_1', 'rad_1', 'teff_1',\n",
       "       'massc_1', 'ospin_1', 'RROL_1', 'kstar_2', 'mass0_2', 'mass_2',\n",
       "       'lumin_2', 'rad_2', 'teff_2', 'massc_2', 'epoch_2', 'ospin_2', 'RROL_2',\n",
       "       'porb', 'sep', 'ecc', 'SNkick_1', 'SNkick_2', 'SN_1', 'SN_2',\n",
       "       'bin_state', 'merger_type'],\n",
       "      dtype='object')"
      ]
     },
     "execution_count": 15,
     "metadata": {},
     "output_type": "execute_result"
    }
   ],
   "source": [
    "binaries_bcm.columns"
   ]
  },
  {
   "cell_type": "code",
   "execution_count": 16,
   "metadata": {},
   "outputs": [
    {
     "data": {
      "text/html": [
       "<div>\n",
       "<style scoped>\n",
       "    .dataframe tbody tr th:only-of-type {\n",
       "        vertical-align: middle;\n",
       "    }\n",
       "\n",
       "    .dataframe tbody tr th {\n",
       "        vertical-align: top;\n",
       "    }\n",
       "\n",
       "    .dataframe thead th {\n",
       "        text-align: right;\n",
       "    }\n",
       "</style>\n",
       "<table border=\"1\" class=\"dataframe\">\n",
       "  <thead>\n",
       "    <tr style=\"text-align: right;\">\n",
       "      <th></th>\n",
       "      <th>tphys</th>\n",
       "      <th>kstar_1</th>\n",
       "      <th>mass0_1</th>\n",
       "      <th>mass_1</th>\n",
       "      <th>lumin_1</th>\n",
       "      <th>rad_1</th>\n",
       "      <th>teff_1</th>\n",
       "      <th>massc_1</th>\n",
       "      <th>ospin_1</th>\n",
       "      <th>RROL_1</th>\n",
       "      <th>...</th>\n",
       "      <th>RROL_2</th>\n",
       "      <th>porb</th>\n",
       "      <th>sep</th>\n",
       "      <th>ecc</th>\n",
       "      <th>SNkick_1</th>\n",
       "      <th>SNkick_2</th>\n",
       "      <th>SN_1</th>\n",
       "      <th>SN_2</th>\n",
       "      <th>bin_state</th>\n",
       "      <th>merger_type</th>\n",
       "    </tr>\n",
       "    <tr>\n",
       "      <th>bin_num</th>\n",
       "      <th></th>\n",
       "      <th></th>\n",
       "      <th></th>\n",
       "      <th></th>\n",
       "      <th></th>\n",
       "      <th></th>\n",
       "      <th></th>\n",
       "      <th></th>\n",
       "      <th></th>\n",
       "      <th></th>\n",
       "      <th></th>\n",
       "      <th></th>\n",
       "      <th></th>\n",
       "      <th></th>\n",
       "      <th></th>\n",
       "      <th></th>\n",
       "      <th></th>\n",
       "      <th></th>\n",
       "      <th></th>\n",
       "      <th></th>\n",
       "      <th></th>\n",
       "    </tr>\n",
       "  </thead>\n",
       "  <tbody>\n",
       "    <tr>\n",
       "      <th>57</th>\n",
       "      <td>13700.0</td>\n",
       "      <td>11.0</td>\n",
       "      <td>0.850687</td>\n",
       "      <td>0.850715</td>\n",
       "      <td>5.226267e-07</td>\n",
       "      <td>0.009733</td>\n",
       "      <td>1580.164683</td>\n",
       "      <td>0.850715</td>\n",
       "      <td>3.066312e+02</td>\n",
       "      <td>2.087588e-07</td>\n",
       "      <td>...</td>\n",
       "      <td>2.328023e-07</td>\n",
       "      <td>3.803115e+06</td>\n",
       "      <td>120856.222774</td>\n",
       "      <td>0.672393</td>\n",
       "      <td>0.0</td>\n",
       "      <td>0.0</td>\n",
       "      <td>0.0</td>\n",
       "      <td>0.0</td>\n",
       "      <td>0</td>\n",
       "      <td>-001</td>\n",
       "    </tr>\n",
       "    <tr>\n",
       "      <th>61</th>\n",
       "      <td>13700.0</td>\n",
       "      <td>15.0</td>\n",
       "      <td>4.663995</td>\n",
       "      <td>0.000000</td>\n",
       "      <td>6.273263e-04</td>\n",
       "      <td>0.000014</td>\n",
       "      <td>245233.035262</td>\n",
       "      <td>0.000000</td>\n",
       "      <td>1.164740e+09</td>\n",
       "      <td>-1.000000e+00</td>\n",
       "      <td>...</td>\n",
       "      <td>1.000000e-04</td>\n",
       "      <td>0.000000e+00</td>\n",
       "      <td>0.000000</td>\n",
       "      <td>-1.000000</td>\n",
       "      <td>0.0</td>\n",
       "      <td>0.0</td>\n",
       "      <td>1.0</td>\n",
       "      <td>1.0</td>\n",
       "      <td>1</td>\n",
       "      <td>0413</td>\n",
       "    </tr>\n",
       "    <tr>\n",
       "      <th>73</th>\n",
       "      <td>13700.0</td>\n",
       "      <td>15.0</td>\n",
       "      <td>3.049773</td>\n",
       "      <td>0.000000</td>\n",
       "      <td>3.560416e-05</td>\n",
       "      <td>0.000014</td>\n",
       "      <td>119696.312904</td>\n",
       "      <td>0.000000</td>\n",
       "      <td>6.812509e+08</td>\n",
       "      <td>-1.000000e+00</td>\n",
       "      <td>...</td>\n",
       "      <td>1.000000e-04</td>\n",
       "      <td>0.000000e+00</td>\n",
       "      <td>0.000000</td>\n",
       "      <td>-1.000000</td>\n",
       "      <td>0.0</td>\n",
       "      <td>0.0</td>\n",
       "      <td>1.0</td>\n",
       "      <td>1.0</td>\n",
       "      <td>1</td>\n",
       "      <td>0413</td>\n",
       "    </tr>\n",
       "    <tr>\n",
       "      <th>83</th>\n",
       "      <td>13700.0</td>\n",
       "      <td>11.0</td>\n",
       "      <td>0.834072</td>\n",
       "      <td>0.835101</td>\n",
       "      <td>5.267010e-07</td>\n",
       "      <td>0.009910</td>\n",
       "      <td>1569.031531</td>\n",
       "      <td>0.835101</td>\n",
       "      <td>1.129587e+04</td>\n",
       "      <td>1.455274e-06</td>\n",
       "      <td>...</td>\n",
       "      <td>1.555602e-06</td>\n",
       "      <td>2.149002e+05</td>\n",
       "      <td>17773.893375</td>\n",
       "      <td>0.416579</td>\n",
       "      <td>0.0</td>\n",
       "      <td>0.0</td>\n",
       "      <td>0.0</td>\n",
       "      <td>0.0</td>\n",
       "      <td>0</td>\n",
       "      <td>-001</td>\n",
       "    </tr>\n",
       "    <tr>\n",
       "      <th>148</th>\n",
       "      <td>13700.0</td>\n",
       "      <td>13.0</td>\n",
       "      <td>11.017151</td>\n",
       "      <td>1.329118</td>\n",
       "      <td>1.299599e-10</td>\n",
       "      <td>0.000014</td>\n",
       "      <td>5231.881577</td>\n",
       "      <td>1.329118</td>\n",
       "      <td>5.195469e+06</td>\n",
       "      <td>1.000000e-04</td>\n",
       "      <td>...</td>\n",
       "      <td>-1.000000e+00</td>\n",
       "      <td>0.000000e+00</td>\n",
       "      <td>0.000000</td>\n",
       "      <td>-1.000000</td>\n",
       "      <td>0.0</td>\n",
       "      <td>0.0</td>\n",
       "      <td>1.0</td>\n",
       "      <td>0.0</td>\n",
       "      <td>1</td>\n",
       "      <td>0201</td>\n",
       "    </tr>\n",
       "    <tr>\n",
       "      <th>...</th>\n",
       "      <td>...</td>\n",
       "      <td>...</td>\n",
       "      <td>...</td>\n",
       "      <td>...</td>\n",
       "      <td>...</td>\n",
       "      <td>...</td>\n",
       "      <td>...</td>\n",
       "      <td>...</td>\n",
       "      <td>...</td>\n",
       "      <td>...</td>\n",
       "      <td>...</td>\n",
       "      <td>...</td>\n",
       "      <td>...</td>\n",
       "      <td>...</td>\n",
       "      <td>...</td>\n",
       "      <td>...</td>\n",
       "      <td>...</td>\n",
       "      <td>...</td>\n",
       "      <td>...</td>\n",
       "      <td>...</td>\n",
       "      <td>...</td>\n",
       "    </tr>\n",
       "    <tr>\n",
       "      <th>949836</th>\n",
       "      <td>13700.0</td>\n",
       "      <td>11.0</td>\n",
       "      <td>1.108969</td>\n",
       "      <td>1.118350</td>\n",
       "      <td>6.028620e-07</td>\n",
       "      <td>0.006692</td>\n",
       "      <td>1974.865850</td>\n",
       "      <td>1.118350</td>\n",
       "      <td>8.130870e+05</td>\n",
       "      <td>9.392357e-07</td>\n",
       "      <td>...</td>\n",
       "      <td>1.073347e-06</td>\n",
       "      <td>1.985603e+05</td>\n",
       "      <td>18552.596515</td>\n",
       "      <td>0.413447</td>\n",
       "      <td>0.0</td>\n",
       "      <td>0.0</td>\n",
       "      <td>0.0</td>\n",
       "      <td>0.0</td>\n",
       "      <td>0</td>\n",
       "      <td>-001</td>\n",
       "    </tr>\n",
       "    <tr>\n",
       "      <th>949854</th>\n",
       "      <td>13700.0</td>\n",
       "      <td>12.0</td>\n",
       "      <td>1.207503</td>\n",
       "      <td>1.208532</td>\n",
       "      <td>6.503807e-07</td>\n",
       "      <td>0.004840</td>\n",
       "      <td>2366.667807</td>\n",
       "      <td>1.208532</td>\n",
       "      <td>2.057535e+07</td>\n",
       "      <td>7.491571e-05</td>\n",
       "      <td>...</td>\n",
       "      <td>9.710139e-05</td>\n",
       "      <td>1.646632e+02</td>\n",
       "      <td>167.619593</td>\n",
       "      <td>0.000000</td>\n",
       "      <td>0.0</td>\n",
       "      <td>0.0</td>\n",
       "      <td>0.0</td>\n",
       "      <td>0.0</td>\n",
       "      <td>0</td>\n",
       "      <td>-001</td>\n",
       "    </tr>\n",
       "    <tr>\n",
       "      <th>949933</th>\n",
       "      <td>13700.0</td>\n",
       "      <td>15.0</td>\n",
       "      <td>0.649103</td>\n",
       "      <td>0.000000</td>\n",
       "      <td>4.158951e-04</td>\n",
       "      <td>0.012133</td>\n",
       "      <td>7516.830378</td>\n",
       "      <td>0.649103</td>\n",
       "      <td>3.167160e+06</td>\n",
       "      <td>-1.000000e+00</td>\n",
       "      <td>...</td>\n",
       "      <td>1.000000e-04</td>\n",
       "      <td>0.000000e+00</td>\n",
       "      <td>0.000000</td>\n",
       "      <td>-1.000000</td>\n",
       "      <td>0.0</td>\n",
       "      <td>0.0</td>\n",
       "      <td>0.0</td>\n",
       "      <td>0.0</td>\n",
       "      <td>1</td>\n",
       "      <td>1111</td>\n",
       "    </tr>\n",
       "    <tr>\n",
       "      <th>949947</th>\n",
       "      <td>13700.0</td>\n",
       "      <td>15.0</td>\n",
       "      <td>0.751151</td>\n",
       "      <td>0.000000</td>\n",
       "      <td>7.990394e-04</td>\n",
       "      <td>0.009173</td>\n",
       "      <td>10177.668034</td>\n",
       "      <td>0.900439</td>\n",
       "      <td>1.734085e+07</td>\n",
       "      <td>-1.000000e+00</td>\n",
       "      <td>...</td>\n",
       "      <td>1.000000e-04</td>\n",
       "      <td>3.772939e-01</td>\n",
       "      <td>2.432073</td>\n",
       "      <td>-1.000000</td>\n",
       "      <td>0.0</td>\n",
       "      <td>0.0</td>\n",
       "      <td>0.0</td>\n",
       "      <td>0.0</td>\n",
       "      <td>0</td>\n",
       "      <td>-001</td>\n",
       "    </tr>\n",
       "    <tr>\n",
       "      <th>949952</th>\n",
       "      <td>13700.0</td>\n",
       "      <td>11.0</td>\n",
       "      <td>1.095099</td>\n",
       "      <td>1.124539</td>\n",
       "      <td>6.065998e-07</td>\n",
       "      <td>0.006618</td>\n",
       "      <td>1988.966017</td>\n",
       "      <td>1.124539</td>\n",
       "      <td>1.496291e+07</td>\n",
       "      <td>5.767119e-06</td>\n",
       "      <td>...</td>\n",
       "      <td>1.052013e-05</td>\n",
       "      <td>1.241796e+04</td>\n",
       "      <td>2806.762078</td>\n",
       "      <td>0.000008</td>\n",
       "      <td>0.0</td>\n",
       "      <td>0.0</td>\n",
       "      <td>0.0</td>\n",
       "      <td>0.0</td>\n",
       "      <td>0</td>\n",
       "      <td>-001</td>\n",
       "    </tr>\n",
       "  </tbody>\n",
       "</table>\n",
       "<p>23561 rows × 29 columns</p>\n",
       "</div>"
      ],
      "text/plain": [
       "           tphys  kstar_1    mass0_1    mass_1       lumin_1     rad_1  \\\n",
       "bin_num                                                                  \n",
       "57       13700.0     11.0   0.850687  0.850715  5.226267e-07  0.009733   \n",
       "61       13700.0     15.0   4.663995  0.000000  6.273263e-04  0.000014   \n",
       "73       13700.0     15.0   3.049773  0.000000  3.560416e-05  0.000014   \n",
       "83       13700.0     11.0   0.834072  0.835101  5.267010e-07  0.009910   \n",
       "148      13700.0     13.0  11.017151  1.329118  1.299599e-10  0.000014   \n",
       "...          ...      ...        ...       ...           ...       ...   \n",
       "949836   13700.0     11.0   1.108969  1.118350  6.028620e-07  0.006692   \n",
       "949854   13700.0     12.0   1.207503  1.208532  6.503807e-07  0.004840   \n",
       "949933   13700.0     15.0   0.649103  0.000000  4.158951e-04  0.012133   \n",
       "949947   13700.0     15.0   0.751151  0.000000  7.990394e-04  0.009173   \n",
       "949952   13700.0     11.0   1.095099  1.124539  6.065998e-07  0.006618   \n",
       "\n",
       "                teff_1   massc_1       ospin_1        RROL_1  ...  \\\n",
       "bin_num                                                       ...   \n",
       "57         1580.164683  0.850715  3.066312e+02  2.087588e-07  ...   \n",
       "61       245233.035262  0.000000  1.164740e+09 -1.000000e+00  ...   \n",
       "73       119696.312904  0.000000  6.812509e+08 -1.000000e+00  ...   \n",
       "83         1569.031531  0.835101  1.129587e+04  1.455274e-06  ...   \n",
       "148        5231.881577  1.329118  5.195469e+06  1.000000e-04  ...   \n",
       "...                ...       ...           ...           ...  ...   \n",
       "949836     1974.865850  1.118350  8.130870e+05  9.392357e-07  ...   \n",
       "949854     2366.667807  1.208532  2.057535e+07  7.491571e-05  ...   \n",
       "949933     7516.830378  0.649103  3.167160e+06 -1.000000e+00  ...   \n",
       "949947    10177.668034  0.900439  1.734085e+07 -1.000000e+00  ...   \n",
       "949952     1988.966017  1.124539  1.496291e+07  5.767119e-06  ...   \n",
       "\n",
       "               RROL_2          porb            sep       ecc  SNkick_1  \\\n",
       "bin_num                                                                  \n",
       "57       2.328023e-07  3.803115e+06  120856.222774  0.672393       0.0   \n",
       "61       1.000000e-04  0.000000e+00       0.000000 -1.000000       0.0   \n",
       "73       1.000000e-04  0.000000e+00       0.000000 -1.000000       0.0   \n",
       "83       1.555602e-06  2.149002e+05   17773.893375  0.416579       0.0   \n",
       "148     -1.000000e+00  0.000000e+00       0.000000 -1.000000       0.0   \n",
       "...               ...           ...            ...       ...       ...   \n",
       "949836   1.073347e-06  1.985603e+05   18552.596515  0.413447       0.0   \n",
       "949854   9.710139e-05  1.646632e+02     167.619593  0.000000       0.0   \n",
       "949933   1.000000e-04  0.000000e+00       0.000000 -1.000000       0.0   \n",
       "949947   1.000000e-04  3.772939e-01       2.432073 -1.000000       0.0   \n",
       "949952   1.052013e-05  1.241796e+04    2806.762078  0.000008       0.0   \n",
       "\n",
       "         SNkick_2  SN_1  SN_2  bin_state  merger_type  \n",
       "bin_num                                                \n",
       "57            0.0   0.0   0.0          0         -001  \n",
       "61            0.0   1.0   1.0          1         0413  \n",
       "73            0.0   1.0   1.0          1         0413  \n",
       "83            0.0   0.0   0.0          0         -001  \n",
       "148           0.0   1.0   0.0          1         0201  \n",
       "...           ...   ...   ...        ...          ...  \n",
       "949836        0.0   0.0   0.0          0         -001  \n",
       "949854        0.0   0.0   0.0          0         -001  \n",
       "949933        0.0   0.0   0.0          1         1111  \n",
       "949947        0.0   0.0   0.0          0         -001  \n",
       "949952        0.0   0.0   0.0          0         -001  \n",
       "\n",
       "[23561 rows x 29 columns]"
      ]
     },
     "execution_count": 16,
     "metadata": {},
     "output_type": "execute_result"
    }
   ],
   "source": [
    "binaries_bcm "
   ]
  },
  {
   "cell_type": "code",
   "execution_count": 17,
   "metadata": {},
   "outputs": [
    {
     "data": {
      "text/plain": [
       "array([2.32802302e-07, 1.00000000e-04, 1.00000000e-04, ...,\n",
       "       1.00000000e-04, 1.00000000e-04, 1.05201319e-05])"
      ]
     },
     "execution_count": 17,
     "metadata": {},
     "output_type": "execute_result"
    }
   ],
   "source": [
    "# this is how you would look at all the values from 'RROL_2'\n",
    "binaries_bcm['RROL_2'].values"
   ]
  },
  {
   "cell_type": "markdown",
   "metadata": {},
   "source": [
    "### Using **binaries_initCond** and **binaries_bcm** we can see the initial and final snapshot of each binary. "
   ]
  },
  {
   "cell_type": "markdown",
   "metadata": {},
   "source": [
    "### 2a) Using binaries_initCond find the total mass in stellar objects in the initial conditions\n",
    "for binaries_initCond you will want to use the columns mass0_1 and mass0_2\n",
    "\n",
    "you can use np.sum() to sum up all the values\n",
    "\n",
    "### 2b) Go on Slack and fill out the 3th poll. It asks how much initial mass you found. What are the units?\n",
    "\n",
    "### 2c) Using binaries_bcm find the total mass in stellar object in the final conditions\n",
    "for binaries_bcm you will want to use the columns mass_1 and mass_2"
   ]
  },
  {
   "cell_type": "markdown",
   "metadata": {},
   "source": [
    "You can put each index value in an array by doing the following"
   ]
  },
  {
   "cell_type": "code",
   "execution_count": 18,
   "metadata": {},
   "outputs": [
    {
     "name": "stdout",
     "output_type": "stream",
     "text": [
      "207311.07330794935\n"
     ]
    }
   ],
   "source": [
    "mass1_initial_total = np.sum(binaries_initCond['mass0_1'].values)\n",
    "mass2_initial_total = np.sum(binaries_initCond['mass0_2'].values)\n",
    "\n",
    "total_initial_mass = mass1_initial_total+mass2_initial_total\n",
    "print(total_initial_mass)"
   ]
  },
  {
   "cell_type": "code",
   "execution_count": 19,
   "metadata": {},
   "outputs": [
    {
     "name": "stdout",
     "output_type": "stream",
     "text": [
      "60543.33985742093\n"
     ]
    }
   ],
   "source": [
    "mass1_final_total = np.sum(binaries_bcm['mass_1'].values)\n",
    "mass2_final_total = np.sum(binaries_bcm['mass_2'].values)\n",
    "\n",
    "total_final_mass = mass1_final_total+mass2_final_total\n",
    "print(total_final_mass)"
   ]
  },
  {
   "cell_type": "markdown",
   "metadata": {},
   "source": [
    "### 2d. Find the ratio of final mass in all binaries to the initial mass.\n",
    "This gives you the fraction of mass that is remaining. It should be less than one. \n"
   ]
  },
  {
   "cell_type": "code",
   "execution_count": 20,
   "metadata": {},
   "outputs": [
    {
     "name": "stdout",
     "output_type": "stream",
     "text": [
      "0.2920410323064947\n"
     ]
    }
   ],
   "source": [
    "frac_lost = total_final_mass/total_initial_mass\n",
    "print(frac_lost)"
   ]
  },
  {
   "cell_type": "markdown",
   "metadata": {},
   "source": [
    "### 2e  Go on Slack and fill out the poll asking what you got for the fraction. \n",
    "\n",
    "### 2f Fill out the poll requesting ideas about how the mass was ejected."
   ]
  },
  {
   "cell_type": "markdown",
   "metadata": {},
   "source": [
    "## Lets look at specific rows in binaries_bcm\n",
    "\n",
    "How do we access the same binary in binaries_initCond and binaries_bcm?"
   ]
  },
  {
   "cell_type": "markdown",
   "metadata": {},
   "source": [
    "Each binary has its own unique number. In this data frame the unique number is its index value (the first column called bin_num). Run this cell to see"
   ]
  },
  {
   "cell_type": "code",
   "execution_count": 21,
   "metadata": {},
   "outputs": [
    {
     "data": {
      "text/html": [
       "<div>\n",
       "<style scoped>\n",
       "    .dataframe tbody tr th:only-of-type {\n",
       "        vertical-align: middle;\n",
       "    }\n",
       "\n",
       "    .dataframe tbody tr th {\n",
       "        vertical-align: top;\n",
       "    }\n",
       "\n",
       "    .dataframe thead th {\n",
       "        text-align: right;\n",
       "    }\n",
       "</style>\n",
       "<table border=\"1\" class=\"dataframe\">\n",
       "  <thead>\n",
       "    <tr style=\"text-align: right;\">\n",
       "      <th></th>\n",
       "      <th>tphys</th>\n",
       "      <th>kstar_1</th>\n",
       "      <th>mass0_1</th>\n",
       "      <th>mass_1</th>\n",
       "      <th>lumin_1</th>\n",
       "      <th>rad_1</th>\n",
       "      <th>teff_1</th>\n",
       "      <th>massc_1</th>\n",
       "      <th>ospin_1</th>\n",
       "      <th>RROL_1</th>\n",
       "      <th>...</th>\n",
       "      <th>RROL_2</th>\n",
       "      <th>porb</th>\n",
       "      <th>sep</th>\n",
       "      <th>ecc</th>\n",
       "      <th>SNkick_1</th>\n",
       "      <th>SNkick_2</th>\n",
       "      <th>SN_1</th>\n",
       "      <th>SN_2</th>\n",
       "      <th>bin_state</th>\n",
       "      <th>merger_type</th>\n",
       "    </tr>\n",
       "    <tr>\n",
       "      <th>bin_num</th>\n",
       "      <th></th>\n",
       "      <th></th>\n",
       "      <th></th>\n",
       "      <th></th>\n",
       "      <th></th>\n",
       "      <th></th>\n",
       "      <th></th>\n",
       "      <th></th>\n",
       "      <th></th>\n",
       "      <th></th>\n",
       "      <th></th>\n",
       "      <th></th>\n",
       "      <th></th>\n",
       "      <th></th>\n",
       "      <th></th>\n",
       "      <th></th>\n",
       "      <th></th>\n",
       "      <th></th>\n",
       "      <th></th>\n",
       "      <th></th>\n",
       "      <th></th>\n",
       "    </tr>\n",
       "  </thead>\n",
       "  <tbody>\n",
       "    <tr>\n",
       "      <th>57</th>\n",
       "      <td>13700.0</td>\n",
       "      <td>11.0</td>\n",
       "      <td>0.850687</td>\n",
       "      <td>0.850715</td>\n",
       "      <td>5.226267e-07</td>\n",
       "      <td>0.009733</td>\n",
       "      <td>1580.164683</td>\n",
       "      <td>0.850715</td>\n",
       "      <td>3.066312e+02</td>\n",
       "      <td>2.087588e-07</td>\n",
       "      <td>...</td>\n",
       "      <td>2.328023e-07</td>\n",
       "      <td>3.803115e+06</td>\n",
       "      <td>120856.222774</td>\n",
       "      <td>0.672393</td>\n",
       "      <td>0.0</td>\n",
       "      <td>0.0</td>\n",
       "      <td>0.0</td>\n",
       "      <td>0.0</td>\n",
       "      <td>0</td>\n",
       "      <td>-001</td>\n",
       "    </tr>\n",
       "    <tr>\n",
       "      <th>61</th>\n",
       "      <td>13700.0</td>\n",
       "      <td>15.0</td>\n",
       "      <td>4.663995</td>\n",
       "      <td>0.000000</td>\n",
       "      <td>6.273263e-04</td>\n",
       "      <td>0.000014</td>\n",
       "      <td>245233.035262</td>\n",
       "      <td>0.000000</td>\n",
       "      <td>1.164740e+09</td>\n",
       "      <td>-1.000000e+00</td>\n",
       "      <td>...</td>\n",
       "      <td>1.000000e-04</td>\n",
       "      <td>0.000000e+00</td>\n",
       "      <td>0.000000</td>\n",
       "      <td>-1.000000</td>\n",
       "      <td>0.0</td>\n",
       "      <td>0.0</td>\n",
       "      <td>1.0</td>\n",
       "      <td>1.0</td>\n",
       "      <td>1</td>\n",
       "      <td>0413</td>\n",
       "    </tr>\n",
       "    <tr>\n",
       "      <th>73</th>\n",
       "      <td>13700.0</td>\n",
       "      <td>15.0</td>\n",
       "      <td>3.049773</td>\n",
       "      <td>0.000000</td>\n",
       "      <td>3.560416e-05</td>\n",
       "      <td>0.000014</td>\n",
       "      <td>119696.312904</td>\n",
       "      <td>0.000000</td>\n",
       "      <td>6.812509e+08</td>\n",
       "      <td>-1.000000e+00</td>\n",
       "      <td>...</td>\n",
       "      <td>1.000000e-04</td>\n",
       "      <td>0.000000e+00</td>\n",
       "      <td>0.000000</td>\n",
       "      <td>-1.000000</td>\n",
       "      <td>0.0</td>\n",
       "      <td>0.0</td>\n",
       "      <td>1.0</td>\n",
       "      <td>1.0</td>\n",
       "      <td>1</td>\n",
       "      <td>0413</td>\n",
       "    </tr>\n",
       "    <tr>\n",
       "      <th>83</th>\n",
       "      <td>13700.0</td>\n",
       "      <td>11.0</td>\n",
       "      <td>0.834072</td>\n",
       "      <td>0.835101</td>\n",
       "      <td>5.267010e-07</td>\n",
       "      <td>0.009910</td>\n",
       "      <td>1569.031531</td>\n",
       "      <td>0.835101</td>\n",
       "      <td>1.129587e+04</td>\n",
       "      <td>1.455274e-06</td>\n",
       "      <td>...</td>\n",
       "      <td>1.555602e-06</td>\n",
       "      <td>2.149002e+05</td>\n",
       "      <td>17773.893375</td>\n",
       "      <td>0.416579</td>\n",
       "      <td>0.0</td>\n",
       "      <td>0.0</td>\n",
       "      <td>0.0</td>\n",
       "      <td>0.0</td>\n",
       "      <td>0</td>\n",
       "      <td>-001</td>\n",
       "    </tr>\n",
       "    <tr>\n",
       "      <th>148</th>\n",
       "      <td>13700.0</td>\n",
       "      <td>13.0</td>\n",
       "      <td>11.017151</td>\n",
       "      <td>1.329118</td>\n",
       "      <td>1.299599e-10</td>\n",
       "      <td>0.000014</td>\n",
       "      <td>5231.881577</td>\n",
       "      <td>1.329118</td>\n",
       "      <td>5.195469e+06</td>\n",
       "      <td>1.000000e-04</td>\n",
       "      <td>...</td>\n",
       "      <td>-1.000000e+00</td>\n",
       "      <td>0.000000e+00</td>\n",
       "      <td>0.000000</td>\n",
       "      <td>-1.000000</td>\n",
       "      <td>0.0</td>\n",
       "      <td>0.0</td>\n",
       "      <td>1.0</td>\n",
       "      <td>0.0</td>\n",
       "      <td>1</td>\n",
       "      <td>0201</td>\n",
       "    </tr>\n",
       "    <tr>\n",
       "      <th>...</th>\n",
       "      <td>...</td>\n",
       "      <td>...</td>\n",
       "      <td>...</td>\n",
       "      <td>...</td>\n",
       "      <td>...</td>\n",
       "      <td>...</td>\n",
       "      <td>...</td>\n",
       "      <td>...</td>\n",
       "      <td>...</td>\n",
       "      <td>...</td>\n",
       "      <td>...</td>\n",
       "      <td>...</td>\n",
       "      <td>...</td>\n",
       "      <td>...</td>\n",
       "      <td>...</td>\n",
       "      <td>...</td>\n",
       "      <td>...</td>\n",
       "      <td>...</td>\n",
       "      <td>...</td>\n",
       "      <td>...</td>\n",
       "      <td>...</td>\n",
       "    </tr>\n",
       "    <tr>\n",
       "      <th>949836</th>\n",
       "      <td>13700.0</td>\n",
       "      <td>11.0</td>\n",
       "      <td>1.108969</td>\n",
       "      <td>1.118350</td>\n",
       "      <td>6.028620e-07</td>\n",
       "      <td>0.006692</td>\n",
       "      <td>1974.865850</td>\n",
       "      <td>1.118350</td>\n",
       "      <td>8.130870e+05</td>\n",
       "      <td>9.392357e-07</td>\n",
       "      <td>...</td>\n",
       "      <td>1.073347e-06</td>\n",
       "      <td>1.985603e+05</td>\n",
       "      <td>18552.596515</td>\n",
       "      <td>0.413447</td>\n",
       "      <td>0.0</td>\n",
       "      <td>0.0</td>\n",
       "      <td>0.0</td>\n",
       "      <td>0.0</td>\n",
       "      <td>0</td>\n",
       "      <td>-001</td>\n",
       "    </tr>\n",
       "    <tr>\n",
       "      <th>949854</th>\n",
       "      <td>13700.0</td>\n",
       "      <td>12.0</td>\n",
       "      <td>1.207503</td>\n",
       "      <td>1.208532</td>\n",
       "      <td>6.503807e-07</td>\n",
       "      <td>0.004840</td>\n",
       "      <td>2366.667807</td>\n",
       "      <td>1.208532</td>\n",
       "      <td>2.057535e+07</td>\n",
       "      <td>7.491571e-05</td>\n",
       "      <td>...</td>\n",
       "      <td>9.710139e-05</td>\n",
       "      <td>1.646632e+02</td>\n",
       "      <td>167.619593</td>\n",
       "      <td>0.000000</td>\n",
       "      <td>0.0</td>\n",
       "      <td>0.0</td>\n",
       "      <td>0.0</td>\n",
       "      <td>0.0</td>\n",
       "      <td>0</td>\n",
       "      <td>-001</td>\n",
       "    </tr>\n",
       "    <tr>\n",
       "      <th>949933</th>\n",
       "      <td>13700.0</td>\n",
       "      <td>15.0</td>\n",
       "      <td>0.649103</td>\n",
       "      <td>0.000000</td>\n",
       "      <td>4.158951e-04</td>\n",
       "      <td>0.012133</td>\n",
       "      <td>7516.830378</td>\n",
       "      <td>0.649103</td>\n",
       "      <td>3.167160e+06</td>\n",
       "      <td>-1.000000e+00</td>\n",
       "      <td>...</td>\n",
       "      <td>1.000000e-04</td>\n",
       "      <td>0.000000e+00</td>\n",
       "      <td>0.000000</td>\n",
       "      <td>-1.000000</td>\n",
       "      <td>0.0</td>\n",
       "      <td>0.0</td>\n",
       "      <td>0.0</td>\n",
       "      <td>0.0</td>\n",
       "      <td>1</td>\n",
       "      <td>1111</td>\n",
       "    </tr>\n",
       "    <tr>\n",
       "      <th>949947</th>\n",
       "      <td>13700.0</td>\n",
       "      <td>15.0</td>\n",
       "      <td>0.751151</td>\n",
       "      <td>0.000000</td>\n",
       "      <td>7.990394e-04</td>\n",
       "      <td>0.009173</td>\n",
       "      <td>10177.668034</td>\n",
       "      <td>0.900439</td>\n",
       "      <td>1.734085e+07</td>\n",
       "      <td>-1.000000e+00</td>\n",
       "      <td>...</td>\n",
       "      <td>1.000000e-04</td>\n",
       "      <td>3.772939e-01</td>\n",
       "      <td>2.432073</td>\n",
       "      <td>-1.000000</td>\n",
       "      <td>0.0</td>\n",
       "      <td>0.0</td>\n",
       "      <td>0.0</td>\n",
       "      <td>0.0</td>\n",
       "      <td>0</td>\n",
       "      <td>-001</td>\n",
       "    </tr>\n",
       "    <tr>\n",
       "      <th>949952</th>\n",
       "      <td>13700.0</td>\n",
       "      <td>11.0</td>\n",
       "      <td>1.095099</td>\n",
       "      <td>1.124539</td>\n",
       "      <td>6.065998e-07</td>\n",
       "      <td>0.006618</td>\n",
       "      <td>1988.966017</td>\n",
       "      <td>1.124539</td>\n",
       "      <td>1.496291e+07</td>\n",
       "      <td>5.767119e-06</td>\n",
       "      <td>...</td>\n",
       "      <td>1.052013e-05</td>\n",
       "      <td>1.241796e+04</td>\n",
       "      <td>2806.762078</td>\n",
       "      <td>0.000008</td>\n",
       "      <td>0.0</td>\n",
       "      <td>0.0</td>\n",
       "      <td>0.0</td>\n",
       "      <td>0.0</td>\n",
       "      <td>0</td>\n",
       "      <td>-001</td>\n",
       "    </tr>\n",
       "  </tbody>\n",
       "</table>\n",
       "<p>23561 rows × 29 columns</p>\n",
       "</div>"
      ],
      "text/plain": [
       "           tphys  kstar_1    mass0_1    mass_1       lumin_1     rad_1  \\\n",
       "bin_num                                                                  \n",
       "57       13700.0     11.0   0.850687  0.850715  5.226267e-07  0.009733   \n",
       "61       13700.0     15.0   4.663995  0.000000  6.273263e-04  0.000014   \n",
       "73       13700.0     15.0   3.049773  0.000000  3.560416e-05  0.000014   \n",
       "83       13700.0     11.0   0.834072  0.835101  5.267010e-07  0.009910   \n",
       "148      13700.0     13.0  11.017151  1.329118  1.299599e-10  0.000014   \n",
       "...          ...      ...        ...       ...           ...       ...   \n",
       "949836   13700.0     11.0   1.108969  1.118350  6.028620e-07  0.006692   \n",
       "949854   13700.0     12.0   1.207503  1.208532  6.503807e-07  0.004840   \n",
       "949933   13700.0     15.0   0.649103  0.000000  4.158951e-04  0.012133   \n",
       "949947   13700.0     15.0   0.751151  0.000000  7.990394e-04  0.009173   \n",
       "949952   13700.0     11.0   1.095099  1.124539  6.065998e-07  0.006618   \n",
       "\n",
       "                teff_1   massc_1       ospin_1        RROL_1  ...  \\\n",
       "bin_num                                                       ...   \n",
       "57         1580.164683  0.850715  3.066312e+02  2.087588e-07  ...   \n",
       "61       245233.035262  0.000000  1.164740e+09 -1.000000e+00  ...   \n",
       "73       119696.312904  0.000000  6.812509e+08 -1.000000e+00  ...   \n",
       "83         1569.031531  0.835101  1.129587e+04  1.455274e-06  ...   \n",
       "148        5231.881577  1.329118  5.195469e+06  1.000000e-04  ...   \n",
       "...                ...       ...           ...           ...  ...   \n",
       "949836     1974.865850  1.118350  8.130870e+05  9.392357e-07  ...   \n",
       "949854     2366.667807  1.208532  2.057535e+07  7.491571e-05  ...   \n",
       "949933     7516.830378  0.649103  3.167160e+06 -1.000000e+00  ...   \n",
       "949947    10177.668034  0.900439  1.734085e+07 -1.000000e+00  ...   \n",
       "949952     1988.966017  1.124539  1.496291e+07  5.767119e-06  ...   \n",
       "\n",
       "               RROL_2          porb            sep       ecc  SNkick_1  \\\n",
       "bin_num                                                                  \n",
       "57       2.328023e-07  3.803115e+06  120856.222774  0.672393       0.0   \n",
       "61       1.000000e-04  0.000000e+00       0.000000 -1.000000       0.0   \n",
       "73       1.000000e-04  0.000000e+00       0.000000 -1.000000       0.0   \n",
       "83       1.555602e-06  2.149002e+05   17773.893375  0.416579       0.0   \n",
       "148     -1.000000e+00  0.000000e+00       0.000000 -1.000000       0.0   \n",
       "...               ...           ...            ...       ...       ...   \n",
       "949836   1.073347e-06  1.985603e+05   18552.596515  0.413447       0.0   \n",
       "949854   9.710139e-05  1.646632e+02     167.619593  0.000000       0.0   \n",
       "949933   1.000000e-04  0.000000e+00       0.000000 -1.000000       0.0   \n",
       "949947   1.000000e-04  3.772939e-01       2.432073 -1.000000       0.0   \n",
       "949952   1.052013e-05  1.241796e+04    2806.762078  0.000008       0.0   \n",
       "\n",
       "         SNkick_2  SN_1  SN_2  bin_state  merger_type  \n",
       "bin_num                                                \n",
       "57            0.0   0.0   0.0          0         -001  \n",
       "61            0.0   1.0   1.0          1         0413  \n",
       "73            0.0   1.0   1.0          1         0413  \n",
       "83            0.0   0.0   0.0          0         -001  \n",
       "148           0.0   1.0   0.0          1         0201  \n",
       "...           ...   ...   ...        ...          ...  \n",
       "949836        0.0   0.0   0.0          0         -001  \n",
       "949854        0.0   0.0   0.0          0         -001  \n",
       "949933        0.0   0.0   0.0          1         1111  \n",
       "949947        0.0   0.0   0.0          0         -001  \n",
       "949952        0.0   0.0   0.0          0         -001  \n",
       "\n",
       "[23561 rows x 29 columns]"
      ]
     },
     "execution_count": 21,
     "metadata": {},
     "output_type": "execute_result"
    }
   ],
   "source": [
    "binaries_bcm"
   ]
  },
  {
   "cell_type": "code",
   "execution_count": 22,
   "metadata": {},
   "outputs": [
    {
     "data": {
      "text/plain": [
       "array([    57,     61,     73, ..., 949933, 949947, 949952])"
      ]
     },
     "execution_count": 22,
     "metadata": {},
     "output_type": "execute_result"
    }
   ],
   "source": [
    "# binaries_bcm.index gives you the numbers, adding .values at the end puts it in to an array\n",
    "# binaries_bcm.index.values\n",
    "\n",
    "binary_index_vals = binaries_bcm.index.values\n",
    "binary_index_vals"
   ]
  },
  {
   "cell_type": "code",
   "execution_count": 23,
   "metadata": {},
   "outputs": [
    {
     "name": "stdout",
     "output_type": "stream",
     "text": [
      "0th element 57\n",
      "1st element 61\n"
     ]
    }
   ],
   "source": [
    "# you can access the elements in the array by doing:\n",
    "\n",
    "print('0th element', binary_index_vals[0])\n",
    "print('1st element', binary_index_vals[1])"
   ]
  },
  {
   "cell_type": "markdown",
   "metadata": {},
   "source": [
    "## If you have the row's index number (binary_index_vals = binaries_bcm.index.values) you use .loc to access the data for that index"
   ]
  },
  {
   "cell_type": "code",
   "execution_count": 24,
   "metadata": {},
   "outputs": [
    {
     "name": "stdout",
     "output_type": "stream",
     "text": [
      "tphys                13700\n",
      "kstar_1                 11\n",
      "mass0_1           0.850687\n",
      "mass_1            0.850715\n",
      "lumin_1        5.22627e-07\n",
      "rad_1           0.00973263\n",
      "teff_1             1580.16\n",
      "massc_1           0.850715\n",
      "ospin_1            306.631\n",
      "RROL_1         2.08759e-07\n",
      "kstar_2                 11\n",
      "mass0_2           0.786266\n",
      "mass_2            0.786266\n",
      "lumin_2        5.96837e-07\n",
      "rad_2            0.0104698\n",
      "teff_2             1574.94\n",
      "massc_2           0.786266\n",
      "epoch_2            3077.56\n",
      "ospin_2        5.52499e-06\n",
      "RROL_2         2.32802e-07\n",
      "porb           3.80312e+06\n",
      "sep                 120856\n",
      "ecc               0.672393\n",
      "SNkick_1                 0\n",
      "SNkick_2                 0\n",
      "SN_1                     0\n",
      "SN_2                     0\n",
      "bin_state                0\n",
      "merger_type           -001\n",
      "Name: 57, dtype: object\n"
     ]
    }
   ],
   "source": [
    "print(binaries_bcm.loc[binary_index_vals[0]])\n",
    "\n",
    "# remember binary_index_vals[0] will give you the unique binary values"
   ]
  },
  {
   "cell_type": "markdown",
   "metadata": {},
   "source": [
    "Lets look at the final and initial values for one binary"
   ]
  },
  {
   "cell_type": "code",
   "execution_count": 25,
   "metadata": {},
   "outputs": [
    {
     "name": "stdout",
     "output_type": "stream",
     "text": [
      "Looking at initial conditions:\n",
      "kstar_1            1.000000\n",
      "kstar_2            1.000000\n",
      "porb              28.265150\n",
      "ecc                0.221538\n",
      "metallicity        0.000100\n",
      "binfrac            0.842596\n",
      "tphysf         13700.000000\n",
      "mass0_1            9.186827\n",
      "mass0_2            3.766896\n",
      "rad1               0.000000\n",
      "rad2               0.000000\n",
      "lumin1             0.000000\n",
      "lumin2             0.000000\n",
      "massc1             0.000000\n",
      "massc2             0.000000\n",
      "radc1              0.000000\n",
      "radc2              0.000000\n",
      "menv1              0.000000\n",
      "menv2              0.000000\n",
      "renv1              0.000000\n",
      "renv2              0.000000\n",
      "ospin1             0.000000\n",
      "ospin2             0.000000\n",
      "Name: 73, dtype: float64 \n",
      "\n",
      "Looking at final conditions:\n",
      "tphys                13700\n",
      "kstar_1                 15\n",
      "mass0_1            3.04977\n",
      "mass_1                   0\n",
      "lumin_1        3.56042e-05\n",
      "rad_1              1.4e-05\n",
      "teff_1              119696\n",
      "massc_1                  0\n",
      "ospin_1        6.81251e+08\n",
      "RROL_1                  -1\n",
      "kstar_2                 13\n",
      "mass0_2             9.8995\n",
      "mass_2             1.27753\n",
      "lumin_2        1.26631e-10\n",
      "rad_2              1.4e-05\n",
      "teff_2             5198.05\n",
      "massc_2            1.27753\n",
      "epoch_2            57.9366\n",
      "ospin_2          4.205e+07\n",
      "RROL_2              0.0001\n",
      "porb                     0\n",
      "sep                      0\n",
      "ecc                     -1\n",
      "SNkick_1                 0\n",
      "SNkick_2                 0\n",
      "SN_1                     1\n",
      "SN_2                     1\n",
      "bin_state                1\n",
      "merger_type           0413\n",
      "Name: 73, dtype: object\n"
     ]
    }
   ],
   "source": [
    "print('Looking at initial conditions:')\n",
    "print(binaries_initCond.loc[binary_index_vals[2]],'\\n')\n",
    "\n",
    "\n",
    "print('Looking at final conditions:')\n",
    "print(binaries_bcm.loc[binary_index_vals[2]])\n",
    "\n",
    "# you might get some weird output for the binaries_initCond. This is because I am using an older version of COSMIC\n",
    "# and the developed probably fixed that in the newer version"
   ]
  },
  {
   "cell_type": "markdown",
   "metadata": {},
   "source": [
    "## IMPORTANT: look before moving on\n",
    "\n"
   ]
  },
  {
   "cell_type": "markdown",
   "metadata": {},
   "source": [
    "So far you have looked at entire columns in the data but what if you only want one row in one column?\n",
    "\n",
    ".iloc and .loc are used for that **BUT** .iloc and .loc are very different.\n",
    "\n",
    ".iloc doesn't care about the index (in this case the unique bin_num) of the row. It only cares about the position of the row in the data, similar to how you access a normal array. Use this when you want to call data as if it were in an array\n",
    "\n",
    ".loc is used with the row index (in this case the unique bin_num). \n",
    "\n",
    "make sure you understand this before moving on!\n",
    "\n",
    "There are different ways to access specific rows in your columns. These are the ways it makes the most sense to me:"
   ]
  },
  {
   "cell_type": "code",
   "execution_count": 26,
   "metadata": {},
   "outputs": [
    {
     "name": "stdout",
     "output_type": "stream",
     "text": [
      "Entire column:\n",
      "bin_num\n",
      "57        0.009733\n",
      "61        0.000014\n",
      "73        0.000014\n",
      "83        0.009910\n",
      "148       0.000014\n",
      "            ...   \n",
      "949836    0.006692\n",
      "949854    0.004840\n",
      "949933    0.012133\n",
      "949947    0.009173\n",
      "949952    0.006618\n",
      "Name: rad_1, Length: 23561, dtype: float64\n",
      " -----------\n",
      "Just first row with .loc\n",
      "index value =  57\n",
      "0.009732631872969551\n",
      " -----------\n",
      "Just first row with .iloc\n",
      "0.009732631872969551\n"
     ]
    }
   ],
   "source": [
    "# here I look at the column named rad_1\n",
    "print('Entire column:')\n",
    "print(binaries_bcm['rad_1'])\n",
    "\n",
    "# putting the unique index/bin_num values in an array\n",
    "binary_index_vals = binaries_bcm.index.values\n",
    "\n",
    "# here I look at the column rad_1 but only the first row.\n",
    "# to access the first row with loc we use the row's index value: index value = binary_index_vals[0]\n",
    "# remember, since we are using the index values we have to use loc, not iloc\n",
    "print(' -----------')\n",
    "print('Just first row with .loc')\n",
    "index_value = binary_index_vals[0]\n",
    "print('index value = ', index_value)\n",
    "print(binaries_bcm['rad_1'].loc[index_value])\n",
    "\n",
    "\n",
    "# to access the first row with iloc we can access it like a numpy array\n",
    "print(' -----------')\n",
    "print('Just first row with .iloc')\n",
    "i_value = 0\n",
    "print(binaries_bcm['rad_1'].iloc[i_value])"
   ]
  },
  {
   "cell_type": "markdown",
   "metadata": {},
   "source": [
    "### Another important note:\n",
    "\n",
    "Think carefully when you want to use .iloc or .loc.\n",
    "\n",
    "If you are just looking in one data frame then .iloc is probably fine.\n",
    "\n",
    "If you want to access the same binary in the datafram binaries_bcm and binaries_initCond it is better to use .loc. You can use .iloc BUT are you sure that .iloc[0] will give you the same binary every time? It is much more safe to use .loc because you know that the index values are unique to each binary."
   ]
  },
  {
   "cell_type": "markdown",
   "metadata": {},
   "source": [
    "# 3. Mass in black holes"
   ]
  },
  {
   "cell_type": "markdown",
   "metadata": {},
   "source": [
    "The point of this section is to get more comfortable with the accessing the data. \n",
    "\n",
    "### 3a) Use binaries_bcm to find the total mass in the last snapshot that is only in black holes.\n",
    "\n",
    "Tip: You can do this using a for loop but it can be done MUCH faster if you use something like np.where()\n",
    "Look at this stack overflow link on np.where https://stackoverflow.com/questions/34667282/numpy-where-detailed-step-by-step-explanation-examples"
   ]
  },
  {
   "cell_type": "markdown",
   "metadata": {},
   "source": [
    "You can find which objects are black holes using the \"kstar_1\" and \"kstar_2\" columns. Here is what the numbers represent. \n",
    "\n",
    "https://cosmic-popsynth.github.io/docs/v3.2.0/output_info/index.html\n"
   ]
  },
  {
   "cell_type": "code",
   "execution_count": 27,
   "metadata": {},
   "outputs": [
    {
     "name": "stdout",
     "output_type": "stream",
     "text": [
      "a = [0 1 2 3 4 5 6 7 8 9] \n",
      "\n",
      "I want to find the indicies where this condition is met a<5.\n",
      "a<5 = [ True  True  True  True  True False False False False False] \n",
      "\n",
      "Using np.where like this will give you the indicies where the condition is met\n",
      "np.where(a<5)[0] =  [0 1 2 3 4] \n",
      "\n",
      "Now I can go back to my array \"a\" and call those elements\n",
      "[0 1 2 3 4]\n"
     ]
    }
   ],
   "source": [
    "# here is a mini tutorial if you are stuck using np.where\n",
    "\n",
    "\n",
    "a = np.arange(0,10)\n",
    "print('a =', a, '\\n')\n",
    "\n",
    "print('I want to find the indicies where this condition is met a<5.')\n",
    "print('a<5 =', a<5, '\\n')\n",
    "\n",
    "print('Using np.where like this will give you the indicies where the condition is met')\n",
    "where_true = np.where(a<5)[0]\n",
    "print('np.where(a<5)[0] = ', where_true, '\\n')\n",
    "\n",
    "print('Now I can go back to my array \"a\" and call those elements')\n",
    "print(a[where_true])\n"
   ]
  },
  {
   "cell_type": "code",
   "execution_count": 28,
   "metadata": {},
   "outputs": [],
   "source": [
    "kstar1_bh = np.where( binaries_bcm['kstar_1'] == 14)[0] # to use with iloc\n",
    "kstar2_bh = np.where( binaries_bcm['kstar_2'] == 14)[0] # to use with iloc"
   ]
  },
  {
   "cell_type": "code",
   "execution_count": 29,
   "metadata": {},
   "outputs": [],
   "source": [
    "mass_bh_1 = np.sum(binaries_bcm['mass_1'].iloc[kstar1_bh].values)\n",
    "mass_bh_2 = np.sum(binaries_bcm['mass_2'].iloc[kstar2_bh].values)"
   ]
  },
  {
   "cell_type": "code",
   "execution_count": 30,
   "metadata": {},
   "outputs": [
    {
     "name": "stdout",
     "output_type": "stream",
     "text": [
      "27381.067755310098\n"
     ]
    }
   ],
   "source": [
    "total_mass_bh = mass_bh_1 + mass_bh_2\n",
    "print(total_mass_bh)"
   ]
  },
  {
   "cell_type": "markdown",
   "metadata": {},
   "source": [
    "### 3b What is the fraction of BH mass at the end of simulation to the total mass at the end of the simulation?"
   ]
  },
  {
   "cell_type": "code",
   "execution_count": 31,
   "metadata": {},
   "outputs": [
    {
     "name": "stdout",
     "output_type": "stream",
     "text": [
      "0.4522556538802169\n"
     ]
    }
   ],
   "source": [
    "frac_bh = total_mass_bh/total_final_mass\n",
    "print(frac_bh)"
   ]
  },
  {
   "cell_type": "markdown",
   "metadata": {},
   "source": [
    "### 3c) Go to Slack and answer the poll asking what fraction you got."
   ]
  },
  {
   "cell_type": "code",
   "execution_count": null,
   "metadata": {},
   "outputs": [],
   "source": []
  },
  {
   "cell_type": "code",
   "execution_count": null,
   "metadata": {},
   "outputs": [],
   "source": []
  },
  {
   "cell_type": "markdown",
   "metadata": {},
   "source": [
    "# 4. A look at the bpp\n",
    "\n",
    "\n",
    "### We need to learn how to use binaries_bpp\n",
    "\n",
    "binaries_bcm and binaries_iniCond have just one row for each binary. \n",
    "\n",
    "binaries_bpp contains multiple rows for each binary. Every row is a different time and represents a key evolutionary change. "
   ]
  },
  {
   "cell_type": "code",
   "execution_count": 32,
   "metadata": {},
   "outputs": [
    {
     "data": {
      "text/html": [
       "<div>\n",
       "<style scoped>\n",
       "    .dataframe tbody tr th:only-of-type {\n",
       "        vertical-align: middle;\n",
       "    }\n",
       "\n",
       "    .dataframe tbody tr th {\n",
       "        vertical-align: top;\n",
       "    }\n",
       "\n",
       "    .dataframe thead th {\n",
       "        text-align: right;\n",
       "    }\n",
       "</style>\n",
       "<table border=\"1\" class=\"dataframe\">\n",
       "  <thead>\n",
       "    <tr style=\"text-align: right;\">\n",
       "      <th></th>\n",
       "      <th>tphys</th>\n",
       "      <th>mass_1</th>\n",
       "      <th>mass_2</th>\n",
       "      <th>kstar_1</th>\n",
       "      <th>kstar_2</th>\n",
       "      <th>sep</th>\n",
       "      <th>porb</th>\n",
       "      <th>ecc</th>\n",
       "      <th>evol_type</th>\n",
       "      <th>Vsys_1</th>\n",
       "      <th>Vsys_2</th>\n",
       "      <th>SNkick</th>\n",
       "      <th>SNtheta</th>\n",
       "      <th>rad_1</th>\n",
       "      <th>rad_2</th>\n",
       "    </tr>\n",
       "    <tr>\n",
       "      <th>bin_num</th>\n",
       "      <th></th>\n",
       "      <th></th>\n",
       "      <th></th>\n",
       "      <th></th>\n",
       "      <th></th>\n",
       "      <th></th>\n",
       "      <th></th>\n",
       "      <th></th>\n",
       "      <th></th>\n",
       "      <th></th>\n",
       "      <th></th>\n",
       "      <th></th>\n",
       "      <th></th>\n",
       "      <th></th>\n",
       "      <th></th>\n",
       "    </tr>\n",
       "  </thead>\n",
       "  <tbody>\n",
       "    <tr>\n",
       "      <th>57</th>\n",
       "      <td>1201.537390</td>\n",
       "      <td>1.670580</td>\n",
       "      <td>1.247745</td>\n",
       "      <td>2.0</td>\n",
       "      <td>1.0</td>\n",
       "      <td>67570.039620</td>\n",
       "      <td>1.190755e+06</td>\n",
       "      <td>0.672522</td>\n",
       "      <td>2.0</td>\n",
       "      <td>0.0</td>\n",
       "      <td>0.0</td>\n",
       "      <td>0.0</td>\n",
       "      <td>0.0</td>\n",
       "      <td>2.360611</td>\n",
       "      <td>1.011703</td>\n",
       "    </tr>\n",
       "    <tr>\n",
       "      <th>57</th>\n",
       "      <td>1213.674854</td>\n",
       "      <td>1.670503</td>\n",
       "      <td>1.247745</td>\n",
       "      <td>3.0</td>\n",
       "      <td>1.0</td>\n",
       "      <td>67571.809920</td>\n",
       "      <td>1.190817e+06</td>\n",
       "      <td>0.672522</td>\n",
       "      <td>2.0</td>\n",
       "      <td>0.0</td>\n",
       "      <td>0.0</td>\n",
       "      <td>0.0</td>\n",
       "      <td>0.0</td>\n",
       "      <td>9.123595</td>\n",
       "      <td>1.012745</td>\n",
       "    </tr>\n",
       "    <tr>\n",
       "      <th>57</th>\n",
       "      <td>1236.250622</td>\n",
       "      <td>1.667480</td>\n",
       "      <td>1.247745</td>\n",
       "      <td>4.0</td>\n",
       "      <td>1.0</td>\n",
       "      <td>67641.888698</td>\n",
       "      <td>1.193288e+06</td>\n",
       "      <td>0.672522</td>\n",
       "      <td>2.0</td>\n",
       "      <td>0.0</td>\n",
       "      <td>0.0</td>\n",
       "      <td>0.0</td>\n",
       "      <td>0.0</td>\n",
       "      <td>13.450893</td>\n",
       "      <td>1.014711</td>\n",
       "    </tr>\n",
       "    <tr>\n",
       "      <th>57</th>\n",
       "      <td>1338.601281</td>\n",
       "      <td>1.663147</td>\n",
       "      <td>1.247745</td>\n",
       "      <td>5.0</td>\n",
       "      <td>1.0</td>\n",
       "      <td>67742.579782</td>\n",
       "      <td>1.196843e+06</td>\n",
       "      <td>0.672522</td>\n",
       "      <td>2.0</td>\n",
       "      <td>0.0</td>\n",
       "      <td>0.0</td>\n",
       "      <td>0.0</td>\n",
       "      <td>0.0</td>\n",
       "      <td>20.173435</td>\n",
       "      <td>1.024078</td>\n",
       "    </tr>\n",
       "    <tr>\n",
       "      <th>57</th>\n",
       "      <td>1342.434531</td>\n",
       "      <td>1.658364</td>\n",
       "      <td>1.247745</td>\n",
       "      <td>6.0</td>\n",
       "      <td>1.0</td>\n",
       "      <td>67854.061223</td>\n",
       "      <td>1.200786e+06</td>\n",
       "      <td>0.672522</td>\n",
       "      <td>2.0</td>\n",
       "      <td>0.0</td>\n",
       "      <td>0.0</td>\n",
       "      <td>0.0</td>\n",
       "      <td>0.0</td>\n",
       "      <td>135.405199</td>\n",
       "      <td>1.024444</td>\n",
       "    </tr>\n",
       "    <tr>\n",
       "      <th>...</th>\n",
       "      <td>...</td>\n",
       "      <td>...</td>\n",
       "      <td>...</td>\n",
       "      <td>...</td>\n",
       "      <td>...</td>\n",
       "      <td>...</td>\n",
       "      <td>...</td>\n",
       "      <td>...</td>\n",
       "      <td>...</td>\n",
       "      <td>...</td>\n",
       "      <td>...</td>\n",
       "      <td>...</td>\n",
       "      <td>...</td>\n",
       "      <td>...</td>\n",
       "      <td>...</td>\n",
       "    </tr>\n",
       "    <tr>\n",
       "      <th>949952</th>\n",
       "      <td>2432.266884</td>\n",
       "      <td>1.095125</td>\n",
       "      <td>1.329837</td>\n",
       "      <td>11.0</td>\n",
       "      <td>4.0</td>\n",
       "      <td>2353.857808</td>\n",
       "      <td>8.493284e+03</td>\n",
       "      <td>0.000008</td>\n",
       "      <td>2.0</td>\n",
       "      <td>0.0</td>\n",
       "      <td>0.0</td>\n",
       "      <td>0.0</td>\n",
       "      <td>0.0</td>\n",
       "      <td>0.006967</td>\n",
       "      <td>10.874442</td>\n",
       "    </tr>\n",
       "    <tr>\n",
       "      <th>949952</th>\n",
       "      <td>2536.139153</td>\n",
       "      <td>1.095125</td>\n",
       "      <td>1.325005</td>\n",
       "      <td>11.0</td>\n",
       "      <td>5.0</td>\n",
       "      <td>2358.553071</td>\n",
       "      <td>8.527208e+03</td>\n",
       "      <td>0.000008</td>\n",
       "      <td>2.0</td>\n",
       "      <td>0.0</td>\n",
       "      <td>0.0</td>\n",
       "      <td>0.0</td>\n",
       "      <td>0.0</td>\n",
       "      <td>0.006967</td>\n",
       "      <td>19.330733</td>\n",
       "    </tr>\n",
       "    <tr>\n",
       "      <th>949952</th>\n",
       "      <td>2540.312820</td>\n",
       "      <td>1.095150</td>\n",
       "      <td>1.320470</td>\n",
       "      <td>11.0</td>\n",
       "      <td>6.0</td>\n",
       "      <td>2362.873996</td>\n",
       "      <td>8.558631e+03</td>\n",
       "      <td>0.000008</td>\n",
       "      <td>2.0</td>\n",
       "      <td>0.0</td>\n",
       "      <td>0.0</td>\n",
       "      <td>0.0</td>\n",
       "      <td>0.0</td>\n",
       "      <td>0.006967</td>\n",
       "      <td>110.957060</td>\n",
       "    </tr>\n",
       "    <tr>\n",
       "      <th>949952</th>\n",
       "      <td>2543.060267</td>\n",
       "      <td>1.124539</td>\n",
       "      <td>0.798694</td>\n",
       "      <td>11.0</td>\n",
       "      <td>11.0</td>\n",
       "      <td>2806.762078</td>\n",
       "      <td>1.241796e+04</td>\n",
       "      <td>0.000008</td>\n",
       "      <td>2.0</td>\n",
       "      <td>0.0</td>\n",
       "      <td>0.0</td>\n",
       "      <td>0.0</td>\n",
       "      <td>0.0</td>\n",
       "      <td>0.006618</td>\n",
       "      <td>0.010326</td>\n",
       "    </tr>\n",
       "    <tr>\n",
       "      <th>949952</th>\n",
       "      <td>13700.000000</td>\n",
       "      <td>1.124539</td>\n",
       "      <td>0.798694</td>\n",
       "      <td>11.0</td>\n",
       "      <td>11.0</td>\n",
       "      <td>2806.762078</td>\n",
       "      <td>1.241796e+04</td>\n",
       "      <td>0.000008</td>\n",
       "      <td>10.0</td>\n",
       "      <td>0.0</td>\n",
       "      <td>0.0</td>\n",
       "      <td>0.0</td>\n",
       "      <td>0.0</td>\n",
       "      <td>0.006618</td>\n",
       "      <td>0.010326</td>\n",
       "    </tr>\n",
       "  </tbody>\n",
       "</table>\n",
       "<p>343205 rows × 15 columns</p>\n",
       "</div>"
      ],
      "text/plain": [
       "                tphys    mass_1    mass_2  kstar_1  kstar_2           sep  \\\n",
       "bin_num                                                                     \n",
       "57        1201.537390  1.670580  1.247745      2.0      1.0  67570.039620   \n",
       "57        1213.674854  1.670503  1.247745      3.0      1.0  67571.809920   \n",
       "57        1236.250622  1.667480  1.247745      4.0      1.0  67641.888698   \n",
       "57        1338.601281  1.663147  1.247745      5.0      1.0  67742.579782   \n",
       "57        1342.434531  1.658364  1.247745      6.0      1.0  67854.061223   \n",
       "...               ...       ...       ...      ...      ...           ...   \n",
       "949952    2432.266884  1.095125  1.329837     11.0      4.0   2353.857808   \n",
       "949952    2536.139153  1.095125  1.325005     11.0      5.0   2358.553071   \n",
       "949952    2540.312820  1.095150  1.320470     11.0      6.0   2362.873996   \n",
       "949952    2543.060267  1.124539  0.798694     11.0     11.0   2806.762078   \n",
       "949952   13700.000000  1.124539  0.798694     11.0     11.0   2806.762078   \n",
       "\n",
       "                 porb       ecc  evol_type  Vsys_1  Vsys_2  SNkick  SNtheta  \\\n",
       "bin_num                                                                       \n",
       "57       1.190755e+06  0.672522        2.0     0.0     0.0     0.0      0.0   \n",
       "57       1.190817e+06  0.672522        2.0     0.0     0.0     0.0      0.0   \n",
       "57       1.193288e+06  0.672522        2.0     0.0     0.0     0.0      0.0   \n",
       "57       1.196843e+06  0.672522        2.0     0.0     0.0     0.0      0.0   \n",
       "57       1.200786e+06  0.672522        2.0     0.0     0.0     0.0      0.0   \n",
       "...               ...       ...        ...     ...     ...     ...      ...   \n",
       "949952   8.493284e+03  0.000008        2.0     0.0     0.0     0.0      0.0   \n",
       "949952   8.527208e+03  0.000008        2.0     0.0     0.0     0.0      0.0   \n",
       "949952   8.558631e+03  0.000008        2.0     0.0     0.0     0.0      0.0   \n",
       "949952   1.241796e+04  0.000008        2.0     0.0     0.0     0.0      0.0   \n",
       "949952   1.241796e+04  0.000008       10.0     0.0     0.0     0.0      0.0   \n",
       "\n",
       "              rad_1       rad_2  \n",
       "bin_num                          \n",
       "57         2.360611    1.011703  \n",
       "57         9.123595    1.012745  \n",
       "57        13.450893    1.014711  \n",
       "57        20.173435    1.024078  \n",
       "57       135.405199    1.024444  \n",
       "...             ...         ...  \n",
       "949952     0.006967   10.874442  \n",
       "949952     0.006967   19.330733  \n",
       "949952     0.006967  110.957060  \n",
       "949952     0.006618    0.010326  \n",
       "949952     0.006618    0.010326  \n",
       "\n",
       "[343205 rows x 15 columns]"
      ]
     },
     "execution_count": 32,
     "metadata": {},
     "output_type": "execute_result"
    }
   ],
   "source": [
    "binaries_bpp"
   ]
  },
  {
   "cell_type": "markdown",
   "metadata": {},
   "source": [
    "Lets once again get the unique index values so that we can access different binaries."
   ]
  },
  {
   "cell_type": "code",
   "execution_count": 33,
   "metadata": {},
   "outputs": [
    {
     "data": {
      "text/plain": [
       "array([    57,     57,     57, ..., 949952, 949952, 949952])"
      ]
     },
     "execution_count": 33,
     "metadata": {},
     "output_type": "execute_result"
    }
   ],
   "source": [
    "# put the index values in a numpy array for easy access\n",
    "binary_index_not_unique_values = binaries_bpp.index.values \n",
    "binary_index_not_unique_values"
   ]
  },
  {
   "cell_type": "code",
   "execution_count": 34,
   "metadata": {},
   "outputs": [
    {
     "data": {
      "text/plain": [
       "array([    57,     61,     73, ..., 949933, 949947, 949952])"
      ]
     },
     "execution_count": 34,
     "metadata": {},
     "output_type": "execute_result"
    }
   ],
   "source": [
    "# this time we need to use np.unique since many rows have the same index\n",
    "binary_index = np.unique(binaries_bpp.index.values )\n",
    "binary_index"
   ]
  },
  {
   "cell_type": "code",
   "execution_count": 35,
   "metadata": {},
   "outputs": [
    {
     "data": {
      "text/html": [
       "<div>\n",
       "<style scoped>\n",
       "    .dataframe tbody tr th:only-of-type {\n",
       "        vertical-align: middle;\n",
       "    }\n",
       "\n",
       "    .dataframe tbody tr th {\n",
       "        vertical-align: top;\n",
       "    }\n",
       "\n",
       "    .dataframe thead th {\n",
       "        text-align: right;\n",
       "    }\n",
       "</style>\n",
       "<table border=\"1\" class=\"dataframe\">\n",
       "  <thead>\n",
       "    <tr style=\"text-align: right;\">\n",
       "      <th></th>\n",
       "      <th>tphys</th>\n",
       "      <th>mass_1</th>\n",
       "      <th>mass_2</th>\n",
       "      <th>kstar_1</th>\n",
       "      <th>kstar_2</th>\n",
       "      <th>sep</th>\n",
       "      <th>porb</th>\n",
       "      <th>ecc</th>\n",
       "      <th>evol_type</th>\n",
       "      <th>Vsys_1</th>\n",
       "      <th>Vsys_2</th>\n",
       "      <th>SNkick</th>\n",
       "      <th>SNtheta</th>\n",
       "      <th>rad_1</th>\n",
       "      <th>rad_2</th>\n",
       "    </tr>\n",
       "    <tr>\n",
       "      <th>bin_num</th>\n",
       "      <th></th>\n",
       "      <th></th>\n",
       "      <th></th>\n",
       "      <th></th>\n",
       "      <th></th>\n",
       "      <th></th>\n",
       "      <th></th>\n",
       "      <th></th>\n",
       "      <th></th>\n",
       "      <th></th>\n",
       "      <th></th>\n",
       "      <th></th>\n",
       "      <th></th>\n",
       "      <th></th>\n",
       "      <th></th>\n",
       "    </tr>\n",
       "  </thead>\n",
       "  <tbody>\n",
       "    <tr>\n",
       "      <th>57</th>\n",
       "      <td>1201.537390</td>\n",
       "      <td>1.670580</td>\n",
       "      <td>1.247745</td>\n",
       "      <td>2.0</td>\n",
       "      <td>1.0</td>\n",
       "      <td>67570.039620</td>\n",
       "      <td>1.190755e+06</td>\n",
       "      <td>0.672522</td>\n",
       "      <td>2.0</td>\n",
       "      <td>0.0</td>\n",
       "      <td>0.0</td>\n",
       "      <td>0.0</td>\n",
       "      <td>0.0</td>\n",
       "      <td>2.360611</td>\n",
       "      <td>1.011703</td>\n",
       "    </tr>\n",
       "    <tr>\n",
       "      <th>57</th>\n",
       "      <td>1213.674854</td>\n",
       "      <td>1.670503</td>\n",
       "      <td>1.247745</td>\n",
       "      <td>3.0</td>\n",
       "      <td>1.0</td>\n",
       "      <td>67571.809920</td>\n",
       "      <td>1.190817e+06</td>\n",
       "      <td>0.672522</td>\n",
       "      <td>2.0</td>\n",
       "      <td>0.0</td>\n",
       "      <td>0.0</td>\n",
       "      <td>0.0</td>\n",
       "      <td>0.0</td>\n",
       "      <td>9.123595</td>\n",
       "      <td>1.012745</td>\n",
       "    </tr>\n",
       "    <tr>\n",
       "      <th>57</th>\n",
       "      <td>1236.250622</td>\n",
       "      <td>1.667480</td>\n",
       "      <td>1.247745</td>\n",
       "      <td>4.0</td>\n",
       "      <td>1.0</td>\n",
       "      <td>67641.888698</td>\n",
       "      <td>1.193288e+06</td>\n",
       "      <td>0.672522</td>\n",
       "      <td>2.0</td>\n",
       "      <td>0.0</td>\n",
       "      <td>0.0</td>\n",
       "      <td>0.0</td>\n",
       "      <td>0.0</td>\n",
       "      <td>13.450893</td>\n",
       "      <td>1.014711</td>\n",
       "    </tr>\n",
       "    <tr>\n",
       "      <th>57</th>\n",
       "      <td>1338.601281</td>\n",
       "      <td>1.663147</td>\n",
       "      <td>1.247745</td>\n",
       "      <td>5.0</td>\n",
       "      <td>1.0</td>\n",
       "      <td>67742.579782</td>\n",
       "      <td>1.196843e+06</td>\n",
       "      <td>0.672522</td>\n",
       "      <td>2.0</td>\n",
       "      <td>0.0</td>\n",
       "      <td>0.0</td>\n",
       "      <td>0.0</td>\n",
       "      <td>0.0</td>\n",
       "      <td>20.173435</td>\n",
       "      <td>1.024078</td>\n",
       "    </tr>\n",
       "    <tr>\n",
       "      <th>57</th>\n",
       "      <td>1342.434531</td>\n",
       "      <td>1.658364</td>\n",
       "      <td>1.247745</td>\n",
       "      <td>6.0</td>\n",
       "      <td>1.0</td>\n",
       "      <td>67854.061223</td>\n",
       "      <td>1.200786e+06</td>\n",
       "      <td>0.672522</td>\n",
       "      <td>2.0</td>\n",
       "      <td>0.0</td>\n",
       "      <td>0.0</td>\n",
       "      <td>0.0</td>\n",
       "      <td>0.0</td>\n",
       "      <td>135.405199</td>\n",
       "      <td>1.024444</td>\n",
       "    </tr>\n",
       "    <tr>\n",
       "      <th>57</th>\n",
       "      <td>1344.725939</td>\n",
       "      <td>0.850687</td>\n",
       "      <td>1.247942</td>\n",
       "      <td>11.0</td>\n",
       "      <td>1.0</td>\n",
       "      <td>94159.469909</td>\n",
       "      <td>2.309861e+06</td>\n",
       "      <td>0.672414</td>\n",
       "      <td>2.0</td>\n",
       "      <td>0.0</td>\n",
       "      <td>0.0</td>\n",
       "      <td>0.0</td>\n",
       "      <td>0.0</td>\n",
       "      <td>0.009733</td>\n",
       "      <td>1.024684</td>\n",
       "    </tr>\n",
       "    <tr>\n",
       "      <th>57</th>\n",
       "      <td>2835.164802</td>\n",
       "      <td>0.850687</td>\n",
       "      <td>1.247942</td>\n",
       "      <td>11.0</td>\n",
       "      <td>2.0</td>\n",
       "      <td>94159.469909</td>\n",
       "      <td>2.309861e+06</td>\n",
       "      <td>0.672414</td>\n",
       "      <td>2.0</td>\n",
       "      <td>0.0</td>\n",
       "      <td>0.0</td>\n",
       "      <td>0.0</td>\n",
       "      <td>0.0</td>\n",
       "      <td>0.009733</td>\n",
       "      <td>3.874018</td>\n",
       "    </tr>\n",
       "    <tr>\n",
       "      <th>57</th>\n",
       "      <td>2863.799728</td>\n",
       "      <td>0.850687</td>\n",
       "      <td>1.247840</td>\n",
       "      <td>11.0</td>\n",
       "      <td>3.0</td>\n",
       "      <td>94164.037043</td>\n",
       "      <td>2.310085e+06</td>\n",
       "      <td>0.672414</td>\n",
       "      <td>2.0</td>\n",
       "      <td>0.0</td>\n",
       "      <td>0.0</td>\n",
       "      <td>0.0</td>\n",
       "      <td>0.0</td>\n",
       "      <td>0.009733</td>\n",
       "      <td>5.986008</td>\n",
       "    </tr>\n",
       "    <tr>\n",
       "      <th>57</th>\n",
       "      <td>2964.504752</td>\n",
       "      <td>0.850687</td>\n",
       "      <td>1.234795</td>\n",
       "      <td>11.0</td>\n",
       "      <td>4.0</td>\n",
       "      <td>94753.066971</td>\n",
       "      <td>2.339076e+06</td>\n",
       "      <td>0.672414</td>\n",
       "      <td>2.0</td>\n",
       "      <td>0.0</td>\n",
       "      <td>0.0</td>\n",
       "      <td>0.0</td>\n",
       "      <td>0.0</td>\n",
       "      <td>0.009733</td>\n",
       "      <td>9.950677</td>\n",
       "    </tr>\n",
       "    <tr>\n",
       "      <th>57</th>\n",
       "      <td>3070.411949</td>\n",
       "      <td>0.850687</td>\n",
       "      <td>1.229797</td>\n",
       "      <td>11.0</td>\n",
       "      <td>5.0</td>\n",
       "      <td>94980.731792</td>\n",
       "      <td>2.350330e+06</td>\n",
       "      <td>0.672414</td>\n",
       "      <td>2.0</td>\n",
       "      <td>0.0</td>\n",
       "      <td>0.0</td>\n",
       "      <td>0.0</td>\n",
       "      <td>0.0</td>\n",
       "      <td>0.009733</td>\n",
       "      <td>19.020059</td>\n",
       "    </tr>\n",
       "    <tr>\n",
       "      <th>57</th>\n",
       "      <td>3074.723261</td>\n",
       "      <td>0.850687</td>\n",
       "      <td>1.225141</td>\n",
       "      <td>11.0</td>\n",
       "      <td>6.0</td>\n",
       "      <td>95193.742631</td>\n",
       "      <td>2.360884e+06</td>\n",
       "      <td>0.672414</td>\n",
       "      <td>2.0</td>\n",
       "      <td>0.0</td>\n",
       "      <td>0.0</td>\n",
       "      <td>0.0</td>\n",
       "      <td>0.0</td>\n",
       "      <td>0.009733</td>\n",
       "      <td>107.188814</td>\n",
       "    </tr>\n",
       "    <tr>\n",
       "      <th>57</th>\n",
       "      <td>3077.562056</td>\n",
       "      <td>0.850715</td>\n",
       "      <td>0.786266</td>\n",
       "      <td>11.0</td>\n",
       "      <td>11.0</td>\n",
       "      <td>120856.222774</td>\n",
       "      <td>3.803115e+06</td>\n",
       "      <td>0.672393</td>\n",
       "      <td>2.0</td>\n",
       "      <td>0.0</td>\n",
       "      <td>0.0</td>\n",
       "      <td>0.0</td>\n",
       "      <td>0.0</td>\n",
       "      <td>0.009733</td>\n",
       "      <td>0.010470</td>\n",
       "    </tr>\n",
       "    <tr>\n",
       "      <th>57</th>\n",
       "      <td>13700.000000</td>\n",
       "      <td>0.850715</td>\n",
       "      <td>0.786266</td>\n",
       "      <td>11.0</td>\n",
       "      <td>11.0</td>\n",
       "      <td>120856.222774</td>\n",
       "      <td>3.803115e+06</td>\n",
       "      <td>0.672393</td>\n",
       "      <td>10.0</td>\n",
       "      <td>0.0</td>\n",
       "      <td>0.0</td>\n",
       "      <td>0.0</td>\n",
       "      <td>0.0</td>\n",
       "      <td>0.009733</td>\n",
       "      <td>0.010470</td>\n",
       "    </tr>\n",
       "  </tbody>\n",
       "</table>\n",
       "</div>"
      ],
      "text/plain": [
       "                tphys    mass_1    mass_2  kstar_1  kstar_2            sep  \\\n",
       "bin_num                                                                      \n",
       "57        1201.537390  1.670580  1.247745      2.0      1.0   67570.039620   \n",
       "57        1213.674854  1.670503  1.247745      3.0      1.0   67571.809920   \n",
       "57        1236.250622  1.667480  1.247745      4.0      1.0   67641.888698   \n",
       "57        1338.601281  1.663147  1.247745      5.0      1.0   67742.579782   \n",
       "57        1342.434531  1.658364  1.247745      6.0      1.0   67854.061223   \n",
       "57        1344.725939  0.850687  1.247942     11.0      1.0   94159.469909   \n",
       "57        2835.164802  0.850687  1.247942     11.0      2.0   94159.469909   \n",
       "57        2863.799728  0.850687  1.247840     11.0      3.0   94164.037043   \n",
       "57        2964.504752  0.850687  1.234795     11.0      4.0   94753.066971   \n",
       "57        3070.411949  0.850687  1.229797     11.0      5.0   94980.731792   \n",
       "57        3074.723261  0.850687  1.225141     11.0      6.0   95193.742631   \n",
       "57        3077.562056  0.850715  0.786266     11.0     11.0  120856.222774   \n",
       "57       13700.000000  0.850715  0.786266     11.0     11.0  120856.222774   \n",
       "\n",
       "                 porb       ecc  evol_type  Vsys_1  Vsys_2  SNkick  SNtheta  \\\n",
       "bin_num                                                                       \n",
       "57       1.190755e+06  0.672522        2.0     0.0     0.0     0.0      0.0   \n",
       "57       1.190817e+06  0.672522        2.0     0.0     0.0     0.0      0.0   \n",
       "57       1.193288e+06  0.672522        2.0     0.0     0.0     0.0      0.0   \n",
       "57       1.196843e+06  0.672522        2.0     0.0     0.0     0.0      0.0   \n",
       "57       1.200786e+06  0.672522        2.0     0.0     0.0     0.0      0.0   \n",
       "57       2.309861e+06  0.672414        2.0     0.0     0.0     0.0      0.0   \n",
       "57       2.309861e+06  0.672414        2.0     0.0     0.0     0.0      0.0   \n",
       "57       2.310085e+06  0.672414        2.0     0.0     0.0     0.0      0.0   \n",
       "57       2.339076e+06  0.672414        2.0     0.0     0.0     0.0      0.0   \n",
       "57       2.350330e+06  0.672414        2.0     0.0     0.0     0.0      0.0   \n",
       "57       2.360884e+06  0.672414        2.0     0.0     0.0     0.0      0.0   \n",
       "57       3.803115e+06  0.672393        2.0     0.0     0.0     0.0      0.0   \n",
       "57       3.803115e+06  0.672393       10.0     0.0     0.0     0.0      0.0   \n",
       "\n",
       "              rad_1       rad_2  \n",
       "bin_num                          \n",
       "57         2.360611    1.011703  \n",
       "57         9.123595    1.012745  \n",
       "57        13.450893    1.014711  \n",
       "57        20.173435    1.024078  \n",
       "57       135.405199    1.024444  \n",
       "57         0.009733    1.024684  \n",
       "57         0.009733    3.874018  \n",
       "57         0.009733    5.986008  \n",
       "57         0.009733    9.950677  \n",
       "57         0.009733   19.020059  \n",
       "57         0.009733  107.188814  \n",
       "57         0.009733    0.010470  \n",
       "57         0.009733    0.010470  "
      ]
     },
     "execution_count": 35,
     "metadata": {},
     "output_type": "execute_result"
    }
   ],
   "source": [
    "# remember, since we are using the index values we have to use loc, NOT iloc\n",
    "binaries_bpp.loc[binary_index[0]]"
   ]
  },
  {
   "cell_type": "markdown",
   "metadata": {},
   "source": [
    "### 4a) Choose any binary you want. Make a plot  showing how the mass of the primary star \"mass_1\" changes over time \"tphys\".  Make sure you label you plots! What are the units?\n"
   ]
  },
  {
   "cell_type": "markdown",
   "metadata": {},
   "source": [
    "**Tips:** \n",
    "\n",
    "You can access the data by doing:\n",
    "\n",
    "binaries_bpp[\"column_name\"].loc[binary_index_num].values"
   ]
  },
  {
   "cell_type": "code",
   "execution_count": 36,
   "metadata": {},
   "outputs": [
    {
     "data": {
      "text/plain": [
       "Text(0, 0.5, 'mass_1 [solar masses]')"
      ]
     },
     "execution_count": 36,
     "metadata": {},
     "output_type": "execute_result"
    },
    {
     "data": {
      "image/png": "[encoded data removed]",
      "text/plain": [
       "<Figure size 432x288 with 1 Axes>"
      ]
     },
     "metadata": {
      "needs_background": "light"
     },
     "output_type": "display_data"
    }
   ],
   "source": [
    "x = binaries_bpp[\"tphys\"].loc[binary_index[0]].values\n",
    "y = binaries_bpp[\"mass_1\"].loc[binary_index[0]].values\n",
    "\n",
    "plt.plot(x, y)\n",
    "plt.xlabel('time [Myr]', size=18)\n",
    "plt.ylabel('mass_1 [solar masses]', size=18)"
   ]
  },
  {
   "cell_type": "markdown",
   "metadata": {},
   "source": [
    "### 4b) Make a plot showing how the mass of the primary star \"mass_1\" and secondary star \"mass_2\" changes over time \"tphys\". Add labels so you can tell them apart\n",
    "\n",
    "### Look through the binaries until you find a system like this:\n",
    "\n",
    "<img src=\"mass_evolution.png\">\n",
    "\n",
    "### One mass is increasing while the other decreases. From the videos you watched, can you describe what is happening?\n",
    "\n",
    "### 4c) Go to Slack and fill out the free response poll asking what binary interaction explains the changes in mass"
   ]
  },
  {
   "cell_type": "code",
   "execution_count": 37,
   "metadata": {},
   "outputs": [
    {
     "data": {
      "text/plain": [
       "<matplotlib.legend.Legend at 0x118ce7a10>"
      ]
     },
     "execution_count": 37,
     "metadata": {},
     "output_type": "execute_result"
    },
    {
     "data": {
      "image/png": "[encoded data removed]",
      "text/plain": [
       "<Figure size 432x288 with 1 Axes>"
      ]
     },
     "metadata": {
      "needs_background": "light"
     },
     "output_type": "display_data"
    }
   ],
   "source": [
    "i = 1\n",
    "x = binaries_bpp[\"tphys\"].loc[binary_index[i]].values\n",
    "y1 = binaries_bpp[\"mass_1\"].loc[binary_index[i]].values\n",
    "y2 = binaries_bpp[\"mass_2\"].loc[binary_index[i]].values\n",
    "\n",
    "plt.plot(x, y1, label='mass1', linewidth=3)\n",
    "plt.plot(x, y2, label='mass2', linewidth=3)\n",
    "plt.xlabel('time [Myr]', size=18)\n",
    "plt.ylabel('mass [solar masses]', size=18)\n",
    "plt.legend()"
   ]
  },
  {
   "cell_type": "markdown",
   "metadata": {},
   "source": [
    "# 5. Merging Binary Black holes\n",
    "\n",
    "### Now lets do something more challenging!\n",
    "\n",
    "\n",
    "The goal of this section is for you to find out which binary black hole systems will merge within a Hubble time. \n",
    "\n",
    "Hubble time = the age of the universe = 13.8 billion years"
   ]
  },
  {
   "cell_type": "markdown",
   "metadata": {},
   "source": [
    "\n"
   ]
  },
  {
   "cell_type": "markdown",
   "metadata": {},
   "source": [
    "### 5a) Calculate which binary black hole systems will merge within the age of the universe\n",
    "### You need to create 3 arrays. \n",
    "\n",
    "- array to store the binary index \n",
    "\n",
    "- array to store the mass of the most massive BH before merger\n",
    "\n",
    "- array to store the smaller mass. \n",
    "\n",
    "A guide/tips: \n",
    "\n",
    "#### 1) You will need to access each binary similar to how you made the plots:\n",
    "\n",
    "binaries_bpp[\"column_name\"].loc[binary_index_number].values\n",
    "\n",
    "\n",
    "#### 2) You need to check that both objects are black holes **kstar_1 == 14** and **kstar_2 == 14** in the last timestep\n",
    "\n",
    "To look at the last element in an array you use array[-1]\n",
    "\n",
    "Here it looks like binaries_bpp['column_name'].loc[binary_index_number].values**[-1]**\n",
    "\n",
    "or \n",
    "\n",
    "np.array(binaries_bpp['column_name'].loc[binary_index_number])**[-1]**\n",
    "\n",
    "#### 3) You need to get the values of eccentricity, separation, M1, M1, and time in the last timestep. Put them in CGS units\n",
    "http://www.astro.wisc.edu/~dolan/constants.html\n",
    "\n",
    "\n",
    "#### 4) Calculate t_merger\n",
    "For circular orbits \n",
    "\n",
    "$$ t_{\\rm merger, circular} = \\frac{a^4}{4 \\beta} $$\n",
    "\n",
    "where $\\beta = \\frac{64}{5} \\frac{G^3 m_1 m_2 (m_1 + m_2)}{c^5}$, $a$ is separation.\n",
    "\n",
    "\n",
    "For eccentricity < 0.5 use:\n",
    "\n",
    "\n",
    "$$ t_{\\rm merger} = \\frac{c_{0}^4 }{4 \\beta} e ^{48/19} $$\n",
    "\n",
    "for eccentricity > 0.5 use:\n",
    "\n",
    "$$ t_{\\rm merger} = \\frac{768}{425} t_{\\rm merger, circular} (1 - e^2)^{7/2} $$\n",
    "\n",
    "***These equations are from a paper from 1964! https://ui.adsabs.harvard.edu/abs/1964PhRv..136.1224P/abstract***\n",
    "\n",
    "*** Notes:  ***\n",
    "\n",
    " - Some eccentricities = -1. This is not physical and means the black holes are not orbiting each other anymore. Find a way to ignore these. \n",
    "\n",
    "- You will have to keep track of the units. To do this you can change all simulation variables to cgs. The output of your t_merger calcuations will be in seconds\n",
    "\n",
    "#### 5) Add your calculated t_merger to the time in the last timestep. Check if that sum is less than the age of the universe, 13.8 billion years. (remember that your t_merger is in seconds )\n",
    "\n",
    "#### 6) If the time is less than 13.8 billion years, congratulations! You found a merging black hole binary system! \n",
    "\n",
    "#### 7) When you find a merging system save its data! In one array save the index of the merging binary. In another array save the mass of the more massive black hole before the merger, this is called the primary BH. In another array save the mass of the lower mass BH, this one is called the secondary  "
   ]
  },
  {
   "cell_type": "code",
   "execution_count": 38,
   "metadata": {},
   "outputs": [
    {
     "name": "stdout",
     "output_type": "stream",
     "text": [
      "100\n",
      "50.0\n",
      "*****NOTE****\n",
      "this is NOT how you should calculate (x**2) / 2\n",
      "this is just an example of how you may use functions for this exercise\n"
     ]
    }
   ],
   "source": [
    "# it is much easier and neater to write up equations in a function \n",
    "# when you are trying to calculate something many times\n",
    "\n",
    "# see how you can make a function here \n",
    "def number_squared( x ):\n",
    "    return x**2\n",
    "\n",
    "\n",
    "# you can call functions inside other functions\n",
    "def divide_by_2_after_square(x):\n",
    "    squared = number_squared(x)\n",
    "    return squared/2\n",
    "\n",
    "number = 10 \n",
    "print(number_squared( number ))\n",
    "print(divide_by_2_after_square( number ))\n",
    "\n",
    "print('*****NOTE****')\n",
    "print('this is NOT how you should calculate (x**2) / 2')\n",
    "print('this is just an example of how you may use functions for this exercise')"
   ]
  },
  {
   "cell_type": "code",
   "execution_count": 39,
   "metadata": {},
   "outputs": [],
   "source": [
    "# Here is the function for beta to get you started\n",
    "# just fill in the values for G and c in cgs  http://www.astro.wisc.edu/~dolan/constants.html\n",
    "\n",
    "\n",
    "\n",
    "def calc_beta(m1,m2):\n",
    "    G = 6.67259e-8\n",
    "    c = 2.99792458e10\n",
    "    return (64./5.) * ( (G**3 * m1 * m2 * (m1+m2) ) /c**5 )\n",
    "\n",
    "def calc_t_merger_circular(m1, m2, a):\n",
    "    '''\n",
    "    Requires: m1, m2, a\n",
    "    '''\n",
    "    beta = calc_beta(m1,m2)\n",
    "    return (a**4) / (4 * beta)\n",
    "    \n",
    "def calc_t_merger_small_e(m1, m2, a, e):\n",
    "    # for e<0.5\n",
    "    c0 = a*(1-e**2)/(e**(12./19.)*(1+(121./304.)*e**2)**(870./2299.))\n",
    "    beta = calc_beta(m1,m2)\n",
    "    return (c0**4)/(4* beta) * e**(48./19.)\n",
    "\n",
    "def calc_t_merger_big_e(m1, m2, a, e):\n",
    "    # for e>0.5\n",
    "    t_merger_circular = calc_t_merger_circular(m1,m2,a)\n",
    "    \n",
    "    return (768/425) * t_merger_circular * (1-e**2)**(7./2.)"
   ]
  },
  {
   "cell_type": "code",
   "execution_count": 40,
   "metadata": {
    "scrolled": true
   },
   "outputs": [
    {
     "name": "stdout",
     "output_type": "stream",
     "text": [
      "this binary has disrupted!\n",
      "this binary has disrupted!\n"
     ]
    },
    {
     "name": "stderr",
     "output_type": "stream",
     "text": [
      "/opt/anaconda3/lib/python3.7/site-packages/ipykernel_launcher.py:20: RuntimeWarning: invalid value encountered in double_scalars\n",
      "/opt/anaconda3/lib/python3.7/site-packages/ipykernel_launcher.py:22: RuntimeWarning: invalid value encountered in double_scalars\n"
     ]
    },
    {
     "name": "stdout",
     "output_type": "stream",
     "text": [
      "this binary has disrupted!\n",
      "this binary has disrupted!\n"
     ]
    }
   ],
   "source": [
    "binary_index = binaries_initCond.index.values\n",
    "Msun = 1.99e33\n",
    "Rsun = 6.96e10\n",
    "sec_in_year = 3.154e7\n",
    "\n",
    "# rememeber than you can also get the same index values using:\n",
    "# binary_index = np.unique(binaries_bpp.index.values)\n",
    "# we have to use np.unique because the bpp can have many rows per binary\n",
    "\n",
    "merging_binaries=[]\n",
    "primary_mass = []\n",
    "secondary_mass = []\n",
    "\n",
    "for index in binary_index:\n",
    "    \n",
    "    if binaries_bpp['kstar_1'].loc[index].values[-1] == 14:\n",
    "\n",
    "        if binaries_bpp['kstar_2'].loc[index].values[-1] == 14:\n",
    "            m1 = binaries_bpp['mass_1'].loc[index].values[-1] * Msun\n",
    "            m2 = binaries_bpp['mass_2'].loc[index].values[-1] * Msun\n",
    "            a = binaries_bpp['sep'].loc[index].values[-1] * Rsun\n",
    "            e = binaries_bpp['ecc'].loc[index].values[-1]\n",
    "            t = binaries_bpp['tphys'].loc[index].values[-1]*1e6\n",
    "            \n",
    "            if e == -1:\n",
    "                print('this binary has disrupted!')\n",
    "                t=1e20 # making this one have an incredibly long merger time\n",
    "\n",
    "            if e <= 0.5: \n",
    "                t_merger = calc_t_merger_small_e(m1, m2, a, e)/sec_in_year\n",
    "                t=t+t_merger\n",
    "                \n",
    "            if e > 0.5: \n",
    "                t_merger = calc_t_merger_big_e(m1, m2, a, e)/sec_in_year\n",
    "                t=t+t_merger\n",
    "                \n",
    "            if t < 13.7e9: # hubble time in billion years\n",
    "                merging_binaries.append(index)\n",
    "                two_masses = [m1/Msun, m2/Msun]\n",
    "                \n",
    "                primary_mass.append(max(two_masses))\n",
    "                secondary_mass.append(min(two_masses))"
   ]
  },
  {
   "cell_type": "markdown",
   "metadata": {},
   "source": []
  },
  {
   "cell_type": "markdown",
   "metadata": {},
   "source": [
    "### 5b) Find the fraction of binaries from your initial population that resulted in BBH mergers.\n",
    "\n",
    "- Sum up the total number of binary black hole mergers. \n",
    "- Divide that number by the total number of initial binaries in the population.\n",
    "    - Hint: Remember that each binary has a unique index."
   ]
  },
  {
   "cell_type": "code",
   "execution_count": 41,
   "metadata": {},
   "outputs": [
    {
     "name": "stdout",
     "output_type": "stream",
     "text": [
      "0.002461695174228598\n"
     ]
    }
   ],
   "source": [
    "num_BBH_merger = len(merging_binaries)\n",
    "num_initial_binaries = len(binary_index)\n",
    "fraction = num_BBH_merger/num_initial_binaries\n",
    "print(fraction)"
   ]
  },
  {
   "cell_type": "markdown",
   "metadata": {},
   "source": [
    "### 5c) Go to Slack and fill out the anonymous Poll 7 asking: what fraction of the initial binaries merged as BBHs."
   ]
  },
  {
   "cell_type": "markdown",
   "metadata": {},
   "source": [
    "# 6a. Use plt.hist to compare the initial conditions of the binaries that ended up merging to the initial conditions of the entire population\n",
    "\n",
    "Tips:\n",
    "- you should probably make two different histograms inside of plotted one on top of the other\n"
   ]
  },
  {
   "cell_type": "code",
   "execution_count": 42,
   "metadata": {},
   "outputs": [
    {
     "data": {
      "text/plain": [
       "Text(0.5, 1.0, 'initial condition of bbh merger population')"
      ]
     },
     "execution_count": 42,
     "metadata": {},
     "output_type": "execute_result"
    },
    {
     "data": {
      "image/png": "[encoded data removed]",
      "text/plain": [
       "<Figure size 432x288 with 1 Axes>"
      ]
     },
     "metadata": {
      "needs_background": "light"
     },
     "output_type": "display_data"
    },
    {
     "data": {
      "image/png": "[encoded data removed]",
      "text/plain": [
       "<Figure size 432x288 with 1 Axes>"
      ]
     },
     "metadata": {
      "needs_background": "light"
     },
     "output_type": "display_data"
    }
   ],
   "source": [
    "plt.figure()\n",
    "h = plt.hist(binaries_initCond['ecc'], range=(0,1))\n",
    "plt.xlabel('eccentricity', size=18)\n",
    "plt.ylabel('count', size=18)\n",
    "plt.title('initial population', size=18)\n",
    "\n",
    "plt.figure()\n",
    "h = plt.hist(binaries_initCond['ecc'].loc[merging_binaries], range=(0,1))\n",
    "plt.xlabel('eccentricity', size=18)\n",
    "plt.ylabel('count', size=18)\n",
    "plt.title('initial condition of bbh merger population', size=18)"
   ]
  },
  {
   "cell_type": "code",
   "execution_count": 43,
   "metadata": {},
   "outputs": [
    {
     "data": {
      "text/plain": [
       "Text(0.5, 1.0, 'initial condition of bbh merger population')"
      ]
     },
     "execution_count": 43,
     "metadata": {},
     "output_type": "execute_result"
    },
    {
     "data": {
      "image/png": "[encoded data removed]",
      "text/plain": [
       "<Figure size 432x288 with 1 Axes>"
      ]
     },
     "metadata": {
      "needs_background": "light"
     },
     "output_type": "display_data"
    },
    {
     "data": {
      "image/png": "[encoded data removed]",
      "text/plain": [
       "<Figure size 432x288 with 1 Axes>"
      ]
     },
     "metadata": {
      "needs_background": "light"
     },
     "output_type": "display_data"
    }
   ],
   "source": [
    "plt.figure()\n",
    "h = plt.hist(np.log10(binaries_initCond['porb']), range=(0,8),bins=20)\n",
    "plt.xlabel('log10 porb', size=18)\n",
    "plt.ylabel('count', size=18)\n",
    "plt.title('initial population', size=18)\n",
    "plt.figure()\n",
    "h = plt.hist(np.log10(binaries_initCond['porb'].loc[merging_binaries]), range=(0,8),bins=20)\n",
    "plt.xlabel('log10 porb', size=18)\n",
    "plt.ylabel('count', size=18)\n",
    "plt.title('initial condition of bbh merger population', size=18)"
   ]
  },
  {
   "cell_type": "markdown",
   "metadata": {},
   "source": [
    "### 6b) Make a histogram of only the primary masses you saved (the more massive BH). \n",
    "\n",
    "- remember, you were asked to save the index of the binaries that merged and the mass of the more massive black hole before the merger"
   ]
  },
  {
   "cell_type": "code",
   "execution_count": 44,
   "metadata": {},
   "outputs": [
    {
     "data": {
      "text/plain": [
       "Text(0.5, 1.0, 'BH masses before merger')"
      ]
     },
     "execution_count": 44,
     "metadata": {},
     "output_type": "execute_result"
    },
    {
     "data": {
      "image/png": "[encoded data removed]",
      "text/plain": [
       "<Figure size 432x288 with 1 Axes>"
      ]
     },
     "metadata": {
      "needs_background": "light"
     },
     "output_type": "display_data"
    }
   ],
   "source": [
    "h = plt.hist(primary_mass)\n",
    "plt.xlabel('mass', size=18)\n",
    "plt.ylabel('count', size=18)\n",
    "plt.title('BH masses before merger', size=18)"
   ]
  },
  {
   "cell_type": "markdown",
   "metadata": {},
   "source": [
    "### 6c) compare your plot to this one. \n",
    "\n",
    "![primary_mass](https://www.ligo.org/science/Publication-O2BBHPop/images/fig2.png)\n",
    "\n"
   ]
  },
  {
   "cell_type": "markdown",
   "metadata": {},
   "source": [
    "This plot shows the rate of BBH mergers per volume per year per primary mass. You can think of this plot as how likely you are to see a binary black hole merger with a specific primary mass. This plot was made using LIGO observations of real BBH mergers. The different colors correspond to different models. Each model has different assuptions, just to name a few: Model A assumed that BHs with masses below 5$M_{\\odot}$ do not exist. Model B assumed a different initial distribution of black holes.\n",
    "\n",
    "\n",
    "Your histogram is similar to this plot because a histogram can tell you there are many more mergers with primary masses around 5$M_{\\odot}$. This is similar to saying, if you had to guess it is more likely you will see a BBH merger with a primary mass around 5$M_{\\odot}$.\n",
    "\n",
    "This is not a perfect comparison but it is good enough! What comments can you make about it?\n",
    "\n",
    "This figure comes from this paper: https://dcc.ligo.org/public/0156/P1800324/009/O2RandP.pdf you don't have to read it. it is just for your reference"
   ]
  },
  {
   "cell_type": "markdown",
   "metadata": {},
   "source": [
    "### 6d) Make a histogram of the mass ratio, q = secondary_mass/primary_mass\n",
    "\n",
    "If your numbers are in an array you can simply divide the arrays. "
   ]
  },
  {
   "cell_type": "code",
   "execution_count": 45,
   "metadata": {
    "scrolled": true
   },
   "outputs": [
    {
     "data": {
      "text/plain": [
       "Text(0.5, 1.0, 'BH masses before merger')"
      ]
     },
     "execution_count": 45,
     "metadata": {},
     "output_type": "execute_result"
    },
    {
     "data": {
      "image/png": "[encoded data removed]",
      "text/plain": [
       "<Figure size 432x288 with 1 Axes>"
      ]
     },
     "metadata": {
      "needs_background": "light"
     },
     "output_type": "display_data"
    }
   ],
   "source": [
    "q = np.array(secondary_mass)/np.array(primary_mass)\n",
    "\n",
    "h = plt.hist(q)\n",
    "plt.xlabel('mass', size=18)\n",
    "plt.ylabel('count', size=18)\n",
    "plt.title('BH masses before merger', size=18)"
   ]
  },
  {
   "cell_type": "markdown",
   "metadata": {},
   "source": [
    "### 6e) Compare your plot to this one"
   ]
  },
  {
   "cell_type": "markdown",
   "metadata": {},
   "source": [
    "\n",
    "\n",
    "<img src=\"q_distribution.png\">"
   ]
  },
  {
   "cell_type": "markdown",
   "metadata": {},
   "source": [
    "This plot shows the rate of BBH mergers per volume per year per **mass ratio**. This is the same as the first plot. Again, you can think of this plot as how likely you are to see a binary black hole merger with a specific **mass ratio**. The colors here correspond to the same models as above. \n",
    "\n",
    "\n",
    "What comments can you make about this comparison?"
   ]
  },
  {
   "cell_type": "markdown",
   "metadata": {},
   "source": [
    "### 6f) Read this short article on the mass distribution of the resulting BH mass after a merger.\n",
    "\n",
    "https://aasnova.org/2019/07/10/exploring-a-black-hole-mass-conundrum/\n",
    "\n"
   ]
  },
  {
   "cell_type": "markdown",
   "metadata": {},
   "source": [
    "### 6g) Make a histogram of the resulting BH mass in each merger.\n",
    "\n",
    "If your numbers are in an array you can simply add them. Adding arrays will add the numbers element by element"
   ]
  },
  {
   "cell_type": "code",
   "execution_count": 46,
   "metadata": {},
   "outputs": [],
   "source": [
    "total_mass = np.array(secondary_mass)+np.array(primary_mass)\n"
   ]
  },
  {
   "cell_type": "code",
   "execution_count": 47,
   "metadata": {},
   "outputs": [
    {
     "data": {
      "text/plain": [
       "Text(0.5, 1.0, 'BH masses before merger')"
      ]
     },
     "execution_count": 47,
     "metadata": {},
     "output_type": "execute_result"
    },
    {
     "data": {
      "image/png": "[encoded data removed]",
      "text/plain": [
       "<Figure size 432x288 with 1 Axes>"
      ]
     },
     "metadata": {
      "needs_background": "light"
     },
     "output_type": "display_data"
    }
   ],
   "source": [
    "h = plt.hist(total_mass)\n",
    "plt.xlabel('mass', size=18)\n",
    "plt.ylabel('count', size=18)\n",
    "plt.title('BH masses before merger', size=18)"
   ]
  },
  {
   "cell_type": "markdown",
   "metadata": {},
   "source": [
    "### 6h) Compare your plot to this\n"
   ]
  },
  {
   "cell_type": "markdown",
   "metadata": {},
   "source": [
    "\n",
    "\n",
    "<img src=\"https://3iom3142cnb81rlnt6w4mtlr-wpengine.netdna-ssl.com/wp-content/uploads/2019/07/apjlab2336f5_hr.jpg\" style=\"width:30vw\">\n",
    "\n",
    "This is the last plot from the article you read.\n",
    "\n",
    "It comes from this scientific paper https://arxiv.org/pdf/1901.03345.pdf. You don't have to read this\n",
    "\n",
    "In this plot the y-axis shows a similar idea to the last image. It shows model predictions for the distribution of the observed total mass of 10 mergers. Similar to the last image you can think of it as how likely you will be to see a certain distribution of total masses. The different colors are again different models. The black line is the observed value from LIGO detections.\n",
    "\n",
    "This is not a perfect comparison but it is good enough! What comments can you make about your total mass distribution and the figure?\n"
   ]
  },
  {
   "cell_type": "markdown",
   "metadata": {},
   "source": [
    "## 7. Do this same comparison with different initial populations.\n",
    "\n",
    "#### This is meant for you to see how your results can change if you make different assumptions about the initial population.\n",
    "#### Changing parameters like this is one way astronomers can tune their assumptions to better match observations. This helps us have a better understanding of the universe by ruling out assumptions that don't match observations.\n",
    "\n",
    "**data_diff_imf.h5** has a completely different initial population of the binaries. The initial orbital periods, eccentricities, and mass ratios, among others.\n",
    "\n",
    "**data_lowZ.h5** has a different metallicity. It is 100x smaller amount of metals\n",
    "\n",
    "**data_wkicks.h5** this one includes \"kicks\". When stars explode as super nova the explosion can \"kick\" the remaining black hole."
   ]
  },
  {
   "cell_type": "code",
   "execution_count": null,
   "metadata": {},
   "outputs": [],
   "source": []
  }
 ],
 "metadata": {
  "anaconda-cloud": {},
  "kernelspec": {
   "display_name": "Python 3",
   "language": "python",
   "name": "python3"
  },
  "language_info": {
   "codemirror_mode": {
    "name": "ipython",
    "version": 3
   },
   "file_extension": ".py",
   "mimetype": "text/x-python",
   "name": "python",
   "nbconvert_exporter": "python",
   "pygments_lexer": "ipython3",
   "version": "3.7.6"
  }
 },
 "nbformat": 4,
 "nbformat_minor": 1
}
