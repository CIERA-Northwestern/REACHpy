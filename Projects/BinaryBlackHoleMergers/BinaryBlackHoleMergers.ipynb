{
 "cells": [
  {
   "cell_type": "code",
   "execution_count": null,
   "metadata": {},
   "outputs": [],
   "source": [
    "!pip install numpy==1.15.0"
   ]
  },
  {
   "cell_type": "code",
   "execution_count": null,
   "metadata": {},
   "outputs": [],
   "source": [
    "import pandas as pd\n",
    "import matplotlib.pyplot as plt\n",
    "%matplotlib inline\n",
    "import numpy as np\n"
   ]
  },
  {
   "cell_type": "code",
   "execution_count": null,
   "metadata": {},
   "outputs": [],
   "source": [
    "### Running in Google Colab? You'll want to uncomment and run these cell once each time you start this notebook.\n",
    "\n",
    "\"\"\"\n",
    "!wget https://raw.githubusercontent.com/psheehan/CIERA-HS-Program/master/Projects/BinaryBlackHoleMergers/data.h5\n",
    "!wget https://raw.githubusercontent.com/psheehan/CIERA-HS-Program/master/Projects/BinaryBlackHoleMergers/data_diff_imf.h5\n",
    "!wget https://raw.githubusercontent.com/psheehan/CIERA-HS-Program/master/Projects/BinaryBlackHoleMergers/data_lowZ.h5\n",
    "!wget https://raw.githubusercontent.com/psheehan/CIERA-HS-Program/master/Projects/BinaryBlackHoleMergers/data_wkicks.h5\n",
    "\"\"\""
   ]
  },
  {
   "cell_type": "markdown",
   "metadata": {},
   "source": [
    "\n",
    "<img src=\"7u5yfddeXVJP73NzbtNgnE-1024-80.jpg\" style=\"width:30vw\">"
   ]
  },
  {
   "cell_type": "markdown",
   "metadata": {},
   "source": [
    "# 0. Binary Stars!\n",
    "\n",
    "Binary stars are very common in the universe. As a graduate student my work focus on binary stars that evolve to become merging binary black holes!\n",
    "\n",
    "This project is intended to show you one way astronomers use observations of binary black hole mergers to inform our understanding of the universe.\n",
    "\n",
    "\n",
    "#### 0a. Watch this \"Crash Course\" video on binary stars.\n",
    "https://www.youtube.com/watch?v=pIFiCLhJmig\n",
    "\n",
    "\n",
    "#### 0b. Watch this video too. It goes more into detail about how binary stars can interact with one another. \n",
    "\n",
    "At time=3:46 in the video talks about the complicated evolution of binary stars. \n",
    "\n",
    "This is type of evolution is what allows for the formation of binary black hole systems!\n",
    "\n",
    "https://www.youtube.com/watch?v=AnE9EYgXxpU\n"
   ]
  },
  {
   "cell_type": "markdown",
   "metadata": {},
   "source": [
    "#### ~~ Other cool videos about black holes to watch on your own:\n",
    "\n",
    "2017: Graduate student Katie Bouman describing how her team will take a picture of a super massive black hole\n",
    "https://www.youtube.com/watch?v=BIvezCVcsYs \n",
    "\n",
    "2019: Vox video showing \n",
    "https://www.youtube.com/watch?v=pAoEHR4aW8I"
   ]
  },
  {
   "cell_type": "markdown",
   "metadata": {},
   "source": [
    "#  In this notebook you will be using simulation data from the code COSMIC. \n",
    "\n",
    "This code is used to simulate binary evoltion and was developed by graduate students, post-docs, and faculty in CIERA. \n",
    "\n",
    "It builds on previous work to model complicated binary evolution very quickly.\n",
    "\n",
    "Ideally we would model the complicated stellar interactions using fluid simulations like this https://aasnova.org/2016/02/29/featured-image-orbiting-stars-share-an-envelope/ but we don't fully understand the physics involved and those simulations take a long time to finish.\n",
    "\n",
    "The data I am giving you starts with a large initial popultion of stars with initial conditions that are supposed to replicate binary systems in the universe. COSMIC evolves those binaries through time.\n",
    "\n",
    "### 0c. When binary stars were formed in the universe what do you think they looked like? Go on Slack and answer the first 2 anonymous polls. You aren't supposed to know the answer. This is just to get your brain thinking about binary stars!"
   ]
  },
  {
   "cell_type": "markdown",
   "metadata": {},
   "source": [
    "# 1. Histograms "
   ]
  },
  {
   "cell_type": "markdown",
   "metadata": {},
   "source": [
    "## We are going to be using histograms a lot in this exercise to visualize our binary populations. 1a is supposed to help you become comfortable with them.\n",
    "\n",
    "A histogram is a helpful way to bin a list of numbers. \n",
    "\n"
   ]
  },
  {
   "cell_type": "markdown",
   "metadata": {},
   "source": [
    "### 1a. use np.random.randint to make a random list of numbers. \n",
    "\n",
    "low = lower bound for random numbers\n",
    "\n",
    "high = upper bound for random numbers\n",
    "\n",
    "size = how many numbers you want, start with something >20"
   ]
  },
  {
   "cell_type": "code",
   "execution_count": null,
   "metadata": {},
   "outputs": [],
   "source": [
    "# make a random list of intergers betweeen 2 numbers\n",
    "data = np.random.randint(low=, high=,size=)\n",
    "print(data)"
   ]
  },
  {
   "cell_type": "markdown",
   "metadata": {},
   "source": [
    "### 1b. Use plt.hist to bin your random numbers\n",
    "\n",
    "data = list of random numbers\n",
    "\n",
    "bins = number of bins"
   ]
  },
  {
   "cell_type": "code",
   "execution_count": null,
   "metadata": {},
   "outputs": [],
   "source": [
    "plt.figure()\n",
    "# feed in the array named data, place the values into 5 bins\n",
    "h = plt.hist(data, bins=5)"
   ]
  },
  {
   "cell_type": "markdown",
   "metadata": {},
   "source": [
    "### 1c. Change the number of bins to a large number to see what happends to the data.   "
   ]
  },
  {
   "cell_type": "code",
   "execution_count": null,
   "metadata": {},
   "outputs": [],
   "source": [
    "# change the number of bins here\n",
    "plt.figure()\n",
    "h = plt.hist(data, bins=)"
   ]
  },
  {
   "cell_type": "markdown",
   "metadata": {},
   "source": [
    "# Okay, lets finally read in the COSMIC data."
   ]
  },
  {
   "cell_type": "code",
   "execution_count": null,
   "metadata": {},
   "outputs": [],
   "source": [
    "# There are three different sections to the data\n",
    "# You will learn what they all mean separately! \n",
    "\n",
    "binaries_initCond = pd.read_hdf('data.h5', key='initCond')\n",
    "binaries_bcm = pd.read_hdf('data.h5', key='bcm')\n",
    "binaries_bpp = pd.read_hdf('data.h5', key='bpp')"
   ]
  },
  {
   "cell_type": "markdown",
   "metadata": {},
   "source": [
    "# binaries_initCond\n",
    "Gives information about the initial conditions of the binaries.  binaries_initCond will show you one possible answer to the questions on the polls.\n",
    "\n",
    "You can look at all the available data by seeing what columns you can access:\n"
   ]
  },
  {
   "cell_type": "code",
   "execution_count": null,
   "metadata": {},
   "outputs": [],
   "source": [
    "binaries_initCond.columns"
   ]
  },
  {
   "cell_type": "markdown",
   "metadata": {},
   "source": [
    "You can go to this website to see what some of these columns mean: \n",
    "https://cosmic-popsynth.github.io/docs/v3.2.0/output_info/index.html\n",
    "\n",
    "You can Ctrl+F or Command+F to search for the column name\n"
   ]
  },
  {
   "cell_type": "markdown",
   "metadata": {},
   "source": [
    "##  Play around with the data\n",
    "### 1d) Make histograms using plt.hist and plots using plt.scatter to see the initial conditions of these binaries.\n",
    "\n",
    "### 1e) Write a sentence or two about what you see.\n",
    "\n",
    "For example, if you plot **plt.hist(np.log10(binaries_initCond['porb']), bins=10, color='gray')**\n",
    "you can write something like: \n",
    "\n",
    "\"This is the distribution for the initial periods of the binaries.\n",
    "Large periods mean they start far away from each other, small periods mean they start close together.\n",
    "Most of the binaries star with small or medium valued orbital periods and fewer start with large orbital periods\"\n",
    "\n",
    "**check if this is true!**\n",
    "\n",
    "**Some other interesting columns are 'ecc', 'mass0_1, and binaries_initCond['mass0_2']/binaries_initCond['mass0_1']**"
   ]
  },
  {
   "cell_type": "markdown",
   "metadata": {},
   "source": [
    "## Bonus \n",
    "\n",
    "Make your own histogram funtion! (It's a little more ticky than you might think!)\n",
    "There are so many functions that are already made for you but there is value in builing them yourself! This is the best way to really understand what the function is doing\n"
   ]
  },
  {
   "cell_type": "code",
   "execution_count": null,
   "metadata": {},
   "outputs": [],
   "source": [
    "def plot_hist(data, bins ):\n",
    "\n",
    "    return plt, bin_vals\n",
    "    \n",
    "data = np.log10(binaries_initCond['porb'])\n",
    "bins = 20\n",
    "plt, bin_vals = plot_hist(data, bins )\n",
    "plt.xlabel('initial orbital period [log(days)]')\n"
   ]
  },
  {
   "cell_type": "code",
   "execution_count": null,
   "metadata": {},
   "outputs": [],
   "source": [
    "h = plt.hist()\n",
    "plt.xlabel(, size=18)\n",
    "plt.ylabel(, size=18)\n"
   ]
  },
  {
   "cell_type": "code",
   "execution_count": null,
   "metadata": {},
   "outputs": [],
   "source": [
    "h = plt.hist()\n",
    "plt.xlabel(, size=18)\n",
    "plt.ylabel(, size=18)"
   ]
  },
  {
   "cell_type": "code",
   "execution_count": null,
   "metadata": {},
   "outputs": [],
   "source": [
    "h = plt.hist()\n",
    "plt.xlabel(, size=18)\n",
    "plt.ylabel(, size=18)"
   ]
  },
  {
   "cell_type": "code",
   "execution_count": null,
   "metadata": {},
   "outputs": [],
   "source": [
    "# use this cell to check the answer to Poll #2\n",
    "# to check it you need to plot the mass ratio, q\n",
    "# q = m2/m1 (smaller mass/ larger mass)\n",
    "# values close to 1 mean the masses are similar\n",
    "# values close to 0 mean the masses are very different\n",
    "\n",
    "h = plt.hist()\n",
    "plt.xlabel(, size=18)\n",
    "plt.ylabel(, size=18)"
   ]
  },
  {
   "cell_type": "code",
   "execution_count": null,
   "metadata": {},
   "outputs": [],
   "source": [
    "plt.scatter(, , alpha=0.5, s=0.1)\n",
    "plt.xlabel(, size=18)\n",
    "plt.ylabel(, size=18)"
   ]
  },
  {
   "cell_type": "code",
   "execution_count": null,
   "metadata": {},
   "outputs": [],
   "source": [
    "plt.scatter(, , \n",
    "            alpha=, s=)\n",
    "plt.xlabel(, size=18)\n",
    "plt.ylabel(, size=18)"
   ]
  },
  {
   "cell_type": "markdown",
   "metadata": {},
   "source": [
    "# 2 binaries_bcm\n",
    "\n",
    "binaries_bcm has information about the last timestep in the data, tphys=13700.0. \n",
    "\n",
    "It can tell you things like: There is a black hole with a white dwarf. Their orbital period is 5 solar radii and their eccentricity is 0.2\n",
    "\n",
    "Let's look at the columns again"
   ]
  },
  {
   "cell_type": "code",
   "execution_count": null,
   "metadata": {},
   "outputs": [],
   "source": [
    "binaries_bcm.columns"
   ]
  },
  {
   "cell_type": "code",
   "execution_count": null,
   "metadata": {},
   "outputs": [],
   "source": [
    "binaries_bcm "
   ]
  },
  {
   "cell_type": "code",
   "execution_count": null,
   "metadata": {},
   "outputs": [],
   "source": [
    "# this is how you would look at all the values from 'RROL_2'\n",
    "binaries_bcm['RROL_2'].values"
   ]
  },
  {
   "cell_type": "markdown",
   "metadata": {},
   "source": [
    "### Using **binaries_initCond** and **binaries_bcm** we can see the initial and final snapshot of each binary. "
   ]
  },
  {
   "cell_type": "markdown",
   "metadata": {},
   "source": [
    "### 2a) Using binaries_initCond find the total mass in stellar objects in the initial conditions\n",
    "for binaries_initCond you will want to use the columns mass0_1 and mass0_2\n",
    "\n",
    "you can use np.sum() to sum up all the values"
   ]
  },
  {
   "cell_type": "code",
   "execution_count": null,
   "metadata": {},
   "outputs": [],
   "source": [
    "mass1_initial_total = \n",
    "mass2_initial_total = \n",
    "\n",
    "total_initial_mass = \n",
    "print(total_initial_mass)"
   ]
  },
  {
   "cell_type": "markdown",
   "metadata": {},
   "source": [
    "### 2b) Go on Slack and fill out the anonymous Poll #3. It asks how much initial mass you found. What are the units?\n",
    "\n",
    "### 2c) Using binaries_bcm find the total mass in stellar object in the final conditions\n",
    "for binaries_bcm you will want to use the columns mass_1 and mass_2"
   ]
  },
  {
   "cell_type": "code",
   "execution_count": null,
   "metadata": {},
   "outputs": [],
   "source": [
    "mass1_final_total = \n",
    "mass2_final_total = \n",
    "\n",
    "total_final_mass = \n",
    "print(total_final_mass)"
   ]
  },
  {
   "cell_type": "markdown",
   "metadata": {},
   "source": [
    "### 2d. Find the ratio of final mass in all binaries to the initial mass.\n",
    "This gives you the fraction of mass that is remaining. It should be less than one. \n"
   ]
  },
  {
   "cell_type": "code",
   "execution_count": null,
   "metadata": {},
   "outputs": [],
   "source": [
    "fraction = total_final_mass/total_initial_mass"
   ]
  },
  {
   "cell_type": "markdown",
   "metadata": {},
   "source": [
    "### 2e Fill out anonymous Poll #4 requesting ideas about how the mass was ejected."
   ]
  },
  {
   "cell_type": "markdown",
   "metadata": {},
   "source": [
    "## Lets look at specific rows in binaries_bcm\n",
    "\n",
    "How do we access the same binary in binaries_initCond and binaries_bcm?"
   ]
  },
  {
   "cell_type": "markdown",
   "metadata": {},
   "source": [
    "Each binary has its own unique number. In this data frame the unique number is its index value (the first column called bin_num). Run this cell to see"
   ]
  },
  {
   "cell_type": "code",
   "execution_count": null,
   "metadata": {},
   "outputs": [],
   "source": [
    "binaries_bcm"
   ]
  },
  {
   "cell_type": "markdown",
   "metadata": {},
   "source": [
    "You can access the unique index numbers by doing the following"
   ]
  },
  {
   "cell_type": "code",
   "execution_count": null,
   "metadata": {},
   "outputs": [],
   "source": [
    "# binaries_bcm.index gives you the numbers, adding .values at the end puts it in to an array\n",
    "# binaries_bcm.index.values\n",
    "\n",
    "binary_index_vals = binaries_bcm.index.values\n",
    "binary_index_vals"
   ]
  },
  {
   "cell_type": "code",
   "execution_count": null,
   "metadata": {},
   "outputs": [],
   "source": [
    "# you can access the elements in the array by doing:\n",
    "\n",
    "print('0th element', binary_index_vals[0])\n",
    "print('1st element', binary_index_vals[1])"
   ]
  },
  {
   "cell_type": "markdown",
   "metadata": {},
   "source": [
    "## If you have the row's index number (binary_index_vals = binaries_bcm.index.values) you use .loc to access the data for that index"
   ]
  },
  {
   "cell_type": "code",
   "execution_count": null,
   "metadata": {},
   "outputs": [],
   "source": [
    "print(binaries_bcm.loc[binary_index_vals[0]])\n",
    "\n",
    "# remember binary_index_vals[0] will give you the unique binary values"
   ]
  },
  {
   "cell_type": "markdown",
   "metadata": {},
   "source": [
    "Lets look at the final and initial values for one binary"
   ]
  },
  {
   "cell_type": "code",
   "execution_count": null,
   "metadata": {},
   "outputs": [],
   "source": [
    "print('Looking at initial conditions:')\n",
    "print(binaries_initCond.loc[binary_index_vals[2]],'\\n')\n",
    "\n",
    "\n",
    "print('Looking at final conditions:')\n",
    "print(binaries_bcm.loc[binary_index_vals[2]])\n",
    "\n",
    "# you might get some weird output for the binaries_initCond. This is because I am using an older version of COSMIC\n",
    "# and the developed probably fixed that in the newer version"
   ]
  },
  {
   "cell_type": "markdown",
   "metadata": {},
   "source": [
    "## IMPORTANT: look before moving on\n",
    "\n"
   ]
  },
  {
   "cell_type": "markdown",
   "metadata": {},
   "source": [
    "So far you have looked at entire columns in the data but what if you only want one row in one column?\n",
    "\n",
    ".iloc and .loc are used for that **BUT** .iloc and .loc are very different.\n",
    "\n",
    ".iloc doesn't care about the index (in this case the unique bin_num) of the row. It only cares about the position of the row in the data, similar to how you access a normal array. Use this when you want to call data as if it were in an array\n",
    "\n",
    ".loc is used with the row index (in this case the unique bin_num). \n",
    "\n",
    "make sure you understand this before moving on!\n",
    "\n",
    "There are different ways to access specific rows in your columns. These are the ways it makes the most sense to me:"
   ]
  },
  {
   "cell_type": "code",
   "execution_count": null,
   "metadata": {},
   "outputs": [],
   "source": [
    "# here I look at the column named rad_1\n",
    "print('Entire column:')\n",
    "print(binaries_bcm['rad_1'])\n",
    "\n",
    "# putting the unique index/bin_num values in an array\n",
    "binary_index_vals = binaries_bcm.index.values\n",
    "\n",
    "# here I look at the column rad_1 but only the first row.\n",
    "# to access the first row with loc we use the row's index value: index value = binary_index_vals[0]\n",
    "# remember, since we are using the index values we have to use loc, not iloc\n",
    "print(' -----------')\n",
    "print('Just first row with .loc')\n",
    "index_value = binary_index_vals[0]\n",
    "print('index value = ', index_value)\n",
    "print(binaries_bcm['rad_1'].loc[index_value])\n",
    "\n",
    "\n",
    "# to access the first row with iloc we can access it like a numpy array\n",
    "print(' -----------')\n",
    "print('Just first row with .iloc')\n",
    "i_value = 0\n",
    "print(binaries_bcm['rad_1'].iloc[i_value])"
   ]
  },
  {
   "cell_type": "markdown",
   "metadata": {},
   "source": [
    "### Another important note:\n",
    "\n",
    "Think carefully when you want to use .iloc or .loc.\n",
    "\n",
    "If you are just looking in one data frame then .iloc is probably fine.\n",
    "\n",
    "If you want to access the same binary in the datafram binaries_bcm and binaries_initCond it is better to use .loc. You can use .iloc BUT are you sure that .iloc[0] will give you the same binary every time? It is much more safe to use .loc because you know that the index values are unique to each binary."
   ]
  },
  {
   "cell_type": "markdown",
   "metadata": {},
   "source": [
    "# 3. Mass in black holes"
   ]
  },
  {
   "cell_type": "markdown",
   "metadata": {},
   "source": [
    "The point of this section is to get more comfortable with the accessing the data. \n",
    "\n",
    "### 3a) Use binaries_bcm to find the total mass in the last snapshot that is only in black holes.\n",
    "\n",
    "Tip: You can do this using a for loop but it can be done MUCH faster if you use something like np.where()\n",
    "Look at this stack overflow link on np.where https://stackoverflow.com/questions/34667282/numpy-where-detailed-step-by-step-explanation-examples"
   ]
  },
  {
   "cell_type": "markdown",
   "metadata": {},
   "source": [
    "You can find which objects are black holes using the \"kstar_1\" and \"kstar_2\" columns. Here is what the numbers represent. \n",
    "\n",
    "https://cosmic-popsynth.github.io/docs/v3.2.0/output_info/index.html\n"
   ]
  },
  {
   "cell_type": "code",
   "execution_count": null,
   "metadata": {},
   "outputs": [],
   "source": [
    "# here is a mini tutorial if you are stuck using np.where\n",
    "\n",
    "\n",
    "a = np.arange(0,10)\n",
    "print('a =', a, '\\n')\n",
    "\n",
    "print('I want to find the indicies where this condition is met a<5.')\n",
    "print('a<5 =', a<5, '\\n')\n",
    "\n",
    "print('Using np.where like this will give you the indicies where the condition is met')\n",
    "where_true = np.where(a<5)[0]\n",
    "print('np.where(a<5)[0] = ', where_true, '\\n')\n",
    "\n",
    "print('Now I can go back to my array \"a\" and call those elements')\n",
    "print(a[where_true])\n"
   ]
  },
  {
   "cell_type": "code",
   "execution_count": null,
   "metadata": {},
   "outputs": [],
   "source": []
  },
  {
   "cell_type": "code",
   "execution_count": null,
   "metadata": {},
   "outputs": [],
   "source": []
  },
  {
   "cell_type": "code",
   "execution_count": null,
   "metadata": {},
   "outputs": [],
   "source": []
  },
  {
   "cell_type": "markdown",
   "metadata": {},
   "source": [
    "### 3b) What is the fraction of BH mass at the end of simulation to the total mass at the end of the simulation?"
   ]
  },
  {
   "cell_type": "code",
   "execution_count": null,
   "metadata": {},
   "outputs": [],
   "source": []
  },
  {
   "cell_type": "markdown",
   "metadata": {},
   "source": [
    "### 3c) Go to Slack and answer anonymous Poll  #5 asking what fraction you got."
   ]
  },
  {
   "cell_type": "code",
   "execution_count": null,
   "metadata": {},
   "outputs": [],
   "source": []
  },
  {
   "cell_type": "code",
   "execution_count": null,
   "metadata": {},
   "outputs": [],
   "source": []
  },
  {
   "cell_type": "markdown",
   "metadata": {},
   "source": [
    "# 4. A look at the bpp\n",
    "\n",
    "\n",
    "### We need to learn how to use binaries_bpp\n",
    "\n",
    "binaries_bcm and binaries_iniCond have just one row for each binary. \n",
    "\n",
    "binaries_bpp contains multiple rows for each binary. Every row is a different time and represents a key evolutionary change. "
   ]
  },
  {
   "cell_type": "code",
   "execution_count": null,
   "metadata": {},
   "outputs": [],
   "source": [
    "binaries_bpp"
   ]
  },
  {
   "cell_type": "markdown",
   "metadata": {},
   "source": [
    "Lets once again get the unique index values so that we can access different binaries."
   ]
  },
  {
   "cell_type": "code",
   "execution_count": null,
   "metadata": {},
   "outputs": [],
   "source": [
    "# put the index values in a numpy array for easy access\n",
    "binary_index_not_unique_values = binaries_bpp.index.values \n",
    "binary_index_not_unique_values"
   ]
  },
  {
   "cell_type": "code",
   "execution_count": null,
   "metadata": {},
   "outputs": [],
   "source": [
    "# this time we need to use np.unique since many rows have the same index\n",
    "binary_index = np.unique(binaries_bpp.index.values )\n",
    "binary_index"
   ]
  },
  {
   "cell_type": "code",
   "execution_count": null,
   "metadata": {},
   "outputs": [],
   "source": [
    "# remember, since we are using the index values we have to use loc, NOT iloc\n",
    "binaries_bpp.loc[binary_index[0]]"
   ]
  },
  {
   "cell_type": "markdown",
   "metadata": {},
   "source": [
    "### 4a) Choose any binary you want. Make a plot  showing how the mass of the primary star \"mass_1\" changes over time \"tphys\".  Make sure you label you plots! What are the units?\n"
   ]
  },
  {
   "cell_type": "markdown",
   "metadata": {},
   "source": [
    "**Tips:** \n",
    "\n",
    "You can access the data by doing:\n",
    "\n",
    "binaries_bpp[\"column_name\"].loc[binary_index_num].values"
   ]
  },
  {
   "cell_type": "code",
   "execution_count": null,
   "metadata": {},
   "outputs": [],
   "source": [
    "x = \n",
    "y = \n",
    "\n",
    "plt.plot(x, y)\n",
    "plt.xlabel(, size=18)\n",
    "plt.ylabel(, size=18)"
   ]
  },
  {
   "cell_type": "markdown",
   "metadata": {},
   "source": [
    "### 4b) Make a plot showing how the mass of the primary star \"mass_1\" and secondary star \"mass_2\" changes over time \"tphys\". Add labels so you can tell them apart\n",
    "\n",
    "### Look through the binaries until you find a system like this:\n",
    "\n",
    "<img src=\"mass_evolution.png\">\n",
    "\n",
    "### One mass is increasing while the other decreases. From the videos you watched, can you describe what is happening?\n",
    "\n",
    "### 4c) Go to Slack and fill out the anonymous free response poll (Poll #6) asking what binary interaction explains the changes in mass"
   ]
  },
  {
   "cell_type": "code",
   "execution_count": null,
   "metadata": {},
   "outputs": [],
   "source": [
    "i = 1\n",
    "x = \n",
    "y1 = \n",
    "y2 = \n",
    "\n",
    "plt.plot(x, y1, label=, linewidth=3)\n",
    "plt.plot(x, y2, label=, linewidth=3)\n",
    "plt.xlabel(, size=18)\n",
    "plt.ylabel(, size=18)\n",
    "plt.legend()"
   ]
  },
  {
   "cell_type": "markdown",
   "metadata": {},
   "source": [
    "# 5. Merging Binary Black holes"
   ]
  },
  {
   "cell_type": "markdown",
   "metadata": {},
   "source": [
    "Watch these two videos about LIGO/Gravitational waves. \n",
    "\n",
    "https://www.youtube.com/watch?v=B4XzLDM3Py8\n",
    "\n",
    "https://www.youtube.com/watch?v=4GbWfNHtHRg\n"
   ]
  },
  {
   "cell_type": "markdown",
   "metadata": {},
   "source": [
    "### Now lets do something more challenging!\n",
    "\n",
    "\n",
    "The goal of this section is for you to find out which binary black hole systems will merge within a Hubble time. What causes these black holes to merge? Gravitational waves emitted by the black holes orbiting each other take away energy from the orbit. When this happens the orbit shrinks. We can calculate how long it will take for two black holes to merge if gravitational waves are the only thing causing the orbit to lose energy.\n",
    "\n",
    "Hubble time = the age of the universe = 13.8 billion years\n",
    "\n",
    "\n",
    "You will need to find all the binaries where in the last timestep both objects are black holes. You then need to calculate the merger time ($t_{\\rm merger}$) with the equations provided. "
   ]
  },
  {
   "cell_type": "markdown",
   "metadata": {},
   "source": [
    "### 5a) Calculate which binary black hole systems will merge within the age of the universe. Use the direction/tips below\n",
    "### You need to create 3 arrays. \n",
    "\n",
    "- array to store the binary index of the merged binaries\n",
    "\n",
    "- array to store the mass of the most massive BH before merger\n",
    "\n",
    "- array to store the smaller mass BH before merger. \n",
    "\n",
    "A guide/tips: \n",
    "\n",
    "#### 1) You will need to access each binary similar to how you made the plots:\n",
    "\n",
    "binaries_bpp[\"column_name\"].loc[binary_index_number].values\n",
    "\n",
    "\n",
    "#### 2) You need to check that both objects are black holes **kstar_1 == 14** and **kstar_2 == 14** in the last timestep\n",
    "\n",
    "To look at the last element in an array you use array[-1]\n",
    "\n",
    "Here it looks like binaries_bpp['column_name'].loc[binary_index_number].values**[-1]**\n",
    "\n",
    "or \n",
    "\n",
    "np.array(binaries_bpp['column_name'].loc[binary_index_number])**[-1]**\n",
    "\n",
    "#### 3) You need to get the values of eccentricity, separation, M1, M1, and time in the last timestep. Put them in CGS units\n",
    "http://www.astro.wisc.edu/~dolan/constants.html\n",
    "\n",
    "\n",
    "#### 4) Calculate t_merger\n",
    "For circular orbits \n",
    "\n",
    "$$ t_{\\rm merger, circular} = \\frac{a^4}{4 \\beta} $$\n",
    "\n",
    "where $\\beta = \\frac{64}{5} \\frac{G^3 m_1 m_2 (m_1 + m_2)}{c^5}$, $a$ is separation, $G$ is the gravitational constant, and $c$ is the speed of light. It is unlikely that a binary will be perfectly circular. \n",
    "\n",
    "For eccentricity < 0.5 use:\n",
    "\n",
    "\n",
    "$$ t_{\\rm merger} = \\frac{c_{0}^4 }{4 \\beta} e ^{48/19} $$\n",
    "\n",
    "where $$c_{0} = \\frac{a (1 - e^2)} { e^{12/19} \\left[1 + \\frac{121}{304}e^2 \\right]^{870/2299} } $$\n",
    "\n",
    "\n",
    "for eccentricity > 0.5 use:\n",
    "\n",
    "$$ t_{\\rm merger} = \\frac{768}{425} t_{\\rm merger, circular} (1 - e^2)^{7/2} $$\n",
    "\n",
    "***These equations are from a paper from 1964! https://ui.adsabs.harvard.edu/abs/1964PhRv..136.1224P/abstract***\n",
    "\n",
    "*** Notes:  ***\n",
    "\n",
    " - Some eccentricities = -1. This is not physical and means the black holes are not orbiting each other anymore. Find a way to ignore these. \n",
    "\n",
    "- You will have to keep track of the units. To do this you can change all simulation variables to cgs. The output of your t_merger calcuations will be in seconds\n",
    "\n",
    "#### 5) Add your calculated t_merger to the time in the last timestep. Check if that sum is less than the age of the universe, 13.8 billion years. (remember that your t_merger is in seconds )\n",
    "\n",
    "#### 6) If the time is less than 13.8 billion years, congratulations! You found a merging black hole binary system! \n",
    "\n",
    "#### 7) When you find a merging system save its data! In one array save the index of the merging binary. In another array save the mass of the more massive black hole before the merger, this is called the primary BH. In another array save the mass of the lower mass BH, this one is called the secondary  "
   ]
  },
  {
   "cell_type": "code",
   "execution_count": null,
   "metadata": {},
   "outputs": [],
   "source": [
    "# it is much easier and neater to write up equations in a function \n",
    "# when you are trying to calculate something many times\n",
    "\n",
    "# see how you can make a function here \n",
    "def number_squared( x ):\n",
    "    return x**2\n",
    "\n",
    "\n",
    "# you can call functions inside other functions\n",
    "def divide_by_2_after_square(x):\n",
    "    squared = number_squared(x)\n",
    "    return squared/2\n",
    "\n",
    "number = 10 \n",
    "print(number_squared( number ))\n",
    "print(divide_by_2_after_square( number ))\n",
    "\n",
    "print('*****NOTE****')\n",
    "print('this is NOT how you should calculate (x**2) / 2')\n",
    "print('this is just an example of how you may use functions for this exercise')"
   ]
  },
  {
   "cell_type": "code",
   "execution_count": null,
   "metadata": {},
   "outputs": [],
   "source": [
    "# Here is the function for beta to get you started, you just need to fill in G and c in cgs\n",
    "def calc_beta(m1,m2):\n",
    "    G = \n",
    "    c = \n",
    "    return (64./5.) * ( (G**3 * m1 * m2 * (m1+m2) ) /c**5 )\n",
    "    \n",
    "def calc_t_merger_small_e():\n",
    "\n",
    "    return \n",
    "\n",
    "def calc_t_merger_big_e():\n",
    "\n",
    "    \n",
    "    return "
   ]
  },
  {
   "cell_type": "code",
   "execution_count": null,
   "metadata": {
    "scrolled": true
   },
   "outputs": [],
   "source": [
    "Msun = 1.99e33\n",
    "Rsun = 6.96e10\n",
    "sec_in_year = 3.154e7\n",
    "\n",
    "# this is here incase you need something to get your started. you don't have to use a for loop \n",
    "\n",
    "merging_binaries=[]\n",
    "primary_mass = []\n",
    "secondary_mass = []\n",
    "\n",
    "for  in :\n",
    "    \n",
    "    if binaries_bpp['kstar_1'].loc[index].values[-1] == 14:\n",
    "\n"
   ]
  },
  {
   "cell_type": "markdown",
   "metadata": {},
   "source": [
    "### 5b) Find the fraction of binaries from your initial population that resulted in BBH mergers.\n",
    "\n",
    "- Sum up the total number of binary black hole mergers. \n",
    "- Divide that number by the total number of initial binaries in the population.\n",
    "    - Hint: Remember that each binary has a unique index."
   ]
  },
  {
   "cell_type": "code",
   "execution_count": null,
   "metadata": {},
   "outputs": [],
   "source": []
  },
  {
   "cell_type": "markdown",
   "metadata": {},
   "source": [
    "### 5c) Go to Slack and fill out the anonymous poll 7 asking: what fraction of the initial binaries merged as BBHs."
   ]
  },
  {
   "cell_type": "markdown",
   "metadata": {},
   "source": [
    "# 6a. Use plt.hist to compare the initial conditions of the binaries that ended up merging to the initial conditions of the entire population\n",
    "\n",
    "Tips:\n",
    "- you should probably make two different histograms inside of plotted one on top of the other\n",
    "- remember you can use the binary index and .loc to get specific binaries\n"
   ]
  },
  {
   "cell_type": "code",
   "execution_count": null,
   "metadata": {},
   "outputs": [],
   "source": [
    "plt.figure()\n",
    "h = plt.hist(, range=())\n",
    "plt.xlabel(, size=18)\n",
    "plt.ylabel(, size=18)\n",
    "plt.title('initial population', size=18)\n",
    "\n",
    "plt.figure()\n",
    "h = plt.hist(, range=())\n",
    "plt.xlabel(, size=18)\n",
    "plt.ylabel(, size=18)\n",
    "plt.title('initial condition of bbh merger population', size=18)"
   ]
  },
  {
   "cell_type": "code",
   "execution_count": null,
   "metadata": {},
   "outputs": [],
   "source": []
  },
  {
   "cell_type": "markdown",
   "metadata": {},
   "source": [
    "### 6b) Make a histogram of only the primary masses you saved (the more massive BH). \n",
    "\n",
    "- remember, you were asked to save the index of the binaries that merged and the mass of the more massive black hole before the merger"
   ]
  },
  {
   "cell_type": "code",
   "execution_count": null,
   "metadata": {},
   "outputs": [],
   "source": [
    "h = plt.hist()\n",
    "plt.xlabel(, size=18)\n",
    "plt.ylabel(, size=18)\n",
    "plt.title('primary mass before BBH merger', size=18)"
   ]
  },
  {
   "cell_type": "markdown",
   "metadata": {},
   "source": [
    "### 6c) compare your plot to this one. \n",
    "\n",
    "![primary_mass](https://www.ligo.org/science/Publication-O2BBHPop/images/fig2.png)\n",
    "\n"
   ]
  },
  {
   "cell_type": "markdown",
   "metadata": {},
   "source": [
    "This plot shows the rate of BBH mergers per volume per year per primary mass. You can think of this plot as how likely you are to see a binary black hole merger with a specific primary mass. This plot was made using LIGO observations of real BBH mergers. The different colors correspond to different models. Each model has different assuptions, just to name a few: Model A assumed that BHs with masses below 5$M_{\\odot}$ do not exist. Model B assumed a different initial distribution of black holes.\n",
    "\n",
    "\n",
    "Your histogram is similar to this plot because a histogram can tell you there are many more mergers with primary masses around 5$M_{\\odot}$. This is similar to saying, if you had to guess it is more likely you will see a BBH merger with a primary mass around 5$M_{\\odot}$.\n",
    "\n",
    "This is not a perfect comparison but it is good enough! **What comments can you make about it?** Remember you are comparing simulation data to data informed by real events!\n",
    "\n",
    "This figure comes from this paper: https://dcc.ligo.org/public/0156/P1800324/009/O2RandP.pdf you don't have to read it. it is just for your reference"
   ]
  },
  {
   "cell_type": "markdown",
   "metadata": {},
   "source": [
    "### 6d) Make a histogram of the mass ratio, q = secondary_mass/primary_mass\n",
    "\n",
    "If your numbers are in an array you can simply divide the arrays. "
   ]
  },
  {
   "cell_type": "code",
   "execution_count": null,
   "metadata": {
    "scrolled": true
   },
   "outputs": [],
   "source": [
    "q = \n"
   ]
  },
  {
   "cell_type": "markdown",
   "metadata": {},
   "source": [
    "### 6e) Compare your plot to this one"
   ]
  },
  {
   "cell_type": "markdown",
   "metadata": {},
   "source": [
    "\n",
    "\n",
    "<img src=\"q_distribution.png\">"
   ]
  },
  {
   "cell_type": "markdown",
   "metadata": {},
   "source": [
    "This plot shows the rate of BBH mergers per volume per year per **mass ratio**. This is the same as the first plot. Again, you can think of this plot as how likely you are to see a binary black hole merger with a specific **mass ratio**. The colors here correspond to the same models as above. \n",
    "\n",
    "\n",
    "What comments can you make about this comparison? Do any of the models look similar to your histogram?\n"
   ]
  },
  {
   "cell_type": "markdown",
   "metadata": {},
   "source": [
    "### 6f) Read this short article on the mass distribution of the resulting BH mass after a merger.\n",
    "\n",
    "https://aasnova.org/2019/07/10/exploring-a-black-hole-mass-conundrum/\n",
    "\n"
   ]
  },
  {
   "cell_type": "markdown",
   "metadata": {},
   "source": [
    "### 6g) Make a histogram of the resulting BH mass in each merger.\n",
    "\n",
    "If your numbers are in an array you can simply add them. Adding arrays will add the numbers element by element"
   ]
  },
  {
   "cell_type": "code",
   "execution_count": null,
   "metadata": {},
   "outputs": [],
   "source": [
    "total_mass = \n"
   ]
  },
  {
   "cell_type": "code",
   "execution_count": null,
   "metadata": {},
   "outputs": [],
   "source": [
    "h = plt.hist()\n",
    "plt.xlabel(, size=18)\n",
    "plt.ylabel(, size=18)\n",
    "plt.title(, size=18)"
   ]
  },
  {
   "cell_type": "markdown",
   "metadata": {},
   "source": [
    "### 6h) Compare your plot to this\n"
   ]
  },
  {
   "cell_type": "markdown",
   "metadata": {},
   "source": [
    "\n",
    "\n",
    "<img src=\"https://3iom3142cnb81rlnt6w4mtlr-wpengine.netdna-ssl.com/wp-content/uploads/2019/07/apjlab2336f5_hr.jpg\" style=\"width:30vw\">\n",
    "\n",
    "This is the last plot from the article you read.\n",
    "\n",
    "It comes from this scientific paper https://arxiv.org/pdf/1901.03345.pdf. You don't have to read this\n",
    "\n",
    "In this plot the y-axis shows a similar idea to the last image. It shows model predictions for the distribution of the observed total mass of 10 mergers. Similar to the last image you can think of it as how likely it is to see a certain distribution of total final BH masses. The different colors are again different models. The black line is informed by the observed values from LIGO detections.\n",
    "\n",
    "This is not a perfect comparison but it is good enough! What comments can you make about your total mass distribution and the figure? What range do you have on the x-axis and what range does the other plot have?\n"
   ]
  },
  {
   "cell_type": "markdown",
   "metadata": {},
   "source": [
    "## 7. Do this same comparison with the different initial populations I have provided. \n",
    "#### You do not have to redo all the poll questions.\n",
    "\n",
    "#### This is meant for you to see how your results can change if you make different assumptions about the initial population.\n",
    "#### Changing parameters like this is one way astronomers can tune their assumptions to better match observations. This helps us have a better understanding of the universe by ruling out assumptions that don't match observations.\n",
    "\n",
    "**data_diff_imf.h5** has a completely different initial population of the binaries. The initial orbital periods, eccentricities, and mass ratios, among others.\n",
    "\n",
    "**data_lowZ.h5** has a different metallicity. It is 100x smaller amount of metals\n",
    "\n",
    "**data_wkicks.h5** this one includes \"kicks\". When stars explode as super nova the explosion can \"kick\" the remaining black hole.\n",
    "\n",
    "## Which file gave a better comparison to the plots from scientific papers?\n",
    "## Answer the final poll (yay!), Poll #8.  "
   ]
  },
  {
   "cell_type": "code",
   "execution_count": null,
   "metadata": {},
   "outputs": [],
   "source": []
  }
 ],
 "metadata": {
  "anaconda-cloud": {},
  "kernelspec": {
   "display_name": "Python 3",
   "language": "python",
   "name": "python3"
  },
  "language_info": {
   "codemirror_mode": {
    "name": "ipython",
    "version": 3
   },
   "file_extension": ".py",
   "mimetype": "text/x-python",
   "name": "python",
   "nbconvert_exporter": "python",
   "pygments_lexer": "ipython3",
   "version": "3.8.5"
  }
 },
 "nbformat": 4,
 "nbformat_minor": 1
}
