{
 "cells": [
  {
   "cell_type": "markdown",
   "metadata": {},
   "source": [
    "# Weighing Baby Solar Systems with the Very Large Array"
   ]
  },
  {
   "cell_type": "markdown",
   "metadata": {},
   "source": [
    "Leader: Patrick Sheehan"
   ]
  },
  {
   "cell_type": "markdown",
   "metadata": {},
   "source": [
    "### Background\n",
    "\n",
    "Stars form from clouds of gas and dust that exist within our galaxy. This is a picture of the Orion Nebula, one of the biggest nearby star forming regions:\n",
    "\n",
    "<img src=\"Orion2010_andreo2000.jpg\">\n",
    "\n",
    "If you zoom way in on a single forming star in this region, you see a dark, dusty disk silhoutted agains the bright background of the Orion Nebula:\n",
    "\n",
    "<img src=\"heic0917bb.jpg\">\n",
    "\n",
    "It's in these \"protoplanetary disks\" that planets form, so how much material is in them, i.e. their \"mass\", tells you what sort of planetary system they are capable of forming. It turns out that radio telescopes, like the VLA:\n",
    "\n",
    "<img src=\"VLA-MilkyWay_NIK_1051.jpg\">\n",
    "\n",
    "take pictures that are sensitive to the amount of material that is present in these disks. I have collected VLA observations of 27 \"protoplanetary disks\" in the Taurus Molecular Cloud Complex, another young \"star forming region\", that are all <1 million years old, so particularly young. We would like to know how much material is present in those systems, so that we can understand the types of planetary systems that they can form."
   ]
  },
  {
   "cell_type": "markdown",
   "metadata": {},
   "source": [
    "### Measuring the masses of protoplanetary disks in Taurus\n",
    "\n",
    "To get started, let's download the data for one of the 27 objects. I have put all of the images into a Google Drive folder, when you are ready, ask Patrick to share that folder with you. Go to that folder, pick out one of the objects, and download the FITS image for that source. If doing this via Google Colab, you should be able to load Google Drive and read the data directly from there (*Hint:* See the AccessingGoogleDrive notebook):"
   ]
  },
  {
   "cell_type": "code",
   "execution_count": null,
   "metadata": {},
   "outputs": [],
   "source": []
  },
  {
   "cell_type": "markdown",
   "metadata": {},
   "source": [
    "Also, load in the data from the FITS file (*Hint: See the Astropy-images tutorial for further details*):"
   ]
  },
  {
   "cell_type": "code",
   "execution_count": null,
   "metadata": {},
   "outputs": [],
   "source": []
  },
  {
   "cell_type": "markdown",
   "metadata": {},
   "source": [
    "Now, use matplotlib to make a plot showing an image of that FITS file that you just downloaded. You might want to change the stretch to see if you can bring out any faint features:"
   ]
  },
  {
   "cell_type": "code",
   "execution_count": null,
   "metadata": {},
   "outputs": [],
   "source": []
  },
  {
   "cell_type": "markdown",
   "metadata": {},
   "source": [
    "It turns out that how much material is in a protoplanetary disk is proportional to the brightness of the disk in this image, or the \"flux\". What is the highest value you can find for one of the pixels in the image? That should be pretty close to the total flux of the source. Record it here:"
   ]
  },
  {
   "cell_type": "code",
   "execution_count": null,
   "metadata": {},
   "outputs": [],
   "source": [
    "flux = "
   ]
  },
  {
   "cell_type": "markdown",
   "metadata": {},
   "source": [
    "The formula for calculating the mass of a disk from a flux is:\n",
    "\n",
    "\\begin{equation}\n",
    "M_d = \\frac{F_{\\nu} \\, d^2}{B_{\\nu}(T) \\, \\kappa_{\\nu}}\n",
    "\\end{equation}\n",
    "\n",
    "where $F_{\\nu}$ is the flux, $d$ is the distance to the source, $T$ is the temperature of the disk, and $\\kappa_{\\nu}$ is the \"opacity\". Disks typically have a temperature of $\\sim20$ K, so that is probably appropriate to use here. A typical value for $\\kappa_{\\nu}$ is $\\sim 0.1$ cm$^2$/g, so that is also a reasonable value to use. $\\nu$ is the frequency of light that the picture was taken with, which happens to be 33 GHz. You'll need to look up the distance to the Taurus Molecular Cloud Complex. $B_{\\nu}(T)$ is the \"blackbody function\". Rather than trying to program this yourself (it's complicated), you can use the blackbody_nu function in the astropy package: https://docs.astropy.org/en/stable/api/astropy.modeling.blackbody.blackbody_nu.html#astropy.modeling.blackbody.blackbody_nu."
   ]
  },
  {
   "cell_type": "code",
   "execution_count": null,
   "metadata": {
    "scrolled": true
   },
   "outputs": [],
   "source": [
    "from astropy.modeling.blackbody import blackbody_nu"
   ]
  },
  {
   "cell_type": "markdown",
   "metadata": {},
   "source": [
    "Use the blackbody function and the information above to calculate mass of this protoplanetary disk:"
   ]
  },
  {
   "cell_type": "code",
   "execution_count": null,
   "metadata": {},
   "outputs": [],
   "source": [
    "mass ="
   ]
  },
  {
   "cell_type": "markdown",
   "metadata": {},
   "source": [
    "The Earth has a mass of $M_{\\oplus} = 5.972 \\times 10^{27}$ grams. How many Earths could be formed out of this disk?"
   ]
  },
  {
   "cell_type": "code",
   "execution_count": null,
   "metadata": {},
   "outputs": [],
   "source": []
  },
  {
   "cell_type": "markdown",
   "metadata": {},
   "source": [
    "Now that we've done this calculation for a single disk, can you write a loop to do the calculation for all 27 of the disks? One thing to keep in mind - there might be some sources that are binary or multiple systems. Can you make your code report all of the sources? Also, do any of the images have any weird features in them? They may not, but one thing to keep an eye out for are  strange rays or striping in the image that could be caused by issues with the observations. If so, report to Patrick so he can fix them!"
   ]
  },
  {
   "cell_type": "code",
   "execution_count": null,
   "metadata": {},
   "outputs": [],
   "source": []
  },
  {
   "cell_type": "markdown",
   "metadata": {},
   "source": [
    "Finally, now that we have masses for all of the disks, can you make a plot of the distribution of the masses of all of the disks? $Hint$: You can use the matplotlib \"hist\" function: https://matplotlib.org/3.2.1/api/_as_gen/matplotlib.pyplot.hist.html. Also consider plotting it as a cumulative distribution, also using the hist function."
   ]
  },
  {
   "cell_type": "code",
   "execution_count": null,
   "metadata": {},
   "outputs": [],
   "source": []
  },
  {
   "cell_type": "markdown",
   "metadata": {},
   "source": [
    "### Comparing with Protoplanetary Disks in Other Star Forming Regions\n",
    "\n",
    "Taurus isn't the only star forming region, but it is one of the youngest, with disks that are $<1$ millions years old. Other scientists have done calculations similar to the ones you just did to calculate the masses of protoplanetary disks in older star forming regions. Two of those that we want to compare to are the Chameleon star forming region ($\\sim2-3$ million years old) and the Upper Sco region ($\\sim5-10$ million years old). The data for the masses is available here: https://github.com/psheehan/CIERA-HS-Program/tree/master/Projects/WeighingBabySolarSystems in usc_d.txt and cham_d.txt. Download those data here, and then the following lines will read them in.\n",
    "\n",
    "Download the data:"
   ]
  },
  {
   "cell_type": "code",
   "execution_count": null,
   "metadata": {},
   "outputs": [],
   "source": []
  },
  {
   "cell_type": "markdown",
   "metadata": {},
   "source": [
    "Now, this code will read them in:"
   ]
  },
  {
   "cell_type": "code",
   "execution_count": null,
   "metadata": {},
   "outputs": [],
   "source": [
    "upper_sco_masses = numpy.loadtxt(\"UpperSco.txt\")\n",
    "chameleon_masses = numpy.loadtxt(\"Chameleon.txt\")"
   ]
  },
  {
   "cell_type": "markdown",
   "metadata": {},
   "source": [
    "Make a histogram showing a comparison of the disk masses in Taurus with the disk masses in Chameleon and Upper Sco. Make sure they are properly labeled so that we can tell which line is which. Again, you might consider plotting a cumulative distribution and see how that looks for comparison."
   ]
  },
  {
   "cell_type": "code",
   "execution_count": null,
   "metadata": {},
   "outputs": [],
   "source": []
  },
  {
   "cell_type": "markdown",
   "metadata": {},
   "source": [
    "What can you see about the disk masses in the different star forming regions? Which has the most massive disks? Is there a trend with age?"
   ]
  },
  {
   "cell_type": "markdown",
   "metadata": {},
   "source": [
    "### A More Accurate Mass Measurement\n",
    "\n",
    "So far we've been using the peak flux as the measurement of how bright a disk is, but in reality there are more pixels than just the single peak pixel. Here we are going to write some code to do a more realistic flux measurement. This will be particularly useful for sources that are clearly \"resolved\", i.e. they are extended and look like more than just a single, compact circular blob.\n",
    "\n",
    "There are a few steps we will want to take. First, we want to have a quantitative assessment of which emission is \"real\", and not just noise. To do this, lets calculate the standard deviation of the image (*Hint:* See the numpy \"std\" function):"
   ]
  },
  {
   "cell_type": "code",
   "execution_count": null,
   "metadata": {},
   "outputs": [],
   "source": []
  },
  {
   "cell_type": "markdown",
   "metadata": {},
   "source": [
    "We will only want to consider emission greater that 3$\\times$ the standard deviation of the image. Write some code that returns the locations of the image where emission is greater than 3$\\times$ the value you just calculated:"
   ]
  },
  {
   "cell_type": "code",
   "execution_count": null,
   "metadata": {},
   "outputs": [],
   "source": []
  },
  {
   "cell_type": "markdown",
   "metadata": {},
   "source": [
    "Now can you put this together and create a function that adds up all of the emission above 3$\\times$ the standard deviation? Be careful of binaries, you might need to add additional criteria!"
   ]
  },
  {
   "cell_type": "code",
   "execution_count": null,
   "metadata": {},
   "outputs": [],
   "source": []
  },
  {
   "cell_type": "markdown",
   "metadata": {},
   "source": [
    "The last thing we need to do is to adjust for the effects of the \"beam\". The flux values reported by the image are actually reported in units of Jy/beam, where the \"beam\" is basically how much the image is blurred by the telescope. The size of the beam is encoded in two values in the header of the FITS file: \"BMAJ\" and \"BMIN\", and the area of the beam can be calculated as $\\pi$BMAJ$\\times$BMIN/4. These are also recorded in units of degrees, but we care about the size of the beam in pixels. You should be able to find the size of the pixels, in degrees, in the header value \"CDELT1\". Calculate the area of the beam in pixels, using this information:"
   ]
  },
  {
   "cell_type": "code",
   "execution_count": null,
   "metadata": {},
   "outputs": [],
   "source": []
  },
  {
   "cell_type": "markdown",
   "metadata": {},
   "source": [
    "To correct your function to calculate the total flux that you wrote above for the beam, re-write that function so that it now divides by the area of the beam, in pixels, below:"
   ]
  },
  {
   "cell_type": "code",
   "execution_count": null,
   "metadata": {},
   "outputs": [],
   "source": []
  },
  {
   "cell_type": "markdown",
   "metadata": {},
   "source": [
    "Now, apply this new function for calculating the flux of the protoplanetary disks to all 27 sources:"
   ]
  },
  {
   "cell_type": "code",
   "execution_count": null,
   "metadata": {},
   "outputs": [],
   "source": []
  },
  {
   "cell_type": "markdown",
   "metadata": {},
   "source": [
    "Finally, re-make the histogram plots from above, comparing the masses you calculate here to the masses of protoplanetary disks in other star forming regions. Does this change any of your conclusions?"
   ]
  },
  {
   "cell_type": "code",
   "execution_count": null,
   "metadata": {},
   "outputs": [],
   "source": []
  },
  {
   "cell_type": "markdown",
   "metadata": {},
   "source": [
    "### Still looking for more to do?\n",
    "\n",
    "Talk to Patrick, and he'll be more than happy to give you more to do! In particular, looking into fitting \"Gaussian\" functions to the sources to measure their fluxes and sizes in a more rigorous way."
   ]
  },
  {
   "cell_type": "code",
   "execution_count": null,
   "metadata": {},
   "outputs": [],
   "source": []
  }
 ],
 "metadata": {
  "kernelspec": {
   "display_name": "Python 3",
   "language": "python",
   "name": "python3"
  },
  "language_info": {
   "codemirror_mode": {
    "name": "ipython",
    "version": 3
   },
   "file_extension": ".py",
   "mimetype": "text/x-python",
   "name": "python",
   "nbconvert_exporter": "python",
   "pygments_lexer": "ipython3",
   "version": "3.8.3"
  }
 },
 "nbformat": 4,
 "nbformat_minor": 4
}
