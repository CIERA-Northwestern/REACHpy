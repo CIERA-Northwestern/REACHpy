{
 "cells": [
  {
   "cell_type": "markdown",
   "metadata": {},
   "source": [
    "# Weighing Baby Solar Systems with the Very Large Array"
   ]
  },
  {
   "cell_type": "markdown",
   "metadata": {},
   "source": [
    "Leader: Patrick Sheehan"
   ]
  },
  {
   "cell_type": "markdown",
   "metadata": {},
   "source": [
    "### Background\n",
    "\n",
    "Stars form from clouds of gas and dust that exist within our galaxy. This is a picture of the Orion Nebula, one of the biggest nearby star forming regions:\n",
    "\n",
    "<img src=\"Orion2010_andreo2000.jpg\">\n",
    "\n",
    "If you zoom way in on a single forming star in this region, you see a dark, dusty disk silhoutted agains the bright background of the Orion Nebula:\n",
    "\n",
    "<img src=\"heic0917bb.jpg\">\n",
    "\n",
    "It's in these \"protoplanetary disks\" that planets form, so how much material is in them, i.e. their \"mass\", tells you what sort of planetary system they are capable of forming. It turns out that radio telescopes, like the VLA:\n",
    "\n",
    "<img src=\"VLA-MilkyWay_NIK_1051.jpg\">\n",
    "\n",
    "take pictures that are sensitive to the amount of material that is present in these disks. I have collected VLA observations of 27 \"protoplanetary disks\" in the Taurus Molecular Cloud Complex, another young \"star forming region\", that are all <1 million years old, so particularly young. We would like to know how much material is present in those systems, so that we can understand the types of planetary systems that they can form."
   ]
  },
  {
   "cell_type": "markdown",
   "metadata": {},
   "source": [
    "### Measuring the masses of protoplanetary disks in Taurus\n",
    "\n",
    "To get started, let's download the data for one of the 27 objects. I have put all of the data at this website: https://www.websitetobefilledinlater.com/data. Go to that website, pick out one of the objects, and download the FITS image for that source:"
   ]
  },
  {
   "cell_type": "code",
   "execution_count": null,
   "metadata": {},
   "outputs": [],
   "source": []
  },
  {
   "cell_type": "markdown",
   "metadata": {},
   "source": [
    "Now, use matplotlib to make a plot showing an image of that FITS file that you just downloaded:"
   ]
  },
  {
   "cell_type": "code",
   "execution_count": null,
   "metadata": {},
   "outputs": [],
   "source": []
  },
  {
   "cell_type": "markdown",
   "metadata": {},
   "source": [
    "It turns out that how much material is in a protoplanetary disk is proportional to the brightness of the disk in this image, or the \"flux\". What is the highest value you can find for one of the pixels in the image? That should be pretty close to the total flux of the source. Record it here:"
   ]
  },
  {
   "cell_type": "code",
   "execution_count": null,
   "metadata": {},
   "outputs": [],
   "source": [
    "flux = "
   ]
  },
  {
   "cell_type": "markdown",
   "metadata": {},
   "source": [
    "The formula for calculating the mass of a disk from a flux is:\n",
    "\n",
    "\\begin{equation}\n",
    "M_d = \\frac{F_{\\nu} \\, d^2}{B_{\\nu}(T) \\, \\kappa_{\\nu}}\n",
    "\\end{equation}\n",
    "\n",
    "where $F_{\\nu}$ is the flux, $d$ is the distance to the source, $T$ is the temperature of the disk, and $\\kappa_{\\nu}$ is the \"opacity\". Disks typically have a temperature of $\\sim20$ K, so that is probably appropriate to use here. A typical value for $\\kappa_{\\nu}$ is $\\sim 0.1$ cm$^2$/g, so that is also a reasonable value to use. $\\nu$ is the frequency of light that the picture was taken with, which happens to be 33 GHz. You'll need to look up the distance to the Taurus Molecular Cloud Complex. $B_{\\nu}(T)$ is the \"blackbody function\". Rather than trying to program this yourself (it's complicated), you can use the blackbody_nu function in the astropy package: https://docs.astropy.org/en/stable/api/astropy.modeling.blackbody.blackbody_nu.html#astropy.modeling.blackbody.blackbody_nu."
   ]
  },
  {
   "cell_type": "code",
   "execution_count": null,
   "metadata": {
    "scrolled": true
   },
   "outputs": [],
   "source": [
    "from astropy.modeling.blackbody import blackbody_nu"
   ]
  },
  {
   "cell_type": "markdown",
   "metadata": {},
   "source": [
    "Use the blackbody function and the information above to calculate mass of this protoplanetary disk:"
   ]
  },
  {
   "cell_type": "code",
   "execution_count": null,
   "metadata": {},
   "outputs": [],
   "source": [
    "mass ="
   ]
  },
  {
   "cell_type": "markdown",
   "metadata": {},
   "source": [
    "The Earth has a mass of $M_{\\oplus} = 5.972 \\times 10^{27}$ grams. How many Earths could be formed out of this disk?"
   ]
  },
  {
   "cell_type": "code",
   "execution_count": null,
   "metadata": {},
   "outputs": [],
   "source": []
  },
  {
   "cell_type": "markdown",
   "metadata": {},
   "source": [
    "Now that we've done this calculation for a single disk, can you write a loop to do the calculation for all 27 of the disks?"
   ]
  },
  {
   "cell_type": "code",
   "execution_count": null,
   "metadata": {},
   "outputs": [],
   "source": []
  },
  {
   "cell_type": "markdown",
   "metadata": {},
   "source": [
    "Finally, now that we have masses for all of the disks, can you make a plot of the distribution of the masses of all of the disks? $Hint$: You can use the matplotlib \"hist\" function: https://matplotlib.org/3.2.1/api/_as_gen/matplotlib.pyplot.hist.html."
   ]
  },
  {
   "cell_type": "code",
   "execution_count": null,
   "metadata": {},
   "outputs": [],
   "source": []
  },
  {
   "cell_type": "markdown",
   "metadata": {},
   "source": [
    "### Comparing with Protoplanetary Disks in Other Star Forming Regions\n",
    "\n",
    "Taurus isn't the only star forming region, but it is one of the youngest, with disks that are $<1$ millions years old. Other scientists have done calculations similar to the ones you just did to calculate the masses of protoplanetary disks in older star forming regions. Two of those that we want to compare to are the Chameleon star forming region ($\\sim2-3$ million years old) and the Upper Sco region ($\\sim5-10$ million years old). The data for the masses is available here: www.websitetobedterminedstill.com/masses. Download those data here, and then the following lines will read them in.\n",
    "\n",
    "Download the data:"
   ]
  },
  {
   "cell_type": "code",
   "execution_count": null,
   "metadata": {},
   "outputs": [],
   "source": []
  },
  {
   "cell_type": "markdown",
   "metadata": {},
   "source": [
    "Now, this code will read them in:"
   ]
  },
  {
   "cell_type": "code",
   "execution_count": null,
   "metadata": {},
   "outputs": [],
   "source": [
    "upper_sco_masses = numpy.loadtxt(\"UpperSco.txt\")\n",
    "chameleon_masses = numpy.loadtxt(\"Chameleon.txt\")"
   ]
  },
  {
   "cell_type": "markdown",
   "metadata": {},
   "source": [
    "Make a histogram showing a comparison of the disk masses in Taurus with the disk masses in Chameleon and Upper Sco. Make sure they are properly labeled so that we can tell which line is which:"
   ]
  },
  {
   "cell_type": "code",
   "execution_count": null,
   "metadata": {},
   "outputs": [],
   "source": []
  },
  {
   "cell_type": "markdown",
   "metadata": {},
   "source": [
    "What can you see about the disk masses in the different star forming regions? Which has the most massive disks? Is there a trend with age?"
   ]
  }
 ],
 "metadata": {
  "kernelspec": {
   "display_name": "Python 3",
   "language": "python",
   "name": "~-thon3"
  },
  "language_info": {
   "codemirror_mode": {
    "name": "ipython",
    "version": 3
   },
   "file_extension": ".py",
   "mimetype": "text/x-python",
   "name": "python",
   "nbconvert_exporter": "python",
   "pygments_lexer": "ipython3",
   "version": "3.7.7"
  }
 },
 "nbformat": 4,
 "nbformat_minor": 4
}
