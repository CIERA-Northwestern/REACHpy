{
 "cells": [
  {
   "cell_type": "markdown",
   "metadata": {
    "id": "Ti7yLoFP3Wqn"
   },
   "source": [
    "# Define Python Functions"
   ]
  },
  {
   "cell_type": "code",
   "execution_count": null,
   "metadata": {
    "id": "BQFsTmys22nx"
   },
   "outputs": [],
   "source": [
    "import scipy\n",
    "import os\n",
    "import numpy as np\n",
    "\n",
    "import matplotlib.pyplot as plt\n",
    "from IPython.display import Image\n",
    "from astropy.io import ascii\n",
    "from astropy.time import Time\n",
    "%matplotlib inline"
   ]
  },
  {
   "cell_type": "markdown",
   "metadata": {
    "id": "3FtwOAVV3fAu"
   },
   "source": [
    "# Download Supernova Spectral Data"
   ]
  },
  {
   "cell_type": "code",
   "execution_count": null,
   "metadata": {
    "id": "ZvhpFnjnIhDU"
   },
   "outputs": [],
   "source": [
    "# Download files\n",
    "for obj in ['2016gkg','2021pfs','2019yvr','2017ein','2022mxv','2020tlf','2019abn']:\n",
    "    if os.path.exists(f'{obj}.csv'): \n",
    "        print(f'{obj}.csv exists')\n",
    "        continue\n",
    "    cmd = f'wget https://raw.githubusercontent.com/CIERA-Northwestern/REACHpy/main/Projects/SN_classification/{obj}.csv'\n",
    "    os.system(cmd)"
   ]
  },
  {
   "cell_type": "markdown",
   "metadata": {},
   "source": [
    "# Defining a spectrum object to help analyze data"
   ]
  },
  {
   "cell_type": "code",
   "execution_count": null,
   "metadata": {
    "id": "PSdU4DJ13jOA"
   },
   "outputs": [],
   "source": [
    "def is_number(val):\n",
    "    try:\n",
    "        x = float(val)\n",
    "        return(True)\n",
    "    except ValueError:\n",
    "        return(False)\n",
    "\n",
    "class spectrum(object):\n",
    "    def __init__(self, specfile):\n",
    "        \n",
    "        self.wavelength = None\n",
    "        self.flux = None\n",
    "        self.flux_err = None\n",
    "        \n",
    "        self.meta = {}\n",
    "        \n",
    "        self.load_spectrum(specfile)\n",
    "        \n",
    "    def load_spectrum(self, filename):\n",
    "        \n",
    "        table = ascii.read(filename)\n",
    "        self.wavelength = table['wavelength']\n",
    "        self.flux = table['flux']\n",
    "        self.flux_err = table['fluxerr']\n",
    "        \n",
    "        meta = table.meta['comments']\n",
    "        for pair in meta:\n",
    "            data = pair.split(':')\n",
    "            key = data[0]\n",
    "            val = ':'.join(data[1:])\n",
    "            key = key.strip() ; val = val.strip()\n",
    "            if is_number(val):\n",
    "                self.meta[key]=float(val)\n",
    "            else:\n",
    "                self.meta[key]=val\n",
    "        \n",
    "        self.meta['name'] = filename.replace('.csv','')\n",
    "        \n",
    "        if 'OBS_DATE' in self.meta.keys():\n",
    "            val = self.meta['OBS_DATE']\n",
    "            if '+' in val: val = val.split('+')[0]\n",
    "            self.meta['OBS_DATE'] = Time(val)\n",
    "    \n",
    "    def get_rest_spectrum(self, normalize=True):\n",
    "        \n",
    "        wave = None\n",
    "        flux = None\n",
    "        if 'REDSHIFT' in self.meta.keys():\n",
    "            wave = self.wavelength/(1+self.meta['REDSHIFT'])\n",
    "        else:\n",
    "            wave = self.wavelength\n",
    "        if normalize:\n",
    "            flux = self.flux / np.mean(self.flux)\n",
    "        else:\n",
    "            flux = self.flux\n",
    "            \n",
    "        return(wave, flux)\n",
    "    \n",
    "    def get_wave_limits(self):\n",
    "        \n",
    "        wave = self.wavelength\n",
    "        wave_range = np.max(wave) - np.min(wave)\n",
    "        limits = [np.min(wave) - 0.03 * wave_range, np.max(wave) + 0.03 * wave_range]\n",
    "        return(limits)"
   ]
  },
  {
   "cell_type": "code",
   "execution_count": null,
   "metadata": {},
   "outputs": [],
   "source": [
    "def plot_spectrum(spec, add_lines={}, elements=[]):\n",
    "    figure(figsize=(15,10))\n",
    "\n",
    "    title(spec.meta['name'], fontsize=40)\n",
    "\n",
    "    xlim(*spec.get_wave_limits())\n",
    "    ylabel('Relative Flux', fontsize=40)\n",
    "    xlabel('Wavelength (Angstroms)', fontsize=40)\n",
    "\n",
    "    label = spec.meta['name']+' on '+spec.meta['OBS_DATE'].datetime.strftime('%Y-%m-%d')\n",
    "    plot(*spec.get_rest_spectrum(), color='k', label=label)\n",
    "    \n",
    "    plt.xticks(fontsize=25)\n",
    "    plt.yticks(fontsize=25)\n",
    "    \n",
    "    colors = ['red','orange','goldenrod','darkgreen','blue','magenta']\n",
    "    for i,line in enumerate(list(add_lines.keys())):\n",
    "        if elements and line not in elements: continue\n",
    "        label = line\n",
    "        for val in add_lines[line]:\n",
    "            axvline(val, color=colors[i], linestyle='--', linewidth=4, label=label)\n",
    "            label = None\n",
    "\n",
    "    legend(loc='upper right', fontsize=20, framealpha=1)"
   ]
  },
  {
   "cell_type": "markdown",
   "metadata": {
    "id": "5Q6n3oY57HdE"
   },
   "source": [
    "# Plot It"
   ]
  },
  {
   "cell_type": "code",
   "execution_count": null,
   "metadata": {
    "colab": {
     "base_uri": "https://localhost:8080/",
     "height": 694
    },
    "id": "tc5HMQWv7Sq3",
    "outputId": "de889eaf-c829-405e-d2f1-410e3cb4bb4c",
    "scrolled": false
   },
   "outputs": [],
   "source": [
    "spec = spectrum('2022mxv.csv')\n",
    "plot_spectrum(spec)"
   ]
  },
  {
   "cell_type": "markdown",
   "metadata": {
    "id": "y5aReyAX86Kj"
   },
   "source": [
    "# What Elements are Present?\n"
   ]
  },
  {
   "cell_type": "markdown",
   "metadata": {
    "id": "PbEoYVMk9h0V"
   },
   "source": [
    "This is the classification process, in an overview. Take a moment to note the important elements you'll need to make your decisions!"
   ]
  },
  {
   "cell_type": "markdown",
   "metadata": {
    "id": "5ti9Z6Im1UTE"
   },
   "source": [
    "![sn_zoo-1.png](data:image/png;base64,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)\n"
   ]
  },
  {
   "cell_type": "markdown",
   "metadata": {
    "id": "FKj7NpLFABLn"
   },
   "source": [
    "## Use the identified elements below to determine which elements are \"in abundance\" in your supernova."
   ]
  },
  {
   "cell_type": "code",
   "execution_count": null,
   "metadata": {
    "id": "24Cphg_lBNeW"
   },
   "outputs": [],
   "source": [
    "lines = {'H I': np.array([4101.73, 4340.47, 4861.35, 6562.82]),\n",
    "         'He I': np.array([5875.62, 6678.15, 7065.19, 7281.35 ]),\n",
    "         'Si II': np.array([5978.93, 6347.10]),\n",
    "         'Ca II': np.array([3800, 8300 ]),\n",
    "         'O I': np.array([7778]),\n",
    "         'Fe II': np.array([4400])}"
   ]
  },
  {
   "cell_type": "code",
   "execution_count": null,
   "metadata": {
    "colab": {
     "base_uri": "https://localhost:8080/",
     "height": 694
    },
    "id": "aOIIyXuhCW1o",
    "outputId": "029d98d4-4048-47a0-c4b2-cdbee6538241",
    "scrolled": false
   },
   "outputs": [],
   "source": [
    "plot_spectrum(spec, add_lines=lines, elements=['H I'])"
   ]
  },
  {
   "cell_type": "markdown",
   "metadata": {
    "id": "e9NaFkkQ9e6H"
   },
   "source": [
    "# Try the other supernovae in our list"
   ]
  },
  {
   "cell_type": "code",
   "execution_count": null,
   "metadata": {
    "id": "u2YYFzdbFEkJ"
   },
   "outputs": [],
   "source": [
    "spec = spectrum('2021pfs.csv')\n",
    "plot_spectrum(spec)"
   ]
  },
  {
   "cell_type": "code",
   "execution_count": null,
   "metadata": {
    "id": "-2niSosa6_Gk"
   },
   "outputs": [],
   "source": [
    "spec = spectrum('2016gkg.csv')\n",
    "plot_spectrum(spec)"
   ]
  },
  {
   "cell_type": "code",
   "execution_count": null,
   "metadata": {
    "id": "aJp_bxil8zjt"
   },
   "outputs": [],
   "source": [
    "spec = spectrum('2019yvr.csv')\n",
    "plot_spectrum(spec)"
   ]
  },
  {
   "cell_type": "code",
   "execution_count": null,
   "metadata": {
    "id": "RnC_EwkH_QYJ"
   },
   "outputs": [],
   "source": [
    "spec = spectrum('2020tlf.csv')\n",
    "plot_spectrum(spec)"
   ]
  },
  {
   "cell_type": "code",
   "execution_count": null,
   "metadata": {
    "id": "6XosVk9U_yTq"
   },
   "outputs": [],
   "source": [
    "spec = spectrum('2017ein.csv')\n",
    "plot_spectrum(spec)"
   ]
  },
  {
   "cell_type": "code",
   "execution_count": null,
   "metadata": {
    "id": "ncpGQy1eARlZ"
   },
   "outputs": [],
   "source": [
    "spec = spectrum('2019abn.csv')\n",
    "plot_spectrum(spec)"
   ]
  },
  {
   "cell_type": "code",
   "execution_count": null,
   "metadata": {
    "colab": {
     "base_uri": "https://localhost:8080/",
     "height": 694
    },
    "id": "38FuDkWZFcNP",
    "outputId": "5f92bbbd-2169-40bb-dd91-01f7cf3f4d3d"
   },
   "outputs": [],
   "source": [
    "spec = spectrum('2022mxv.csv')\n",
    "plot_spectrum(spec)"
   ]
  },
  {
   "cell_type": "markdown",
   "metadata": {
    "id": "w7ZIfAXI9qYY"
   },
   "source": []
  },
  {
   "cell_type": "markdown",
   "metadata": {
    "id": "VV1Ci-s3-KL_"
   },
   "source": [
    "# Reflect + Discuss"
   ]
  },
  {
   "cell_type": "markdown",
   "metadata": {
    "id": "IAiulo7k-Opw"
   },
   "source": [
    "Prepare your case to present to the other group: \n",
    "\n",
    "*   What SN type is it?\n",
    "\n",
    "I belive it to be a Type Ia SN\n",
    "*   Why? How do you know?\n",
    "\n",
    "I belive this because it has traces of Iron, Calcium, Silicon, and Oxygen. This matches with the emissons of Type Ia SN. \n",
    "\n",
    "Your justification should include mention of different metals, their relative abundances, matches to other supernova types, etc.\n",
    "\n",
    "\n",
    "<br> Bonus question: What type of SN do you think is a close second place, if any? Was your classification a clear cut, or was it a little hard to decide? What do you think happens in this case?"
   ]
  },
  {
   "cell_type": "code",
   "execution_count": null,
   "metadata": {
    "id": "mZIOmo0cber6"
   },
   "outputs": [],
   "source": []
  }
 ],
 "metadata": {
  "colab": {
   "collapsed_sections": [],
   "name": "REACH_SN_Spectra.ipynb",
   "provenance": []
  },
  "kernelspec": {
   "display_name": "Python 3 (ipykernel)",
   "language": "python",
   "name": "python3"
  },
  "language_info": {
   "codemirror_mode": {
    "name": "ipython",
    "version": 3
   },
   "file_extension": ".py",
   "mimetype": "text/x-python",
   "name": "python",
   "nbconvert_exporter": "python",
   "pygments_lexer": "ipython3",
   "version": "3.11.3"
  }
 },
 "nbformat": 4,
 "nbformat_minor": 1
}
