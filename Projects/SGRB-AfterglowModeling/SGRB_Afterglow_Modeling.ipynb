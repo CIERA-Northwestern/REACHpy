{
 "cells": [
  {
   "cell_type": "markdown",
   "metadata": {
    "colab_type": "text",
    "id": "view-in-github"
   },
   "source": [
    "<a href=\"https://colab.research.google.com/github/jrastinejad/CIERA-HS-Program/blob/master/SGRB_Afterglows.ipynb\" target=\"_parent\"><img src=\"https://colab.research.google.com/assets/colab-badge.svg\" alt=\"Open In Colab\"/></a>"
   ]
  },
  {
   "cell_type": "code",
   "execution_count": null,
   "metadata": {},
   "outputs": [],
   "source": [
    "### Running in Google Colab? You'll want to uncomment and run these cell once each time you start this notebook.\n",
    "\n",
    "\"\"\"\n",
    "!wget https://raw.githubusercontent.com/psheehan/CIERA-HS-Program/master/Projects/SGRB-AfterglowModeling/t90.txt\n",
    "!wget https://raw.githubusercontent.com/psheehan/CIERA-HS-Program/master/Projects/SGRB-AfterglowModeling/090510_OmuJy.txt\n",
    "!wget https://raw.githubusercontent.com/psheehan/CIERA-HS-Program/master/Projects/SGRB-AfterglowModeling/130603b_OmuJy.txt\n",
    "!wget https://github.com/psheehan/CIERA-HS-Program/blob/master/Projects/SGRB-AfterglowModeling/multiwave_OmuJy.txt\n",
    "\"\"\""
   ]
  },
  {
   "cell_type": "markdown",
   "metadata": {
    "colab_type": "text",
    "id": "ink_CsJIbI3i"
   },
   "source": [
    "# Short Gamma-Ray Burst Afterglow Fitting"
   ]
  },
  {
   "cell_type": "code",
   "execution_count": null,
   "metadata": {
    "colab": {},
    "colab_type": "code",
    "id": "meeF87tkbI3j"
   },
   "outputs": [],
   "source": [
    "# Loading some packages to get us started\n",
    "\n",
    "%load_ext autoreload\n",
    "%autoreload 2\n",
    "%matplotlib inline\n",
    "%config InlineBackend.figure_format='retina'\n",
    "\n",
    "from IPython.display import Image\n",
    "import numpy as np\n",
    "import matplotlib.pyplot as plt\n",
    "import astropy.io.ascii as ascii\n",
    "from astropy import cosmology\n",
    "from astropy import units as u\n",
    "from astropy.cosmology import FlatLambdaCDM\n",
    "\n",
    "cosmo = FlatLambdaCDM(H0=70 * u.km / u.s / u.Mpc, Tcmb0=2.725 * u.K, Om0=0.3)"
   ]
  },
  {
   "cell_type": "markdown",
   "metadata": {
    "colab_type": "text",
    "id": "LxalgU6qbI3p"
   },
   "source": [
    "# Introduction\n",
    "\n",
    "---\n",
    "\n",
    "\n",
    "\n",
    "## Gamma-Rays\n",
    "\n",
    "Consider the electromagnetic spectrum:\n",
    "\n",
    "<img src=\"spectrum.jpg\">\n",
    "\n",
    "On the far right end of the spectrum, we see radio waves. Radio waves are at the lowest energy end of the spectrum. As we move across the spectrum to the left, we increase in energy and frequency. Visible light appears near the middle of the spectrum. Gamma-rays are the highest energy class of light and are only produced on Earth by high energy processes like fusion or gamma decay.\n",
    "\n",
    "---\n",
    "\n",
    "\n",
    "\n",
    "## Gamma-Ray Bursts\n",
    "\n",
    "In the 1960s, astronomers started detecting bursts of gamma-ray emission. The high energy flashes did not repeat and were randomly scattered across the sky. After much work, astronomers realized that these bursts of gamma-rays were coming from other galaxies. To produce the high energy $\\textbf{photons}$ (packets of light) that make up gamma-ray bursts (GRBs) a source with a lot of energy is needed! All of these clues led astronomers to believe that are the result of explosions in our universe.\n",
    "\n",
    "GRBs are not $\\textbf{isotropic}$ (spherically symmetric). In fact, much of the explosion's energy is focused along the two poles. The beam that the gamma-rays are accelerated along is referred to as the $\\textbf{jet}$. The structure of the explosion means that in order to detect a GRB we must be directly in the path of the GRB.\n",
    "\n",
    "<img src=\"grbjets.jpg\">"
   ]
  },
  {
   "cell_type": "markdown",
   "metadata": {
    "colab_type": "text",
    "id": "u1uXYfNebI3q"
   },
   "source": [
    "# Exercise 1\n",
    "\n",
    "## Short vs. Long Gamma-Ray Bursts (GRBs)\n",
    "\n",
    "It became clear that there were two populations of GRBs - those with short durations and long durations. Below, we will plot the durations of GRBs discovered by the space telescope $\\textit{Swift}$ from January 2004 to January 2020. Your job is to run the two cells below, examine the plot and choose a cutoff between short and long duration GRBs."
   ]
  },
  {
   "cell_type": "code",
   "execution_count": null,
   "metadata": {
    "colab": {},
    "colab_type": "code",
    "id": "SfLqjykybI3r"
   },
   "outputs": [],
   "source": [
    "# data file includes a list of GRBs and the duration of the burst, T90\n",
    "swift_cat = ascii.read('t90.txt')\n",
    "\n",
    "# T90 is the amount of time for 90% of the burst's light to be absorbed\n",
    "t90 = swift_cat['T90']\n",
    "\n",
    "# If you print the list of GRB names, you'll see that each GRB is named by the date\n",
    "# it was detected on.\n",
    "grb_name = swift_cat['GRBname']"
   ]
  },
  {
   "cell_type": "code",
   "execution_count": null,
   "metadata": {
    "colab": {
     "base_uri": "https://localhost:8080/",
     "height": 297
    },
    "colab_type": "code",
    "id": "fFVclAUlbI3v",
    "outputId": "7425307d-7b64-49fc-89b3-b46ba43afa69"
   },
   "outputs": [],
   "source": [
    "b=np.logspace(-1,3,40)\n",
    "plt.hist(t90,b,color='xkcd:lilac')\n",
    "plt.loglog()\n",
    "plt.tick_params(direction = 'in', length = 10, labelsize = 16, right = True)\n",
    "plt.tick_params(which = 'minor', direction = 'in', length = 6,  right = True)\n",
    "plt.xlabel('Time (seconds)')\n",
    "plt.ylabel('Count')\n",
    "plt.title('Histogram of Burst Duration')\n",
    "plt.show()"
   ]
  },
  {
   "cell_type": "markdown",
   "metadata": {
    "colab_type": "text",
    "id": "rLXAtrONbI3z"
   },
   "source": [
    "#### Question 1: Looking at the plot, are you convinced that there are two distinct populations of GRBs? Why?\n",
    "\n",
    "Answer: \n",
    "\n",
    "#### How many seconds would you choose as a cutoff between short and long GRBs? Keep in mind that the axes are in 'log' units.\n",
    "\n",
    "Answer:"
   ]
  },
  {
   "cell_type": "markdown",
   "metadata": {
    "colab_type": "text",
    "id": "qK5cUu46bI3z"
   },
   "source": [
    "In reality, we use a few other parameters to classify GRBs as short or long. However, duration of the burst is still a useful tool to classify GRBs.\n",
    "\n",
    "For this project, we will be focusing on short gamma-ray bursts."
   ]
  },
  {
   "cell_type": "markdown",
   "metadata": {
    "colab_type": "text",
    "id": "Wb5ybtMLbI30"
   },
   "source": [
    "## Gamma-Ray Burst Afterglows\n",
    "\n",
    "Accompanying each GRB is a multiwavelength afterglow. Afterglows as produced by fast-moving ejecta from the explosion colliding with gas that exists in the space between stars. The relativistic (aka VERY fast) collisions between the ejecta and the gas produce what is called $\\textbf{synchrotron emission}$. Though we won't go into the mechanics of synchrotron emission here, it's important to know that it creates a $\\textbf{jetted multiwavelength afterglow}$. Below is a diagram of an top hat afterglow. In the far right part of the diagram, you see the explosion (jet) colliding with the gas (ambient medium) to produce an afterglow.\n",
    "\n",
    "<img src=\"agjet.jpg\">\n",
    "\n",
    "Studying observations of GRB afterglows can teach us about the properties of the burst, including how dense the environment around the explosion is. Below are answers to questions you may have as you simulate afterglow lightcurves.\n",
    "\n",
    "#### 1. What does multiwavelength mean?\n",
    "Multiwavelength means that light is emitted in more than one part of the electromagnetic spectrum (see the first figure!). An afterglow emits in the radio, the visible (hereafter called \"optical\") and the X-ray.\n",
    "\n",
    "Identifying the multiwavelength components of the afterglow is important because our X-ray, optical and radio detectors are better at localizing sources than gamma-ray detectors. A better localization allows astronomers to study the host environment of the burst and build a better understanding of what precipitated the explosion.\n",
    "\n",
    "#### 2. What is a lightcurve?\n",
    "A lightcurve is a plot of time (x-axis) vs brightness (y-axis). Lightcurves are a ubiquitous tool for studying time-domain astronomy. A lightcurve shows us if a source dims, brightens, or stays the same over time. For a steady source like a galaxy, a lightcurve will be flat. A supernova's lightcurve will rise quickly and then fall over time. The lightcurve of a variable star (a star which brightens and dims periodically) will look like this:\n",
    "\n",
    "<img src=\"varistarLC.jpg\">\n",
    "\n",
    "Short GRB afterglow lightcurves are most like supernova lightcurves.\n",
    "\n",
    "#### 3. What is a jet and why is it important?\n",
    "\n",
    "A jet is a collimated source of relativistic emission. Among other things, a jet is characterized by it's opening angle and shape.\n",
    "\n",
    "Both the shape and the opening angle of the jet determine if the afterglow will be detectable to an $\\textbf{off-axis}$ (not directly in the path of the jet) observer.\n",
    "\n",
    "#### 4. What does an afterglow jet look like?\n",
    "\n",
    "Good question! The short answer is that astronomers don't know for sure yet but have many theories. The simulations we'll be using below allow the user to try out a few different jet shapes. These jet shapes include:\n",
    "\n",
    "$\\textbf{Top Hat Jet}$: flux concentrated equally across a narrow beam, outside of which no flux escapes.\n",
    "\n",
    "$\\textbf{Gaussian Jet}$: Similar to a top hat jet except a greater amount of flux is concentrated in the center of the beam.\n",
    "\n",
    "$\\textbf{Power Law Jet}$: Flux concentrated in the middle of the jet but decays as you move to larger viewing angles.\n",
    "\n",
    "\n",
    "## Using $\\texttt{afterglowpy}$\n",
    "\n",
    "We'll be using the Python package $\\texttt{afterglowpy}$ (Ryan et al. 2015, Ryan et al. 2019) to simulate multiwavelength afterglow (AG) lightcurves and match them to actual observations.\n",
    "\n",
    "From https://github.com/geoffryan/afterglowpy/blob/master/README.md:\n",
    "\n",
    "\n",
    "jetType can be:\n",
    "1. -1 (Top Hat)\n",
    "2. 0 (Gaussian)\n",
    "3. 1 (Power Law w/ core)\n",
    "4. 2 (Gaussian w/ core)\n",
    "5. 3 (Cocoon)\n",
    "6. 4 (Smooth Power Law).\n",
    "\n",
    "\n",
    "# Exercise 2a)\n",
    "\n",
    "The first three cells are mostly complete and will produce an optical Top Hat jet AG lightcurve plot. Using these cells as an example, produce a AG lightcurves for a Gaussian Jet and a Smooth Power Law Jet."
   ]
  },
  {
   "cell_type": "code",
   "execution_count": null,
   "metadata": {
    "colab": {
     "base_uri": "https://localhost:8080/",
     "height": 224
    },
    "colab_type": "code",
    "id": "KGGuGBCubI30",
    "outputId": "cf7026a4-d019-42de-a8db-8abdb7137fe6"
   },
   "outputs": [],
   "source": [
    "# in order to do run the cells below, uncomment these two lines, run this cell, and then \n",
    "# recomment since you only have to do it once!\n",
    "\n",
    "!pip install afterglowpy \n",
    "\n",
    "import afterglowpy as grb"
   ]
  },
  {
   "cell_type": "code",
   "execution_count": null,
   "metadata": {
    "colab": {},
    "colab_type": "code",
    "id": "WkR3fUALbI33"
   },
   "outputs": [],
   "source": [
    "# Example based on Github code by Geoff Ryan (github.com/geoffryan/afterglowpy/)\n",
    "\n",
    "# JET PARAMETERS:\n",
    "\n",
    "thetaObs = 0.05  # Viewing angle in radians\n",
    "E0 = 1.0e51     # Isotropic-equivalent energy in erg\n",
    "thetaC = 0.2    # Half-opening angle in radians, range of 0.015 - 0.021 radians\n",
    "thetaW = 0.1     # Truncation angle, unused for top-hat\n",
    "b = 0.01           # power law index, unused for top-hat\n",
    "n0 = 1.0         # circumburst density in cm^{-3}\n",
    "p = 2.2          # electron energy distribution index\n",
    "eps_e = 0.1      # epsilon_e\n",
    "eps_B = 0.01     # epsilon_B\n",
    "xi_N = 1.0       # Fraction of electrons accelerated\n",
    "specType = 0 # global cooling time, no inverse compton\n",
    "q = 0 # keep as 0\n",
    "ts = 0 # keep as 0\n",
    "z = 0.356         # redshift, keep this\n",
    "\n",
    "dist = cosmo.luminosity_distance(z) # outputs distances in Mpc, keep this\n",
    "dL = dist.value * 3.086e24 # Luminosity distance of burst in cm, keep this"
   ]
  },
  {
   "cell_type": "code",
   "execution_count": null,
   "metadata": {
    "colab": {
     "base_uri": "https://localhost:8080/",
     "height": 345
    },
    "colab_type": "code",
    "id": "R0ftoFsQbI35",
    "outputId": "ab46771b-0cb2-4c34-eff4-5be98cfb3efb",
    "scrolled": true
   },
   "outputs": [],
   "source": [
    "# creating a grid of times for the x-axis of our afterglow lightcurves\n",
    "\n",
    "print(\"Choose time range\")\n",
    "\n",
    "ta = 2.0 * grb.day2sec\n",
    "tb = 50 * grb.day2sec\n",
    "tsec = np.geomspace(ta, tb, num=100)\n",
    "\n",
    "# Calculate flux in a single optical band (all times have same frequency)\n",
    "nu = np.empty(tsec.shape)\n",
    "nu[:] = 4.8e14\n",
    "\n",
    "# For convenience, place positional arguments in an array and keywords into a dict\n",
    "\n",
    "Y = np.array([thetaObs, E0, thetaC, thetaW, b, specType, q, ts, n0, p, eps_e, eps_B, xi_N, dL])\n",
    "Z = {'z': z}\n",
    "\n",
    "# Calculate!\n",
    "\n",
    "jetType_top = -1     # top hat jet\n",
    "\n",
    "print(\"Calculate Top Hat Jet\")\n",
    "Fnu_top = grb.fluxDensity(tsec, nu, jetType_top, 0, *Y, **Z)\n",
    "\n",
    "# Change time units back to days\n",
    "\n",
    "t = tsec * grb.sec2day\n",
    "\n",
    "# Plot!\n",
    "print(\"Plot!\")\n",
    "\n",
    "plt.plot(t,Fnu_top)\n",
    "plt.yscale('log')\n",
    "plt.xlabel('Time since Burst (Days)')\n",
    "plt.ylabel(r'$F_{nu}$ (mJy)')\n",
    "plt.title('Example 1: Top Hat Optical Afterglow Lightcurve')\n",
    "plt.show()"
   ]
  },
  {
   "cell_type": "markdown",
   "metadata": {
    "colab_type": "text",
    "id": "xehepznabI38"
   },
   "source": [
    "# Exercise 2b\n",
    "\n",
    "Calculate Top Hat, Gaussian and Power Law jet afterglow lightcurves."
   ]
  },
  {
   "cell_type": "code",
   "execution_count": null,
   "metadata": {
    "colab": {},
    "colab_type": "code",
    "id": "XejLsxIlbI39",
    "outputId": "70ff5bd9-764f-4d4b-acc2-1fe0b9167cab"
   },
   "outputs": [],
   "source": [
    "# Set up array of relevant times\n",
    "ta = 2.0 * grb.day2sec\n",
    "tb = 50.0 * grb.day2sec\n",
    "tsec = np.geomspace(ta, tb, num=100)\n",
    "\n",
    "# Calculate flux in a single optical band (all times have same frequency)\n",
    "\n",
    "nu = np.empty(tsec.shape)\n",
    "nu[:] = 4.8e14 # approximate r-band frequency\n",
    "\n",
    "# recall number that corresponds to Gaussian jet\n",
    "jetType_gau = \n",
    "\n",
    "# recall number that corresponds to Power Law jet\n",
    "jetType_pl = \n",
    "\n",
    "# Calculate the brightness of your jet!\n",
    "\n",
    "print('Calculate Top Hat Jet')\n",
    "Fnu_top = grb.fluxDensity() # fill in\n",
    "print('Calculate Gaussian Jet')\n",
    "Fnu_gau = grb.fluxDensity() # fill in\n",
    "print('Calculate Power Law Jet')\n",
    "Fnu_pl = grb.fluxDensity() # fill in\n",
    "\n",
    "# change time back to days\n",
    "\n",
    "t = tsec * grb.sec2day\n",
    "\n",
    "print(\"Plot!\")\n",
    "\n",
    "plt.plot(t,Fnu_top, ls = ':', lw=4, label = 'Top Hat') # fill in label\n",
    "plt.plot(t,Fnu_gau, label = 'Gaussian') # fill in label\n",
    "plt.plot(t,Fnu_pl, ls = '-.', label = 'Power Law') # fill in label\n",
    "plt.yscale('log')\n",
    "plt.xlabel('Days since burst') # fill in\n",
    "plt.ylabel(r'$F_{nu}$ (muJy)') # fill in\n",
    "plt.title('Afterglow Models')\n",
    "plt.legend(fontsize=14)\n",
    "plt.show()"
   ]
  },
  {
   "cell_type": "markdown",
   "metadata": {
    "colab_type": "text",
    "id": "MD4Q90SEbI3_"
   },
   "source": [
    "# Exercise 3a\n",
    "\n",
    "Replot your four afterglows from Exercise 2 with the real optical afterglow dataset of the SGRB 130603B. Determine which afterglow jet model best fits the data. Explain why in the cell below."
   ]
  },
  {
   "cell_type": "code",
   "execution_count": null,
   "metadata": {
    "colab": {},
    "colab_type": "code",
    "id": "Q3Jv2KX0bI3_",
    "outputId": "fed05f5c-db63-48b4-93d9-849fd6d15dd5"
   },
   "outputs": [],
   "source": [
    "# Load in SGRB 130603B dataset\n",
    "\n",
    "obs = np.loadtxt('130603b_OmuJy.txt')\n",
    "\n",
    "time = obs[:,0]\n",
    "filt = obs[:,2]\n",
    "flux = obs[:,3]\n",
    "ferr = obs[:,4]\n",
    "det = obs[:,5]\n",
    "\n",
    "# Add condition to only choose points at a certain wavelengths where something was detected\n",
    "\n",
    "cond = (filt > 0.5) & (filt < 0.7) & (det == 1)\n",
    "\n",
    "time=time[cond]\n",
    "fil = filt[cond]\n",
    "fl = flux[cond] * 1e-6 # convert micro-Jansky to Jansky to match model units\n",
    "flerr = ferr[cond] * 1e-6 # convert micro-Jansky to Jansky\n",
    "\n",
    "# Plotting the data with error bars\n",
    "\n",
    "plt.errorbar(time,fl,yerr=flerr,capsize=3,fmt='o',color='xkcd:shocking pink')\n",
    "\n",
    "# Re-plot your Top Hat, Gaussian, Power Law and Gaussian w/ core afterglow models\n",
    "\n",
    "plt.plot(t, , ls = ':',lw=4, label = 'Top Hat') # fill in\n",
    "plt.plot(t, , label = 'Gaussian') # fill in \n",
    "plt.plot(t, , ls = '-.', label = 'Power Law') # fill in\n",
    "plt.yscale('log')\n",
    "\n",
    "plt.xlabel('Days since burst')\n",
    "plt.ylabel(r'$F_{nu}$ (Jy)')\n",
    "plt.legend()\n",
    "plt.show()"
   ]
  },
  {
   "cell_type": "markdown",
   "metadata": {
    "colab_type": "text",
    "id": "h57_Q7tbbI4B"
   },
   "source": [
    "#### Question: Which jet type(s) fit the optical afterglow of GRB 130603B the best?\n",
    "\n",
    "Answer:\n",
    "\n",
    "## Exercise 3a Challenge: Choose the model you think fits the data best and adjust the jet parameters (what goes into Y) to determine the best fit by eye.\n",
    "\n",
    "Recommended: E0, thetaC, thetaW. Try it below and record your best fits to the data."
   ]
  },
  {
   "cell_type": "code",
   "execution_count": null,
   "metadata": {
    "colab": {},
    "colab_type": "code",
    "id": "_XIUEtj7bI4B"
   },
   "outputs": [],
   "source": [
    "thetaObs = 0.0  # Viewing angle in radians\n",
    "E0 = 1.0e53      # Isotropic-equivalent energy in erg\n",
    "thetaC = 0.1     # Half-opening angle in radians\n",
    "thetaW = 0.1     # Truncation angle, unused for top-hat\n",
    "b = .01            # power law index, unused for top-hat\n",
    "n0 = 1.0         # circumburst density in cm^{-3}\n",
    "p = 2.2          # electron energy distribution index\n",
    "eps_e = 0.1      # epsilon_e\n",
    "eps_B = 0.01     # epsilon_B\n",
    "xi_N = 1.0       # Fraction of electrons accelerated\n",
    "specType = 0 # global cooling time, no inverse compton\n",
    "\n",
    "# repeat process to get new lightcurves\n",
    "\n",
    "\n",
    "\n",
    "# plot\n",
    "\n",
    "\n"
   ]
  },
  {
   "cell_type": "markdown",
   "metadata": {
    "colab_type": "text",
    "id": "mxkQvduwbI4D"
   },
   "source": [
    "# Exercise 4\n",
    "\n",
    "Now determine the best energy fit value for SGRB 090510."
   ]
  },
  {
   "cell_type": "code",
   "execution_count": null,
   "metadata": {
    "colab": {},
    "colab_type": "code",
    "id": "96-h4ovWbI4D"
   },
   "outputs": [],
   "source": [
    "thetaObs = 0.05  # Viewing angle in radians\n",
    "E0 = # choose     # Isotropic-equivalent energy in erg\n",
    "thetaC = 0.1     # Half-opening angle in radians\n",
    "thetaW = 0.1     # Truncation angle, unused for top-hat\n",
    "b = .01            # power law index, unused for top-hat\n",
    "n0 = 1.0         # circumburst density in cm^{-3}\n",
    "p = 2.2          # electron energy distribution index\n",
    "eps_e = 0.1      # epsilon_e\n",
    "eps_B = 0.01     # epsilon_B\n",
    "xi_N = 1.0       # Fraction of electrons accelerated"
   ]
  },
  {
   "cell_type": "code",
   "execution_count": null,
   "metadata": {
    "colab": {},
    "colab_type": "code",
    "id": "yJTgrIW7bI4F"
   },
   "outputs": [],
   "source": [
    "# Load in SGRB 090510 dataset (see 130603B for example)\n",
    "\n",
    "obs = np.loadtxt('090510_OmuJy.txt')\n",
    "\n",
    "time = obs[:,0]\n",
    "filt = obs[:,1]\n",
    "flux = obs[:,2]\n",
    "ferr = obs[:,3]\n",
    "det = obs[:,4]\n",
    "\n",
    "cond = \n",
    "\n",
    "time =\n",
    "fil = \n",
    "fl = \n",
    "flerr = "
   ]
  },
  {
   "cell_type": "code",
   "execution_count": null,
   "metadata": {
    "colab": {},
    "colab_type": "code",
    "id": "unpyrhqnbI4G",
    "outputId": "3f33a0b1-973e-4c7c-cf12-bb92c878efe4"
   },
   "outputs": [],
   "source": [
    "# Choose time range\n",
    "\n",
    "ta = grb.day2sec * # choose lower time\n",
    "tb = grb.day2sec * # choose upper time\n",
    "tsec = np.geomspace() # write\n",
    "\n",
    "print('Time range chosen')\n",
    "\n",
    "# Calculate flux in a single optical band (all times have same frequency)\n",
    "\n",
    "nu = np.empty(tsec.shape)\n",
    "nu[:] = 4.8e14 # approximate r-band frequency\n",
    "\n",
    "Y = np.array([thetaObs, E0, thetaC, thetaW, b, specType, q, ts, n0, p, eps_e, eps_B, xi_N, dL])\n",
    "Z = {'z': z}\n",
    "\n",
    "# Calculate!\n",
    "\n",
    "Fnu_gau = \n",
    "\n",
    "print(\"Calculated Gaussian Jet flux\")\n",
    "\n",
    "# Convert time back to days and plot!\n",
    "\n",
    "t = \n",
    "\n",
    "print(\"Plot Observed Data\")\n",
    "\n",
    "plt.errorbar(time,fl,yerr=flerr,capsize=3,fmt='o',color='xkcd:shocking pink')\n",
    "\n",
    "print(\"Plot Models\")\n",
    "\n",
    "plt.plot(t,Fnu_gau, label = 'Gaussian')\n",
    "plt.yscale('log')\n",
    "plt.xlabel('Time since burst (days)')\n",
    "plt.ylabel(r'$F_{nu}$ (Jy)')\n",
    "plt.title('090510 Afterglow Models')\n",
    "plt.legend(fontsize=14)\n",
    "plt.show()"
   ]
  },
  {
   "cell_type": "markdown",
   "metadata": {
    "colab_type": "text",
    "id": "rlppzPwHbI4I"
   },
   "source": [
    "# Exercise 4\n",
    "\n",
    "## Creating multiwavelength afterglow lightcurves\n",
    "\n",
    "SGRB 050724 was the first short gamma-ray burst whose afterglow was detected in the X-ray, optical, near-infrared and radio parts of the EM spectrum. As time went by, astronomers started sampling the afterglows more frequenctly across wavelengths. Here, we will compare the multiwavelength observations from the 130603B with our lightcurves for different jet types. Data from Table 1, Fong, Berger, Metzger et al. 2013 (https://iopscience.iop.org/article/10.1088/0004-637X/780/2/118/pdf).\n",
    "\n",
    "## Unit conversions\n",
    "\n",
    "In order to produce lightcurves in the correct units, we must provide the models with the correct units of frequency, $\\nu$. We can calculate $\\nu$ from wavelength $\\lambda$ by:\n",
    "\n",
    "\\begin{equation}\n",
    "c = \\lambda * \\nu\n",
    "\\end{equation}\n",
    "\n",
    "Where $c$ is the speed of light ($c=3*10^{10}$ cm/s), $\\nu$ is frequency, and $\\lambda$ is wavelength.\n",
    "\n",
    "Below is the electromagnetic spectrum with approximate values for $\\lambda$. As $\\texttt{afterglowpy}$ only accepts $\\nu$ values, you'll need to convert to frequency to calculate your multiwavelength afterglow lightcurves. Below is an EM spectrum with frequency and wavelength so you can check you have approximately the correct values. However, I'll give you the exact wavelength values below to calculate.\n",
    "\n",
    "<img src=\"emspectrum_nu.png\">"
   ]
  },
  {
   "cell_type": "markdown",
   "metadata": {
    "colab_type": "text",
    "id": "Zud6UzYobI4I"
   },
   "source": [
    "# Part 4a) \n",
    "\n",
    "Calculating frequency of each band"
   ]
  },
  {
   "cell_type": "code",
   "execution_count": null,
   "metadata": {
    "colab": {},
    "colab_type": "code",
    "id": "kYMHFkHZbI4I"
   },
   "outputs": [],
   "source": [
    "# calculate X-ray, optical, near infrared and radio frequencies in Hz given \n",
    "\n",
    "c = 3e10 # units = cm/s\n",
    "\n",
    "lambda_xray = 1.24e-7 # cm units\n",
    "nu_xray = \n",
    "\n",
    "lambda_opt = 0.62e-4 # cm units\n",
    "nu_opt = \n",
    "\n",
    "lambda_nir = 1.2e-4 # cm units\n",
    "nu_nir = \n",
    "\n",
    "lambda_rad = 4.5e0 # cm units\n",
    "nu_rad = "
   ]
  },
  {
   "cell_type": "code",
   "execution_count": null,
   "metadata": {
    "colab": {},
    "colab_type": "code",
    "id": "wdpRVA7HbI4K"
   },
   "outputs": [],
   "source": [
    "# Preliminary Jet parameters - leave for now, can play with later!\n",
    "\n",
    "thetaObs = 0.05  # Viewing angle in radians\n",
    "E0 = 1.0e51    # Isotropic-equivalent energy in erg\n",
    "thetaC = 0.1     # Half-opening angle in radians\n",
    "thetaW = 0.1     # Truncation angle, unused for top-hat\n",
    "b = .01            # power law index, unused for top-hat\n",
    "n0 = 1.0         # circumburst density in cm^{-3}\n",
    "p = 2.2          # electron energy distribution index\n",
    "eps_e = 0.1      # epsilon_e\n",
    "eps_B = 0.01     # epsilon_B\n",
    "xi_N = 1.0       # Fraction of electrons accelerated\n",
    "specType = 0 # global cooling time, no inverse compton"
   ]
  },
  {
   "cell_type": "markdown",
   "metadata": {
    "colab_type": "text",
    "id": "WH_a0Ji2bI4L"
   },
   "source": [
    "# Part 4b) \n",
    "\n",
    "Load in observed multiwavelength data and sort it part filter (X-ray, Optical, Near-Infrared, and Radio) by detection (q = 1) or upper limit (q = 0). Upper limits can be useful because they can help us rule out models that are too bright."
   ]
  },
  {
   "cell_type": "code",
   "execution_count": null,
   "metadata": {
    "colab": {},
    "colab_type": "code",
    "id": "icxBLKoqbI4L"
   },
   "outputs": [],
   "source": [
    "# Load in data\n",
    "\n",
    "obs = np.loadtxt('multiwave_OmuJy.txt')\n",
    "\n",
    "dt = obs[:,0] # time in days\n",
    "filt = obs[:,1] # filter in microns (1 micron = 10000 centimeters)\n",
    "\n",
    "print(filt) # print to see which part of the spectrum the data was taken at\n",
    "\n",
    "flux = obs[:,2] # flux in microJansky\n",
    "ferr = obs[:,3] # flux error in microJansky\n",
    "\n",
    "det = obs[:,4] # detection = 1, upper limit = 0\n",
    "\n",
    "# Separate data by filter and if detection or upper limit\n",
    "\n",
    "\n"
   ]
  },
  {
   "cell_type": "markdown",
   "metadata": {
    "colab_type": "text",
    "id": "6_12Wnc3bI4M"
   },
   "source": [
    "# Part 4c)\n",
    "\n",
    "Create multiwavelength models using frequencies calculated in Part 4a) and plot with observations."
   ]
  },
  {
   "cell_type": "code",
   "execution_count": null,
   "metadata": {
    "colab": {},
    "colab_type": "code",
    "id": "b6cHTNr2bI4N",
    "outputId": "f6f5c159-8616-45d3-d7db-f7785837c789"
   },
   "outputs": [],
   "source": [
    "# Choose appropriate time range\n",
    "\n",
    "ta = grb.day2sec * # choose lower time\n",
    "tb = grb.day2sec * # choose upper time\n",
    "tsec = np.geomspace() # write\n",
    "\n",
    "# calculate multiwavelength lightcurves\n",
    "\n",
    "print(\"Calc Radio\")\n",
    "FnuR = grb.fluxDensity()\n",
    "print(\"Calc Optical\")\n",
    "FnuO = grb.fluxDensity()\n",
    "print(\"Calc Near Infrared\")\n",
    "FnuN = grb.fluxDensity()\n",
    "print(\"Calc X-ray\")\n",
    "FnuX = grb.fluxDensity()\n",
    "\n",
    "# plot data by filter - make sure to use different markers for detections and upper limits\n",
    "\n",
    "\n",
    "\n",
    "\n",
    "# plot models\n",
    "\n",
    "print(\"Plot\")\n",
    "\n",
    "t = \n",
    "\n",
    "plt.plot(t,FnuR, label = 'Radio')\n",
    "plt.plot(t,FnuO, label = 'Optical')\n",
    "plt.plot(t,FnuN, label = 'Near-Infrared')\n",
    "plt.plot(t,FnuX, label = 'X-ray')\n",
    "\n",
    "plt.yscale('log')\n",
    "plt.xlabel('') # add in\n",
    "plt.ylabel(r'') # add in\n",
    "plt.title('') # add in\n",
    "plt.legend(fontsize=14)\n",
    "plt.show()"
   ]
  },
  {
   "cell_type": "markdown",
   "metadata": {
    "colab_type": "text",
    "id": "1H4xoWspbI4O"
   },
   "source": [
    "# Part 4d)\n",
    "\n",
    "Play with your Jet parameters and jetType to get the best fit to all of the detections and upper limits."
   ]
  },
  {
   "cell_type": "code",
   "execution_count": null,
   "metadata": {
    "colab": {},
    "colab_type": "code",
    "id": "5jjsMIHKbI4P"
   },
   "outputs": [],
   "source": [
    "# Work space for 4d"
   ]
  },
  {
   "cell_type": "markdown",
   "metadata": {
    "colab_type": "text",
    "id": "MDh-8wxHbI4Q"
   },
   "source": [
    "#### Question: Which jet type fits the data best?\n",
    "\n",
    "Answer:"
   ]
  },
  {
   "cell_type": "markdown",
   "metadata": {
    "colab_type": "text",
    "id": "PaXES-K-bI4R"
   },
   "source": [
    "# Nice job!\n",
    "\n",
    "If you finished early, here's a challenge:\n",
    "\n",
    "We have been determining the best models by eye for these exercises. However, in practice astronomers like to use statistics to make sure we are finding the best fit. To do this, we must:\n",
    "\n",
    "1. Determine how to quantitatively measuring how good a fit is\n",
    "2. Minimize or maximize this quantity to make sure we have the best fit possible\n",
    " \n",
    "Feel free to ask more questions! I'm happy to help provide resources for smart ways to do this."
   ]
  },
  {
   "cell_type": "code",
   "execution_count": null,
   "metadata": {
    "colab": {},
    "colab_type": "code",
    "id": "jXgY32K3bI4R"
   },
   "outputs": [],
   "source": []
  }
 ],
 "metadata": {
  "colab": {
   "include_colab_link": true,
   "name": "SGRB_Afterglows.ipynb",
   "provenance": []
  },
  "kernelspec": {
   "display_name": "Python 3",
   "language": "python",
   "name": "python3"
  },
  "language_info": {
   "codemirror_mode": {
    "name": "ipython",
    "version": 3
   },
   "file_extension": ".py",
   "mimetype": "text/x-python",
   "name": "python",
   "nbconvert_exporter": "python",
   "pygments_lexer": "ipython3",
   "version": "3.8.5"
  }
 },
 "nbformat": 4,
 "nbformat_minor": 1
}
