{
 "cells": [
  {
   "cell_type": "markdown",
   "metadata": {},
   "source": [
    "# Accessing Data in Google Drive\n",
    "\n",
    "If you are running these workbooks from Google Colab, in order to access the necessary data you may need to run the following commands:"
   ]
  },
  {
   "cell_type": "code",
   "execution_count": null,
   "metadata": {
    "colab": {
     "base_uri": "https://localhost:8080/",
     "height": 527
    },
    "colab_type": "code",
    "id": "bj5XzO2rwjxR",
    "outputId": "871cd103-3d92-47b2-8b93-5878cd207c28"
   },
   "outputs": [],
   "source": [
    "# Mount Google Drive withing Google Colab\n",
    "\n",
    "from google.colab import drive\n",
    "drive.mount('/content/gdrive')\n",
    "\n",
    "# Change directories to the location where your data is stored.\n",
    "\n",
    "%cd /content/gdrive/My\\ Drive/<location on Google Drive where your files are/\n",
    "\n",
    "# Print the contents of that directory, so that you can make sure you are in the right\n",
    "# place.\n",
    "\n",
    "%ls"
   ]
  }
 ],
 "metadata": {
  "colab": {
   "collapsed_sections": [],
   "name": "AccessGoogleDrive.ipynb",
   "provenance": []
  },
  "kernelspec": {
   "display_name": "Python 3",
   "language": "python",
   "name": "python3"
  },
  "language_info": {
   "codemirror_mode": {
    "name": "ipython",
    "version": 3
   },
   "file_extension": ".py",
   "mimetype": "text/x-python",
   "name": "python",
   "nbconvert_exporter": "python",
   "pygments_lexer": "ipython3",
   "version": "3.7.7"
  }
 },
 "nbformat": 4,
 "nbformat_minor": 1
}
