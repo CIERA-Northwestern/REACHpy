{
  "nbformat": 4,
  "nbformat_minor": 0,
  "metadata": {
    "colab": {
      "name": "velocity_of_stars_in_the_milky_way.ipynb",
      "provenance": [],
      "collapsed_sections": [],
      "toc_visible": true,
      "authorship_tag": "ABX9TyPLNPS1/7S2S68ScZsUnyjb"
    },
    "kernelspec": {
      "name": "python3",
      "display_name": "Python 3"
    }
  },
  "cells": [
    {
      "cell_type": "markdown",
      "metadata": {
        "id": "1-2CHSExhy0x"
      },
      "source": [
        "# Stellar velocities and the Milky Way\n",
        "---\n",
        "<div>Michael C. Stroh</br>\n",
        "michael.stroh@northwestern.edu</br>\n",
        "Center for Interdisciplinary Exploration and Research in Astrophysics</br>\n",
        "Northwestern University</br>\n",
        "2021\n",
        "</div>\n",
        "\n",
        "---\n",
        "\n"
      ]
    },
    {
      "cell_type": "markdown",
      "metadata": {
        "id": "Xi6Z1vDOWPSi"
      },
      "source": [
        "# Section A: Viewing the Milky Way"
      ]
    },
    {
      "cell_type": "markdown",
      "metadata": {
        "id": "UHLrCy_zTA0k"
      },
      "source": [
        "We live in a barred spiral galaxy, the Milky Way. Below is an artist's concept of the Milky Way if one were able to look down upon it.\n",
        "\n",
        "<img src='https://github.com/mcstroh/python-tutorials/blob/master/velocity_stars_in_milky_way/images/ssc2008-10a.png?raw=true' alt=\"Artist's concept of the Milky Way\" width=\"500\" />\n",
        "\n",
        "We cannot take an image of the Milky Way because we live within it, in one of the spiral arms. Thus it is important to view the Milky Way in alternative ways in order to understand its structure.\n",
        "\n",
        "To begin, we can build upon concepts that are more commonly used in other aspects of our lives. To begin with, let us review the common way we view the surface of the Earth.\n",
        "\n",
        "![Longitude-latitude diagram view of the Earth](https://github.com/mcstroh/python-tutorials/blob/master/velocity_stars_in_milky_way/images/earth_l_b_comparison.png?raw=true)\n",
        "\n",
        "We can view our galaxy, the Milky Way, in a similar manner. Below is an image of carbon-oxygen clouds in the Milky Way using a similar Longitude-Latitude coordinate system.\n",
        "\n",
        "![Longitude-latitude diagram of the Milky Way](https://github.com/mcstroh/python-tutorials/blob/master/velocity_stars_in_milky_way/images/dame_l_b_simplified.png?raw=true)\n",
        "\n",
        "This isn't particularly useful because the Milky Way looks pretty flat because most of the clouds reside in a very thin disk.\n",
        "As an alternative, we can replace latitude with something else. \n",
        "Below, we show a similar diagram where someone has plotted velocity of the clouds along the y-axis.\n",
        "\n",
        "![Longitude-velocity diagram of the Milky Way](https://github.com/mcstroh/python-tutorials/blob/master/velocity_stars_in_milky_way/images/dame_l_v_simplified.png?raw=true)"
      ]
    },
    {
      "cell_type": "markdown",
      "metadata": {
        "id": "P5dptwdyWStf"
      },
      "source": [
        "# Section B: The Doppler effect"
      ]
    },
    {
      "cell_type": "markdown",
      "metadata": {
        "id": "3TeRh9kaiFWl"
      },
      "source": [
        "We often think of light as a wave, described by a wavelength (the distance between nearby peaks), or a frequency (how often peaks are detected).\n",
        "If the star is stationary, the peaks of the wave will be detected at regular intervals as demonstrated in the Wikipedia image below (think of the circles as representing separate peaks of the wave moving away from the star):\n",
        "\n",
        "![Sound emitted by a stationary source](https://upload.wikimedia.org/wikipedia/commons/e/e3/Dopplereffectstationary.gif)\n",
        "\n",
        "However, if the star is moving, an observer will measure a difference in the detected light.\n",
        "\n",
        "![Sound emitted by a moving source](https://upload.wikimedia.org/wikipedia/commons/c/c9/Dopplereffectsourcemovingrightatmach0.7.gif)\n",
        "\n",
        "If the star is moving away from you, the peaks will be much further apart (redshifting). \n",
        "\n",
        "*   If a star is moving **away from you**, the peaks will be much further apart. This is referred to as **redshifting** because red light has a longer wavelength (higher frequency) than blue light.\n",
        "*   If a star is moving **towards you**, the peaks will be much closer together. This is referred to as **blueshifting** because blue light has a shorter wavelength (lower frequency) than red light.\n",
        "\n",
        "\n",
        "Therefore, if we know what the frequency of light **should be**, we can calculate the velocity of a star by measuring the frequency that we observe. In particular, we can find the velocity using:\n",
        "\n",
        "$v = \\bigg(1 - \\frac{f_{observed}}{f_{stationary}} \\bigg)c$\n",
        "\n",
        "In this equation, \n",
        "*    v is the velocity,\n",
        "*    $f_{observed}$ is the frequency measured by the observer,\n",
        "*    $f_{stationary}$ is the frequency when the star is stationary, and\n",
        "*    c is the speed of light (approximately $3 \\times 10^5$ km/s, or $6.706 \\times 10^8$ miles/hour).\n"
      ]
    },
    {
      "cell_type": "markdown",
      "metadata": {
        "id": "5n8Iota9Mkwf"
      },
      "source": [
        "##Regarding units\n",
        "Frequency is often measured in units of hertz (Hz), which indicates how many peaks arrive per second. \n",
        "In this notebook we will commonly use units of GHz which are $10^9$ Hz. \n",
        "Thus if observing light at 43 GHz, the wave of light peaks $43\\times10^{9}$ times per second.\n",
        "\n",
        "Since the frequencies are in a fraction, their units will cancel out. So the units you use for the speed of light, will be the units of velocity at the end."
      ]
    },
    {
      "cell_type": "markdown",
      "metadata": {
        "id": "XenrjJURWaIW"
      },
      "source": [
        "#Section C: Clouds around the Stars\n",
        "\n"
      ]
    },
    {
      "cell_type": "markdown",
      "metadata": {
        "id": "MTH93YDlMLJi"
      },
      "source": [
        "We will use observations of clouds surrounding old stars, referred to as Mira variables.\n",
        "These stars are losing mass which feeds the clouds we are observing.\n",
        "The stars cyle through being bright and dim, over periods of hundreds of days.\n",
        "\n",
        "Below we show a movie \n",
        "(from Diamond & Kemball, 2003) of the clouds in a similar star to the ones presented here.\n",
        "The star is located in the center, but is not bright enough to be detected by these observations.\n",
        "The 3 second movie spans an approximately 2 year period.\n",
        "\n",
        "![VLBA SiO maser variability from Diamond & Kemball, 2003](https://github.com/mcstroh/python-tutorials/blob/master/velocity_stars_in_milky_way/images/diamond_kemball_sio_movie.gif?raw=true)\n",
        "\n",
        "\n",
        "Although we are technically observing the clouds surrounding the stars, the velocity of the clouds will give us the velocity of the stars.\n",
        "\n"
      ]
    },
    {
      "cell_type": "markdown",
      "metadata": {
        "id": "ihw7gnRgKQPA"
      },
      "source": [
        "# Section D: Goals for this project"
      ]
    },
    {
      "cell_type": "markdown",
      "metadata": {
        "id": "aXDvVKzZKV1P"
      },
      "source": [
        "<a href='https://public.nrao.edu/telescopes/vla/'>\n",
        "<img src='https://www.nsf.gov/news/mmg/media/images/vlasunrisejuly2008_h.jpg' alt='VLA observatory' />\n",
        "</a>\n",
        "\n",
        "We will use the data collected from the Karl G. Jansky Very Large Array, often referred to as the VLA.\n",
        "The VLA observes with 27 radio antennas and is located in New Mexico.\n",
        "\n",
        "Generally, this notebook will guide you through:\n",
        "* Download, load and plot a radio spectrum.\n",
        "* Detect at least one spectral line in the spectrum you choose.\n",
        "* Discover how fast the star is moving towards or away from you.\n",
        "* Based on the velocity of the star, how does the star fit into the structure of the Milky Way?\n",
        "\n",
        "\n"
      ]
    },
    {
      "cell_type": "markdown",
      "metadata": {
        "id": "P8Jp83FBY_bc"
      },
      "source": [
        "The observations shared in this notebook are related to the <a href='http://www.phys.unm.edu/~baade/index.html'>Bulge Asymmetries and Dynamical Evolution (BAaDE)</a> survey.\n",
        "The BAaDE survey performs a similar analysis to what you are performing here but for 28,062 stars across the Milky Way.\n",
        "Some questions of interest to the BAaDE survey:\n",
        "*   How does the galaxy look like based on the velocities of Mira variables?\n",
        "*   What are the properties of the stars in the survey?\n",
        "*   What causes the clouds surrounding the star to emit these spectral lines?"
      ]
    },
    {
      "cell_type": "markdown",
      "metadata": {
        "id": "AWjdTvOyOCv-"
      },
      "source": [
        "## Important note going forward\n",
        "When working through this project, it's OK to run into problems and struggle.\n",
        "Make notes of what hurdles you are running into.\n",
        "If you get stuck, write down what you know, and what you think you need to move forward."
      ]
    },
    {
      "cell_type": "markdown",
      "metadata": {
        "id": "dk4Vqtw5iZ2X"
      },
      "source": [
        "#Section 1: Downloading and plotting a spectrum"
      ]
    },
    {
      "cell_type": "markdown",
      "metadata": {
        "id": "_Y3cYnhYWrWM"
      },
      "source": [
        "\n",
        "Download the five VLA spectra by running the cell below."
      ]
    },
    {
      "cell_type": "code",
      "metadata": {
        "id": "yMyM5NRjjaHp"
      },
      "source": [
        "!wget https://raw.githubusercontent.com/mcstroh/python-tutorials/master/velocity_stars_in_milky_way/spectra/ad3a-16952.txt\n",
        "!wget https://raw.githubusercontent.com/mcstroh/python-tutorials/master/velocity_stars_in_milky_way/spectra/ad3a-16500.txt\n",
        "!wget https://raw.githubusercontent.com/mcstroh/python-tutorials/master/velocity_stars_in_milky_way/spectra/ad3a-17123.txt\n",
        "!wget https://raw.githubusercontent.com/mcstroh/python-tutorials/master/velocity_stars_in_milky_way/spectra/ad3a-17332.txt\n",
        "!wget https://raw.githubusercontent.com/mcstroh/python-tutorials/master/velocity_stars_in_milky_way/spectra/ad3a-18081.txt\n"
      ],
      "execution_count": null,
      "outputs": []
    },
    {
      "cell_type": "markdown",
      "metadata": {
        "id": "O36an91Tjal-"
      },
      "source": [
        "It's always useful to plot the data to get a sense of what you're dealing with. Write code to plot the spectrum with flux (Jy) as the y-axis, and frequency (GHz) along the x-axis.\n",
        "The flux is a measurement of how strong the spectrum is.\n",
        "\n",
        "The files are formatted similar to the table below but with more than 4000 lines:\n",
        "><p align='right'>Frequency (GHz)</p> |    <p align='right'>Flux (Jy)</p>\n",
        "> --- | ---\n",
        ">     <p align='right'>$42.3048852$</p> |   <p align='right'>$-0.0112890$</p>\n",
        ">     <p align='right'>$42.3051352$</p> |   <p align='right'>$ 0.0055765$</p>\n",
        ">     <p align='right'>$42.3053852$</p> |   <p align='right'>$-0.0218999$</p>\n",
        ">     <p align='right'>$42.3056352$</p> |   <p align='right'>$ 0.0051897$</p>\n",
        ">     <p align='right'>$42.3058852$</p> |   <p align='right'>$-0.0139943$</p>\n",
        "\n",
        "\n",
        "\n",
        "I include an example of a spectrum to give you an idea of what you're looking for. But you may have fewer peaks in your figure.\n",
        "\n",
        "![VLA radio spectrum from ce3a-00250](https://github.com/mcstroh/python-tutorials/blob/master/velocity_stars_in_milky_way/images/ce3a-00250.png?raw=true)\n",
        "\n",
        "You have the freedom to customize how your figure looks. \n",
        "Above all, make sure you're happy with your figure.\n",
        "\n",
        "Hint: The pandas function read_fwf() may be useful to read the files.\n",
        "\n"
      ]
    },
    {
      "cell_type": "code",
      "metadata": {
        "id": "8LK11lNwhnSg"
      },
      "source": [
        ""
      ],
      "execution_count": 4,
      "outputs": []
    },
    {
      "cell_type": "markdown",
      "metadata": {
        "id": "XdyU2h_qhwAX"
      },
      "source": [
        "# Section 2: Creating your own line detection function"
      ]
    },
    {
      "cell_type": "markdown",
      "metadata": {
        "id": "EHQCpjM4qp7V"
      },
      "source": [
        "Calculate the average flux of the spectrum. The NumPy \"mean\" function (https://numpy.org/doc/stable/reference/generated/numpy.mean.html), or Pandas \"mean\" function (https://pandas.pydata.org/docs/reference/api/pandas.DataFrame.mean.html) may be useful."
      ]
    },
    {
      "cell_type": "code",
      "metadata": {
        "id": "sqQ31SKymAGR"
      },
      "source": [
        ""
      ],
      "execution_count": null,
      "outputs": []
    },
    {
      "cell_type": "markdown",
      "metadata": {
        "id": "VHwkMhsHSpeL"
      },
      "source": [
        "Now calculate the standard deviation of the flux in the spectrum. This gives an estimate of how wiggly the spectrum is. You can use the NumPy \"std\" function (https://numpy.org/doc/stable/reference/generated/numpy.std.html) or the Pandas \"std\" function (https://pandas.pydata.org/docs/reference/api/pandas.DataFrame.std.html)."
      ]
    },
    {
      "cell_type": "code",
      "metadata": {
        "id": "8hHnd3YOppUO"
      },
      "source": [
        ""
      ],
      "execution_count": null,
      "outputs": []
    },
    {
      "cell_type": "markdown",
      "metadata": {
        "id": "N-zMEXrI8XN1"
      },
      "source": [
        "Astronomers often use the following formula to find spectral lines:\n",
        "\n",
        "$D =~$average$~+~5~\\times~$standard deviation\n",
        "\n",
        "For a line to be detected, it must be brighter than this value.\n",
        "Anything below this value is considered to be noise.\n",
        "\n",
        "Using this formula, how bright must a line be in order for it to be detected?"
      ]
    },
    {
      "cell_type": "code",
      "metadata": {
        "id": "jcGlKXDs8zNx"
      },
      "source": [
        ""
      ],
      "execution_count": null,
      "outputs": []
    },
    {
      "cell_type": "markdown",
      "metadata": {
        "id": "7zM2-tEzScAN"
      },
      "source": [
        "Create a **function** to find the frequency and flux of the peak of any line found in the spectrum you downloaded. You may want to use some of the previous steps, but are not required to do so!\n",
        "\n",
        "If your file has multiple detected lines as shown in the plot you made above, first focus on finding one line."
      ]
    },
    {
      "cell_type": "code",
      "metadata": {
        "id": "iwL2ccXYoBkx"
      },
      "source": [
        "def my_line_finder(frequency, flux):\n",
        "\n",
        "    # Find peak - the values below are placeholders\n",
        "    peak_frequency = None\n",
        "    peak_flux = None\n",
        "\n",
        "    # Send this information back\n",
        "    return peak_frequency, peak_flux\n",
        "\n",
        "#\n",
        "# The code below is included so that you can focus on the function above.\n",
        "#\n",
        "\n",
        "# Now use the function you created\n",
        "peak_frequency, peak_flux = my_line_finder(frequency, flux)\n",
        "\n",
        "# Print the output\n",
        "print(f\"A spectral line was found at {peak_frequency} GHz, which has a peak flux of {peak_flux} Jy.\")"
      ],
      "execution_count": null,
      "outputs": []
    },
    {
      "cell_type": "markdown",
      "metadata": {
        "id": "G9P1yMDaohbZ"
      },
      "source": [
        "## (Optional) Section 2.1: Finding all spectral lines"
      ]
    },
    {
      "cell_type": "markdown",
      "metadata": {
        "id": "tUw8LxaUo65T"
      },
      "source": [
        "\n",
        "If your file has multiple lines, you can try creating another version of your function that finds *all* spectral lines!\n",
        "\n"
      ]
    },
    {
      "cell_type": "code",
      "metadata": {
        "id": "fZEd4OMTq7Df"
      },
      "source": [
        ""
      ],
      "execution_count": null,
      "outputs": []
    },
    {
      "cell_type": "markdown",
      "metadata": {
        "id": "CqPhcHN4pU1k"
      },
      "source": [
        "# Section 3: Calculating the velocity of the star\n"
      ]
    },
    {
      "cell_type": "markdown",
      "metadata": {
        "id": "kfttYumZ4J5Z"
      },
      "source": [
        "\n",
        "Recall from the Doppler effect section that we can find the velocity if we compare the detected frequency to the frequency that the line would be if the star were stationary.\n",
        "Below is a table of possible frequencies for the lines in this sample.\n",
        "Which line is closest in frequency to the line you found in Section 2?\n",
        "\n",
        "\n",
        "> <p align='right'>#</p>|    <p align='right'>Frequency (GHz)</p>\n",
        "> --- | ---\n",
        ">  <p align='right'>$1$</p>   | <p align='right'>$42.373341$</p>\n",
        ">  <p align='right'>$2$</p>   | <p align='right'>$42.519375$</p>\n",
        ">  <p align='right'>$3$</p>   | <p align='right'>$42.583827$</p>\n",
        ">  <p align='right'>$4$</p>   | <p align='right'>$42.820570$</p>\n",
        ">  <p align='right'>$5$</p>   | <p align='right'>$42.879941$</p>\n",
        ">  <p align='right'>$6$</p>   | <p align='right'>$43.122090$</p>\n",
        ">  <p align='right'>$7$</p>   | <p align='right'>$43.423853$</p>\n"
      ]
    },
    {
      "cell_type": "code",
      "metadata": {
        "id": "ObHg215sKCtj"
      },
      "source": [
        "# Note the line number and frequency, no coding necessary unless you want to."
      ],
      "execution_count": null,
      "outputs": []
    },
    {
      "cell_type": "markdown",
      "metadata": {
        "id": "5-XqEkH2KCKh"
      },
      "source": [
        "Using the following equation to find the velocity of the star using the frequency you found above.\n",
        "This is the same equation we introduced in the Doppler effect section above.\n",
        "\n",
        "$v = \\bigg(1 - \\frac{f_{observed}}{f_{stationary}} \\bigg)c$\n",
        "\n",
        "In this equation \n",
        "*    v is the velocity,\n",
        "*    $f_{observed}$ is the frequency measured by the observer,\n",
        "*    $f_{stationary}$ is the frequency when the star is stationary, and\n",
        "*    c is the speed of light (approximately $3 \\times 10^5$ km/s, or $6.706 \\times 10^8$ miles/hour).\n"
      ]
    },
    {
      "cell_type": "code",
      "metadata": {
        "id": "A05LlrllKkzP"
      },
      "source": [
        ""
      ],
      "execution_count": null,
      "outputs": []
    },
    {
      "cell_type": "markdown",
      "metadata": {
        "id": "GsCZQodqKlm3"
      },
      "source": [
        "A positive velocity means the star is moving away from you, and a negative velocity means the star is moving towards you.\n",
        "\n",
        "Is the star moving towards or away from you?"
      ]
    },
    {
      "cell_type": "code",
      "metadata": {
        "id": "_9wI3EKBKl8_"
      },
      "source": [
        ""
      ],
      "execution_count": null,
      "outputs": []
    },
    {
      "cell_type": "markdown",
      "metadata": {
        "id": "9-RoVwKCCNOX"
      },
      "source": [
        "## Section 3.1: Are these stars consistent with spiral arms?"
      ]
    },
    {
      "cell_type": "markdown",
      "metadata": {
        "id": "HGegf9CYDQnE"
      },
      "source": [
        "Below we show figures from (Valèe 2017) who tried to model the spiral arms in the Milky Way in two longitude-velocity diagrams.\n",
        "\n",
        "![Vallèe model of the Milky Way](https://github.com/mcstroh/python-tutorials/blob/master/velocity_stars_in_milky_way/images/vallee_2017_models.png?raw=true)\n",
        "\n",
        "The left panel shows the structure if you were to look directly towards the center of the Milky Way. \n",
        "Note that the x-axis here is backwards from the figure we showed at the end of Section A.\n",
        "The right panel shows the spiral structure if you are looking away from the center of the Milky Way."
      ]
    },
    {
      "cell_type": "markdown",
      "metadata": {
        "id": "iibwKyUPCbSn"
      },
      "source": [
        "If you haven't already, calculate the velocity of the star in km/s. Based on the value, at what **Galactic longitudes** would you be able to find stars of this velocity?"
      ]
    },
    {
      "cell_type": "code",
      "metadata": {
        "id": "fmC_kE4dGXOy"
      },
      "source": [
        ""
      ],
      "execution_count": null,
      "outputs": []
    },
    {
      "cell_type": "markdown",
      "metadata": {
        "id": "3gkZeMTrDAYa"
      },
      "source": [
        "Now that you've narrowed down possible Galactic longitude ranges where this star could possibly be found, what spiral arms, if any, could such a star belong to? Is it possible to definitely say which spiral arm the star must belong to without knowing the Galactic longitude?"
      ]
    },
    {
      "cell_type": "code",
      "metadata": {
        "id": "_tcnu7-QGYCm"
      },
      "source": [
        ""
      ],
      "execution_count": null,
      "outputs": []
    },
    {
      "cell_type": "markdown",
      "metadata": {
        "id": "aU0hFyeWU6NC"
      },
      "source": [
        "## (Optional - Requires Section 2.1) Section 3.2: Calculate the velocity of all spectral lines"
      ]
    },
    {
      "cell_type": "markdown",
      "metadata": {
        "id": "S0uGKCvZVMGw"
      },
      "source": [
        "Calculate the velocity of all spectral lines you found in Section 2.1."
      ]
    },
    {
      "cell_type": "code",
      "metadata": {
        "id": "sH360dfbVUKf"
      },
      "source": [
        ""
      ],
      "execution_count": null,
      "outputs": []
    },
    {
      "cell_type": "markdown",
      "metadata": {
        "id": "fXb76VDXVUdE"
      },
      "source": [
        "How well do the velocities agree? Are there any outliers?"
      ]
    },
    {
      "cell_type": "code",
      "metadata": {
        "id": "HnmNFUbXVbcX"
      },
      "source": [
        ""
      ],
      "execution_count": null,
      "outputs": []
    },
    {
      "cell_type": "markdown",
      "metadata": {
        "id": "3dTW_avToxoM"
      },
      "source": [
        "# (Optional) Section 4: Running your code on multiple stars"
      ]
    },
    {
      "cell_type": "markdown",
      "metadata": {
        "id": "qOz89x4r4oeE"
      },
      "source": [
        "Calculate the velocity of all of the stars using all five files you downloaded at the start.\n",
        "It may be useful to use a loop.\n",
        "Make notes of problems that you run into.\n",
        "This isn't a simple task!"
      ]
    },
    {
      "cell_type": "code",
      "metadata": {
        "id": "aQUBLPQ45XRL"
      },
      "source": [
        ""
      ],
      "execution_count": null,
      "outputs": []
    },
    {
      "cell_type": "markdown",
      "metadata": {
        "id": "P56YJ6sGbhew"
      },
      "source": [
        "##(Optional) Section 4.1: A single velocity for each star"
      ]
    },
    {
      "cell_type": "markdown",
      "metadata": {
        "id": "NGSPrB7tbpMd"
      },
      "source": [
        "Some files have multiple spectral lines and they likely agree. \n",
        "If this is the case, calculate a single velocity for each star by calculating the average of the velocities you found for the star.\n",
        "Also state the error in the average velocity using:\n",
        "\n",
        "average error = standard deviation/$\\sqrt(N)$ \n",
        "\n",
        "where N is the number of data points used to calculate the average."
      ]
    },
    {
      "cell_type": "code",
      "metadata": {
        "id": "2sHvIAFzbovU"
      },
      "source": [
        ""
      ],
      "execution_count": null,
      "outputs": []
    },
    {
      "cell_type": "markdown",
      "metadata": {
        "id": "u_kdSvXeZ-mm"
      },
      "source": [
        "#(Optional) Section 5: A better noise calculation"
      ]
    },
    {
      "cell_type": "markdown",
      "metadata": {
        "id": "xpLnUnkfaIsm"
      },
      "source": [
        "In Section 2 you calculated the detection threshold using\n",
        "\n",
        "$D =~$average$~+~5~\\times~$standard deviation\n",
        "\n",
        "but the average and the standard deviation took into account the bright spectral lines.\n",
        "To go a little deeper, recalculate the average, and standard deviation of the flux values after throwing away the brightest 5% and lowest 5% of flux values.\n",
        "Using these more robust calculations of the average and standard deviations of the noise, recalculate D.\n",
        "Repeat the analysis you previously did in Section 2-4 with this updated value.\n",
        "\n",
        "**If running on multiple files, make sure the D you use to calculate is based on the file you are using and not on a different file.**"
      ]
    },
    {
      "cell_type": "code",
      "metadata": {
        "id": "5p047yAsa2xv"
      },
      "source": [
        ""
      ],
      "execution_count": null,
      "outputs": []
    },
    {
      "cell_type": "markdown",
      "metadata": {
        "id": "lRPbuOlja3RW"
      },
      "source": [
        "Were you able to detect more lines than you originally were able to? If so, which lines were new and for what source(s)?"
      ]
    },
    {
      "cell_type": "code",
      "metadata": {
        "id": "-naE32POa_L8"
      },
      "source": [
        "# Comment"
      ],
      "execution_count": null,
      "outputs": []
    },
    {
      "cell_type": "markdown",
      "metadata": {
        "id": "K9Ey4DpF9xJ9"
      },
      "source": [
        "#(Optional) Section 6: Functionalize your approach"
      ]
    },
    {
      "cell_type": "markdown",
      "metadata": {
        "id": "-71QWBoe91sE"
      },
      "source": [
        "Above you created a function to find the peak of a single line and perhaps some other functions. Here, put it all together and create a function that you can pass the file name and it will give you the velocity of the star. Your new function can use functions you created above."
      ]
    },
    {
      "cell_type": "code",
      "metadata": {
        "id": "ncbF3r1j-gR_"
      },
      "source": [
        "# Write your function here"
      ],
      "execution_count": null,
      "outputs": []
    },
    {
      "cell_type": "markdown",
      "metadata": {
        "id": "PqdonRCPTvHo"
      },
      "source": [
        "#(Optional) Section 7: Light Curves\n"
      ]
    },
    {
      "cell_type": "markdown",
      "metadata": {
        "id": "E3xUBvWKT5Cd"
      },
      "source": [
        "These stars are variable and will brighten over time. Use the next cell to download the light curves (brightness versus time) for the five sources you used above.\n",
        "\n",
        "These files are from the American Association of Variable Star Observers (AAVSO) at aavso.org."
      ]
    },
    {
      "cell_type": "code",
      "metadata": {
        "id": "KwhiBfuIUFIX"
      },
      "source": [
        "!wget https://raw.githubusercontent.com/mcstroh/python-tutorials/master/velocity_stars_in_milky_way/lightcurves/lc_ad3a-16952.csv\n",
        "!wget https://raw.githubusercontent.com/mcstroh/python-tutorials/master/velocity_stars_in_milky_way/lightcurves/lc_ad3a-16500.csv\n",
        "!wget https://raw.githubusercontent.com/mcstroh/python-tutorials/master/velocity_stars_in_milky_way/lightcurves/lc_ad3a-17123.csv\n",
        "!wget https://raw.githubusercontent.com/mcstroh/python-tutorials/master/velocity_stars_in_milky_way/lightcurves/lc_ad3a-17332.csv\n",
        "!wget https://raw.githubusercontent.com/mcstroh/python-tutorials/master/velocity_stars_in_milky_way/lightcurves/lc_ad3a-18081.csv\n"
      ],
      "execution_count": null,
      "outputs": []
    },
    {
      "cell_type": "markdown",
      "metadata": {
        "id": "Hov181s6UUNf"
      },
      "source": [
        "These text files have the extension .csv which stands for Comma Separated Value. When you load these files, you want to split using commas.\n",
        "\n",
        "The fields of interest are JD, Magnitude, Uncertainty, and Band.\n",
        "\n",
        "JD (Julian Date) is widely used in astronomy and is the number of days since noon on Monday, 1 January 4713 BC. A helpful reference is to translate JD into MJD (Modified Julian Date, days since midnight on November 17, 1858) which is given by\n",
        "\n",
        "$MJD = JD - 2400000.5$\n",
        "\n",
        "Convert all values into MJD.\n",
        "\n",
        "Finally, plot the light curve for at least one source since August 1st, 2018. You will want magnitude along the y-axis, and time (as MJD) along the x-axis.\n",
        "\n",
        "Bands refers to the filter used for the observation. In this case, you'll want to create *separate* light curves for U, B, V, Vis, R, and I. You can overplot these on the same plot but use separate colors.\n",
        "\n",
        "Brighter magnitudes are smaller, so you'll want the magnitude to decrease along the y-axis.\n",
        "\n",
        "Useful colors for your bands would be:\n",
        "- U - purple\n",
        "- B - blue\n",
        "- V - green\n",
        "- Vis - black\n",
        "- R - red\n",
        "- I - pink\n",
        "\n",
        "You can try adding error bars to your magnitude measurements by using the uncertainty field.\n",
        "In this case, a magnitude 12 measurement with an uncertainty of 0.05 magnitudes would require error bars from 11.95 to 12.05.\n",
        "The uncertainties may be too small to see relative to the marker size you use, in this case, so your data points may be better presented without uncertainties.\n"
      ]
    },
    {
      "cell_type": "code",
      "metadata": {
        "id": "vwXN1DcKWmTC"
      },
      "source": [
        "# Read in your file(s) and plot the light curves"
      ],
      "execution_count": null,
      "outputs": []
    },
    {
      "cell_type": "markdown",
      "metadata": {
        "id": "b9Bodj8IYANQ"
      },
      "source": [
        "The period of the star is the time it takes to complete one cycle, from maximum to maximu, or minimum to minimum.\n",
        "\n",
        "Did your star complete one full period during this time frame?"
      ]
    },
    {
      "cell_type": "code",
      "metadata": {
        "id": "rEEHkuxoX_rD"
      },
      "source": [
        "# A comment is sufficient here"
      ],
      "execution_count": null,
      "outputs": []
    },
    {
      "cell_type": "markdown",
      "metadata": {
        "id": "FYY2moihYKgz"
      },
      "source": [
        "What is the period of the star? You may need to expand the time range you are using to do this. These stars typically have periods between 80 - 2000 days."
      ]
    },
    {
      "cell_type": "code",
      "metadata": {
        "id": "fcFn2JvVYoH5"
      },
      "source": [
        "# Comment here if it is convenient"
      ],
      "execution_count": null,
      "outputs": []
    }
  ]
}