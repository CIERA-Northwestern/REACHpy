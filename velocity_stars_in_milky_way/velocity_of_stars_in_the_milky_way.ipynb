{
  "nbformat": 4,
  "nbformat_minor": 0,
  "metadata": {
    "colab": {
      "name": "velocity_of_stars_in_the_milky_way.ipynb",
      "provenance": [],
      "collapsed_sections": [],
      "toc_visible": true,
      "authorship_tag": "ABX9TyMjrsEejseThil0oYxNWn6M"
    },
    "kernelspec": {
      "name": "python3",
      "display_name": "Python 3"
    }
  },
  "cells": [
    {
      "cell_type": "markdown",
      "metadata": {
        "id": "1-2CHSExhy0x",
        "colab_type": "text"
      },
      "source": [
        "# Calculating the velocity of stars in the Milky Way\n",
        "---\n",
        "<div>Michael C. Stroh</br>\n",
        "michael.stroh@northwestern.edu</br>\n",
        "Center for Interdisciplinary Exploration and Research in Astrophysics</br>\n",
        "Northwestern University</br>\n",
        "2020\n",
        "</div>\n",
        "\n",
        "---\n",
        "\n"
      ]
    },
    {
      "cell_type": "markdown",
      "metadata": {
        "id": "UHLrCy_zTA0k",
        "colab_type": "text"
      },
      "source": [
        "# Viewing the Milky Way\n",
        "\n",
        "We live in a barred spiral galaxy, the Milky Way. Below is an artist's concept of the Milky Way if one were able to look down upon it.\n",
        "\n",
        "<img src='https://github.com/mcstroh/python-tutorials/blob/master/velocity_stars_in_milky_way/images/ssc2008-10a.png?raw=true' alt=\"Artist's concept of the Milky Way\" width=\"500\" />\n",
        "\n",
        "We cannot take an image of the Milky Way because we live within it, in one of the spiral arms. Thus it is important to view the Milky Way in alternative ways in order to understand its structure.\n",
        "\n",
        "To begin, we can build upon concepts that are more commonly used in other aspects of our lives. To begin with, let us review the common way we view the surface of the Earth.\n",
        "\n",
        "![Longitude-latitude diagram view of the Earth](https://github.com/mcstroh/python-tutorials/blob/master/velocity_stars_in_milky_way/images/earth_l_b_comparison.png?raw=true)\n",
        "\n",
        "We can view our galaxy, the Milky Way, in a similar manner. Below is an image of carbon-oxygen clouds in the Milky Way using a similar Longitude-Latitude coordinate system.\n",
        "\n",
        "![Longitude-latitude diagram of the Milky Way](https://github.com/mcstroh/python-tutorials/blob/master/velocity_stars_in_milky_way/images/dame_l_b_simplified.png?raw=true)\n",
        "\n",
        "This isn't particularly useful because the Milky Way looks pretty flat because most of the clouds reside in a very thin disk.\n",
        "As an alternative, we can replace latitude with something else. \n",
        "Below, we show a similar diagram where someone has plotted velocity of the clouds along the y-axis.\n",
        "\n",
        "![Longitude-velocity diagram of the Milky Way](https://github.com/mcstroh/python-tutorials/blob/master/velocity_stars_in_milky_way/images/dame_l_v_simplified.png?raw=true)"
      ]
    },
    {
      "cell_type": "markdown",
      "metadata": {
        "id": "3TeRh9kaiFWl",
        "colab_type": "text"
      },
      "source": [
        "# The Doppler effect\n",
        "\n",
        "We often think of light as a wave, described by a wavelength (the distance between nearby peaks), or a frequency (how often peaks are detected).\n",
        "If the star is stationary, the peaks of the wave will be detected at regular intervals as demonstrated in the Wikipedia image below (think of the circles as representing separate peaks of the wave moving away from the star):\n",
        "\n",
        "![Sound emitted by a stationary source](https://upload.wikimedia.org/wikipedia/commons/e/e3/Dopplereffectstationary.gif)\n",
        "\n",
        "However, if the star is moving, an observer will measure a difference in the detected light.\n",
        "\n",
        "![Sound emitted by a moving source](https://upload.wikimedia.org/wikipedia/commons/c/c9/Dopplereffectsourcemovingrightatmach0.7.gif)\n",
        "\n",
        "If the star is moving away from you, the peaks will be much further apart (redshifting). \n",
        "\n",
        "*   If a star is moving **away from you**, the peaks will be much further apart. This is referred to as **redshifting** because red light has a longer wavelength (higher frequency) than blue light.\n",
        "*   If a star is moving **towards you**, the peaks will be much closer together. This is referred to as **blueshifting** because blue light has a shorter wavelength (lower frequency) than red light.\n",
        "\n",
        "\n",
        "Therefore, if we know what the frequency of light **should be**, we can calculate the velocity of a star by measuring the frequency that we observe. In particular, we can find the velocity using:\n",
        "\n",
        "$v = \\bigg(1 - \\frac{f_{observed}}{f_{stationary}} \\bigg)c$\n",
        "\n",
        "In this equation, \n",
        "*    v is the velocity,\n",
        "*    $f_{observed}$ is the frequency measured by the observer,\n",
        "*    $f_{stationary}$ is the frequency when the star is stationary, and\n",
        "*    c is the speed of light (approximately $3 \\times 10^5$ km/s, or $6.706 \\times 10^8$ miles/hour).\n"
      ]
    },
    {
      "cell_type": "markdown",
      "metadata": {
        "id": "5n8Iota9Mkwf",
        "colab_type": "text"
      },
      "source": [
        "##Regarding units\n",
        "Frequency is often measured in units of hertz (Hz), which indicates how many peaks arrive per second. \n",
        "In this notebook we will commonly use units of GHz which are $10^9$ Hz. \n",
        "Thus if observing light at 43 GHz, the wave of light peaks $43\\times10^{9}$ times per second.\n",
        "\n",
        "Since the frequencies are in a fraction, their units will cancel out. So the units you use for the speed of light, will be the units of velocity at the end."
      ]
    },
    {
      "cell_type": "markdown",
      "metadata": {
        "id": "AWjdTvOyOCv-",
        "colab_type": "text"
      },
      "source": [
        "## Important note going forward\n",
        "When working through this project, it's OK to run into problems and struggle.\n",
        "Make notes of what hurdles you are running into.\n",
        "If you get stuck, write down what you know, and what you think you need to move forward."
      ]
    },
    {
      "cell_type": "markdown",
      "metadata": {
        "id": "dk4Vqtw5iZ2X",
        "colab_type": "text"
      },
      "source": [
        "#Section 1: Downloading and plotting a spectrum\n",
        "\n",
        "Download all five spectral files by running the cell below.\n"
      ]
    },
    {
      "cell_type": "code",
      "metadata": {
        "id": "yMyM5NRjjaHp",
        "colab_type": "code",
        "colab": {}
      },
      "source": [
        "!wget https://raw.githubusercontent.com/mcstroh/python-tutorials/master/velocity_stars_in_milky_way/spectra/ad3a-16952.txt\n",
        "!wget https://raw.githubusercontent.com/mcstroh/python-tutorials/master/velocity_stars_in_milky_way/spectra/ad3a-16500.txt\n",
        "!wget https://raw.githubusercontent.com/mcstroh/python-tutorials/master/velocity_stars_in_milky_way/spectra/ad3a-17123.txt\n",
        "!wget https://raw.githubusercontent.com/mcstroh/python-tutorials/master/velocity_stars_in_milky_way/spectra/ad3a-17332.txt\n",
        "!wget https://raw.githubusercontent.com/mcstroh/python-tutorials/master/velocity_stars_in_milky_way/spectra/ad3a-18081.txt\n"
      ],
      "execution_count": 0,
      "outputs": []
    },
    {
      "cell_type": "markdown",
      "metadata": {
        "id": "O36an91Tjal-",
        "colab_type": "text"
      },
      "source": [
        "It's always useful to plot the data to get a sense of what you're dealing with. Write code to plot the spectrum with flux (Jy) as the y-axis, and frequency (GHz) along the x-axis.\n",
        "The flux is a measurement of how strong the spectrum is.\n",
        "\n",
        "The files are formatted similar to the table below but with more than 4000 lines:\n",
        "><p align='right'>Frequency (GHz)</p> |    <p align='right'>Flux (Jy)</p>\n",
        "> --- | ---\n",
        ">     <p align='right'>$42.3048852$</p> |   <p align='right'>$-0.0112890$</p>\n",
        ">     <p align='right'>$42.3051352$</p> |   <p align='right'>$ 0.0055765$</p>\n",
        ">     <p align='right'>$42.3053852$</p> |   <p align='right'>$-0.0218999$</p>\n",
        ">     <p align='right'>$42.3056352$</p> |   <p align='right'>$ 0.0051897$</p>\n",
        ">     <p align='right'>$42.3058852$</p> |   <p align='right'>$-0.0139943$</p>\n",
        "\n",
        "\n",
        "\n",
        "I include an example of a spectrum to give you an idea of what you're looking for. But you may have fewer peaks in your figure.\n",
        "\n",
        "<img src='https://github.com/mcstroh/python-tutorials/blob/master/velocity_stars_in_milky_way/images/ce3a-00250.png?raw=true' alt=\"VLA radio spectrum from ce3a-00250\" />\n",
        "\n",
        "You have the freedom to customize how your figure looks. \n",
        "Above all, make sure you're happy with your figure.\n",
        "\n"
      ]
    },
    {
      "cell_type": "code",
      "metadata": {
        "id": "8LK11lNwhnSg",
        "colab_type": "code",
        "colab": {}
      },
      "source": [
        ""
      ],
      "execution_count": 0,
      "outputs": []
    },
    {
      "cell_type": "markdown",
      "metadata": {
        "id": "XdyU2h_qhwAX",
        "colab_type": "text"
      },
      "source": [
        "# Section 2: Creating your own line detection function"
      ]
    },
    {
      "cell_type": "markdown",
      "metadata": {
        "id": "EHQCpjM4qp7V",
        "colab_type": "text"
      },
      "source": [
        "Calculate the average flux of the spectrum. The numpy \"mean\" function (https://numpy.org/doc/stable/reference/generated/numpy.mean.html) may be useful."
      ]
    },
    {
      "cell_type": "code",
      "metadata": {
        "id": "sqQ31SKymAGR",
        "colab_type": "code",
        "colab": {}
      },
      "source": [
        ""
      ],
      "execution_count": 0,
      "outputs": []
    },
    {
      "cell_type": "markdown",
      "metadata": {
        "id": "VHwkMhsHSpeL",
        "colab_type": "text"
      },
      "source": [
        "Now calculate the standard deviation of the flux in the spectrum. This gives an estimate of how wiggly the spectrum is. You can use the numpy \"std\" function (https://numpy.org/doc/stable/reference/generated/numpy.std.html) "
      ]
    },
    {
      "cell_type": "code",
      "metadata": {
        "id": "8hHnd3YOppUO",
        "colab_type": "code",
        "colab": {}
      },
      "source": [
        ""
      ],
      "execution_count": 0,
      "outputs": []
    },
    {
      "cell_type": "markdown",
      "metadata": {
        "id": "N-zMEXrI8XN1",
        "colab_type": "text"
      },
      "source": [
        "Astronomers often use the following formula to find spectral lines:\n",
        "\n",
        "$D =~$average$~+~5~\\times~$standard deviation\n",
        "\n",
        "For a line to be detected, it must be brighter than this value.\n",
        "Anything below this value is considered to be noise.\n",
        "\n",
        "Using this formula, how bright must a line be in order for it to be detected?"
      ]
    },
    {
      "cell_type": "code",
      "metadata": {
        "id": "jcGlKXDs8zNx",
        "colab_type": "code",
        "colab": {}
      },
      "source": [
        ""
      ],
      "execution_count": 0,
      "outputs": []
    },
    {
      "cell_type": "markdown",
      "metadata": {
        "id": "7zM2-tEzScAN",
        "colab_type": "text"
      },
      "source": [
        "Create a **function** to find the frequency and flux of the peak of any line found in the spectrum you downloaded. You may want to use some of the previous steps, but are not required to do so!\n",
        "\n",
        "If your file has multiple detected lines as shown in the plot you made above, first focus on finding one line."
      ]
    },
    {
      "cell_type": "code",
      "metadata": {
        "id": "iwL2ccXYoBkx",
        "colab_type": "code",
        "colab": {}
      },
      "source": [
        "def my_line_finder(frequency, flux):\n",
        "\n",
        "    # Find peak - the values below are placeholders\n",
        "    peak_frequency = None\n",
        "    peak_flux = None\n",
        "\n",
        "    # Send this information back\n",
        "    return peak_frequency, peak_flux\n",
        "\n",
        "#\n",
        "# The code below is included so that you can focus on the function above.\n",
        "#\n",
        "\n",
        "# Now use the function you created\n",
        "peak_frequency, peak_flux = my_line_finder(frequency, flux)\n",
        "\n",
        "# Print the output\n",
        "print(f\"A spectral line was found at {peak_frequency} GHz, which has a peak flux of {peak_flux} Jy.\")"
      ],
      "execution_count": 0,
      "outputs": []
    },
    {
      "cell_type": "markdown",
      "metadata": {
        "id": "G9P1yMDaohbZ",
        "colab_type": "text"
      },
      "source": [
        "\n",
        "\n",
        "># (Optional) Section 2.1: Finding all spectral lines"
      ]
    },
    {
      "cell_type": "markdown",
      "metadata": {
        "id": "tUw8LxaUo65T",
        "colab_type": "text"
      },
      "source": [
        "\n",
        "If your file has multiple lines, you can try creating another version of your function that finds *all* spectral lines!\n",
        "\n"
      ]
    },
    {
      "cell_type": "code",
      "metadata": {
        "id": "fZEd4OMTq7Df",
        "colab_type": "code",
        "colab": {}
      },
      "source": [
        ""
      ],
      "execution_count": 0,
      "outputs": []
    },
    {
      "cell_type": "markdown",
      "metadata": {
        "id": "CqPhcHN4pU1k",
        "colab_type": "text"
      },
      "source": [
        "# Section 3: Calculating the velocity of the star\n"
      ]
    },
    {
      "cell_type": "markdown",
      "metadata": {
        "id": "kfttYumZ4J5Z",
        "colab_type": "text"
      },
      "source": [
        "\n",
        "Recall from the Doppler effect section that we can find the velocity if we compare the detected frequency to the frequency that the line would be if the star were stationary.\n",
        "Below is a table of possible frequencies for the lines in this sample.\n",
        "Which line is closest in frequency to the line you found in Section 2?\n",
        "\n",
        "\n",
        "> <p align='right'>#</p>|    <p align='right'>Frequency (GHz)</p>\n",
        "> --- | ---\n",
        ">  <p align='right'>$1$</p>   | <p align='right'>$42.373341$</p>\n",
        ">  <p align='right'>$2$</p>   | <p align='right'>$42.519375$</p>\n",
        ">  <p align='right'>$3$</p>   | <p align='right'>$42.583827$</p>\n",
        ">  <p align='right'>$4$</p>   | <p align='right'>$42.820570$</p>\n",
        ">  <p align='right'>$5$</p>   | <p align='right'>$42.879941$</p>\n",
        ">  <p align='right'>$6$</p>   | <p align='right'>$43.122090$</p>\n",
        ">  <p align='right'>$7$</p>   | <p align='right'>$43.423853$</p>\n"
      ]
    },
    {
      "cell_type": "code",
      "metadata": {
        "id": "ObHg215sKCtj",
        "colab_type": "code",
        "colab": {}
      },
      "source": [
        "# Note the line number and frequency, no coding necessary unless you want to."
      ],
      "execution_count": 0,
      "outputs": []
    },
    {
      "cell_type": "markdown",
      "metadata": {
        "id": "5-XqEkH2KCKh",
        "colab_type": "text"
      },
      "source": [
        "Using the following equation to find the velocity of the star using the frequency you found above.\n",
        "This is the same equation we introduced in the Doppler effect section above.\n",
        "\n",
        "$v = \\bigg(1 - \\frac{f_{observed}}{f_{stationary}} \\bigg)c$\n",
        "\n",
        "In this equation \n",
        "*    v is the velocity,\n",
        "*    $f_{observed}$ is the frequency measured by the observer,\n",
        "*    $f_{stationary}$ is the frequency when the star is stationary, and\n",
        "*    c is the speed of light (approximately $3 \\times 10^5$ km/s, or $6.706 \\times 10^8$ miles/hour).\n"
      ]
    },
    {
      "cell_type": "code",
      "metadata": {
        "id": "A05LlrllKkzP",
        "colab_type": "code",
        "colab": {}
      },
      "source": [
        ""
      ],
      "execution_count": 0,
      "outputs": []
    },
    {
      "cell_type": "markdown",
      "metadata": {
        "id": "GsCZQodqKlm3",
        "colab_type": "text"
      },
      "source": [
        "A positive velocity means the star is moving away from you, and a negative velocity means the star is moving towards you.\n",
        "\n",
        "Is the star moving towards or away from you?"
      ]
    },
    {
      "cell_type": "code",
      "metadata": {
        "id": "_9wI3EKBKl8_",
        "colab_type": "code",
        "colab": {}
      },
      "source": [
        ""
      ],
      "execution_count": 0,
      "outputs": []
    },
    {
      "cell_type": "markdown",
      "metadata": {
        "id": "3dTW_avToxoM",
        "colab_type": "text"
      },
      "source": [
        "# (Optional) Section 4: Running your code on multiple stars"
      ]
    },
    {
      "cell_type": "markdown",
      "metadata": {
        "id": "qOz89x4r4oeE",
        "colab_type": "text"
      },
      "source": [
        "Calculate the velocity of all of the stars using all five files you downloaded at the start.\n",
        "It may be useful to use a loop.\n",
        "Make notes of problems that you run into.\n",
        "This isn't a simple task!"
      ]
    },
    {
      "cell_type": "code",
      "metadata": {
        "id": "aQUBLPQ45XRL",
        "colab_type": "code",
        "colab": {}
      },
      "source": [
        ""
      ],
      "execution_count": 0,
      "outputs": []
    }
  ]
}